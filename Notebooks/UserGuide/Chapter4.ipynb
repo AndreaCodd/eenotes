{
 "cells": [
  {
   "cell_type": "markdown",
   "id": "d03f46de-644d-46e8-a70b-6bb0784b2aae",
   "metadata": {},
   "source": [
    "# Linear PDE solver"
   ]
  },
  {
   "cell_type": "code",
   "execution_count": null,
   "id": "41b590ae-34f1-466e-915e-661ad67d6554",
   "metadata": {},
   "outputs": [],
   "source": []
  }
 ],
 "metadata": {
  "kernelspec": {
   "display_name": "Python 3",
   "language": "python",
   "name": "python3"
  },
  "language_info": {
   "codemirror_mode": {
    "name": "ipython",
    "version": 3
   },
   "file_extension": ".py",
   "mimetype": "text/x-python",
   "name": "python",
   "nbconvert_exporter": "python",
   "pygments_lexer": "ipython3",
   "version": "3.9.2"
  }
 },
 "nbformat": 4,
 "nbformat_minor": 5
}
