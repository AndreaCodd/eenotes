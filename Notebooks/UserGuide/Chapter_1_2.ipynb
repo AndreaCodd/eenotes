{
 "cells": [
  {
   "cell_type": "markdown",
   "id": "4c76fb25-b3cd-454a-a65d-40a1ac75b717",
   "metadata": {},
   "source": [
    "# The Diffusion Problem\n",
    "This notebook is an introduction to solving a time-dependent temperature diffusion PDE for a given block of material.  Within the block there is a heat source which drives temperature diffusion. On the surface, energy can radiate into the surrounding environment.\n",
    "<figure>\n",
    "    <center>\n",
    "    <img src=\"figures/Helmholtz.png\", width=\"400\">\n",
    "    </center>\n",
    "    <center>\n",
    "    <caption>The domain $\\Omega=[0,l0]\\times[0,l1]=\\{ (x_0;x_1)~|~0\\le x_{0} \\le l0 \\mbox{ and } 0\\le x_{1} \\le l1 \\}$ for temperature diffusion problem  with heat source.\n",
    "        </caption></center>\n",
    " </figure>\n",
    "The solution method includes a time integration scheme, the ackward Euler method, and at each step a boundary value problem, the Helmholtz equation, is solved.\n"
   ]
  },
  {
   "cell_type": "markdown",
   "id": "9027496b-1803-4c12-8f1e-477bffa4b55e",
   "metadata": {},
   "source": [
    "## Temperature diffusion equations\n",
    "The unknown temperature $T$ is a function of its location in the domain and time $t>0$. The governing equation in the interior of the domain is given by\n",
    "\\begin{equation}\n",
    "\\rho c_p \\frac{\\partial T}{\\partial t} - \\nabla\\cdot(\\kappa \\nabla T) = q_H\n",
    " \\tag{1}\n",
    "\\end{equation}\n",
    "where $\\rho c_p$ and $\\kappa$ are given material constants. In case of a composite material parameters depend on their location in the domain.\n",
    "$q_H$ is a heat source (or sink) within the domain.  We assume $q_H$ to be equal to a constant heat production rate $q^{c}$ on a circle or sphere with center $x^c$ and radius $r$, and $0$ elsewhere:\n",
    "\\begin{equation}\n",
    "q_H(x,t)=\\left\\{ \n",
    "\\begin{array}{l l}\n",
    "    q^c  & \\quad\\text{if $\\|x-x^c\\| \\le r$}\\\\\n",
    "    0    & \\quad\\text{else}\\\\\n",
    "\\end{array} \\right.\n",
    "\\tag{2}\n",
    "\\end{equation}\n",
    "for all $x$ in the domain and time $t>0$.\n",
    "\n",
    "On the boundary of the domain we specify a radiation condition which prescribes the normal component of the flux $\\kappa \\nabla T$ to be proportional to the difference of the current temperature to the surrounding temperature $T_{ref}$:\n",
    "\\begin{equation}\n",
    "\\mathbf{n}\\cdot (\\kappa \\nabla T) = \\eta (T_{ref}-T) \n",
    "\\tag{3}\n",
    "\\end{equation}\n",
    "$\\eta$ is a given material coefficient depending on the material of the block and the surrounding medium.\n",
    "$\\mathbf{n}$ is the outward normal at the boundary of the domain. "
   ]
  },
  {
   "cell_type": "markdown",
   "id": "d423f571-8633-44be-a4e7-f6ed26cc164c",
   "metadata": {},
   "source": [
    "## Backward Euler\n",
    "Let $T^{(n)}$ be the temperature at time $t^{(n)}$.  To solve the time-dependent (1), an initial temperature at time $t^{(0)}=0$ has to be given.  For this problem, it is assumed that the initial temperature is the surrounding temperature:\n",
    "\\begin{equation}\n",
    "T^{(0)}=T_{ref} \n",
    "\\tag{4}\n",
    "\\end{equation}\n",
    "for all $x$ in the domain. Note that the initial conditions satisfy the boundary condition defined by (3). The temperature is calculated at discrete time nodes $t^{(n)}$, with $t^{(n)}=t^{(n-1)}+h$, where $h>0$ is the step size, assumed to be constant in this example.  \n",
    "\n",
    "The simplest and most robust scheme to approximate the time derivative of the temperature is the backward Euler scheme.  It is based on the Taylor expansion of $T$ at time $t^{(n)}$:\n",
    "\\begin{equation}\n",
    "\\frac{\\partial T}{\\partial t}^{(n)}\\approx\\frac{T^{(n)}-T^{(n-1)}}{h}\n",
    "\\tag{5}\n",
    "\\end{equation}\n",
    "Substituting (5) into (1) and rearranging with unknowns on the left and knowns on the right, the time evolution of the temperature is given by\n",
    "\n",
    "\\begin{equation}\n",
    "- \\nabla\\cdot(\\kappa \\nabla T^{(n)}) +\\omega T^{(n)}  = q_H +  \\omega T^{(n-1)}\n",
    "\\tag{6}\n",
    "\\end{equation}\n",
    "with \n",
    "\\begin{equation}\n",
    "\\omega=\\frac{\\rho c_p}{h}.\n",
    "\\tag{7}\n",
    "\\end{equation}\n",
    "\n",
    "Together with the natural boundary condition \n",
    "\\begin{equation}\n",
    " \\mathbf{n}\\cdot (\\kappa \\nabla T^{(n)}) + \\eta T^{(n)}= \\eta T_{ref} \n",
    "\\tag{8}\n",
    "\\end{equation}\n",
    "taken from (3).  This forms a boundary value problem, the Helmholtz problem, that has to be solved for each time step. "
   ]
  },
  {
   "cell_type": "markdown",
   "id": "70eac275-092b-469c-bea9-1366d68ca468",
   "metadata": {},
   "source": [
    "## Solving The Helmholtz problem\n",
    "### Step 1. Define the domain.\n",
    "The function **Rectangle** from *esys-finley* is used to define the domain.  The rectangle used for this example has bottom left corner at $(0,0)$ and top right corner $(5,1)$ with 50 elements in the $x_0$ direction and and 10 elements in the $x_1$ direction.  The commands for creating the domain are   "
   ]
  },
  {
   "cell_type": "code",
   "execution_count": 1,
   "id": "3edc65a1-8c1a-42ea-acf3-af6d8c86ee14",
   "metadata": {},
   "outputs": [],
   "source": [
    "from esys.finley import Rectangle\n",
    "mydomain = Rectangle(l0=5., l1=1., n0=50, n1=10)"
   ]
  },
  {
   "cell_type": "markdown",
   "id": "d4be187c-ef01-4a36-bbf2-0a940dd929a2",
   "metadata": {},
   "source": [
    "### Step 2.  Define the PDE and boundary conditions, solve, and output\n",
    "The PDE is defined using the [**LinearPDE**](LINK) class. This is just a simple example and more details on the class can be found in [**LinearPDE**](LINK). Undefined coefficients in the LinearPDE class are assumed to not be present.  The format of the PDE for the Helmholtz case is \n",
    "\\begin{equation}\n",
    "-\\nabla\\cdot(\\mathbf{A}\\nabla u) + Du = Y \n",
    "\\tag{9}\n",
    "\\end{equation}\n",
    "\n",
    "\n",
    "\n",
    "For a 2D single PDE, $\\mathbf{A}$ is a $2\\times 2$, rank 2 Data object.  For the Helmholtz case,\n",
    "\\begin{equation}\n",
    "\\mathbf{A}=\\begin{pmatrix}\\kappa & 0\\\\ 0 & \\kappa\\end{pmatrix} \n",
    "\\end{equation}\n",
    "$\\mathbf{A}$ is symmetric and setting this in the implementation as part of the LinearPDE class.\n",
    "\n",
    "The other coefficients are scalars,\n",
    "\\begin{equation}\n",
    "D = \\omega = \\frac{\\rho c_p}{h}\\quad \\mbox{and}\\quad Y = f = q_H +\\omega T^{(n-1)}\n",
    "\\end{equation}\n",
    "\n",
    "For the boundary conditions, the linear single PDE format is \n",
    "\\begin{equation}\n",
    "\\mathbf{n}\\cdot (\\mathbf{A}\\nabla u) +du = y\n",
    "\\end{equation}\n",
    "with $\\mathbf{A}$ from (9).  The additional coefficients are\n",
    "\\begin{equation}\n",
    "d=\\eta \\quad\\mbox{and}\\quad y= \\eta T_{ref}\n",
    "\\end{equation}\n",
    "\n",
    "To define coefficient $\\mathbf{A}$, we use the *esys-escript* **kronecker** function, \n",
    "\\begin{equation}\n",
    "\\delta_{ij}=\\left\\{ \n",
    "\\begin{array}{l l}\n",
    "    1  & \\quad\\text{if } i=j\\\\\n",
    "    0    & \\quad\\text{otherwise}\\\\\n",
    "\\end{array} \\right.\n",
    "\\end{equation}"
   ]
  },
  {
   "cell_type": "code",
   "execution_count": 2,
   "id": "21e36def-0bee-46c4-92d4-a618201813fc",
   "metadata": {},
   "outputs": [
    {
     "name": "stdout",
     "output_type": "stream",
     "text": [
      "kronecker(2)=\n",
      " [[1. 0.]\n",
      " [0. 1.]]\n"
     ]
    }
   ],
   "source": [
    "from esys.escript import kronecker\n",
    "print(\"kronecker(2)=\\n\",kronecker(2))"
   ]
  },
  {
   "cell_type": "markdown",
   "id": "f404996f-7594-43eb-ba3b-f11e3b032773",
   "metadata": {},
   "source": [
    "The outward normal on the domain is required to apply the boundary conditions. This is a property of the **Domain**class."
   ]
  },
  {
   "cell_type": "code",
   "execution_count": 3,
   "id": "3e49934f-b957-41d3-b9f3-bb522e4c047a",
   "metadata": {},
   "outputs": [],
   "source": [
    "n=mydomain.getNormal()"
   ]
  },
  {
   "cell_type": "markdown",
   "id": "62a0456f-6b68-40ed-ad67-d62fb0b5855c",
   "metadata": {},
   "source": [
    "To test the implementation, we solve the Helmholtz equation on a rectangular domain of length $l_{0}=5$ and height $l_{1}=1$.  We choose a simple test solution such that we can verify the returned solution against the exact answer. For this we assume $T=x_{0}$ (with\n",
    "$q_H = 0$) and then calculate right hand side terms $\\omega T^{(n-1)}$ and $\\eta T_{ref}$ such that the test solution becomes the solution of the problem. If we assume $\\kappa$ is constant, an easy calculation shows that we have to choose $\\omega T^{(n-1)}=\\omega x_{0}$.\n",
    "On the boundary we get $\\eta T_{ref} = \\kappa n_0+\\eta x_0$.  The result is displayed using matplotlib, but could easily be exported as a silo or vtu file."
   ]
  },
  {
   "cell_type": "code",
   "execution_count": 28,
   "id": "f3cca541-92b7-4faa-a5d1-a033e47f3051",
   "metadata": {},
   "outputs": [
    {
     "name": "stdout",
     "output_type": "stream",
     "text": [
      "error is  4.2238301745101126e-09\n"
     ]
    },
    {
     "data": {
      "image/png": "[encoded data removed]",
      "text/plain": [
       "<Figure size 500x100 with 1 Axes>"
      ]
     },
     "metadata": {},
     "output_type": "display_data"
    }
   ],
   "source": [
    "from esys.escript import *\n",
    "from esys.escript.linearPDEs import LinearPDE\n",
    "from esys.finley import Rectangle\n",
    "from scipy.interpolate import griddata\n",
    "import numpy as np\n",
    "from matplotlib import pyplot as plt\n",
    "\n",
    "# set some parameters\n",
    "kappa = 1.\n",
    "omega = 0.1\n",
    "eta = 10.\n",
    "\n",
    "# generate domain\n",
    "mydomain = Rectangle(l0=5., l1=1., n0=50, n1=10)\n",
    "\n",
    "# open PDE and set coefficients\n",
    "mypde = LinearPDE(mydomain)\n",
    "mypde.setSymmetryOn()\n",
    "n = mydomain.getNormal()\n",
    "x = mydomain.getX()\n",
    "oldT = x[0]\n",
    "mypde.setValue(A=kappa*kronecker(mydomain), D=omega, Y=omega*oldT)\n",
    "# Boundary conditions\n",
    "mypde.setValue(d=eta, y=kappa*n[0]+eta*oldT)\n",
    "# calculate error of the PDE solution\n",
    "newT = mypde.getSolution()\n",
    "print(\"error is \",Lsup(newT-x[0]))\n",
    "\n",
    "# plotting \n",
    "\n",
    "# interpolate to grid and plot\n",
    "x_grid = np.linspace(0., 5., 51, endpoint=True)\n",
    "y_grid = np.linspace(0., 1., 11, endpoint=True)\n",
    "x=mydomain.getX()[0].toListOfTuples()\n",
    "y=mydomain.getX()[1].toListOfTuples()\n",
    "z = interpolate(newT, mydomain.getX().getFunctionSpace())\n",
    "newTt = newT.toListOfTuples()\n",
    "newTt_grid = griddata((x,y),newTt,(x_grid[None,:],y_grid[:,None]),'linear')\n",
    "plt.figure(figsize = (5,1))\n",
    "plt.contourf(x_grid, y_grid, newTt_grid, 20)\n",
    "\n",
    "#plt.axis('equal')\n",
    "plt.show()"
   ]
  },
  {
   "cell_type": "markdown",
   "id": "9fba9b6d-b55e-4645-a226-05306bb31781",
   "metadata": {},
   "source": [
    "The function **Lsup** is imported **from esys.escript import*** statement and returns the maximum absolute value of its argument.  The error shown by the print statement should be in the order of $10^{-7}$.  As piecewise bi-linear interpolation is used by *finley* to approximate the solution, and our solution is a linear function of the spatial coordinates, one might expect that the error would be zero or in the order of machine precision (typically $\\approx 10^{-15}$).  However most PDE packages use an iterative solver which is terminated when a\n",
    "given tolerance has been reached. The default tolerance is $10^{-8}$. This value can be altered by using the **setTolerance** method of the\n",
    "**LinearPDE** class."
   ]
  },
  {
   "cell_type": "markdown",
   "id": "544398e7-b747-40aa-aab5-f54ff1706875",
   "metadata": {},
   "source": [
    "# Solving the time-dependent problem\n",
    "The first part of the program is to \n",
    "- specify the initial temperature $T_{ref}$\n",
    "- define the **LinearPDE** object *mypde* and the coefficients that don't change over time\n",
    "- set up values for the constants \n",
    "- define the heat source\n",
    "- define the time step\n"
   ]
  },
  {
   "cell_type": "markdown",
   "id": "32535192-a640-445d-9f4b-c7061e36d424",
   "metadata": {},
   "source": [
    "The heat source $q_H$, defined in (2), is $qc$ in an area defined as a circle of radius $r$ and centre $xc$, and zero outside this circle. $q0$ is a fixed constant.  To define the circle, we use two *esys-escript* functions, **length** and **whereNegative**  as well as the **Domain** function **getX()**.  The following script defines $q_H$:"
   ]
  },
  {
   "cell_type": "code",
   "execution_count": 7,
   "id": "b9785f98-80f4-4c9c-8f65-afe66d0a24bb",
   "metadata": {},
   "outputs": [],
   "source": [
    "from esys.escript import length,whereNegative\n",
    "xc=[0.02, 0.002]\n",
    "r=0.001\n",
    "q0=10.\n",
    "x=mydomain.getX()\n",
    "qH=q0*whereNegative(length(x-xc)-r)"
   ]
  },
  {
   "cell_type": "markdown",
   "id": "c717513a-9fe5-4160-b9d8-4664f85b124a",
   "metadata": {},
   "source": [
    "x is an **esys.escript.Data** object containing locations in the **Domain** mydomain. The **length()** function (also from the *esys.escript* module returns the Euclidean norm:\n",
    "\\begin{equation}\n",
    "\\|y\\|=\\sqrt{\n",
    "y\\cdot y} = \\textbf{esys.escript.length}(y)\n",
    "\\end{equation}\n",
    "\n",
    "So **length**(x-xc) calculates the distances of the location x to the center of the circle xc, where the heat source is acting.  The coordinates of xc are defined as a list of floating point numbers.  It is automatically converted into a \\Data class object before being\n",
    "subtracted from x.  The function **whereNegative** applied to **length**((x-xc)-r) returns a **Data** object equal to one where the object is negative inside the circle and zero elsewhere.  After multiplication with qc we get a function with the desired property of having value qc inside the circle and zero elsewhere."
   ]
  },
  {
   "cell_type": "markdown",
   "id": "a510db53-2e65-4a91-b309-aea96e477122",
   "metadata": {},
   "source": [
    "The second part of the program is the loop over time $t$.  In each time step only the coefficient $Y$ is reset as it depends on the temperature of the previous time step. This allows the PDE solver to reuse information from previous time steps as much as possible.\n",
    "\n",
    "The complete program is "
   ]
  },
  {
   "cell_type": "code",
   "execution_count": 34,
   "id": "73dcead8-86a9-4de1-9fa0-a40c3cadf012",
   "metadata": {},
   "outputs": [
    {
     "name": "stdout",
     "output_type": "stream",
     "text": [
      "time step: 0.1  Temperature range  Summary: inf=9.41904e-06 sup=0.202922 data points=12801\n",
      "time step: 0.2  Temperature range  Summary: inf=6.09394e-05 sup=0.275036 data points=12801\n",
      "time step: 0.3  Temperature range  Summary: inf=0.000215708 sup=0.319501 data points=12801\n",
      "time step: 0.4  Temperature range  Summary: inf=0.000555782 sup=0.352749 data points=12801\n",
      "time step: 0.5  Temperature range  Summary: inf=0.00116958 sup=0.380144 data points=12801\n",
      "time step: 0.6  Temperature range  Summary: inf=0.00213793 sup=0.404021 data points=12801\n",
      "time step: 0.7  Temperature range  Summary: inf=0.00352511 sup=0.42556 data points=12801\n",
      "time step: 0.8  Temperature range  Summary: inf=0.00537524 sup=0.445423 data points=12801\n",
      "time step: 0.9  Temperature range  Summary: inf=0.00771284 sup=0.464018 data points=12801\n",
      "time step: 1.0  Temperature range  Summary: inf=0.0105457 sup=0.481614 data points=12801\n"
     ]
    },
    {
     "data": {
      "image/png": "[encoded data removed]",
      "text/plain": [
       "<Figure size 500x100 with 1 Axes>"
      ]
     },
     "metadata": {},
     "output_type": "display_data"
    },
    {
     "name": "stdout",
     "output_type": "stream",
     "text": [
      "time step: 1.1  Temperature range  Summary: inf=0.0138683 sup=0.498401 data points=12801\n",
      "time step: 1.2  Temperature range  Summary: inf=0.017666 sup=0.514519 data points=12801\n",
      "time step: 1.3  Temperature range  Summary: inf=0.0219174 sup=0.530076 data points=12801\n",
      "time step: 1.4  Temperature range  Summary: inf=0.0265973 sup=0.545157 data points=12801\n",
      "time step: 1.5  Temperature range  Summary: inf=0.0316788 sup=0.559832 data points=12801\n",
      "time step: 1.6  Temperature range  Summary: inf=0.037134 sup=0.574155 data points=12801\n",
      "time step: 1.7  Temperature range  Summary: inf=0.0429358 sup=0.588175 data points=12801\n",
      "time step: 1.8  Temperature range  Summary: inf=0.0490577 sup=0.601929 data points=12801\n",
      "time step: 1.9  Temperature range  Summary: inf=0.0554749 sup=0.615451 data points=12801\n",
      "time step: 2.0  Temperature range  Summary: inf=0.0621641 sup=0.628768 data points=12801\n"
     ]
    },
    {
     "data": {
      "image/png": "[encoded data removed]",
      "text/plain": [
       "<Figure size 500x100 with 1 Axes>"
      ]
     },
     "metadata": {},
     "output_type": "display_data"
    },
    {
     "name": "stdout",
     "output_type": "stream",
     "text": [
      "time step: 2.1  Temperature range  Summary: inf=0.0691036 sup=0.641904 data points=12801\n",
      "time step: 2.2  Temperature range  Summary: inf=0.0762735 sup=0.654879 data points=12801\n",
      "time step: 2.3  Temperature range  Summary: inf=0.0836557 sup=0.66771 data points=12801\n",
      "time step: 2.4  Temperature range  Summary: inf=0.0912334 sup=0.680413 data points=12801\n",
      "time step: 2.5  Temperature range  Summary: inf=0.0989916 sup=0.693 data points=12801\n",
      "time step: 2.6  Temperature range  Summary: inf=0.106916 sup=0.705484 data points=12801\n",
      "time step: 2.7  Temperature range  Summary: inf=0.114995 sup=0.717872 data points=12801\n",
      "time step: 2.8  Temperature range  Summary: inf=0.123217 sup=0.730175 data points=12801\n",
      "time step: 2.9  Temperature range  Summary: inf=0.131571 sup=0.742399 data points=12801\n",
      "time step: 3.0  Temperature range  Summary: inf=0.140048 sup=0.754552 data points=12801\n"
     ]
    },
    {
     "data": {
      "image/png": "[encoded data removed]",
      "text/plain": [
       "<Figure size 500x100 with 1 Axes>"
      ]
     },
     "metadata": {},
     "output_type": "display_data"
    },
    {
     "name": "stdout",
     "output_type": "stream",
     "text": [
      "time step: 3.1  Temperature range  Summary: inf=0.14864 sup=0.766639 data points=12801\n",
      "time step: 3.2  Temperature range  Summary: inf=0.157339 sup=0.778665 data points=12801\n",
      "time step: 3.3  Temperature range  Summary: inf=0.166137 sup=0.790634 data points=12801\n",
      "time step: 3.4  Temperature range  Summary: inf=0.175029 sup=0.802552 data points=12801\n",
      "time step: 3.5  Temperature range  Summary: inf=0.184008 sup=0.81442 data points=12801\n",
      "time step: 3.6  Temperature range  Summary: inf=0.193069 sup=0.826243 data points=12801\n",
      "time step: 3.7  Temperature range  Summary: inf=0.202207 sup=0.838024 data points=12801\n",
      "time step: 3.8  Temperature range  Summary: inf=0.211418 sup=0.849764 data points=12801\n",
      "time step: 3.9  Temperature range  Summary: inf=0.220697 sup=0.861467 data points=12801\n",
      "time step: 4.0  Temperature range  Summary: inf=0.23004 sup=0.873134 data points=12801\n"
     ]
    },
    {
     "data": {
      "image/png": "[encoded data removed]",
      "text/plain": [
       "<Figure size 500x100 with 1 Axes>"
      ]
     },
     "metadata": {},
     "output_type": "display_data"
    },
    {
     "name": "stdout",
     "output_type": "stream",
     "text": [
      "time step: 4.1  Temperature range  Summary: inf=0.239444 sup=0.884767 data points=12801\n",
      "time step: 4.2  Temperature range  Summary: inf=0.248905 sup=0.896368 data points=12801\n",
      "time step: 4.3  Temperature range  Summary: inf=0.258421 sup=0.907938 data points=12801\n",
      "time step: 4.4  Temperature range  Summary: inf=0.267988 sup=0.919479 data points=12801\n",
      "time step: 4.5  Temperature range  Summary: inf=0.277604 sup=0.930992 data points=12801\n",
      "time step: 4.6  Temperature range  Summary: inf=0.287266 sup=0.942478 data points=12801\n",
      "time step: 4.7  Temperature range  Summary: inf=0.296972 sup=0.953939 data points=12801\n",
      "time step: 4.8  Temperature range  Summary: inf=0.306719 sup=0.965375 data points=12801\n",
      "time step: 4.9  Temperature range  Summary: inf=0.316505 sup=0.976786 data points=12801\n",
      "time step: 5.0  Temperature range  Summary: inf=0.32633 sup=0.988175 data points=12801\n"
     ]
    },
    {
     "data": {
      "image/png": "[encoded data removed]",
      "text/plain": [
       "<Figure size 500x100 with 1 Axes>"
      ]
     },
     "metadata": {},
     "output_type": "display_data"
    },
    {
     "name": "stdout",
     "output_type": "stream",
     "text": [
      "time step: 5.1  Temperature range  Summary: inf=0.336189 sup=0.999542 data points=12801\n"
     ]
    }
   ],
   "source": [
    "from esys.escript import *\n",
    "from esys.escript.linearPDEs import LinearPDE\n",
    "from esys.finley import Rectangle\n",
    "from scipy.interpolate import griddata\n",
    "import numpy as np\n",
    "from matplotlib import pyplot as plt\n",
    "\n",
    "#... set some parameters ...\n",
    "xc = [0.02, 0.002]         # centre of heat source\n",
    "r = 0.001                  # radius of heat source\n",
    "qc = 50.e6                 # strength of heat source\n",
    "Tref = 0.                  # initial temperature\n",
    "rhocp = 2.6e6              \n",
    "eta = 75.\n",
    "kappa = 240.               \n",
    "tend = 5.                  # final time\n",
    "\n",
    "# ... time, time step size and counter ...\n",
    "t = 0.\n",
    "h = 0.1\n",
    "i = 0\n",
    "\n",
    "#... generate domain ...\n",
    "mydomain = Rectangle(l0=0.05, l1=0.01, n0=250, n1=50)\n",
    "\n",
    "#... open PDE ...\n",
    "mypde = LinearPDE(mydomain)\n",
    "mypde.setSymmetryOn()\n",
    "mypde.setValue(A=kappa*kronecker(mydomain), D=rhocp/h)\n",
    "mypde.setValue(d=eta, y=eta*Tref)\n",
    "\n",
    "# ... set heat source: ....\n",
    "xy = mydomain.getX()\n",
    "qH = qc*whereNegative(length(xy-xc)-r)\n",
    "\n",
    "# ... set initial temperature ....\n",
    "T=Tref\n",
    "\n",
    "# gridding information for matplotlib\n",
    "x_grid = np.linspace(0., 0.05, 51, endpoint=True)\n",
    "y_grid = np.linspace(0., 0.01, 11, endpoint=True)\n",
    "xt = xy[0].toListOfTuples()\n",
    "yt = xy[1].toListOfTuples()\n",
    "\n",
    "# ... start iteration:\n",
    "while t<tend:\n",
    "    i += 1\n",
    "    t += h\n",
    "    \n",
    "    mypde.setValue(Y=qH+rhocp/h*T)\n",
    "    T = mypde.getSolution()\n",
    "    print(\"time step:\",round(t,2), \" Temperature range \",T)\n",
    "    if i%10 ==0: \n",
    "        z = interpolate(T, xy.getFunctionSpace())\n",
    "        #print(z)\n",
    "        Tt = z.toListOfTuples()\n",
    "        Tt_grid = griddata((xp,yp),Tt,(x_grid[None,:],y_grid[:,None]),'linear')\n",
    "        plt.figure(figsize = (5,1))\n",
    "        plt.contourf(x_grid, y_grid, Tt_grid, 20,vmin=0., vmax=1.)\n",
    "        plt.show()\n"
   ]
  },
  {
   "cell_type": "code",
   "execution_count": null,
   "id": "25fca3b8-0ddb-44dc-a8aa-833e60a5ad37",
   "metadata": {},
   "outputs": [],
   "source": []
  }
 ],
 "metadata": {
  "kernelspec": {
   "display_name": "Python 3 (ipykernel)",
   "language": "python",
   "name": "python3"
  },
  "language_info": {
   "codemirror_mode": {
    "name": "ipython",
    "version": 3
   },
   "file_extension": ".py",
   "mimetype": "text/x-python",
   "name": "python",
   "nbconvert_exporter": "python",
   "pygments_lexer": "ipython3",
   "version": "3.9.12"
  }
 },
 "nbformat": 4,
 "nbformat_minor": 5
}
