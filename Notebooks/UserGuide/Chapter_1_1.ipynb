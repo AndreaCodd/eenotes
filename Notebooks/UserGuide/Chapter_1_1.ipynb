{
 "cells": [
  {
   "cell_type": "markdown",
   "id": "80f437c5-e2f6-402a-aa09-aa310e4993a6",
   "metadata": {
    "tags": []
   },
   "source": [
    "# Solving PDEs\n",
    "This notebook is an introduction on how to use *esys-escript* to solve partial differential equations.  Scripts for *esys-escript* are written in *python*. \n",
    "There are many online resources for help with *python*, including [The Python Tutorial](https://docs.python.org/3/tutorial/index.html).  \n",
    "\n",
    "## Poisson's equation on a unit square  \n",
    "<figure>\n",
    "    <center>\n",
    "    <img src=\"figures/PoissonDomain2.png\", width=\"400\">\n",
    "    </center>\n",
    "    <center>\n",
    "    <caption>The domain $\\Omega=[0,1]^2=\\{ (x_0;x_1)~|~0\\le x_{0} \\le 1 \\mbox{ and } 0\\le x_{1} \\le 1 \\}$ and boundaries, Dirichlet (red) and Neumann (black).\n",
    "        </caption></center>\n",
    " </figure>\n",
    "\n",
    "\n",
    "Solve\n",
    "\\begin{equation}\n",
    "   \\frac{\\partial^2 u}{\\partial x_0^2} \n",
    "    + \\frac{\\partial^2 u}{\\partial  x_1^2}=f \n",
    "    \\tag{1}\n",
    "\\end{equation}\n",
    "for $u$, where $f$ is the given right hand side with Neumann boundary conditions on the top and left boundaries as marked \n",
    "\\begin{equation}\n",
    "  \\frac{\\partial u}{\\partial n} = 0, \\mbox { for } x_0=1 \\mbox { or } x_1 = 1\n",
    "\\end{equation}\n",
    "and zero Dirichlet boundary conditions on the bottom and left boundaries\n",
    "\\begin{equation}\n",
    "   u = 0, \\mbox { for } x_0=0 \\mbox { or } x_1 = 0.\n",
    "\\end{equation}\n",
    "\n",
    "This PDE with boundary conditions is a boundary value problem (BVP) for unknown $u$.  In general, BVPs cannot be solved analytically and numerical methods are used to construct an approximation of the solution $u$. *esys-escript* uses the finite element method (FEM).  There are many resources available to give more detail on the FEM including [Zienkiewicz](https://www.sciencedirect.com/book/9781856176330/the-finite-element-method-its-basis-and-fundamentals).  If *esys-escript* is installed on the computer, it can be run interactively in a terminal with the command **run-escript** and the following commands can be copied into the terminal.  It is more efficient to run *esys-escript* as a python script than interactively."
   ]
  },
  {
   "cell_type": "markdown",
   "id": "1df0a77c-4067-40dd-8bae-5abe913cb6ef",
   "metadata": {},
   "source": [
    "There are 4 steps:\n",
    "1. Define the domain.\n",
    "2. Define the PDE and boundary conditions.\n",
    "3. Solve the PDE.\n",
    "4. Output the results through visualisation and/or values."
   ]
  },
  {
   "cell_type": "markdown",
   "id": "8c992eaa-6911-49a0-9dec-c1e340a7b3f3",
   "metadata": {},
   "source": [
    "### Step 1. Define the domain.\n",
    "In the **Domain** class, objects are used to describe the geometry of a domain and information about the discretization and solver methods. The simplest 2D domain can be created using *esys-finley* function Rectangle. For more complicated domains, [gmsh](https://gitlab.onelab.info/gmsh/gmsh) can be used as well as [pygmsh](https://github.com/meshpro/pygmsh), see [simple examples](ADD). \n",
    "\n",
    "Functions used by the scripts are imported.  The first line of code below imports Rectangle from *esys-finley*.\n",
    "\n",
    "Function **Rectangle** assumes that the bottom left corner coordinate is $(0,0)$ and has four inputs: l0, l1, n0, and n1.  The top right corner of the domain is given by (l0, l1) and n0 and n1 are the number of elements in the $x_0$ and $x_1$ directions respectively.  In this example the top right corner is (1,1) and there are 40 elements horizontally and 20 elements vertically.   "
   ]
  },
  {
   "cell_type": "code",
   "execution_count": 199,
   "id": "12b7c1a1-5963-4742-b93d-009750cfaa9a",
   "metadata": {},
   "outputs": [],
   "source": [
    "from esys.finley import Rectangle\n",
    "mydomain = Rectangle(l0=1.,l1=1.,n0=40, n1=20)"
   ]
  },
  {
   "cell_type": "markdown",
   "id": "f4d8a1e9-00d6-49d8-b80a-e4700943f756",
   "metadata": {},
   "source": [
    "### Step 2.  Define the PDE and boundary conditions"
   ]
  },
  {
   "cell_type": "markdown",
   "id": "d049c75e-56ce-409e-892f-e61ad0e97f78",
   "metadata": {},
   "source": [
    "In *esys-escript*, the easiest way to define this pde is using the **Poisson** class. A more general way to define PDEs is with the [LinearPDE class](http://localhost:8888/lab/tree/eenotes/Notebooks/UserGuide/Chapter4.ipynb).  The **Poisson** class is imported, the pde is defined on the domain, and the right hand side value f is assigned with **setValue()**."
   ]
  },
  {
   "cell_type": "code",
   "execution_count": 200,
   "id": "91eddf1b-d8f0-401f-bb98-39e204a62a1d",
   "metadata": {},
   "outputs": [],
   "source": [
    "from esys.escript.linearPDEs import Poisson \n",
    "mypde = Poisson(mydomain)\n",
    "mypde.setValue(f=1)"
   ]
  },
  {
   "cell_type": "markdown",
   "id": "771e6d37-e005-4438-991c-de37ce1e457f",
   "metadata": {},
   "source": [
    "The **Poisson** class implicitly assumes homogeneous Neuman boundary conditions, $\\frac{\\partial u}{\\partial n} = 0$ on all boundaries. With just this boundary condition, there is no unique solution.  If $u$ is a solution, then $u+C$, where $C$ is a constant, is also a solution. The Dirichlet boundary condition needs to be added. Dirichlet boundaries are imposed by defining a function that is positive where the Dirichlet boundary condition is to be imposed and is zero everywhere else.  For this example, we need to define a function that is positive when $x_0=0$ and $x_1=0$.  **Domain** function **getX()** is used to create an object that contains the coordinates of the finite element nodes in the mesh:"
   ]
  },
  {
   "cell_type": "code",
   "execution_count": 201,
   "id": "8d08973f-0001-48c2-a276-3b46432be8bf",
   "metadata": {},
   "outputs": [],
   "source": [
    "x = mydomain.getX()"
   ]
  },
  {
   "cell_type": "markdown",
   "id": "bc897aa3-bddc-47be-9335-c36ac82c5251",
   "metadata": {},
   "source": [
    "Object x is a [Data object](ADD_LINK) and has a **Rank** (number of dimensions) and **Shape** (list of dimensions) that can be viewed by calling the methods **getRank()** and **getShape()**:"
   ]
  },
  {
   "cell_type": "code",
   "execution_count": 202,
   "id": "cf7a0c00-78d0-43dc-b4f9-8c3196f424ba",
   "metadata": {},
   "outputs": [
    {
     "name": "stdout",
     "output_type": "stream",
     "text": [
      "rank  1 \n",
      "shape  (2,)\n"
     ]
    }
   ],
   "source": [
    "print(\"rank \",x.getRank(),\"\\nshape \",x.getShape())"
   ]
  },
  {
   "cell_type": "markdown",
   "id": "36ea3392-1089-44a8-8af1-f2db775e0d55",
   "metadata": {},
   "source": [
    "This means that x is a vector with two components.  The **Data** object also maintains type information represented by the [FunctionSpace](http://localhost:8888/lab/tree/eenotes/Notebooks/cookbook/Chapter_2.ipynb) of the object. Values can be stored on the finite element nodes or within the finite elements at numerical integration (quadrature) points or at one point within the elements.  There are also funcpaces for the boundaries of the domain. "
   ]
  },
  {
   "cell_type": "code",
   "execution_count": 203,
   "id": "6e5b30a1-aca8-495e-bd24-58623cae2a6b",
   "metadata": {},
   "outputs": [
    {
     "name": "stdout",
     "output_type": "stream",
     "text": [
      "function space  Finley_Nodes [ContinuousFunction(domain)] on FinleyMesh\n"
     ]
    }
   ],
   "source": [
    "print(\"function space \",x.getFunctionSpace())"
   ]
  },
  {
   "cell_type": "markdown",
   "id": "420449f6-238f-45a0-8c6c-957785b3b712",
   "metadata": {},
   "source": [
    "The coordinates are stored on the nodes of (rather than on points in the interior of) a Finley mesh.  To get the  $x_{0}$ coordinates of the locations we use the statement "
   ]
  },
  {
   "cell_type": "code",
   "execution_count": 204,
   "id": "9f0eaaae-f1d7-4429-bc09-8c768e4ac09e",
   "metadata": {},
   "outputs": [],
   "source": [
    "x0=x[0]"
   ]
  },
  {
   "cell_type": "markdown",
   "id": "763f14dc-3e46-4352-ad85-b040f8e15bd0",
   "metadata": {},
   "source": [
    "Object x0 is a **Data** object with Rank $0$ and Shape $()$.  It inherits the FunctionSpace from x."
   ]
  },
  {
   "cell_type": "code",
   "execution_count": 205,
   "id": "d55f8b5c-5b12-4887-81d6-7dc9beee623b",
   "metadata": {},
   "outputs": [
    {
     "name": "stdout",
     "output_type": "stream",
     "text": [
      "rank  0 \n",
      "shape  () \n",
      "function space  Finley_Nodes [ContinuousFunction(domain)] on FinleyMesh\n"
     ]
    }
   ],
   "source": [
    "print(\"rank \",x0.getRank(),\"\\nshape \", x0.getShape(), \"\\nfunction space \", x0.getFunctionSpace())"
   ]
  },
  {
   "cell_type": "markdown",
   "id": "45ada378-2311-4d15-87de-9cc267b2370f",
   "metadata": {},
   "source": [
    "To impose the boundary conditions, it is necessary to define a function that is positive only on the Dirichlet boundaries and is zero everywhere else.  The **whereZero()** function is used.  "
   ]
  },
  {
   "cell_type": "code",
   "execution_count": 206,
   "id": "4633d126-8b05-4117-82c1-1bf0e0f8a89e",
   "metadata": {},
   "outputs": [],
   "source": [
    "from esys.escript import whereZero\n",
    "gammaD = whereZero(x[0]) + whereZero(x[1])"
   ]
  },
  {
   "cell_type": "markdown",
   "id": "141df7df-7ba0-4c3f-9c75-fc5eab164253",
   "metadata": {},
   "source": [
    "whereZero(x$[$0$]$) creates a function which equals $1$ where x$[$0$]$ is (almost) equal to zero and $0$ elsewhere.  Similarly, whereZero(x$[$1$]$) creates a function which equals $1$ where x$[$1$]$ is equal to zero and $0$ elsewhere.  The sum of the results of whereZero(x$[$0$]$) and whereZero(x$[$1$]$) gives a function on mydomain that is srictly positive where x$[$0$]$ or x$[$1$]$ is equal to zero.  Note that gammaD has the same Rank, Shape and FunctionSpace as x$[$0$]$ and x$[$1$]$ used to define it: "
   ]
  },
  {
   "cell_type": "code",
   "execution_count": 207,
   "id": "fdfb7b24-39c2-41c2-848d-9c85421160f9",
   "metadata": {},
   "outputs": [
    {
     "name": "stdout",
     "output_type": "stream",
     "text": [
      "rank  0 \n",
      "shape  () \n",
      "function space Finley_Nodes [ContinuousFunction(domain)] on FinleyMesh\n"
     ]
    }
   ],
   "source": [
    "print(\"rank \",gammaD.getRank(), \"\\nshape \", gammaD.getShape(),\"\\nfunction space\", gammaD.getFunctionSpace())"
   ]
  },
  {
   "cell_type": "markdown",
   "id": "4afa24b4-d4f9-4fc8-be26-4d31e7d5b974",
   "metadata": {},
   "source": [
    "The Dirichlet boundary condition is imposed by using the **setValue()** method of the Poisson class.  Parameter q of the Poisson class defines the characteristic function of the locations of the domain where the homogeneous Dirichlet boundary condition is set. "
   ]
  },
  {
   "cell_type": "code",
   "execution_count": 208,
   "id": "9c3b2c41-7572-4cd2-b378-f08bffd9aa96",
   "metadata": {},
   "outputs": [],
   "source": [
    "mypde.setValue(q=gammaD)"
   ]
  },
  {
   "cell_type": "markdown",
   "id": "f9ba30cf-4ef6-4ae8-a262-ba42ed01977b",
   "metadata": {},
   "source": [
    "### Step 3.  Solve the PDE"
   ]
  },
  {
   "cell_type": "markdown",
   "id": "a9d45c8d-d31e-411b-88b0-91de5d59411f",
   "metadata": {},
   "source": [
    "To get the solution of the PDE, the getSolution methid is called "
   ]
  },
  {
   "cell_type": "code",
   "execution_count": 209,
   "id": "ad0e4c69-9873-4326-b355-55ea64709753",
   "metadata": {},
   "outputs": [],
   "source": [
    "u = mypde.getSolution()"
   ]
  },
  {
   "cell_type": "markdown",
   "id": "10d8a0b7-9c94-45bb-b1db-4d11e5e61812",
   "metadata": {},
   "source": [
    "### Step 4. Output the results through visualisation and/or values."
   ]
  },
  {
   "cell_type": "markdown",
   "id": "5bceb118-0bcc-41ef-aa45-5cf780c46a32",
   "metadata": {
    "tags": []
   },
   "source": [
    "#### Visualisation\n",
    "*esys-escript* offers two ways to visualise the data, both based on external modules or packages. The first option uses the [matplotlib](https://matplotlib.org/) module which allows plotting of 2D results relatively quickly from within the *python* script.  However, there are limitations when using this tool, especially for large problems and when solving three-dimensional problems. Therefore, *esys-escript* provides functionality to export data as files that can subsequently be read by third-party software packages such as [mayavi](https://docs.enthought.com/mayavi/mayavi/) or [VisIt](https://wci.llnl.gov/simulation/computer-codes/visit).\n"
   ]
  },
  {
   "cell_type": "markdown",
   "id": "7679be3b-7576-4eaf-8985-f13a906a2795",
   "metadata": {},
   "source": [
    "The **matplotlib** module provides a simple and easy-to-use way to visualize PDE solutions (or other \\Data objects). To hand over data from *esys-escript* to matplotlib, the values need to be mapped onto a rectangular grid. We will make use of the [numpy](https://numpy.org/) module for this.\n",
    "\n",
    "First we need to create a rectangular grid which is accomplished by the following statements:\n"
   ]
  },
  {
   "cell_type": "code",
   "execution_count": 210,
   "id": "9351572c-d378-4c5f-9ebd-840065e88ce8",
   "metadata": {},
   "outputs": [],
   "source": [
    "import numpy as np\n",
    "x_grid = np.linspace(0., 1., 51, endpoint=True)\n",
    "y_grid = np.linspace(0., 1., 51, endpoint=True)"
   ]
  },
  {
   "cell_type": "markdown",
   "id": "e212fe4c-44e7-4b62-bfc8-0a84dd4416f1",
   "metadata": {},
   "source": [
    "x_grid and y_grid are arrays of 51 equally spaced values over the interval $[0,1]$.  The values created by *esys-escript* need to be interpolated to this grid. We use the [scipy](https://scipy.org/) function **interpolate.griddata** to do this.  Spatial coordinates are easily extracted as a list."
   ]
  },
  {
   "cell_type": "code",
   "execution_count": 211,
   "id": "d96ea9ca-45d2-41ab-85ca-5fbe01d21dcd",
   "metadata": {},
   "outputs": [],
   "source": [
    "x=mydomain.getX()[0].toListOfTuples()\n",
    "y=mydomain.getX()[1].toListOfTuples()"
   ]
  },
  {
   "cell_type": "markdown",
   "id": "a5ecfb73-255d-4d30-a983-1a6de5f73dd9",
   "metadata": {},
   "source": [
    "In principle we can apply the same **toListOfTuples** method to extract the values from the PDE solution u.  However, we have to make sure that the **Data** object we extract the values from uses the same **FunctionSpace** as we have used when extracting x and y.  The Function space for u is the Solution space, not the ContinuousFunction space. "
   ]
  },
  {
   "cell_type": "code",
   "execution_count": 212,
   "id": "711cbfed-eea7-453e-8fe1-4b3625b9ba0f",
   "metadata": {},
   "outputs": [
    {
     "name": "stdout",
     "output_type": "stream",
     "text": [
      "rank  0 \n",
      "shape  () \n",
      "function space  Finley_DegreesOfFreedom [Solution(domain)] on FinleyMesh\n"
     ]
    }
   ],
   "source": [
    "print(\"rank \", u.getRank(), \"\\nshape \", u.getShape(), \"\\nfunction space \", u.getFunctionSpace())"
   ]
  },
  {
   "cell_type": "markdown",
   "id": "d0e1b607-ea16-4047-b0bf-5a5a97330c21",
   "metadata": {},
   "source": [
    "We interpolate u from the Solution space to the ContinuousFunction space and create a list for the solution values."
   ]
  },
  {
   "cell_type": "code",
   "execution_count": 213,
   "id": "6f2cd86b-c43d-4aeb-bc1f-ac99b67effc8",
   "metadata": {},
   "outputs": [],
   "source": [
    "z = interpolate(u, mydomain.getX().getFunctionSpace())\n",
    "zt = z.toListOfTuples()"
   ]
  },
  {
   "cell_type": "markdown",
   "id": "6aa536bc-bf78-4832-af8e-1a7220178f34",
   "metadata": {},
   "source": [
    "The values in zt are the values at the points with the coordinates given by x and y. "
   ]
  },
  {
   "cell_type": "markdown",
   "id": "caf5f311-e17c-4045-ad8b-15b80e902eb1",
   "metadata": {},
   "source": [
    " These values are interpolated to the grid defined by x_grid and y_grid by using [scipy](https://scipy.org/) griddata function."
   ]
  },
  {
   "cell_type": "code",
   "execution_count": 193,
   "id": "f70d4c8b-e736-46e2-9fe3-91361ff0ead4",
   "metadata": {},
   "outputs": [],
   "source": [
    "from scipy.interpolate import griddata\n",
    "z_grid = griddata((x,y),zt,(x_grid[None,:],y_grid[:,None]),'linear')"
   ]
  },
  {
   "cell_type": "markdown",
   "id": "b06935c0-e782-4ed3-aff5-3663b4273b9e",
   "metadata": {},
   "source": [
    "Now z_grid gives the values of the PDE solution u at the grid which can be plotted using **contourf**"
   ]
  },
  {
   "cell_type": "code",
   "execution_count": 194,
   "id": "1791523a-5c5b-41d8-867d-a8f6096c37b5",
   "metadata": {},
   "outputs": [
    {
     "data": {
      "image/png": "[encoded data removed]",
      "text/plain": [
       "<Figure size 640x480 with 1 Axes>"
      ]
     },
     "metadata": {},
     "output_type": "display_data"
    }
   ],
   "source": [
    "from matplotlib import pyplot as plt\n",
    "plt.contourf(x_grid, y_grid, z_grid, 5)\n",
    "plt.show()"
   ]
  },
  {
   "cell_type": "code",
   "execution_count": null,
   "id": "2bccc240-e792-4b08-99b4-d99bad3ae1aa",
   "metadata": {},
   "outputs": [],
   "source": [
    "The complete script for this example is :"
   ]
  },
  {
   "cell_type": "code",
   "execution_count": 215,
   "id": "e8d2cc8a-d60b-43c8-a79d-901bf53e14f2",
   "metadata": {},
   "outputs": [
    {
     "data": {
      "image/png": "[encoded data removed]",
      "text/plain": [
       "<Figure size 640x480 with 1 Axes>"
      ]
     },
     "metadata": {},
     "output_type": "display_data"
    }
   ],
   "source": [
    "from esys.escript import *\n",
    "from esys.escript.linearPDEs import Poisson\n",
    "from esys.finley import Rectangle\n",
    "from scipy.interpolate import griddata\n",
    "import numpy as np\n",
    "from matplotlib import pyplot as plt\n",
    "\n",
    "# generate domain:\n",
    "mydomain = Rectangle(l0=1.,l1=1.,n0=40, n1=20)\n",
    "\n",
    "# define characteristic function of GammaD\n",
    "x = mydomain.getX()\n",
    "gammaD = whereZero(x[0])+whereZero(x[1])\n",
    "\n",
    "# define PDE and get its solution u\n",
    "mypde = Poisson(domain=mydomain)\n",
    "mypde.setValue(f=1,q=gammaD)\n",
    "u = mypde.getSolution()\n",
    "\n",
    "# interpolate to grid and plot\n",
    "x_grid = np.linspace(0., 1., 51, endpoint=True)\n",
    "y_grid = np.linspace(0., 1., 51, endpoint=True)\n",
    "x=mydomain.getX()[0].toListOfTuples()\n",
    "y=mydomain.getX()[1].toListOfTuples()\n",
    "z = interpolate(u, mydomain.getX().getFunctionSpace())\n",
    "zt = z.toListOfTuples()\n",
    "z_grid = griddata((x,y),zt,(x_grid[None,:],y_grid[:,None]),'linear')\n",
    "plt.contourf(x_grid, y_grid, z_grid, 5)\n",
    "plt.show()"
   ]
  },
  {
   "cell_type": "markdown",
   "id": "4268561b-0d80-4d7c-82e3-3f0f8f3f9731",
   "metadata": {},
   "source": [
    "To run the code in the *esys-escript* environment.  The code is in example directory. \n",
    "\n",
    "**run-escript poisson_matplotlib.py**"
   ]
  },
  {
   "cell_type": "markdown",
   "id": "98f1db7c-411d-4f96-87b5-e1979d2adbb1",
   "metadata": {},
   "source": [
    "As pointed out, [matplotlib](https://matplotlib.org/) is restricted to the two-dimensional case and should be used for small problems only. As an alternative *esys-escript* supports exporting data to **VTK** and **SILO** files which can be read by visualization tools such as [mayavi](https://docs.enthought.com/mayavi/mayavi/) or [VisIt](https://wci.llnl.gov/simulation/computer-codes/visit).\\mayavi\\cite{mayavi} and \\VisIt~\\cite{VisIt}. This method is **MPI** safe and works with large 2D and 3D problems.\n",
    "\n",
    "To write the solution u of the Poisson problem in the \\VTK file format to the file \\file{u.vtu} one needs to add:"
   ]
  },
  {
   "cell_type": "code",
   "execution_count": 216,
   "id": "f962f8be-ff63-428c-bef6-f4cdeadc9066",
   "metadata": {},
   "outputs": [],
   "source": [
    "from esys.weipa import saveVTK\n",
    "saveVTK(\"u.vtu\", sol=u)"
   ]
  },
  {
   "cell_type": "markdown",
   "id": "0de37b40-a1b2-48e9-a3b0-1dc3fc925cec",
   "metadata": {},
   "source": [
    "This file can then be opened in a **VTK** compatible visualization tool. Similarly,"
   ]
  },
  {
   "cell_type": "code",
   "execution_count": 217,
   "id": "d5afa924-75dd-4910-bc21-cd3d61087313",
   "metadata": {},
   "outputs": [
    {
     "data": {
      "text/plain": [
       "True"
      ]
     },
     "execution_count": 217,
     "metadata": {},
     "output_type": "execute_result"
    }
   ],
   "source": [
    "from esys.weipa import saveSilo\n",
    "saveSilo(\"u.silo\", sol=u)"
   ]
  },
  {
   "cell_type": "markdown",
   "id": "649c722e-8768-4fc3-ae44-212bf4bbf110",
   "metadata": {},
   "source": [
    "will write u to a **SILO** file if escript was compiled with support for LLNL's **SILO** library.  The complete code is"
   ]
  },
  {
   "cell_type": "code",
   "execution_count": 219,
   "id": "013c62f4-c4e5-4fdc-ab48-a435929d87c5",
   "metadata": {},
   "outputs": [
    {
     "data": {
      "text/plain": [
       "True"
      ]
     },
     "execution_count": 219,
     "metadata": {},
     "output_type": "execute_result"
    }
   ],
   "source": [
    "from esys.escript import *\n",
    "from esys.escript.linearPDEs import Poisson\n",
    "from esys.finley import Rectangle\n",
    "from esys.weipa import saveSilo\n",
    "# generate domain:\n",
    "mydomain = Rectangle(l0=1.,l1=1.,n0=40, n1=20)\n",
    "# define characteristic function of Gamma^D\n",
    "x = mydomain.getX()\n",
    "gammaD = whereZero(x[0])+whereZero(x[1])\n",
    "# define PDE and get its solution u\n",
    "mypde = Poisson(domain=mydomain)\n",
    "mypde.setValue(f=1,q=gammaD)\n",
    "u = mypde.getSolution()\n",
    "# write u to an external file\n",
    "saveSilo(\"u.silo\",sol=u)"
   ]
  }
 ],
 "metadata": {
  "kernelspec": {
   "display_name": "Python 3 (ipykernel)",
   "language": "python",
   "name": "python3"
  },
  "language_info": {
   "codemirror_mode": {
    "name": "ipython",
    "version": 3
   },
   "file_extension": ".py",
   "mimetype": "text/x-python",
   "name": "python",
   "nbconvert_exporter": "python",
   "pygments_lexer": "ipython3",
   "version": "3.9.12"
  }
 },
 "nbformat": 4,
 "nbformat_minor": 5
}
