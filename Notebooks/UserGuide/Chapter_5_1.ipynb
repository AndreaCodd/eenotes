{
 "cells": [
  {
   "cell_type": "markdown",
   "id": "24ba65fb-d897-4b66-8de4-b34232d0d45d",
   "metadata": {},
   "source": [
    "# pygmsh\n",
    "\n",
    "[pygmsh](https://pypi.org/project/pygmsh/) provides a simple way to build a mesh for your finite element simulation. Below is a very brief are simple tutorials for making different shapes and generating the mesh available in a number of places.  You begin by building what we call a **Design** using primitive geometric objects, and then go on to build a mesh from this.  The final step of generating the mesh from a **Design** uses freely available mesh generation software [gmsh](https://gitlab.onelab.info/gmsh/gmsh).  For complicated mesh, tagging, or joining meshes it may be better to directly use [gmsh](https://gitlab.onelab.info/gmsh/gmsh).\n",
    "\n",
    "[pygmsh](https://pypi.org/project/pygmsh/) has ready made shapes."
   ]
  },
  {
   "cell_type": "markdown",
   "id": "89e310a2-b19c-4b35-8c74-1c71cde55a53",
   "metadata": {},
   "source": [
    "## Points"
   ]
  },
  {
   "cell_type": "code",
   "execution_count": 3,
   "id": "ddc2a841-1cb3-4270-a98a-635087b6c925",
   "metadata": {},
   "outputs": [
    {
     "ename": "ModuleNotFoundError",
     "evalue": "No module named 'pygmsh'",
     "output_type": "error",
     "traceback": [
      "\u001b[0;31m---------------------------------------------------------------------------\u001b[0m",
      "\u001b[0;31mModuleNotFoundError\u001b[0m                       Traceback (most recent call last)",
      "Input \u001b[0;32mIn [3]\u001b[0m, in \u001b[0;36m<cell line: 1>\u001b[0;34m()\u001b[0m\n\u001b[0;32m----> 1\u001b[0m \u001b[38;5;28;01mimport\u001b[39;00m \u001b[38;5;21;01mpygmsh\u001b[39;00m\n\u001b[1;32m      2\u001b[0m \u001b[38;5;28;01mwith\u001b[39;00m pygmsh\u001b[38;5;241m.\u001b[39mgeo\u001b[38;5;241m.\u001b[39mGeometry() \u001b[38;5;28;01mas\u001b[39;00m geom:\n\u001b[1;32m      3\u001b[0m     geom\u001b[38;5;241m.\u001b[39madd_point((\u001b[38;5;241m0\u001b[39m,\u001b[38;5;241m0\u001b[39m,\u001b[38;5;241m0\u001b[39m), mesh_size \u001b[38;5;241m=\u001b[39m \u001b[38;5;241m1.\u001b[39m)\n",
      "\u001b[0;31mModuleNotFoundError\u001b[0m: No module named 'pygmsh'"
     ]
    }
   ],
   "source": [
    "import pygmsh\n",
    "with pygmsh.geo.Geometry() as geom:\n",
    "    geom.add_point((0,0,0), mesh_size = 1.)\n",
    "    geom.add_point((10,0,0), mesh_size = 1.)\n",
    "    geom.add_point((10,10,0), mesh_size = 1.)\n",
    "    geom.add_point((0,10,0), mesh_size = 1.)\n",
    "    mesh=geom.generate_mesh()\n",
    "    mesh.write(\"points.vtk\")\n",
    "    pygmsh.write(\"points.msh\")"
   ]
  },
  {
   "cell_type": "markdown",
   "id": "81357bd2-f82c-4b32-b87c-878e1fbfb1db",
   "metadata": {},
   "source": [
    "## The advantage of pygmsh is built in shapes.\n",
    "<figure>\n",
    "    <center>\n",
    "    <img src=\"figures/UnitSquare.png\", width=\"400\">\n",
    "    </center>\n",
    "    <center>\n",
    "    <caption>Unit Square with element size 0.1.\n",
    "        </caption></center>\n",
    " </figure>"
   ]
  },
  {
   "cell_type": "code",
   "execution_count": 2,
   "id": "d48e3049-6002-4f66-b4ac-9166c7faf267",
   "metadata": {},
   "outputs": [
    {
     "ename": "ModuleNotFoundError",
     "evalue": "No module named 'pygmsh'",
     "output_type": "error",
     "traceback": [
      "\u001b[0;31m---------------------------------------------------------------------------\u001b[0m",
      "\u001b[0;31mModuleNotFoundError\u001b[0m                       Traceback (most recent call last)",
      "Input \u001b[0;32mIn [2]\u001b[0m, in \u001b[0;36m<cell line: 1>\u001b[0;34m()\u001b[0m\n\u001b[0;32m----> 1\u001b[0m \u001b[38;5;28;01mimport\u001b[39;00m \u001b[38;5;21;01mpygmsh\u001b[39;00m\n\u001b[1;32m      2\u001b[0m \u001b[38;5;66;03m#from pygmsh.helpers import generate_mesh\u001b[39;00m\n\u001b[1;32m      4\u001b[0m geom \u001b[38;5;241m=\u001b[39m pygmsh\u001b[38;5;241m.\u001b[39mgeo\u001b[38;5;241m.\u001b[39mGeometry()\n",
      "\u001b[0;31mModuleNotFoundError\u001b[0m: No module named 'pygmsh'"
     ]
    }
   ],
   "source": [
    "import pygmsh\n",
    "with pygmsh.geo.Geometry() as geom:\n",
    "    geom.add_polygon(\n",
    "        [\n",
    "            [0.0, 0.0],\n",
    "            [1.0, 0.0],\n",
    "            [1.0, 1.0],\n",
    "            [0.0, 1.0],\n",
    "        ],\n",
    "        mesh_size=0.1,\n",
    "    )\n",
    "    mesh = geom.generate_mesh()\n",
    "    mesh.write(\"unit_square.vtk\")\n",
    "    pygmsh.write(\"unit_square.msh\")"
   ]
  },
  {
   "cell_type": "markdown",
   "id": "b5313159-ad83-4eeb-a9a1-05f717eac9eb",
   "metadata": {},
   "source": [
    "It is also possible to refine the mesh\n",
    "<figure>\n",
    "    <center>\n",
    "    <img src=\"figures/UnitSquareRefined.png\", width=\"400\">\n",
    "    </center>\n",
    "    <center>\n",
    "    <caption>Unit Square with element size 0.1, a refined edge and a refined point.\n",
    "        </caption></center>\n",
    " </figure>"
   ]
  },
  {
   "cell_type": "code",
   "execution_count": 4,
   "id": "ee6f756f-48c3-47cd-ba28-cd03e0362051",
   "metadata": {},
   "outputs": [
    {
     "ename": "ModuleNotFoundError",
     "evalue": "No module named 'pygmsh'",
     "output_type": "error",
     "traceback": [
      "\u001b[0;31m---------------------------------------------------------------------------\u001b[0m",
      "\u001b[0;31mModuleNotFoundError\u001b[0m                       Traceback (most recent call last)",
      "Input \u001b[0;32mIn [4]\u001b[0m, in \u001b[0;36m<cell line: 1>\u001b[0;34m()\u001b[0m\n\u001b[0;32m----> 1\u001b[0m \u001b[38;5;28;01mimport\u001b[39;00m \u001b[38;5;21;01mpygmsh\u001b[39;00m\n\u001b[1;32m      2\u001b[0m \u001b[38;5;124;03m'''\u001b[39;00m\n\u001b[1;32m      3\u001b[0m \u001b[38;5;124;03mwith pygmsh.geo.Geometry() as geom:\u001b[39;00m\n\u001b[1;32m      4\u001b[0m \u001b[38;5;124;03m    p1=geom.add_point((0,0,0), mesh_size = 1.)\u001b[39;00m\n\u001b[0;32m   (...)\u001b[0m\n\u001b[1;32m     11\u001b[0m \u001b[38;5;124;03m    pygmsh.write(\"test_b.msh\")\u001b[39;00m\n\u001b[1;32m     12\u001b[0m \u001b[38;5;124;03m'''\u001b[39;00m\n\u001b[1;32m     15\u001b[0m \u001b[38;5;28;01mwith\u001b[39;00m pygmsh\u001b[38;5;241m.\u001b[39mgeo\u001b[38;5;241m.\u001b[39mGeometry() \u001b[38;5;28;01mas\u001b[39;00m geom:\n",
      "\u001b[0;31mModuleNotFoundError\u001b[0m: No module named 'pygmsh'"
     ]
    }
   ],
   "source": [
    "import pygmsh\n",
    "'''\n",
    "with pygmsh.geo.Geometry() as geom:\n",
    "    p1=geom.add_point((0,0,0), mesh_size = 1.)\n",
    "    p2=geom.add_point((10,0,0), mesh_size = 1.)\n",
    "    p3=geom.add_point((10,10,0), mesh_size = 1.)\n",
    "    p4=geom.add_point((0,10,0), mesh_size = 1.)\n",
    "    s1 = geom.add_line([p1, p2])\n",
    "    mesh=geom.generate_mesh()\n",
    "    mesh.write(\"test_b.vtk\")\n",
    "    pygmsh.write(\"test_b.msh\")\n",
    "'''\n",
    "\n",
    "\n",
    "with pygmsh.geo.Geometry() as geom:\n",
    "    Usqr = geom.add_polygon(\n",
    "        [\n",
    "            [0.0, 0.0],\n",
    "            [1.0, 0.0],\n",
    "            [1.0, 1.0],\n",
    "            [0.0, 1.0],\n",
    "        ],\n",
    "        mesh_size=0.1,\n",
    "    )\n",
    "    field0 = geom.add_boundary_layer(\n",
    "        edges_list=[Usqr.curves[0]],\n",
    "        lcmin=0.01,\n",
    "        lcmax=0.1,\n",
    "        distmin=0.0,\n",
    "        distmax=0.3,\n",
    "    )\n",
    "    field1 = geom.add_boundary_layer(\n",
    "        nodes_list=[Usqr.points[2]],\n",
    "        lcmin=0.005,\n",
    "        lcmax=0.1,\n",
    "        distmin=0.4,\n",
    "        distmax=0.5,\n",
    "    )\n",
    "    geom.set_background_mesh([field0, field1], operator=\"Min\")\n",
    " \n",
    "    mesh = geom.generate_mesh()\n",
    "    mesh.write(\"test_b.vtk\")\n",
    "    pygmsh.write(\"test_b.msh\")"
   ]
  },
  {
   "cell_type": "code",
   "execution_count": null,
   "id": "3942ffbb-0df4-45e7-a074-9d1b2b0108df",
   "metadata": {},
   "outputs": [],
   "source": []
  },
  {
   "cell_type": "markdown",
   "id": "9ae3b605-e759-44bb-a131-eee02fe9b55e",
   "metadata": {},
   "source": [
    "## Two attached 2D domains\n",
    "<figure>\n",
    "    <center>\n",
    "    <img src=\"figures/SquareRectangle.png\", width=\"400\">\n",
    "    </center>\n",
    "    <center>\n",
    "    <caption>Unit Square with element size 0.1, a refined edge and a refined point, and attached Rectangle.\n",
    "        </caption></center>\n",
    " </figure>"
   ]
  },
  {
   "cell_type": "code",
   "execution_count": null,
   "id": "4dbd494b-3daf-4b50-9d5e-310affbff897",
   "metadata": {},
   "outputs": [],
   "source": [
    "import pygmsh\n",
    "\n",
    "with pygmsh.geo.Geometry() as geom:\n",
    "    Usqr = geom.add_polygon(\n",
    "        [\n",
    "            [0.0, 0.0],\n",
    "            [1.0, 0.0],\n",
    "            [1.0, 1.0],\n",
    "            [0.0, 1.0],\n",
    "        ],\n",
    "        mesh_size=0.1,\n",
    "    )\n",
    "    field0 = geom.add_boundary_layer(\n",
    "        edges_list=[Usqr.curves[0]],\n",
    "        lcmin=0.01,\n",
    "        lcmax=0.1,\n",
    "        distmin=0.0,\n",
    "        distmax=0.3,\n",
    "    )\n",
    "    field1 = geom.add_boundary_layer(\n",
    "        nodes_list=[Usqr.points[2]],\n",
    "        lcmin=0.005,\n",
    "        lcmax=0.1,\n",
    "        distmin=0.4,\n",
    "        distmax=0.5,\n",
    "    )\n",
    "    geom.set_background_mesh([field0, field1], operator=\"Min\")\n",
    "    Usqr2 = geom.add_polygon(\n",
    "        [\n",
    "            [1.0, 0.0],\n",
    "            [1.5, 0.0],\n",
    "            [1.5, 1.0],\n",
    "            [1.0, 1.0],\n",
    "        ],\n",
    "        mesh_size=0.1,\n",
    "    )\n",
    "    geom.set_background_mesh([field0, field1], operator=\"Min\") \n",
    "    mesh = geom.generate_mesh()\n",
    "    mesh.write(\"test_b.vtk\")\n",
    "    pygmsh.write(\"test_b.msh\")"
   ]
  },
  {
   "cell_type": "code",
   "execution_count": null,
   "id": "0ebd1d47-23ed-4807-bd76-c47b1533fcaf",
   "metadata": {},
   "outputs": [],
   "source": [
    "# pygmsh cube"
   ]
  },
  {
   "cell_type": "code",
   "execution_count": null,
   "id": "8623bc39-3024-44a7-a694-a01c3aba66d3",
   "metadata": {},
   "outputs": [],
   "source": []
  },
  {
   "cell_type": "markdown",
   "id": "02eaa54b-c293-4cf4-9c5d-c9fa581fa5f3",
   "metadata": {},
   "source": [
    "# Maybe it is just better to use gmsh because pygmsh is really annoying and it currently is not working with jupyter.\n"
   ]
  },
  {
   "cell_type": "code",
   "execution_count": null,
   "id": "abcc5b72-d6ee-44b4-b122-a34a4b32a198",
   "metadata": {},
   "outputs": [],
   "source": [
    "import gmsh\n"
   ]
  },
  {
   "cell_type": "code",
   "execution_count": null,
   "id": "898130a5-39ea-4839-8e43-ea9ca4de28ff",
   "metadata": {},
   "outputs": [],
   "source": []
  },
  {
   "cell_type": "code",
   "execution_count": null,
   "id": "e78cc4ee-0dce-485e-9726-8274001f63ae",
   "metadata": {},
   "outputs": [],
   "source": []
  },
  {
   "cell_type": "code",
   "execution_count": null,
   "id": "6a7a3dd1-5ca0-4192-85a6-e36d9f2ef3e9",
   "metadata": {},
   "outputs": [],
   "source": []
  },
  {
   "cell_type": "markdown",
   "id": "4ce93ce1-f801-417a-8ac4-fd6e07260af2",
   "metadata": {},
   "source": [
    "# Or just create the gmsh geo file and run gmsh on it.\n",
    "<figure>\n",
    "    <center>\n",
    "    <img src=\"figures/gmshCube.png\", width=\"400\"><img src=\"figures/gmshCubeSurfaceMesh.png\", width=\"400\">\n",
    "    </center>\n",
    "    <center>\n",
    "    <caption>Unit cube.\n",
    "        </caption></center>\n",
    " </figure>"
   ]
  },
  {
   "cell_type": "markdown",
   "id": "3c218ec8-bc46-4fba-b29e-559877a71f8b",
   "metadata": {},
   "source": [
    "# geo file cube"
   ]
  },
  {
   "cell_type": "markdown",
   "id": "658676b7-5866-45ab-9c9c-69053bf35793",
   "metadata": {},
   "source": [
    "// Points\n",
    "lc=0.1;\n",
    "// Base\n",
    "Point(1) = {0, 0, 0, 0.2*lc};\n",
    "Point(2) = {1, 0, 0, lc};\n",
    "Point(3) = {1, 1, 0, lc};\n",
    "Point(4) = {0, 1, 0, lc};\n",
    "// Top\n",
    "Point(5) = {0, 0, 1, 0.2*lc};\n",
    "Point(6) = {1, 0, 1, lc};\n",
    "Point(7) = {1, 1, 1, lc};\n",
    "Point(8) = {0, 1, 1, lc};\n",
    "\n",
    "// Lines\n",
    "// Base\n",
    "Line(1) = {1, 2};\n",
    "Line(2) = {2, 3};\n",
    "Line(3) = {3, 4};\n",
    "Line(4) = {4, 1};\n",
    "// Top\n",
    "Line(5) = {5, 6};\n",
    "Line(6) = {6, 7};\n",
    "Line(7) = {7, 8};\n",
    "Line(8) = {8, 5};\n",
    "// Sides\n",
    "Line(9) = {1, 5};\n",
    "Line(10) = {2, 6};\n",
    "Line(11) = {3, 7};\n",
    "Line(12) = {4, 8};\n",
    "\n",
    "// Surfaces\n",
    "// Base\n",
    "Line Loop(1) = {-1,-2,-3,-4};\n",
    "Surface(1) = {1};\n",
    "// Top\n",
    "Line Loop(2) = {5:8};\n",
    "Surface(2) = {2};\n",
    "// Front\n",
    "Line Loop(3) = {1,10,-5,-9};\n",
    "Surface(3) = {3};\n",
    "// Back\n",
    "Line Loop(4) = {3, 12, -7, -11};\n",
    "Surface(4) = {4};\n",
    "// Left\n",
    "Line Loop(5) = {4, 9, -8, -12};\n",
    "Surface(5) = {5};\n",
    "// Right\n",
    "Line Loop(6) = {2, 11,-6, -10};\n",
    "Surface(6) = {6};\n",
    "\n",
    "// VOLUME\n",
    "Surface Loop(1) = {1:6};\n",
    "Volume(1) = {1}; "
   ]
  }
 ],
 "metadata": {
  "kernelspec": {
   "display_name": "Python 3 (ipykernel)",
   "language": "python",
   "name": "python3"
  },
  "language_info": {
   "codemirror_mode": {
    "name": "ipython",
    "version": 3
   },
   "file_extension": ".py",
   "mimetype": "text/x-python",
   "name": "python",
   "nbconvert_exporter": "python",
   "pygments_lexer": "ipython3",
   "version": "3.9.12"
  }
 },
 "nbformat": 4,
 "nbformat_minor": 5
}
