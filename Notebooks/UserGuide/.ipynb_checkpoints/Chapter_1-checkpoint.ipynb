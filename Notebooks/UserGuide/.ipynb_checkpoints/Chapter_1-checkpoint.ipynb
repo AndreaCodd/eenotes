{
 "cells": [
  {
   "cell_type": "markdown",
   "id": "1c9c298f-77c8-48f5-adc5-614b23d67997",
   "metadata": {
    "tags": []
   },
   "source": [
    "# Solving PDEs\n",
    "## The first Steps\n",
    "This notebook is an introduction on how to use *esys-escript* to solve a partial differential equation.  Scrips for *esys-escript* are written in *python*.  There are many online resources for help with *python*, including https://docs.python.org/3/tutorial/index.html.\n",
    "\n",
    "### Poisson's equation on a square\n",
    "Solve\n",
    "\\begin{equation}\n",
    "   \\frac{\\partial^2 u}{\\partial x_0^2} \n",
    "    + \\frac{\\partial^2 u}{\\partial  x_1^2}=f \n",
    "    \\tag{1}\n",
    "\\end{equation}\n",
    "for $u$, where $f$ is the given right hand side. \n",
    "\n",
    "The domain of interest, denoted by $\\Omega$,\n",
    "is the unit square \n",
    "\\begin{equation}\n",
    "\\Omega=[0,1]^2=\\{ (x_0;x_1)~|~0\\le x_{0} \\le 1 \\mbox{ and } 0\\le x_{1} \\le 1 \\}\n",
    "\\label{eq:FirstSteps.1b}\n",
    "\\end{equation}\n",
    " <figure>\n",
    "    <center>\n",
    "  <img src=\"figures/FirstStepDomain.png\">\n",
    "  <figcaption>\n",
    "      $\\Omega$ with outer normal field $n$.\n",
    "    </center>\n",
    "  </figcaption>\n",
    " </figure>\n",
    "We impose Neumann boundary conditions on the top and left boundaries \n",
    "\\begin{equation}\n",
    "  \\frac{\\partial u}{\\partial n} = 0, \\mbox { for } x_0=1 \\mbox { or } x_1 = 1\n",
    "\\end{equation}\n",
    "and zero Dirichlet boundary conditions on the bottom and left boundaries\n",
    "\\begin{equation}\n",
    "   u = 0, \\mbox { for } x_0=0 \\mbox { or } x_1 = 0\n",
    "\\end{equation}\n",
    "\n"
   ]
  },
  {
   "cell_type": "markdown",
   "id": "8c992eaa-6911-49a0-9dec-c1e340a7b3f3",
   "metadata": {},
   "source": []
  },
  {
   "cell_type": "markdown",
   "id": "79533996-8be9-40b4-ba5c-d2e38e0713e5",
   "metadata": {},
   "source": [
    "  from esys.finley import Rectangle\n",
    "  mydomain = Rectangle(l0=1.,l1=1.,n0=40, n1=20)"
   ]
  },
  {
   "cell_type": "code",
   "execution_count": 2,
   "id": "12b7c1a1-5963-4742-b93d-009750cfaa9a",
   "metadata": {},
   "outputs": [],
   "source": [
    "  from esys.escript.linearPDEs import Poisson\n",
    "  mypde = Poisson(mydomain)\n",
    "  mypde.setValue(f=1)"
   ]
  },
  {
   "cell_type": "code",
   "execution_count": 3,
   "id": "8d08973f-0001-48c2-a276-3b46432be8bf",
   "metadata": {},
   "outputs": [],
   "source": [
    "x=mydomain.getX()"
   ]
  },
  {
   "cell_type": "code",
   "execution_count": 5,
   "id": "6ed45086-f11c-4a11-abe6-cdc866120ce6",
   "metadata": {},
   "outputs": [
    {
     "name": "stdout",
     "output_type": "stream",
     "text": [
      "rank  1 , shape  (2,)\n"
     ]
    }
   ],
   "source": [
    "print(\"rank \",x.getRank(),\", shape \",x.getShape())"
   ]
  },
  {
   "cell_type": "code",
   "execution_count": null,
   "id": "6e5b30a1-aca8-495e-bd24-58623cae2a6b",
   "metadata": {},
   "outputs": [],
   "source": []
  }
 ],
 "metadata": {
  "kernelspec": {
   "display_name": "Python 3 (ipykernel)",
   "language": "python",
   "name": "python3"
  },
  "language_info": {
   "codemirror_mode": {
    "name": "ipython",
    "version": 3
   },
   "file_extension": ".py",
   "mimetype": "text/x-python",
   "name": "python",
   "nbconvert_exporter": "python",
   "pygments_lexer": "ipython3",
   "version": "3.9.12"
  }
 },
 "nbformat": 4,
 "nbformat_minor": 5
}
