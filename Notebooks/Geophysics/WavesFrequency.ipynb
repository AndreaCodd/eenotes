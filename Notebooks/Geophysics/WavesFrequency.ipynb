{
 "cells": [
  {
   "cell_type": "markdown",
   "metadata": {},
   "source": [
    "# Wave propagation in Frequency Domain\n",
    "\n",
    "In this section we discuss how to solve the PDE for 2D sonic wave equation in frequency domain using `esys.escript`. It is assumed that you have worked through the [introduction section on `esys.escript`](escriptBasics.ipynb). \n",
    "First we will provide the basic theory.\n"
   ]
  },
  {
   "cell_type": "markdown",
   "metadata": {},
   "source": [
    "\n",
    "## Sonic Wave Equation in Frequency domain\n",
    "\n",
    "The sonic wave equation in frequency domain is given as \n",
    "\\begin{equation}\\label{eqWAVEF1}\n",
    "\\mathbf{V} = - \\nabla u = -\\begin{bmatrix}\n",
    "\\frac{\\partial u}{\\partial x_0 }\\\\\n",
    " \\frac{\\partial u}{\\partial x_1 }\n",
    "\\end{bmatrix}\n",
    "\\end{equation}\n",
    "\\begin{equation}\\label{eqWAVEF2}\n",
    "\\frac{\\partial V_0}{\\partial x_0 }+\n",
    " \\frac{\\partial V_1}{\\partial x_1 } - k^2 u = \\delta_{\\mathbf{x}_s} \\mbox{ with } k= \\frac{\\omega}{c}\n",
    "\\end{equation}\n",
    "where $u$ is the power amplitude for angular frequency $\\omega$ \n",
    "and source at location $\\mathbf{x}_s$. $c$ is the wave propagation speed.\n",
    "\n",
    "A PML layer of thickness $L_{pml}$ is introduced to remove reflections from the boundary.\n",
    "For this we set \n",
    "\\begin{equation}\\label{eqPMLGamma}\n",
    "\\gamma_i = 1 -\\mathbf{j} \\frac{S_{pml}}{k} Q_i\n",
    "\\end{equation}\n",
    "where $S_{pml}$ is absorption strength parameter and $Q_i$ are the absorbing functions.\n",
    "Horizontal absorption is applied near the left ($x_0=0$) and right boundary ($x_0=L_0=3km$):\n",
    "\\begin{equation}\\label{EQQ0}\n",
    "Q_0(\\mathbf{x}) = \\begin{cases}\n",
    "= \\left( \\frac{L_{pml}-x_0}{L_{pml}} \\right)^{M_{pml}} & \\mbox{ if } 0 \\le x_0 \\le L_{pml}\\\\\n",
    "= \\left( \\frac{x_0-L_0+L_{pml}}{L_{pml}} \\right)^{M_{pml}} & \\mbox{ if } L_0-L_{pml} \\le x_0 \\le L_0 \\\\\n",
    "=0  & \\mbox{ otherwise  }\n",
    "\\end{cases} \n",
    "\\end{equation}\n",
    "while vertical absorption is applied near the bottom ($x_0=1$) only: \n",
    "\\begin{equation}\\label{EQQ1}\n",
    "Q_1(\\mathbf{x}) = \\begin{cases}\n",
    "= \\left( \\frac{L_{pml}-x_1}{L_{pml}} \\right)^{M_{pml}} & \\mbox{ if } 0 \\le x_1 \\le L_{pml}\\\\\n",
    "=0  & \\mbox{ otherwise  }\n",
    "\\end{cases} \n",
    "\\end{equation}\n",
    "With the variable transformation $x_i \\rightarrow \\gamma_i x_i$ equations\n",
    "\\eqref{eqWAVEF1} and \\eqref{eqWAVEF2} are transfered to \n",
    "\\begin{equation}\\label{eqWAVEF1PML}\n",
    "\\mathbf{V} = - \\nabla u = -\\begin{bmatrix}\n",
    "\\frac{1}{\\gamma_0}\\frac{\\partial u}{\\partial x_0 }\\\\\n",
    "\\frac{1}{\\gamma_1} \\frac{\\partial u}{\\partial x_1 }\n",
    "\\end{bmatrix}\n",
    "\\end{equation}\n",
    "\\begin{equation}\\label{eqWAVEF2PML}\n",
    "\\frac{1}{\\gamma_0}\\frac{\\partial V_0}{\\partial x_0 }+\n",
    "\\frac{1}{\\gamma_1} \\frac{\\partial V_1}{\\partial x_1 } - k^2 u = \\delta_{\\mathbf{x}_s}\n",
    "\\end{equation}\n"
   ]
  },
  {
   "cell_type": "markdown",
   "metadata": {},
   "source": [
    "## The PDE in `esys.escript`\n",
    "\n",
    "The conservation equation in `esys.escript` is\n",
    "\\begin{equation}\\label{eqEE1}\n",
    "\\frac{\\partial F_0}{\\partial x_0 }+\n",
    " \\frac{\\partial F_1}{\\partial x_1 } D u = Y + y_{dirac}\n",
    "\\end{equation}\n",
    "To match the \\eqref{eqWAVEF2PML} we multiply this equations with $\\gamma_0 \\gamma_1$ \n",
    "and use the fact that $\\gamma_0$ is not depending on $x_1$ \n",
    "and $\\gamma_1$ is not depending on $x_0$ to obtain:\n",
    "\\begin{equation}\\label{eqWAVEF2PML2}\n",
    "\\frac{\\partial \\gamma_1 V_0}{\\partial x_0 }+\n",
    "\\frac{\\partial \\gamma_0 V_1}{\\partial x_1 } - k^2 \\gamma_0 \\gamma_1 \\; u = \\delta_{\\mathbf{x}_s}\n",
    "\\end{equation}\n",
    "We also assume that the source location is not located in the absorption zone and hence\n",
    "$\\delta_{\\mathbf{x}_s} \\gamma_0 \\gamma_1 =\\delta_{\\mathbf{x}_s}$. Comparison with \\eqref{eqEE1}\n",
    "shows $Y=0$,  $y_{dirac}=\\delta_{\\mathbf{x}_s}$, $D=- k^2 \\gamma_0 \\gamma_1$ and\n",
    "\\begin{equation}\\label{EQFLUX2}\n",
    "\\mathbf{F} = \n",
    "\\begin{bmatrix}\n",
    " F_0 \\\\\n",
    " F_1\n",
    "\\end{bmatrix}\n",
    "=\n",
    "\\begin{bmatrix}\n",
    "  \\gamma_1 V_0\\\\\n",
    "\\gamma_0 V_1\n",
    "\\end{bmatrix}\n",
    "=\n",
    "\\begin{bmatrix}\n",
    " \\frac{  \\gamma_1}{\\gamma_0}\\frac{\\partial u}{\\partial x_0 }\\\\\n",
    " \\frac{  \\gamma_0}{\\gamma_1}\\frac{\\partial u}{\\partial x_1 }\n",
    "\\end{bmatrix}\n",
    "\\end{equation}\n",
    "Recall the flux $\\mathbf{F}$ is related with $\\mathbf{\\nabla} u$ in the form \n",
    "\\begin{equation} \\label{EQFLUX}\n",
    "\\mathbf{F} = - \\mathbf{A} \\mathbf{\\nabla} u +\\mathbf{X}\n",
    "\\end{equation} \n",
    "This gives $\\mathbf{F}=0$ and\n",
    "\\begin{equation}\\label{eqAF}\n",
    "\\begin{bmatrix}\n",
    "A_{00} & A_{01} \\\\\n",
    "A_{10}  & A_{11} \n",
    "\\end{bmatrix}= \n",
    "\\begin{bmatrix}\n",
    " \\frac{  \\gamma_1}{\\gamma_0}\\ & 0  \\\\\n",
    "0  &  \\frac{  \\gamma_0}{\\gamma_1}\n",
    "\\end{bmatrix}\n",
    "\\end{equation}"
   ]
  },
  {
   "cell_type": "markdown",
   "metadata": {},
   "source": [
    "## Domain set up\n",
    "\n",
    "We consider a single reflector set up. The reflector is located at a depth of $500m$\n",
    "where the top layer has propagation speed of $c_{top}=1500m/s$ \n",
    "and the bottom layer has propagation speed of $c_{top}=3000m/s$.\n",
    "Use a frequency of $f=5 Hz$. The domain has depth of $1km$ and width $3km$ \n",
    "with $300 \\times 100$ grid.\n",
    "The source is located at the surface at an offset of $1500m$ from the boundary.\n",
    "\n",
    " <img src=\"SonicImage1.png\" alt=\"Sonic domain\" width=\"800\"> "
   ]
  },
  {
   "cell_type": "code",
   "execution_count": 1,
   "metadata": {},
   "outputs": [],
   "source": [
    "Width=3000       # m\n",
    "Ne0=300          # number of cells along the horizontal axis  \n",
    "Depth=1000      # m\n",
    "Ne1=100          # number of cells along the vertical axis  \n",
    "c_top=1800      # m/s\n",
    "c_bottom=3000      # m/s\n",
    "#%matplotlib notebook"
   ]
  },
  {
   "cell_type": "code",
   "execution_count": 2,
   "metadata": {
    "tags": [
     "SOLUTION"
    ]
   },
   "outputs": [],
   "source": [
    "import numpy as np\n",
    "Omega=2*np.pi*5. # Hz\n",
    "d0=Depth-500.    # m top layer is 500m thick\n"
   ]
  },
  {
   "cell_type": "markdown",
   "metadata": {},
   "source": [
    "As usual we start the model set up with defining the domain. In this application\n",
    "we also want to use point source. These need to be defined when the domain is \n",
    "defined. Here we use a single source named \"source66\". If several sources are used later \n",
    "a list of source locations and name can be defined. As we will see later the names allow to\n",
    "switch on sources individually. "
   ]
  },
  {
   "cell_type": "code",
   "execution_count": 3,
   "metadata": {
    "tags": [
     "SOLUTION"
    ]
   },
   "outputs": [],
   "source": [
    "sources=  [ (Width/2, Depth) ]\n",
    "source_names = [ 'source66' ]"
   ]
  },
  {
   "cell_type": "markdown",
   "metadata": {},
   "source": [
    "We set up the domain including the location and names of potential source locations."
   ]
  },
  {
   "cell_type": "code",
   "execution_count": 4,
   "metadata": {
    "tags": [
     "SOLUTION"
    ]
   },
   "outputs": [],
   "source": [
    "from esys.escript import *\n",
    "from esys.finley import Rectangle\n",
    "domain=Rectangle(Ne0, Ne1, l0=Width,l1=Depth, diracPoints=sources,  diracTags=source_names)"
   ]
  },
  {
   "cell_type": "markdown",
   "metadata": {},
   "source": [
    "To define the propagation speed `c` a mask `m` is introduced distinguishing between the top layer (value one)\n",
    "and the bottom layer (value zero). \n",
    "The propagation speed is defined at integration points in the elements."
   ]
  },
  {
   "cell_type": "code",
   "execution_count": 5,
   "metadata": {
    "tags": [
     "SOLUTION"
    ]
   },
   "outputs": [],
   "source": [
    "X=Function(domain).getX()\n",
    "m=wherePositive(X[1]-d0)\n",
    "c=c_top*m+c_bottom*(1-m)"
   ]
  },
  {
   "cell_type": "markdown",
   "metadata": {},
   "source": [
    "Now we can set"
   ]
  },
  {
   "cell_type": "code",
   "execution_count": 6,
   "metadata": {
    "tags": [
     "SOLUTION"
    ]
   },
   "outputs": [],
   "source": [
    "k=Omega/c"
   ]
  },
  {
   "cell_type": "markdown",
   "metadata": {},
   "source": [
    "## PML \n",
    "\n",
    "To minimize reflection from the boundary we introduce the PML conditions.\n",
    "The key step is to introduce the absorbing functions $Q_i$. \n",
    "We start with the vertical  absorbing functions $Q_1$ which is defined by  \\eqref{EQQ1}.\n",
    "$Q_1$ is defined at the numerical integration points."
   ]
  },
  {
   "cell_type": "code",
   "execution_count": 7,
   "metadata": {},
   "outputs": [],
   "source": [
    "Lpml=200\n",
    "Mpml=3\n",
    "Spml=1"
   ]
  },
  {
   "cell_type": "markdown",
   "metadata": {},
   "source": [
    "`Q1` is build as a product of the monomial part $\\left( \\frac{L_{pml}-x_1}{L_{pml}} \\right)^{M_{pml}}$\n",
    "and a mask that makes sure that the monomial part is applied in the layer of thickness $L_{pml}$ near the bottom \n",
    "boundary only:"
   ]
  },
  {
   "cell_type": "code",
   "execution_count": 8,
   "metadata": {
    "tags": [
     "SOLUTION"
    ]
   },
   "outputs": [],
   "source": [
    "X=Function(domain).getX()\n",
    "Q1=wherePositive(Lpml-X[1])*((Lpml-X[1])/Lpml)**Mpml \n",
    "gamma1=1-1j*Spml/k*Q1"
   ]
  },
  {
   "cell_type": "markdown",
   "metadata": {},
   "source": [
    "Similarly in the horizontal direction:"
   ]
  },
  {
   "cell_type": "code",
   "execution_count": 9,
   "metadata": {
    "tags": [
     "SOLUTION"
    ]
   },
   "outputs": [],
   "source": [
    "X=Function(domain).getX()\n",
    "Q0_l=wherePositive(Lpml-X[0])*((Lpml-X[0])/Lpml)**Mpml\n",
    "Q0_r=wherePositive(X[0]-(Width-Lpml))*((X[0]-(Width-Lpml))/Lpml)**Mpml\n",
    "gamma0=1-1j*Spml/k*(Q0_l+Q0_r) "
   ]
  },
  {
   "cell_type": "markdown",
   "metadata": {},
   "source": [
    "Let's make sure the Q's are set up correctly and take a look at the distribution. To reduce rendering time\n",
    "we interpolate to element centers first."
   ]
  },
  {
   "cell_type": "code",
   "execution_count": 11,
   "metadata": {
    "tags": [
     "SOLUTION"
    ]
   },
   "outputs": [
    {
     "data": {
      "text/plain": [
       "<matplotlib.colorbar.Colorbar at 0x7fd8b2aaf6d8>"
      ]
     },
     "execution_count": 11,
     "metadata": {},
     "output_type": "execute_result"
    },
    {
     "data": {
      "image/png": "[encoded data removed]",
      "text/plain": [
       "<matplotlib.figure.Figure at 0x7fd8b9dbb0b8>"
      ]
     },
     "metadata": {},
     "output_type": "display_data"
    }
   ],
   "source": [
    "Q=interpolate(Q1+Q0_l+Q0_r, ReducedFunction(domain))\n",
    "Q_np=convertToNumpy(Q)\n",
    "x_np=convertToNumpy(Q.getFunctionSpace().getX())\n",
    "\n",
    "import matplotlib.pyplot as plt\n",
    "plt.figure(figsize=(9,3))\n",
    "plt.tricontourf(x_np[0], x_np[1], Q_np[0], 15)\n",
    "plt.xlabel('x0 [m]')\n",
    "plt.ylabel('x1 [m]')\n",
    "plt.title(\"Absorbing Function Q\")\n",
    "plt.colorbar()"
   ]
  },
  {
   "cell_type": "markdown",
   "metadata": {},
   "source": [
    "## Definition of the PDE\n",
    "\n",
    "Now we are ready to set-up the PDE. As the PML coefficient has complex values we need to set up the PDE\n",
    "as a complex PDE. Also we use the direct solver which is the better choice for this PDE."
   ]
  },
  {
   "cell_type": "code",
   "execution_count": 11,
   "metadata": {
    "tags": [
     "SOLUTION"
    ]
   },
   "outputs": [],
   "source": [
    "from esys.escript.linearPDEs import LinearSinglePDE, SolverOptions\n",
    "\n",
    "pde=LinearSinglePDE(domain, isComplex=True)\n",
    "pde.getSolverOptions().setSolverMethod(SolverOptions.DIRECT)"
   ]
  },
  {
   "cell_type": "markdown",
   "metadata": {},
   "source": [
    "We setting the coefficient `A` following \\eqref{eqAF}. We use the \n",
    "`Tensor` function to create $2 \\times 2$ matrix for each integration point. It is initialized with zero (first argument) and we then modify the main diagonal entries according to the PML absorption."
   ]
  },
  {
   "cell_type": "code",
   "execution_count": 12,
   "metadata": {
    "tags": [
     "SOLUTION"
    ]
   },
   "outputs": [],
   "source": [
    "myA=Tensor(0.,Function(domain))\n",
    "myA[0,0]=gamma1/gamma0\n",
    "myA[1,1]=gamma0/gamma1"
   ]
  },
  {
   "cell_type": "markdown",
   "metadata": {},
   "source": [
    "And now we set `A` and `D`. Don't forget the factor `gamma1*gamma0` in `D` according to PML. "
   ]
  },
  {
   "cell_type": "code",
   "execution_count": 13,
   "metadata": {
    "tags": [
     "SOLUTION"
    ]
   },
   "outputs": [],
   "source": [
    "pde.setValue(A=myA, D=-gamma1*gamma0*k**2)"
   ]
  },
  {
   "cell_type": "markdown",
   "metadata": {},
   "source": [
    "The missing bit is the point source. This is set using a `Data` object with \n",
    "the `DiracDeltaFunctions(domain)` attribute. `Data` object with this attribute using the Dirac point \n",
    "`diracPoints` and corresponding tags `diracTags` introduced into the `domain` when it was defined. \n",
    "The source term - let's call it `src` - is set up in two steps: \n",
    "First a `Scalar` `Data` object is created which is linked with the Dirac point is initialized with zero."
   ]
  },
  {
   "cell_type": "code",
   "execution_count": 14,
   "metadata": {
    "tags": [
     "SOLUTION"
    ]
   },
   "outputs": [],
   "source": [
    "src=Scalar(0., DiracDeltaFunctions(domain) )"
   ]
  },
  {
   "cell_type": "markdown",
   "metadata": {},
   "source": [
    "Then the specific Dirac point labeled \"source66\" get assigned the value one. Notice that \n",
    "other Dirac point are not effected. Here we assign the value `1`:"
   ]
  },
  {
   "cell_type": "code",
   "execution_count": 15,
   "metadata": {
    "tags": [
     "SOLUTION"
    ]
   },
   "outputs": [],
   "source": [
    "src.setTaggedValue('source66' , 1.) "
   ]
  },
  {
   "cell_type": "markdown",
   "metadata": {},
   "source": [
    "This `src` is now assigned to the `y_dirac` coefficient of the PDE:"
   ]
  },
  {
   "cell_type": "code",
   "execution_count": 16,
   "metadata": {
    "tags": [
     "SOLUTION"
    ]
   },
   "outputs": [],
   "source": [
    "pde.setValue(y_dirac=src) "
   ]
  },
  {
   "cell_type": "markdown",
   "metadata": {},
   "source": [
    "We are ready to get the solution:"
   ]
  },
  {
   "cell_type": "code",
   "execution_count": 17,
   "metadata": {
    "tags": [
     "SOLUTION"
    ]
   },
   "outputs": [
    {
     "name": "stdout",
     "output_type": "stream",
     "text": [
      "solution u = Summary: Lsup=1.38888 data points=30401\n"
     ]
    }
   ],
   "source": [
    "u=pde.getSolution()\n",
    "print(\"solution u =\", str(u))"
   ]
  },
  {
   "cell_type": "markdown",
   "metadata": {},
   "source": [
    "Let's see how it looks like:"
   ]
  },
  {
   "cell_type": "code",
   "execution_count": 18,
   "metadata": {},
   "outputs": [
    {
     "data": {
      "text/plain": [
       "<matplotlib.colorbar.Colorbar at 0x7f28bf27a3c8>"
      ]
     },
     "execution_count": 18,
     "metadata": {},
     "output_type": "execute_result"
    },
    {
     "data": {
      "image/png": "[encoded data removed]",
      "text/plain": [
       "<matplotlib.figure.Figure at 0x7f28bf326f60>"
      ]
     },
     "metadata": {},
     "output_type": "display_data"
    }
   ],
   "source": [
    "u_np=convertToNumpy(abs(u))\n",
    "x_np=convertToNumpy(u.getFunctionSpace().getX())\n",
    "\n",
    "plt.figure(figsize=(9,3))\n",
    "plt.tricontourf(x_np[0], x_np[1], u_np[0], 15)\n",
    "plt.xlabel('y [m]')\n",
    "plt.ylabel('z [m]')\n",
    "plt.title(\"Magnitude of Solution\")\n",
    "plt.colorbar()"
   ]
  },
  {
   "cell_type": "markdown",
   "metadata": {},
   "source": [
    "## Setting  up geophones:\n",
    "\n",
    "To create a synthetic CDP gather or even run FWI we pick value from $u$ at specific location\n",
    "simulating a line of geophones. Here we assume that `NGeophone` geophones are located at \n",
    "surface stating at offset `Offset` from the left side of the domain. The geophones are assumed to be equally spaced \n",
    "with distance `GeophoneSpacing`:"
   ]
  },
  {
   "cell_type": "code",
   "execution_count": 19,
   "metadata": {},
   "outputs": [],
   "source": [
    "GeophoneSpacing=50\n",
    "NGeophone=51\n",
    "Offset=250\n",
    "Surface=Depth"
   ]
  },
  {
   "cell_type": "markdown",
   "metadata": {},
   "source": [
    "Let's check is the last geophone is still located in the domain:"
   ]
  },
  {
   "cell_type": "code",
   "execution_count": 20,
   "metadata": {
    "tags": [
     "SOLUTION"
    ]
   },
   "outputs": [],
   "source": [
    "assert Offset+GeophoneSpacing * (NGeophone-1) < Width"
   ]
  },
  {
   "cell_type": "markdown",
   "metadata": {},
   "source": [
    "Set the actual locations of the geophones in the domain:"
   ]
  },
  {
   "cell_type": "code",
   "execution_count": 21,
   "metadata": {
    "tags": [
     "SOLUTION"
    ]
   },
   "outputs": [],
   "source": [
    "geophone_locations = [ (Offset+GeophoneSpacing * j, Surface) for j in range(NGeophone) ] "
   ]
  },
  {
   "cell_type": "markdown",
   "metadata": {},
   "source": [
    "We use the `Locator` to pick values from the solution `u`:"
   ]
  },
  {
   "cell_type": "code",
   "execution_count": 22,
   "metadata": {
    "tags": [
     "SOLUTION"
    ]
   },
   "outputs": [],
   "source": [
    "from esys.escript.pdetools import Locator\n",
    "geophones=Locator(u.getFunctionSpace(), geophone_locations)\n",
    "u_at_geophone=geophones.getValue(abs(u))"
   ]
  },
  {
   "cell_type": "markdown",
   "metadata": {},
   "source": [
    "We get the true offsets of the geophones - just in case ..."
   ]
  },
  {
   "cell_type": "code",
   "execution_count": 23,
   "metadata": {
    "tags": [
     "SOLUTION"
    ]
   },
   "outputs": [],
   "source": [
    "geophone_offsets=[ x[0] for x in geophones.getX() ]"
   ]
  },
  {
   "cell_type": "markdown",
   "metadata": {},
   "source": [
    "And now we can plot the amplitude of `u` along the line of geophones:"
   ]
  },
  {
   "cell_type": "code",
   "execution_count": 12,
   "metadata": {
    "tags": [
     "SOLUTION"
    ]
   },
   "outputs": [
    {
     "ename": "NameError",
     "evalue": "name 'geophone_offsets' is not defined",
     "output_type": "error",
     "traceback": [
      "\u001b[0;31m---------------------------------------------------------------------------\u001b[0m",
      "\u001b[0;31mNameError\u001b[0m                                 Traceback (most recent call last)",
      "\u001b[0;32m<ipython-input-12-acb347ab8777>\u001b[0m in \u001b[0;36m<module>\u001b[0;34m()\u001b[0m\n\u001b[1;32m      1\u001b[0m \u001b[0mplt\u001b[0m\u001b[0;34m.\u001b[0m\u001b[0mfigure\u001b[0m\u001b[0;34m(\u001b[0m\u001b[0mfigsize\u001b[0m\u001b[0;34m=\u001b[0m\u001b[0;34m(\u001b[0m\u001b[0;36m10\u001b[0m\u001b[0;34m,\u001b[0m\u001b[0;36m5\u001b[0m\u001b[0;34m)\u001b[0m\u001b[0;34m)\u001b[0m\u001b[0;34m\u001b[0m\u001b[0;34m\u001b[0m\u001b[0m\n\u001b[1;32m      2\u001b[0m \u001b[0mplt\u001b[0m\u001b[0;34m.\u001b[0m\u001b[0mclf\u001b[0m\u001b[0;34m(\u001b[0m\u001b[0;34m)\u001b[0m\u001b[0;34m\u001b[0m\u001b[0;34m\u001b[0m\u001b[0m\n\u001b[0;32m----> 3\u001b[0;31m \u001b[0mplt\u001b[0m\u001b[0;34m.\u001b[0m\u001b[0mplot\u001b[0m\u001b[0;34m(\u001b[0m\u001b[0mgeophone_offsets\u001b[0m\u001b[0;34m,\u001b[0m \u001b[0mu_at_geophone\u001b[0m\u001b[0;34m)\u001b[0m\u001b[0;34m\u001b[0m\u001b[0;34m\u001b[0m\u001b[0m\n\u001b[0m\u001b[1;32m      4\u001b[0m \u001b[0mplt\u001b[0m\u001b[0;34m.\u001b[0m\u001b[0mscatter\u001b[0m\u001b[0;34m(\u001b[0m\u001b[0mgeophone_offsets\u001b[0m\u001b[0;34m,\u001b[0m \u001b[0mu_at_geophone\u001b[0m\u001b[0;34m)\u001b[0m\u001b[0;34m\u001b[0m\u001b[0;34m\u001b[0m\u001b[0m\n\u001b[1;32m      5\u001b[0m \u001b[0mplt\u001b[0m\u001b[0;34m.\u001b[0m\u001b[0mxlabel\u001b[0m\u001b[0;34m(\u001b[0m\u001b[0;34m'x0 [m]'\u001b[0m\u001b[0;34m)\u001b[0m\u001b[0;34m\u001b[0m\u001b[0;34m\u001b[0m\u001b[0m\n",
      "\u001b[0;31mNameError\u001b[0m: name 'geophone_offsets' is not defined"
     ]
    },
    {
     "data": {
      "text/plain": [
       "<matplotlib.figure.Figure at 0x7fd8b2b239e8>"
      ]
     },
     "metadata": {},
     "output_type": "display_data"
    }
   ],
   "source": [
    "plt.figure(figsize=(10,5))\n",
    "plt.clf()\n",
    "plt.plot(geophone_offsets, u_at_geophone)\n",
    "plt.scatter(geophone_offsets, u_at_geophone)\n",
    "plt.xlabel('x0 [m]')\n",
    "plt.ylabel('amplitude [m]')\n",
    "plt.title(\"Amplitude vs offset\")\n",
    "plt.savefig(\"wave.png\")"
   ]
  }
 ],
 "metadata": {
  "celltoolbar": "Tags",
  "kernelspec": {
   "display_name": "Python 3",
   "language": "python",
   "name": "python3"
  },
  "language_info": {
   "codemirror_mode": {
    "name": "ipython",
    "version": 3
   },
   "file_extension": ".py",
   "mimetype": "text/x-python",
   "name": "python",
   "nbconvert_exporter": "python",
   "pygments_lexer": "ipython3",
   "version": "3.6.8"
  },
  "latex_envs": {
   "LaTeX_envs_menu_present": true,
   "autoclose": false,
   "autocomplete": true,
   "bibliofile": "biblio.bib",
   "cite_by": "apalike",
   "current_citInitial": 1,
   "eqLabelWithNumbers": true,
   "eqNumInitial": 1,
   "hotkeys": {
    "equation": "Ctrl-E",
    "itemize": "Ctrl-I"
   },
   "labels_anchors": false,
   "latex_user_defs": false,
   "report_style_numbering": false,
   "user_envs_cfg": false
  },
  "toc": {
   "base_numbering": 1,
   "nav_menu": {},
   "number_sections": true,
   "sideBar": true,
   "skip_h1_title": false,
   "title_cell": "Table of Contents",
   "title_sidebar": "Contents",
   "toc_cell": false,
   "toc_position": {
    "height": "calc(100% - 180px)",
    "left": "10px",
    "top": "150px",
    "width": "384px"
   },
   "toc_section_display": true,
   "toc_window_display": true
  },
  "varInspector": {
   "cols": {
    "lenName": 16,
    "lenType": 16,
    "lenVar": 40
   },
   "kernels_config": {
    "python": {
     "delete_cmd_postfix": "",
     "delete_cmd_prefix": "del ",
     "library": "var_list.py",
     "varRefreshCmd": "print(var_dic_list())"
    },
    "r": {
     "delete_cmd_postfix": ") ",
     "delete_cmd_prefix": "rm(",
     "library": "var_list.r",
     "varRefreshCmd": "cat(var_dic_list()) "
    }
   },
   "position": {
    "height": "752.85px",
    "left": "1550px",
    "right": "20px",
    "top": "120px",
    "width": "350px"
   },
   "types_to_exclude": [
    "module",
    "function",
    "builtin_function_or_method",
    "instance",
    "_Feature"
   ],
   "window_display": false
  }
 },
 "nbformat": 4,
 "nbformat_minor": 2
}
