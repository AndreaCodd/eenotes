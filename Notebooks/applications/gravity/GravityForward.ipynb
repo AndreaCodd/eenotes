{
 "cells": [
  {
   "cell_type": "markdown",
   "id": "29465fc2-9b0d-490f-962a-8d4faf46839f",
   "metadata": {},
   "source": [
    "# Forward Gravity Problem\n",
    "Gravity potential is modelled with \n",
    "\\begin{equation}\n",
    "-\\nabla\\cdot(\\nabla u) = -4\\pi G \\rho\\quad \\text{in }\\Omega\n",
    "\\end{equation}\n",
    "\n",
    "$\\nabla$ is the gradient operator, $\\nabla\\cdot$ is the divergence operator,<br>\n",
    "$\\Omega$ a 2D or 3D domain with an air layer, $G$ is the gravitational constant, and $\\rho$ is density, nonzero only in the subsurface.\n",
    "\n",
    "Weak form is solved, using integration by parts,\n",
    "\\begin{equation}\n",
    "\\int_{\\Omega}\\nabla u \\cdot\\nabla \\psi~d\\Omega =-\\int_{\\Omega} 4\\pi G \\rho \\psi d\\Omega \n",
    "\\end{equation}\n",
    "where $\\psi$ are test functions that satisfy the boundary conditions.\n"
   ]
  },
  {
   "cell_type": "markdown",
   "id": "e4b08715-21e2-4ee2-a23c-e04709f98161",
   "metadata": {},
   "source": []
  },
  {
   "cell_type": "markdown",
   "id": "d2ab6eae-33cd-4799-9e1d-e3b12150f4b3",
   "metadata": {},
   "source": [
    "<figure>\n",
    "  <img src=\"pictures/Allmesh.png\", width=\"400\"> <img src=\"pictures/Coremesh.png\", width=\"380\">\n",
    "  <figcaption>\n",
    "    <center>\n",
    "      Gravity\n",
    "    </center>\n",
    "  </figcaption>\n",
    " </figure>"
   ]
  },
  {
   "cell_type": "markdown",
   "id": "8207bb87-d14e-40fa-9fbb-63a658979ad9",
   "metadata": {},
   "source": [
    "The gravity forward problem is one of the easiest problems to model.  In this example "
   ]
  },
  {
   "cell_type": "code",
   "execution_count": null,
   "id": "7b620e8c-7766-4676-a68b-4a9b4da09a6b",
   "metadata": {},
   "outputs": [],
   "source": [
    "from esys.escript import *\n",
    "from esys.escript import length\n",
    "import numpy as np\n",
    "from esys.escript.linearPDEs import LinearSinglePDE, SolverOptions\n",
    "from esys.escript.pdetools import Locator, ArithmeticTuple, MaskFromTag\n",
    "from esys.finley import ReadMesh, ReadGmsh\n",
    "from esys.weipa import saveSilo\n",
    "import argparse\n",
    "import importlib, sys, os\n",
    "import os.path\n",
    "import logging"
   ]
  },
  {
   "cell_type": "code",
   "execution_count": null,
   "id": "18b87139-0adc-4d22-92a1-5da9d5c0a25b",
   "metadata": {},
   "outputs": [],
   "source": []
  },
  {
   "cell_type": "code",
   "execution_count": null,
   "id": "066e505f-b073-4607-9571-f6b2664d71bc",
   "metadata": {},
   "outputs": [],
   "source": []
  }
 ],
 "metadata": {
  "kernelspec": {
   "display_name": "Python 3",
   "language": "python",
   "name": "python3"
  },
  "language_info": {
   "codemirror_mode": {
    "name": "ipython",
    "version": 3
   },
   "file_extension": ".py",
   "mimetype": "text/x-python",
   "name": "python",
   "nbconvert_exporter": "python",
   "pygments_lexer": "ipython3",
   "version": "3.9.2"
  }
 },
 "nbformat": 4,
 "nbformat_minor": 5
}
