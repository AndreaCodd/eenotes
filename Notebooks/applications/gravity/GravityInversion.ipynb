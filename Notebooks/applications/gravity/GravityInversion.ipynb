{
 "cells": [
  {
   "cell_type": "markdown",
   "id": "2edd2ab0-61b1-42e4-babc-89d097ade6b8",
   "metadata": {},
   "source": [
    "<figure>\n",
    "  <img src=\"pictures/g800_final.png\", width=\"400\">\n",
    "  <figcaption>\n",
    "    <center>\n",
    "      Gravity\n",
    "    </center>\n",
    "  </figcaption>\n",
    " </figure>"
   ]
  },
  {
   "cell_type": "markdown",
   "id": "ff52dfdb-217e-48f2-ada0-136b13001b2a",
   "metadata": {},
   "source": [
    "Gravitational potential, $u$, is modelled by\n",
    "\\begin{equation}\n",
    "-\\nabla\\cdot\\nabla u = 4\\pi G \\rho\n",
    "\\end{equation}\n",
    "where $G$ is the gravitational constant, $\\rho$ is the density, $\\nabla$ is gradient differential operator and $\\nabla\\cdot$ is the divergence  differential operator.  There needs to be appropriate "
   ]
  },
  {
   "cell_type": "code",
   "execution_count": 1,
   "id": "50dda3b2-345e-4ba7-8b09-e0aa9d017bd1",
   "metadata": {},
   "outputs": [],
   "source": [
    "from esys.escript import *\n",
    "from esys.escript.linearPDEs import LinearSinglePDE, SolverOptions\n",
    "import esys.escript.unitsSI as U\n",
    "import numpy as np"
   ]
  },
  {
   "cell_type": "code",
   "execution_count": null,
   "id": "7d2c9994-c45e-4d90-831b-bac9a353827a",
   "metadata": {},
   "outputs": [],
   "source": [
    "domain = ReadMesh(, optimize=True)"
   ]
  }
 ],
 "metadata": {
  "kernelspec": {
   "display_name": "Python 3",
   "language": "python",
   "name": "python3"
  },
  "language_info": {
   "codemirror_mode": {
    "name": "ipython",
    "version": 3
   },
   "file_extension": ".py",
   "mimetype": "text/x-python",
   "name": "python",
   "nbconvert_exporter": "python",
   "pygments_lexer": "ipython3",
   "version": "3.9.2"
  }
 },
 "nbformat": 4,
 "nbformat_minor": 5
}
