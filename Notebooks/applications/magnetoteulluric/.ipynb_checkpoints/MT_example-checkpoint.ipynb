{
 "cells": [
  {
   "cell_type": "markdown",
   "id": "cab64640-cf12-4a58-82a7-9a9554d959c1",
   "metadata": {},
   "source": [
    "# Magnetoteulluric Forward problem"
   ]
  },
  {
   "cell_type": "markdown",
   "id": "3b3ace81-3714-4ead-bd06-46d327abae45",
   "metadata": {},
   "source": [
    "## Frequency domain Maxwell equations\n",
    "\\begin{eqnarray}\n",
    "    \\nabla\\times \\mathbf{E} +i\\omega \\mu \\mathbf{H} &=& \\mathbf{0}\\label{eq:curlE}\\\\\n",
    "    \\nabla \\times \\mathbf{H} -\\boldsymbol{\\sigma}\\mathbf{E} &=& \\mathbf{0}\\label{eq:curlH}\\\\\n",
    "    \\nabla\\cdot \\mathbf{E} &=& 0\\\\\n",
    "    \\nabla\\cdot\\mathbf{H} &=& 0\n",
    "\\end{eqnarray}\n",
    "<br> \n",
    "$\\nabla\\times$ is the curl operator, $\\nabla\\cdot$ is the divergence operator,<br>\n",
    "$\\mathbf{E}$ is the electric field (V/m), $\\mathbf{H}$ is the magnetic intensity (A/m), (note magnetic field $\\mathbf{B}=\\mu \\mathbf{H}$)<br>\n",
    "$i=\\sqrt{-1}$, $\\omega$ is the frequency, $\\mu=4\\pi10^{-7}$ is magnetic permeability. <br>\n",
    "$\\boldsymbol{\\rho}$ is resistivity ($\\Omega$m), $\\boldsymbol{\\sigma}$ conductivity (S/m), $\\boldsymbol{\\sigma}=\\boldsymbol{\\rho}^{-1}$\n",
    "\n",
    "Convert to separate systems for $\\mathbf{E}$\n",
    "\\begin{equation}\n",
    "\\nabla\\times(\\nabla\\times \\mathbf{E}) +i\\omega \\mu\\boldsymbol{\\sigma}\\mathbf{E} = \\mathbf{0}\n",
    "\\end{equation}\n",
    "and for $\\mathbf{H}$\n",
    "\\begin{equation}\n",
    "\\nabla\\times(\\boldsymbol{\\rho}\\nabla \\times \\mathbf{H}) +i\\omega \\mu\\mathbf{H} = \\mathbf{0}\n",
    "\\end{equation}\n",
    "\n",
    "Vector identity\n",
    "\\begin{equation}\n",
    "\\nabla\\times(\\nabla\\circ)=\\nabla(\\nabla\\cdot\\circ)-\\nabla\\cdot(\\nabla\\circ)\n",
    "\\end{equation}\n",
    "with $\\nabla$ the gradient operator."
   ]
  },
  {
   "cell_type": "markdown",
   "id": "31e54191-88eb-46db-a4be-a7df9e48632d",
   "metadata": {},
   "source": [
    "<figure>\n",
    "  <img src=\"pictures/MT_domain.png\">\n",
    "  <figcaption>\n",
    "    <center>\n",
    "      Figure 2.1: Example 1: MT domain\n",
    "    </center>\n",
    "  </figcaption>\n",
    " </figure>\n",
    " "
   ]
  },
  {
   "cell_type": "markdown",
   "id": "7059667f-fbc5-45c2-8775-09d204c6e521",
   "metadata": {
    "tags": []
   },
   "source": [
    "## 2D isotropic simplification\n",
    "$\\boldsymbol{\\sigma}=\\sigma \\textbf{I}_3$, where $\\textbf{I}_3$ is a $3\\times3$ identity matrix.\n",
    "\n",
    "Derivatives in the $x_2$ direction are zero.\n",
    "\n",
    "\n"
   ]
  },
  {
   "cell_type": "markdown",
   "id": "08ce970e-7c1c-43d1-98a7-87d917e2bca3",
   "metadata": {},
   "source": [
    "### TE mode\n",
    "\n",
    "\\begin{equation}\\label{EQ:E_2PDE}\n",
    "    \\nabla\\cdot(\\nabla E_2) - i\\omega\\mu\\sigma E_2 = 0.\n",
    "\\end{equation}\n",
    "\n",
    "Assume $E_2$ is a constant on the top boundary, zero on the bottom boundary and Neumann conditions on the side boundaries $\\left(\\frac{\\partial E_2}{\\partial x_0}=0\\right)$.\n",
    "\n",
    "Weak form, using integration by parts,\n",
    "\\begin{equation}\n",
    "\\int_{\\Omega}\\nabla E_2\\cdot\\nabla \\psi~d\\Omega +\\int_{\\Omega} i\\omega\\mu\\sigma E_2\\cdot \\psi d\\Omega = 0\n",
    "\\end{equation}\n",
    "where $\\psi$ are test functions that satisfy the boundary conditions.\n",
    "\n",
    "### TM mode\n",
    "\n",
    "\\begin{equation}\\label{EQ:H_2PDE}\n",
    "    \\nabla\\cdot(\\rho\\nabla H_2) - i\\omega\\mu H_2 = 0.\n",
    "\\end{equation}\n",
    "\n",
    "Assume $H_2$ is a constant in the air layer, zero on the bottom boundary and Neumann conditions on the side boundaries $\\left(\\frac{\\partial H_2}{\\partial x_0}=0\\right)$.\n",
    "\n",
    "Weak form, using integration by parts,\n",
    "\\begin{equation}\n",
    "\\int_{\\Omega}\\rho\\nabla H_2\\cdot\\nabla \\phi~d\\Omega +\\int_{\\Omega} i\\omega\\mu H_2\\cdot \\phi d\\Omega = 0\n",
    "\\end{equation}\n",
    "where $\\phi$ are test functions that satisfy the boundary conditions.\n"
   ]
  },
  {
   "cell_type": "markdown",
   "id": "00dad59d-74f3-46be-ba2f-f763e0918a70",
   "metadata": {},
   "source": [
    "## Example\n",
    "<figure>\n",
    "  <img src=\"pictures/PACEforward.png\", width=\"400\">  <img src=\"pictures/zoomPACEforward.png\", width=\"355\">\n",
    "  <figcaption>\n",
    "    <center>\n",
    "      Resistivity\n",
    "    </center>\n",
    "  </figcaption>\n",
    " </figure>\n"
   ]
  },
  {
   "cell_type": "markdown",
   "id": "36a226ec-510a-4e62-b474-fae764c55037",
   "metadata": {},
   "source": [
    "#### Make a mesh\n",
    "<figure>\n",
    "  <img src=\"pictures/PaceMesh.png\", width=\"400\">  <img src=\"pictures/zoomPaceMesh.png\", width=\"400\">\n",
    "  <figcaption>\n",
    "    <center>\n",
    "      Resistivity\n",
    "    </center>\n",
    "  </figcaption>\n",
    " </figure>"
   ]
  },
  {
   "cell_type": "markdown",
   "id": "1a598e9a-d3a7-45a3-bc30-f979b55cb7ab",
   "metadata": {},
   "source": [
    "## Forward MT Code"
   ]
  },
  {
   "cell_type": "code",
   "execution_count": 1,
   "id": "d5dd3e24-4912-4e5b-b4a1-ca2b9eb03ec3",
   "metadata": {},
   "outputs": [],
   "source": [
    "# modules\n",
    "\n",
    "import numpy as np\n",
    "from esys.finley import ReadGmsh\n",
    "from MTmodel import MT2Dmodel\n",
    "from esys.escript import *\n",
    "from esys.escript.pdetools import Locator, MaskFromTag"
   ]
  },
  {
   "cell_type": "code",
   "execution_count": 2,
   "id": "ef94b4ae-1873-4bd1-96dd-448096d25027",
   "metadata": {},
   "outputs": [
    {
     "name": "stderr",
     "output_type": "stream",
     "text": [
      "/usr/lib/python3/dist-packages/ipykernel/ipkernel.py:283: DeprecationWarning: `should_run_async` will not call `transform_cell` automatically in the future. Please pass the result to `transformed_cell` argument and any exception that happen during thetransform in `preprocessing_exc_tuple` in IPython 7.17 and above.\n",
      "  and should_run_async(code)\n"
     ]
    }
   ],
   "source": [
    "# Input data\n",
    "\n",
    "# mesh name\n",
    "mesh_name = \"mesh/MT2DPACE.msh\"\n",
    "\n",
    "### Periods log base 10\n",
    "pstart = -2       # smallest period, 0.01\n",
    "pend = 2          # largest period, 100. \n",
    "pnum = 5         # number of periods\n",
    "\n",
    "### sensors measurement within the element, just below ground level\n",
    "cg = 100.                   # mesh size at core ground level\n",
    "snum = 5;                   # number of sensors\n",
    "sspan = 18000.0;            # span of sensors\n",
    "\n",
    "# blob \n",
    "blobL = -4000.              # left\n",
    "blobR = 4000.               # right\n",
    "blobT = -2000.              # top\n",
    "blobB = -5000.\n",
    "\n",
    "\n",
    "# conductivity of the background and the blob\n",
    "sigma_BG = 1./100\n",
    "sigma_blob = 1./10\n",
    "\n",
    "# ground level\n",
    "airLayer = 0.0\n",
    "\n",
    "mu = 4*np.pi*1e-7\n",
    "\n",
    "fixBottom = True"
   ]
  },
  {
   "cell_type": "code",
   "execution_count": 3,
   "id": "05430c9a-d70e-4bc3-a89d-912d86f38e7d",
   "metadata": {},
   "outputs": [
    {
     "name": "stdout",
     "output_type": "stream",
     "text": [
      "periods\n",
      "[1.00000000e-02 2.78255940e-02 7.74263683e-02 2.15443469e-01\n",
      " 5.99484250e-01 1.66810054e+00 4.64158883e+00 1.29154967e+01\n",
      " 3.59381366e+01 1.00000000e+02]\n",
      "\n",
      "sensors\n",
      "(-9000.0, -42.85714285714286, 0.0)\n",
      "(-7714.285714285714, -42.85714285714286, 0.0)\n",
      "(-6428.571428571428, -42.85714285714286, 0.0)\n",
      "(-5142.857142857143, -42.85714285714286, 0.0)\n",
      "(-3857.142857142857, -42.85714285714286, 0.0)\n",
      "(-2571.4285714285706, -42.85714285714286, 0.0)\n",
      "(-1285.7142857142853, -42.85714285714286, 0.0)\n",
      "(0.0, -42.85714285714286, 0.0)\n",
      "(1285.7142857142862, -42.85714285714286, 0.0)\n",
      "(2571.4285714285725, -42.85714285714286, 0.0)\n",
      "(3857.1428571428587, -42.85714285714286, 0.0)\n",
      "(5142.857142857143, -42.85714285714286, 0.0)\n",
      "(6428.571428571429, -42.85714285714286, 0.0)\n",
      "(7714.285714285714, -42.85714285714286, 0.0)\n",
      "(9000.0, -42.85714285714286, 0.0)\n"
     ]
    }
   ],
   "source": [
    "periods=np.logspace(pstart, pend, num=pnum, endpoint=True, base=10.0, dtype=float)\n",
    "print(\"periods\")\n",
    "print(periods)\n",
    "print()\n",
    "sx = sspan/(snum-1);\n",
    "s1 = sspan/2;sensors = []\n",
    "sg = min(sx/20.,cg);\n",
    "sensors=[]\n",
    "print(\"sensors\")\n",
    "for ind1 in range(snum):\n",
    "    sensors.append((-s1 + ind1*sx, -2.*sg/3., 0.))\n",
    "    print((-s1 + ind1*sx, -2.*sg/3., 0.))"
   ]
  },
  {
   "cell_type": "code",
   "execution_count": 4,
   "id": "33a0bab9-8b95-45b8-9054-b4da5d7fd4c3",
   "metadata": {},
   "outputs": [],
   "source": [
    "# domain\n",
    "domain = ReadGmsh(mesh_name, numDim=2)\n",
    "\n",
    "X = ContinuousFunction(domain).getX()\n",
    "Rground = MaskFromTag(domain,\"core\",\"buffer\")         # Solution Space\n",
    "Rground.expand()                             \n",
    "Rair = 1-Rground\n",
    "\n",
    "GrndF = Scalar(0.,Function(domain))                   # Function Space            \n",
    "GrndF.setTaggedValue(\"core\",1.)\n",
    "GrndF.setTaggedValue(\"buffer\",1.)\n",
    "GrndF.expand()"
   ]
  },
  {
   "cell_type": "code",
   "execution_count": 5,
   "id": "1950a0a0-88d1-456d-9ce4-9653b2a6f7a4",
   "metadata": {},
   "outputs": [],
   "source": [
    "model = MT2Dmodel(domain, sigma_BG, sensors, periods, \n",
    "                        mu=mu, fixBottom = fixBottom, airLayer = airLayer)"
   ]
  },
  {
   "cell_type": "code",
   "execution_count": 6,
   "id": "268866e2-c234-45c3-acc0-701a9e8d7130",
   "metadata": {},
   "outputs": [
    {
     "data": {
      "text/plain": [
       "<MTmodel.MT2Dmodel at 0x7f2bc5070fa0>"
      ]
     },
     "execution_count": 6,
     "metadata": {},
     "output_type": "execute_result"
    }
   ],
   "source": [
    "# define conductivity and resistivity\n",
    "blob = (wherePositive(X[0] - blobL)*whereNegative(X[0] - blobR)*wherePositive(X[1]-blobB)*whereNegative(X[1]-blobT))\n",
    "sigmaCF = blob*sigma_blob +(Rground - blob)*sigma_BG + Rair*0.0\n",
    "rhoCF = blob*1./sigma_blob +(Rground - blob)/sigma_BG + Rair*1e10\n",
    "model.setSigmaRhoForward(sigmaCF, rhoCF, Ground = GrndF)"
   ]
  },
  {
   "cell_type": "code",
   "execution_count": 7,
   "id": "8a56aaf2-7b1f-4fbe-bd9c-1ce2ca0f3be9",
   "metadata": {},
   "outputs": [
    {
     "name": "stdout",
     "output_type": "stream",
     "text": [
      "[[(-0.1984995594134978-0.1920132153346141j), (-0.19854355204790175-0.19319618826807075j), (-0.19850723879201068-0.19177583810483853j), (-0.19849807048309262-0.19130341601232703j), (-0.1984976194191811-0.19246294263569283j), (-0.19835560432739793-0.19145072211344022j), (-0.19846145597037007-0.19232044605409596j), (-0.19848988686107155-0.19271180824677017j), (-0.19841252662805628-0.1918946003731395j), (-0.19843895684906285-0.19248807594277012j), (-0.19841371566679597-0.19149706330146246j), (-0.198520474314649-0.19240988695882838j), (-0.19853630235203687-0.19265741670190062j), (-0.1984870282853071-0.19163569835312572j), (-0.19852289040565121-0.19186564693693972j)], [(-0.1190702244710445-0.11668809046338069j), (-0.11906092044847662-0.11712437246475375j), (-0.11900500160384479-0.11653303248125489j), (-0.11915468585566064-0.11607251270762599j), (-0.11978356865384136-0.11616229149116813j), (-0.12019030831794333-0.11549565620265233j), (-0.12025619749166154-0.11570049368235083j), (-0.12023922196889646-0.11582424293479741j), (-0.12024823232560146-0.11553205702142645j), (-0.1202114107659469-0.11588795125092173j), (-0.11977854868121385-0.1158040894695021j), (-0.11915498658009718-0.1164714694779673j), (-0.11901194874681686-0.11685827353377272j), (-0.11904976956581935-0.11655768531467452j), (-0.1190765211524338-0.11664048232209452j)], [(-0.07142353790768885-0.07041791653736393j), (-0.07163666287165962-0.0705089377233861j), (-0.0721617216501856-0.07054971039612741j), (-0.0728469253623337-0.07167557495798067j), (-0.07318439489496543-0.07411779627926299j), (-0.07353403465538487-0.07572386652519192j), (-0.07390752777470297-0.07635789685408342j), (-0.07402923453253973-0.07646399153172424j), (-0.07390306940353056-0.07632056887026427j), (-0.07353428445642672-0.07587002057643369j), (-0.07317234318060009-0.0740177856745365j), (-0.07285958068252071-0.07182040543776935j), (-0.07216407111371316-0.07066210721145648j), (-0.0716343727591148-0.07030047694502474j), (-0.07142423347376198-0.07040153940661532j)], [(-0.04331036581258891-0.042890569275866035j), (-0.04333875544444016-0.043627133671971664j), (-0.042827004874989236-0.044772394726937885j), (-0.041065204851188884-0.04642064059945221j), (-0.03800044496928118-0.04808658513961692j), (-0.03561461156367259-0.04932929425432802j), (-0.03481545451037217-0.05016585065979419j), (-0.03469272788237074-0.05042250418547285j), (-0.03478462718807986-0.05014732950502842j), (-0.035611831984965474-0.049375843480220956j), (-0.037965154212798995-0.04803832763737266j), (-0.041064767067348684-0.046484108788218376j), (-0.04283411051233311-0.044814690076931805j), (-0.0433421731728268-0.04355631579380957j), (-0.04331216253724549-0.04288453183775263j)], [(-0.025143619206245946-0.027023850793698623j), (-0.024263295679273725-0.02751654190640367j), (-0.02270118555930737-0.02781096359523188j), (-0.020302609578948517-0.027596643120333452j), (-0.017487797499227305-0.026783289055726828j), (-0.01530154430112137-0.026142797064646246j), (-0.014208967833827548-0.026099360690548294j), (-0.013904413896936698-0.02616254412847597j), (-0.014193454646855948-0.026080419171014585j), (-0.0153057487810433-0.026160001620959536j), (-0.017473709787469465-0.026753075384588463j), (-0.020293651655315974-0.027619987670279993j), (-0.02270339594666708-0.02783192545432267j), (-0.02425887243021126-0.027496110297381107j), (-0.025143883543083098-0.02702497568115806j)], [(-0.013225278306041631-0.016169591988602624j), (-0.012329346624109819-0.015918173393385138j), (-0.011175521948125952-0.015336430455073864j), (-0.00982172619006551-0.014342374452838282j), (-0.008470616021568197-0.013099294711993741j), (-0.007399662744207762-0.01212218584449594j), (-0.006763259922723604-0.011666351493316645j), (-0.006550231473306532-0.011544180690329786j), (-0.006757145884281975-0.011655031053516625j), (-0.007400618519050557-0.012130088420506932j), (-0.00846514794008658-0.013084629587413387j), (-0.009812877607609499-0.014346720956175537j), (-0.011171678654464463-0.015344352733588808j), (-0.012321193165336407-0.015908189377583693j), (-0.013221352014927044-0.016170448967597978j)], [(-0.0072382838216708476-0.008445297812644489j), (-0.006873165007178116-0.008015872584832101j), (-0.0064448627960283205-0.00742863035199819j), (-0.005960596543325231-0.00668918031063665j), (-0.005469103354258043-0.005903498209608456j), (-0.005072733654161393-0.005292519631440147j), (-0.00484158398511912-0.004969130714041948j), (-0.004765112893261589-0.004869970912427132j), (-0.004839901368649987-0.004963620459770755j), (-0.005073357474999184-0.005295075124956441j), (-0.005468258140006751-0.005896505808122647j), (-0.00595699389657732-0.006687543472585421j), (-0.006442479020025835-0.007429409885456771j), (-0.006869501291176189-0.008008845109348166j), (-0.007235496897816609-0.008443546883327326j)], [(-0.0047856990165090815-0.004511999560951507j), (-0.004696672108034519-0.004274753579116065j), (-0.004576331246853596-0.0039682909942784575j), (-0.004413312033751297-0.00359216053947242j), (-0.004218517536792262-0.0031934632094541044j), (-0.004048365921763867-0.002879674989924244j), (-0.003949330901669594-0.002710234449962021j), (-0.003916904824974534-0.0026573387917068116j), (-0.003948834230530594-0.002707963519859264j), (-0.004049028247777199-0.0028808503964520217j), (-0.004218897584399661-0.0031910270636383515j), (-0.004412211629902587-0.0035907653350345653j), (-0.004575571983022074-0.003967955143434616j), (-0.0046957119188066766-0.004271385798090321j), (-0.004784742110215869-0.004510561702812615j)], [(-0.0031794145023258903-0.0027853037362080557j), (-0.0031612815250273143-0.0026852708536201607j), (-0.003130142961187128-0.0025502958509982365j), (-0.003078744853203303-0.002374998689190129j), (-0.003007846065991954-0.002178138533993414j), (-0.002940557649549572-0.0020164261484619333j), (-0.00290014409880928-0.0019270078409228117j), (-0.002886771379147885-0.0018986955245145329j), (-0.002899970903778738-0.0019260793576086957j), (-0.002940883619012611-0.002017096700651561j), (-0.003008093579163606-0.0021774761862425277j), (-0.0030783980352249497-0.002374253920701551j), (-0.0031299045104126104-0.0025500091589123453j), (-0.0031610327866635926-0.002683892437054124j), (-0.0031791279349418036-0.002784576994119141j)], [(-0.00197215572059768-0.0017777101538722685j), (-0.001969120706222214-0.0017398874860979547j), (-0.0019624022165476247-0.0016864072250275387j), (-0.0019494626058734826-0.0016131744752413669j), (-0.001929640261625294-0.0015264189903076942j), (-0.0019094722233164193-0.0014520349872471567j), (-0.0018968988130722982-0.0014098405955950148j), (-0.0018926696768182649-0.0013963021893332597j), (-0.0018968374810130746-0.0014094733986450504j), (-0.0019095572932715213-0.001452377891897828j), (-0.0019296895623636364-0.0015262736019161017j), (-0.0019493261275160018-0.0016128651562308533j), (-0.001962282563730884-0.0016862932787749681j), (-0.0019689907506046426-0.0017393913021689336j), (-0.0019720003488733844-0.0017774448554312059j)]]\n"
     ]
    }
   ],
   "source": [
    "# compute electric field, magnetic field and impedances\n",
    "Exs, Hxs, Zxy, Zyx = model.getExHxZs()\n",
    "\n",
    "print(Zxy)"
   ]
  },
  {
   "cell_type": "code",
   "execution_count": null,
   "id": "4474087f-b5d0-46df-884b-7baf363e2d69",
   "metadata": {},
   "outputs": [],
   "source": []
  },
  {
   "cell_type": "code",
   "execution_count": null,
   "id": "6d20ec08-1a62-4996-8937-de10da92d816",
   "metadata": {},
   "outputs": [],
   "source": []
  }
 ],
 "metadata": {
  "kernelspec": {
   "display_name": "Python 3",
   "language": "python",
   "name": "python3"
  },
  "language_info": {
   "codemirror_mode": {
    "name": "ipython",
    "version": 3
   },
   "file_extension": ".py",
   "mimetype": "text/x-python",
   "name": "python",
   "nbconvert_exporter": "python",
   "pygments_lexer": "ipython3",
   "version": "3.9.2"
  }
 },
 "nbformat": 4,
 "nbformat_minor": 5
}
