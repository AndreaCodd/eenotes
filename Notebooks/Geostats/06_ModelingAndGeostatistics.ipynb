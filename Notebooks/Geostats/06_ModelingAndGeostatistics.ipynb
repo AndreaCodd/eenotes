{
 "cells": [
  {
   "cell_type": "markdown",
   "metadata": {
    "toc": true
   },
   "source": [
    "<h1>Numerical Modelling and Geostatistics<span class=\"tocSkip\"></span></h1>\n",
    "<div class=\"toc\"><ul class=\"toc-item\"><li><span><a href=\"#Introduction\" data-toc-modified-id=\"Introduction-1\"><span class=\"toc-item-num\">1&nbsp;&nbsp;</span>Introduction</a></span><ul class=\"toc-item\"><li><span><a href=\"#The-plan\" data-toc-modified-id=\"The-plan-1.1\"><span class=\"toc-item-num\">1.1&nbsp;&nbsp;</span>The plan</a></span></li><li><span><a href=\"#Geostatistics\" data-toc-modified-id=\"Geostatistics-1.2\"><span class=\"toc-item-num\">1.2&nbsp;&nbsp;</span>Geostatistics</a></span></li></ul></li><li><span><a href=\"#Variograms\" data-toc-modified-id=\"Variograms-2\"><span class=\"toc-item-num\">2&nbsp;&nbsp;</span>Variograms</a></span></li><li><span><a href=\"#Realizations\" data-toc-modified-id=\"Realizations-3\"><span class=\"toc-item-num\">3&nbsp;&nbsp;</span>Realizations</a></span></li><li><span><a href=\"#Response-modeling\" data-toc-modified-id=\"Response-modeling-4\"><span class=\"toc-item-num\">4&nbsp;&nbsp;</span>Response modeling</a></span></li><li><span><a href=\"#Remarks\" data-toc-modified-id=\"Remarks-5\"><span class=\"toc-item-num\">5&nbsp;&nbsp;</span>Remarks</a></span></li></ul></div>"
   ]
  },
  {
   "cell_type": "markdown",
   "metadata": {},
   "source": [
    "by Lutz Gross, The University of Queensland, Australia\n",
    "<a href=\"mailto:l.gross@uq.edu.au\">l.gross@uq.edu.au</a>\n",
    "<a rel=\"license\" href=\"http://creativecommons.org/licenses/by-sa/4.0/\"><img alt=\"Creative Commons License\" style=\"border-width:0\" src=\"https://i.creativecommons.org/l/by-sa/4.0/88x31.png\" /></a><br />This work is licensed under a <a rel=\"license\" href=\"http://creativecommons.org/licenses/by-sa/4.0/\">Creative Commons Attribution-ShareAlike 4.0 International License</a>."
   ]
  },
  {
   "cell_type": "markdown",
   "metadata": {},
   "source": [
    "# Introduction\n",
    "\n",
    "## The plan\n",
    "We want to model the gravity profile from a realistic density distribution $m$. \n",
    "Realistic means that it follows a statistics in terms of statistical variance $V(M_i)$\n",
    "as well as spatial correlations expressed in form of covariance $Cov(M_i,M_j)$ where $M_i$ \n",
    "represents random variable modeling the density in the cell   \n",
    "\n",
    "\n",
    "## Geostatistics\n",
    "Geostatistics deals with spatially variable datasets using statistical methods. A key problem\n",
    "is the quantification of the dependence of spatial distributed quantities. The following\n",
    "cartoon explains this: \n",
    "\n",
    "<img src=\"./Figures/GridVariogramDensity.png\" width=350>\n",
    "\n",
    "The density $m_i$ present in each grid cell $i$ is modeled by a random variable $M_i$. \n",
    "The fact that the values of the density in the cells are correlated is described \n",
    "by the covariance of the respective random variables $M_i$. The spatial distribution of the density\n",
    "is then controlled by two factors:\n",
    " \n",
    "1. the variance $V(M_i)=s=\\sigma^2$ of the density found in each cell. \n",
    "2. the distance $h_{ij}$ of the two cells $i$ and $j$ \n",
    "3. the degree at which the covariance $Cov(M_i,M_j)=f(h_{ij})$ decreases with distance $h_{ij}$.\n",
    "\n",
    "We make the additional assumptions that\n",
    "\n",
    "a. the decreases with distance $h_{ij}$ can be modeled by an exponential model described by \n",
    "the *variogram* $\\gamma$. \n",
    "b. the random variables $M_i$ are Gaussian with same mean $\\mu=0$ and the same variance $\\sigma^2$ \n",
    "\n",
    "For more details see:\n",
    "\n",
    " [Kitanidis, P.K. (1997) Introduction to Geostatistics: Applications in Hydrogeology, Cambridge University Press.](https://www.cambridge.org/gb/academic/subjects/earth-and-environmental-science/hydrology-hydrogeology-and-water-resources/introduction-geostatistics-applications-hydrogeology?format=PB&isbn=9780521587471) "
   ]
  },
  {
   "cell_type": "markdown",
   "metadata": {},
   "source": [
    "# Variograms\n",
    "Assume random variables $M_i$ are given at locations $\\mathbf{x}_i$.\n",
    "Think of this as the density at various locations over a given\n",
    "region. First assumption is that the expected values $E(M_i)$ of the\n",
    "$M_i$ is independent from the location:\n",
    "\\begin{equation}\\label{eqMEan}\n",
    "E(M_i)=E(M_j)=\\mu\n",
    "\\end{equation}\n",
    "It is assumed that the covariance of $Q_i$ and $Q_j$\n",
    "is a function of the distance $h_{ij}$ of their locations:\n",
    "\\begin{equation}\\label{eqCov}\n",
    "Cov(M_i,M_j)  = C(h_{ij}) = \\mbox{ depends on location distance $h_{kl}$} \n",
    "\\end{equation}\n",
    "with cell distance\n",
    "\\begin{equation}\\label{eq:dist}\n",
    "h_{ij} = | \\mathbf{x}_i-\\mathbf{x}_j|\n",
    "\\end{equation}\n",
    "For historical reasons a so called variogram $\\gamma$ is used\n",
    "to define the covariance as function of the so called lag $h$.\n",
    "It is defined as \n",
    "\\begin{equation}\\label{eqGamma}\n",
    "\\gamma(h) =C(0)-C(h) = s-C(h)\n",
    "\\end{equation}\n",
    "The following image gives an example of a variogram \n",
    "\n",
    "<img src=\"Figures/Variogram.gif\">\n",
    "\n",
    "\n"
   ]
  },
  {
   "cell_type": "code",
   "execution_count": null,
   "metadata": {},
   "outputs": [],
   "source": [
    "%matplotlib notebook"
   ]
  },
  {
   "cell_type": "markdown",
   "metadata": {},
   "source": [
    "In the following we use the exponential variogram\n",
    "\\begin{equation}\\label{eq:expvario}\n",
    "\\gamma(h)= s \\cdot (1-  e^{-\\frac{3h}{r}})\n",
    "\\end{equation}\n",
    "where $r$ is called range, $s$ is called sill. The nugget effect is ignored here.\n",
    "Let's put this into a function `getVarioGram` for later use:"
   ]
  },
  {
   "cell_type": "code",
   "execution_count": 1,
   "metadata": {
    "tags": [
     "SOLUTION"
    ]
   },
   "outputs": [],
   "source": [
    "import numpy as np\n",
    "def getVariogram(h, s, r):\n",
    "    v=s*(1-np.exp(-3*h/r))\n",
    "    return v"
   ]
  },
  {
   "cell_type": "markdown",
   "metadata": {},
   "source": [
    "First thing to do is to plot this variogram for various parameter values.\n",
    "We start this by creating 100 values of lags `h` between zero and 100 using the\n",
    "`linspace` function in `numpy`:"
   ]
  },
  {
   "cell_type": "code",
   "execution_count": 2,
   "metadata": {
    "tags": [
     "SOLUTION"
    ]
   },
   "outputs": [],
   "source": [
    "h=np.linspace(0, 100., 100)"
   ]
  },
  {
   "cell_type": "code",
   "execution_count": 3,
   "metadata": {},
   "outputs": [
    {
     "data": {
      "text/plain": [
       "((100,), 0.0, 100.0)"
      ]
     },
     "execution_count": 3,
     "metadata": {},
     "output_type": "execute_result"
    }
   ],
   "source": [
    "h.shape, h.min(), h.max()"
   ]
  },
  {
   "cell_type": "markdown",
   "metadata": {},
   "source": [
    "We feed this into `getVariogram`:"
   ]
  },
  {
   "cell_type": "code",
   "execution_count": 4,
   "metadata": {},
   "outputs": [
    {
     "data": {
      "text/plain": [
       "Text(0.5, 1.0, 'Exponential Variogram')"
      ]
     },
     "execution_count": 4,
     "metadata": {},
     "output_type": "execute_result"
    },
    {
     "data": {
      "image/png": "[encoded data removed]",
      "text/plain": [
       "<Figure size 432x288 with 1 Axes>"
      ]
     },
     "metadata": {
      "needs_background": "light"
     },
     "output_type": "display_data"
    }
   ],
   "source": [
    "import matplotlib.pyplot as plt\n",
    "plt.figure()\n",
    "\n",
    "s, r =3, 20\n",
    "plt.plot(h, getVariogram(h, s, r), label=f\"s={s}, r={r}\") \n",
    "\n",
    "s, r=3, 60\n",
    "plt.plot(h, getVariogram(h, s, r), label=f\"s={s}, r={r}\")\n",
    "\n",
    "s, r =2, 60\n",
    "plt.plot(h, getVariogram(h, s, r), label=f\"s={s}, r={r}\")\n",
    "\n",
    "plt.xlabel(\"lag h [m]\")\n",
    "plt.ylabel(\"gamma\")\n",
    "plt.grid(True)\n",
    "plt.legend()\n",
    "plt.title(\"Exponential Variogram\")"
   ]
  },
  {
   "cell_type": "code",
   "execution_count": 5,
   "metadata": {
    "tags": [
     "SOLUTION"
    ]
   },
   "outputs": [
    {
     "data": {
      "text/plain": [
       "Text(0.5, 1.0, 'Covariance')"
      ]
     },
     "execution_count": 5,
     "metadata": {},
     "output_type": "execute_result"
    },
    {
     "data": {
      "image/png": "[encoded data removed]",
      "text/plain": [
       "<Figure size 432x288 with 1 Axes>"
      ]
     },
     "metadata": {
      "needs_background": "light"
     },
     "output_type": "display_data"
    }
   ],
   "source": [
    "plt.figure()\n",
    "\n",
    "s, r =3, 20\n",
    "plt.plot(h, s-getVariogram(h, s, r), label=f\"s={s}, r={r}\") \n",
    "\n",
    "s, r=3, 60\n",
    "plt.plot(h, s-getVariogram(h, s, r), label=f\"s={s}, r={r}\")\n",
    "\n",
    "s, r =2, 60\n",
    "plt.plot(h, s-getVariogram(h, s, r), label=f\"s={s}, r={r}\")\n",
    "\n",
    "plt.xlabel(\"lag h [m]\")\n",
    "plt.ylabel(\"gamma\")\n",
    "plt.grid(True)\n",
    "plt.legend()\n",
    "plt.title(\"Covariance\")"
   ]
  },
  {
   "cell_type": "markdown",
   "metadata": {},
   "source": [
    "Sampling:"
   ]
  },
  {
   "cell_type": "code",
   "execution_count": null,
   "metadata": {},
   "outputs": [],
   "source": []
  },
  {
   "cell_type": "code",
   "execution_count": 6,
   "metadata": {},
   "outputs": [],
   "source": [
    "X0, X1=1000, 1100"
   ]
  },
  {
   "cell_type": "code",
   "execution_count": 7,
   "metadata": {},
   "outputs": [],
   "source": [
    "cov=np.zeros((2,2))"
   ]
  },
  {
   "cell_type": "code",
   "execution_count": 8,
   "metadata": {},
   "outputs": [],
   "source": [
    "s, r=50**2, 2000"
   ]
  },
  {
   "cell_type": "code",
   "execution_count": 9,
   "metadata": {},
   "outputs": [],
   "source": [
    "cov[0,0]=s\n",
    "cov[1,1]=s"
   ]
  },
  {
   "cell_type": "code",
   "execution_count": 10,
   "metadata": {},
   "outputs": [],
   "source": [
    "h=abs(X1-X0)\n",
    "cov[1,0]=s-getVariogram(h, s, r)\n",
    "cov[0,1]=s-getVariogram(h, s, r)"
   ]
  },
  {
   "cell_type": "code",
   "execution_count": 11,
   "metadata": {},
   "outputs": [
    {
     "data": {
      "text/plain": [
       "array([[2500.        , 2151.76994106],\n",
       "       [2151.76994106, 2500.        ]])"
      ]
     },
     "execution_count": 11,
     "metadata": {},
     "output_type": "execute_result"
    }
   ],
   "source": [
    "cov"
   ]
  },
  {
   "cell_type": "code",
   "execution_count": 12,
   "metadata": {},
   "outputs": [],
   "source": [
    "M=np.random.multivariate_normal([0,0], cov, size=500)"
   ]
  },
  {
   "cell_type": "code",
   "execution_count": 13,
   "metadata": {},
   "outputs": [
    {
     "data": {
      "text/plain": [
       "(500, 2)"
      ]
     },
     "execution_count": 13,
     "metadata": {},
     "output_type": "execute_result"
    }
   ],
   "source": [
    "M.shape"
   ]
  },
  {
   "cell_type": "code",
   "execution_count": 14,
   "metadata": {},
   "outputs": [
    {
     "data": {
      "text/plain": [
       "array([[-2.82142773e+01, -2.23963359e+01],\n",
       "       [ 2.27005105e+01,  3.46998532e+01],\n",
       "       [-6.28990067e+01, -2.17042418e+01],\n",
       "       [-3.52818437e+01, -3.89698613e+01],\n",
       "       [-3.51596391e+01, -6.82568582e+01],\n",
       "       [ 4.97718163e+01,  9.08149545e+01],\n",
       "       [ 1.98321164e+01,  5.05711366e+01],\n",
       "       [ 3.27135038e+01,  5.07768333e+01],\n",
       "       [ 3.91988987e+01,  5.17322001e+01],\n",
       "       [ 7.52228398e+01,  5.01739919e+01],\n",
       "       [ 3.07218370e+01,  3.60857357e+01],\n",
       "       [ 3.78203429e+00,  1.50581869e+01],\n",
       "       [ 5.07219188e+01,  5.19623652e+01],\n",
       "       [-3.77658864e+01, -6.90619030e+01],\n",
       "       [ 9.95073422e+01,  8.55989720e+01],\n",
       "       [-1.03774308e+02, -8.87479546e+01],\n",
       "       [-4.22870928e+01, -2.39724853e+01],\n",
       "       [-2.13789267e+01, -6.19779220e+01],\n",
       "       [ 4.20875668e+01,  5.49776297e+01],\n",
       "       [-1.63718137e+01, -1.31947942e+00],\n",
       "       [-6.91194008e+01, -1.00072176e+02],\n",
       "       [-2.61832523e+01,  3.20410944e+01],\n",
       "       [-1.37883450e+02, -1.59832601e+02],\n",
       "       [ 6.26416059e+01,  4.77855055e+01],\n",
       "       [-4.42383574e+01, -3.58436431e+01],\n",
       "       [ 7.04380254e+01,  1.06534108e+01],\n",
       "       [-9.74157553e-01,  1.59480016e+01],\n",
       "       [ 1.59039351e+01,  6.42836857e+01],\n",
       "       [ 4.53069165e+01,  3.92811963e+01],\n",
       "       [-6.10458001e+00,  5.05474174e+00],\n",
       "       [ 3.17307046e+01,  5.17591836e+01],\n",
       "       [ 7.75488203e+01,  7.10324276e+01],\n",
       "       [-2.47846527e+01, -3.96450128e+00],\n",
       "       [-8.26220940e+01, -4.93068575e+01],\n",
       "       [ 4.61844309e+01,  6.90230073e+01],\n",
       "       [ 1.23223552e+02,  1.10866098e+02],\n",
       "       [-7.68209525e+01, -7.85801621e+01],\n",
       "       [-5.39614819e+00, -1.58689956e+01],\n",
       "       [-9.45714329e-01, -1.66023783e+01],\n",
       "       [ 5.01171040e+01,  4.18608843e+01],\n",
       "       [ 2.66380239e+01,  2.96761813e+01],\n",
       "       [ 1.31119435e+02,  1.32805355e+02],\n",
       "       [-2.67670609e+01, -2.23943171e+01],\n",
       "       [ 2.39952674e+01,  2.03540669e+01],\n",
       "       [-5.40864822e+01, -2.81346793e+01],\n",
       "       [ 3.90652048e+00, -1.64432616e+01],\n",
       "       [-5.15503764e+01, -5.96619503e+01],\n",
       "       [ 4.68465705e+00,  2.98721605e+01],\n",
       "       [-9.15552962e+00,  1.14247011e+01],\n",
       "       [-4.60849137e+01, -6.26933289e+01],\n",
       "       [ 1.08647961e+01,  7.32486222e+01],\n",
       "       [-6.01799532e+01, -6.41835206e+01],\n",
       "       [ 1.82280455e+01,  3.95688841e+01],\n",
       "       [-2.16881559e+01,  7.91926457e+00],\n",
       "       [-9.94409578e+00, -2.64643094e+01],\n",
       "       [-6.79044826e+01, -2.45143136e+01],\n",
       "       [-3.56973879e+01,  5.88924536e+00],\n",
       "       [ 7.06021236e+01,  8.29669036e+01],\n",
       "       [-4.58112771e+01, -8.99113526e+01],\n",
       "       [ 8.97404478e+01,  5.74475477e+01],\n",
       "       [ 2.96554793e+01,  2.90792603e+01],\n",
       "       [ 4.42259669e+01,  3.79384015e+01],\n",
       "       [ 8.42370668e+01,  7.56988839e+01],\n",
       "       [-6.68202837e+01, -1.41685124e+01],\n",
       "       [ 4.66842550e+01,  9.12848871e+01],\n",
       "       [ 1.30256767e+01,  3.32181591e+01],\n",
       "       [-1.08569679e+01,  1.95856303e+01],\n",
       "       [ 1.07988005e+01, -8.72144806e+00],\n",
       "       [-3.79010515e+01, -3.74667989e+01],\n",
       "       [ 6.10895324e+01,  6.10802537e+01],\n",
       "       [-6.03605478e+01, -4.93026508e+01],\n",
       "       [-3.64161750e+01, -2.77807968e+01],\n",
       "       [ 2.34142874e+01, -1.53439237e+01],\n",
       "       [ 4.42900316e+01,  5.24904720e+01],\n",
       "       [ 1.29505372e+01, -1.38656917e+01],\n",
       "       [-2.52082878e+01, -2.95675238e+01],\n",
       "       [ 3.29538619e+01,  3.67811194e+01],\n",
       "       [ 2.59453806e+01,  3.99978395e+01],\n",
       "       [ 1.22530799e+01,  1.80579357e+01],\n",
       "       [ 2.36074087e+01, -2.12511758e+01],\n",
       "       [-4.72869958e+01, -3.99027423e+01],\n",
       "       [-2.82928605e+01, -4.25628994e+01],\n",
       "       [-7.60013055e+00, -6.03068620e+00],\n",
       "       [ 4.54873723e+01,  6.83017001e+01],\n",
       "       [ 5.75881986e+01,  7.26078799e+01],\n",
       "       [ 9.41581958e+00,  7.43285728e+00],\n",
       "       [ 7.17537744e+01,  6.50874409e+01],\n",
       "       [-8.23016292e+01, -8.76996030e+01],\n",
       "       [-2.07173605e+01,  6.47076518e+00],\n",
       "       [ 3.94255329e+01,  5.17744455e+00],\n",
       "       [-1.00583861e+01, -1.53105122e+01],\n",
       "       [-2.49172857e+01, -1.12763161e+01],\n",
       "       [ 8.00171720e+01,  7.02706951e+01],\n",
       "       [ 2.80313538e+00, -1.62696696e+01],\n",
       "       [ 7.24132115e+00,  5.08672696e+01],\n",
       "       [-3.84983281e+01, -1.75939995e+01],\n",
       "       [-2.69621516e+01, -1.27538455e+01],\n",
       "       [-1.79845963e+01, -4.83078943e+01],\n",
       "       [-2.07430752e+01, -2.69925973e+01],\n",
       "       [ 5.12512395e+01,  1.10727566e+02],\n",
       "       [-6.15293812e+00,  1.62448794e+01],\n",
       "       [ 2.33348099e+01,  1.00224043e+01],\n",
       "       [-3.18569276e+01,  2.46098366e+01],\n",
       "       [ 3.57499218e+01,  8.89390572e+01],\n",
       "       [ 6.42844257e+01,  4.19365180e+01],\n",
       "       [ 3.59487906e+01,  7.03349618e+01],\n",
       "       [-5.76990219e+01, -4.31479902e+01],\n",
       "       [-9.56070496e+00, -4.19771080e+01],\n",
       "       [ 1.99106390e+01,  2.50526507e+01],\n",
       "       [ 2.19757078e+01,  7.35047150e+01],\n",
       "       [ 4.77544640e+01,  3.14674035e+01],\n",
       "       [ 8.86685493e+01,  8.72708358e+01],\n",
       "       [ 5.03310468e+01,  6.14906790e+01],\n",
       "       [-9.22727499e+01, -9.69488933e+01],\n",
       "       [ 5.41730825e+01,  3.71307779e+01],\n",
       "       [ 2.51013994e+01,  1.75699083e+01],\n",
       "       [-7.38621004e+01, -4.52421066e+01],\n",
       "       [-6.24140870e+01, -6.23178023e+01],\n",
       "       [-7.77046202e+01, -7.35711527e+01],\n",
       "       [-5.22903259e+01, -3.34226256e+01],\n",
       "       [-2.11243938e+01, -2.85934138e+01],\n",
       "       [ 1.53009020e+02,  1.18168773e+02],\n",
       "       [-3.06724232e+00,  1.69394316e+01],\n",
       "       [ 3.68388249e+01,  2.38034496e+01],\n",
       "       [-3.83572553e+01, -4.43568087e+00],\n",
       "       [ 7.67767146e+01,  4.19947114e+01],\n",
       "       [-4.97039537e+00, -1.93712196e+01],\n",
       "       [-7.42960642e+01, -3.92256483e+01],\n",
       "       [ 5.43736652e+01,  5.05298672e+01],\n",
       "       [-1.02908889e+01,  2.47617111e+00],\n",
       "       [ 8.71492541e+01,  1.57530977e+01],\n",
       "       [ 2.53849094e+01,  2.51328723e+01],\n",
       "       [ 1.00691745e+01,  2.62653649e+01],\n",
       "       [ 3.45851031e+01,  1.98351931e+01],\n",
       "       [ 4.75395444e+00,  2.79059856e+00],\n",
       "       [ 4.29907156e+01,  4.99080485e+01],\n",
       "       [ 2.76798160e+01,  2.36803051e+01],\n",
       "       [-6.84714010e+00,  1.59555872e+01],\n",
       "       [ 2.36298968e+01,  3.07986182e+01],\n",
       "       [-5.16291265e+01, -7.23106596e+01],\n",
       "       [ 9.64603322e+01,  1.17512840e+02],\n",
       "       [-2.12908122e+01, -7.65844402e+00],\n",
       "       [-2.11400898e+01,  1.66464307e+01],\n",
       "       [-6.87266601e+01, -3.55312131e+01],\n",
       "       [ 7.17109613e+01,  2.98058544e+01],\n",
       "       [-1.04778863e+02, -9.24447076e+01],\n",
       "       [-2.92627511e+01, -1.51398167e+01],\n",
       "       [-6.55529476e+01, -5.30268262e+01],\n",
       "       [ 6.88357105e+00,  3.74951762e+01],\n",
       "       [-1.43403401e+02, -1.59390583e+02],\n",
       "       [-4.34476312e+01, -6.84127210e+01],\n",
       "       [-9.17956598e+01, -8.19960249e+01],\n",
       "       [ 7.46380566e+01,  4.78076796e+01],\n",
       "       [ 1.24556434e+02,  1.01839278e+02],\n",
       "       [-1.05619593e+01,  1.65970823e+01],\n",
       "       [-2.75663785e+00,  1.79702148e+01],\n",
       "       [-2.66613187e+01, -1.06207327e+00],\n",
       "       [ 7.24905319e+01,  1.18821912e+02],\n",
       "       [ 1.41508006e+02,  1.55925416e+02],\n",
       "       [-4.54581276e+01, -5.38972119e+01],\n",
       "       [-2.90227027e+01, -5.59323671e+00],\n",
       "       [ 3.51263012e+01,  3.98586831e+01],\n",
       "       [ 1.69374123e+01,  2.27423289e+01],\n",
       "       [ 5.26651852e+01,  5.10509389e+01],\n",
       "       [ 3.68284497e+01,  3.89188702e+01],\n",
       "       [-3.12431017e+01, -1.96879412e+01],\n",
       "       [-6.13771741e+01, -2.56389818e+01],\n",
       "       [ 2.21402830e+01,  2.59179835e+01],\n",
       "       [-4.56078316e+01, -2.28212278e+01],\n",
       "       [-5.56362278e+01, -7.38297856e+01],\n",
       "       [-2.35516206e+00,  4.05388264e+01],\n",
       "       [-9.37684534e+00, -1.61497502e+00],\n",
       "       [ 1.90517833e+01,  3.54145679e+01],\n",
       "       [ 5.39368935e+01,  3.94202449e+01],\n",
       "       [ 3.14680440e+01,  1.63597855e+01],\n",
       "       [ 2.10310233e+01,  2.61198252e+01],\n",
       "       [ 4.31886265e+01, -5.21544265e+00],\n",
       "       [ 5.51743611e+01,  3.43776327e+01],\n",
       "       [-4.75448088e+01, -8.12136146e+01],\n",
       "       [ 6.32009382e+01,  6.94571979e+01],\n",
       "       [ 3.55462205e+01,  3.62556689e+01],\n",
       "       [ 3.17668799e+01,  4.96042659e+01],\n",
       "       [-8.82009017e+01, -8.65691109e+01],\n",
       "       [-1.76285861e+01, -3.70418923e+00],\n",
       "       [-1.94382911e+00, -1.96565897e+00],\n",
       "       [-6.90688151e+01, -6.12606934e+01],\n",
       "       [-7.92804216e+00, -5.21782234e+00],\n",
       "       [-4.68670499e+01, -2.91938069e+01],\n",
       "       [ 3.41290340e+01,  7.06616807e+00],\n",
       "       [-4.66819661e+01, -7.15606684e+01],\n",
       "       [ 3.01220443e+01, -1.96966938e+01],\n",
       "       [ 2.29433533e+01,  2.20496906e+01],\n",
       "       [ 8.04078119e+01,  1.01785398e+02],\n",
       "       [-4.19165114e+01, -4.42702561e+01],\n",
       "       [-5.29637556e+01, -5.32924699e+01],\n",
       "       [-4.42472524e+01, -1.95040638e+01],\n",
       "       [ 1.41219027e+01, -1.55428484e+01],\n",
       "       [-4.91469606e+01, -1.41785792e+01],\n",
       "       [ 8.00782206e+01,  8.39606205e+01],\n",
       "       [-3.50525106e+01, -3.28798337e+01],\n",
       "       [ 8.86769845e+01,  7.12390885e+01],\n",
       "       [-6.18907534e+01, -4.70697959e+01],\n",
       "       [-5.09987880e+00,  5.62902344e+00],\n",
       "       [-4.15422430e+01, -7.54016961e+01],\n",
       "       [ 6.17367645e+01,  5.51098614e+01],\n",
       "       [-1.92485015e+01, -1.89687084e+01],\n",
       "       [ 5.68598871e+01,  7.93120646e+01],\n",
       "       [-1.12773634e+01,  1.97125057e+01],\n",
       "       [ 1.67831836e+01,  2.34831172e+01],\n",
       "       [ 2.01633992e+01, -3.47207963e+01],\n",
       "       [-2.57470893e+01, -6.28698880e+00],\n",
       "       [-1.05826143e+02, -1.02547232e+02],\n",
       "       [ 5.73319829e+01,  6.73741805e+01],\n",
       "       [-6.81654028e+00,  4.55576116e+01],\n",
       "       [ 1.61382321e+01, -8.42207045e+00],\n",
       "       [ 5.64629024e+01,  1.33065092e+01],\n",
       "       [-3.38596271e+01, -5.27308954e+01],\n",
       "       [-4.09375630e+01, -2.28899752e+01],\n",
       "       [ 3.18481345e+01,  4.75016905e+01],\n",
       "       [ 3.56955986e+01,  3.06694098e+01],\n",
       "       [ 2.52328321e+01,  2.31234659e+01],\n",
       "       [ 4.04164989e+01,  2.94660993e+00],\n",
       "       [-5.65265274e+01, -6.03475786e+01],\n",
       "       [-3.67667881e+01, -4.15996247e+01],\n",
       "       [ 1.91418598e+00, -1.03208370e+00],\n",
       "       [-4.25812868e+01, -7.14475809e+01],\n",
       "       [ 4.28375500e-01, -3.99087568e+01],\n",
       "       [-1.21646068e+01, -3.66176758e+01],\n",
       "       [ 2.21274872e+01,  6.06495480e+01],\n",
       "       [ 1.56063828e+01,  4.33001457e+01],\n",
       "       [-1.13205555e+02, -9.93328848e+01],\n",
       "       [-2.43369034e+00,  9.29991914e+00],\n",
       "       [-5.24755014e+01, -6.90146641e+01],\n",
       "       [-6.23944492e+01, -2.32263349e+01],\n",
       "       [-5.68474925e+01, -3.37522327e+01],\n",
       "       [ 1.22991898e+01, -2.27601161e+01],\n",
       "       [ 1.11003874e+01, -2.50615298e+01],\n",
       "       [ 1.84163510e+01, -3.93141752e+01],\n",
       "       [ 4.51431092e+01,  9.06802492e+00],\n",
       "       [ 8.11247489e+01,  9.97687323e+01],\n",
       "       [-2.58002375e+01, -1.78259610e+01],\n",
       "       [-7.73023529e+01, -6.22169951e+01],\n",
       "       [ 3.88769602e+01,  4.65850853e+01],\n",
       "       [ 1.15464981e+02,  7.57690442e+01],\n",
       "       [ 3.02550700e+01,  4.09724927e+01],\n",
       "       [ 5.24491365e+01,  5.53348322e+01],\n",
       "       [-5.93571636e+01, -4.51036058e+01],\n",
       "       [-5.39778105e+01, -1.74719241e+01],\n",
       "       [ 1.37855362e+02,  1.11381303e+02],\n",
       "       [ 8.73817056e+01,  9.57497451e+01],\n",
       "       [-3.15531366e+01, -1.32197804e+01],\n",
       "       [-1.10618679e+01,  1.62799690e+01],\n",
       "       [ 3.62390681e+01,  4.85346663e+01],\n",
       "       [-4.87986322e+01, -3.11081556e+01],\n",
       "       [-2.31247738e+01,  4.48212342e+01],\n",
       "       [-1.19082284e+01,  7.12666517e+00],\n",
       "       [ 7.11663506e+01,  4.99022061e+01],\n",
       "       [ 6.60692455e+01,  5.39520730e+01],\n",
       "       [ 4.12207479e+00,  1.92239071e+01],\n",
       "       [-1.77676223e+01, -8.15886674e+00],\n",
       "       [-3.62514467e+00,  2.37422597e+01],\n",
       "       [-4.39054332e+01, -6.26354228e+01],\n",
       "       [ 7.59759610e+00,  3.24017489e+01],\n",
       "       [ 2.59692350e+01,  9.16666400e+00],\n",
       "       [ 3.59104759e+01,  3.93696963e+01],\n",
       "       [-6.18683050e+00,  2.81916397e+01],\n",
       "       [-1.97889107e+01,  4.07363401e+01],\n",
       "       [ 3.03311992e+01,  1.98844321e+01],\n",
       "       [-3.73421396e+01, -1.60734823e+01],\n",
       "       [-1.79460571e+01,  1.21665798e+01],\n",
       "       [ 7.69265460e+01,  6.44874262e+01],\n",
       "       [ 5.01907008e+01,  3.72373623e+01],\n",
       "       [ 6.62786375e+01,  9.09523300e+01],\n",
       "       [-1.97246008e+01,  1.07775169e+01],\n",
       "       [-7.42443490e+01, -2.08818752e+01],\n",
       "       [-1.78574003e+01, -1.35373434e+01],\n",
       "       [-2.56013868e+01, -4.16975427e+01],\n",
       "       [ 4.13602366e+01,  2.25503186e+01],\n",
       "       [ 4.86458041e+00, -1.97697438e+00],\n",
       "       [-1.97777177e+01, -2.70477961e+01],\n",
       "       [-2.20283235e+01,  8.98645692e+00],\n",
       "       [-2.24077332e+00,  2.07091762e+01],\n",
       "       [-1.33224803e+01, -7.81049470e+00],\n",
       "       [-2.51439370e+01, -5.63506571e+01],\n",
       "       [-1.73258441e+01,  5.75558453e-01],\n",
       "       [-3.63989636e+00, -1.37904010e+01],\n",
       "       [-1.47445530e+01, -4.87240804e+00],\n",
       "       [ 8.06090109e+01,  4.57725988e+01],\n",
       "       [-3.41999375e+01, -4.04377250e+00],\n",
       "       [-9.04689647e+00,  3.50141082e+01],\n",
       "       [ 4.00629728e-01, -9.03363166e+00],\n",
       "       [-3.25475886e+01, -4.22678494e+01],\n",
       "       [ 5.10876119e+01,  5.98834568e+01],\n",
       "       [-5.75774286e+01, -4.68618280e+01],\n",
       "       [-1.85173548e+01, -5.17395358e+01],\n",
       "       [-9.04285099e+01, -6.41195450e+01],\n",
       "       [ 1.63229978e+01, -5.18616392e-01],\n",
       "       [ 4.49070428e+00,  1.76064692e+01],\n",
       "       [ 5.40647048e+01,  7.36217538e+01],\n",
       "       [-7.59469596e+00,  3.06288418e+01],\n",
       "       [ 3.16290451e+01,  3.30199639e+01],\n",
       "       [ 5.11424184e+00, -1.41734948e+01],\n",
       "       [-4.64680996e+01, -5.07040272e+01],\n",
       "       [ 9.63069079e+00,  3.99632128e+01],\n",
       "       [-2.00476263e+01, -3.07282251e+00],\n",
       "       [ 3.97069404e+01,  3.70764420e+01],\n",
       "       [-6.16514781e+01, -3.60117074e+01],\n",
       "       [-7.05745759e+01, -6.60052783e+01],\n",
       "       [ 1.11351069e+01,  4.78767801e+01],\n",
       "       [ 3.33648354e+01, -7.87359375e+00],\n",
       "       [ 6.95833125e-01, -9.62526488e+00],\n",
       "       [ 6.06289434e+01,  2.58410704e+01],\n",
       "       [-5.52947202e+01, -2.44707418e+01],\n",
       "       [-3.64239979e+00,  5.86804419e+00],\n",
       "       [ 7.59512008e+01,  6.46301830e+01],\n",
       "       [ 5.99472964e-01, -5.11310020e+00],\n",
       "       [ 2.83102592e+01,  1.79164067e+01],\n",
       "       [-6.61297574e+01, -5.13897107e+01],\n",
       "       [ 5.01733448e+01,  2.68934161e+01],\n",
       "       [ 2.05673871e+01,  2.16924263e+01],\n",
       "       [-4.12939978e+01, -4.24249920e+01],\n",
       "       [-2.22093130e+01, -4.89491382e+01],\n",
       "       [ 7.11756526e+01,  9.68608786e+01],\n",
       "       [ 1.65794222e+01, -8.50486213e+00],\n",
       "       [ 6.13628620e+01,  7.39134855e+01],\n",
       "       [ 1.94818678e+01,  4.91768141e+00],\n",
       "       [-8.66430197e+01, -9.93321041e+00],\n",
       "       [-6.37754469e+01, -3.62019685e+01],\n",
       "       [-1.37933952e+02, -7.02296782e+01],\n",
       "       [ 7.20757883e+01,  5.20384008e+01],\n",
       "       [-1.33350970e+02, -1.26115825e+02],\n",
       "       [-1.75952307e+01, -3.27940170e+01],\n",
       "       [ 4.97785372e+01,  4.26316699e+01],\n",
       "       [ 4.07444861e+01,  8.36953882e+00],\n",
       "       [-7.18690890e+01, -2.85694598e+01],\n",
       "       [-6.99711307e+01, -2.84471969e+01],\n",
       "       [-3.68075947e+01, -2.36841193e+01],\n",
       "       [ 3.28951784e+01,  4.43452501e+01],\n",
       "       [ 6.76488646e+00,  4.26004052e+01],\n",
       "       [ 2.36524070e+01,  5.29386774e-01],\n",
       "       [-3.45457120e+01, -2.77457933e+01],\n",
       "       [ 6.43762212e+01,  8.55681969e+01],\n",
       "       [ 5.48200502e+01,  5.87174105e+01],\n",
       "       [ 3.00625837e+01,  5.61776230e+00],\n",
       "       [ 3.87570237e+01,  3.33814574e+01],\n",
       "       [ 2.31826441e+01,  3.07028171e-01],\n",
       "       [ 7.97163089e+00,  2.21135985e+01],\n",
       "       [-1.23580939e+01, -2.87180244e+01],\n",
       "       [-1.24619548e+01,  2.55183887e+01],\n",
       "       [-2.16691934e+01,  1.94781846e+01],\n",
       "       [ 2.22425179e+00,  3.84607495e+00],\n",
       "       [-3.14334178e+01, -6.58057523e+01],\n",
       "       [ 1.92934386e+01,  4.89170510e+01],\n",
       "       [ 4.55879773e+00, -2.55618320e+01],\n",
       "       [-1.10196498e+02, -9.19214666e+01],\n",
       "       [ 2.52493644e+00,  3.34064025e+01],\n",
       "       [ 7.42252593e+01,  5.52048542e+01],\n",
       "       [ 1.12534008e+01,  2.50507826e+01],\n",
       "       [ 2.22299694e+01,  4.39320686e+01],\n",
       "       [-4.12754945e+01, -4.60487000e+01],\n",
       "       [-3.86522445e+01,  1.59257323e+01],\n",
       "       [-1.13852898e+01,  6.71748565e+00],\n",
       "       [ 2.65672825e+01,  4.02627932e+01],\n",
       "       [ 1.01889880e+01,  3.95962381e+01],\n",
       "       [ 6.04695826e+01,  6.60781048e+01],\n",
       "       [ 2.14188104e+01,  3.04049103e+01],\n",
       "       [ 1.45010247e+01,  2.97737874e+01],\n",
       "       [ 4.33612102e+01,  7.44143356e+01],\n",
       "       [ 2.22797664e+01,  3.11100631e+01],\n",
       "       [ 4.40484102e+01,  5.32979396e+01],\n",
       "       [-2.87789805e+01, -6.68173291e+01],\n",
       "       [ 8.71666287e+00,  3.22697246e+01],\n",
       "       [ 1.08461941e+01,  1.87208089e+01],\n",
       "       [-7.12038221e+00, -1.83052013e+01],\n",
       "       [-6.91168633e+01, -5.15341310e+01],\n",
       "       [ 8.09380277e+01,  7.83709427e+01],\n",
       "       [ 2.93125158e+01,  4.66399208e+01],\n",
       "       [ 1.75051763e+00,  2.36700040e+01],\n",
       "       [-1.88663252e+01, -2.34813411e+01],\n",
       "       [-5.09800262e+01, -6.32526596e+01],\n",
       "       [ 3.23116740e+01,  2.44418235e+01],\n",
       "       [-2.07435534e+01, -2.65202458e+01],\n",
       "       [ 7.10973322e+01,  1.04353490e+02],\n",
       "       [-4.35268307e+01, -9.11166377e+01],\n",
       "       [ 7.96148252e+00,  1.22131915e+01],\n",
       "       [-7.52144442e+01, -8.13563316e+01],\n",
       "       [ 1.67244807e+02,  1.30145621e+02],\n",
       "       [ 1.34137888e+01, -4.88133017e+00],\n",
       "       [ 2.32273746e+01,  5.28863436e+01],\n",
       "       [ 1.39628356e+00, -5.38271807e+00],\n",
       "       [ 8.45128962e+01,  4.56112609e+01],\n",
       "       [ 3.53468511e+01,  3.18930903e+01],\n",
       "       [ 3.64767572e+01,  4.53096399e+01],\n",
       "       [ 7.84789956e+01,  1.32813695e+02],\n",
       "       [ 3.85632214e+00,  9.18188035e+00],\n",
       "       [ 5.35808163e+01,  6.63506486e+01],\n",
       "       [-4.70500187e+01, -6.24289204e+01],\n",
       "       [-4.45414819e+01, -7.72534100e+01],\n",
       "       [-7.30633422e+01, -7.97414853e+01],\n",
       "       [-8.60488593e+00, -1.75496381e+01],\n",
       "       [ 5.89164045e+01,  5.51485797e+01],\n",
       "       [ 6.14165380e+01,  5.13200942e+01],\n",
       "       [ 6.21298500e+01,  9.61775949e+01],\n",
       "       [ 1.71133933e+01,  1.21140335e+01],\n",
       "       [ 4.23837093e+00,  3.21984324e+01],\n",
       "       [-2.35639056e+01, -2.79205400e+01],\n",
       "       [-5.97813146e+01, -5.44172292e+01],\n",
       "       [ 3.24428517e+01,  3.32373105e+01],\n",
       "       [ 2.04819029e+01, -1.38935650e+01],\n",
       "       [ 7.94899586e+01,  9.17770856e+01],\n",
       "       [ 2.44220894e+00,  6.41283262e-02],\n",
       "       [-9.25533381e+01, -5.73086179e+01],\n",
       "       [-7.76769389e+01, -7.82167084e+01],\n",
       "       [-2.84234522e+01,  3.63977682e+01],\n",
       "       [ 1.22313866e+01,  1.33467284e+01],\n",
       "       [ 2.79250797e+01,  2.17862881e+01],\n",
       "       [ 5.40122627e+01,  9.88992216e+01],\n",
       "       [-2.35004040e+01,  1.45134724e+00],\n",
       "       [ 8.82804247e+01,  8.52830158e+01],\n",
       "       [-1.79764839e+01, -3.15969538e+01],\n",
       "       [ 1.98334669e+01,  4.28524748e+00],\n",
       "       [ 3.36590317e+01,  1.54131632e+01],\n",
       "       [ 6.97245098e+00,  4.59496720e+01],\n",
       "       [ 8.36399907e+01,  1.03412783e+02],\n",
       "       [ 4.02436012e+01, -1.51154479e+01],\n",
       "       [ 9.70332916e+00,  7.60641066e+00],\n",
       "       [ 3.27478812e+01,  5.43320657e+01],\n",
       "       [-2.53165668e+01,  2.33959634e+01],\n",
       "       [ 1.12196410e+01,  3.09245331e+01],\n",
       "       [ 7.00616527e+01,  6.42226475e+01],\n",
       "       [ 1.42732982e+01,  5.94934291e+01],\n",
       "       [ 2.76499258e+01,  5.91111124e+01],\n",
       "       [-3.40507951e+01, -4.24525233e+01],\n",
       "       [-6.81343264e+01, -1.87854450e+01],\n",
       "       [-3.69625949e+01, -2.66360381e+01],\n",
       "       [ 1.89936720e+01,  2.24526799e+01],\n",
       "       [-3.06069915e+01,  2.37037855e+01],\n",
       "       [-4.05771691e+00, -8.66394753e+00],\n",
       "       [-3.34230460e+01, -1.30183996e+01],\n",
       "       [-1.75809812e+01, -9.04877351e+00],\n",
       "       [-1.49110711e+01, -2.15522228e+01],\n",
       "       [ 6.32592616e+01,  7.15485513e+01],\n",
       "       [ 4.92421681e+01,  2.57957261e+01],\n",
       "       [-4.25508578e+01, -5.62946828e+01],\n",
       "       [-4.01714765e+01, -6.75491176e+01],\n",
       "       [ 2.54640669e+01,  2.79046532e+01],\n",
       "       [-7.48796993e+01, -8.24226323e+01],\n",
       "       [-1.57263671e+01,  1.21545421e+01],\n",
       "       [-3.77545849e+01, -4.57560696e+01],\n",
       "       [-9.87513408e-01,  1.61644532e+01],\n",
       "       [-1.34516091e+01, -2.50734569e+01],\n",
       "       [ 3.38087638e+01,  4.59028804e+00],\n",
       "       [-2.20005018e+01,  1.05593862e+01],\n",
       "       [-1.35665232e+01, -9.57906276e+00],\n",
       "       [ 5.13425821e+01,  4.76275467e+01],\n",
       "       [ 2.69729150e+00, -4.90015810e+01],\n",
       "       [ 8.32274288e+01,  8.04225338e+01],\n",
       "       [-2.39705377e+00, -5.25959575e+00],\n",
       "       [-3.82113018e+01, -3.04302497e+01],\n",
       "       [ 3.00446842e+01, -2.67380201e+00],\n",
       "       [ 9.13226048e+00, -1.89860422e+01],\n",
       "       [-7.43559787e+01, -6.74028219e+01],\n",
       "       [ 6.52335594e+01,  7.97588592e+01],\n",
       "       [ 4.35313897e+01,  1.96017998e-01],\n",
       "       [ 6.10322294e+01,  2.45940930e+01],\n",
       "       [ 2.50120060e+01,  6.76527872e+01],\n",
       "       [ 6.09598730e+00, -7.19841957e+00],\n",
       "       [ 5.45805200e+01,  3.21070370e+01],\n",
       "       [ 2.97632278e+01,  9.86691081e+00],\n",
       "       [ 3.68489879e+01,  2.43455432e+01],\n",
       "       [ 9.10559954e+00,  2.30773236e+01],\n",
       "       [-1.59905775e+01,  2.57552685e+01],\n",
       "       [-5.50822222e+01, -1.87228394e+01],\n",
       "       [-3.37734901e+01, -5.39256822e+01],\n",
       "       [ 2.07310406e+01, -1.14373272e+01],\n",
       "       [-7.38933401e+01, -6.14268574e+01],\n",
       "       [-5.36069306e+01, -4.23472433e+01],\n",
       "       [-4.93374734e+01, -1.99637690e+01],\n",
       "       [ 5.94830359e+01,  8.52667623e+01],\n",
       "       [ 9.44944082e+00,  1.37120980e+01],\n",
       "       [-5.74176716e+01, -4.28600719e+01],\n",
       "       [ 9.80629347e+00,  4.60011065e+00],\n",
       "       [-4.28870345e+01, -5.90679871e+01],\n",
       "       [ 1.03520721e+02,  1.14601987e+02],\n",
       "       [-8.60559895e+01, -3.63647746e+01],\n",
       "       [ 1.65771344e+01,  3.12071726e+01],\n",
       "       [-4.78505379e+01, -4.30807423e+01],\n",
       "       [-1.68549058e+02, -1.33602306e+02],\n",
       "       [ 2.59431360e+01,  4.48642320e+01],\n",
       "       [ 5.46681224e+01,  3.25741061e+01],\n",
       "       [ 6.01791159e+01,  5.24125767e+01],\n",
       "       [-2.27940484e+01, -2.16076684e+01],\n",
       "       [ 6.21588623e+01,  9.80676783e+01],\n",
       "       [-4.23731474e+01, -2.86597700e+01],\n",
       "       [-4.42712668e+00, -3.50358165e+01],\n",
       "       [ 1.29382855e+01,  1.51613863e+01],\n",
       "       [ 9.20505859e+01,  9.01349146e+01],\n",
       "       [-5.30968629e+01,  1.60742881e+01],\n",
       "       [ 1.95395730e+01,  4.07056217e+01],\n",
       "       [ 1.82097351e+01,  3.37674643e+01]])"
      ]
     },
     "execution_count": 14,
     "metadata": {},
     "output_type": "execute_result"
    }
   ],
   "source": [
    "M"
   ]
  },
  {
   "cell_type": "code",
   "execution_count": 15,
   "metadata": {},
   "outputs": [
    {
     "data": {
      "text/plain": [
       "Text(0.5, 1.0, 'density at X1 sill =2500 and range 2000')"
      ]
     },
     "execution_count": 15,
     "metadata": {},
     "output_type": "execute_result"
    },
    {
     "data": {
      "image/png": "[encoded data removed]",
      "text/plain": [
       "<Figure size 432x288 with 1 Axes>"
      ]
     },
     "metadata": {
      "needs_background": "light"
     },
     "output_type": "display_data"
    }
   ],
   "source": [
    "plt.hist(M[:,0], 20, range=[-200,200])\n",
    "plt.title(f\"density at X1 sill ={s} and range {r}\")"
   ]
  },
  {
   "cell_type": "code",
   "execution_count": 16,
   "metadata": {
    "scrolled": true
   },
   "outputs": [
    {
     "data": {
      "text/plain": [
       "Text(0.5, 1.0, 'covariance between X1  and X0 sill =2500 and range 2000')"
      ]
     },
     "execution_count": 16,
     "metadata": {},
     "output_type": "execute_result"
    },
    {
     "data": {
      "image/png": "[encoded data removed]",
      "text/plain": [
       "<Figure size 432x288 with 1 Axes>"
      ]
     },
     "metadata": {
      "needs_background": "light"
     },
     "output_type": "display_data"
    }
   ],
   "source": [
    "M01=(M[:,0]-M[:,1])/2\n",
    "plt.hist(M01, 80, range=[-100,100])\n",
    "plt.title(f\"covariance between X1  and X0 sill ={s} and range {r}\")"
   ]
  },
  {
   "cell_type": "code",
   "execution_count": 17,
   "metadata": {},
   "outputs": [
    {
     "data": {
      "text/plain": [
       "18.66092331417059"
      ]
     },
     "execution_count": 17,
     "metadata": {},
     "output_type": "execute_result"
    }
   ],
   "source": [
    "getVariogram(h, s,r)**0.5"
   ]
  },
  {
   "cell_type": "markdown",
   "metadata": {},
   "source": [
    "# Realizations\n",
    "A first interesting question is how would possible realization of random variables\n",
    "following a variogram. We will draw random samples from a multivariate normal distribution.  The multivariate normal, multinormal or Gaussian distribution is a generalization of the one-dimensional normal distribution to higher dimensions. Such a distribution is specified by its mean and covariance matrix which we need to construct from a variogram. These parameters are analogous to the mean (average or “center”) and variance (standard deviation, or “width,” squared) of the one-dimensional normal distribution.\n",
    "We use the function [`multivariate_normal`](https://numpy.org/devdocs/reference/random/generated/numpy.random.Generator.multivariate_normal.html#numpy.random.Generator.multivariate_normal) from `numpy`.\n",
    "\n",
    "First we need to define locations over at which we want to construct realizations: here we assume a domain of horizontal extend of $50km$ and a vertical extend of $25km$:"
   ]
  },
  {
   "cell_type": "code",
   "execution_count": null,
   "metadata": {},
   "outputs": [],
   "source": []
  },
  {
   "cell_type": "code",
   "execution_count": 18,
   "metadata": {},
   "outputs": [],
   "source": [
    "Lx, Lz=50000, 25000"
   ]
  },
  {
   "cell_type": "markdown",
   "metadata": {},
   "source": [
    "We generate positions of horizontal ('x') and vertical ('z') grid lines:"
   ]
  },
  {
   "cell_type": "code",
   "execution_count": 19,
   "metadata": {
    "tags": [
     "SOLUTION"
    ]
   },
   "outputs": [],
   "source": [
    "xline=np.linspace(0, Lx, 71)\n",
    "zline=np.linspace(0, Lz, 36)\n"
   ]
  },
  {
   "cell_type": "code",
   "execution_count": 20,
   "metadata": {},
   "outputs": [
    {
     "data": {
      "text/plain": [
       "array([    0.        ,   714.28571429,  1428.57142857,  2142.85714286,\n",
       "        2857.14285714,  3571.42857143,  4285.71428571,  5000.        ,\n",
       "        5714.28571429,  6428.57142857,  7142.85714286,  7857.14285714,\n",
       "        8571.42857143,  9285.71428571, 10000.        , 10714.28571429,\n",
       "       11428.57142857, 12142.85714286, 12857.14285714, 13571.42857143,\n",
       "       14285.71428571, 15000.        , 15714.28571429, 16428.57142857,\n",
       "       17142.85714286, 17857.14285714, 18571.42857143, 19285.71428571,\n",
       "       20000.        , 20714.28571429, 21428.57142857, 22142.85714286,\n",
       "       22857.14285714, 23571.42857143, 24285.71428571, 25000.        ])"
      ]
     },
     "execution_count": 20,
     "metadata": {},
     "output_type": "execute_result"
    }
   ],
   "source": [
    "zline"
   ]
  },
  {
   "cell_type": "markdown",
   "metadata": {},
   "source": [
    "Create the grid points:"
   ]
  },
  {
   "cell_type": "code",
   "execution_count": 21,
   "metadata": {
    "tags": [
     "SOLUTION"
    ]
   },
   "outputs": [],
   "source": [
    "xg, zg = np.meshgrid(xline, zline)"
   ]
  },
  {
   "cell_type": "markdown",
   "metadata": {},
   "source": [
    "We straighten the grid locations `xg` and `yg` into 1D arrays so we can easily calculate grid node differences:"
   ]
  },
  {
   "cell_type": "code",
   "execution_count": 22,
   "metadata": {
    "tags": [
     "SOLUTION"
    ]
   },
   "outputs": [],
   "source": [
    "xx=xg.flatten()\n",
    "zz=zg.flatten()"
   ]
  },
  {
   "cell_type": "code",
   "execution_count": 23,
   "metadata": {},
   "outputs": [
    {
     "data": {
      "text/plain": [
       "((36, 71), (2556,))"
      ]
     },
     "execution_count": 23,
     "metadata": {},
     "output_type": "execute_result"
    }
   ],
   "source": [
    "xg.shape, xx.shape"
   ]
  },
  {
   "cell_type": "code",
   "execution_count": 24,
   "metadata": {},
   "outputs": [
    {
     "data": {
      "text/plain": [
       "array([    0.        ,   714.28571429,  1428.57142857, ...,\n",
       "       48571.42857143, 49285.71428571, 50000.        ])"
      ]
     },
     "execution_count": 24,
     "metadata": {},
     "output_type": "execute_result"
    }
   ],
   "source": [
    "xg.reshape((2556,))"
   ]
  },
  {
   "cell_type": "markdown",
   "metadata": {},
   "source": [
    "**note**: Node $x_i$ has coordinates (`xx[i]`, `zz[i]`)."
   ]
  },
  {
   "cell_type": "markdown",
   "metadata": {},
   "source": [
    "Now we create the matrix of lags `h` between the random variable positions:"
   ]
  },
  {
   "cell_type": "code",
   "execution_count": 25,
   "metadata": {
    "tags": [
     "SOLUTION"
    ]
   },
   "outputs": [],
   "source": [
    "h=np.zeros( (len(xx), len(xx)) )\n",
    "for i in range(len(xx)):\n",
    "    # take grid point i at (xx[i], yy[i])\n",
    "    # array of distance to the other points\n",
    "    hi=np.sqrt((xx[i]-xx)**2 + (zz[i]-zz)**2)\n",
    "    h[i,:]=hi"
   ]
  },
  {
   "cell_type": "code",
   "execution_count": 26,
   "metadata": {},
   "outputs": [
    {
     "data": {
      "text/plain": [
       "(0.0, 714.2857142857143, 1428.5714285714287, 2142.857142857143)"
      ]
     },
     "execution_count": 26,
     "metadata": {},
     "output_type": "execute_result"
    }
   ],
   "source": [
    "h[0,0], h[0,1], h[0,2], h[0,3]"
   ]
  },
  {
   "cell_type": "markdown",
   "metadata": {},
   "source": [
    "**Note** `h[i,j]` is now the distance of node $\\mathbf{x}_i$ and  $\\mathbf{x}_j$"
   ]
  },
  {
   "cell_type": "markdown",
   "metadata": {},
   "source": [
    "Let's have quick look how the lag matrix look like:"
   ]
  },
  {
   "cell_type": "code",
   "execution_count": 27,
   "metadata": {
    "tags": [
     "SOLUTION"
    ]
   },
   "outputs": [
    {
     "data": {
      "text/plain": [
       "<matplotlib.colorbar.Colorbar at 0x7f6531808940>"
      ]
     },
     "execution_count": 27,
     "metadata": {},
     "output_type": "execute_result"
    },
    {
     "data": {
      "image/png": "[encoded data removed]",
      "text/plain": [
       "<Figure size 432x288 with 2 Axes>"
      ]
     },
     "metadata": {
      "needs_background": "light"
     },
     "output_type": "display_data"
    }
   ],
   "source": [
    "plt.imshow(h)\n",
    "plt.colorbar()"
   ]
  },
  {
   "cell_type": "markdown",
   "metadata": {},
   "source": [
    "We create the covariance matrix from `h` for \n",
    "sill `50^2` and range $2km$:"
   ]
  },
  {
   "cell_type": "code",
   "execution_count": 28,
   "metadata": {
    "tags": [
     "SOLUTION"
    ]
   },
   "outputs": [],
   "source": [
    "s,r = 50**2, 20000"
   ]
  },
  {
   "cell_type": "code",
   "execution_count": 29,
   "metadata": {
    "tags": [
     "SOLUTION"
    ]
   },
   "outputs": [],
   "source": [
    "cov=s-getVariogram(h, s, r)"
   ]
  },
  {
   "cell_type": "code",
   "execution_count": 30,
   "metadata": {},
   "outputs": [
    {
     "data": {
      "text/plain": [
       "((2556, 2556), 2556)"
      ]
     },
     "execution_count": 30,
     "metadata": {},
     "output_type": "execute_result"
    }
   ],
   "source": [
    "cov.shape, 71*36"
   ]
  },
  {
   "cell_type": "markdown",
   "metadata": {},
   "source": [
    "Assuming mean zero we can feed this covariance matrix into the\n",
    "multivariate normal sampler (this takes some time). We use the function [`multivariate_normal`](https://numpy.org/devdocs/reference/random/generated/numpy.random.Generator.multivariate_normal.html#numpy.random.Generator.multivariate_normal) from `numpy`."
   ]
  },
  {
   "cell_type": "code",
   "execution_count": 31,
   "metadata": {
    "tags": [
     "SOLUTION"
    ]
   },
   "outputs": [],
   "source": [
    "mean=np.zeros((len(xx),))\n",
    "random_rho=np.random.multivariate_normal(mean, cov, size=1)"
   ]
  },
  {
   "cell_type": "code",
   "execution_count": 32,
   "metadata": {},
   "outputs": [
    {
     "data": {
      "text/plain": [
       "(1, 2556)"
      ]
     },
     "execution_count": 32,
     "metadata": {},
     "output_type": "execute_result"
    }
   ],
   "source": [
    "random_rho.shape"
   ]
  },
  {
   "cell_type": "markdown",
   "metadata": {},
   "source": [
    "We need to reshape this to a grid for plotting:"
   ]
  },
  {
   "cell_type": "code",
   "execution_count": 37,
   "metadata": {
    "tags": [
     "SOLUTION"
    ]
   },
   "outputs": [],
   "source": [
    "rhog=random_rho.reshape( xg.shape )"
   ]
  },
  {
   "cell_type": "markdown",
   "metadata": {},
   "source": [
    "and then we can plot this using `imshow`. We want have `rhog[0,0]` by at the lower left corner."
   ]
  },
  {
   "cell_type": "code",
   "execution_count": 38,
   "metadata": {
    "tags": [
     "SOLUTION"
    ]
   },
   "outputs": [
    {
     "data": {
      "text/plain": [
       "<matplotlib.image.AxesImage at 0x7f6511a24278>"
      ]
     },
     "execution_count": 38,
     "metadata": {},
     "output_type": "execute_result"
    },
    {
     "data": {
      "image/png": "[encoded data removed]",
      "text/plain": [
       "<Figure size 432x288 with 1 Axes>"
      ]
     },
     "metadata": {
      "needs_background": "light"
     },
     "output_type": "display_data"
    }
   ],
   "source": [
    "plt.imshow(rhog)"
   ]
  },
  {
   "cell_type": "markdown",
   "metadata": {},
   "source": [
    "Now we try a variogram with a larger range which should show a smoother distribution. We set range to $20km$. "
   ]
  },
  {
   "cell_type": "code",
   "execution_count": null,
   "metadata": {},
   "outputs": [],
   "source": [
    "s, r=50**2, 20000"
   ]
  },
  {
   "cell_type": "markdown",
   "metadata": {},
   "source": [
    "Sample again:"
   ]
  },
  {
   "cell_type": "code",
   "execution_count": null,
   "metadata": {
    "tags": [
     "SOLUTION"
    ]
   },
   "outputs": [],
   "source": []
  },
  {
   "cell_type": "code",
   "execution_count": null,
   "metadata": {
    "tags": [
     "SOLUTION"
    ]
   },
   "outputs": [],
   "source": []
  },
  {
   "cell_type": "markdown",
   "metadata": {},
   "source": [
    "# Response modeling\n",
    "\n",
    "The `esys-escript` package is used to model the vertical gravity signal across a transect, see <a href=\"05_NumericalModeling.ipynb\">Numerical Modelling</a>.\n",
    "\n"
   ]
  },
  {
   "cell_type": "code",
   "execution_count": 33,
   "metadata": {
    "tags": [
     "SOLUTION"
    ]
   },
   "outputs": [],
   "source": [
    "from esys.escript import *\n",
    "from esys.finley import Rectangle"
   ]
  },
  {
   "cell_type": "markdown",
   "metadata": {},
   "source": [
    "We create a 350 x 350 mesh over the domain of width $50km$ = `Lx` and height $50km$ = `2*Lz`:"
   ]
  },
  {
   "cell_type": "code",
   "execution_count": null,
   "metadata": {
    "tags": [
     "SOLUTION"
    ]
   },
   "outputs": [],
   "source": []
  },
  {
   "cell_type": "markdown",
   "metadata": {},
   "source": [
    "Again we use the `GravityModel` class to calculate the vertical gravity:"
   ]
  },
  {
   "cell_type": "code",
   "execution_count": 34,
   "metadata": {
    "tags": [
     "SOLUTION"
    ]
   },
   "outputs": [],
   "source": [
    "NE=350\n",
    "domain=Rectangle(l0=Lx, l1=2*Lz, n0=NE, n1=NE)"
   ]
  },
  {
   "cell_type": "markdown",
   "metadata": {},
   "source": [
    "We need to generate a density distribution over the entire domain where the subsurface is a random realization following a given variogram and above the surface in the air layer density is zero. \n",
    "In the air layer we will gather the vertical gravity along a transect. To simplify the set-up we assume that the airlayer has the same height as the subsurface domain.\n",
    "\n",
    "<img src=\"./Figures/RandomDensityModel.png\" width=\"50%\" height=\"auto\">\n",
    "\n",
    "In the first step we create a `numpy` array that includes the realization from `random.multivariate_normal` for the bottom part and zero for the top part. We use the function [`concatenate`](https://numpy.org/devdocs/reference/generated/numpy.concatenate.html) from `numpy` to combine the density realization with an appropriate array of zeros:\n"
   ]
  },
  {
   "cell_type": "code",
   "execution_count": 39,
   "metadata": {
    "tags": [
     "SOLUTION"
    ]
   },
   "outputs": [],
   "source": [
    "table_rho=np.concatenate((rhog, np.zeros((zline.shape[0]-1, xline.shape[0]))), axis=0)"
   ]
  },
  {
   "cell_type": "markdown",
   "metadata": {
    "scrolled": true
   },
   "source": [
    "Let's take a look at the result:"
   ]
  },
  {
   "cell_type": "code",
   "execution_count": 40,
   "metadata": {
    "tags": [
     "SOLUTION"
    ]
   },
   "outputs": [
    {
     "data": {
      "text/plain": [
       "<matplotlib.colorbar.Colorbar at 0x7f65119c4668>"
      ]
     },
     "execution_count": 40,
     "metadata": {},
     "output_type": "execute_result"
    },
    {
     "data": {
      "image/png": "[encoded data removed]",
      "text/plain": [
       "<Figure size 432x288 with 2 Axes>"
      ]
     },
     "metadata": {
      "needs_background": "light"
     },
     "output_type": "display_data"
    }
   ],
   "source": [
    "plt.figure()\n",
    "plt.imshow(table_rho, extent =(0., Lx, 0., 2*Lz), origin= 'lower')\n",
    "plt.xlabel(\"x [m]\")\n",
    "plt.ylabel(\"y [m]\")\n",
    "plt.title(f\"Density distribution for sill ={s}, range ={r}\")\n",
    "plt.colorbar()"
   ]
  },
  {
   "cell_type": "markdown",
   "metadata": {},
   "source": [
    "Next step is to interpolate this table of densities to the `esys-escript` mesh. For this we need to get the locations `x` in the domain and define the table dimension; this is the origin `(0,0)` and\n",
    "the grid spacing `(xstep, zstep)`:"
   ]
  },
  {
   "cell_type": "code",
   "execution_count": 41,
   "metadata": {
    "tags": [
     "SOLUTION"
    ]
   },
   "outputs": [
    {
     "name": "stdout",
     "output_type": "stream",
     "text": [
      "WARNING: This function is deprecated and is known to contain bugs.\n"
     ]
    }
   ],
   "source": [
    "x=domain.getX()\n",
    "xstep=xline[1]-xline[0]\n",
    "zstep=zline[1]-zline[0]\n",
    "\n",
    "rho=interpolateTable(table_rho, x, (0., 0,), (xstep, zstep), 1e99)"
   ]
  },
  {
   "cell_type": "markdown",
   "metadata": {},
   "source": [
    "Lets lake a look at the result:"
   ]
  },
  {
   "cell_type": "code",
   "execution_count": 42,
   "metadata": {},
   "outputs": [],
   "source": [
    "#from tools import convertToNumpy # ACTIVATE THIS  convertToNumpy call fails.\n",
    "rho_np=convertToNumpy(rho)\n",
    "x_np=convertToNumpy(rho.getX())"
   ]
  },
  {
   "cell_type": "code",
   "execution_count": 43,
   "metadata": {},
   "outputs": [
    {
     "data": {
      "image/png": "[encoded data removed]",
      "text/plain": [
       "<Figure size 432x288 with 2 Axes>"
      ]
     },
     "metadata": {
      "needs_background": "light"
     },
     "output_type": "display_data"
    }
   ],
   "source": [
    "plt.figure()\n",
    "contour=plt.tricontourf(x_np[0], x_np[1], rho_np[0], 15)\n",
    "plt.xlabel('x [m]')\n",
    "plt.ylabel('z [m]')\n",
    "plt.title(\"Interpolated Density\")\n",
    "plt.colorbar(contour)\n",
    "plt.gca().set_aspect('equal')"
   ]
  },
  {
   "cell_type": "markdown",
   "metadata": {},
   "source": [
    "Hand over to the gravity model:"
   ]
  },
  {
   "cell_type": "code",
   "execution_count": 46,
   "metadata": {
    "tags": [
     "SOLUTION"
    ]
   },
   "outputs": [],
   "source": [
    "from esys.downunder.apps import GravityModel\n",
    "model=GravityModel(domain)\n",
    "model.setDensity(rho)\n",
    "gz=model.getGravityVector()[1]"
   ]
  },
  {
   "cell_type": "code",
   "execution_count": 49,
   "metadata": {},
   "outputs": [
    {
     "data": {
      "image/png": "[encoded data removed]",
      "text/plain": [
       "<Figure size 432x288 with 2 Axes>"
      ]
     },
     "metadata": {
      "needs_background": "light"
     },
     "output_type": "display_data"
    }
   ],
   "source": [
    "gz_np=convertToNumpy(gz)\n",
    "x_np=convertToNumpy(gz.getX())\n",
    "\n",
    "plt.figure()\n",
    "contour=plt.tricontourf(x_np[0], x_np[1], gz_np[0], 15)\n",
    "plt.xlabel('x [m]')\n",
    "plt.ylabel('z [m]')\n",
    "plt.title(\"vertical gravity\")\n",
    "plt.colorbar(contour)\n",
    "plt.gca().set_aspect('equal')"
   ]
  },
  {
   "cell_type": "markdown",
   "metadata": {},
   "source": [
    "Get the vertical gravity field:"
   ]
  },
  {
   "cell_type": "code",
   "execution_count": null,
   "metadata": {
    "tags": [
     "SOLUTION"
    ]
   },
   "outputs": [],
   "source": []
  },
  {
   "cell_type": "markdown",
   "metadata": {},
   "source": [
    "Create a transect offset:"
   ]
  },
  {
   "cell_type": "code",
   "execution_count": 50,
   "metadata": {
    "tags": [
     "SOLUTION"
    ]
   },
   "outputs": [],
   "source": [
    "dx=Lx/NE\n",
    "x_trans=np.linspace(dx/2, dx*NE-dx/2, num=NE, endpoint=True)"
   ]
  },
  {
   "cell_type": "markdown",
   "metadata": {},
   "source": [
    "Set into offsets into the 2D domain by adding `H0` as z=x0 coordinate:"
   ]
  },
  {
   "cell_type": "code",
   "execution_count": 54,
   "metadata": {
    "tags": [
     "SOLUTION"
    ]
   },
   "outputs": [],
   "source": [
    "H0=25500. # height above bottom of the domain\n",
    "locations_in_transect=[ [x, H0] for x in x_trans ]"
   ]
  },
  {
   "cell_type": "markdown",
   "metadata": {},
   "source": [
    "Grab the vertical density along the transect usinng the `Locator` class:"
   ]
  },
  {
   "cell_type": "code",
   "execution_count": 55,
   "metadata": {
    "tags": [
     "SOLUTION"
    ]
   },
   "outputs": [],
   "source": [
    "from esys.escript.pdetools import Locator\n",
    "locator=Locator(where=gz.getFunctionSpace(), x=locations_in_transect)\n",
    "mgal=1e-5\n",
    "gz_transect=locator.getValue(gz/mgal)"
   ]
  },
  {
   "cell_type": "markdown",
   "metadata": {},
   "source": [
    "Plot the profile:"
   ]
  },
  {
   "cell_type": "code",
   "execution_count": 56,
   "metadata": {
    "tags": [
     "SOLUTION"
    ]
   },
   "outputs": [
    {
     "data": {
      "image/png": "[encoded data removed]",
      "text/plain": [
       "<Figure size 432x288 with 1 Axes>"
      ]
     },
     "metadata": {
      "needs_background": "light"
     },
     "output_type": "display_data"
    }
   ],
   "source": [
    "plt.figure()\n",
    "plt.plot([x[0] for x in locator.getX()], gz_transect)\n",
    "plt.xlabel('offset [m]')\n",
    "plt.ylabel('anomaly [mgal]')\n",
    "plt.title(\"Vertial gravity along transect at height H0=%s km\"%(H0/1000.))\n",
    "plt.show()"
   ]
  },
  {
   "cell_type": "raw",
   "metadata": {},
   "source": []
  },
  {
   "cell_type": "markdown",
   "metadata": {},
   "source": [
    "# Remarks"
   ]
  },
  {
   "cell_type": "markdown",
   "metadata": {},
   "source": [
    "- `random.multivariate_normal` is not the best way to create realizations following a variogram\n",
    "- you can integrate this into an inversion based on the Metropolis–Hastings algorithm plus Bayesian posterior. \n",
    "- Looking under the hood of `GravityModel`: see  <a href=\"Y00_EscriptBasics.ipynb\">esys-escript basics</a> notebook."
   ]
  },
  {
   "cell_type": "code",
   "execution_count": null,
   "metadata": {},
   "outputs": [],
   "source": []
  }
 ],
 "metadata": {
  "celltoolbar": "Tags",
  "kernelspec": {
   "display_name": "Python 3",
   "language": "python",
   "name": "python3"
  },
  "language_info": {
   "codemirror_mode": {
    "name": "ipython",
    "version": 3
   },
   "file_extension": ".py",
   "mimetype": "text/x-python",
   "name": "python",
   "nbconvert_exporter": "python",
   "pygments_lexer": "ipython3",
   "version": "3.8.10"
  },
  "latex_envs": {
   "LaTeX_envs_menu_present": true,
   "autoclose": false,
   "autocomplete": true,
   "bibliofile": "biblio.bib",
   "cite_by": "apalike",
   "current_citInitial": 1,
   "eqLabelWithNumbers": true,
   "eqNumInitial": 1,
   "hotkeys": {
    "equation": "Ctrl-E",
    "itemize": "Ctrl-I"
   },
   "labels_anchors": false,
   "latex_user_defs": false,
   "report_style_numbering": false,
   "user_envs_cfg": false
  },
  "toc": {
   "base_numbering": 1,
   "nav_menu": {},
   "number_sections": true,
   "sideBar": true,
   "skip_h1_title": false,
   "title_cell": "Numerical Modelling and Geostatistics",
   "title_sidebar": "Contents",
   "toc_cell": true,
   "toc_position": {
    "height": "calc(100% - 180px)",
    "left": "10px",
    "top": "150px",
    "width": "247.067px"
   },
   "toc_section_display": true,
   "toc_window_display": false
  },
  "varInspector": {
   "cols": {
    "lenName": 16,
    "lenType": 16,
    "lenVar": 40
   },
   "kernels_config": {
    "python": {
     "delete_cmd_postfix": "",
     "delete_cmd_prefix": "del ",
     "library": "var_list.py",
     "varRefreshCmd": "print(var_dic_list())"
    },
    "r": {
     "delete_cmd_postfix": ") ",
     "delete_cmd_prefix": "rm(",
     "library": "var_list.r",
     "varRefreshCmd": "cat(var_dic_list()) "
    }
   },
   "types_to_exclude": [
    "module",
    "function",
    "builtin_function_or_method",
    "instance",
    "_Feature"
   ],
   "window_display": false
  }
 },
 "nbformat": 4,
 "nbformat_minor": 2
}
