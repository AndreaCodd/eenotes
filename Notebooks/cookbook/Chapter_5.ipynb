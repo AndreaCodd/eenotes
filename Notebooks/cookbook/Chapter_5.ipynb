{
 "cells": [
  {
   "cell_type": "markdown",
   "metadata": {},
   "source": [
    "# Chapter 5: Acoustic Wave Propagation"
   ]
  },
  {
   "cell_type": "markdown",
   "metadata": {},
   "source": [
    "The acoustic wave equation governs the propagation of pressure waves. Wave types that obey this law tend to travel in liquids or gases where shear waves or longitudinal style wave motion is not possible. An obvious example is sound waves.\n",
    "\n",
    "The acoustic wave equation is defined as:\n",
    "\n",
    "\\begin{equation}\n",
    "  \\nabla ^2 p - \\frac{1}{c^2} \\frac{\\partial ^2 p}{\\partial t^2} = 0\n",
    "  \\tag{5.1}\n",
    "\\end{equation}\n",
    "\n",
    "where $p$ is the pressure, $t$ is the time and $c$ is the wave velocity. In this chapter the acoustic wave equation is demonstrated. Important steps include the translation of the Laplacian $\\nabla^2$ to the *escript* general form, the stiff equation stability criterion and solving for the displacement or acceleration solution."
   ]
  },
  {
   "cell_type": "markdown",
   "metadata": {},
   "source": [
    "## 5.1 The Laplacian in *escript*"
   ]
  },
  {
   "cell_type": "markdown",
   "metadata": {},
   "source": [
    "The Laplacian operator which can be written as $\\Delta$ or $\\nabla^2$,  is calculated via the divergence of the gradient of the object, which in this example is the scalar $p$. Thus we can write:\n",
    "\n",
    "\\begin{equation}\n",
    "  \\nabla^2 p = \\nabla \\cdot \\nabla p = \\sum_{i}^n \\frac{\\partial^2 p}{\\partial x^2_{i}}\n",
    "  \\tag{5.2}\n",
    "\\end{equation}\n",
    "\n",
    "For the two dimensional case in Cartesian coordinates Equation (5.2) becomes:\n",
    "\n",
    "\\begin{equation}\n",
    "  \\nabla^2 p = \\frac{\\partial^2 p}{\\partial x^2} + \\frac{\\partial^2 p}{\\partial y^2}\n",
    "  \\tag{5.3}\n",
    "\\end{equation}\n",
    "\n",
    "In *escript* the Laplacian is calculated using the divergence representation and the intrinsic functions *grad()* and *trace()*. The function *grad{}* will return the spatial gradients of an object. For a rank 0 solution, this is of the form:\n",
    "\n",
    "\\begin{equation}\n",
    "  \\nabla p = \\left[\n",
    "\t   \\frac{\\partial p}{\\partial x _{0}},  \n",
    "\t   \\frac{\\partial p}{\\partial x _{1}}\n",
    "             \\right]\n",
    "\\tag{5.4}\n",
    "\\end{equation}\n",
    "\n",
    "Larger ranked solution objects will return gradient tensors. For example, a pressure field which acts in the directions $p _{0}$ and $p_{1}$ would return:\n",
    "\n",
    "\\begin{equation}\n",
    "  \\nabla p = \\begin{bmatrix}\n",
    "\t   \\frac{\\partial p _{0}}{\\partial x _{0}} &\n",
    "\t   \\frac{\\partial p _{1}}{\\partial x _{0}} \\\\\n",
    "\t   \\frac{\\partial p _{0}}{\\partial x _{1}} &\n",
    "\t   \\frac{\\partial p _{1}}{\\partial x _{1}} \n",
    "             \\end{bmatrix}\n",
    "\\tag{5.5}\n",
    "\\end{equation}\n",
    "\n",
    "Equation (5.4) corresponds to the Linear PDE general form value $X$. Notice however, that the general form contains the term $X_{i,j}$ (the first derivative in the $j^{th}$ direction for the $i^{th}$ component of the solution), hence for a rank 0 object there is no need to do more then calculate the gradient and submit it to the solver. In the case of the rank 1 or greater object, it is also necessary to calculate the trace. This is the sum of the diagonal in Equation (5.5).\n",
    "\n",
    "Thus when solving for equations containing the Laplacian one of two things must be completed. If the object `p` is less than rank 1 the gradient is calculated via:\n",
    "\n",
    "```python\n",
    "  gradient=grad(p)\n",
    "```\n",
    "\n",
    "and if the object is greater then or equal to a rank 1 tensor, the trace of the gradient is calculated.\n",
    "\n",
    "```python\n",
    " gradient=trace(grad(p))\n",
    "```\n",
    "\n",
    "These values can then be submitted to the PDE solver via the general form term $X$. The Laplacian is then computed in the solution process by taking the divergence of $X$.\n",
    "\n",
    "Note, if you are unsure about the rank of your tensor, the *getRank* command will return the rank of the PDE object.\n",
    "\n",
    "```python\n",
    " rank = p.getRank()\n",
    "```"
   ]
  },
  {
   "cell_type": "markdown",
   "metadata": {},
   "source": [
    "## 5.2 Numerical Solution Stability"
   ]
  },
  {
   "cell_type": "markdown",
   "metadata": {},
   "source": [
    "Unfortunately, the wave equation belongs to a class of equations called **stiff** PDEs. These types of equations can be difficult to solve numerically as they tend to oscillate about the exact solution, which can eventually lead to a catastrophic failure. To counter this problem, explicitly stable schemes like the backwards Euler method, and correct parameterisation of the problem are required. \n",
    "\n",
    "There are two variables which must be considered for stability when numerically trying to solve the wave equation. For linear media, the two variables are related via:\n",
    "\n",
    "\\begin{equation}\n",
    "  f=\\frac{v}{\\lambda}\n",
    "  \\tag{5.6}\n",
    "\\end{equation}\n",
    "\n",
    "The velocity $v$ that a wave travels in a medium is an important variable. For stability the analytical wave must not propagate faster than the numerical wave is able to, and in general, needs to be much slower than the numerical wave. For example, a line 100m long is discretised into 1m intervals or 101 nodes. If a wave enters with a propagation velocity of 100m/s then the travel time for the wave between each node will be 0.01 seconds. The time step, must therefore be significantly less than this. Of the order $10E-4$ would be appropriate. This stability criterion is known as the Courant-Friedrichs-Lewy condition given by\n",
    "\n",
    "\\begin{equation}\n",
    "  dt=f\\cdot \\frac{dx}{v}\n",
    "  \\tag{5.7}\n",
    "\\end{equation}\n",
    "\n",
    "where $dx$ is the mesh size and $f$ is a safety factor. To obtain a time step of $10E-4$, a safety factor of $f=0.1$ was used.\n",
    "\n",
    "The wave frequency content also plays a part in numerical stability. The Nyquist-sampling theorem states that a signals bandwidth content will be accurately represented when an equispaced sampling rate $f _{n}$ is equal to or greater than twice the maximum frequency of the signal $f_{s}$, or:\n",
    "\n",
    "\\begin{equation}\n",
    "  f_{n} \\geqslant f_{s}\n",
    "  \\tag{5.8}\n",
    "\\end{equation}\n",
    "\n",
    "For example, a 50Hz signal will require a sampling rate greater than 100Hz or one sample every 0.01 seconds. The wave equation relies on a spatial frequency, thus the sampling theorem in this case applies to the solution mesh spacing. This relationship confirms that the frequency content of the input signal directly affects the time discretisation of the problem.\n",
    "\n",
    "To accurately model the wave equation with high resolutions and velocities means that very fine spatial and time discretisation is necessary for most problems. This requirement makes the wave equation arduous to solve numerically due to the large number of time iterations required in each solution. Models with very high velocities and frequencies will be the worst affected by this problem."
   ]
  },
  {
   "cell_type": "markdown",
   "metadata": {},
   "source": [
    "## 5.3 Displacement Solution"
   ]
  },
  {
   "cell_type": "markdown",
   "metadata": {},
   "source": [
    "**The scripts referenced in this section are: example07a.py**\n",
    "\n",
    "We begin the solution to this PDE with the centred difference formula for the second derivative:\n",
    "\n",
    "\\begin{equation}\n",
    "  f''(x) \\approx \\frac{f(x+h - 2f(x) + f(x-h)}{h^2}\n",
    "  \\tag{5.9}\n",
    "\\end{equation}\n",
    "\n",
    "substituting Equation (5.9) for $\\frac{\\partial ^2 p }{\\partial t ^2}$ in Equation (5.1):\n",
    "\n",
    "\\begin{equation}\n",
    "  \\nabla ^2 p - \\frac{1}{c^2h^2} \\left[p_{(t+1)} - 2p_{(t)} + p_{(t-1)} \\right] = 0\n",
    "  \\tag{5.10}\n",
    "\\end{equation}\n",
    "\n",
    "Rearranging for $p_{(t+1)}$:\n",
    "\n",
    "\\begin{equation}\n",
    "  p_{(t+1)} = c^2 h^2 \\nabla ^2 p_{(t)} +2p_{(t)} - p_{(t-1)}\n",
    "  \\tag{5.11}\n",
    "\\end{equation}\n",
    "\n",
    "this can be compared with the general form of the `esys.escript.LinearPDEs` module and it becomes clear that\n",
    "\n",
    "$D=1$, $X_{i,j}=-c^2 h^2 \\nabla ^2 p_{(t)}$ and $Y=2p_{(t)} - p_{(t-1)}$.\n",
    "\n",
    "The solution script is similar to others that we have created in previous chapters. The general steps are:\n",
    "\n",
    " 1. The necessary libraries must be imported.\n",
    " 2. The domain needs to be defined.\n",
    " 3. The time iteration and control parameters need to be defined.\n",
    " 4. The PDE is initialised with source and boundary conditions.\n",
    " 5. The time loop is started and the PDE is solved at consecutive time steps.\n",
    " 6. All or select solutions are saved to file for visualisation later on.\n",
    "\n",
    "Parts of the script which warrant more attention are the definition of the source, visualising the source, the solution time loop and the VTK data export."
   ]
  },
  {
   "cell_type": "markdown",
   "metadata": {},
   "source": [
    "### 5.3.1 Pressure Sources\n",
    "\n",
    "As the pressure is a scalar, one need only define the pressure for two time steps prior to the start of the solution loop. Two known solutions are required because the wave equation contains a double partial derivative with respect to time. This is often a good opportunity to introduce a source to the solution. This model has the source located at it's centre. The source should be smooth and cover a number of samples to satisfy the frequency stability criterion. Small sources will generate high frequency signals. Here, when using a rectangular domain, the source is defined by a cosine function:"
   ]
  },
  {
   "cell_type": "code",
   "execution_count": null,
   "metadata": {},
   "outputs": [],
   "source": [
    "from esys.escript import *\n",
    "from esys.finley import Rectangle\n",
    "\n",
    "#Geometric and material property related variables.\n",
    "mx = 1000. # model lenght\n",
    "my = 1000. # model width\n",
    "ndx = 500 # steps in x direction \n",
    "ndy = 500 # steps in y direction\n",
    "xstep=mx/ndx # calculate the size of delta x\n",
    "ystep=my/ndy # calculate the size of delta y\n",
    "\n",
    "mydomain=Rectangle(l0=mx,l1=my,n0=ndx, n1=ndy) # create the domain\n",
    "x=mydomain.getX() # get the node locations of the domain\n",
    "\n",
    "U0=0.005 # amplitude of point source\n",
    "xc=[500,500] #location of point source\n",
    "# define small radius around point xc\n",
    "src_radius = 25.\n",
    "# for first two time steps\n",
    "u=U0*(cos(length(x-xc)*3.1415/src_radius)+1.)*whereNegative(length(x-xc)-src_radius)\n",
    "print(u)\n",
    "u_m1=u\n",
    "\n",
    "print(\"Done\")"
   ]
  },
  {
   "cell_type": "markdown",
   "metadata": {},
   "source": [
    "### 5.3.2 Visualising the Source\n",
    "\n",
    "\n",
    "There are two options for visualising the source. The first is to export the initial conditions of the model to VTK, which can be interpreted as a scalar surface in *mayavi2*. The second is to take a cross section of the model which will require the *Locator* function. Firstly `Locator` must be imported:"
   ]
  },
  {
   "cell_type": "code",
   "execution_count": null,
   "metadata": {},
   "outputs": [],
   "source": [
    "from esys.escript.pdetools import Locator\n",
    "\n",
    "print(\"Done\")"
   ]
  },
  {
   "cell_type": "markdown",
   "metadata": {},
   "source": [
    "The function can then be used on the domain to locate the nearest domain node to the point or points of interest. It is now necessary to build a list of $(x,y)$ locations that specify where are model slice will go. This is easily implemented with a loop:"
   ]
  },
  {
   "cell_type": "code",
   "execution_count": null,
   "metadata": {},
   "outputs": [],
   "source": [
    "cut_loc=[]\n",
    "src_cut=[]\n",
    "for i in range(ndx//2-ndx//10,ndx//2+ndx//10):\n",
    "    cut_loc.append(xstep*i)\n",
    "    src_cut.append([xstep*i,xc[1]])\n",
    "    \n",
    "print(\"Done\")"
   ]
  },
  {
   "cell_type": "markdown",
   "metadata": {},
   "source": [
    "We then submit the output to `Locator` and finally return the appropriate values using the `getValue` function:"
   ]
  },
  {
   "cell_type": "code",
   "execution_count": null,
   "metadata": {},
   "outputs": [],
   "source": [
    "src=Locator(mydomain,src_cut)\n",
    "src_cut=src.getValue(u)\n",
    "\n",
    "print(\"Done\")"
   ]
  },
  {
   "cell_type": "markdown",
   "metadata": {},
   "source": [
    "It is then a trivial task to plot and save the output using `matplotlib`:"
   ]
  },
  {
   "cell_type": "code",
   "execution_count": null,
   "metadata": {},
   "outputs": [],
   "source": [
    "# makes an interactive plotting window\n",
    "%matplotlib notebook\n",
    "\n",
    "import pylab as pl\n",
    "import os\n",
    "\n",
    "# where to save output data\n",
    "savepath = \"data/example07a\"\n",
    "mkDir(savepath)\n",
    "\n",
    "pl.plot(cut_loc,src_cut)\n",
    "pl.axis([xc[0]-src_radius*3,xc[0]+src_radius*3,0.,2*U0])\n",
    "pl.savefig(os.path.join(savepath,\"source_line.png\"))\n",
    "\n",
    "print(\"Done\")"
   ]
  },
  {
   "cell_type": "markdown",
   "metadata": {},
   "source": [
    "### 5.3.3 Solution of displacement\n",
    "\n",
    "To solve for displacement over time, firstly we need to define some time related variables:"
   ]
  },
  {
   "cell_type": "code",
   "execution_count": null,
   "metadata": {},
   "outputs": [],
   "source": [
    "from esys.escript.unitsSI import *\n",
    "\n",
    "c=380.0*m/sec  # velocity of sound in air\n",
    "csq=c*c #square of c\n",
    "\n",
    "tend=0.5    # end time\n",
    "h=0.0005    # time step\n",
    "rtime=0.0 # first time to record\n",
    "rtime_inc=tend/20.0 # time increment to record\n",
    "#Check to make sure number of time steps is not too large.\n",
    "print(\"Time step size= \",h, \" Expected time steps= \",tend/h, \" Expected outputs=\", tend/rtime_inc)\n",
    "\n",
    "print(\"Done\")"
   ]
  },
  {
   "cell_type": "markdown",
   "metadata": {},
   "source": [
    "Then we set up the PDE:"
   ]
  },
  {
   "cell_type": "code",
   "execution_count": null,
   "metadata": {},
   "outputs": [],
   "source": [
    "from esys.escript.linearPDEs import LinearPDE\n",
    "mypde=LinearPDE(mydomain) # create pde\n",
    "mypde.setSymmetryOn() # turn symmetry on\n",
    "mypde.setValue(D=1.) # set the value of D in the general form to 1.\n",
    "\n",
    "print(\"Done\")"
   ]
  },
  {
   "cell_type": "markdown",
   "metadata": {},
   "source": [
    "Finally the time loop is started and the PDE is solved at consecutive time steps. Also, select solutions are saved to file for visualisation. Be patient as the run will take some time due to tiny time steps."
   ]
  },
  {
   "cell_type": "code",
   "execution_count": null,
   "metadata": {},
   "outputs": [],
   "source": [
    "from esys.weipa import saveVTK\n",
    "import time\n",
    "\n",
    "n=0 # iteration counter\n",
    "t=0 # time counter\n",
    "\n",
    "start_time = time.time()\n",
    "print(\"Iteration started, please wait...\")\n",
    "while t<tend:\n",
    "    g=grad(u); pres=csq*h*h*g # get current pressure\n",
    "    mypde.setValue(X=-pres,Y=(2.*u-u_m1)) # set values in pde\n",
    "    u_p1 = mypde.getSolution() # get the new displacement\n",
    "    u_m1=u; u=u_p1 # shift values back one time step for next iteration\n",
    "    # save current displacement, acceleration and pressure\n",
    "    if (t >= rtime):\n",
    "        saveVTK(os.path.join(savepath,\"ex07a.%i.vtu\"%n),displacement=length(u),tensor=pres)\n",
    "        rtime=rtime+rtime_inc #increment data save time\n",
    "    # increment loop values\n",
    "    t=t+h; n=n+1\n",
    "    print(\"time step %d, t=%s\"%(n,t))\n",
    "\n",
    "end_time = time.time()\n",
    "dis_time = end_time - start_time\n",
    "print(\"Simulation completed! Time taken: %s seconds.\" % dis_time)"
   ]
  },
  {
   "cell_type": "markdown",
   "metadata": {},
   "source": [
    "Check the results via the saved vtu files, and they should look like Figure (5.1):\n",
    "\n",
    "<br>\n",
    " <figure>\n",
    "  <img src=\"figures/ex07displacement.png\" width=\"600\">\n",
    "  <figcaption>\n",
    "    <center>\n",
    "      Figure 5.1: Example 7: Displacement over time.\n",
    "    </center>\n",
    "  </figcaption>\n",
    " </figure>\n",
    "<br>"
   ]
  },
  {
   "cell_type": "markdown",
   "metadata": {},
   "source": [
    "## 5.4 Acceleration Solution"
   ]
  },
  {
   "cell_type": "markdown",
   "metadata": {},
   "source": [
    "**The scripts referenced in this section are: example07b.py**\n",
    "\n",
    "An alternative method to the displacement solution, is to solve for the acceleration $\\frac{\\partial ^2 p}{\\partial t^2}$ directly. The displacement can then be derived from the acceleration after a solution has been calculated. The acceleration is given by a modified form of Equation (5.10):\n",
    "\n",
    "\\begin{equation}\n",
    "  \\nabla ^2 p - \\frac{1}{c^2} a = 0\n",
    "  \\tag{5.12}\n",
    "\\end{equation}\n",
    "\n",
    "and can be solved directly with $Y=0$ and $X=-c^2 \\nabla ^2 p_{(t)}$. After each iteration the displacement is re-evaluated via:\n",
    "\n",
    "\\begin{equation}\n",
    "  p_{(t+1)}=2p_{(t)} - p_{(t-1)} + h^2a\n",
    "  \\tag{5.13}  \n",
    "\\end{equation}"
   ]
  },
  {
   "cell_type": "markdown",
   "metadata": {},
   "source": [
    "### 5.4.1 Lumping"
   ]
  },
  {
   "cell_type": "markdown",
   "metadata": {},
   "source": [
    "For *escript*, the acceleration solution is preferred as it allows the use of matrix lumping. Lumping or mass lumping as it is sometimes known, is the process of aggressively approximating the density elements of a mass matrix into the main diagonal. The use of Lumping is motivated by the simplicity of diagonal matrix inversion. As a result, Lumping can significantly reduce the computational requirements of a problem. Care should be taken however, as this function can only be used when the $A$, $B$ and $C$ coefficients of the general form are zero. \n",
    "\n",
    "More information about the lumping implementation used in \\esc and its accuracy can be found in the user guide.\n",
    "\n",
    "To turn lumping on in *escript* one can use the command:"
   ]
  },
  {
   "cell_type": "code",
   "execution_count": null,
   "metadata": {},
   "outputs": [],
   "source": [
    "mypde.getSolverOptions().setSolverMethod(SolverOptions.HRZ_LUMPING)\n",
    "\n",
    "print(\"Done\")"
   ]
  },
  {
   "cell_type": "markdown",
   "metadata": {},
   "source": [
    "It is also possible to check if lumping is set using:"
   ]
  },
  {
   "cell_type": "code",
   "execution_count": null,
   "metadata": {},
   "outputs": [],
   "source": [
    "print(mypde.isUsingLumping())\n",
    "\n",
    "print(\"Done\")"
   ]
  },
  {
   "cell_type": "markdown",
   "metadata": {},
   "source": [
    "### 5.4.2 Point Monitoring"
   ]
  },
  {
   "cell_type": "markdown",
   "metadata": {},
   "source": [
    "In the more general case where the solution mesh is irregular or specific locations need to be monitored, it is simple enough to use the *Locator* function: "
   ]
  },
  {
   "cell_type": "code",
   "execution_count": null,
   "metadata": {},
   "outputs": [],
   "source": [
    "rec=Locator(mydomain,[250.,250.])\n",
    "\n",
    "print(\"Done\")"
   ]
  },
  {
   "cell_type": "markdown",
   "metadata": {},
   "source": [
    "When the solution `u`  is updated we can extract the value at that point via:"
   ]
  },
  {
   "cell_type": "code",
   "execution_count": null,
   "metadata": {},
   "outputs": [],
   "source": [
    "u_rec=rec.getValue(u)\n",
    "\n",
    "print(\"Done\")"
   ]
  },
  {
   "cell_type": "markdown",
   "metadata": {},
   "source": [
    "For consecutive time steps one can record the values from `u_rec` in an array:"
   ]
  },
  {
   "cell_type": "code",
   "execution_count": null,
   "metadata": {},
   "outputs": [],
   "source": [
    "u_rec0=[] # array to hold values\n",
    "u_rec0.append(u_rec) #get the first two time steps\n",
    "\n",
    "print(\"Done\")"
   ]
  },
  {
   "cell_type": "markdown",
   "metadata": {},
   "source": [
    "### 5.4.3 Solution of acceleration"
   ]
  },
  {
   "cell_type": "markdown",
   "metadata": {},
   "source": [
    "With all the new features explained and setup, we can now solve for the acceleration and displacement:"
   ]
  },
  {
   "cell_type": "code",
   "execution_count": null,
   "metadata": {},
   "outputs": [],
   "source": [
    "# where to save output data\n",
    "savepath = \"data/example07b\"\n",
    "mkDir(savepath) #make sure savepath exists\n",
    "\n",
    "# reset u to initial values\n",
    "u=U0*(cos(length(x-xc)*3.1415/src_radius)+1)*whereNegative(length(x-xc)-src_radius)\n",
    "u_m1=u\n",
    "\n",
    "# reset timing\n",
    "rtime=0.0 # first time to record\n",
    "n=0 # iteration counter\n",
    "t=0 # time counter\n",
    "\n",
    "# re-setup PDE\n",
    "mypde=LinearPDE(mydomain) # create pde\n",
    "# turn lumping on for more efficient solving\n",
    "mypde.getSolverOptions().setSolverMethod(SolverOptions.HRZ_LUMPING)\n",
    "mypde.setSymmetryOn() # turn symmetry on\n",
    "mypde.setValue(D=1.) # set the value of D in the general form to 1.\n",
    "\n",
    "start_time = time.time()\n",
    "print(\"Iteration started, please wait...\")\n",
    "while t<tend:\n",
    "    g=grad(u); pres=csq*g # get current pressure\n",
    "    mypde.setValue(X=-pres) # set values in pde\n",
    "    accel = mypde.getSolution() # get new acceleration\n",
    "    u_p1=(2.*u-u_m1)+h*h*accel # calculate the displacement for the next time step\n",
    "    u_m1=u; u=u_p1 # shift values back one time step for next iteration\n",
    "    # save current displacement, acceleration and pressure\n",
    "    if (t >= rtime):\n",
    "        saveVTK(os.path.join(savepath,\"ex07b.%i.vtu\"%n),displacement=length(u),\\\n",
    "                             acceleration=length(accel),tensor=pres)\n",
    "        rtime=rtime+rtime_inc #increment data save time\n",
    "    u_rec0.append(rec.getValue(u)) #location specific recording\n",
    "    # increment loop values\n",
    "    t=t+h; n=n+1\n",
    "    print(\"time step %d, t=%s\"%(n,t))\n",
    "\n",
    "# save location specific recording to file\n",
    "pl.savetxt(os.path.join(savepath,'u_rec.asc'),u_rec0)\n",
    "\n",
    "end_time = time.time()\n",
    "acc_time = end_time - start_time\n",
    "print(\"Simulation completed! Time taken: %s seconds.\" % acc_time)"
   ]
  },
  {
   "cell_type": "code",
   "execution_count": null,
   "metadata": {},
   "outputs": [],
   "source": [
    "print(\"Execution time for displacement solution: %s seconds.\" % dis_time)\n",
    "print(\"Execution time for acceleration solution with lumping: %s seconds.\" % acc_time)\n",
    "print(\"Speedup = : %s\" % (dis_time/acc_time))"
   ]
  },
  {
   "cell_type": "markdown",
   "metadata": {},
   "source": [
    "As expected, according to the above recorded execution times, the acceleration solution indeed runs faster than the displacement solution because of the lumping."
   ]
  },
  {
   "cell_type": "markdown",
   "metadata": {},
   "source": [
    "## 5.5 Stability Investigation"
   ]
  },
  {
   "cell_type": "markdown",
   "metadata": {},
   "source": [
    "It is now prudent to investigate the stability limitations of this problem. First, we let the frequency content of the source be very small. If we define the source as a cosine input, then the wavlength of the input is equal to the radius of the source. Let this value be 5 meters. Now, if the maximum velocity of the model is $c=380.0ms^{-1}$, then the source frequency is $f_{r} = \\frac{380.0}{5} = 76.0 Hz$. This is a worst case scenario with a small source and the models maximum velocity. \n",
    "\n",
    "Furthermore, we know from Section 5.2, that the spatial sampling frequency must be at least twice this value to ensure stability. If we assume the model mesh is a square equispaced grid, then the sampling interval is the side length divided by the number of samples, given by $\\Delta x = \\frac{1000.0m}{400} = 2.5m$ and the maximum sampling frequency capable at this interval is $f_{s}=\\frac{380.0ms^{-1}}{2.5m}=152Hz$ this is just equal to the\n",
    "required rate satisfying Equation (5.8). \n",
    "\n",
    "Figure (5.2) depicts three examples where the grid has been undersampled, sampled correctly, and over sampled. The grids used had 200, 400 and 800 nodes per side respectively. Obviously, the oversampled grid retains the best resolution of the modelled wave.\n",
    "\n",
    "<br>\n",
    " <figure>\n",
    "  <img src=\"figures/ex07samp.png\" width=\"800\">\n",
    "  <figcaption>\n",
    "    <center>\n",
    "      Figure 5.2: Sampling Theorem example for stability investigation.\n",
    "    </center>\n",
    "  </figcaption>\n",
    " </figure>\n",
    "<br>\n",
    "\n",
    "The time step required for each of these examples is simply calculated from the propagation requirement. For a maximum velocity of $380.0ms^{-1}$,\n",
    "\n",
    "\\begin{equation}\n",
    "  \\Delta t \\leq \\frac{1000.0m}{200} \\frac{1}{380.0} = 0.013s\n",
    "  \\tag{5.14a}\n",
    "\\end{equation}\n",
    "\n",
    "\\begin{equation}\n",
    "  \\Delta t \\leq \\frac{1000.0m}{400} \\frac{1}{380.0} = 0.0065s\n",
    "  \\tag{5.14b}  \n",
    "\\end{equation}\n",
    "\n",
    "\\begin{equation}\n",
    "  \\Delta t \\leq \\frac{1000.0m}{800} \\frac{1}{380.0} = 0.0032s\n",
    "  \\tag{5.14c}  \n",
    "\\end{equation}\n",
    "\n",
    "Observe that for each doubling of the number of nodes in the mesh, we halve the time step. If the source is placed at the center, it is $500m$ from the nearest boundary. With a velocity of $380.0ms^{-1}$, it will take $\\approx1.3s$ for the wavefront to reach that boundary. In each case, this equates to $100$,  $200$ and $400$ time steps. This is again, only a best case scenario, for true stability these time values may need to be halved and possibly halved again."
   ]
  }
 ],
 "metadata": {
  "kernelspec": {
   "display_name": "Python 3",
   "language": "python",
   "name": "python3"
  },
  "language_info": {
   "codemirror_mode": {
    "name": "ipython",
    "version": 3
   },
   "file_extension": ".py",
   "mimetype": "text/x-python",
   "name": "python",
   "nbconvert_exporter": "python",
   "pygments_lexer": "ipython3",
   "version": "3.5.3"
  }
 },
 "nbformat": 4,
 "nbformat_minor": 2
}
