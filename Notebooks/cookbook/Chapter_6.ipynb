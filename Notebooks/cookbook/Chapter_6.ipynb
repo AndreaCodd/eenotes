{
 "cells": [
  {
   "cell_type": "markdown",
   "metadata": {},
   "source": [
    "# Chapter 6: Seismic Wave Propagation"
   ]
  },
  {
   "cell_type": "markdown",
   "metadata": {},
   "source": [
    "## 6.1 Seismic Wave Propagation in Two Dimensions"
   ]
  },
  {
   "cell_type": "markdown",
   "metadata": {},
   "source": [
    "**The scripts referenced in this section are: example08a.py**\n",
    "\n",
    "We will now expand upon the previous chapter by introducing a vector form of the wave equation. This means\n",
    "that the waves will have not only a scalar magnitude as for the pressure wave solution, but also a direction. This type of scenario is apparent in wave types that exhibit compressional and transverse particle motion. An example of this would be seismic waves. Wave propagation in the earth can be described by the elastic wave equation:\n",
    "\n",
    "\\begin{equation}\n",
    "  \\rho \\frac{\\partial^{2}u_{i}}{\\partial t^2} - \\frac{\\partial \\sigma_{ij}}{\\partial x_{j}} = 0\n",
    "  \\tag{6.1}\n",
    "\\end{equation}\n",
    "\n",
    "where $\\sigma$ is the stress given by\n",
    "\n",
    "\\begin{equation}\n",
    "  \\sigma _{ij} = \\lambda u_{k,k} \\delta_{ij} + \\mu (u_{i,j} + u_{j,i})\n",
    "  \\tag{6.2}\n",
    "\\end{equation}\n",
    "\n",
    "and $\\lambda$ and $\\mu$ represent Lame's parameters. Specifically for seismic waves, $\\mu$ is the propagation materials shear modulus. In a similar process to the previous chapter, we will use the acceleration solution to solve this PDE. By substituting $a$ directly for $\\frac{\\partial^{2}u_{i}}{\\partial t^2}$ we can derive the\n",
    "acceleration solution. Using $a$ we can see that Equation (6.1) becomes\n",
    "\n",
    "\\begin{equation} \n",
    "  \\rho a_{i} - \\frac{\\partial\\sigma_{ij}}{\\partial x_{j}} = 0\n",
    "  \\tag{6.3}\n",
    "\\end{equation}\n",
    "\n",
    "Thus the problem will be solved for acceleration and then converted to displacement using the backwards difference approximation as for the acoustic example in the previous chapter.\n",
    "\n",
    "Consider now the stress $\\sigma$. One can see that the stress consists of two distinct terms:\n",
    "\n",
    "\\begin{equation}\n",
    "  \\lambda u_{k,k} \\delta_{ij}\n",
    "  \\tag{6.4a}\n",
    "\\end{equation}\n",
    "\n",
    "\\begin{equation}\n",
    "  \\mu (u_{i,j} + u_{j,i})\n",
    "  \\tag{6.4b}\n",
    "\\end{equation}\n",
    "\n",
    "One simply recognizes in Equation (6.4a) that $u_{k,k}$ is the trace of the displacement solution and that $\\delta_{ij}$ is the kronecker delta function with dimensions equivalent to $u$. The second term Equation (6.4b) is the sum of $u$ with its own transpose. Putting these facts together we see that the spatial differential of the stress is given by the gradient of $u$ and the aforementioned operations. This value is then submitted\n",
    "to the *escript* PDE as $X$."
   ]
  },
  {
   "cell_type": "markdown",
   "metadata": {},
   "source": [
    "To solve wave propagation in *escript*, as usual we need to set up a computation domain first:"
   ]
  },
  {
   "cell_type": "code",
   "execution_count": null,
   "metadata": {},
   "outputs": [],
   "source": [
    "from esys.escript import *\n",
    "from esys.finley import Rectangle\n",
    "\n",
    "#Geometric property related variables.\n",
    "mx = 1000. # model lenght\n",
    "my = -1000. # model width\n",
    "ndx = 500 # steps in x direction \n",
    "ndy = 500 # steps in y direction\n",
    "xstep=mx/ndx # calculate the size of delta x\n",
    "ystep=abs(my/ndy) # calculate the size of delta y\n",
    "\n",
    "domain=Rectangle(l0=mx,l1=my,n0=ndx, n1=ndy) # create the domain\n",
    "x=domain.getX() # get the locations of the nodes in the domain\n",
    "\n",
    "print(\"Done\")"
   ]
  },
  {
   "cell_type": "markdown",
   "metadata": {},
   "source": [
    "Then we set up a PDE:"
   ]
  },
  {
   "cell_type": "code",
   "execution_count": null,
   "metadata": {},
   "outputs": [],
   "source": [
    "from esys.escript.linearPDEs import LinearPDE, SolverOptions\n",
    "\n",
    "#Material property related variables.\n",
    "lam=3.462e9 #lames constant\n",
    "mu=3.462e9  #bulk modulus\n",
    "rho=1154.   #density\n",
    "\n",
    "mypde=LinearPDE(domain) # create pde\n",
    "mypde.setSymmetryOn() # turn symmetry on\n",
    "# turn lumping on for more efficient solving\n",
    "mypde.getSolverOptions().setSolverMethod(SolverOptions.HRZ_LUMPING)\n",
    "kmat = kronecker(domain) # create the kronecker delta function of the domain\n",
    "mypde.setValue(D=kmat*rho) #set the general form value D\n",
    "\n",
    "print(\"Done\")"
   ]
  },
  {
   "cell_type": "markdown",
   "metadata": {},
   "source": [
    "We also need to define a source:"
   ]
  },
  {
   "cell_type": "code",
   "execution_count": null,
   "metadata": {},
   "outputs": [],
   "source": [
    "import numpy as np\n",
    "\n",
    "U0=0.01 # amplitude of point source\n",
    "# will introduce a spherical source at middle left of bottom face\n",
    "xc=[mx/2,0]\n",
    "# define small radius around point xc\n",
    "src_length = 20; print(\"src_length = \",src_length)\n",
    "# set initial values for first two time steps with source terms\n",
    "y=U0*(cos(length(x-xc)*3.1415/src_length)+1)*whereNegative(length(x-xc)-src_length)\n",
    "src_dir=np.array([0.,-1.]) # defines direction of point source as down\n",
    "y=y*src_dir\n",
    "mypde.setValue(y=y) #set the source as a function on the boundary\n",
    "# initial value of displacement at point source is constant (U0=0.01)\n",
    "# for first two time steps\n",
    "u=[0.0,0.0]*whereNegative(x)\n",
    "u_m1=u\n",
    "\n",
    "print(\"Done\")"
   ]
  },
  {
   "cell_type": "markdown",
   "metadata": {},
   "source": [
    "Let us define some time related variables and the save path before we entre the loop:"
   ]
  },
  {
   "cell_type": "code",
   "execution_count": null,
   "metadata": {},
   "outputs": [],
   "source": [
    "tend=0.5    # end time\n",
    "h=0.0005     # time step\n",
    "# data recording times\n",
    "rtime=0.0 # first time to record\n",
    "rtime_inc=tend/20.0 # time increment to record\n",
    "#Check to make sure number of time steps is not too large.\n",
    "print(\"Time step size=\",h, \"Expected iterations=\",tend/h, \" Expected outputs=\", tend/rtime_inc)\n",
    "\n",
    "# where to save output data\n",
    "savepath = \"data/example08a\"\n",
    "mkDir(savepath)\n",
    "\n",
    "print(\"Done\")"
   ]
  },
  {
   "cell_type": "markdown",
   "metadata": {},
   "source": [
    "Finally, we start the iteration:"
   ]
  },
  {
   "cell_type": "code",
   "execution_count": null,
   "metadata": {},
   "outputs": [],
   "source": [
    "from esys.weipa import saveVTK\n",
    "import sys\n",
    "import os\n",
    "import time\n",
    "\n",
    "n=0 # iteration counter\n",
    "t=0 # time counter\n",
    "\n",
    "start_time = time.time()\n",
    "print(\"Iteration started, please wait...\")\n",
    "while t<tend:\n",
    "    # get current stress\n",
    "    g=grad(u); stress=lam*trace(g)*kmat+mu*(g+transpose(g))\n",
    "    mypde.setValue(X=-stress) # set PDE values\n",
    "    accel = mypde.getSolution() #get PDE solution for accelleration\n",
    "    u_p1=(2.*u-u_m1)+h*h*accel #calculate displacement\n",
    "    u_m1=u; u=u_p1 # shift values by 1\n",
    "    # save current displacement, acceleration and pressure\n",
    "    if (t >= rtime):\n",
    "        saveVTK(os.path.join(savepath,\"ex08a.%05d.vtu\"%n),displacement=length(u),\\\n",
    "                             acceleration=length(accel),tensor=stress)\n",
    "        rtime=rtime+rtime_inc #increment data save time\n",
    "    # increment loop values\n",
    "    t=t+h; n=n+1\n",
    "    print(\"time step %d, t=%s\"%(n,t))\n",
    "    \n",
    "end_time = time.time()\n",
    "time = end_time - start_time\n",
    "print(\"Simulation completed! Time taken: %s seconds.\" % time)    "
   ]
  },
  {
   "cell_type": "markdown",
   "metadata": {},
   "source": [
    "Check the saved vtu files and your results should look like Figure (6.1):\n",
    "\n",
    "<br>\n",
    " <figure>\n",
    "  <img src=\"figures/ex08pw.png\" width=\"600\">\n",
    "  <figcaption>\n",
    "    <center>\n",
    "      Figure 6.1: Results of Example 08 at various times.\n",
    "    </center>\n",
    "  </figcaption>\n",
    " </figure>\n",
    "<br>"
   ]
  },
  {
   "cell_type": "markdown",
   "metadata": {},
   "source": [
    "## 6.2 Time variant source"
   ]
  },
  {
   "cell_type": "markdown",
   "metadata": {},
   "source": [
    "**The scripts referenced in this section are: example08b.py**\n",
    "\n",
    "The previous examples use impulsive sources which are smooth in space but not time. It is however, advantageous to have a time smoothed source as it can reduce the temporal frequency range and thus mitigate aliasing in the solution.\n",
    "\n",
    "It is quite simple to implement a source which is smooth in time. In addition to the original source function\n",
    "the only extra requirement is a time function. For this example the time variant source will be the derivative of a Gaussian curve defined by the required dominant frequency:"
   ]
  },
  {
   "cell_type": "code",
   "execution_count": null,
   "metadata": {},
   "outputs": [],
   "source": [
    "# makes an interactive plotting window\n",
    "%matplotlib notebook\n",
    "\n",
    "import pylab as pl\n",
    "\n",
    "# where to save output data\n",
    "savepath = \"data/example08b\"\n",
    "mkDir(savepath)\n",
    "\n",
    "h=0.0005    # time step\n",
    "\n",
    "#Creating the time function of the source.\n",
    "dfeq=50 #Dominant Frequency\n",
    "a = 2.0 * (np.pi * dfeq)**2.0\n",
    "t0 = 5.0 / (2.0 * np.pi * dfeq)\n",
    "srclength = 5. * t0\n",
    "ls = int(srclength/h)\n",
    "print('source length',ls)\n",
    "\n",
    "source=np.zeros(ls,'float') # source array\n",
    "time=np.zeros(ls,'float')   # time values\n",
    "ampmax=0\n",
    "for it in range(0,ls):\n",
    "    t = it*h\n",
    "    tt = t-t0\n",
    "    dum1 = np.exp(-a * tt * tt)\n",
    "    source[it] = -2. * a * tt * dum1\n",
    "    if (abs(source[it]) > ampmax):\n",
    "        ampmax = abs(source[it])\n",
    "    time[it]=t*h\n",
    "   \n",
    "pl.clf(); \n",
    "pl.plot(source)\n",
    "pl.savefig(os.path.join(savepath,'source.png'))\n",
    "\n",
    "print(\"Done\")"
   ]
  },
  {
   "cell_type": "markdown",
   "metadata": {},
   "source": [
    "We then build the source and the first two time steps via:"
   ]
  },
  {
   "cell_type": "code",
   "execution_count": null,
   "metadata": {},
   "outputs": [],
   "source": [
    "mx = 1000. # model lenght\n",
    "my = 1000. # model width\n",
    "ndx = 300 # steps in x direction \n",
    "ndy = 300 # steps in y direction\n",
    "xstep=mx/ndx # calculate the size of delta x\n",
    "ystep=abs(my/ndy) # calculate the size of delta y\n",
    "\n",
    "domain=Rectangle(l0=mx,l1=my,n0=ndx, n1=ndy) # create the domain\n",
    "x=domain.getX() # get the locations of the nodes in the domani\n",
    "\n",
    "# define small radius around point xc\n",
    "src_length = 40; print(\"src_length = \",src_length)\n",
    "xc=[mx/2,0]\n",
    "# set initial values for first two time steps with source terms\n",
    "y=source[0]*(cos(length(x-xc)*3.1415/src_length)+1)*whereNegative(length(x-xc)-src_length)\n",
    "src_dir=np.array([0.,1.]) # defines direction of point source as down\n",
    "y=y*src_dir\n",
    "\n",
    "mypde=LinearPDE(domain) # create pde\n",
    "mypde.setSymmetryOn() # turn symmetry on\n",
    "# turn lumping on for more efficient solving\n",
    "mypde.getSolverOptions().setSolverMethod(SolverOptions.HRZ_LUMPING)\n",
    "kmat = kronecker(domain) # create the kronecker delta function of the domain\n",
    "mypde.setValue(D=kmat*rho) #set the general form value D\n",
    "mypde.setValue(y=y) #set the source as a function on the boundary\n",
    "# for first two time steps\n",
    "u=[0.0,0.0]*wherePositive(x)\n",
    "u_m1=u\n",
    "\n",
    "print(\"Done\")"
   ]
  },
  {
   "cell_type": "markdown",
   "metadata": {},
   "source": [
    "Finally, for the length of the source, we are required to update each new solution in the iterative section of the solver:"
   ]
  },
  {
   "cell_type": "code",
   "execution_count": null,
   "metadata": {},
   "outputs": [],
   "source": [
    "import time\n",
    "\n",
    "rtime=0.0 # first time to record\n",
    "n=0 # iteration counter\n",
    "t=0 # time counter\n",
    "\n",
    "start_time = time.time()\n",
    "print(\"Iteration started, please wait...\")\n",
    "while t<tend:\n",
    "    # get current stress\n",
    "    g=grad(u); stress=lam*trace(g)*kmat+mu*(g+transpose(g))\n",
    "    mypde.setValue(X=-stress) # set PDE values\n",
    "    accel = mypde.getSolution() #get PDE solution for accelleration\n",
    "    u_p1=(2.*u-u_m1)+h*h*accel #calculate displacement\n",
    "    u_m1=u; u=u_p1 # shift values by 1\n",
    "    # save current displacement, acceleration and pressure\n",
    "    if (t >= rtime):\n",
    "        saveVTK(os.path.join(savepath,\"ex08b.%05d.vtu\"%n),displacement=length(u),\\\n",
    "                             acceleration=length(accel),tensor=stress)\n",
    "        rtime=rtime+rtime_inc #increment data save time\n",
    "    # increment loop values\n",
    "    t=t+h; n=n+1\n",
    "    if (n < ls):\n",
    "        y=source[n]*(cos(length(x-xc)*3.1415/src_length)+1)*whereNegative(length(x-xc)-src_length)\n",
    "        y=y*src_dir; mypde.setValue(y=y) #set the source as a function on the boundary\n",
    "    print(\"time step %d, t=%s\"%(n,t))\n",
    "\n",
    "end_time = time.time()\n",
    "time = end_time - start_time\n",
    "print(\"Simulation completed! Time taken: %s seconds.\" % time)"
   ]
  },
  {
   "cell_type": "markdown",
   "metadata": {},
   "source": [
    "## 6.3 Absorbing Boundary Conditions"
   ]
  },
  {
   "cell_type": "markdown",
   "metadata": {},
   "source": [
    "To mitigate the effect of the boundary on the model, absorbing boundary conditions can be introduced. These con-\n",
    "ditions effectively dampen the wave energy as they approach the boundary and thus prevent that energy from being\n",
    "reflected. This type of approach is typically used when a model is shrunk to decrease computational requirements. In practise this applies to almost all models, especially in earth sciences where the entire planet or a large enough portional of it cannot be modelled efficiently when considering small scale problems. It is impractical to calculate the solution for an infinite model and thus ABCs allow us the create an approximate solution with small to zero boundary effects on a model with a solvable size.\n",
    "\n",
    "To dampen the waves, the method of Cerjan (1985) where the solution and the stress are multiplied by a damping function defined on $n$ nodes of the domain adjacent to the boundary, given by:\n",
    "\n",
    "\\begin{equation}\n",
    "  \\gamma =\\sqrt{\\frac{| -log( \\gamma _{b} ) |}{n^2}}\n",
    "  \\tag{6.5}\n",
    "\\end{equation}\n",
    "\n",
    "\\begin{equation}\n",
    "  y=e^{-(\\gamma x)^2}\n",
    "  \\tag{6.6}\n",
    "\\end{equation}\n",
    "\n",
    "This is applied to the bounding 20-50 pts of the model using the location specifiers of *escript*:"
   ]
  },
  {
   "cell_type": "code",
   "execution_count": null,
   "metadata": {},
   "outputs": [],
   "source": [
    "# Define where the boundary decay will be applied.\n",
    "bn=50.\n",
    "bleft=xstep*bn; bright=mx-(xstep*bn); bbot=my-(ystep*bn)\n",
    "# btop=ystep*bn # don't apply to force boundary!!!\n",
    "\n",
    "# locate these points in the domain\n",
    "left=x[0]-bleft; right=x[0]-bright; bottom=x[1]-bbot\n",
    "\n",
    "tgamma=0.85   # decay value for exponential function\n",
    "def calc_gamma(G,npts):\n",
    "    func=np.sqrt(abs(-1.*np.log(G)/(npts**2.)))\n",
    "    return func\n",
    "\n",
    "gleft  = calc_gamma(tgamma,bleft)\n",
    "gright = calc_gamma(tgamma,bleft)\n",
    "gbottom= calc_gamma(tgamma,ystep*bn)\n",
    "\n",
    "print('gamma', gleft,gright,gbottom)\n",
    "\n",
    "# calculate decay functions\n",
    "def abc_bfunc(gamma,loc,x,G):\n",
    "    func=exp(-1.*(gamma*abs(loc-x))**2.)\n",
    "    return func\n",
    "\n",
    "fleft=abc_bfunc(gleft,bleft,x[0],tgamma)\n",
    "fright=abc_bfunc(gright,bright,x[0],tgamma)\n",
    "fbottom=abc_bfunc(gbottom,bbot,x[1],tgamma)\n",
    "# apply these functions only where relevant\n",
    "abcleft=fleft*whereNegative(left)\n",
    "abcright=fright*wherePositive(right)\n",
    "abcbottom=fbottom*wherePositive(bottom)\n",
    "# make sure the inside of the abc is value 1\n",
    "abcleft=abcleft+whereZero(abcleft)\n",
    "abcright=abcright+whereZero(abcright)\n",
    "abcbottom=abcbottom+whereZero(abcbottom)\n",
    "# multiply the conditions together to get a smooth result\n",
    "abc=abcleft*abcright*abcbottom\n",
    "\n",
    "#visualise the boundary function\n",
    "abcT=abc.toListOfTuples()\n",
    "abcT=np.reshape(abcT,(ndx+1,ndy+1))\n",
    "pl.figure(2)\n",
    "pl.clf(); pl.imshow(abcT); pl.colorbar(); \n",
    "pl.savefig(os.path.join(savepath,\"abc.png\"))\n",
    "\n",
    "print(\"Done\")"
   ]
  },
  {
   "cell_type": "markdown",
   "metadata": {},
   "source": [
    "Note that the boundary conditions are not applied to the surface, as this is effectively a free surface where normal reflections would be experienced. Special conditions can be introduced at this surface if they are known. \n",
    "\n",
    "Now, after resetting the initial vairalbes and the PDE, we can solve iteratively with the absorbing boundary condition:"
   ]
  },
  {
   "cell_type": "code",
   "execution_count": null,
   "metadata": {},
   "outputs": [],
   "source": [
    "import time\n",
    "\n",
    "mypde=LinearPDE(domain) # create pde\n",
    "mypde.setSymmetryOn() # turn symmetry on\n",
    "# turn lumping on for more efficient solving\n",
    "mypde.getSolverOptions().setSolverMethod(SolverOptions.HRZ_LUMPING)\n",
    "kmat = kronecker(domain) # create the kronecker delta function of the domain\n",
    "mypde.setValue(D=kmat*rho) #set the general form value D\n",
    "\n",
    "y=source[0]*(cos(length(x-xc)*3.1415/src_length)+1)*whereNegative(length(x-xc)-src_length)\n",
    "src_dir=np.array([0.,1.]) # defines direction of point source as down\n",
    "y=y*src_dir\n",
    "mypde.setValue(y=y) #set the source as a function on the boundary\n",
    "# for first two time steps\n",
    "u=[0.0,0.0]*whereNegative(x)\n",
    "u_m1=u\n",
    "\n",
    "rtime=0.0 # first time to record\n",
    "n=0 # iteration counter\n",
    "t=0 # time counter\n",
    "\n",
    "start_time = time.time()\n",
    "print(\"Iteration started, please wait...\")\n",
    "while t<tend:\n",
    "    # get current stress\n",
    "    g=grad(u); stress=lam*trace(g)*kmat+mu*(g+transpose(g))\n",
    "    mypde.setValue(X=-stress*abc) # set PDE values\n",
    "    accel = mypde.getSolution() #get PDE solution for accelleration\n",
    "    u_p1=(2.*u-u_m1)+h*h*accel #calculate displacement\n",
    "    u_p1=u_p1*abc       # apply boundary conditions\n",
    "    u_m1=u; u=u_p1 # shift values by 1\n",
    "    # save current displacement, acceleration and pressure\n",
    "    if (t >= rtime):\n",
    "        saveVTK(os.path.join(savepath,\"ex08b_abc.%05d.vtu\"%n),displacement=length(u),\\\n",
    "                             acceleration=length(accel),tensor=stress)\n",
    "        rtime=rtime+rtime_inc #increment data save time\n",
    "    # increment loop values\n",
    "    t=t+h; n=n+1\n",
    "    if (n < ls):\n",
    "        y=source[n]*(cos(length(x-xc)*3.1415/src_length)+1)*whereNegative(length(x-xc)-src_length)\n",
    "        y=y*src_dir; mypde.setValue(y=y) #set the source as a function on the boundary\n",
    "    print(\"time step %d, t=%s\"%(n,t))\n",
    "    \n",
    "end_time = time.time()\n",
    "time = end_time - start_time\n",
    "print(\"Simulation completed! Time taken: %s seconds.\" % time)    "
   ]
  },
  {
   "cell_type": "markdown",
   "metadata": {},
   "source": [
    "Figure (6.2) comprares the displacement results with and without absorbing boundary conditions at various time steps.\n",
    "\n",
    "<br>\n",
    " <figure>\n",
    "  <img src=\"figures/ex08compare_abc.png\" width=\"700\">\n",
    "  <figcaption>\n",
    "    <center>\n",
    "      Figure 6.2: Results of Example 08 at various times, with and without absorbing boundary condition.\n",
    "    </center>\n",
    "  </figcaption>\n",
    " </figure>\n",
    "<br>"
   ]
  },
  {
   "cell_type": "markdown",
   "metadata": {},
   "source": [
    "## 6.4 Second order Meshing"
   ]
  },
  {
   "cell_type": "markdown",
   "metadata": {},
   "source": [
    "For stiff problems like the wave equation it is often prudent to implement second order meshing. This creates a more accurate mesh approximation with some increased processing cost. To turn second order meshing on, the `rectangle` function accepts an `order` keyword argument:"
   ]
  },
  {
   "cell_type": "code",
   "execution_count": null,
   "metadata": {},
   "outputs": [],
   "source": [
    "domain=Rectangle(l0=mx,l1=my,n0=ndx, n1=ndy,order=2) # create the domain\n",
    "\n",
    "print(\"Done\")"
   ]
  },
  {
   "cell_type": "markdown",
   "metadata": {},
   "source": [
    "The difference between secord order mesh and first order mesh in shown in Figure (6.3).\n",
    "\n",
    "<br>\n",
    " <figure>\n",
    "  <img src=\"figures/ex081st_vs_2nd_meshes.png\" width=\"700\">\n",
    "  <figcaption>\n",
    "    <center>\n",
    "      Figure 6.3: First and second order meshes.\n",
    "    </center>\n",
    "  </figcaption>\n",
    " </figure>\n",
    "<br>\n",
    "\n",
    "Note that when implementing second order meshing, a smaller timestep is required than for first order meshes as the second order essentially reduces the size of the mesh by half:"
   ]
  },
  {
   "cell_type": "code",
   "execution_count": null,
   "metadata": {},
   "outputs": [],
   "source": [
    "h=0.0002    # reduced time step\n",
    "\n",
    "print(\"Done\")"
   ]
  },
  {
   "cell_type": "markdown",
   "metadata": {},
   "source": [
    "The updated time variant source is:"
   ]
  },
  {
   "cell_type": "code",
   "execution_count": null,
   "metadata": {},
   "outputs": [],
   "source": [
    "#Creating the time function of the source.\n",
    "ls = int(srclength/h)\n",
    "print('source length',ls)\n",
    "\n",
    "source=np.zeros(ls,'float') # source array\n",
    "time=np.zeros(ls,'float')   # time values\n",
    "ampmax=0\n",
    "for it in range(0,ls):\n",
    "    t = it*h\n",
    "    tt = t-t0\n",
    "    dum1 = np.exp(-a * tt * tt)\n",
    "    source[it] = -2. * a * tt * dum1\n",
    "    if (abs(source[it]) > ampmax):\n",
    "        ampmax = abs(source[it])\n",
    "    time[it]=t*h\n",
    "\n",
    "pl.figure(3)    \n",
    "pl.clf() \n",
    "pl.plot(source)\n",
    "pl.savefig(os.path.join(savepath,'source2.png'))\n",
    "\n",
    "print(\"Done\")"
   ]
  },
  {
   "cell_type": "markdown",
   "metadata": {},
   "source": [
    "After updating or resetting all other relevant variables, the displacement is solved again on this second order mesh:"
   ]
  },
  {
   "cell_type": "code",
   "execution_count": null,
   "metadata": {},
   "outputs": [],
   "source": [
    "import time\n",
    "\n",
    "x=domain.getX() # get the locations of the nodes in the domain\n",
    "\n",
    "left=x[0]-bleft; right=x[0]-bright; bottom=x[1]-bbot\n",
    "\n",
    "fleft=abc_bfunc(gleft,bleft,x[0],tgamma)\n",
    "fright=abc_bfunc(gright,bright,x[0],tgamma)\n",
    "fbottom=abc_bfunc(gbottom,bbot,x[1],tgamma)\n",
    "\n",
    "abcleft=fleft*whereNegative(left)\n",
    "abcright=fright*wherePositive(right)\n",
    "abcbottom=fbottom*wherePositive(bottom)\n",
    "# make sure the inside of the abc is value 1\n",
    "abcleft=abcleft+whereZero(abcleft)\n",
    "abcright=abcright+whereZero(abcright)\n",
    "abcbottom=abcbottom+whereZero(abcbottom)\n",
    "# multiply the conditions together to get a smooth result\n",
    "abc=abcleft*abcright*abcbottom\n",
    "\n",
    "mypde=LinearPDE(domain) # create pde\n",
    "mypde.setSymmetryOn() # turn symmetry on\n",
    "# turn lumping on for more efficient solving\n",
    "mypde.getSolverOptions().setSolverMethod(SolverOptions.HRZ_LUMPING)\n",
    "kmat = kronecker(domain) # create the kronecker delta function of the domain\n",
    "mypde.setValue(D=kmat*rho) #set the general form value D\n",
    "\n",
    "# define small radius around point xc\n",
    "src_length = 40; print(\"src_length = \",src_length)\n",
    "# set initial values for first two time steps with source terms\n",
    "y=source[0]*(cos(length(x-xc)*3.1415/src_length)+1)*whereNegative(length(x-xc)-src_length)\n",
    "src_dir=np.array([0.,1.]) # defines direction of point source as down\n",
    "y=y*src_dir\n",
    "mypde.setValue(y=y) #set the source as a function on the boundary\n",
    "# for first two time steps\n",
    "u=[0.0,0.0]*wherePositive(x)\n",
    "u_m1=u\n",
    "\n",
    "rtime=0.0 # first time to record\n",
    "n=0 # iteration counter\n",
    "t=0 # time counter\n",
    "\n",
    "start_time = time.time()\n",
    "print(\"Iteration started, please wait...\")\n",
    "while t<tend:\n",
    "    # get current stress\n",
    "    g=grad(u); stress=lam*trace(g)*kmat+mu*(g+transpose(g))\n",
    "    mypde.setValue(X=-stress*abc) # set PDE values\n",
    "    accel = mypde.getSolution() #get PDE solution for accelleration\n",
    "    u_p1=(2.*u-u_m1)+h*h*accel #calculate displacement\n",
    "    u_p1=u_p1*abc       # apply boundary conditions\n",
    "    u_m1=u; u=u_p1 # shift values by 1\n",
    "    # save current displacement, acceleration and pressure\n",
    "    if (t >= rtime):\n",
    "        saveVTK(os.path.join(savepath,\"ex08b_abc_2nd.%05d.vtu\"%n),displacement=length(u),\\\n",
    "                             acceleration=length(accel),tensor=stress)\n",
    "        rtime=rtime+rtime_inc #increment data save time\n",
    "    # increment loop values\n",
    "    t=t+h; n=n+1\n",
    "    if (n < ls):\n",
    "        y=source[n]*(cos(length(x-xc)*3.1415/src_length)+1)*whereNegative(length(x-xc)-src_length)\n",
    "        y=y*src_dir; mypde.setValue(y=y) #set the source as a function on the boundary\n",
    "    print(\"time step %d, t=%s\"%(n,t))\n",
    "    \n",
    "end_time = time.time()\n",
    "time = end_time - start_time\n",
    "print(\"Simulation completed! Time taken: %s seconds.\" % time)"
   ]
  },
  {
   "cell_type": "markdown",
   "metadata": {},
   "source": [
    "Figure 6.4 compares the displacement results obtained on secord order and first order meshes at 0.2 seconds. \n",
    "\n",
    "<br>\n",
    " <figure>\n",
    "  <img src=\"figures/ex081st_vs_2nd_displacement.png\" width=\"700\">\n",
    "  <figcaption>\n",
    "    <center>\n",
    "      Figure 6.4: Displacement results simulated on first and second order meshes, at t=0.2 sec.\n",
    "    </center>\n",
    "  </figcaption>\n",
    " </figure>\n",
    "<br>"
   ]
  },
  {
   "cell_type": "markdown",
   "metadata": {},
   "source": [
    "## 6.5 Pycad example"
   ]
  },
  {
   "cell_type": "markdown",
   "metadata": {},
   "source": [
    "**The scripts referenced in this section are: example08c.py**\n",
    "\n",
    "To make the problem more interesting we will now introduce an interface to the middle of the domain (Figure 6.5). In fact we will use the same domain as we did for different set of material properties on either side of the interface (example 5 in Section 4.4).\n",
    "\n",
    "<br>\n",
    " <figure>\n",
    "  <img src=\"figures/gmsh-example08c.png\" width=\"600\">\n",
    "  <figcaption>\n",
    "    <center>\n",
    "      Figure 6.5: Domain geometry for example08c.py showing line tangents.\n",
    "    </center>\n",
    "  </figcaption>\n",
    " </figure>\n",
    "<br>\n",
    "\n"
   ]
  },
  {
   "cell_type": "code",
   "execution_count": null,
   "metadata": {},
   "outputs": [],
   "source": []
  },
  {
   "cell_type": "code",
   "execution_count": null,
   "metadata": {},
   "outputs": [],
   "source": []
  },
  {
   "cell_type": "code",
   "execution_count": null,
   "metadata": {},
   "outputs": [],
   "source": []
  },
  {
   "cell_type": "markdown",
   "metadata": {},
   "source": [
    "## References"
   ]
  },
  {
   "cell_type": "markdown",
   "metadata": {},
   "source": [
    "C. Cerjan. A nonreflecting boundary condition for discrete acoustic and elastic wave equations. Geophysics,\n",
    "50, 1985. doi: 10.1190/1.1441945."
   ]
  }
 ],
 "metadata": {
  "kernelspec": {
   "display_name": "Python 3",
   "language": "python",
   "name": "python3"
  },
  "language_info": {
   "codemirror_mode": {
    "name": "ipython",
    "version": 3
   },
   "file_extension": ".py",
   "mimetype": "text/x-python",
   "name": "python",
   "nbconvert_exporter": "python",
   "pygments_lexer": "ipython3",
   "version": "3.5.3"
  }
 },
 "nbformat": 4,
 "nbformat_minor": 2
}
