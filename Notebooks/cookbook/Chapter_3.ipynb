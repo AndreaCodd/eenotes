{
 "cells": [
  {
   "cell_type": "markdown",
   "metadata": {},
   "source": [
    "# Chapter 3: Heat Diffusion in Two Dimensions"
   ]
  },
  {
   "cell_type": "markdown",
   "metadata": {},
   "source": [
    "Building upon our success from the 1D models, it is now prudent to expand our domain by another dimension.\n",
    "For this example we use a very simple magmatic intrusion as the basis for our model. The simulation will be\n",
    "a single event where some molten granite has formed a cylindrical dome at the base of some cold sandstone\n",
    "country rock. Assuming that the cylinder is very long we model a cross-section as shown in Figure 3.1. We\n",
    "will implement the same diffusion model as we have used for the granite blocks in Section 2.1 but will add the\n",
    "second spatial dimension and show how to define variables depending on the location of the domain. We use\n",
    "`onedheatdiff001b.py` as the starting point to develop this model.\n",
    "\n",
    "<br>\n",
    " <figure>\n",
    "  <img src=\"figures/twodheatdiff.svg\" width=\"400\">\n",
    "  <figcaption>\n",
    "    <center>\n",
    "      Figure 3.1: Example 3: 2D model: granitic intrusion of sandstone country rock.\n",
    "    </center>\n",
    "  </figcaption>\n",
    " </figure>\n",
    "<br>"
   ]
  },
  {
   "cell_type": "markdown",
   "metadata": {},
   "source": [
    "## 3.1 Example 3: Two Dimensional Heat Diffusion for a basic Magmatic Intrusion"
   ]
  },
  {
   "cell_type": "markdown",
   "metadata": {},
   "source": [
    "**The scripts referenced in this section are: example03a.py and cblib.py**\n",
    "\n",
    "To expand upon our 1D problem, the domain must first be expanded. In fact, we have solved a two dimensional problem already but essentially ignored the second dimension. In our definition phase we create a square domain in $x$ and $y$ (in *escript* the notation $x_{0}$ and $x_{1}$ is used for $x$ and $y$, respectively) that is 600 meters along each side (Figure 3.1). Now we set the number of discrete spatial cells to 150 in both directions and the radius of the intrusion to 200 meters with the centre located at the 300 meter mark on the $x$-axis. Thus, the domain variables are:"
   ]
  },
  {
   "cell_type": "code",
   "execution_count": null,
   "metadata": {},
   "outputs": [],
   "source": [
    "from esys.escript import *\n",
    "from esys.escript.unitsSI import *\n",
    "from esys.finley import Rectangle\n",
    "\n",
    "mx = 600*m #meters - model length\n",
    "my = 600*m #meters - model width\n",
    "ndx = 150 #mesh steps in x direction\n",
    "ndy = 150 #mesh steps in y direction\n",
    "r = 200*m #meters - radius of intrusion\n",
    "ic = [300*m, 0] #coordinates of the centre of intrusion (meters)\n",
    "qH=0.*J/(sec*m**3) #our heat source temperature is zero\n",
    "\n",
    "model = Rectangle(l0=mx,l1=my,n0=ndx, n1=ndy)\n",
    "\n",
    "print(\"Done\")"
   ]
  },
  {
   "cell_type": "markdown",
   "metadata": {},
   "source": [
    "As before, we created a domain using the `Rectangle()` function from *finley*. There are two fundamental changes to the PDE that we have discussed in Section 2.1. Firstly, because the material coefficients for granite and sandstone are different, we need to deal with PDE coefficients which vary with their location in the domain. Secondly, we need to deal with the second spatial dimension. We can investigate these two modifications at the same time. In fact, the temperature model Equation (2.1) we utilised in Section 2.1 applied for the 1D case with a constant material parameter only. For the more general case examined in this chapter, the correct model equation is:\n",
    "\n",
    "\\begin{equation}\n",
    "  \\rho c_p \\frac{\\partial T}{\\partial t} \n",
    "  - \\frac{\\partial }{\\partial x} \\kappa \\frac{\\partial T}{\\partial x} \n",
    "  - \\frac{\\partial }{\\partial y} \\kappa \\frac{\\partial T}{\\partial y} = q_H .\n",
    "  \\tag{3.1}\n",
    "\\end{equation}\n",
    "\n",
    "Notice that for the 1D case we have $\\frac{\\partial T}{\\partial y}=0$ and for the case of constant material parameters $\\frac{\\partial }{\\partial x} \\kappa = \\kappa  \\frac{\\partial }{\\partial x}$ thus this new equation coincides with a simplified model equation for this case. It is more convenient to write this equation using the $\\nabla$ notation as we have already seen in Equation (2.6):\n",
    "\n",
    "\\begin{equation}\n",
    "  \\rho c_p \\frac{\\partial T}{\\partial t} - \\nabla \\cdot \\kappa \\nabla T = q_H .\n",
    "  \\tag{3.2}\n",
    "\\end{equation}\n",
    "\n",
    "We can easily apply the backward Euler scheme as before to end up with \n",
    "\n",
    "\\begin{equation}\n",
    "  \\frac{\\rho c_p}{h} T^{(n)} -\\nabla \\cdot \\kappa \\nabla T^{(n)}  =\n",
    "  q_H +  \\frac{\\rho c_p}{h} T^{(n-1)} ,\n",
    "  \\tag{3.3}\n",
    "\\end{equation}\n",
    "\n",
    "which is very similar to Equation (2.9) used to define the temperature update in the simple 1D case. The difference is in the second order derivative term $\\nabla \\cdot \\kappa \\nabla T^{(n)}$. Under the light of the more general case we need to revisit the *escript* PDE form as shown in Equation (2.16). For the 2D case with variable PDE coefficients the form needs to be read as\n",
    "\n",
    "\\begin{equation}\n",
    "  -\\frac{\\partial }{\\partial x} A_{00}\\frac{\\partial u}{\\partial x} \n",
    "  -\\frac{\\partial }{\\partial x} A_{01}\\frac{\\partial u}{\\partial y} \n",
    "  -\\frac{\\partial }{\\partial y} A_{10}\\frac{\\partial u}{\\partial x} \n",
    "  -\\frac{\\partial }{\\partial x} A_{11}\\frac{\\partial u}{\\partial y} \n",
    "  + Du = f\n",
    "  \\tag{3.4}\n",
    "\\end{equation}\n",
    "\n",
    "So besides the settings $u=T^{(n)}$, $D = \\frac{\\rho c _{p}}{h}$ and $f = q _{H} + \\frac{\\rho c_p}{h} T^{(n-1)}$ as we have used before (see Equation (2.10)) we need to set\n",
    "\n",
    "\\begin{equation}\\label{eqn: kappa general}\n",
    "  A_{00}=A_{11}=\\kappa; A_{01}=A_{10}=0 .\n",
    "  \\tag{3.5}\n",
    "\\end{equation}\n",
    "\n",
    "The fundamental difference to the 1D case is that $A_{11}$ is not set to zero but $\\kappa$, which brings in the second dimension. It is important to note that the coefficients of the PDE may depend on their location in the domain which does not influence the usage of the PDE form. This is very convenient as we can introduce spatial dependence to the PDE coefficients without modification to the way we call the PDE solver. \n",
    "\n",
    "A very convenient way to define the matrix $A$ in Equation (3.5) can be carried out using the [Kronecker $\\delta$ symbol](http://en.wikipedia.org/wiki/Kronecker_delta). The *escript* function `kronecker` returns this matrix:\n",
    "\n",
    "\\begin{equation}\n",
    "  \\verb|kronecker(model)| = \\left[ \n",
    "  \\begin{array}{cc}\n",
    "   1 & 0 \\\\\n",
    "   0 & 1 \\\\\n",
    "  \\end{array}\n",
    "  \\right] .\n",
    "  \\tag{3.6}\n",
    "\\end{equation}\n",
    "\n",
    "As the argument `model` represents a two dimensional domain the matrix is returned as a $2 \\times 2$ matrix\n",
    "(in the case of a three-dimensional domain a $3 \\times 3$ matrix is returned). The call \n",
    "\n",
    "```python\n",
    "mypde.setValue(A=kappa*kronecker(model),D=rhocp/h)\n",
    "```\n",
    "\n",
    "sets the PDE coefficients according to Equation (3.5). \n",
    "\n",
    "We need to check the boundary conditions before we turn to the question: how do we set $\\kappa$. As pointed out Equation (2.4) makes certain assumptions on the boundary conditions. In our case these assumptions translate to\n",
    "\n",
    "\\begin{equation}\n",
    "  -n \\cdot \\kappa \\nabla T^{(n)} = \n",
    "  -n_{0} \\cdot \\kappa \\frac{\\partial T^{(n)}}{\\partial x} -\n",
    "  n_{1} \\cdot  \\kappa \\frac{\\partial T^{(n)}}{\\partial y} = 0 ,\n",
    "  \\tag{3.7}\n",
    "\\end{equation}\n",
    "\n",
    "which sets the normal component of the heat flux $- \\kappa \\cdot (\\frac{\\partial T^{(n)}}{\\partial x}, \\frac{\\partial T^{(n)}}{\\partial y})$ to zero. This means that the region is insulated which is what we want. \n",
    "On the left and right face of the domain where we have $(n_{0},n_{1} ) = (\\mp 1,0)$, which means $\\frac{\\partial T^{(n)}}{\\partial x}=0$ and on the top and bottom on the domain  where we have  $(n_{0},n_{1} ) = (\\pm 1,0)$ this is $\\frac{\\partial T^{(n)}}{\\partial y}=0$. "
   ]
  },
  {
   "cell_type": "markdown",
   "metadata": {},
   "source": [
    "## 3.2 Setting variable PDE Coefficients"
   ]
  },
  {
   "cell_type": "markdown",
   "metadata": {},
   "source": [
    "Now we need to look into the problem of how we define the material coefficients $\\kappa$ and $\\rho c_p$ depending on their location in the domain. We can make use of the technique used in the granite block example in\n",
    "Section 2.1 to set up the initial temperature. However, the situation is more complicated here as we have to deal with a curved interface between the two sub-domains.\n",
    "\n",
    "Prior to setting up the PDE, the interface between the two materials must be established. The distance $s\\ge 0$ between two points $[x,y]$ and $[x_{0},y_{0}]$ in Cartesian coordinates is defined as:\n",
    "\n",
    "\\begin{equation}\n",
    " (x-x_{0})^{2}+(y-y_{0})^{2} = s^{2} .\n",
    " \\tag{3.7}\n",
    "\\end{equation}\n",
    "\n",
    "If we define the point $[x_{0},y_{0}]$ as $ic$ which denotes the centre of the semi-circle of our intrusion, then for all the points $[x,y]$ in our model we can calculate a distance to $ic$. All the points that fall within the given radius $r$ of our intrusion will have a corresponding value $s < r$ and all those belonging to the country rock will have a value $s > r$. By subtracting $r$ from both of these conditions we find $s-r < 0$ for all intrusion points and $s-r > 0$ for all country rock points. Defining these conditions within the script is quite simple and is done using the following command:"
   ]
  },
  {
   "cell_type": "code",
   "execution_count": null,
   "metadata": {},
   "outputs": [],
   "source": [
    "x=Function(model).getX()\n",
    "bound = length(x-ic)-r #where the boundary will be located\n",
    "\n",
    "print(\"Done\")"
   ]
  },
  {
   "cell_type": "markdown",
   "metadata": {},
   "source": [
    "Notice that we are using the sample points of the `Function` function space as expected for the PDE coefficient `A` (For the experienced user: use `x=mypde.getFunctionSpace(\"A\").getX()`).This definition of the boundary can now be used with the `whereNegative` command again to help define the material constants and temperatures in our domain.  "
   ]
  },
  {
   "cell_type": "code",
   "execution_count": null,
   "metadata": {},
   "outputs": [],
   "source": [
    "## Intrusion Variables\n",
    "#Granite\n",
    "kappai=2.2*W/m/K #watts/m.K thermal conductivity\n",
    "rhoi = 2750*kg/m**3 #kg/m^{3} density of granite\n",
    "cpi = 790.*J/(kg*K) #j/Kg.K thermal capacity\n",
    "rhocpi = rhoi*cpi   #DENSITY * SPECIFIC HEAT\n",
    "#Country Rock Variables - Sandstone\n",
    "kappac = 1.9*W/m/K #watts/m.K thermal conductivity\n",
    "rhoc = 2000*kg/m**3 #kg/m^{3} density\n",
    "cpc = 920.*J/(kg*K) #j/kg.k specific heat\n",
    "rhocpc = rhoc*cpc #DENSITY * SPECIFIC HEAT\n",
    "\n",
    "kappa = kappai * whereNegative(bound) + kappac * (1-whereNegative(bound))\n",
    "rhocp = rhocpi*whereNegative(bound)+rhocpc*(1-whereNegative(bound))\n",
    "\n",
    "#Script/Iteration Related\n",
    "t=0 * day #our start time, usually zero\n",
    "tend=200.* yr #the time we want to end the simulation\n",
    "outputs = 200 # number of time steps required.\n",
    "h=(tend-t)/outputs #size of time step\n",
    "#user warning\n",
    "print(\"Expected Number of Output Files is: \", outputs)\n",
    "print(\"Step size is: \", h/day, \"days\")\n",
    "\n",
    "#create the PDE\n",
    "from esys.escript.linearPDEs import LinearPDE\n",
    "mypde=LinearPDE(model) #assigns a domain to our PDE\n",
    "mypde.setSymmetryOn() #set the fast solver on for symmetry\n",
    "#define our PDE coeffs\n",
    "mypde.setValue(A=kappa*kronecker(model),D=rhocp/h)\n",
    "\n",
    "print(\"Done\")"
   ]
  },
  {
   "cell_type": "markdown",
   "metadata": {},
   "source": [
    "Our PDE has now been properly established. The initial conditions for temperature are set out in a similar manner:"
   ]
  },
  {
   "cell_type": "code",
   "execution_count": null,
   "metadata": {},
   "outputs": [],
   "source": [
    "#defining the initial temperatures.\n",
    "Ti=2273.*Celsius # Kelvin -the starting temperature of our RHS Block\n",
    "Tc = 473*Celsius # Kelvin #the starting temperature of our country rock\n",
    "x=Solution(model).getX()\n",
    "bound = length(x-ic)-r\n",
    "T= Ti*whereNegative(bound)+Tc*(1-whereNegative(bound))\n",
    "\n",
    "print(\"Done\")"
   ]
  },
  {
   "cell_type": "markdown",
   "metadata": {},
   "source": [
    "where `Ti` and `Tc` are the initial temperature in the regions of the granite and surrounding sandstone, respectively. It is important to notice that we reset `x` and `bound` to refer to the appropriate sample points of a PDE solution (For the experienced user: use `x=mypde.getFunctionSpace(\"r\").getX()`)."
   ]
  },
  {
   "cell_type": "markdown",
   "metadata": {},
   "source": [
    "## 3.3 Contouring *escript* Data using `matplotlib`."
   ]
  },
  {
   "cell_type": "markdown",
   "metadata": {},
   "source": [
    "To complete our transition from a 1D to a 2D model we also need to modify the plotting procedure. As before we use `matplotlib` to do the plotting in this case a contour plot. For 2D contour plots `matplotlib` expects that the data are regularly gridded. We have no control over the location and ordering of the sample points used to represent the solution. Therefore it is necessary to interpolate our solution onto a regular grid.\n",
    "\n",
    "In Section 2.1.10 we have already learned how to extract the $x$ coordinates of sample points as `numpy` array to hand the values to `matplotlib`. This can easily be extended to extract both the $x$ and the $y$ coordinates:"
   ]
  },
  {
   "cell_type": "code",
   "execution_count": null,
   "metadata": {},
   "outputs": [],
   "source": [
    "import numpy as np\n",
    "def toXYTuple(coords):\n",
    "    coords = np.array(coords.toListOfTuples()) #convert to Tuple\n",
    "    coordX = coords[:,0] #X components.\n",
    "    coordY = coords[:,1] #Y components.\n",
    "    return coordX,coordY\n",
    "\n",
    "print(\"Done\")"
   ]
  },
  {
   "cell_type": "markdown",
   "metadata": {},
   "source": [
    "For convenience we have put this function into `cblib.py` so we can use this function in other scripts more easily. \n",
    "\n",
    "We now generate a regular $100 \\times 100$ grid over the domain ($mx$ and $my$ are the dimensions in the $x$ and $y$ directions) which is done using the `numpy` function `linspace`."
   ]
  },
  {
   "cell_type": "code",
   "execution_count": null,
   "metadata": {},
   "outputs": [],
   "source": [
    "from cblib import toXYTuple\n",
    "# get sample points for temperature as for contouring\n",
    "coordX, coordY = toXYTuple(T.getFunctionSpace().getX())\n",
    "# create regular grid\n",
    "xi = np.linspace(0.0,mx,75)\n",
    "yi = np.linspace(0.0,my,75)\n",
    "\n",
    "print(\"Done\")"
   ]
  },
  {
   "cell_type": "markdown",
   "metadata": {},
   "source": [
    "The values `[xi[k], yi[l]]` are the grid points.\n",
    "\n",
    "The remainder of our contouring commands resides within a `while` loop so that a new contour is generated for each time step. For each time step the solution must be re-gridded for `matplotlib` using the SciPy `griddata` function. This function interprets irregularly located values `tempT` at locations defined by `coordX` and `coordY` as values at the new coordinates of a rectangular grid defined by `xi` and `yi`. The output is `zi`. It is now possible to use the `contourf` function which generates colour filled contours. The colour gradient of our plots is set via the command `pl.matplotlib.pyplot.autumn()`, other colours are listed on the `matplotlib` [web page](http://matplotlib.sourceforge.net/api/). Our results are then contoured, visually adjusted using the `matplotlib` functions and then saved to a file. `pl.clf()` clears the figure in readiness for the next time iteration."
   ]
  },
  {
   "cell_type": "code",
   "execution_count": null,
   "metadata": {},
   "outputs": [],
   "source": [
    "import os #This package is necessary to handle saving our data.\n",
    "import matplotlib\n",
    "import pylab as pl #Plotting package.\n",
    "from scipy import interpolate\n",
    "from cblib import HAVE_NATGRID\n",
    " \n",
    "#the folder to put our outputs in, leave blank \"\" for script path \n",
    "save_path= os.path.join(\"data\",\"example03\")\n",
    "mkDir(save_path)\n",
    "\n",
    "print(\"Simulation started, this will take a while...\")\n",
    "i=0 #loop counter\n",
    "while t<=tend:\n",
    "    i+=1 #counter\n",
    "    t+=h #current time\n",
    "    print(\"  iteration step %d, time=%s/%s\"%(i,t,tend))\n",
    "    mypde.setValue(Y=qH+T*rhocp/h)\n",
    "    T=mypde.getSolution()\n",
    "    tempT = T.toListOfTuples()\n",
    "    # grid the data.\n",
    "    #zi = pl.matplotlib.mlab.griddata(coordX,coordY,tempT,xi,yi, interp='linear')\n",
    "    zi = interpolate.griddata((coordX,coordY),tempT,(xi[None,:],yi[:,None]), method='linear')\n",
    "    # contour the gridded data, plotting dots at the \n",
    "    # randomly spaced data points.\n",
    "    pl.matplotlib.pyplot.autumn()\n",
    "    pl.contourf(xi,yi,zi,10)\n",
    "    CS = pl.contour(xi,yi,zi,5,linewidths=0.5,colors='k')\n",
    "    pl.clabel(CS, inline=1, fontsize=8)\n",
    "    pl.axis([0,600,0,600])\n",
    "    pl.title(\"Heat diffusion from an intrusion.\")\n",
    "    pl.xlabel(\"Horizontal Displacement (m)\")\n",
    "    pl.ylabel(\"Depth (m)\")\n",
    "    pl.savefig(os.path.join(save_path,\"temp%03d.png\"%i))\n",
    "    pl.clf()            \n",
    "    #print(\"time step %s at t=%e days completed.\"%(i,t/day))\n",
    "print(\"Simulation completed, please check saved figures in your output folder.\")"
   ]
  },
  {
   "cell_type": "markdown",
   "metadata": {},
   "source": [
    "The function `pl.contour` is used to add labelled contour lines to the plot. The results for selected time steps are shown in Figure 3.2, to which you can compare your results.\n",
    "\n",
    "<br>\n",
    " <figure>\n",
    "  <img src=\"figures/temp001.png\" width=\"500\">\n",
    " </figure>\n",
    "\n",
    " <figure>\n",
    "  <img src=\"figures/temp020.png\" width=\"500\">\n",
    " </figure>\n",
    "\n",
    " <figure>\n",
    "  <img src=\"figures/temp200.png\" width=\"500\">\n",
    "  <figcaption>\n",
    "    <center>\n",
    "      Figure 3.2: Example 3a: 2D model: Total temperature ($T$) distribution at time steps\n",
    "$1$, $20$ and $200$.Contour lines show temperature. \n",
    "    </center>\n",
    "  </figcaption>\n",
    " </figure>\n",
    "<br>"
   ]
  },
  {
   "cell_type": "markdown",
   "metadata": {},
   "source": [
    "## 3.4 Advanced Visualisation using VTK"
   ]
  },
  {
   "cell_type": "markdown",
   "metadata": {},
   "source": [
    "**The scripts referenced in this section are; example03b.py**\n",
    "\n",
    "An alternative approach to `matplotlib` for visualisation is the usage of a package which is based on the [Visualization Toolkit (VTK) library](http://www.vtk.org/). There is a variety of packages available. Here we use the package [*mayavi2*](http://code.enthought.com/projects/mayavi/) as an example. \n",
    "\n",
    "*mayavi2* is an interactive, GUI driven tool which is really designed to visualise large three dimensional data sets where `matplotlib` is not suitable. But it is also very useful when it comes to two dimensional problems.  The decision of which tool is the best can be subjective and users should determine which package they require and are most comfortable with. The main difference between using *mayavi2* (or other VTK based tools) and `matplotlib` is that the actual visualisation is detached from the calculation by writing the results to external files and importing them into *mayavi2*. In 3D the best camera position for rendering a scene is not obvious before the results are available. Therefore the user may need to try different settings before the\n",
    "best is found. Moreover, in many cases a 3D interactive visualisation is the only way to really understand the results (e.g. using stereographic projection).\n",
    "\n",
    "To write the temperatures at each time step to data files in the VTK file format one needs to import `saveVTK` from the `esys.weipa` module and call it:"
   ]
  },
  {
   "cell_type": "code",
   "execution_count": null,
   "metadata": {},
   "outputs": [],
   "source": [
    "from esys.weipa import saveVTK\n",
    "\n",
    "#reset relevant variables to initial conditions\n",
    "x=Solution(model).getX()\n",
    "bound = length(x-ic)-r\n",
    "T= Ti*whereNegative(bound)+Tc*(1-whereNegative(bound))\n",
    "t=0 * day\n",
    "i=0\n",
    "\n",
    "print(\"Simulation started, this will take a while...\")\n",
    "while t<=tend:\n",
    "    i+=1 #counter\n",
    "    t+=h #current time\n",
    "    print(\"  iteration step %d, time=%s/%s\"%(i,t,tend))\n",
    "    mypde.setValue(Y=qH+T*rhocp/h)\n",
    "    T=mypde.getSolution()\n",
    "    saveVTK(os.path.join(save_path,\"data.%03d.vtu\"%i), T=T)\n",
    "    \n",
    "print(\"Simulation completed, please check saved vtu files in your output folder.\")    "
   ]
  },
  {
   "cell_type": "markdown",
   "metadata": {},
   "source": [
    "The data files, e.g. `data.001.vtu`, contain all necessary information to visualise the temperature and can be directly processed by `mayavi2`. Note that there is no re-gridding required. The file extension `.vtu` is automatically added if not supplied to `saveVTK`. \n",
    "\n",
    "After you run the script you will find the result files `data.*.vtu` in the result directory `data/example03`.\n",
    "Run the command\n",
    "\n",
    "`>> mayavi2 -d data.001.vtu -m Surface &`\n",
    "\n",
    "from the result directory. `mayavi2` will start up a window similar to Figure (3.3). The right hand side shows the temperature at the first time step. To show the results at other time steps you can click at the item `VTK XML file (data.001.vtu) (timeseries)` at the top left hand side. This will bring up a new window similar to the window shown in Figure (3.4). By clicking at the arrows in the top right corner you can move forwards and backwards in time. You will also notice the text **T** next to the item `Point scalars name`. The name **T** corresponds to the keyword argument name `T` we have used in the `saveVTK` call. In this menu item you can select other results you may have written to the output file for visualisation.\n",
    "\n",
    "<br>\n",
    " <figure>\n",
    "  <img src=\"figures/ScreeshotMayavi2n1.png\" width=\"500\">\n",
    "  <figcaption>\n",
    "    <center>\n",
    "      Figure 3.3: Example 3a: Example 3b: Mayavi2 start up window. \n",
    "    </center>\n",
    "  </figcaption>\n",
    " </figure>\n",
    "<br>\n",
    "\n",
    "<br>\n",
    " <figure>\n",
    "  <img src=\"figures/ScreeshotMayavi2n2.png\" width=\"500\">\n",
    "  <figcaption>\n",
    "    <center>\n",
    "      Figure 3.4: Example 3b: Mayavi2 data control window.\n",
    "    </center>\n",
    "  </figcaption>\n",
    " </figure>\n",
    "<br>"
   ]
  },
  {
   "cell_type": "markdown",
   "metadata": {},
   "source": [
    "**For the advanced user**: Using the `matplotlib` to visualise spatially distributed data is not MPI compatible. However, the `saveVTK` function can be used with MPI. In fact, the function collects the values of the sample\n",
    "points spread across processor ranks into a single file. For more details on writing scripts for parallel computing please consult the *user's guide*."
   ]
  }
 ],
 "metadata": {
  "celltoolbar": "Tags",
  "kernelspec": {
   "display_name": "Python 3",
   "language": "python",
   "name": "python3"
  },
  "language_info": {
   "codemirror_mode": {
    "name": "ipython",
    "version": 3
   },
   "file_extension": ".py",
   "mimetype": "text/x-python",
   "name": "python",
   "nbconvert_exporter": "python",
   "pygments_lexer": "ipython3",
   "version": "3.9.2"
  }
 },
 "nbformat": 4,
 "nbformat_minor": 4
}
