{
 "cells": [
  {
   "cell_type": "markdown",
   "metadata": {},
   "source": [
    "# Chapter 4: Complex Geometries"
   ]
  },
  {
   "cell_type": "markdown",
   "metadata": {},
   "source": [
    "## 4.1 Steady-state Heat Refraction"
   ]
  },
  {
   "cell_type": "markdown",
   "metadata": {},
   "source": [
    "In this chapter we demonstrate how to handle more complex geometries. \n",
    "\n",
    "Steady-state heat refraction will give us an opportunity to investigate some of the richer features that the *escript* package has to offer. One of these is `esys.pycad`. The advantage of using `esys.pycad` is that it offers an easy method for developing and manipulating complex domains. In conjunction with `esys.pycad.gmsh` we can generate finite element meshes that conform to our domain's shape providing accurate modelling of interfaces and boundaries. Another useful function of `esys.pycad` is that we can tag specific areas of our domain with labels as we construct them. These labels can then be used in *escript* to define properties like material\n",
    "constants and source locations. \n",
    "\n",
    "We proceed in this chapter by first looking at a very simple geometry. Whilst a simple rectangular domain is not very interesting the example is elaborated upon later by introducing an internal curved interface."
   ]
  },
  {
   "cell_type": "markdown",
   "metadata": {},
   "source": [
    "## 4.2 Example 4: Creating the Domain with `esys.pycad`"
   ]
  },
  {
   "cell_type": "markdown",
   "metadata": {},
   "source": [
    "**The scripts referenced in this section are: example04a.py**\n",
    "\n",
    "We modify the example in Chapter 3 in two ways: we look at the steady state case with slightly modified boundary conditions and use a more flexible tool to generate the geometry. Let us look at the geometry first. \n",
    "\n",
    "We want to define a rectangular domain of width $5 km$ and depth $6 km$ below the surface of the Earth. The domain is subject to a few conditions. The temperature is known at the surface and the basement has a known heat flux. Each side of the domain is insulated and the aim is to calculate the final temperature distribution.\n",
    "\n",
    "In `esys.pycad` there are a few primary constructors that build upon each other to define domains and boundaries. The ones we use are:\n",
    "\n",
    "```Python\n",
    "Point() #Create a point in space.\n",
    "Line() #Creates a line from a number of points.\n",
    "CurveLoop() #Creates a closed loop from a number of lines.\n",
    "PlaneSurface() #Creates a surface based on a CurveLoop\n",
    "```\n",
    "\n",
    "So to construct our domain as shown in Figure 4.1, we first need to create the corner points. From the corner points we build the four edges of the rectangle. The four edges then form a closed loop which defines our domain as a surface. \n",
    "\n",
    "<br>\n",
    " <figure>\n",
    "  <img src=\"figures/pycadrec.png\" width=\"400\">\n",
    "  <figcaption>\n",
    "    <center>\n",
    "      Figure 4.1: Example 4: Rectangular Domain for esys.pycad.\n",
    "    </center>\n",
    "  </figcaption>\n",
    " </figure>\n",
    "<br>\n",
    "\n",
    "We start by inputting the variables we need to construct the model."
   ]
  },
  {
   "cell_type": "code",
   "execution_count": null,
   "metadata": {},
   "outputs": [],
   "source": [
    "from esys.escript.unitsSI import *\n",
    "width=5000.0*m   #width of model\n",
    "depth=-6000.0*m  #depth of model\n",
    "\n",
    "print(\"Done\")"
   ]
  },
  {
   "cell_type": "markdown",
   "metadata": {},
   "source": [
    "The variables are then used to construct the four corners of our domain, which from the origin has the dimensions of $5000$ meters width and $-6000$ meters depth. This is done with the `Point()` function which accepts x, y and z coordinates. Our domain is in two dimensions so z should always be zero:"
   ]
  },
  {
   "cell_type": "code",
   "execution_count": null,
   "metadata": {},
   "outputs": [],
   "source": [
    "from esys.pycad import *\n",
    "# Overall Domain\n",
    "p0=Point(0.0, 0.0, 0.0)\n",
    "p1=Point(0.0, depth, 0.0)\n",
    "p2=Point(width, depth, 0.0)\n",
    "p3=Point(width, 0.0, 0.0)\n",
    "\n",
    "print(\"Done\")"
   ]
  },
  {
   "cell_type": "markdown",
   "metadata": {},
   "source": [
    "Now lines are defined using our points. This forms a rectangle around our domain:"
   ]
  },
  {
   "cell_type": "code",
   "execution_count": null,
   "metadata": {},
   "outputs": [],
   "source": [
    "l01=Line(p0, p1)\n",
    "l12=Line(p1, p2)\n",
    "l23=Line(p2, p3)\n",
    "l30=Line(p3, p0)\n",
    "\n",
    "print(\"Done\")"
   ]
  },
  {
   "cell_type": "markdown",
   "metadata": {},
   "source": [
    "Note that lines have a direction. These lines form the basis for our domain boundary, which is a closed loop."
   ]
  },
  {
   "cell_type": "code",
   "execution_count": null,
   "metadata": {},
   "outputs": [],
   "source": [
    "c=CurveLoop(l01, l12, l23, l30)\n",
    "\n",
    "print(\"Done\")"
   ]
  },
  {
   "cell_type": "markdown",
   "metadata": {},
   "source": [
    "Be careful to define the curved loop in an **anti-clockwise** manner otherwise the meshing algorithm may fail. Finally we can define the domain as:"
   ]
  },
  {
   "cell_type": "code",
   "execution_count": null,
   "metadata": {},
   "outputs": [],
   "source": [
    "rec = PlaneSurface(c)\n",
    "\n",
    "print(\"Done\")"
   ]
  },
  {
   "cell_type": "markdown",
   "metadata": {},
   "source": [
    "At this point the introduction of the curved loop seems to be unnecessary but this concept plays an important role if holes are introduced. \n",
    "\n",
    "Now we are ready to hand over the domain `rec` to a mesher which subdivides the domain into triangles (or tetrahedra in 3D). In our case we use `esys.pycad.gmsh`. We create an instance of the `Design` class which will handle the interface to `esys.pycad.gmsh`: "
   ]
  },
  {
   "cell_type": "code",
   "execution_count": null,
   "metadata": {},
   "outputs": [],
   "source": [
    "from esys.pycad.gmsh import Design \n",
    "d=Design(dim=2, element_size=200*m)\n",
    "\n",
    "print(\"Done\")"
   ]
  },
  {
   "cell_type": "markdown",
   "metadata": {},
   "source": [
    "The argument `dim` defines the spatial dimension of the domain (if `dim`=3 the rectangle would be interpreted as a surface in the three dimensional space). The second argument `element_size` defines the element size which is the maximum length of a triangle edge in the mesh. The element size needs to be chosen with care in order to avoid very dense meshes. If the mesh is too dense, the computational time will be long but if the mesh is too\n",
    "sparse, the modelled result will be poor. In our case with an element size of $200$m and a domain length of $6000$m we will end up with about $\\frac{6000m}{200m}=30$ triangles in each spatial direction. So we end up with about $30 \\times 30 = 900$ triangles which is a size that can be handled easily. The Domain `rec` can simply added to the `Design`:"
   ]
  },
  {
   "cell_type": "code",
   "execution_count": null,
   "metadata": {},
   "outputs": [],
   "source": [
    "d.addItems(rec)\n",
    "\n",
    "print(\"Done\")"
   ]
  },
  {
   "cell_type": "markdown",
   "metadata": {},
   "source": [
    "We have the plan to set a heat flux on the bottom of the domain. One can use the masking technique to do this but `esys.pycad` offers a more convenient technique called tagging. With this technique items in the domain are named using the `PropertySet` class. We can then later use this name to set values specifically for those sample points located on the named items. Here we name the bottom face of the domain where we will set the heat influx:"
   ]
  },
  {
   "cell_type": "code",
   "execution_count": null,
   "metadata": {},
   "outputs": [],
   "source": [
    "ps=PropertySet(\"linebottom\",l12)\n",
    "d.addItems(ps)\n",
    "\n",
    "print(\"Done\")"
   ]
  },
  {
   "cell_type": "markdown",
   "metadata": {},
   "source": [
    "In some applications, eg. when dealing with influxes, it is required to have the surface being meshed without the need of explicitly name the surface. In this case the line forming the surface of the domain need to be added to the `Design` using `d.addItem(rec, l01, l12, l23, l30)`.\n",
    "\n",
    "Now we are ready to hand over the `Design` to *finley*:"
   ]
  },
  {
   "cell_type": "code",
   "execution_count": null,
   "metadata": {},
   "outputs": [],
   "source": [
    "from esys.finley import MakeDomain\n",
    "domain=MakeDomain(d)\n",
    "\n",
    "print(\"Done\")"
   ]
  },
  {
   "cell_type": "markdown",
   "metadata": {},
   "source": [
    "The `domain` object can now be used in the same way like the return object of the `Rectangle` object we have used previously to generate a mesh. It is common practice to separate the mesh generation from the PDE solution.\n",
    "The main reason for this is that mesh generation can be computationally very expensive in particular in 3D. So it is more efficient to generate the mesh once and write it to a file. The mesh can then be read in every time a new simulation is run. *finley* supports this in the following way:"
   ]
  },
  {
   "cell_type": "code",
   "execution_count": null,
   "metadata": {},
   "outputs": [],
   "source": [
    "# write domain to a text file\n",
    "domain.write(\"example04.fly\")\n",
    "\n",
    "print(\"Done\")"
   ]
  },
  {
   "cell_type": "markdown",
   "metadata": {},
   "source": [
    "and then for reading in another script:"
   ]
  },
  {
   "cell_type": "code",
   "execution_count": null,
   "metadata": {},
   "outputs": [],
   "source": [
    "# read domain from text file\n",
    "from esys.finley import ReadMesh\n",
    "domain =ReadMesh(\"example04.fly\")\n",
    "\n",
    "print(\"Done\")"
   ]
  },
  {
   "cell_type": "markdown",
   "metadata": {},
   "source": [
    "Before we discuss how to solve the PDE for this problem, it is useful to present two additional options of the `Design` class. These allow the user to access the script which is used by `esys.pycad.gmsh` to generate the mesh as well as the generated mesh itself. This is done by setting specific names for these files: "
   ]
  },
  {
   "cell_type": "code",
   "execution_count": null,
   "metadata": {},
   "outputs": [],
   "source": [
    "d.setScriptFileName(\"example04.geo\")\n",
    "d.setMeshFileName(\"example04.msh\")\n",
    "\n",
    "print(\"Done\")"
   ]
  },
  {
   "cell_type": "markdown",
   "metadata": {},
   "source": [
    "Conventionally the extension `geo` is used for the script file of the `esys.pycad.gmsh` geometry and the extension `msh` for the mesh file. Normally these files are deleted after usage. Accessing these files can be helpful to debug the generation of more complex geometries. The geometry and the mesh can be visualised from the command line using\n",
    "\n",
    "```\n",
    "gmsh example04.geo  # show geometry\n",
    "gmsh example04.msh  # show mesh\n",
    "```\n",
    "\n",
    "The mesh is shown in Figure 4.2.\n",
    "\n",
    "<br>\n",
    " <figure>\n",
    "  <img src=\"figures/simplemesh.png\" width=\"400\">\n",
    "  <figcaption>\n",
    "    <center>\n",
    "      Figure 4.2: Example 4a: Mesh over rectangular domain, see Figure 4.1.\n",
    "    </center>\n",
    "  </figcaption>\n",
    " </figure>\n",
    "<br>\n"
   ]
  },
  {
   "cell_type": "markdown",
   "metadata": {},
   "source": [
    "## 4.3 The Steady-state Heat Equation"
   ]
  },
  {
   "cell_type": "markdown",
   "metadata": {},
   "source": [
    "**The scripts referenced in this section are: example04b.py, cblib**\n",
    "\n",
    "A temperature equilibrium or steady state is reached when the temperature distribution in the model does not change with time. To calculate the steady state solution the time derivative term in Equation (3.2) needs to be\n",
    "set to zero:\n",
    "\n",
    "\\begin{equation}\n",
    "  -\\nabla \\cdot \\kappa \\nabla T = q_H\n",
    "  \\tag{4.1}\n",
    "\\end{equation}\n",
    "\n",
    "This PDE is easier to solve than the PDE in Equation (3.3), as no time steps (iterations) are required. The `D` term from Equation (3.3) is simply dropped in this case."
   ]
  },
  {
   "cell_type": "code",
   "execution_count": null,
   "metadata": {},
   "outputs": [],
   "source": [
    "from esys.escript import *\n",
    "from esys.escript.linearPDEs import LinearPDE\n",
    "kappa=2.0*W/m/K   # watts/m.Kthermal conductivity \n",
    "mypde=LinearPDE(domain)\n",
    "mypde.setValue(A=kappa*kronecker(domain))\n",
    "\n",
    "print(\"Done\")"
   ]
  },
  {
   "cell_type": "markdown",
   "metadata": {},
   "source": [
    "The temperature at the top face of the domain is known as `Ttop|` ($=20 C$). In Section 2.2 we have already discussed how this constraint is added to the PDE:"
   ]
  },
  {
   "cell_type": "code",
   "execution_count": null,
   "metadata": {},
   "outputs": [],
   "source": [
    "Ttop=20*K       # top temperature\n",
    "x=Solution(domain).getX()\n",
    "mypde.setValue(q=whereZero(x[1]-sup(x[1])),r=Ttop)\n",
    "\n",
    "print(\"Done\")"
   ]
  },
  {
   "cell_type": "markdown",
   "metadata": {},
   "source": [
    "Notice that we use the `sup` function to calculate the maximum of $y$ coordinates of the relevant sample points.\n",
    "\n",
    "In all cases so far we have assumed that the domain is insulated which translates into a zero normal flux $-n \\cdot \\kappa \\nabla T$, see Equation (3.7). In the modelling set-up of this chapter we want to set the normal heat flux at the bottom to `qin` while still maintaining insulation at the left and right face. Mathematically we can express this as\n",
    "\n",
    "\\begin{equation}\n",
    "    -n \\cdot \\kappa \\nabla T = q_{S}\n",
    "    \\tag{4.2}\n",
    "\\end{equation}\n",
    "\n",
    "where $q_{S}$ is a function of its location on the boundary. Its value becomes zero for locations on the left or right face of the domain while it has the value `qin` at the bottom face. Notice that the value of $q_{S}$ at the top face is not relevant as we prescribe the temperature here. We could define $q_{S}$ by using the masking techniques demonstrated earlier. The tagging mechanism provides an alternative and in many cases more convenient way of defining piecewise constant functions such as $q_{S}$. Recall now that the bottom face was denoted with the name `linebottom` when we defined the domain. We can use this now to create $q_{S}$:"
   ]
  },
  {
   "cell_type": "code",
   "execution_count": null,
   "metadata": {},
   "outputs": [],
   "source": [
    "qin=70*Milli*W/(m*m) # bottom heat influx\n",
    "qS=Scalar(0,FunctionOnBoundary(domain))\n",
    "qS.setTaggedValue(\"linebottom\",qin)\n",
    "\n",
    "print(\"Done\")"
   ]
  },
  {
   "cell_type": "markdown",
   "metadata": {},
   "source": [
    "In the second line `qS` is defined as a scalar value over the sample points on the boundary of the domain. It is initialised to zero for all sample points. In the third statement the values for those sample points which are located on the line marked by `linebottom` are set to `qin`.\n",
    "\n",
    "The Neumann boundary condition assumed by *escript* has the form\n",
    "\n",
    "\\begin{equation}\n",
    "    n\\cdot A \\cdot\\nabla u = y\n",
    "    \\tag{4.3}\n",
    "\\end{equation}\n",
    "\n",
    "In comparison to the version in Equation (2.14) we have used so far the right hand side is now the new PDE coefficient $y$. As we have not specified $y$ in our previous examples, *escript* has assumed the value zero for $y$. A comparison of Equation (4.3) and Equation (4.2) reveals that one needs to choose $y=-q_{S}$:"
   ]
  },
  {
   "cell_type": "code",
   "execution_count": null,
   "metadata": {},
   "outputs": [],
   "source": [
    "qS=Scalar(0,FunctionOnBoundary(domain))\n",
    "qS.setTaggedValue(\"linebottom\",qin)\n",
    "mypde.setValue(y=-qS)\n",
    "\n",
    "print(\"Done\")"
   ]
  },
  {
   "cell_type": "markdown",
   "metadata": {},
   "source": [
    "To plot the results we use the `matplotlib` library as shown in Section 3.3. For convenience the interpolation of the temperature to a rectangular grid for contour plotting is made available via the `toRegGrid` function in the `cblib` module. Your result should look similar to Figure (4.3).\n",
    "\n",
    "<br>\n",
    " <figure>\n",
    "  <img src=\"figures/simpleheat.png\" width=\"400\">\n",
    "  <figcaption>\n",
    "    <center>\n",
    "      Figure 4.3: Example 4b: Result of simple steady state heat problem.\n",
    "    </center>\n",
    "  </figcaption>\n",
    " </figure>\n",
    "<br>"
   ]
  },
  {
   "cell_type": "code",
   "execution_count": null,
   "metadata": {},
   "outputs": [],
   "source": [
    "mypde.getSolverOptions().setVerbosityOn()\n",
    "mypde.setSymmetryOn()\n",
    "T=mypde.getSolution()\n",
    "\n",
    "# makes an interactive plotting window\n",
    "%matplotlib notebook\n",
    "\n",
    "import matplotlib\n",
    "import pylab as pl #Plotting package\n",
    "from cblib import toRegGrid\n",
    "import os\n",
    "\n",
    "xi, yi, zi = toRegGrid(T, nx=50, ny=50)\n",
    "pl.matplotlib.pyplot.autumn()\n",
    "pl.contourf(xi,yi,zi,10)\n",
    "pl.xlabel(\"Horizontal Displacement (m)\")\n",
    "pl.ylabel(\"Depth (m)\")\n",
    "pl.show()\n",
    "\n",
    "save_path= os.path.join(\"data\",\"example04\")\n",
    "mkDir(save_path)\n",
    "pl.savefig(os.path.join(save_path,\"example04.png\"))\n",
    "print(\"Solution has been plotted  ...\")\n",
    "\n",
    "print(\"Done\")"
   ]
  },
  {
   "cell_type": "markdown",
   "metadata": {},
   "source": [
    "## 4.4 Example 5: A Heat Refraction Model"
   ]
  },
  {
   "cell_type": "markdown",
   "metadata": {},
   "source": [
    "**The scripts referenced in this section are: example05a.py and cblib.py**\n",
    "\n",
    "Our heat refraction model will be a large anticlinal structure that is subject to a constant temperature at the surface and experiencing a steady heat flux at its base. Our aim is to show that the temperature flux across the surface is not linear from bottom to top, but is in fact warped by the structure of the model. The heat flow pattern demonstrates the dependence upon the material properties and the shape of the interface.\n",
    "\n",
    "The script of Section 4.2 is modified by subdividing the block into two parts. The curve separating the two\n",
    "blocks is given as a spline, see Figure (4.4). The data points used to define the curve may be imported from a\n",
    "database of measurements (*e.g.* borehole depth data), but for simplicity it is assumed here that the coordinates are known in an analytic form.\n",
    "\n",
    "<br>\n",
    " <figure>\n",
    "  <img src=\"figures/anticlineheatrefraction.png\" width=\"400\">\n",
    "  <figcaption>\n",
    "    <center>\n",
    "      Figure 4.4: Example 5a: Heat refraction model with point and line labels.\n",
    "    </center>\n",
    "  </figcaption>\n",
    " </figure>\n",
    "<br>\n",
    "\n",
    "There are two modes available in this example. When `modal=1`, this indicates to the script that the model should be an anticline. Otherwise, when `modal=-1`, the model is a syncline. The modal operator simply changes the orientation of the boundary function so that it is either upwards or downwards curving. A `save_path` has also been defined so that we can easily separate our data from other examples and our scripts. \n",
    "\n",
    "It is now possible to start defining our domain and boundaries. \n",
    "\n",
    "The curve defining our clinal structure is located approximately in the middle of the domain and has a sinusoidal shape. We define the curve by generating points at discrete intervals; $51$ in this case, and then create a smooth curve through the points using the `Spline()` function."
   ]
  },
  {
   "cell_type": "code",
   "execution_count": null,
   "metadata": {},
   "outputs": [],
   "source": [
    "modal=-1\n",
    "save_path= os.path.join(\"data\",\"example05\") \n",
    "mkDir(save_path)\n",
    "\n",
    "#Model Parameters\n",
    "width=5000.0*m   #width of model\n",
    "depth=-6000.0*m  #depth of model\n",
    "Ttop=20*K       # top temperature\n",
    "qin=70*Milli*W/(m*m) # bottom heat influx\n",
    "\n",
    "sspl=51 #number of discrete points in spline\n",
    "dsp=width/(sspl-1) #dx of spline steps for width\n",
    "dep_sp=2500.0*m #avg depth of spline\n",
    "h_sp=1500.0*m #heigh of spline\n",
    "orit=-1.0 #orientation of spline 1.0=>up -1.0=>down\n",
    "\n",
    "# Domain Corners\n",
    "p0=Point(0.0, 0.0, 0.0)\n",
    "p1=Point(0.0, depth, 0.0)\n",
    "p2=Point(width, depth, 0.0)\n",
    "p3=Point(width, 0.0, 0.0)\n",
    "\n",
    "# Material Boundary\n",
    "x=[ Point(i*dsp\\\n",
    "    ,-dep_sp+modal*orit*h_sp*cos(pi*i*dsp/dep_sp+pi))\\\n",
    "     for i in range(0,sspl)\\\n",
    "    ]\n",
    "mysp = Spline(*tuple(x)) #*tuple() forces x to become a tuple\n",
    "\n",
    "print(\"Done\")"
   ]
  },
  {
   "cell_type": "markdown",
   "metadata": {},
   "source": [
    "The start and end points of the spline can be returned to help define the material boundaries."
   ]
  },
  {
   "cell_type": "code",
   "execution_count": null,
   "metadata": {},
   "outputs": [],
   "source": [
    "x1=mysp.getStartPoint()\n",
    "x2=mysp.getEndPoint()\n",
    "\n",
    "print(\"Done\")"
   ]
  },
  {
   "cell_type": "markdown",
   "metadata": {},
   "source": [
    "The top block or material above the clinal/spline boundary is defined in an **anti-clockwise** manner by creating lines and then a closed loop. By meshing the sub-domain we also need to assign it a planar surface. "
   ]
  },
  {
   "cell_type": "code",
   "execution_count": null,
   "metadata": {},
   "outputs": [],
   "source": [
    "# TOP BLOCK\n",
    "tbl1=Line(p0,x1)\n",
    "tbl2=mysp\n",
    "tbl3=Line(x2,p3)\n",
    "l30=Line(p3, p0)\n",
    "tblockloop = CurveLoop(tbl1,tbl2,tbl3,l30)\n",
    "tblock = PlaneSurface(tblockloop)\n",
    "\n",
    "print(\"Done\")"
   ]
  },
  {
   "cell_type": "markdown",
   "metadata": {},
   "source": [
    "This process is repeated for every other sub-domain. In this example there is only one other, the bottom block. The process is similar to the top block but with a few differences. The spline points must be reversed by setting the spline as negative."
   ]
  },
  {
   "cell_type": "code",
   "execution_count": null,
   "metadata": {},
   "outputs": [],
   "source": [
    "bbl4=-mysp\n",
    "\n",
    "print(\"Done\")"
   ]
  },
  {
   "cell_type": "markdown",
   "metadata": {},
   "source": [
    "This reverse spline option unfortunately does not work for the `getLoopCoords` command, however, the `matplotlib` polygon tool will accept clock-wise oriented points so we can define a new curve."
   ]
  },
  {
   "cell_type": "code",
   "execution_count": null,
   "metadata": {},
   "outputs": [],
   "source": [
    "#clockwise check\n",
    "#bblockloop=CurveLoop(mysp,Line(x2,p2),Line(p2,p1),Line(p1,x1))\n",
    "# surface\n",
    "#bblock = PlaneSurface(bblockloop)\n",
    "\n",
    "# Create BOTTOM BLOCK\n",
    "# lines\n",
    "bbl1=Line(x1,p1)\n",
    "bbl3=Line(p2,x2)\n",
    "bbl4=-mysp\n",
    "l12=Line(p1, p2)\n",
    "# curve\n",
    "bblockloop = CurveLoop(bbl1,l12,bbl3,bbl4)\n",
    "# surface\n",
    "bblock = PlaneSurface(bblockloop)\n",
    "\n",
    "print(\"Done\")"
   ]
  },
  {
   "cell_type": "markdown",
   "metadata": {},
   "source": [
    "The last few steps in creating the domain require that the previously defined domain and sub-domain points are submitted to generate a mesh that can be imported into *escript*. To initialise the mesh it first needs some design parameters. In this case we have 2 dimensions `dim` and a specified number of finite elements that need\n",
    "to be applied to the domain `element_size`. It then becomes a simple task of adding the sub-domains and flux boundaries to the design. Each element of our model can be given an identifier which makes it easier to define the sub-domain properties in the solution script. This is done using the `PropertySet()` function. The geometry and mesh are then saved so the *escript* domain can be created."
   ]
  },
  {
   "cell_type": "code",
   "execution_count": null,
   "metadata": {},
   "outputs": [],
   "source": [
    "# Create a Design which can make the mesh\n",
    "d=Design(dim=2, element_size=200)\n",
    "# Add the sub-domains and flux boundaries.\n",
    "d.addItems(PropertySet(\"top\",tblock),PropertySet(\"bottom\",bblock),PropertySet(\"linebottom\",l12))\n",
    "# Create the geometry, mesh and escript domain\n",
    "d.setScriptFileName(os.path.join(save_path,\"example05.geo\"))\n",
    "d.setMeshFileName(os.path.join(save_path,\"example05.msh\"))\n",
    "domain=MakeDomain(d,optimizeLabeling=True)\n",
    "\n",
    "print(\"Done\")"
   ]
  },
  {
   "cell_type": "markdown",
   "metadata": {},
   "source": [
    "The creation of our domain and its mesh is now complete.\n",
    "\n",
    "With the mesh imported it is now possible to use our tagging property to set up our PDE coefficients. In this case $\\kappa$ is set via the `setTaggedValue()` function which takes two arguments, the name of the tagged points and the value to assign to them. "
   ]
  },
  {
   "cell_type": "code",
   "execution_count": null,
   "metadata": {},
   "outputs": [],
   "source": [
    "# set up kappa (thermal conductivity across domain) using tags\n",
    "kappa=Scalar(0,Function(domain))\n",
    "kappa.setTaggedValue(\"top\",2.0*W/m/K)\n",
    "kappa.setTaggedValue(\"bottom\",4.0*W/m/K)\n",
    "\n",
    "print(\"Done\")"
   ]
  },
  {
   "cell_type": "markdown",
   "metadata": {},
   "source": [
    "No further changes are required to the PDE solution step, see Figure (4.5) for the result. \n",
    "\n",
    "<br>\n",
    " <figure>\n",
    "  <img src=\"figures/heatrefraction.png\" width=\"400\">\n",
    "  <figcaption>\n",
    "    <center>\n",
    "      Figure 4.4: Example 5a: Temperature Distribution in the Heat Refraction Model.\n",
    "    </center>\n",
    "  </figcaption>\n",
    " </figure>\n",
    "<br>"
   ]
  },
  {
   "cell_type": "code",
   "execution_count": null,
   "metadata": {},
   "outputs": [],
   "source": [
    "##############################################################SOLVE PDE\n",
    "mypde=LinearPDE(domain)\n",
    "mypde.getSolverOptions().setVerbosityOn()\n",
    "mypde.setSymmetryOn()\n",
    "mypde.setValue(A=kappa*kronecker(domain))\n",
    "x=Solution(domain).getX()\n",
    "mypde.setValue(q=whereZero(x[1]-sup(x[1])),r=Ttop)\n",
    "qS=Scalar(0,FunctionOnBoundary(domain))\n",
    "qS.setTaggedValue(\"linebottom\",qin)\n",
    "mypde.setValue(y=qS)\n",
    "print(\"PDE has been generated ...\")\n",
    "###########################################################GET SOLUTION\n",
    "T=mypde.getSolution()\n",
    "print(\"PDE has been solved  ...\")\n",
    "\n",
    "#######################################################################\n",
    "xi, yi, zi = toRegGrid(T, nx=50, ny=50)\n",
    "pl.figure(2)\n",
    "pl.matplotlib.pyplot.autumn()\n",
    "pl.contourf(xi,yi,zi,10)\n",
    "pl.xlabel(\"Horizontal Displacement (m)\")\n",
    "pl.ylabel(\"Depth (m)\")\n",
    "pl.show()\n",
    "pl.savefig(os.path.join(save_path,\"Tcontour.png\"))\n",
    "print(\"Solution has been plotted  ...\")\n",
    "\n",
    "print(\"Done\")"
   ]
  },
  {
   "cell_type": "markdown",
   "metadata": {},
   "source": [
    "## 4.5 Line Profiles of 2D Data"
   ]
  },
  {
   "cell_type": "markdown",
   "metadata": {},
   "source": [
    "**The scripts referenced in this section are: example05b.py and cblib.py**\n",
    "\n",
    "We want to investigate the profile of the data of the last example. Of particular interest is the depth profile of the heat flux which is the second component of $-\\kappa \\nabla T$. The script from the previous section\n",
    "is extended to show how a vertical profile can be plotted.\n",
    "\n",
    "The first important piece of information, is that *escript* assumes that $-\\kappa \\nabla T$ is not smooth and that the point values of this solution are defined at numerical interpolation points. This assumption is reasonable as the flux is the product of the piecewise constant function $\\kappa$ and the gradient of the temperature $T$ which has a discontinuity at the rock interface. Before plotting this function we need to smooth the solution using the `Projector()` class:"
   ]
  },
  {
   "cell_type": "code",
   "execution_count": null,
   "metadata": {},
   "outputs": [],
   "source": [
    "from esys.escript.pdetools import Projector\n",
    "proj=Projector(domain)\n",
    "qu=proj(-kappa*grad(T))\n",
    "\n",
    "print(\"Done\")"
   ]
  },
  {
   "cell_type": "markdown",
   "metadata": {},
   "source": [
    "The `proj` object provides a mechanism to distribute values given at the numerical interpolation points to the nodes of the FEM mesh - the heat flux in this example. `qu` has the same function space as the temperature\n",
    "`T`. The smoothed flux is interpolated to a regular $200\\times 200$ grid using the `toRegGrid` function:"
   ]
  },
  {
   "cell_type": "code",
   "execution_count": null,
   "metadata": {},
   "outputs": [],
   "source": [
    "xiq,yiq,ziq = toRegGrid(qu[1],200,200)\n",
    "\n",
    "print(\"Done\")"
   ]
  },
  {
   "cell_type": "markdown",
   "metadata": {},
   "source": [
    "At return `ziq[j,i]` is the value of vertical heat flux at point (`xiq[i]`,`yiq[j]`). We can easily create deep profiles now by plotting slices `ziq[:,i]` over `yiq`. The following script creates a deep profile at $x_{0}=\\frac{width}{2}$:"
   ]
  },
  {
   "cell_type": "code",
   "execution_count": null,
   "metadata": {},
   "outputs": [],
   "source": [
    "cut=int(len(xiq)/2)\n",
    "pl.figure(3)\n",
    "pl.plot(ziq[:,cut]*1000.,yiq)\n",
    "pl.title(\"Vertical Heat Flow Depth Profile\")\n",
    "pl.xlabel(\"Heat Flow (mW/m^2)\")\n",
    "pl.ylabel(\"Depth (m)\")\n",
    "pl.show()\n",
    "pl.savefig(os.path.join(save_path,\"hf.png\"))\n",
    "\n",
    "print(\"Done\")"
   ]
  },
  {
   "cell_type": "markdown",
   "metadata": {},
   "source": [
    "This process can be repeated for other variations of the solution, e.g., temperature gradient and thermal conductivity:"
   ]
  },
  {
   "cell_type": "code",
   "execution_count": null,
   "metadata": {},
   "outputs": [],
   "source": [
    "# Temperature Gradient Depth Profile at x[50]\n",
    "zT=proj(-grad(T))\n",
    "xt,yt,zt=toRegGrid(zT[1],200,200)\n",
    "cut=int(len(xt)//2)\n",
    "pl.figure(4)\n",
    "pl.plot(zt[:,cut]*1000.,yt)\n",
    "pl.title(\"Vertical Temperature Gradient \\n Depth Profile\")\n",
    "pl.xlabel(\"Temperature gradient (K/Km)\")\n",
    "pl.ylabel(\"Depth (m)\")\n",
    "pl.show()\n",
    "pl.savefig(os.path.join(save_path,\"tgdp.png\"))\n",
    "\n",
    "print(\"Done\")"
   ]
  },
  {
   "cell_type": "code",
   "execution_count": null,
   "metadata": {},
   "outputs": [],
   "source": [
    "# Thermal Conditions Depth Profile    \n",
    "xk,yk,zk = toRegGrid(proj(kappa),200,200)\n",
    "cut=int(len(xk)//2)\n",
    "pl.figure(5)\n",
    "pl.plot(zk[:,cut],yk)\n",
    "pl.title(\"Thermal Conductivity Depth Profile\")\n",
    "pl.xlabel(\"Conductivity (W/K/m)\")\n",
    "pl.ylabel(\"Depth (m)\")\n",
    "pl.axis([1,5,-6000,0])\n",
    "pl.show()\n",
    "pl.savefig(os.path.join(save_path,\"tcdp.png\"))\n",
    "\n",
    "print(\"Done\")"
   ]
  },
  {
   "cell_type": "markdown",
   "metadata": {},
   "source": [
    "Compare your results with Figure (4.6).\n",
    "\n",
    "<br>\n",
    " <figure>\n",
    "  <img src=\"figures/heatrefractiontgdp.png\" width=\"400\">\n",
    " </figure>\n",
    "\n",
    " <figure>\n",
    "  <img src=\"figures/heatrefractiontcdp.png\" width=\"400\">\n",
    " </figure>\n",
    "\n",
    " <figure>\n",
    "  <img src=\"figures/heatrefractionhf.png\" width=\"400\">\n",
    "  <figcaption>\n",
    "    <center>\n",
    "      Figure 4.6: Example 5b: Depth profiles down centre of model.\n",
    "    </center>\n",
    "  </figcaption>\n",
    " </figure>\n",
    "<br>"
   ]
  },
  {
   "cell_type": "markdown",
   "metadata": {},
   "source": [
    "## 4.6 Arrow Plots in `matplotlib`"
   ]
  },
  {
   "cell_type": "markdown",
   "metadata": {},
   "source": [
    "**The scripts referenced in this section are: example05c.py and cblib.py**\n",
    "\n",
    "This section will show how the distribution of the flux $-\\kappa \\nabla T$ is visualised and plotted over the domain, including: a contour plot of the temperature, a coloured representation of the two sub-domains where colour represents the thermal conductivity in the particular region, and the arrows representing the local direction of the steepest gradient of the flux.\n",
    "\n",
    "Contours have already been discussed in Section 3.3 and are plotted using: "
   ]
  },
  {
   "cell_type": "code",
   "execution_count": null,
   "metadata": {},
   "outputs": [],
   "source": [
    "pl.figure(6)\n",
    "xi, yi, zi = toRegGrid(T, nx=50, ny=50)\n",
    "CS = pl.contour(xi,yi,zi,5,linewidths=0.5,colors='k')\n",
    "pl.clabel(CS, inline=1, fontsize=8)\n",
    "\n",
    "print(\"Done\")"
   ]
  },
  {
   "cell_type": "markdown",
   "metadata": {},
   "source": [
    "To show sub-domains, we need to go back to `esys.pycad` data to get the points used to describe the boundary of the sub-domains. We have created the `CurveLoop` class object `tblockloop` to define the boundary of the upper sub-domain. We use the `getPolygon()` method of `CurveLoop` to get access to the `Point`s used to define the boundary. The statement\n",
    "\n",
    "```python\n",
    "[ p.getCoordinates() for p in tblockloop.getPolygon() ]\n",
    "```\n",
    "\n",
    "creates a list of the node coordinates of all the points in question. In order to simplify the selection of the $x$ and $y$ coordinates the list is converted into `numpy` array. To add the area coloured in brown to the plot we use:"
   ]
  },
  {
   "cell_type": "code",
   "execution_count": null,
   "metadata": {},
   "outputs": [],
   "source": [
    "import numpy as np\n",
    "tpg=np.array([p.getCoordinates() for p in tblockloop.getPolygon() ])\n",
    "pl.fill(tpg[:,0],tpg[:,1],'brown',label='2 W/m/k',zorder=-1000)\n",
    "\n",
    "print(\"Done\")"
   ]
  },
  {
   "cell_type": "markdown",
   "metadata": {},
   "source": [
    "The same code is applied to `bblockloop` to create the red area for this sub-domain:"
   ]
  },
  {
   "cell_type": "code",
   "execution_count": null,
   "metadata": {},
   "outputs": [],
   "source": [
    "bpg=np.array([p.getCoordinates() for p in bblockloop.getPolygon() ])\n",
    "pl.fill(bpg[:,0],bpg[:,1],'red',label='4 W/m/k',zorder=-1000)\n",
    "\n",
    "print(\"Done\")"
   ]
  },
  {
   "cell_type": "markdown",
   "metadata": {},
   "source": [
    "To plot vectors representing the flux orientation we use the `quiver` function in `pylab`. The function places vectors at locations in the domain. For instance one can plot vectors at the locations of the sample points used by *escript* to represent the flux `-kappa*grad(T)`. As a vector is plotted at each sample point one typically ends up with too many vectors. So one needs to select a subset of points as follows:\n",
    "\n",
    "First we create a coarse grid of points on a rectangular mesh, e.g. $20 \\times 20$ points. Here we choose a grid of points which are located at the centre of a `nx` $\\times$ `ny` grid:"
   ]
  },
  {
   "cell_type": "code",
   "execution_count": null,
   "metadata": {},
   "outputs": [],
   "source": [
    "nx = 20\n",
    "ny = 20\n",
    "dx = width/nx # x spacing\n",
    "dy = depth/ny # y spacing\n",
    "grid = [ ] # the grid points\n",
    "for j in range(0,ny-1):\n",
    "    for i in range(0,nx-1):\n",
    "           grid.append([dx/2+dx*i,dy/2+dy*j])\n",
    "\n",
    "print(\"Done\")"
   ]
  },
  {
   "cell_type": "markdown",
   "metadata": {},
   "source": [
    "With the `Locator` function *escript* provides a mechanism to identify sample points that are closest to the grid points we have selected and to retrieve the data at these points:"
   ]
  },
  {
   "cell_type": "code",
   "execution_count": null,
   "metadata": {},
   "outputs": [],
   "source": [
    "from esys.escript.pdetools import Locator\n",
    "flux=-kappa*grad(T)\n",
    "fluxLoc = Locator(flux.getFunctionSpace(),grid)\n",
    "subflux= fluxLoc(flux) \n",
    "\n",
    "print(\"Done\")"
   ]
  },
  {
   "cell_type": "markdown",
   "metadata": {},
   "source": [
    "`subflux` now contains a list of flux components at certain sample points. To get the list of the sample point coordinates one can use the `getX()` method of the `Locator`:"
   ]
  },
  {
   "cell_type": "code",
   "execution_count": null,
   "metadata": {},
   "outputs": [],
   "source": [
    "subfluxloc = fluxLoc.getX()\n",
    "\n",
    "print(\"Done\")"
   ]
  },
  {
   "cell_type": "markdown",
   "metadata": {},
   "source": [
    "To simplify the selection of $x$ and $y$ components it is convenient to transform `subflux` and `subfluxloc` to `numpy` arrays `xflux`, `flux`. This function is implemented in the `subsample` function within the `clib.py` file so we can use it in other examples. One can easily use this function to create a vector plot of the flux:"
   ]
  },
  {
   "cell_type": "code",
   "execution_count": null,
   "metadata": {},
   "outputs": [],
   "source": [
    "from cblib import subsample\n",
    "xflux, flux=subsample(-kappa*grad(T), nx=20, ny=20)\n",
    "pl.quiver(xflux[:,0],xflux[:,1],flux[:,0],flux[:,1], angles='xy',color=\"white\")\n",
    "\n",
    "print(\"Done\")"
   ]
  },
  {
   "cell_type": "markdown",
   "metadata": {},
   "source": [
    "Finally, we add a title and labels:"
   ]
  },
  {
   "cell_type": "code",
   "execution_count": null,
   "metadata": {},
   "outputs": [],
   "source": [
    "pl.title(\"Heat Refraction across a clinal structure.\")\n",
    "pl.xlabel(\"Horizontal Displacement (m)\")\n",
    "pl.ylabel(\"Depth (m)\")\n",
    "pl.title(\"Heat Refraction across a clinal structure \\n with gradient quivers.\")\n",
    "pl.savefig(os.path.join(save_path,\"flux.png\"))\n",
    "\n",
    "print(\"Done\")"
   ]
  },
  {
   "cell_type": "markdown",
   "metadata": {},
   "source": [
    "Compare your result (Figure 6) to Figure (4.7) below.\n",
    "\n",
    "<br>\n",
    " <figure>\n",
    "  <img src=\"figures/heatrefractionflux.png\" width=\"600\">\n",
    "  <figcaption>\n",
    "    <center>\n",
    "      Figure 4.7: Example 5c: Heat refraction model with gradient indicated by vectors.\n",
    "    </center>\n",
    "  </figcaption>\n",
    " </figure>\n",
    "<br>"
   ]
  },
  {
   "cell_type": "markdown",
   "metadata": {},
   "source": [
    "## 4.7 Example 6: Fault and Overburden Model"
   ]
  },
  {
   "cell_type": "markdown",
   "metadata": {},
   "source": [
    "**The scripts referenced in this section are: example06.py and cblib.py**\n",
    "\n",
    "A slightly more complicated model that contains three blocks is used in this section. Please read through the code blocks below and compare your results with Figure (4.8).\n",
    "\n",
    "<br>\n",
    " <figure>\n",
    "  <img src=\"figures/heatrefraction2flux.png\" width=\"600\">\n",
    "  <figcaption>\n",
    "    <center>\n",
    "      Figure 4.8: Example 6: Heat refraction model with three blocks and heat flux.\n",
    "    </center>\n",
    "  </figcaption>\n",
    " </figure>\n",
    "<br>"
   ]
  },
  {
   "cell_type": "markdown",
   "metadata": {},
   "source": [
    "ESTABLISHING VARIABLES:"
   ]
  },
  {
   "cell_type": "code",
   "execution_count": null,
   "metadata": {},
   "outputs": [],
   "source": [
    "# where to put output files\n",
    "save_path= os.path.join(\"data\",\"example06\")\n",
    "mkDir(save_path)\n",
    "\n",
    "Ttop=20*Celsius # temperature at the top\n",
    "qin=300.*Milli*W/(m*m) #our heat source temperature is now zero\n",
    "\n",
    "print(\"Done\")"
   ]
  },
  {
   "cell_type": "markdown",
   "metadata": {},
   "source": [
    "DOMAIN CONSTRUCTION:"
   ]
  },
  {
   "cell_type": "code",
   "execution_count": null,
   "metadata": {},
   "outputs": [],
   "source": [
    "# Points\n",
    "p0=Point(0.0,        0.0, 0.0)\n",
    "p1=Point(0.0,    -6000.0, 0.0)\n",
    "p2=Point(5000.0, -6000.0, 0.0)\n",
    "p3=Point(5000.0,     0.0, 0.0)\n",
    "\n",
    "# Lines\n",
    "l01=Line(p0, p1)\n",
    "l12=Line(p1, p2)\n",
    "l23=Line(p2, p3)\n",
    "l30=Line(p3, p0)\n",
    "\n",
    "# Generate Material Boundary\n",
    "p4=Point(0.0,    -2400.0, 0.0)\n",
    "p5=Point(2000.0, -2400.0, 0.0)\n",
    "p6=Point(3000.0, -6000.0, 0.0)\n",
    "p7=Point(5000.0, -2400.0, 0.0)\n",
    "\n",
    "# Create TOP BLOCK\n",
    "tbl1=Line(p0,p4)\n",
    "tbl2=Line(p4,p5)\n",
    "tbl3=Line(p5,p7)\n",
    "tbl4=Line(p7,p3)\n",
    "tblockloop = CurveLoop(tbl1,tbl2,tbl3,tbl4,l30)\n",
    "tblock = PlaneSurface(tblockloop)\n",
    "\n",
    "# Create BOTTOM BLOCK LEFT\n",
    "bbll1=Line(p4,p1)\n",
    "bbll2=Line(p1,p6)\n",
    "bbll3=Line(p6,p5)\n",
    "bbll4=-tbl2\n",
    "bblockloopl = CurveLoop(bbll1,bbll2,bbll3,bbll4)\n",
    "bblockl = PlaneSurface(bblockloopl)\n",
    "\n",
    "# Create BOTTOM BLOCK RIGHT\n",
    "bbrl1=Line(p6,p2)\n",
    "bbrl2=Line(p2,p7)\n",
    "bbrl3=-tbl3\n",
    "bbrl4=-bbll3\n",
    "bblockloopr = CurveLoop(bbrl1,bbrl2,bbrl3,bbrl4)\n",
    "bblockr = PlaneSurface(bblockloopr)\n",
    "\n",
    "print(\"Done\")"
   ]
  },
  {
   "cell_type": "markdown",
   "metadata": {},
   "source": [
    "EXPORTING MESH FOR ESCRIPT:"
   ]
  },
  {
   "cell_type": "code",
   "execution_count": null,
   "metadata": {},
   "outputs": [],
   "source": [
    "# Create a Design which can make the mesh\n",
    "d=Design(dim=2, element_size=200)\n",
    "# Add the subdomains and flux boundaries.\n",
    "d.addItems(PropertySet(\"top\",tblock),\\\n",
    "           PropertySet(\"bottomleft\",bblockl),\\\n",
    "           PropertySet(\"bottomright\",bblockr),\\\n",
    "           PropertySet(\"linebottom\",bbll2, bbrl1))\n",
    "\n",
    "# Create the geometry, mesh and Escript domain\n",
    "d.setScriptFileName(os.path.join(save_path,\"example06.geo\"))\n",
    "\n",
    "d.setMeshFileName(os.path.join(save_path,\"example06.msh\"))\n",
    "domain=MakeDomain(d)\n",
    "\n",
    "# set up kappa (thermal conductivity across domain) using tags\n",
    "kappa=Scalar(0,Function(domain))\n",
    "kappa.setTaggedValue(\"top\",2.0)\n",
    "kappa.setTaggedValue(\"bottomleft\",10.0)\n",
    "kappa.setTaggedValue(\"bottomright\",6.0)\n",
    "\n",
    "print(\"Done\")"
   ]
  },
  {
   "cell_type": "markdown",
   "metadata": {},
   "source": [
    "SOLVE PDE:"
   ]
  },
  {
   "cell_type": "code",
   "execution_count": null,
   "metadata": {},
   "outputs": [],
   "source": [
    "mypde=LinearPDE(domain)\n",
    "mypde.getSolverOptions().setVerbosityOn()\n",
    "mypde.setSymmetryOn()\n",
    "mypde.setValue(A=kappa*kronecker(domain))\n",
    "x=Solution(domain).getX()\n",
    "mypde.setValue(q=whereZero(x[1]-sup(x[1])),r=Ttop)\n",
    "qS=Scalar(0,FunctionOnBoundary(domain))\n",
    "qS.setTaggedValue(\"linebottom\",qin)\n",
    "mypde.setValue(y=qS)\n",
    "T=mypde.getSolution()\n",
    "print(\"PDE has been solved ...\")\n",
    "\n",
    "print(\"Done\")"
   ]
  },
  {
   "cell_type": "markdown",
   "metadata": {},
   "source": [
    "PLOTTING:"
   ]
  },
  {
   "cell_type": "code",
   "execution_count": null,
   "metadata": {},
   "outputs": [],
   "source": [
    "# show temperature:\n",
    "pl.figure(7)\n",
    "xi, yi, zi = toRegGrid(T, nx=50, ny=50)\n",
    "CS = pl.contour(xi,yi,zi,5,linewidths=0.5,colors='k')\n",
    "pl.clabel(CS, inline=1, fontsize=8)\n",
    "# show sub domains:\n",
    "tpg=np.array([p.getCoordinates() for p in tblockloop.getPolygon() ])\n",
    "pl.fill(tpg[:,0],tpg[:,1],'brown',label='2 W/m/k',zorder=-1000)\n",
    "bpgr=np.array([p.getCoordinates() for p in bblockloopr.getPolygon() ])\n",
    "pl.fill(bpgr[:,0],bpgr[:,1],'orange',label='6 W/m/k',zorder=-1000)\n",
    "bpgl=np.array([p.getCoordinates() for p in bblockloopl.getPolygon() ])\n",
    "pl.fill(bpgl[:,0],bpgl[:,1],'red',label='10 W/m/k',zorder=-1000)\n",
    "# show flux:\n",
    "xflux, flux=subsample(-kappa*grad(T), nx=20, ny=20)\n",
    "pl.quiver(xflux[:,0],xflux[:,1],flux[:,0],flux[:,1], angles='xy',color=\"white\")\n",
    "# create plot\n",
    "pl.title(\"Heat Refraction across an anisotropic structure\\n with flux vectors.\")\n",
    "pl.xlabel(\"Horizontal Displacement (m)\")\n",
    "pl.ylabel(\"Depth (m)\")\n",
    "pl.legend()\n",
    "pl.savefig(os.path.join(save_path,\"flux.png\"))\n",
    "print(\"Flux has been plotted  ...\")\n",
    "\n",
    "print(\"Done\")"
   ]
  },
  {
   "cell_type": "code",
   "execution_count": null,
   "metadata": {},
   "outputs": [],
   "source": []
  }
 ],
 "metadata": {
  "kernelspec": {
   "display_name": "Python 3",
   "language": "python",
   "name": "python3"
  },
  "language_info": {
   "codemirror_mode": {
    "name": "ipython",
    "version": 3
   },
   "file_extension": ".py",
   "mimetype": "text/x-python",
   "name": "python",
   "nbconvert_exporter": "python",
   "pygments_lexer": "ipython3",
   "version": "3.5.3"
  }
 },
 "nbformat": 4,
 "nbformat_minor": 2
}
