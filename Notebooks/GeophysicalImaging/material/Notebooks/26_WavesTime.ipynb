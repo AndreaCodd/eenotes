{
   "cells": [
      {
         "cell_type": "markdown",
         "metadata": {},
         "source": [
            "# Wave propagation in Time Domain\n",
            "\n",
            "In this section we discuss how to solve the PDE for 2D sonic wave equation in time domain using `esys.escript`. It is assumed that you have worked through the [introduction section on `esys.escript`](escriptBasics.ipynb). \n",
            "First we will provide the basic theory.\n"
         ]
      },
      {
         "cell_type": "markdown",
         "metadata": {},
         "source": [
            "## Sonic Wave Equation in Time domain\n",
            "\n",
            "The sonic wave equation in time domain can be written as a system of first order differential equations:\n",
            "\\begin{equation}\\label{eqWAVEF1}\n",
            "\\dot{\\mathbf{V}} = - \\nabla p \n",
            "\\end{equation}\n",
            "\\begin{equation}\\label{eqWAVEF2}\n",
            "\\frac{1}{c^2} \\dot{p} + \\nabla^t \\mathbf{V} = \\delta_{\\mathbf{x}_s} \\cdot w(t)\n",
            "\\end{equation}\n",
            "where $p$ is the pressure (or volume change) and \n",
            "$\\mathbf{V}$ it gradient. Source at location $\\mathbf{x}_s$. $c$ is the wave propagation speed.\n",
            "The dot refers time derivative. $\\mathbf{x}_s$ is the location of the source,  \n",
            "$\\delta_{\\mathbf{x}_s}$ is Dirac $\\delta$-function and $w(t)$ the source wavelet as function of time $t$.\n",
            "In more details these equations are given as  \n",
            "\\begin{equation}\\label{eqWAVEF3}\n",
            "\\dot{\\mathbf{V}} = -\\begin{bmatrix}\n",
            "\\frac{\\partial p}{\\partial x_0 }\\\\\n",
            " \\frac{\\partial p}{\\partial x_1 }\n",
            "\\end{bmatrix}\n",
            "\\end{equation}\n",
            "\\begin{equation}\\label{eqWAVEF4}\n",
            "\\frac{1}{c^2} \\dot{p} + \\frac{\\partial V_0}{\\partial x_0 }+\n",
            " \\frac{\\partial V_1}{\\partial x_1 } = \\delta_{\\mathbf{x}_s}  \\cdot w(t)\n",
            "\\end{equation}\n",
            "For the wavelet we use the [Ricker wavelet](http://subsurfwiki.org/wiki/Ricker_wavelet)"
         ]
      },
      {
         "cell_type": "code",
         "execution_count": 1,
         "metadata": {},
         "outputs": [],
         "source": [
            "f = 15       # peak frequency of the Ricker wavelet\n",
            "dt=0.001     # time resolution\n",
            "tend=0.75    # end of wavelet\n",
            "%matplotlib inline"
         ]
      },
      {
         "cell_type": "markdown",
         "metadata": {},
         "source": [
            "We use the implementation in `esys.escript` which is a bit more suitable for us them the [scipy version](https://docs.scipy.org/doc/scipy-0.14.0/reference/generated/scipy.signal.ricker.html):"
         ]
      },
      {
         "cell_type": "code",
         "execution_count": 2,
         "metadata": {
            "tags": [
               "SOLUTION"
            ]
         },
         "outputs": [],
         "source": []
      },
      {
         "cell_type": "markdown",
         "metadata": {},
         "source": [
            "For plotting we evaluate the Ricker over the interval 0 to `tend`:"
         ]
      },
      {
         "cell_type": "code",
         "execution_count": 3,
         "metadata": {
            "tags": [
               "SOLUTION"
            ]
         },
         "outputs": [],
         "source": []
      },
      {
         "cell_type": "code",
         "execution_count": 4,
         "metadata": {
            "tags": [
               "SOLUTION"
            ]
         },
         "outputs": [],
         "source": []
      },
      {
         "cell_type": "markdown",
         "metadata": {},
         "source": [
            "We also want to take a look at the power spectrum. We get the Fourier coefficients and frequencies using `np.fft`.\n",
            "Notice that we are using the real value fast fourier transformation (FFT) as the values of `signal` are real.\n",
            "As a consequence only the spectrum for positive frequencies needs to be inspected: "
         ]
      },
      {
         "cell_type": "code",
         "execution_count": 5,
         "metadata": {
            "tags": [
               "SOLUTION"
            ]
         },
         "outputs": [],
         "source": []
      },
      {
         "cell_type": "markdown",
         "metadata": {},
         "source": [
            "And we plot the power spectrum over frequency:"
         ]
      },
      {
         "cell_type": "code",
         "execution_count": 6,
         "metadata": {
            "tags": [
               "SOLUTION"
            ]
         },
         "outputs": [],
         "source": []
      },
      {
         "cell_type": "markdown",
         "metadata": {},
         "source": [
            "To assess the requirement is terms of grid sizes for solving the wave equation we need to have an idea of the \n",
            "largest frequency making contributions to the signal of the wavelet. To do this we first\n",
            "need to collect a list of all frequencies for which the spectrum lays above a threshold. Here we\n",
            "use $0.001$ times the maximum spectrum value to get an index of all frequencies that have \n",
            "significant contribution to the signal:"
         ]
      },
      {
         "cell_type": "code",
         "execution_count": 7,
         "metadata": {
            "tags": [
               "SOLUTION"
            ]
         },
         "outputs": [],
         "source": []
      },
      {
         "cell_type": "markdown",
         "metadata": {},
         "source": [
            "Then we grab the relevant frequencies from the array of frequencies and get the max:"
         ]
      },
      {
         "cell_type": "code",
         "execution_count": 8,
         "metadata": {
            "tags": [
               "SOLUTION"
            ]
         },
         "outputs": [],
         "source": []
      },
      {
         "cell_type": "markdown",
         "metadata": {},
         "source": [
            "## Domain set up\n",
            "\n",
            "We consider a single reflector set up. The reflector is located at a depth of $500m$\n",
            "where the top layer has propagation speed of $c_{top}=1500m/s$ \n",
            "and the bottom layer has propagation speed of $c_{top}=3000m/s$.\n",
            "Use a frequency of $f=5 Hz$. The domain has depth of $1km$ and width $3km$ \n",
            "with $300 \\times 100$ grid.\n",
            "The source is located at the surface at an offset of $1500m$ from the boundary.\n",
            "\n",
            " <img src=\"SonicImage1.png\" alt=\"Sonic domain\" width=\"800\"> "
         ]
      },
      {
         "cell_type": "markdown",
         "metadata": {},
         "source": [
            "This time we use a `sys.speckley` domain which is more suitable for wave problems. It actual uses higher \n",
            "order polynomial approximations:"
         ]
      },
      {
         "cell_type": "code",
         "execution_count": 9,
         "metadata": {},
         "outputs": [],
         "source": [
            "nx=100  # elements in horizontal direction\n",
            "ny=60   # elements in vertical direction\n",
            "dx=15   # element size\n",
            "order=6 # element order"
         ]
      },
      {
         "cell_type": "code",
         "execution_count": 10,
         "metadata": {
            "tags": [
               "SOLUTION"
            ]
         },
         "outputs": [],
         "source": []
      },
      {
         "cell_type": "markdown",
         "metadata": {},
         "source": [
            "Again we use a single source at the center of the top edge of the domain:"
         ]
      },
      {
         "cell_type": "code",
         "execution_count": 11,
         "metadata": {
            "tags": [
               "SOLUTION"
            ]
         },
         "outputs": [],
         "source": []
      },
      {
         "cell_type": "markdown",
         "metadata": {},
         "source": [
            "Velocity configuration is"
         ]
      },
      {
         "cell_type": "code",
         "execution_count": 12,
         "metadata": {},
         "outputs": [],
         "source": [
            "c_top=1800      # m/s\n",
            "c_bottom=3000      # m/s\n",
            "d0=Depth-200.    # m top layer is 200m thick"
         ]
      },
      {
         "cell_type": "markdown",
         "metadata": {},
         "source": [
            "Set up of the velocity $c$:"
         ]
      },
      {
         "cell_type": "code",
         "execution_count": 13,
         "metadata": {
            "tags": [
               "SOLUTION"
            ]
         },
         "outputs": [],
         "source": []
      },
      {
         "cell_type": "markdown",
         "metadata": {},
         "source": [
            "We solve the wave equation using the Heun scheme which is 2-nd order Runge-Kutta method with time step size: Starting from $U^{(0)}$:\n",
            "\\begin{equation}\\label{eq:H1}\n",
            "\\hat{U}^{(n+1)} =  U^{(n)} + h \\cdot F(U^{(n)}, t^{(n)}) \n",
            "\\end{equation}\n",
            "\\begin{equation}\\label{eq:H2}\n",
            "\\hat{U}^{(n+1)} = U^{(n)} + \\frac{h}{2} (F(U^{(n)}, t^{(n)})+F(\\hat{U}^{(n+1)}, t^{(n+1)}) )\n",
            "\\end{equation}\n",
            "In our case:\n",
            "\\begin{equation}\\label{eqWAVEF8}\n",
            "U=\\begin{bmatrix}\n",
            "\\mathbf{V}\\\\\n",
            " p\n",
            "\\end{bmatrix}\n",
            "\\end{equation}\n",
            "and \n",
            "\\begin{equation}\\label{eqWAVEF9}\n",
            "F=\\begin{bmatrix}\n",
            "-\\nabla p\\\\\n",
            " dp\n",
            "\\end{bmatrix}\n",
            "\\end{equation}\n",
            "with \n",
            "\\begin{equation}\\label{eqWAVEF10}\n",
            "\\frac{1}{c^2} dp = - \\nabla^t \\mathbf{V} + \\delta_{\\mathbf{x}_s} \\cdot w(t)\n",
            "\\end{equation}\n",
            "for which we use the `LinearSinglePDE` with $D=\\frac{1}{c^2}$, $X=-\\mathbf{V}$ and\n",
            "$y_{dirac}=\\delta_{\\mathbf{x}_s} \\cdot w(t)$"
         ]
      },
      {
         "cell_type": "markdown",
         "metadata": {},
         "source": [
            "Define the PDE:"
         ]
      },
      {
         "cell_type": "code",
         "execution_count": 14,
         "metadata": {},
         "outputs": [],
         "source": [
            "from esys.escript.linearPDEs import LinearSinglePDE, SolverOptions\n",
            "pde = LinearSinglePDE(domain)\n",
            "pde.getSolverOptions().setSolverMethod(SolverOptions.LUMPING)"
         ]
      },
      {
         "cell_type": "markdown",
         "metadata": {},
         "source": [
            "Setting $D$ is the PDE:"
         ]
      },
      {
         "cell_type": "code",
         "execution_count": 15,
         "metadata": {},
         "outputs": [],
         "source": [
            "pde.setValue(D=1./(c**2) )"
         ]
      },
      {
         "cell_type": "markdown",
         "metadata": {},
         "source": [
            "An define the Dirac $\\delta$ function for the source `source66` which we will later multiply with the wavelet value $(w(t)$ to define $y_{dirac}$: "
         ]
      },
      {
         "cell_type": "code",
         "execution_count": 16,
         "metadata": {},
         "outputs": [],
         "source": [
            "input_loc=Scalar(0., DiracDeltaFunctions(domain))\n",
            "input_loc.setTaggedValue(\"source66\", 1.)"
         ]
      },
      {
         "cell_type": "markdown",
         "metadata": {},
         "source": [
            "The wave length $\\lambda$ needs to smaller then the node spacing in order to be able to resolve\n",
            "the wave and its gradient accurately (note $2\\pi f \\lambda=c$):"
         ]
      },
      {
         "cell_type": "code",
         "execution_count": 17,
         "metadata": {
            "tags": [
               "SOLUTION"
            ]
         },
         "outputs": [],
         "source": []
      },
      {
         "cell_type": "markdown",
         "metadata": {},
         "source": [
            "## Time integration"
         ]
      },
      {
         "cell_type": "markdown",
         "metadata": {},
         "source": [
            "Also should the changes between to time steps not be two dramatic in the sense that the wave from should not\n",
            "travel more than then a node distance within a time step. This leads to the condition $h<h_{max}$:"
         ]
      },
      {
         "cell_type": "code",
         "execution_count": 18,
         "metadata": {
            "tags": [
               "SOLUTION"
            ]
         },
         "outputs": [],
         "source": []
      },
      {
         "cell_type": "markdown",
         "metadata": {},
         "source": [
            "** Note **: if the time step is two large then solution can become unstable. The exact maximum size \n",
            "    depends on additional factors such as the time integration scheme and the spatial discretization scheme.\n",
            "    In some an exact correction factor is known but here we use $h_{max}$ as a guidance to find the appropriate step size."
         ]
      },
      {
         "cell_type": "markdown",
         "metadata": {},
         "source": [
            "This is a Heun step:"
         ]
      },
      {
         "cell_type": "code",
         "execution_count": 19,
         "metadata": {
            "tags": [
               "SOLUTION"
            ]
         },
         "outputs": [],
         "source": []
      },
      {
         "cell_type": "markdown",
         "metadata": {},
         "source": [
            "We want to track the solution at three locations at the surface:"
         ]
      },
      {
         "cell_type": "code",
         "execution_count": 21,
         "metadata": {
            "tags": [
               "SOLUTION"
            ]
         },
         "outputs": [],
         "source": []
      },
      {
         "cell_type": "markdown",
         "metadata": {},
         "source": [
            "And also collect over a set of virtual geophones to create a synthetic seismic survey:"
         ]
      },
      {
         "cell_type": "code",
         "execution_count": 22,
         "metadata": {
            "tags": [
               "SOLUTION"
            ]
         },
         "outputs": [],
         "source": []
      },
      {
         "cell_type": "markdown",
         "metadata": {},
         "source": [
            "We write a function to progress the time integration from some time `t` to some \n",
            "time `tend` and collect the values at the geophones over time is lists:"
         ]
      },
      {
         "cell_type": "code",
         "execution_count": 38,
         "metadata": {},
         "outputs": [
            {
               "name": "stdout",
               "output_type": "stream",
               "text": [
                  "n=  25\n"
               ]
            }
         ],
         "source": [
            "Ts=[]\n",
            "Trace0=[]\n",
            "Trace1=[]\n",
            "Trace2=[]\n",
            "Traces=[]\n",
            "h=0.00004\n",
            "n=int(dt/h)\n",
            "print(\"n= \",n)\n",
            "\n",
            "def progress(p, v, t, tend):\n",
            "    while t < tend:\n",
            "        t, p, v = stepHeun(t, p, v, n, h)\n",
            "        Ts.append(t)\n",
            "        Trace0.append(loc0(p))\n",
            "        Trace1.append(loc1(p))\n",
            "        Trace2.append(loc2(p))\n",
            "        Traces.append(loc(p))\n",
            "        #print(Ts[-1], Trace0[-1], Trace1[-1], Trace2[-1])\n",
            "    return t, p, v"
         ]
      },
      {
         "cell_type": "markdown",
         "metadata": {
            "tags": [
               "SOLUTION"
            ]
         },
         "source": []
      },
      {
         "cell_type": "code",
         "execution_count": 39,
         "metadata": {},
         "outputs": [],
         "source": [
            "# start time integration\n",
            "v=Vector(0., Function(domain))\n",
            "p=Scalar(0., Solution(domain))\n",
            "t=0    \n",
            "\n",
            "t, p, v = progress(p, v, t, tend*0.2)"
         ]
      },
      {
         "cell_type": "markdown",
         "metadata": {},
         "source": [
            "Lets plot the solution at that time:"
         ]
      },
      {
         "cell_type": "code",
         "execution_count": 40,
         "metadata": {
            "tags": [
               "SOLUTION"
            ]
         },
         "outputs": [],
         "source": []
      },
      {
         "cell_type": "markdown",
         "metadata": {},
         "source": [
            "And now progress to $40\\%$ end time:"
         ]
      },
      {
         "cell_type": "code",
         "execution_count": 42,
         "metadata": {
            "tags": [
               "SOLUTION"
            ]
         },
         "outputs": [],
         "source": []
      },
      {
         "cell_type": "markdown",
         "metadata": {},
         "source": [
            "Lets plot the solution at that time:"
         ]
      },
      {
         "cell_type": "code",
         "execution_count": 43,
         "metadata": {
            "tags": [
               "SOLUTION"
            ]
         },
         "outputs": [],
         "source": []
      },
      {
         "cell_type": "markdown",
         "metadata": {},
         "source": [
            "And now progress to 60%\n",
            "end time:"
         ]
      },
      {
         "cell_type": "code",
         "execution_count": 45,
         "metadata": {
            "tags": [
               "SOLUTION"
            ]
         },
         "outputs": [],
         "source": []
      },
      {
         "cell_type": "markdown",
         "metadata": {},
         "source": [
            "Lets plot the solution at that time:"
         ]
      },
      {
         "cell_type": "code",
         "execution_count": 46,
         "metadata": {
            "tags": [
               "SOLUTION"
            ]
         },
         "outputs": [],
         "source": []
      },
      {
         "cell_type": "markdown",
         "metadata": {},
         "source": [
            "And now progress to 80% end time:"
         ]
      },
      {
         "cell_type": "code",
         "execution_count": 50,
         "metadata": {
            "tags": [
               "SOLUTION"
            ]
         },
         "outputs": [],
         "source": []
      },
      {
         "cell_type": "code",
         "execution_count": 51,
         "metadata": {
            "tags": [
               "SOLUTION"
            ]
         },
         "outputs": [],
         "source": []
      },
      {
         "cell_type": "markdown",
         "metadata": {},
         "source": [
            "## Seismograms"
         ]
      },
      {
         "cell_type": "markdown",
         "metadata": {},
         "source": [
            "Plot the traces at the monitoring points:"
         ]
      },
      {
         "cell_type": "code",
         "execution_count": 52,
         "metadata": {
            "tags": [
               "SOLUTION"
            ]
         },
         "outputs": [],
         "source": []
      },
      {
         "cell_type": "raw",
         "metadata": {},
         "source": [
            "Finally we can create the synthetic recordings as `numpy` array and plot them:"
         ]
      },
      {
         "cell_type": "code",
         "execution_count": 53,
         "metadata": {
            "tags": [
               "SOLUTION"
            ]
         },
         "outputs": [],
         "source": []
      },
      {
         "cell_type": "code",
         "execution_count": 57,
         "metadata": {
            "tags": [
               "SOLUTION"
            ]
         },
         "outputs": [],
         "source": []
      }
   ],
   "metadata": {
      "celltoolbar": "Tags",
      "kernelspec": {
         "display_name": "Python 3",
         "language": "python",
         "name": "python3"
      },
      "language_info": {
         "codemirror_mode": {
            "name": "ipython",
            "version": 3
         },
         "file_extension": ".py",
         "mimetype": "text/x-python",
         "name": "python",
         "nbconvert_exporter": "python",
         "pygments_lexer": "ipython3",
         "version": "3.6.8"
      },
      "latex_envs": {
         "LaTeX_envs_menu_present": true,
         "autoclose": false,
         "autocomplete": true,
         "bibliofile": "biblio.bib",
         "cite_by": "apalike",
         "current_citInitial": 1,
         "eqLabelWithNumbers": true,
         "eqNumInitial": 1,
         "hotkeys": {
            "equation": "Ctrl-E",
            "itemize": "Ctrl-I"
         },
         "labels_anchors": false,
         "latex_user_defs": false,
         "report_style_numbering": false,
         "user_envs_cfg": false
      },
      "toc": {
         "base_numbering": 1,
         "nav_menu": {},
         "number_sections": true,
         "sideBar": true,
         "skip_h1_title": false,
         "title_cell": "Table of Contents",
         "title_sidebar": "Contents",
         "toc_cell": false,
         "toc_position": {
            "height": "calc(100% - 180px)",
            "left": "10px",
            "top": "150px",
            "width": "384px"
         },
         "toc_section_display": true,
         "toc_window_display": true
      },
      "varInspector": {
         "cols": {
            "lenName": 16,
            "lenType": 16,
            "lenVar": 40
         },
         "kernels_config": {
            "python": {
               "delete_cmd_postfix": "",
               "delete_cmd_prefix": "del ",
               "library": "var_list.py",
               "varRefreshCmd": "print(var_dic_list())"
            },
            "r": {
               "delete_cmd_postfix": ") ",
               "delete_cmd_prefix": "rm(",
               "library": "var_list.r",
               "varRefreshCmd": "cat(var_dic_list()) "
            }
         },
         "position": {
            "height": "752.85px",
            "left": "1550px",
            "right": "20px",
            "top": "120px",
            "width": "350px"
         },
         "types_to_exclude": [
            "module",
            "function",
            "builtin_function_or_method",
            "instance",
            "_Feature"
         ],
         "window_display": false
      }
   },
   "nbformat": 4,
   "nbformat_minor": 2
}