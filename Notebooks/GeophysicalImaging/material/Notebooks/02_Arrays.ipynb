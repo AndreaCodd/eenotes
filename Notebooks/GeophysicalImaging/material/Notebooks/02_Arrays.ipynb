{
   "cells": [
      {
         "cell_type": "markdown",
         "metadata": {
            "toc": true
         },
         "source": [
            "<h1>Table of Contents<span class=\"tocSkip\"></span></h1>\n",
            "<div class=\"toc\"><ul class=\"toc-item\"><li><span><a href=\"#Useful-links:\" data-toc-modified-id=\"Useful-links:-1\"><span class=\"toc-item-num\">1&nbsp;&nbsp;</span>Useful links:</a></span></li><li><span><a href=\"#Files\" data-toc-modified-id=\"Files-2\"><span class=\"toc-item-num\">2&nbsp;&nbsp;</span>Files</a></span><ul class=\"toc-item\"><li><span><a href=\"#Writing-to-files\" data-toc-modified-id=\"Writing-to-files-2.1\"><span class=\"toc-item-num\">2.1&nbsp;&nbsp;</span>Writing to files</a></span></li><li><span><a href=\"#Reading-from-files\" data-toc-modified-id=\"Reading-from-files-2.2\"><span class=\"toc-item-num\">2.2&nbsp;&nbsp;</span>Reading from files</a></span></li></ul></li><li><span><a href=\"#Plotting-and-Visualization\" data-toc-modified-id=\"Plotting-and-Visualization-3\"><span class=\"toc-item-num\">3&nbsp;&nbsp;</span>Plotting and Visualization</a></span></li><li><span><a href=\"#Arrays\" data-toc-modified-id=\"Arrays-4\"><span class=\"toc-item-num\">4&nbsp;&nbsp;</span>Arrays</a></span><ul class=\"toc-item\"><li><span><a href=\"#Creating-arrays\" data-toc-modified-id=\"Creating-arrays-4.1\"><span class=\"toc-item-num\">4.1&nbsp;&nbsp;</span>Creating arrays</a></span></li><li><span><a href=\"#Indexing-and-slicing\" data-toc-modified-id=\"Indexing-and-slicing-4.2\"><span class=\"toc-item-num\">4.2&nbsp;&nbsp;</span>Indexing and slicing</a></span></li><li><span><a href=\"#Array-reshaping\" data-toc-modified-id=\"Array-reshaping-4.3\"><span class=\"toc-item-num\">4.3&nbsp;&nbsp;</span>Array reshaping</a></span></li></ul></li><li><span><a href=\"#Array-Datatypes\" data-toc-modified-id=\"Array-Datatypes-5\"><span class=\"toc-item-num\">5&nbsp;&nbsp;</span>Array Datatypes</a></span></li><li><span><a href=\"#Array-Arithmetic\" data-toc-modified-id=\"Array-Arithmetic-6\"><span class=\"toc-item-num\">6&nbsp;&nbsp;</span>Array Arithmetic</a></span><ul class=\"toc-item\"><li><span><a href=\"#Element-by-Element\" data-toc-modified-id=\"Element-by-Element-6.1\"><span class=\"toc-item-num\">6.1&nbsp;&nbsp;</span>Element-by-Element</a></span></li><li><span><a href=\"#Matrix-multiplication\" data-toc-modified-id=\"Matrix-multiplication-6.2\"><span class=\"toc-item-num\">6.2&nbsp;&nbsp;</span>Matrix multiplication</a></span></li></ul></li><li><span><a href=\"#An-Example\" data-toc-modified-id=\"An-Example-7\"><span class=\"toc-item-num\">7&nbsp;&nbsp;</span>An Example</a></span></li><li><span><a href=\"#More-on-File-reading-and-writing:\" data-toc-modified-id=\"More-on-File-reading-and-writing:-8\"><span class=\"toc-item-num\">8&nbsp;&nbsp;</span>More on File reading and writing:</a></span><ul class=\"toc-item\"><li><span><a href=\"#Saving-&amp;-Loading-numpy-arrays\" data-toc-modified-id=\"Saving-&amp;-Loading-numpy-arrays-8.1\"><span class=\"toc-item-num\">8.1&nbsp;&nbsp;</span>Saving &amp; Loading numpy arrays</a></span></li><li><span><a href=\"#Reading-Binary-files\" data-toc-modified-id=\"Reading-Binary-files-8.2\"><span class=\"toc-item-num\">8.2&nbsp;&nbsp;</span>Reading Binary files</a></span></li></ul></li></ul></div>"
         ]
      },
      {
         "cell_type": "markdown",
         "metadata": {},
         "source": [
            "by Lutz Gross, The University of Queensland, Australia\n",
            "<a href=\"mailto:l.gross@uq.edu.au\">l.gross@uq.edu.au</a>\n",
            "<a rel=\"license\" href=\"http://creativecommons.org/licenses/by-sa/4.0/\"><img alt=\"Creative Commons License\" style=\"border-width:0\" src=\"https://i.creativecommons.org/l/by-sa/4.0/88x31.png\" /></a><br />This work is licensed under a <a rel=\"license\" href=\"http://creativecommons.org/licenses/by-sa/4.0/\">Creative Commons Attribution-ShareAlike 4.0 International License</a>."
         ]
      },
      {
         "cell_type": "markdown",
         "metadata": {},
         "source": [
            "# Useful links:\n",
            "\n",
            "- [numpy documentation](https://numpy.org)\n",
            "- [matplotlib documentation](https://matplotlib.org)\n",
            "- [scipy documentation](https://scipy.org)\n"
         ]
      },
      {
         "cell_type": "markdown",
         "metadata": {},
         "source": [
            "# Files\n",
            "\n",
            "Here comes a quick intro how write and read to files.\n",
            "\n",
            "## Writing to files\n",
            "\n",
            "To open a file for reading or writing use the `open` function. `open()`\n",
            "returns a file object, and is most commonly used with two arguments: open(filename, mode)."
         ]
      },
      {
         "cell_type": "code",
         "execution_count": 3,
         "metadata": {
            "tags": [
               "SOLUTION"
            ]
         },
         "outputs": [],
         "source": []
      },
      {
         "cell_type": "markdown",
         "metadata": {},
         "source": [
            "It is commonly used with two arguments: `open(filename, mode)` where the `mode` takes the values:\n",
            "- `w` open for writing. An existing file with the same name will be erased.\n",
            "- `a` opens the file for appending; any data written to the file is automatically added to the end. \n",
            "- `r` opens the file for both reading only.\n",
            "By default text mode `t` is used that means, you read and write strings from and to the file, which are encoded in a specific encoding. `b` appended to the mode opens the file in binary mode: now the data is read and written in the form of bytes objects. "
         ]
      },
      {
         "cell_type": "markdown",
         "metadata": {},
         "source": [
            "It is good practice to close a file immediately  if it is not used "
         ]
      },
      {
         "cell_type": "code",
         "execution_count": 4,
         "metadata": {
            "tags": [
               "SOLUTION"
            ]
         },
         "outputs": [],
         "source": []
      },
      {
         "cell_type": "markdown",
         "metadata": {},
         "source": [
            "We want to write some code that writes the *Ricker* wavelet of a period of\n",
            "`length` and given frequency `f` to the files `myRicker.csv` in the comma-separated-value (CSV) format. The time is incremented by `dt`.  "
         ]
      },
      {
         "cell_type": "code",
         "execution_count": 5,
         "metadata": {},
         "outputs": [],
         "source": [
            "length=0.128\n",
            "f=25\n",
            "dt=0.001"
         ]
      },
      {
         "cell_type": "code",
         "execution_count": 6,
         "metadata": {},
         "outputs": [],
         "source": [
            "import math\n",
            "def getRicker(t, f=25):\n",
            "    \"\"\"\n",
            "    return the value of the Ricker wavelet at time t for peak frequency f\n",
            "    \"\"\"\n",
            "    r = (1.0 - 2.0*(math.pi**2)*(f**2)*(t**2)) * math.exp(-(math.pi**2)*(f**2)*(t**2))\n",
            "    return r"
         ]
      },
      {
         "cell_type": "code",
         "execution_count": 7,
         "metadata": {
            "tags": [
               "SOLUTION"
            ]
         },
         "outputs": [],
         "source": []
      },
      {
         "cell_type": "markdown",
         "metadata": {},
         "source": [
            "You can download/open the file ['myRicker.csv'](myRicker.csv).\n",
            "**Notice**: There is an extra new line character `\\n` at the of string in the `write` statement. This makes sure that separate rows can be identified in the file."
         ]
      },
      {
         "cell_type": "markdown",
         "metadata": {},
         "source": [
            "## Reading from files\n",
            "\n",
            "Now we want to read this back. First we need to open the file for reading:"
         ]
      },
      {
         "cell_type": "code",
         "execution_count": 8,
         "metadata": {
            "tags": [
               "SOLUTION"
            ]
         },
         "outputs": [],
         "source": []
      },
      {
         "cell_type": "markdown",
         "metadata": {},
         "source": [
            "We then can read the entire file as a string:"
         ]
      },
      {
         "cell_type": "code",
         "execution_count": 9,
         "metadata": {
            "tags": [
               "SOLUTION"
            ]
         },
         "outputs": [],
         "source": []
      },
      {
         "cell_type": "markdown",
         "metadata": {},
         "source": [
            "Don't forget to close the file:"
         ]
      },
      {
         "cell_type": "code",
         "execution_count": 10,
         "metadata": {
            "tags": [
               "SOLUTION"
            ]
         },
         "outputs": [],
         "source": []
      },
      {
         "cell_type": "markdown",
         "metadata": {},
         "source": [
            "Or more brutally:"
         ]
      },
      {
         "cell_type": "code",
         "execution_count": 11,
         "metadata": {},
         "outputs": [],
         "source": [
            "infile=open(\"myRicker.csv\", 'r')\n",
            "del infile"
         ]
      },
      {
         "cell_type": "markdown",
         "metadata": {},
         "source": [
            "Sometimes it is easier to read the file line by line, where a line is marked by `'\\n'` (on Linux). `n` counts the number of lines read."
         ]
      },
      {
         "cell_type": "code",
         "execution_count": 12,
         "metadata": {
            "tags": [
               "SOLUTION"
            ]
         },
         "outputs": [],
         "source": []
      },
      {
         "cell_type": "markdown",
         "metadata": {},
         "source": [
            "Now we want split each line to get the time and corresponding wavelet value. The numbers are \n",
            "collected as floats in two lists `times` and `ricker`:"
         ]
      },
      {
         "cell_type": "code",
         "execution_count": 13,
         "metadata": {
            "tags": [
               "SOLUTION"
            ]
         },
         "outputs": [],
         "source": []
      },
      {
         "cell_type": "markdown",
         "metadata": {},
         "source": [
            "Notice that the end of file is reached when the read line is empty (len(line)=0). Then the loop is exited."
         ]
      },
      {
         "cell_type": "code",
         "execution_count": 14,
         "metadata": {
            "scrolled": true,
            "tags": [
               "SOLUTION"
            ]
         },
         "outputs": [],
         "source": []
      },
      {
         "cell_type": "markdown",
         "metadata": {},
         "source": [
            "# Plotting and Visualization\n",
            "\n",
            "We would like to plot the Ricker wavelet. \n",
            "The `matplotlib` library provides a convenient, flexible and powerful tool for visualization at least for 2D data sets. Here we can give only a very brief introduction with more functionality being presented as the course evolves. \n",
            "For a comprehensive documentation and list of examples we refer to the [matplotlib web page](https://matplotlib.org).\n",
            "\n",
            "Here we use the `matplotlib.pyplot` library which is a collection of command style functions but there \n",
            "is also a more general API which gives a reacher functionality:"
         ]
      },
      {
         "cell_type": "code",
         "execution_count": 93,
         "metadata": {
            "tags": [
               "SOLUTION"
            ]
         },
         "outputs": [],
         "source": []
      },
      {
         "cell_type": "markdown",
         "metadata": {},
         "source": [
            "It is very easy to plot data point we have read:"
         ]
      },
      {
         "cell_type": "code",
         "execution_count": 96,
         "metadata": {
            "tags": [
               "SOLUTION"
            ]
         },
         "outputs": [],
         "source": []
      },
      {
         "cell_type": "markdown",
         "metadata": {},
         "source": [
            "We can also plot this as a function rather than just data point:"
         ]
      },
      {
         "cell_type": "code",
         "execution_count": 97,
         "metadata": {
            "tags": [
               "SOLUTION"
            ]
         },
         "outputs": [],
         "source": []
      },
      {
         "cell_type": "markdown",
         "metadata": {},
         "source": [
            "Let's do this properly with a lenged, axis labels and title:"
         ]
      },
      {
         "cell_type": "code",
         "execution_count": 18,
         "metadata": {
            "tags": [
               "SOLUTION"
            ]
         },
         "outputs": [],
         "source": []
      },
      {
         "cell_type": "markdown",
         "metadata": {},
         "source": [
            "As now we want to save the plot to the  file `\"ricker.png\"`:"
         ]
      },
      {
         "cell_type": "code",
         "execution_count": 19,
         "metadata": {
            "tags": [
               "SOLUTION"
            ]
         },
         "outputs": [],
         "source": []
      },
      {
         "cell_type": "markdown",
         "metadata": {
            "solution": "shown"
         },
         "source": [
            "Notice that the file extension defined the file format. \n",
            "Click [here](ricker.png) to see ricker.png for the file."
         ]
      },
      {
         "cell_type": "markdown",
         "metadata": {},
         "source": [
            "Let's take a quick look at an image:"
         ]
      },
      {
         "cell_type": "code",
         "execution_count": 20,
         "metadata": {
            "tags": [
               "SOLUTION"
            ]
         },
         "outputs": [],
         "source": []
      },
      {
         "cell_type": "markdown",
         "metadata": {},
         "source": [
            "# Arrays\n",
            "\n",
            "Dealing with  multidimensional array is a key functionality in scientific computing. \n",
            "The `numpy` module is the core library for this. It provides a rich set of tools to create and manipulate\n",
            "arrays including tools signal processing and linear algebra. \n",
            "`numpy` works seamlessly with the `scipy` module providing further numerical capabilities \n",
            "and with `matplotlib` as introduced before. \n",
            "\n",
            "In this section we give an introduction into `numpy` and also in some more `matplotlib` capabilities."
         ]
      },
      {
         "cell_type": "markdown",
         "metadata": {},
         "source": [
            "## Creating arrays\n",
            "\n",
            "We can initialize `numpy` arrays from python lists:"
         ]
      },
      {
         "cell_type": "code",
         "execution_count": 21,
         "metadata": {
            "tags": [
               "SOLUTION"
            ]
         },
         "outputs": [],
         "source": []
      },
      {
         "cell_type": "markdown",
         "metadata": {},
         "source": [
            "The type of `a` is `numpy.ndarray`"
         ]
      },
      {
         "cell_type": "code",
         "execution_count": 22,
         "metadata": {
            "tags": [
               "SOLUTION"
            ]
         },
         "outputs": [],
         "source": []
      },
      {
         "cell_type": "markdown",
         "metadata": {},
         "source": [
            "numpy arrays have a shape:"
         ]
      },
      {
         "cell_type": "code",
         "execution_count": 23,
         "metadata": {
            "tags": [
               "SOLUTION"
            ]
         },
         "outputs": [],
         "source": []
      },
      {
         "cell_type": "markdown",
         "metadata": {},
         "source": [
            "We can print entries (also called elements) of the array analogously to lists:"
         ]
      },
      {
         "cell_type": "code",
         "execution_count": 24,
         "metadata": {
            "tags": [
               "SOLUTION"
            ]
         },
         "outputs": [],
         "source": []
      },
      {
         "cell_type": "markdown",
         "metadata": {},
         "source": [
            "Arrays can have a higher rank:"
         ]
      },
      {
         "cell_type": "code",
         "execution_count": 25,
         "metadata": {
            "tags": [
               "SOLUTION"
            ]
         },
         "outputs": [],
         "source": []
      },
      {
         "cell_type": "code",
         "execution_count": 26,
         "metadata": {
            "tags": [
               "SOLUTION"
            ]
         },
         "outputs": [],
         "source": []
      },
      {
         "cell_type": "markdown",
         "metadata": {},
         "source": [
            "So `b` be read having has two rows and three columns. \n",
            "Elements are accessed by a double index:"
         ]
      },
      {
         "cell_type": "code",
         "execution_count": 27,
         "metadata": {
            "tags": [
               "SOLUTION"
            ]
         },
         "outputs": [],
         "source": []
      },
      {
         "cell_type": "markdown",
         "metadata": {},
         "source": [
            "`Numpy` also provides several functions to create arrays for instance:\n",
            "\n",
            "Create an array of zeros - here of shape `(2,2)`:"
         ]
      },
      {
         "cell_type": "code",
         "execution_count": 28,
         "metadata": {
            "tags": [
               "SOLUTION"
            ]
         },
         "outputs": [],
         "source": []
      },
      {
         "cell_type": "markdown",
         "metadata": {},
         "source": [
            "Or an array array of ones - try shape `(3,2)`:"
         ]
      },
      {
         "cell_type": "code",
         "execution_count": 29,
         "metadata": {
            "tags": [
               "SOLUTION"
            ]
         },
         "outputs": [],
         "source": []
      },
      {
         "cell_type": "markdown",
         "metadata": {},
         "source": [
            "There is an easy way to create a 3x3 identity matrix:"
         ]
      },
      {
         "cell_type": "code",
         "execution_count": 30,
         "metadata": {
            "tags": [
               "SOLUTION"
            ]
         },
         "outputs": [],
         "source": []
      },
      {
         "cell_type": "markdown",
         "metadata": {},
         "source": [
            "How about a 2x2 random matrix:"
         ]
      },
      {
         "cell_type": "code",
         "execution_count": 31,
         "metadata": {
            "tags": [
               "SOLUTION"
            ]
         },
         "outputs": [],
         "source": []
      },
      {
         "cell_type": "markdown",
         "metadata": {},
         "source": [
            "## Indexing and slicing\n",
            "\n",
            "One would expect a convenient way to access elements in an array. In deed arrays support slicing:"
         ]
      },
      {
         "cell_type": "code",
         "execution_count": 32,
         "metadata": {},
         "outputs": [],
         "source": [
            "c = np.array([[1,2,3,4], [5,6,7,8], [9,10,11,12]])"
         ]
      },
      {
         "cell_type": "code",
         "execution_count": 33,
         "metadata": {
            "tags": [
               "SOLUTION"
            ]
         },
         "outputs": [],
         "source": []
      },
      {
         "cell_type": "markdown",
         "metadata": {},
         "source": [
            "Get the second row of `c`. Again counting rows starts with zero:"
         ]
      },
      {
         "cell_type": "code",
         "execution_count": 34,
         "metadata": {
            "tags": [
               "SOLUTION"
            ]
         },
         "outputs": [],
         "source": []
      },
      {
         "cell_type": "markdown",
         "metadata": {},
         "source": [
            "You can get rows 1 and 2 in one go:"
         ]
      },
      {
         "cell_type": "code",
         "execution_count": 35,
         "metadata": {
            "tags": [
               "SOLUTION"
            ]
         },
         "outputs": [],
         "source": []
      },
      {
         "cell_type": "markdown",
         "metadata": {},
         "source": [
            "The same works for column. Lets try the second column:"
         ]
      },
      {
         "cell_type": "code",
         "execution_count": 36,
         "metadata": {
            "tags": [
               "SOLUTION"
            ]
         },
         "outputs": [],
         "source": []
      },
      {
         "cell_type": "markdown",
         "metadata": {},
         "source": [
            "and the second and third column together:  "
         ]
      },
      {
         "cell_type": "code",
         "execution_count": 37,
         "metadata": {
            "tags": [
               "SOLUTION"
            ]
         },
         "outputs": [],
         "source": []
      },
      {
         "cell_type": "markdown",
         "metadata": {},
         "source": [
            "Slicing as well as indexing can be used to modify specific entries in an array. \n",
            "For instance multiplying the second row of `c` by -1:"
         ]
      },
      {
         "cell_type": "code",
         "execution_count": 38,
         "metadata": {
            "tags": [
               "SOLUTION"
            ]
         },
         "outputs": [],
         "source": []
      },
      {
         "cell_type": "markdown",
         "metadata": {},
         "source": [
            "or setting the columns 1 and 3 to 101:"
         ]
      },
      {
         "cell_type": "code",
         "execution_count": 39,
         "metadata": {
            "tags": [
               "SOLUTION"
            ]
         },
         "outputs": [],
         "source": []
      },
      {
         "cell_type": "markdown",
         "metadata": {},
         "source": [
            "Boolean array indexing allows picking arbitrary elements of an array based on a mask for instance to \n",
            "get the elements out of an array that satisfy some conditions: "
         ]
      },
      {
         "cell_type": "code",
         "execution_count": 40,
         "metadata": {},
         "outputs": [],
         "source": [
            "d = np.array([[1,2], [3, 4], [5, 6]])"
         ]
      },
      {
         "cell_type": "code",
         "execution_count": 41,
         "metadata": {
            "tags": [
               "SOLUTION"
            ]
         },
         "outputs": [],
         "source": []
      },
      {
         "cell_type": "markdown",
         "metadata": {},
         "source": [
            "Here we create a mask of those values in `c` that have a value larger than 3:"
         ]
      },
      {
         "cell_type": "code",
         "execution_count": 42,
         "metadata": {
            "tags": [
               "SOLUTION"
            ]
         },
         "outputs": [],
         "source": []
      },
      {
         "cell_type": "markdown",
         "metadata": {},
         "source": [
            "This mask can be used to gather all entries where the mask is True:"
         ]
      },
      {
         "cell_type": "code",
         "execution_count": 43,
         "metadata": {
            "tags": [
               "SOLUTION"
            ]
         },
         "outputs": [],
         "source": []
      },
      {
         "cell_type": "markdown",
         "metadata": {},
         "source": [
            "Notice that the array returned is one-dimensional (shape `(3,)`).\n",
            "This can be done in one line without the extra `mask`:"
         ]
      },
      {
         "cell_type": "code",
         "execution_count": 44,
         "metadata": {
            "tags": [
               "SOLUTION"
            ]
         },
         "outputs": [],
         "source": []
      },
      {
         "cell_type": "markdown",
         "metadata": {},
         "source": [
            "Masks can also be used to assign new values to entries that meet a condition. For instance to set \n",
            "all values less or equal to three to zero:"
         ]
      },
      {
         "cell_type": "code",
         "execution_count": 45,
         "metadata": {
            "tags": [
               "SOLUTION"
            ]
         },
         "outputs": [],
         "source": []
      },
      {
         "cell_type": "markdown",
         "metadata": {},
         "source": [
            "## Array reshaping"
         ]
      },
      {
         "cell_type": "markdown",
         "metadata": {},
         "source": [
            "Transposing an array is done by using the T attribute of an array object:"
         ]
      },
      {
         "cell_type": "code",
         "execution_count": 46,
         "metadata": {},
         "outputs": [],
         "source": [
            "d = np.array([[1,2], [3, 4], [5, 6]])"
         ]
      },
      {
         "cell_type": "code",
         "execution_count": 47,
         "metadata": {
            "tags": [
               "SOLUTION"
            ]
         },
         "outputs": [],
         "source": []
      },
      {
         "cell_type": "code",
         "execution_count": 48,
         "metadata": {
            "tags": [
               "SOLUTION"
            ]
         },
         "outputs": [],
         "source": []
      },
      {
         "cell_type": "code",
         "execution_count": 49,
         "metadata": {
            "tags": [
               "SOLUTION"
            ]
         },
         "outputs": [],
         "source": []
      },
      {
         "cell_type": "markdown",
         "metadata": {},
         "source": [
            "Push array into a new shape:"
         ]
      },
      {
         "cell_type": "code",
         "execution_count": 50,
         "metadata": {
            "tags": [
               "SOLUTION"
            ]
         },
         "outputs": [],
         "source": []
      },
      {
         "cell_type": "code",
         "execution_count": 51,
         "metadata": {
            "tags": [
               "SOLUTION"
            ]
         },
         "outputs": [],
         "source": []
      },
      {
         "cell_type": "markdown",
         "metadata": {},
         "source": [
            "**Warning** reshaping does not create a copy just a different view!\n",
            "Let's test this. `s` is a reshaped version of `d` with shape `(6,)`: "
         ]
      },
      {
         "cell_type": "code",
         "execution_count": 52,
         "metadata": {
            "tags": [
               "SOLUTION"
            ]
         },
         "outputs": [],
         "source": []
      },
      {
         "cell_type": "markdown",
         "metadata": {},
         "source": [
            "`s[1]` and `d[0,1]` have the same value:"
         ]
      },
      {
         "cell_type": "code",
         "execution_count": 53,
         "metadata": {},
         "outputs": [
            {
               "data": {
                  "text/plain": [
                     "(2, 2)"
                  ]
               },
               "execution_count": 53,
               "metadata": {},
               "output_type": "execute_result"
            }
         ],
         "source": [
            "s[1], d[0,1]"
         ]
      },
      {
         "cell_type": "markdown",
         "metadata": {},
         "source": [
            "Now we change the second entry of `s` to -1:"
         ]
      },
      {
         "cell_type": "code",
         "execution_count": 54,
         "metadata": {
            "tags": [
               "SOLUTION"
            ]
         },
         "outputs": [],
         "source": []
      },
      {
         "cell_type": "markdown",
         "metadata": {},
         "source": [
            "and `d[0,1]` has also changed:"
         ]
      },
      {
         "cell_type": "code",
         "execution_count": 55,
         "metadata": {
            "tags": [
               "SOLUTION"
            ]
         },
         "outputs": [],
         "source": []
      },
      {
         "cell_type": "markdown",
         "metadata": {},
         "source": [
            "# Array Datatypes\n",
            "\n",
            "Every numpy array has elements of the same type. Numpy makes assumption or tries to guess a data type when you create an array. In general all functions creating arrays have an optional parameter to explicitly specify the data type the user wants. More on types can be found [here](https://docs.scipy.org/doc/numpy/reference/arrays.dtypes.html)\n",
            "\n",
            "Here all entries in the list of the np.array are integers so the resulting array is integer:"
         ]
      },
      {
         "cell_type": "code",
         "execution_count": 56,
         "metadata": {
            "tags": [
               "SOLUTION"
            ]
         },
         "outputs": [],
         "source": []
      },
      {
         "cell_type": "markdown",
         "metadata": {},
         "source": [
            "but it is sufficient to change one of the list entries to a float type to make the created array of type float:"
         ]
      },
      {
         "cell_type": "code",
         "execution_count": 57,
         "metadata": {
            "tags": [
               "SOLUTION"
            ]
         },
         "outputs": [],
         "source": []
      },
      {
         "cell_type": "markdown",
         "metadata": {},
         "source": [
            "You can also enforce the result to be of a specific type regardless of the list entries using the `dtype` argument:"
         ]
      },
      {
         "cell_type": "code",
         "execution_count": 58,
         "metadata": {
            "tags": [
               "SOLUTION"
            ]
         },
         "outputs": [],
         "source": []
      },
      {
         "cell_type": "markdown",
         "metadata": {},
         "source": [
            "`dtype` can be any standart python type: `np.int`, `np.float`, `np.complex` and also given in string form `'i'`, `'f'` and `'c'`. But there are more types available and you can also construct your own, see [dtype](https://numpy.org/doc/stable/reference/arrays.dtypes.html)."
         ]
      },
      {
         "cell_type": "markdown",
         "metadata": {},
         "source": [
            "# Array Arithmetic\n",
            "\n",
            "## Element-by-Element\n",
            "\n",
            "As basic mathematical functions operate element-wise on arrays there is no need to loop over the entries. This is computationally more efficient and allows for clearer code.\n",
            "\n",
            "Here some examples:"
         ]
      },
      {
         "cell_type": "code",
         "execution_count": 59,
         "metadata": {},
         "outputs": [],
         "source": [
            "x = np.array([[1,2],[3,4]], dtype=np.float)\n",
            "y = np.array([[5,6],[7,8]], dtype=np.float\n",
            "            )"
         ]
      },
      {
         "cell_type": "markdown",
         "metadata": {},
         "source": [
            "This is element-by-element sum:"
         ]
      },
      {
         "cell_type": "code",
         "execution_count": 60,
         "metadata": {
            "tags": [
               "SOLUTION"
            ]
         },
         "outputs": [],
         "source": []
      },
      {
         "cell_type": "markdown",
         "metadata": {},
         "source": [
            "This is element-by-element sum:"
         ]
      },
      {
         "cell_type": "code",
         "execution_count": 61,
         "metadata": {
            "tags": [
               "SOLUTION"
            ]
         },
         "outputs": [],
         "source": []
      },
      {
         "cell_type": "markdown",
         "metadata": {},
         "source": [
            "Just flip the sign:"
         ]
      },
      {
         "cell_type": "code",
         "execution_count": 62,
         "metadata": {
            "tags": [
               "SOLUTION"
            ]
         },
         "outputs": [],
         "source": []
      },
      {
         "cell_type": "markdown",
         "metadata": {},
         "source": [
            "Of course there is also element-by-element multiplication and division:"
         ]
      },
      {
         "cell_type": "code",
         "execution_count": 63,
         "metadata": {
            "tags": [
               "SOLUTION"
            ]
         },
         "outputs": [],
         "source": []
      },
      {
         "cell_type": "markdown",
         "metadata": {},
         "source": [
            "This can also be done in place to save memory and compute time but `x` is changing now:"
         ]
      },
      {
         "cell_type": "code",
         "execution_count": 64,
         "metadata": {
            "tags": [
               "SOLUTION"
            ]
         },
         "outputs": [],
         "source": []
      },
      {
         "cell_type": "markdown",
         "metadata": {},
         "source": [
            "Element-by-element square root (and other unitary operations) requires `numpy` function:"
         ]
      },
      {
         "cell_type": "code",
         "execution_count": 65,
         "metadata": {
            "tags": [
               "SOLUTION"
            ]
         },
         "outputs": [],
         "source": []
      },
      {
         "cell_type": "markdown",
         "metadata": {},
         "source": [
            "## Matrix multiplication\n",
            "\n",
            "The dot function is used to compute inner products of vectors, to multiply a vector by a matrix, and to multiply matrices. Here some examples: "
         ]
      },
      {
         "cell_type": "code",
         "execution_count": 66,
         "metadata": {},
         "outputs": [],
         "source": [
            "X = np.array([[1,2],[3,4]])\n",
            "Y = np.array([[5,6],[7,8]])\n",
            "\n",
            "v = np.array([9,10])\n",
            "w = np.array([11, 12])"
         ]
      },
      {
         "cell_type": "markdown",
         "metadata": {},
         "source": [
            "Dot product of two vectors returning a floating point number:"
         ]
      },
      {
         "cell_type": "code",
         "execution_count": 67,
         "metadata": {
            "tags": [
               "SOLUTION"
            ]
         },
         "outputs": [],
         "source": []
      },
      {
         "cell_type": "markdown",
         "metadata": {},
         "source": [
            "Matrix vector product of matrix `X` and vector `v`: "
         ]
      },
      {
         "cell_type": "code",
         "execution_count": 68,
         "metadata": {
            "tags": [
               "SOLUTION"
            ]
         },
         "outputs": [],
         "source": []
      },
      {
         "cell_type": "markdown",
         "metadata": {},
         "source": [
            "This is the same like applying the inner product between the rows 0 and 1 of `X` with vector `v`"
         ]
      },
      {
         "cell_type": "code",
         "execution_count": 69,
         "metadata": {
            "tags": [
               "SOLUTION"
            ]
         },
         "outputs": [],
         "source": []
      },
      {
         "cell_type": "markdown",
         "metadata": {},
         "source": [
            "There is also a matrix-matrix product:"
         ]
      },
      {
         "cell_type": "code",
         "execution_count": 70,
         "metadata": {
            "tags": [
               "SOLUTION"
            ]
         },
         "outputs": [],
         "source": []
      },
      {
         "cell_type": "markdown",
         "metadata": {},
         "source": [
            "# An Example\n",
            "\n",
            "To illustrate how to work with `numpy` in a practical application we would like to interpolate some\n",
            "scattered gravity Bouguer anomaly data to a rectangular grid. The data are given in a CSV file so we need to \n",
            "first read the CSV file, define a grid and then interpolate the scattered data to the grid. As the range covered \n",
            "by the data is not rectangular we need to remove improper data before writing the interpolated data back to a CSV file. Of course we also want to plot the interpolated data.  \n",
            "\n",
            "Let's get started:"
         ]
      },
      {
         "cell_type": "markdown",
         "metadata": {},
         "source": [
            "`numpy` is providing a variety of functions to directly load data files into arrays. \n",
            "The `loadtxt` function is commonly used to load CSV files. Where we are loading the\n",
            "CSV file [gravity_tasmania.csv](./Data/gravity_tasmania.csv) into the \n",
            "array `gdata`. The data set is a the measurement of vertical gravity anomalies at various stations\n",
            "across Tasmania. It has three columns namely the easting and northing of the station \n",
            "and the measured and corrected gravity in mGal. The columns are separated by commas \n",
            "and contains commend marked by `#`:"
         ]
      },
      {
         "cell_type": "code",
         "execution_count": 71,
         "metadata": {
            "tags": [
               "SOLUTION"
            ]
         },
         "outputs": [],
         "source": []
      },
      {
         "cell_type": "markdown",
         "metadata": {},
         "source": [
            "The argument `unpack=True` has the effect that the columns are returned as a tuple with three 1D arrays.  \n",
            "Let's get some info from `x`:"
         ]
      },
      {
         "cell_type": "code",
         "execution_count": 72,
         "metadata": {
            "tags": [
               "SOLUTION"
            ]
         },
         "outputs": [],
         "source": []
      },
      {
         "cell_type": "markdown",
         "metadata": {},
         "source": [
            "We plot the position of the stations as a scatter plot:"
         ]
      },
      {
         "cell_type": "code",
         "execution_count": 73,
         "metadata": {
            "tags": [
               "SOLUTION"
            ]
         },
         "outputs": [],
         "source": []
      },
      {
         "cell_type": "markdown",
         "metadata": {},
         "source": [
            "We would like to plot the gravity distribution as recorder at the stations. For this\n",
            "we interpolate the data from the point observations to a regular grid. First \n",
            "we create the grid lines `xi` and `yi` along the x and y axis using `linspace` which\n",
            "return evenly spaced numbers over a specified interval:"
         ]
      },
      {
         "cell_type": "code",
         "execution_count": 74,
         "metadata": {
            "tags": [
               "SOLUTION"
            ]
         },
         "outputs": [],
         "source": []
      },
      {
         "cell_type": "markdown",
         "metadata": {},
         "source": [
            "Then these grid line positions are combined to actual grid node positions using `meshgrid`:"
         ]
      },
      {
         "cell_type": "code",
         "execution_count": 75,
         "metadata": {
            "tags": [
               "SOLUTION"
            ]
         },
         "outputs": [],
         "source": []
      },
      {
         "cell_type": "code",
         "execution_count": 76,
         "metadata": {
            "tags": [
               "SOLUTION"
            ]
         },
         "outputs": [],
         "source": []
      },
      {
         "cell_type": "code",
         "execution_count": 77,
         "metadata": {},
         "outputs": [
            {
               "data": {
                  "application/javascript": [
                     "/* Put everything inside the global mpl namespace */\n",
                     "window.mpl = {};\n",
                     "\n",
                     "\n",
                     "mpl.get_websocket_type = function() {\n",
                     "    if (typeof(WebSocket) !== 'undefined') {\n",
                     "        return WebSocket;\n",
                     "    } else if (typeof(MozWebSocket) !== 'undefined') {\n",
                     "        return MozWebSocket;\n",
                     "    } else {\n",
                     "        alert('Your browser does not have WebSocket support. ' +\n",
                     "              'Please try Chrome, Safari or Firefox \u2265 6. ' +\n",
                     "              'Firefox 4 and 5 are also supported but you ' +\n",
                     "              'have to enable WebSockets in about:config.');\n",
                     "    };\n",
                     "}\n",
                     "\n",
                     "mpl.figure = function(figure_id, websocket, ondownload, parent_element) {\n",
                     "    this.id = figure_id;\n",
                     "\n",
                     "    this.ws = websocket;\n",
                     "\n",
                     "    this.supports_binary = (this.ws.binaryType != undefined);\n",
                     "\n",
                     "    if (!this.supports_binary) {\n",
                     "        var warnings = document.getElementById(\"mpl-warnings\");\n",
                     "        if (warnings) {\n",
                     "            warnings.style.display = 'block';\n",
                     "            warnings.textContent = (\n",
                     "                \"This browser does not support binary websocket messages. \" +\n",
                     "                    \"Performance may be slow.\");\n",
                     "        }\n",
                     "    }\n",
                     "\n",
                     "    this.imageObj = new Image();\n",
                     "\n",
                     "    this.context = undefined;\n",
                     "    this.message = undefined;\n",
                     "    this.canvas = undefined;\n",
                     "    this.rubberband_canvas = undefined;\n",
                     "    this.rubberband_context = undefined;\n",
                     "    this.format_dropdown = undefined;\n",
                     "\n",
                     "    this.image_mode = 'full';\n",
                     "\n",
                     "    this.root = $('<div/>');\n",
                     "    this._root_extra_style(this.root)\n",
                     "    this.root.attr('style', 'display: inline-block');\n",
                     "\n",
                     "    $(parent_element).append(this.root);\n",
                     "\n",
                     "    this._init_header(this);\n",
                     "    this._init_canvas(this);\n",
                     "    this._init_toolbar(this);\n",
                     "\n",
                     "    var fig = this;\n",
                     "\n",
                     "    this.waiting = false;\n",
                     "\n",
                     "    this.ws.onopen =  function () {\n",
                     "            fig.send_message(\"supports_binary\", {value: fig.supports_binary});\n",
                     "            fig.send_message(\"send_image_mode\", {});\n",
                     "            if (mpl.ratio != 1) {\n",
                     "                fig.send_message(\"set_dpi_ratio\", {'dpi_ratio': mpl.ratio});\n",
                     "            }\n",
                     "            fig.send_message(\"refresh\", {});\n",
                     "        }\n",
                     "\n",
                     "    this.imageObj.onload = function() {\n",
                     "            if (fig.image_mode == 'full') {\n",
                     "                // Full images could contain transparency (where diff images\n",
                     "                // almost always do), so we need to clear the canvas so that\n",
                     "                // there is no ghosting.\n",
                     "                fig.context.clearRect(0, 0, fig.canvas.width, fig.canvas.height);\n",
                     "            }\n",
                     "            fig.context.drawImage(fig.imageObj, 0, 0);\n",
                     "        };\n",
                     "\n",
                     "    this.imageObj.onunload = function() {\n",
                     "        fig.ws.close();\n",
                     "    }\n",
                     "\n",
                     "    this.ws.onmessage = this._make_on_message_function(this);\n",
                     "\n",
                     "    this.ondownload = ondownload;\n",
                     "}\n",
                     "\n",
                     "mpl.figure.prototype._init_header = function() {\n",
                     "    var titlebar = $(\n",
                     "        '<div class=\"ui-dialog-titlebar ui-widget-header ui-corner-all ' +\n",
                     "        'ui-helper-clearfix\"/>');\n",
                     "    var titletext = $(\n",
                     "        '<div class=\"ui-dialog-title\" style=\"width: 100%; ' +\n",
                     "        'text-align: center; padding: 3px;\"/>');\n",
                     "    titlebar.append(titletext)\n",
                     "    this.root.append(titlebar);\n",
                     "    this.header = titletext[0];\n",
                     "}\n",
                     "\n",
                     "\n",
                     "\n",
                     "mpl.figure.prototype._canvas_extra_style = function(canvas_div) {\n",
                     "\n",
                     "}\n",
                     "\n",
                     "\n",
                     "mpl.figure.prototype._root_extra_style = function(canvas_div) {\n",
                     "\n",
                     "}\n",
                     "\n",
                     "mpl.figure.prototype._init_canvas = function() {\n",
                     "    var fig = this;\n",
                     "\n",
                     "    var canvas_div = $('<div/>');\n",
                     "\n",
                     "    canvas_div.attr('style', 'position: relative; clear: both; outline: 0');\n",
                     "\n",
                     "    function canvas_keyboard_event(event) {\n",
                     "        return fig.key_event(event, event['data']);\n",
                     "    }\n",
                     "\n",
                     "    canvas_div.keydown('key_press', canvas_keyboard_event);\n",
                     "    canvas_div.keyup('key_release', canvas_keyboard_event);\n",
                     "    this.canvas_div = canvas_div\n",
                     "    this._canvas_extra_style(canvas_div)\n",
                     "    this.root.append(canvas_div);\n",
                     "\n",
                     "    var canvas = $('<canvas/>');\n",
                     "    canvas.addClass('mpl-canvas');\n",
                     "    canvas.attr('style', \"left: 0; top: 0; z-index: 0; outline: 0\")\n",
                     "\n",
                     "    this.canvas = canvas[0];\n",
                     "    this.context = canvas[0].getContext(\"2d\");\n",
                     "\n",
                     "    var backingStore = this.context.backingStorePixelRatio ||\n",
                     "\tthis.context.webkitBackingStorePixelRatio ||\n",
                     "\tthis.context.mozBackingStorePixelRatio ||\n",
                     "\tthis.context.msBackingStorePixelRatio ||\n",
                     "\tthis.context.oBackingStorePixelRatio ||\n",
                     "\tthis.context.backingStorePixelRatio || 1;\n",
                     "\n",
                     "    mpl.ratio = (window.devicePixelRatio || 1) / backingStore;\n",
                     "\n",
                     "    var rubberband = $('<canvas/>');\n",
                     "    rubberband.attr('style', \"position: absolute; left: 0; top: 0; z-index: 1;\")\n",
                     "\n",
                     "    var pass_mouse_events = true;\n",
                     "\n",
                     "    canvas_div.resizable({\n",
                     "        start: function(event, ui) {\n",
                     "            pass_mouse_events = false;\n",
                     "        },\n",
                     "        resize: function(event, ui) {\n",
                     "            fig.request_resize(ui.size.width, ui.size.height);\n",
                     "        },\n",
                     "        stop: function(event, ui) {\n",
                     "            pass_mouse_events = true;\n",
                     "            fig.request_resize(ui.size.width, ui.size.height);\n",
                     "        },\n",
                     "    });\n",
                     "\n",
                     "    function mouse_event_fn(event) {\n",
                     "        if (pass_mouse_events)\n",
                     "            return fig.mouse_event(event, event['data']);\n",
                     "    }\n",
                     "\n",
                     "    rubberband.mousedown('button_press', mouse_event_fn);\n",
                     "    rubberband.mouseup('button_release', mouse_event_fn);\n",
                     "    // Throttle sequential mouse events to 1 every 20ms.\n",
                     "    rubberband.mousemove('motion_notify', mouse_event_fn);\n",
                     "\n",
                     "    rubberband.mouseenter('figure_enter', mouse_event_fn);\n",
                     "    rubberband.mouseleave('figure_leave', mouse_event_fn);\n",
                     "\n",
                     "    canvas_div.on(\"wheel\", function (event) {\n",
                     "        event = event.originalEvent;\n",
                     "        event['data'] = 'scroll'\n",
                     "        if (event.deltaY < 0) {\n",
                     "            event.step = 1;\n",
                     "        } else {\n",
                     "            event.step = -1;\n",
                     "        }\n",
                     "        mouse_event_fn(event);\n",
                     "    });\n",
                     "\n",
                     "    canvas_div.append(canvas);\n",
                     "    canvas_div.append(rubberband);\n",
                     "\n",
                     "    this.rubberband = rubberband;\n",
                     "    this.rubberband_canvas = rubberband[0];\n",
                     "    this.rubberband_context = rubberband[0].getContext(\"2d\");\n",
                     "    this.rubberband_context.strokeStyle = \"#000000\";\n",
                     "\n",
                     "    this._resize_canvas = function(width, height) {\n",
                     "        // Keep the size of the canvas, canvas container, and rubber band\n",
                     "        // canvas in synch.\n",
                     "        canvas_div.css('width', width)\n",
                     "        canvas_div.css('height', height)\n",
                     "\n",
                     "        canvas.attr('width', width * mpl.ratio);\n",
                     "        canvas.attr('height', height * mpl.ratio);\n",
                     "        canvas.attr('style', 'width: ' + width + 'px; height: ' + height + 'px;');\n",
                     "\n",
                     "        rubberband.attr('width', width);\n",
                     "        rubberband.attr('height', height);\n",
                     "    }\n",
                     "\n",
                     "    // Set the figure to an initial 600x600px, this will subsequently be updated\n",
                     "    // upon first draw.\n",
                     "    this._resize_canvas(600, 600);\n",
                     "\n",
                     "    // Disable right mouse context menu.\n",
                     "    $(this.rubberband_canvas).bind(\"contextmenu\",function(e){\n",
                     "        return false;\n",
                     "    });\n",
                     "\n",
                     "    function set_focus () {\n",
                     "        canvas.focus();\n",
                     "        canvas_div.focus();\n",
                     "    }\n",
                     "\n",
                     "    window.setTimeout(set_focus, 100);\n",
                     "}\n",
                     "\n",
                     "mpl.figure.prototype._init_toolbar = function() {\n",
                     "    var fig = this;\n",
                     "\n",
                     "    var nav_element = $('<div/>');\n",
                     "    nav_element.attr('style', 'width: 100%');\n",
                     "    this.root.append(nav_element);\n",
                     "\n",
                     "    // Define a callback function for later on.\n",
                     "    function toolbar_event(event) {\n",
                     "        return fig.toolbar_button_onclick(event['data']);\n",
                     "    }\n",
                     "    function toolbar_mouse_event(event) {\n",
                     "        return fig.toolbar_button_onmouseover(event['data']);\n",
                     "    }\n",
                     "\n",
                     "    for(var toolbar_ind in mpl.toolbar_items) {\n",
                     "        var name = mpl.toolbar_items[toolbar_ind][0];\n",
                     "        var tooltip = mpl.toolbar_items[toolbar_ind][1];\n",
                     "        var image = mpl.toolbar_items[toolbar_ind][2];\n",
                     "        var method_name = mpl.toolbar_items[toolbar_ind][3];\n",
                     "\n",
                     "        if (!name) {\n",
                     "            // put a spacer in here.\n",
                     "            continue;\n",
                     "        }\n",
                     "        var button = $('<button/>');\n",
                     "        button.addClass('ui-button ui-widget ui-state-default ui-corner-all ' +\n",
                     "                        'ui-button-icon-only');\n",
                     "        button.attr('role', 'button');\n",
                     "        button.attr('aria-disabled', 'false');\n",
                     "        button.click(method_name, toolbar_event);\n",
                     "        button.mouseover(tooltip, toolbar_mouse_event);\n",
                     "\n",
                     "        var icon_img = $('<span/>');\n",
                     "        icon_img.addClass('ui-button-icon-primary ui-icon');\n",
                     "        icon_img.addClass(image);\n",
                     "        icon_img.addClass('ui-corner-all');\n",
                     "\n",
                     "        var tooltip_span = $('<span/>');\n",
                     "        tooltip_span.addClass('ui-button-text');\n",
                     "        tooltip_span.html(tooltip);\n",
                     "\n",
                     "        button.append(icon_img);\n",
                     "        button.append(tooltip_span);\n",
                     "\n",
                     "        nav_element.append(button);\n",
                     "    }\n",
                     "\n",
                     "    var fmt_picker_span = $('<span/>');\n",
                     "\n",
                     "    var fmt_picker = $('<select/>');\n",
                     "    fmt_picker.addClass('mpl-toolbar-option ui-widget ui-widget-content');\n",
                     "    fmt_picker_span.append(fmt_picker);\n",
                     "    nav_element.append(fmt_picker_span);\n",
                     "    this.format_dropdown = fmt_picker[0];\n",
                     "\n",
                     "    for (var ind in mpl.extensions) {\n",
                     "        var fmt = mpl.extensions[ind];\n",
                     "        var option = $(\n",
                     "            '<option/>', {selected: fmt === mpl.default_extension}).html(fmt);\n",
                     "        fmt_picker.append(option);\n",
                     "    }\n",
                     "\n",
                     "    // Add hover states to the ui-buttons\n",
                     "    $( \".ui-button\" ).hover(\n",
                     "        function() { $(this).addClass(\"ui-state-hover\");},\n",
                     "        function() { $(this).removeClass(\"ui-state-hover\");}\n",
                     "    );\n",
                     "\n",
                     "    var status_bar = $('<span class=\"mpl-message\"/>');\n",
                     "    nav_element.append(status_bar);\n",
                     "    this.message = status_bar[0];\n",
                     "}\n",
                     "\n",
                     "mpl.figure.prototype.request_resize = function(x_pixels, y_pixels) {\n",
                     "    // Request matplotlib to resize the figure. Matplotlib will then trigger a resize in the client,\n",
                     "    // which will in turn request a refresh of the image.\n",
                     "    this.send_message('resize', {'width': x_pixels, 'height': y_pixels});\n",
                     "}\n",
                     "\n",
                     "mpl.figure.prototype.send_message = function(type, properties) {\n",
                     "    properties['type'] = type;\n",
                     "    properties['figure_id'] = this.id;\n",
                     "    this.ws.send(JSON.stringify(properties));\n",
                     "}\n",
                     "\n",
                     "mpl.figure.prototype.send_draw_message = function() {\n",
                     "    if (!this.waiting) {\n",
                     "        this.waiting = true;\n",
                     "        this.ws.send(JSON.stringify({type: \"draw\", figure_id: this.id}));\n",
                     "    }\n",
                     "}\n",
                     "\n",
                     "\n",
                     "mpl.figure.prototype.handle_save = function(fig, msg) {\n",
                     "    var format_dropdown = fig.format_dropdown;\n",
                     "    var format = format_dropdown.options[format_dropdown.selectedIndex].value;\n",
                     "    fig.ondownload(fig, format);\n",
                     "}\n",
                     "\n",
                     "\n",
                     "mpl.figure.prototype.handle_resize = function(fig, msg) {\n",
                     "    var size = msg['size'];\n",
                     "    if (size[0] != fig.canvas.width || size[1] != fig.canvas.height) {\n",
                     "        fig._resize_canvas(size[0], size[1]);\n",
                     "        fig.send_message(\"refresh\", {});\n",
                     "    };\n",
                     "}\n",
                     "\n",
                     "mpl.figure.prototype.handle_rubberband = function(fig, msg) {\n",
                     "    var x0 = msg['x0'] / mpl.ratio;\n",
                     "    var y0 = (fig.canvas.height - msg['y0']) / mpl.ratio;\n",
                     "    var x1 = msg['x1'] / mpl.ratio;\n",
                     "    var y1 = (fig.canvas.height - msg['y1']) / mpl.ratio;\n",
                     "    x0 = Math.floor(x0) + 0.5;\n",
                     "    y0 = Math.floor(y0) + 0.5;\n",
                     "    x1 = Math.floor(x1) + 0.5;\n",
                     "    y1 = Math.floor(y1) + 0.5;\n",
                     "    var min_x = Math.min(x0, x1);\n",
                     "    var min_y = Math.min(y0, y1);\n",
                     "    var width = Math.abs(x1 - x0);\n",
                     "    var height = Math.abs(y1 - y0);\n",
                     "\n",
                     "    fig.rubberband_context.clearRect(\n",
                     "        0, 0, fig.canvas.width / mpl.ratio, fig.canvas.height / mpl.ratio);\n",
                     "\n",
                     "    fig.rubberband_context.strokeRect(min_x, min_y, width, height);\n",
                     "}\n",
                     "\n",
                     "mpl.figure.prototype.handle_figure_label = function(fig, msg) {\n",
                     "    // Updates the figure title.\n",
                     "    fig.header.textContent = msg['label'];\n",
                     "}\n",
                     "\n",
                     "mpl.figure.prototype.handle_cursor = function(fig, msg) {\n",
                     "    var cursor = msg['cursor'];\n",
                     "    switch(cursor)\n",
                     "    {\n",
                     "    case 0:\n",
                     "        cursor = 'pointer';\n",
                     "        break;\n",
                     "    case 1:\n",
                     "        cursor = 'default';\n",
                     "        break;\n",
                     "    case 2:\n",
                     "        cursor = 'crosshair';\n",
                     "        break;\n",
                     "    case 3:\n",
                     "        cursor = 'move';\n",
                     "        break;\n",
                     "    }\n",
                     "    fig.rubberband_canvas.style.cursor = cursor;\n",
                     "}\n",
                     "\n",
                     "mpl.figure.prototype.handle_message = function(fig, msg) {\n",
                     "    fig.message.textContent = msg['message'];\n",
                     "}\n",
                     "\n",
                     "mpl.figure.prototype.handle_draw = function(fig, msg) {\n",
                     "    // Request the server to send over a new figure.\n",
                     "    fig.send_draw_message();\n",
                     "}\n",
                     "\n",
                     "mpl.figure.prototype.handle_image_mode = function(fig, msg) {\n",
                     "    fig.image_mode = msg['mode'];\n",
                     "}\n",
                     "\n",
                     "mpl.figure.prototype.updated_canvas_event = function() {\n",
                     "    // Called whenever the canvas gets updated.\n",
                     "    this.send_message(\"ack\", {});\n",
                     "}\n",
                     "\n",
                     "// A function to construct a web socket function for onmessage handling.\n",
                     "// Called in the figure constructor.\n",
                     "mpl.figure.prototype._make_on_message_function = function(fig) {\n",
                     "    return function socket_on_message(evt) {\n",
                     "        if (evt.data instanceof Blob) {\n",
                     "            /* FIXME: We get \"Resource interpreted as Image but\n",
                     "             * transferred with MIME type text/plain:\" errors on\n",
                     "             * Chrome.  But how to set the MIME type?  It doesn't seem\n",
                     "             * to be part of the websocket stream */\n",
                     "            evt.data.type = \"image/png\";\n",
                     "\n",
                     "            /* Free the memory for the previous frames */\n",
                     "            if (fig.imageObj.src) {\n",
                     "                (window.URL || window.webkitURL).revokeObjectURL(\n",
                     "                    fig.imageObj.src);\n",
                     "            }\n",
                     "\n",
                     "            fig.imageObj.src = (window.URL || window.webkitURL).createObjectURL(\n",
                     "                evt.data);\n",
                     "            fig.updated_canvas_event();\n",
                     "            fig.waiting = false;\n",
                     "            return;\n",
                     "        }\n",
                     "        else if (typeof evt.data === 'string' && evt.data.slice(0, 21) == \"data:image/png;base64\") {\n",
                     "            fig.imageObj.src = evt.data;\n",
                     "            fig.updated_canvas_event();\n",
                     "            fig.waiting = false;\n",
                     "            return;\n",
                     "        }\n",
                     "\n",
                     "        var msg = JSON.parse(evt.data);\n",
                     "        var msg_type = msg['type'];\n",
                     "\n",
                     "        // Call the  \"handle_{type}\" callback, which takes\n",
                     "        // the figure and JSON message as its only arguments.\n",
                     "        try {\n",
                     "            var callback = fig[\"handle_\" + msg_type];\n",
                     "        } catch (e) {\n",
                     "            console.log(\"No handler for the '\" + msg_type + \"' message type: \", msg);\n",
                     "            return;\n",
                     "        }\n",
                     "\n",
                     "        if (callback) {\n",
                     "            try {\n",
                     "                // console.log(\"Handling '\" + msg_type + \"' message: \", msg);\n",
                     "                callback(fig, msg);\n",
                     "            } catch (e) {\n",
                     "                console.log(\"Exception inside the 'handler_\" + msg_type + \"' callback:\", e, e.stack, msg);\n",
                     "            }\n",
                     "        }\n",
                     "    };\n",
                     "}\n",
                     "\n",
                     "// from http://stackoverflow.com/questions/1114465/getting-mouse-location-in-canvas\n",
                     "mpl.findpos = function(e) {\n",
                     "    //this section is from http://www.quirksmode.org/js/events_properties.html\n",
                     "    var targ;\n",
                     "    if (!e)\n",
                     "        e = window.event;\n",
                     "    if (e.target)\n",
                     "        targ = e.target;\n",
                     "    else if (e.srcElement)\n",
                     "        targ = e.srcElement;\n",
                     "    if (targ.nodeType == 3) // defeat Safari bug\n",
                     "        targ = targ.parentNode;\n",
                     "\n",
                     "    // jQuery normalizes the pageX and pageY\n",
                     "    // pageX,Y are the mouse positions relative to the document\n",
                     "    // offset() returns the position of the element relative to the document\n",
                     "    var x = e.pageX - $(targ).offset().left;\n",
                     "    var y = e.pageY - $(targ).offset().top;\n",
                     "\n",
                     "    return {\"x\": x, \"y\": y};\n",
                     "};\n",
                     "\n",
                     "/*\n",
                     " * return a copy of an object with only non-object keys\n",
                     " * we need this to avoid circular references\n",
                     " * http://stackoverflow.com/a/24161582/3208463\n",
                     " */\n",
                     "function simpleKeys (original) {\n",
                     "  return Object.keys(original).reduce(function (obj, key) {\n",
                     "    if (typeof original[key] !== 'object')\n",
                     "        obj[key] = original[key]\n",
                     "    return obj;\n",
                     "  }, {});\n",
                     "}\n",
                     "\n",
                     "mpl.figure.prototype.mouse_event = function(event, name) {\n",
                     "    var canvas_pos = mpl.findpos(event)\n",
                     "\n",
                     "    if (name === 'button_press')\n",
                     "    {\n",
                     "        this.canvas.focus();\n",
                     "        this.canvas_div.focus();\n",
                     "    }\n",
                     "\n",
                     "    var x = canvas_pos.x * mpl.ratio;\n",
                     "    var y = canvas_pos.y * mpl.ratio;\n",
                     "\n",
                     "    this.send_message(name, {x: x, y: y, button: event.button,\n",
                     "                             step: event.step,\n",
                     "                             guiEvent: simpleKeys(event)});\n",
                     "\n",
                     "    /* This prevents the web browser from automatically changing to\n",
                     "     * the text insertion cursor when the button is pressed.  We want\n",
                     "     * to control all of the cursor setting manually through the\n",
                     "     * 'cursor' event from matplotlib */\n",
                     "    event.preventDefault();\n",
                     "    return false;\n",
                     "}\n",
                     "\n",
                     "mpl.figure.prototype._key_event_extra = function(event, name) {\n",
                     "    // Handle any extra behaviour associated with a key event\n",
                     "}\n",
                     "\n",
                     "mpl.figure.prototype.key_event = function(event, name) {\n",
                     "\n",
                     "    // Prevent repeat events\n",
                     "    if (name == 'key_press')\n",
                     "    {\n",
                     "        if (event.which === this._key)\n",
                     "            return;\n",
                     "        else\n",
                     "            this._key = event.which;\n",
                     "    }\n",
                     "    if (name == 'key_release')\n",
                     "        this._key = null;\n",
                     "\n",
                     "    var value = '';\n",
                     "    if (event.ctrlKey && event.which != 17)\n",
                     "        value += \"ctrl+\";\n",
                     "    if (event.altKey && event.which != 18)\n",
                     "        value += \"alt+\";\n",
                     "    if (event.shiftKey && event.which != 16)\n",
                     "        value += \"shift+\";\n",
                     "\n",
                     "    value += 'k';\n",
                     "    value += event.which.toString();\n",
                     "\n",
                     "    this._key_event_extra(event, name);\n",
                     "\n",
                     "    this.send_message(name, {key: value,\n",
                     "                             guiEvent: simpleKeys(event)});\n",
                     "    return false;\n",
                     "}\n",
                     "\n",
                     "mpl.figure.prototype.toolbar_button_onclick = function(name) {\n",
                     "    if (name == 'download') {\n",
                     "        this.handle_save(this, null);\n",
                     "    } else {\n",
                     "        this.send_message(\"toolbar_button\", {name: name});\n",
                     "    }\n",
                     "};\n",
                     "\n",
                     "mpl.figure.prototype.toolbar_button_onmouseover = function(tooltip) {\n",
                     "    this.message.textContent = tooltip;\n",
                     "};\n",
                     "mpl.toolbar_items = [[\"Home\", \"Reset original view\", \"fa fa-home icon-home\", \"home\"], [\"Back\", \"Back to previous view\", \"fa fa-arrow-left icon-arrow-left\", \"back\"], [\"Forward\", \"Forward to next view\", \"fa fa-arrow-right icon-arrow-right\", \"forward\"], [\"\", \"\", \"\", \"\"], [\"Pan\", \"Pan axes with left mouse, zoom with right\", \"fa fa-arrows icon-move\", \"pan\"], [\"Zoom\", \"Zoom to rectangle\", \"fa fa-square-o icon-check-empty\", \"zoom\"], [\"\", \"\", \"\", \"\"], [\"Download\", \"Download plot\", \"fa fa-floppy-o icon-save\", \"download\"]];\n",
                     "\n",
                     "mpl.extensions = [\"eps\", \"pdf\", \"png\", \"ps\", \"raw\", \"svg\"];\n",
                     "\n",
                     "mpl.default_extension = \"png\";var comm_websocket_adapter = function(comm) {\n",
                     "    // Create a \"websocket\"-like object which calls the given IPython comm\n",
                     "    // object with the appropriate methods. Currently this is a non binary\n",
                     "    // socket, so there is still some room for performance tuning.\n",
                     "    var ws = {};\n",
                     "\n",
                     "    ws.close = function() {\n",
                     "        comm.close()\n",
                     "    };\n",
                     "    ws.send = function(m) {\n",
                     "        //console.log('sending', m);\n",
                     "        comm.send(m);\n",
                     "    };\n",
                     "    // Register the callback with on_msg.\n",
                     "    comm.on_msg(function(msg) {\n",
                     "        //console.log('receiving', msg['content']['data'], msg);\n",
                     "        // Pass the mpl event to the overridden (by mpl) onmessage function.\n",
                     "        ws.onmessage(msg['content']['data'])\n",
                     "    });\n",
                     "    return ws;\n",
                     "}\n",
                     "\n",
                     "mpl.mpl_figure_comm = function(comm, msg) {\n",
                     "    // This is the function which gets called when the mpl process\n",
                     "    // starts-up an IPython Comm through the \"matplotlib\" channel.\n",
                     "\n",
                     "    var id = msg.content.data.id;\n",
                     "    // Get hold of the div created by the display call when the Comm\n",
                     "    // socket was opened in Python.\n",
                     "    var element = $(\"#\" + id);\n",
                     "    var ws_proxy = comm_websocket_adapter(comm)\n",
                     "\n",
                     "    function ondownload(figure, format) {\n",
                     "        window.open(figure.imageObj.src);\n",
                     "    }\n",
                     "\n",
                     "    var fig = new mpl.figure(id, ws_proxy,\n",
                     "                           ondownload,\n",
                     "                           element.get(0));\n",
                     "\n",
                     "    // Call onopen now - mpl needs it, as it is assuming we've passed it a real\n",
                     "    // web socket which is closed, not our websocket->open comm proxy.\n",
                     "    ws_proxy.onopen();\n",
                     "\n",
                     "    fig.parent_element = element.get(0);\n",
                     "    fig.cell_info = mpl.find_output_cell(\"<div id='\" + id + \"'></div>\");\n",
                     "    if (!fig.cell_info) {\n",
                     "        console.error(\"Failed to find cell for figure\", id, fig);\n",
                     "        return;\n",
                     "    }\n",
                     "\n",
                     "    var output_index = fig.cell_info[2]\n",
                     "    var cell = fig.cell_info[0];\n",
                     "\n",
                     "};\n",
                     "\n",
                     "mpl.figure.prototype.handle_close = function(fig, msg) {\n",
                     "    var width = fig.canvas.width/mpl.ratio\n",
                     "    fig.root.unbind('remove')\n",
                     "\n",
                     "    // Update the output cell to use the data from the current canvas.\n",
                     "    fig.push_to_output();\n",
                     "    var dataURL = fig.canvas.toDataURL();\n",
                     "    // Re-enable the keyboard manager in IPython - without this line, in FF,\n",
                     "    // the notebook keyboard shortcuts fail.\n",
                     "    IPython.keyboard_manager.enable()\n",
                     "    $(fig.parent_element).html('<img src=\"' + dataURL + '\" width=\"' + width + '\">');\n",
                     "    fig.close_ws(fig, msg);\n",
                     "}\n",
                     "\n",
                     "mpl.figure.prototype.close_ws = function(fig, msg){\n",
                     "    fig.send_message('closing', msg);\n",
                     "    // fig.ws.close()\n",
                     "}\n",
                     "\n",
                     "mpl.figure.prototype.push_to_output = function(remove_interactive) {\n",
                     "    // Turn the data on the canvas into data in the output cell.\n",
                     "    var width = this.canvas.width/mpl.ratio\n",
                     "    var dataURL = this.canvas.toDataURL();\n",
                     "    this.cell_info[1]['text/html'] = '<img src=\"' + dataURL + '\" width=\"' + width + '\">';\n",
                     "}\n",
                     "\n",
                     "mpl.figure.prototype.updated_canvas_event = function() {\n",
                     "    // Tell IPython that the notebook contents must change.\n",
                     "    IPython.notebook.set_dirty(true);\n",
                     "    this.send_message(\"ack\", {});\n",
                     "    var fig = this;\n",
                     "    // Wait a second, then push the new image to the DOM so\n",
                     "    // that it is saved nicely (might be nice to debounce this).\n",
                     "    setTimeout(function () { fig.push_to_output() }, 1000);\n",
                     "}\n",
                     "\n",
                     "mpl.figure.prototype._init_toolbar = function() {\n",
                     "    var fig = this;\n",
                     "\n",
                     "    var nav_element = $('<div/>');\n",
                     "    nav_element.attr('style', 'width: 100%');\n",
                     "    this.root.append(nav_element);\n",
                     "\n",
                     "    // Define a callback function for later on.\n",
                     "    function toolbar_event(event) {\n",
                     "        return fig.toolbar_button_onclick(event['data']);\n",
                     "    }\n",
                     "    function toolbar_mouse_event(event) {\n",
                     "        return fig.toolbar_button_onmouseover(event['data']);\n",
                     "    }\n",
                     "\n",
                     "    for(var toolbar_ind in mpl.toolbar_items){\n",
                     "        var name = mpl.toolbar_items[toolbar_ind][0];\n",
                     "        var tooltip = mpl.toolbar_items[toolbar_ind][1];\n",
                     "        var image = mpl.toolbar_items[toolbar_ind][2];\n",
                     "        var method_name = mpl.toolbar_items[toolbar_ind][3];\n",
                     "\n",
                     "        if (!name) { continue; };\n",
                     "\n",
                     "        var button = $('<button class=\"btn btn-default\" href=\"#\" title=\"' + name + '\"><i class=\"fa ' + image + ' fa-lg\"></i></button>');\n",
                     "        button.click(method_name, toolbar_event);\n",
                     "        button.mouseover(tooltip, toolbar_mouse_event);\n",
                     "        nav_element.append(button);\n",
                     "    }\n",
                     "\n",
                     "    // Add the status bar.\n",
                     "    var status_bar = $('<span class=\"mpl-message\" style=\"text-align:right; float: right;\"/>');\n",
                     "    nav_element.append(status_bar);\n",
                     "    this.message = status_bar[0];\n",
                     "\n",
                     "    // Add the close button to the window.\n",
                     "    var buttongrp = $('<div class=\"btn-group inline pull-right\"></div>');\n",
                     "    var button = $('<button class=\"btn btn-mini btn-primary\" href=\"#\" title=\"Stop Interaction\"><i class=\"fa fa-power-off icon-remove icon-large\"></i></button>');\n",
                     "    button.click(function (evt) { fig.handle_close(fig, {}); } );\n",
                     "    button.mouseover('Stop Interaction', toolbar_mouse_event);\n",
                     "    buttongrp.append(button);\n",
                     "    var titlebar = this.root.find($('.ui-dialog-titlebar'));\n",
                     "    titlebar.prepend(buttongrp);\n",
                     "}\n",
                     "\n",
                     "mpl.figure.prototype._root_extra_style = function(el){\n",
                     "    var fig = this\n",
                     "    el.on(\"remove\", function(){\n",
                     "\tfig.close_ws(fig, {});\n",
                     "    });\n",
                     "}\n",
                     "\n",
                     "mpl.figure.prototype._canvas_extra_style = function(el){\n",
                     "    // this is important to make the div 'focusable\n",
                     "    el.attr('tabindex', 0)\n",
                     "    // reach out to IPython and tell the keyboard manager to turn it's self\n",
                     "    // off when our div gets focus\n",
                     "\n",
                     "    // location in version 3\n",
                     "    if (IPython.notebook.keyboard_manager) {\n",
                     "        IPython.notebook.keyboard_manager.register_events(el);\n",
                     "    }\n",
                     "    else {\n",
                     "        // location in version 2\n",
                     "        IPython.keyboard_manager.register_events(el);\n",
                     "    }\n",
                     "\n",
                     "}\n",
                     "\n",
                     "mpl.figure.prototype._key_event_extra = function(event, name) {\n",
                     "    var manager = IPython.notebook.keyboard_manager;\n",
                     "    if (!manager)\n",
                     "        manager = IPython.keyboard_manager;\n",
                     "\n",
                     "    // Check for shift+enter\n",
                     "    if (event.shiftKey && event.which == 13) {\n",
                     "        this.canvas_div.blur();\n",
                     "        // select the cell after this one\n",
                     "        var index = IPython.notebook.find_cell_index(this.cell_info[0]);\n",
                     "        IPython.notebook.select(index + 1);\n",
                     "    }\n",
                     "}\n",
                     "\n",
                     "mpl.figure.prototype.handle_save = function(fig, msg) {\n",
                     "    fig.ondownload(fig, null);\n",
                     "}\n",
                     "\n",
                     "\n",
                     "mpl.find_output_cell = function(html_output) {\n",
                     "    // Return the cell and output element which can be found *uniquely* in the notebook.\n",
                     "    // Note - this is a bit hacky, but it is done because the \"notebook_saving.Notebook\"\n",
                     "    // IPython event is triggered only after the cells have been serialised, which for\n",
                     "    // our purposes (turning an active figure into a static one), is too late.\n",
                     "    var cells = IPython.notebook.get_cells();\n",
                     "    var ncells = cells.length;\n",
                     "    for (var i=0; i<ncells; i++) {\n",
                     "        var cell = cells[i];\n",
                     "        if (cell.cell_type === 'code'){\n",
                     "            for (var j=0; j<cell.output_area.outputs.length; j++) {\n",
                     "                var data = cell.output_area.outputs[j];\n",
                     "                if (data.data) {\n",
                     "                    // IPython >= 3 moved mimebundle to data attribute of output\n",
                     "                    data = data.data;\n",
                     "                }\n",
                     "                if (data['text/html'] == html_output) {\n",
                     "                    return [cell, data, j];\n",
                     "                }\n",
                     "            }\n",
                     "        }\n",
                     "    }\n",
                     "}\n",
                     "\n",
                     "// Register the function which deals with the matplotlib target/channel.\n",
                     "// The kernel may be null if the page has been refreshed.\n",
                     "if (IPython.notebook.kernel != null) {\n",
                     "    IPython.notebook.kernel.comm_manager.register_target('matplotlib', mpl.mpl_figure_comm);\n",
                     "}\n"
                  ],
                  "text/plain": [
                     "<IPython.core.display.Javascript object>"
                  ]
               },
               "metadata": {},
               "output_type": "display_data"
            },
            {
               "data": {
                  "text/html": [
                     "<img src=\"data:image/png;base64,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\" width=\"852.75\">"
                  ],
                  "text/plain": [
                     "<IPython.core.display.HTML object>"
                  ]
               },
               "metadata": {},
               "output_type": "display_data"
            },
            {
               "data": {
                  "text/plain": [
                     "Text(0.5, 1.0, 'Grid Points for Interpolation')"
                  ]
               },
               "execution_count": 77,
               "metadata": {},
               "output_type": "execute_result"
            }
         ],
         "source": [
            "plt.figure()\n",
            "plt.scatter(xi*1e-3, yi*1e-3, s=4)\n",
            "plt.xlabel('easting [km]')\n",
            "plt.ylabel('northing [km]')\n",
            "plt.grid(True)\n",
            "plt.title(\"Grid Points for Interpolation\")"
         ]
      },
      {
         "cell_type": "markdown",
         "metadata": {},
         "source": [
            "Now we use the `griddata` function of the `scipy` to interpolate the scattered data `grav` at `(x,y)` to the \n",
            "grid nodes `(xi, yi)`:"
         ]
      },
      {
         "cell_type": "code",
         "execution_count": 78,
         "metadata": {
            "tags": [
               "SOLUTION"
            ]
         },
         "outputs": [],
         "source": []
      },
      {
         "cell_type": "markdown",
         "metadata": {},
         "source": [
            "Now we can plot the interpolated data `gravi` using contours:"
         ]
      },
      {
         "cell_type": "code",
         "execution_count": 79,
         "metadata": {
            "tags": [
               "SOLUTION"
            ]
         },
         "outputs": [],
         "source": []
      },
      {
         "cell_type": "markdown",
         "metadata": {},
         "source": [
            "What happens at the uncoloured area:"
         ]
      },
      {
         "cell_type": "code",
         "execution_count": 80,
         "metadata": {
            "tags": [
               "SOLUTION"
            ]
         },
         "outputs": [],
         "source": []
      },
      {
         "cell_type": "markdown",
         "metadata": {},
         "source": [
            "Now we want to write the interpolated data `gravi` but only those data that have been interpolated (not set to `nan`). So we first create an masked index to mark these entries:"
         ]
      },
      {
         "cell_type": "code",
         "execution_count": 81,
         "metadata": {
            "tags": [
               "SOLUTION"
            ]
         },
         "outputs": [],
         "source": []
      },
      {
         "cell_type": "markdown",
         "metadata": {},
         "source": [
            "Then we put the entries in `xi`, `yi` and `gravi` that correspond to non-nan entries in `gravi` into a new array `interpolated_data`.  `axis=-1` makes the stacking to work column-wise. "
         ]
      },
      {
         "cell_type": "code",
         "execution_count": 82,
         "metadata": {
            "tags": [
               "SOLUTION"
            ]
         },
         "outputs": [],
         "source": []
      },
      {
         "cell_type": "markdown",
         "metadata": {},
         "source": [
            "And then we write them to a file ['test.out'](test.out):"
         ]
      },
      {
         "cell_type": "code",
         "execution_count": 83,
         "metadata": {
            "tags": [
               "SOLUTION"
            ]
         },
         "outputs": [],
         "source": []
      },
      {
         "cell_type": "markdown",
         "metadata": {},
         "source": [
            "# More on File reading and writing:"
         ]
      },
      {
         "cell_type": "markdown",
         "metadata": {},
         "source": [
            "## Saving & Loading numpy arrays\n",
            "\n",
            "Sometimes one want to save a `numpy` arrays for later use for instance if the computational work to \n",
            "create them was quite intense. We test this with two random arrays."
         ]
      },
      {
         "cell_type": "code",
         "execution_count": 84,
         "metadata": {
            "tags": [
               "SOLUTION"
            ]
         },
         "outputs": [],
         "source": []
      },
      {
         "cell_type": "markdown",
         "metadata": {},
         "source": [
            "And a second array:"
         ]
      },
      {
         "cell_type": "code",
         "execution_count": 85,
         "metadata": {
            "tags": [
               "SOLUTION"
            ]
         },
         "outputs": [],
         "source": []
      },
      {
         "cell_type": "markdown",
         "metadata": {},
         "source": [
            "The [`savez`](https://numpy.org/doc/stable/reference/generated/numpy.savez.html#numpy.savez) function of `numpy` allows for fast dumping of arrays to a file (here `example`) where arrays can be labeled for easier retrieval (here `\"samples\"` and `\"table\"`):"
         ]
      },
      {
         "cell_type": "code",
         "execution_count": 86,
         "metadata": {
            "tags": [
               "SOLUTION"
            ]
         },
         "outputs": [],
         "source": []
      },
      {
         "cell_type": "markdown",
         "metadata": {},
         "source": [
            "Using [`load`](https://numpy.org/doc/stable/reference/generated/numpy.load.html) functions \n",
            "the arrays can be reloaded:"
         ]
      },
      {
         "cell_type": "code",
         "execution_count": 87,
         "metadata": {
            "tags": [
               "SOLUTION"
            ]
         },
         "outputs": [],
         "source": []
      },
      {
         "cell_type": "markdown",
         "metadata": {},
         "source": [
            "The arrays can then be retrieved using keywords (here `\"samples\"` and `\"table\"`):"
         ]
      },
      {
         "cell_type": "code",
         "execution_count": 88,
         "metadata": {
            "tags": [
               "SOLUTION"
            ]
         },
         "outputs": [],
         "source": []
      },
      {
         "cell_type": "code",
         "execution_count": 89,
         "metadata": {
            "tags": [
               "SOLUTION"
            ]
         },
         "outputs": [],
         "source": []
      },
      {
         "cell_type": "markdown",
         "metadata": {},
         "source": [
            "## Reading Binary files\n",
            "\n",
            "`numpy` provides also a mechanism to read (and write) arrays as binary files. \n",
            "Here we reading the \"./Data/marmousi.bin\" file which gives a seismic velocity distribution unsing the `fromfile` function of `numpy`. The values are given as 32 bit floating point numbers. This needs to be specified by argument `dtype=\"f4\"`:\n"
         ]
      },
      {
         "cell_type": "code",
         "execution_count": 90,
         "metadata": {
            "tags": [
               "SOLUTION"
            ]
         },
         "outputs": [],
         "source": []
      },
      {
         "cell_type": "markdown",
         "metadata": {},
         "source": [
            "The veolcity data need to be reshaped as a $384 \\times 122$ array. Notice that this \n",
            "information are not obtained from the file itself:"
         ]
      },
      {
         "cell_type": "code",
         "execution_count": 91,
         "metadata": {
            "tags": [
               "SOLUTION"
            ]
         },
         "outputs": [],
         "source": []
      },
      {
         "cell_type": "markdown",
         "metadata": {},
         "source": [
            "We can now plot the `velocity` data using `plt.imshow` assuming an horizontal extent of $4600m$ and a depth of $1500m$"
         ]
      },
      {
         "cell_type": "code",
         "execution_count": 92,
         "metadata": {
            "tags": [
               "SOLUTION"
            ]
         },
         "outputs": [],
         "source": []
      }
   ],
   "metadata": {
      "celltoolbar": "Tags",
      "kernelspec": {
         "display_name": "Python 3",
         "language": "python",
         "name": "python3"
      },
      "language_info": {
         "codemirror_mode": {
            "name": "ipython",
            "version": 3
         },
         "file_extension": ".py",
         "mimetype": "text/x-python",
         "name": "python",
         "nbconvert_exporter": "python",
         "pygments_lexer": "ipython3",
         "version": "3.8.10"
      },
      "latex_envs": {
         "LaTeX_envs_menu_present": true,
         "autoclose": false,
         "autocomplete": true,
         "bibliofile": "biblio.bib",
         "cite_by": "apalike",
         "current_citInitial": 1,
         "eqLabelWithNumbers": true,
         "eqNumInitial": 1,
         "hotkeys": {
            "equation": "Ctrl-E",
            "itemize": "Ctrl-I"
         },
         "labels_anchors": false,
         "latex_user_defs": false,
         "report_style_numbering": false,
         "user_envs_cfg": false
      },
      "toc": {
         "base_numbering": 1,
         "nav_menu": {},
         "number_sections": true,
         "sideBar": false,
         "skip_h1_title": false,
         "title_cell": "Table of Contents",
         "title_sidebar": "Contents",
         "toc_cell": true,
         "toc_position": {},
         "toc_section_display": false,
         "toc_window_display": false
      },
      "varInspector": {
         "cols": {
            "lenName": 16,
            "lenType": 16,
            "lenVar": 40
         },
         "kernels_config": {
            "python": {
               "delete_cmd_postfix": "",
               "delete_cmd_prefix": "del ",
               "library": "var_list.py",
               "varRefreshCmd": "print(var_dic_list())"
            },
            "r": {
               "delete_cmd_postfix": ") ",
               "delete_cmd_prefix": "rm(",
               "library": "var_list.r",
               "varRefreshCmd": "cat(var_dic_list()) "
            }
         },
         "types_to_exclude": [
            "module",
            "function",
            "builtin_function_or_method",
            "instance",
            "_Feature"
         ],
         "window_display": false
      }
   },
   "nbformat": 4,
   "nbformat_minor": 2
}