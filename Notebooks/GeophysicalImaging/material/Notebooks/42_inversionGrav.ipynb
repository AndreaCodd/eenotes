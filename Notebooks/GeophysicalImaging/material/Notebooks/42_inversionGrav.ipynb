{
   "cells": [
      {
         "cell_type": "code",
         "execution_count": 1,
         "metadata": {
            "run_control": {
               "marked": true
            }
         },
         "outputs": [],
         "source": [
            "#%matplotlib notebook\n",
            "import matplotlib.pyplot as plt\n",
            "import numpy as np\n",
            "\n",
            "# this makes the random number generation reproducable: \n",
            "np.random.seed(seed=9)"
         ]
      },
      {
         "cell_type": "code",
         "execution_count": 2,
         "metadata": {},
         "outputs": [],
         "source": [
            "NE0=250 # number of cells in horizontal direction\n",
            "NE1=250 # number of cells in vertical direction\n",
            "h0=300. # in horizontal meter [m] grid spacing\n",
            "h1=300. # in vertical meter [m] grid spacing\n"
         ]
      },
      {
         "cell_type": "code",
         "execution_count": 3,
         "metadata": {},
         "outputs": [],
         "source": [
            "L0, L1=NE0*h0, NE1*h1"
         ]
      },
      {
         "cell_type": "code",
         "execution_count": 4,
         "metadata": {},
         "outputs": [],
         "source": [
            "from esys.escript import *\n",
            "from esys.finley import Rectangle\n",
            "domain=Rectangle(l0=L0, l1=L1, n0=NE0, n1=NE1)"
         ]
      },
      {
         "cell_type": "markdown",
         "metadata": {},
         "source": [
            "True density distribution:"
         ]
      },
      {
         "cell_type": "code",
         "execution_count": 5,
         "metadata": {},
         "outputs": [],
         "source": [
            "rho1=-2000\n",
            "rho2=1500"
         ]
      },
      {
         "cell_type": "code",
         "execution_count": 6,
         "metadata": {},
         "outputs": [],
         "source": [
            "X=ReducedFunction(domain).getX()\n",
            "m1=whereNegative(length(X-[L0*0.4,L1*0.35])-L0*0.05)\n",
            "m2=whereNegative(length(X-[L0*0.6,L1*0.45])-L0*0.05)\n",
            "rho_true=m1*rho1+m2*rho2"
         ]
      },
      {
         "cell_type": "code",
         "execution_count": 7,
         "metadata": {},
         "outputs": [
            {
               "ename": "RuntimeError",
               "evalue": "unidentifiable C++ exception",
               "output_type": "error",
               "traceback": [
                  "\u001b[0;31m---------------------------------------------------------------------------\u001b[0m",
                  "\u001b[0;31mRuntimeError\u001b[0m                              Traceback (most recent call last)",
                  "Cell \u001b[0;32mIn [7], line 1\u001b[0m\n\u001b[0;32m----> 1\u001b[0m rho_np\u001b[38;5;241m=\u001b[39m\u001b[43mconvertToNumpy\u001b[49m\u001b[43m(\u001b[49m\u001b[43mrho_true\u001b[49m\u001b[43m)\u001b[49m \n\u001b[1;32m      2\u001b[0m X_np\u001b[38;5;241m=\u001b[39mconvertToNumpy(X)\n\u001b[1;32m      4\u001b[0m plt\u001b[38;5;241m.\u001b[39mfigure()\n",
                  "File \u001b[0;32m~/PycharmProjects/esys-escript.github.io/escriptcore/py_src/util.py:291\u001b[0m, in \u001b[0;36mconvertToNumpy\u001b[0;34m(data)\u001b[0m\n",
                  "\u001b[0;31mRuntimeError\u001b[0m: unidentifiable C++ exception"
               ]
            }
         ],
         "source": [
            "rho_np=convertToNumpy(rho_true) \n",
            "X_np=convertToNumpy(X)\n",
            "\n",
            "plt.figure()\n",
            "vmax=abs(rho_np).max()*1.01\n",
            "contour=plt.tricontourf(X_np[0], X_np[1], rho_np[0], levels=np.linspace(-vmax,vmax,20), cmap='seismic')\n",
            "plt.colorbar(contour)\n",
            "plt.xlabel('$x_0$ [m]')\n",
            "plt.ylabel('$x_1$ [m]')\n"
         ]
      },
      {
         "cell_type": "code",
         "execution_count": null,
         "metadata": {},
         "outputs": [],
         "source": []
      },
      {
         "cell_type": "markdown",
         "metadata": {},
         "source": [
            "Mask for where we test the data (=`Wd`):"
         ]
      },
      {
         "cell_type": "code",
         "execution_count": null,
         "metadata": {},
         "outputs": [],
         "source": [
            "H_data=0.65*L1"
         ]
      },
      {
         "cell_type": "code",
         "execution_count": null,
         "metadata": {},
         "outputs": [],
         "source": [
            "surface_z=int(H_data/h1)*h1\n",
            "surface_z+h1/2,L1"
         ]
      },
      {
         "cell_type": "code",
         "execution_count": null,
         "metadata": {},
         "outputs": [],
         "source": [
            "m_data=whereNegative(abs(X[1]-(surface_z+h1/2))-h1/2)*whereNegative(abs(X[0]-L0/2)-L0*0.3)\n"
         ]
      },
      {
         "cell_type": "code",
         "execution_count": null,
         "metadata": {},
         "outputs": [],
         "source": [
            "plt.figure()\n",
            "contour=plt.tricontourf(X_np[0], X_np[1], convertToNumpy(m_data)[0], 5)\n",
            "plt.colorbar(contour)\n",
            "plt.xlabel('$x_0$ [m]')\n",
            "plt.ylabel('$x_1$ [m]')\n"
         ]
      },
      {
         "cell_type": "code",
         "execution_count": null,
         "metadata": {},
         "outputs": [],
         "source": [
            "from mytools import getGravity, Inversion2DGravity, mGal"
         ]
      },
      {
         "cell_type": "markdown",
         "metadata": {},
         "source": [
            "Get the test data and add some noise:"
         ]
      },
      {
         "cell_type": "code",
         "execution_count": null,
         "metadata": {},
         "outputs": [],
         "source": [
            "data=getGravity(domain, rho_true)"
         ]
      },
      {
         "cell_type": "code",
         "execution_count": null,
         "metadata": {},
         "outputs": [],
         "source": [
            "data*=(1+0.10*(2*RandomData((), data.getFunctionSpace())-1))"
         ]
      },
      {
         "cell_type": "markdown",
         "metadata": {},
         "source": [
            " set `Wd`:"
         ]
      },
      {
         "cell_type": "code",
         "execution_count": null,
         "metadata": {},
         "outputs": [],
         "source": [
            "Wd=interpolate(m_data, Function(domain))\n",
            "Wd/=integrate(Wd)\n",
            "Wd*=1/abs(0.10*data)**2\n"
         ]
      },
      {
         "cell_type": "markdown",
         "metadata": {},
         "source": [
            "Define the cost function:"
         ]
      },
      {
         "cell_type": "code",
         "execution_count": null,
         "metadata": {},
         "outputs": [],
         "source": [
            "cf=Inversion2DGravity(domain, data, Wd, z_surface=surface_z, rhodash=1, mu=1.e-6)"
         ]
      },
      {
         "cell_type": "code",
         "execution_count": null,
         "metadata": {},
         "outputs": [],
         "source": [
            "import logging\n",
            "mylogger = logging.getLogger('esys')\n",
            "mylogger.setLevel(logging.DEBUG)"
         ]
      },
      {
         "cell_type": "markdown",
         "metadata": {},
         "source": [
            "Run inversion:"
         ]
      },
      {
         "cell_type": "code",
         "execution_count": null,
         "metadata": {},
         "outputs": [],
         "source": [
            "from esys.escript.minimizer import MinimizerLBFGS\n",
            "solver=MinimizerLBFGS(J=cf, m_tol=1e-3, J_tol=None, imax=500, logger=myLogger)\n",
            "solver.setOptions(truncation=25, restart=60)\n",
            "m=Scalar(0., Solution(domain))\n",
            "solver.run(m)\n",
            "mi=solver.getResult()"
         ]
      },
      {
         "cell_type": "markdown",
         "metadata": {},
         "source": [
            "An plot the result:"
         ]
      },
      {
         "cell_type": "code",
         "execution_count": null,
         "metadata": {},
         "outputs": [],
         "source": [
            "rho=mi*cf.rhodash+cf.rho_ref\n",
            "rho_np=convertToNumpy(rho)\n",
            "x_np=convertToNumpy(rho.getX())\n",
            "plt.figure()\n",
            "vmax=abs(rho_np).max()*1.01\n",
            "contour=plt.tricontourf(x_np[0], x_np[1], rho_np[0], levels=np.linspace(-vmax,vmax,20), cmap='seismic')\n",
            "plt.colorbar(contour)\n",
            "plt.xlabel('$x_0$ [m]')\n",
            "plt.ylabel('$x_1$ [m]')"
         ]
      },
      {
         "cell_type": "markdown",
         "metadata": {},
         "source": [
            "Plot the data and recovered data:"
         ]
      },
      {
         "cell_type": "code",
         "execution_count": null,
         "metadata": {},
         "outputs": [],
         "source": [
            "from esys.escript.pdetools import Locator\n",
            "x0_transect=np.linspace(h0/2, L0-h0/2, NE0)\n",
            "x_transect=[ (x0, surface_z+h1/2) for x0 in np.linspace(L0/2-L0*0.3, L0/2+L0*0.3, int(NE0*0.6)) ]\n",
            "transect_locator=Locator(where=ReducedFunction(domain), x=x_transect )\n",
            "x0_transect=[ x[0] for x in transect_locator.getX() ]"
         ]
      },
      {
         "cell_type": "code",
         "execution_count": null,
         "metadata": {},
         "outputs": [],
         "source": [
            "data_transect=transect_locator.getValue(data*mGal)"
         ]
      },
      {
         "cell_type": "code",
         "execution_count": null,
         "metadata": {},
         "outputs": [],
         "source": [
            "datai=getGravity(domain, rho)\n",
            "datai_transect=transect_locator.getValue(datai*mGal)"
         ]
      },
      {
         "cell_type": "code",
         "execution_count": null,
         "metadata": {},
         "outputs": [],
         "source": [
            "plt.figure()\n",
            "plt.scatter(x0_transect, data_transect, label=\"input\", s=1)\n",
            "plt.plot(x0_transect, datai_transect, label=\"recovered\")\n",
            "plt.xlabel('offset [m]')\n",
            "plt.ylabel('$g_z$ [mGal]')\n",
            "plt.legend()\n",
            "plt.title(\"gravity anomaly over transect @ height %g m\"%(transect_locator.getX()[0][1]))"
         ]
      },
      {
         "cell_type": "code",
         "execution_count": null,
         "metadata": {},
         "outputs": [],
         "source": []
      },
      {
         "cell_type": "code",
         "execution_count": null,
         "metadata": {},
         "outputs": [],
         "source": []
      }
   ],
   "metadata": {
      "kernelspec": {
         "display_name": "Python 3 (ipykernel)",
         "language": "python",
         "name": "python3"
      },
      "language_info": {
         "codemirror_mode": {
            "name": "ipython",
            "version": 3
         },
         "file_extension": ".py",
         "mimetype": "text/x-python",
         "name": "python",
         "nbconvert_exporter": "python",
         "pygments_lexer": "ipython3",
         "version": "3.10.6"
      },
      "latex_envs": {
         "LaTeX_envs_menu_present": true,
         "autoclose": true,
         "autocomplete": true,
         "bibliofile": "biblio.bib",
         "cite_by": "apalike",
         "current_citInitial": 1,
         "eqLabelWithNumbers": true,
         "eqNumInitial": 1,
         "hotkeys": {
            "equation": "Ctrl-E",
            "itemize": "Ctrl-I"
         },
         "labels_anchors": false,
         "latex_user_defs": false,
         "report_style_numbering": true,
         "user_envs_cfg": false
      },
      "toc": {
         "base_numbering": 1,
         "nav_menu": {},
         "number_sections": true,
         "sideBar": true,
         "skip_h1_title": false,
         "title_cell": "Table of Contents",
         "title_sidebar": "Contents",
         "toc_cell": false,
         "toc_position": {},
         "toc_section_display": true,
         "toc_window_display": false
      },
      "varInspector": {
         "cols": {
            "lenName": 16,
            "lenType": 16,
            "lenVar": 40
         },
         "kernels_config": {
            "python": {
               "delete_cmd_postfix": "",
               "delete_cmd_prefix": "del ",
               "library": "var_list.py",
               "varRefreshCmd": "print(var_dic_list())"
            },
            "r": {
               "delete_cmd_postfix": ") ",
               "delete_cmd_prefix": "rm(",
               "library": "var_list.r",
               "varRefreshCmd": "cat(var_dic_list()) "
            }
         },
         "types_to_exclude": [
            "module",
            "function",
            "builtin_function_or_method",
            "instance",
            "_Feature"
         ],
         "window_display": false
      }
   },
   "nbformat": 4,
   "nbformat_minor": 4
}