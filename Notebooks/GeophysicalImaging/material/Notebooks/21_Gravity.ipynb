{
   "cells": [
      {
         "cell_type": "markdown",
         "metadata": {
            "toc": true
         },
         "source": [
            "<h1>Table of Contents<span class=\"tocSkip\"></span></h1>\n",
            "<div class=\"toc\"><ul class=\"toc-item\"><li><span><a href=\"#Gravity-Field-Calculation-using-esys.escript\" data-toc-modified-id=\"Gravity-Field-Calculation-using-esys.escript-1\"><span class=\"toc-item-num\">1&nbsp;&nbsp;</span>Gravity Field Calculation using <code>esys.escript</code></a></span><ul class=\"toc-item\"><li><span><a href=\"#Outline\" data-toc-modified-id=\"Outline-1.1\"><span class=\"toc-item-num\">1.1&nbsp;&nbsp;</span>Outline</a></span></li><li><span><a href=\"#Useful-links:\" data-toc-modified-id=\"Useful-links:-1.2\"><span class=\"toc-item-num\">1.2&nbsp;&nbsp;</span>Useful links:</a></span></li><li><span><a href=\"#An-example-problem:-Gravity-Field-Anomalies\" data-toc-modified-id=\"An-example-problem:-Gravity-Field-Anomalies-1.3\"><span class=\"toc-item-num\">1.3&nbsp;&nbsp;</span>An example problem: Gravity Field Anomalies</a></span></li><li><span><a href=\"#The-PDE-template\" data-toc-modified-id=\"The-PDE-template-1.4\"><span class=\"toc-item-num\">1.4&nbsp;&nbsp;</span>The PDE template</a></span></li><li><span><a href=\"#How-to-create-a-domain\" data-toc-modified-id=\"How-to-create-a-domain-1.5\"><span class=\"toc-item-num\">1.5&nbsp;&nbsp;</span>How to create a domain</a></span></li><li><span><a href=\"#Setting-up-and-solving-a-PDE\" data-toc-modified-id=\"Setting-up-and-solving-a-PDE-1.6\"><span class=\"toc-item-num\">1.6&nbsp;&nbsp;</span>Setting up and solving a PDE</a></span></li><li><span><a href=\"#Gravity-Field\" data-toc-modified-id=\"Gravity-Field-1.7\"><span class=\"toc-item-num\">1.7&nbsp;&nbsp;</span>Gravity Field</a></span></li><li><span><a href=\"#Value-Picking\" data-toc-modified-id=\"Value-Picking-1.8\"><span class=\"toc-item-num\">1.8&nbsp;&nbsp;</span>Value Picking</a></span><ul class=\"toc-item\"><li><span><a href=\"#Along-a-line-of-points-(transect)\" data-toc-modified-id=\"Along-a-line-of-points-(transect)-1.8.1\"><span class=\"toc-item-num\">1.8.1&nbsp;&nbsp;</span>Along a line of points (transect)</a></span></li></ul></li></ul></li></ul></div>"
         ]
      },
      {
         "cell_type": "markdown",
         "metadata": {},
         "source": [
            "by Lutz Gross, The University of Queensland, Australia\n",
            "<a href=\"mailto:l.gross@uq.edu.au\">l.gross@uq.edu.au</a>\n",
            "<a rel=\"license\" href=\"http://creativecommons.org/licenses/by-sa/4.0/\"><img alt=\"Creative Commons License\" style=\"border-width:0\" src=\"https://i.creativecommons.org/l/by-sa/4.0/88x31.png\" /></a><br />This work is licensed under a <a rel=\"license\" href=\"http://creativecommons.org/licenses/by-sa/4.0/\">Creative Commons Attribution-ShareAlike 4.0 International License</a>."
         ]
      },
      {
         "cell_type": "markdown",
         "metadata": {},
         "source": [
            "# Gravity Field Calculation using `esys.escript`"
         ]
      },
      {
         "cell_type": "markdown",
         "metadata": {},
         "source": [
            "## Outline\n",
            "\n",
            "This unit gives an introduction into solving partial differential equations (PDEs) in python. This \n",
            "section assumed that you have a basic understanding how to work with python.\n",
            "\n",
            "\n",
            "We are particularly looking at PDEs as they arise in geophysical problems. Of course it would take some work to build appropriate PDE solvers from scratch. To save this effort we use the python PDE solver module `esys.escript`. This section will give an introduction into the work with `esys.escript` to solve 2D problems. To illustrate the use we will look at the \n",
            "calculation of gravity anomaly fields from subsurface density anomalies. The following section will then present some geophysical applications of PDEs. The the third section will discuss the use of `esys.escript` to solve seismic wave equations in time and in frequency domain.\n",
            "\n",
            "We first present some details the PDEs for modeling gravity field anomalies before we start to\n",
            "discuss how to use `esys.escript` to solve this PDE. "
         ]
      },
      {
         "cell_type": "markdown",
         "metadata": {},
         "source": [
            "## Useful links:\n",
            "\n",
            "- [esys.escript home page](https://github.com/esys-escript/esys-escript.github.io)\n",
            "- [Researchgate](https://www.researchgate.net/project/esys-escript)\n",
            "- [user's guide](https://github.com/esys-escript/esys-escript.github.io/blob/master/user.pdf)\n",
            "- [API documentation](https://esys-escript.github.io/api.html)\n"
         ]
      },
      {
         "cell_type": "markdown",
         "metadata": {},
         "source": [
            "## An example problem: Gravity Field Anomalies\n",
            "The gravitational field $\\mathbf{g}$ (also called gravitational acceleration) is a vector field defining the gravitational force experienced by a particle as its mass multiplied by the gravitational field at that point.\n",
            "In Cartesian coordinates the gravitational field $\\mathbf{g}$ is expressed in the form\n",
            "\\begin{equation} \n",
            "\\mathbf{g}=(g_0, g_1, g_2)\n",
            "\\end{equation} \n",
            "The vector $\\mathbf{g}$ needs to fulfill the Gauss's law which is a generalization of Newton's law introduced in The Gauss's law is stated in the following way:\n",
            "\\begin{equation}\\label{EQGAUSSLAW}\n",
            " \\frac{\\partial g_0}{\\partial x_0} +  \\frac{\\partial g_1}{\\partial x_1} + \\frac{\\partial g_2}{\\partial x_2} = - 4\\pi G\\rho \n",
            "\\end{equation}\n",
            "where $G=6.67 \\cdot 10^{-11}  \\frac{m^3}{kg s^2}$ is the gravitational constant and $\\rho$ is the density distribution.  Gauss's law also stated using the divergence operator $\\mathbf{\\nabla}^t$:\n",
            "\\begin{equation}\n",
            "\\mathbf{\\nabla}^t \\; \\mathbf {g} =-4\\pi G\\rho \n",
            "\\end{equation}\n",
            "The magnetic field $\\mathbf{g}$ is obtained from its potential $u$ \n",
            "using the *Grad* operator $\\mathbf{\\nabla}$:\n",
            "\\begin{equation} \n",
            "\\mathbf{g} = -\n",
            "\\mathbf{\\nabla} U \n",
            "\\end{equation} \n",
            "with the gravity accelerations \n",
            "\\begin{equation}\\label{EQGRADRULE}\n",
            "g_0 =  - \\frac{\\partial U}{\\partial x_0}, g_1 =  - \\frac{\\partial U}{ \\partial x_1} \\mbox{ and } g_2 =  - \\frac{\\partial U}{\\partial x_2}, \n",
            "\\end{equation} \n",
            "If $\\rho$ in \\eqref{EQGAUSSLAW} is selected as a density anomaly, ie. as the deviation from a constant background\n",
            "density, then the Gauss's law \\eqref{EQGAUSSLAW} and scalar potential definition \\eqref{EQGRADRULE}\n",
            "defines a PDE for the potential $u$ which gradient gives the gravity field anomaly $\\mathbf{g}$\n",
            "due to the density anomaly $\\rho$. To model field observations we are interested in the \n",
            "vertical component $g_z$ of $\\mathbf{g}$.\n"
         ]
      },
      {
         "cell_type": "markdown",
         "metadata": {},
         "source": [
            "## The PDE template\n",
            "In `esys.escript` the PDE to be solved is defined trough a generic PDE template \n",
            "in $x_0x_1$-coordinates. \n",
            "which is provided through the `LinearSinglePDE` class. The\n",
            "template fits nicely with the problem of finding the gravity potential. We will in the $x_0=x$\n",
            "and $x_1=z$ coordinate system. \n",
            "\n",
            "First we write `LinearSinglePDE` template down in an abstract formulation: When $u$ is the unknown\n",
            "we define the so-called `flux` vector $\\mathbf{F}$ which is in essence the negative gradient of the solution \n",
            "times some matrix $\\mathbf{A}$ plus some vector $X$:\n",
            "\\begin{equation} \\label{EQFLUX}\n",
            "\\mathbf{F} = - \\mathbf{A} \\mathbf{\\nabla} u +\\mathbf{X}\n",
            "\\end{equation} \n",
            "Ignoring the matrix $\\mathbf{A}$ and setting $\\mathbf{X}=0$ \n",
            "this already looks like the scalar potential definition \\eqref{EQGRADRULE} when $u=U$ is the gravity potential and\n",
            "$\\mathbf{F}=\\mathbf{g}$ is the gravity acceleration. \n",
            "\n",
            "The flux vector $\\mathbf{F}$ needs to fulfill the conservation equation : \n",
            "\\begin{equation}\\label{EQCONSERVATION}\n",
            "\\mathbf{\\nabla}^t \\; \\mathbf{F} + D \\; u = Y \n",
            "\\end{equation}\n",
            "where $D$ is a scalar and $Y$ is the right hand side. We can easily identify Gauss's law \\eqref{EQGAUSSLAW}\n",
            "when we choose $D=0$ and $Y=- 4\\pi G\\rho$. \n",
            "\n",
            "Before we set this up in python we look at these equations in a bit more detail. For the 2D case the flux definition \\eqref{EQFLUX} reads as\n",
            "\\begin{equation}\\label{EQFLUX2}\n",
            "\\mathbf{F} = \n",
            "\\begin{bmatrix}\n",
            " F_0 \\\\\n",
            " F_1\n",
            "\\end{bmatrix}\n",
            "= - \n",
            "\\begin{bmatrix}\n",
            "A_{00} \\frac{\\partial u}{\\partial  x_0} & + & A_{01} \\frac{\\partial  u}{\\partial  x_1}\\\\\n",
            "A_{10} \\frac{\\partial  u}{\\partial  x_0} & + & A_{11} \\frac{\\partial  u}{\\partial  x_1}\n",
            "\\end{bmatrix}\n",
            "\\end{equation} \n",
            "Comparison with the grad rule \\eqref{EQGRADRULE} shows that we need to choose \n",
            "\\begin{equation}\n",
            "\\begin{bmatrix}\n",
            "A_{00} & A_{01} \\\\\n",
            "A_{10}  & A_{11} \n",
            "\\end{bmatrix}= \n",
            "\\begin{bmatrix}\n",
            "1 & 0  \\\\\n",
            "0  & 1 \n",
            "\\end{bmatrix}\n",
            "\\end{equation}\n",
            "To define the PDE we want to solve we need to define the coefficients in the PDE template\n",
            "through `LinearSinglePDE` instance. To get the solution $u$ (in fact a numerical approximation is calculated)\n",
            "is then as easy as calling the `getSolution` method. \n",
            "Before we can define the PDE we need to set up the region over which we would like to solve the PDE. In the\n",
            "terminology of `esys.escript`  this is called a `Domain`. "
         ]
      },
      {
         "cell_type": "markdown",
         "metadata": {},
         "source": [
            "## How to create a domain\n",
            "\n",
            "The first step to set-up the problem is to define the region over which the problem is solved. Here we use \n",
            "a rectangular grid of `NE0` elements in the horizonal $x_0$-direction and `NE1` elements in the vertical $x_1$-direction. \n",
            "We use a grid spacings of `h0` and `h1`. "
         ]
      },
      {
         "cell_type": "code",
         "execution_count": 1,
         "metadata": {},
         "outputs": [],
         "source": [
            "#%matplotlib notebook # activate for more interactive plotting"
         ]
      },
      {
         "cell_type": "code",
         "execution_count": 2,
         "metadata": {
            "tags": [
               "SOLUTION"
            ]
         },
         "outputs": [],
         "source": []
      },
      {
         "cell_type": "markdown",
         "metadata": {},
         "source": [
            "The domain extend is given as `L0=h0*NE0` and `L1=h1*NE1`:"
         ]
      },
      {
         "cell_type": "code",
         "execution_count": 3,
         "metadata": {
            "tags": [
               "SOLUTION"
            ]
         },
         "outputs": [],
         "source": []
      },
      {
         "cell_type": "markdown",
         "metadata": {},
         "source": [
            "We use the package `finley` which is part of the `esys.escript` distribution to set up the domain:\n",
            "\n",
            "Arguments:\n",
            "\n",
            "- `n0`: number of elements in horizontal $x_0$ direction\n",
            "- `n1`: number of elements in vertical $x_1$ direction\n",
            "- `l0`: length of domain in horizontal $x_0$ direction\n",
            "- `l1`: length of domain in horizontal $x_0$ direction\n"
         ]
      },
      {
         "cell_type": "code",
         "execution_count": 4,
         "metadata": {
            "tags": [
               "SOLUTION"
            ]
         },
         "outputs": [],
         "source": []
      },
      {
         "cell_type": "markdown",
         "metadata": {},
         "source": [
            "Check: `domain` is a `FinleyDomain`:"
         ]
      },
      {
         "cell_type": "code",
         "execution_count": 5,
         "metadata": {
            "tags": [
               "SOLUTION"
            ]
         },
         "outputs": [],
         "source": []
      },
      {
         "cell_type": "markdown",
         "metadata": {},
         "source": [
            "We can get the coordinate of the FEM nodes:"
         ]
      },
      {
         "cell_type": "code",
         "execution_count": 6,
         "metadata": {
            "tags": [
               "SOLUTION"
            ]
         },
         "outputs": [],
         "source": []
      },
      {
         "cell_type": "markdown",
         "metadata": {},
         "source": [
            "What type is this `x` object? Not a `numpy` array :-("
         ]
      },
      {
         "cell_type": "code",
         "execution_count": 7,
         "metadata": {
            "tags": [
               "SOLUTION"
            ]
         },
         "outputs": [],
         "source": []
      },
      {
         "cell_type": "markdown",
         "metadata": {},
         "source": [
            "But we can convert this into a `numpy` array. What shape does this have?"
         ]
      },
      {
         "cell_type": "code",
         "execution_count": 8,
         "metadata": {
            "tags": [
               "SOLUTION"
            ]
         },
         "outputs": [],
         "source": []
      },
      {
         "cell_type": "code",
         "execution_count": 9,
         "metadata": {
            "tags": [
               "SOLUTION"
            ]
         },
         "outputs": [],
         "source": []
      },
      {
         "cell_type": "markdown",
         "metadata": {},
         "source": [
            "The `matplotlib` plotting module can be used to show the FEM nodes"
         ]
      },
      {
         "cell_type": "code",
         "execution_count": 10,
         "metadata": {},
         "outputs": [],
         "source": [
            "import matplotlib.pyplot as plt"
         ]
      },
      {
         "cell_type": "code",
         "execution_count": 11,
         "metadata": {
            "tags": [
               "SOLUTION"
            ]
         },
         "outputs": [],
         "source": []
      },
      {
         "cell_type": "markdown",
         "metadata": {},
         "source": [
            "**Note** the following rules for `Rectangle`:\n",
            "- the axis are labeled `x0` and `x1`\n",
            "- the lower, left corner has the coordinates `(0.,0.)`.\n",
            "\n",
            "Use `Brick` from `esys.finley` for 3D domains.\n",
            "There are other domain packages available:\n",
            "- `esys.finley` - general FEM solver solver also support unstructured meshes and contact elements\n",
            "- `esys.ripley` - special solver for rectangular grids\n",
            "#- `esys.specley` - spectral element solver for wave problems (will discussed later)\n",
            "- `esys.dudley` - FEM solver for tetrahedral and triangular meshes\n",
            "\n"
         ]
      },
      {
         "cell_type": "markdown",
         "metadata": {},
         "source": [
            "## Setting up and solving a PDE"
         ]
      },
      {
         "cell_type": "markdown",
         "metadata": {},
         "source": [
            "The first step to set up a PDE is to create an instance of the `LinearSinglePDE` class.\n",
            "Here we call this instance `model` and attach it to the domain `domain` we have already created:"
         ]
      },
      {
         "cell_type": "code",
         "execution_count": 12,
         "metadata": {
            "tags": [
               "SOLUTION"
            ]
         },
         "outputs": [],
         "source": []
      },
      {
         "cell_type": "markdown",
         "metadata": {},
         "source": [
            "What type is the model `object` ?"
         ]
      },
      {
         "cell_type": "code",
         "execution_count": 13,
         "metadata": {
            "tags": [
               "SOLUTION"
            ]
         },
         "outputs": [],
         "source": []
      },
      {
         "cell_type": "markdown",
         "metadata": {},
         "source": [
            "Now we need to set the coefficients $\\mathbf{A}$ and $Y$. `esys-escript` will automatically assume that the other coefficients $\\mathbf{X}$ and $D$ are zero. \n",
            "\n",
            "Let's start with coefficient $\\mathbf{A}$. in 2D this is \n",
            "\\begin{equation}\n",
            "\\begin{bmatrix}\n",
            "A_{00} & A_{01} \\\\\n",
            "A_{10}  & A_{11} \n",
            "\\end{bmatrix}= \n",
            "\\begin{bmatrix}\n",
            "1 & 0  \\\\\n",
            "0  & 1 \n",
            "\\end{bmatrix}\n",
            "\\end{equation}\n",
            "We can use the `eye` function in `numpy` to create this matrix:"
         ]
      },
      {
         "cell_type": "code",
         "execution_count": 14,
         "metadata": {
            "tags": [
               "SOLUTION"
            ]
         },
         "outputs": [],
         "source": []
      },
      {
         "cell_type": "markdown",
         "metadata": {},
         "source": [
            "This matrix can directly be passed on to `model` as coefficient `A`. One can make this work for 2D and 3D at the same at the same time by using the dimension of the `domain`:"
         ]
      },
      {
         "cell_type": "code",
         "execution_count": 15,
         "metadata": {
            "tags": [
               "SOLUTION"
            ]
         },
         "outputs": [],
         "source": []
      },
      {
         "cell_type": "markdown",
         "metadata": {},
         "source": [
            "Next we define the PDE coefficient $Y$ which is given as\n",
            "\\begin{equation}\n",
            "Y=-4 \\pi G \\rho\n",
            "\\end{equation}\n",
            "This requires us \n",
            "to define the density $\\rho$ in form of an anomaly.\n",
            "\n",
            "As an example we assume that the density anomaly is a circle centered\n",
            "at $\\mathbf{c}=(c_0, c_1)=(\\frac{L0}{2}, \\frac{L1}{3})$ with radius $R_C=100$m. \n",
            "\n",
            "To define $\\rho$ we first need to calculate the distance of any point $\\mathbf{x}$ in the \n",
            "domain from the center $\\mathbf{c}$. Then $\\rho$ is set to $\\rho_0=1000 \\frac{kg}{m^3}$ \n",
            "at those points which distance is smaller than $R_C$. For the others  $\\rho$ is set to zero.\n",
            "\n",
            "Just to be sure we get the coordinates of the FEM nodes again: "
         ]
      },
      {
         "cell_type": "code",
         "execution_count": 16,
         "metadata": {
            "tags": [
               "SOLUTION"
            ]
         },
         "outputs": [],
         "source": []
      },
      {
         "cell_type": "markdown",
         "metadata": {},
         "source": [
            "`x` is a `Data` object which is giving locations in the domain. So `x` has two components: "
         ]
      },
      {
         "cell_type": "code",
         "execution_count": 17,
         "metadata": {
            "tags": [
               "SOLUTION"
            ]
         },
         "outputs": [],
         "source": []
      },
      {
         "cell_type": "markdown",
         "metadata": {},
         "source": [
            "**IMPORTANT NOTE**: The number of FEM nodes is not shown. "
         ]
      },
      {
         "cell_type": "markdown",
         "metadata": {},
         "source": [
            "Component $0$ of `x` can be accessed by slicing:"
         ]
      },
      {
         "cell_type": "code",
         "execution_count": 18,
         "metadata": {
            "tags": [
               "SOLUTION"
            ]
         },
         "outputs": [],
         "source": []
      },
      {
         "cell_type": "markdown",
         "metadata": {},
         "source": [
            "To get more information use the `str` function:"
         ]
      },
      {
         "cell_type": "code",
         "execution_count": 19,
         "metadata": {
            "tags": [
               "SOLUTION"
            ]
         },
         "outputs": [],
         "source": []
      },
      {
         "cell_type": "markdown",
         "metadata": {},
         "source": [
            "The statement `inf=0` gives the smallest value - in our case of the $x_1$ coordinate. \n",
            "The maximal value is shown as `sup=5000` which gives the value of `L0`. `data points` gives the number of FEM nodes."
         ]
      },
      {
         "cell_type": "markdown",
         "metadata": {},
         "source": [
            "The same for the  second component:"
         ]
      },
      {
         "cell_type": "code",
         "execution_count": 20,
         "metadata": {
            "tags": [
               "SOLUTION"
            ]
         },
         "outputs": [],
         "source": []
      },
      {
         "cell_type": "markdown",
         "metadata": {},
         "source": [
            "Next step is to calculate the distance of the FEM nodes to the point $\\mathbf{c}$\n",
            "This distance is given by \n",
            "\\begin{equation}\\label{eq:distance}\n",
            "d=\\sqrt{ (x_0-c_0)^2 + (x_1-c_1)^2}\n",
            "\\end{equation}"
         ]
      },
      {
         "cell_type": "code",
         "execution_count": 21,
         "metadata": {},
         "outputs": [],
         "source": [
            "c=[L0/2., L1/3.]\n",
            "RC=3*max(h0,h1) "
         ]
      },
      {
         "cell_type": "code",
         "execution_count": 22,
         "metadata": {
            "tags": [
               "SOLUTION"
            ]
         },
         "outputs": [],
         "source": []
      },
      {
         "cell_type": "markdown",
         "metadata": {},
         "source": [
            "What is `d`?"
         ]
      },
      {
         "cell_type": "code",
         "execution_count": 23,
         "metadata": {
            "tags": [
               "SOLUTION"
            ]
         },
         "outputs": [],
         "source": []
      },
      {
         "cell_type": "markdown",
         "metadata": {},
         "source": [
            "`d` is also a `Data` object as it has been  derived from \n",
            "the `Data` object `x`. It can be seen as a function of the location `x`. \n",
            "Let's get some info on the values:"
         ]
      },
      {
         "cell_type": "code",
         "execution_count": 24,
         "metadata": {
            "tags": [
               "SOLUTION"
            ]
         },
         "outputs": [],
         "source": []
      },
      {
         "cell_type": "markdown",
         "metadata": {},
         "source": [
            "There is a more compact form to calculate `d` using the `length` function:"
         ]
      },
      {
         "cell_type": "code",
         "execution_count": 25,
         "metadata": {
            "tags": [
               "SOLUTION"
            ]
         },
         "outputs": [],
         "source": []
      },
      {
         "cell_type": "markdown",
         "metadata": {},
         "source": [
            "Should be the same as before!?"
         ]
      },
      {
         "cell_type": "code",
         "execution_count": 26,
         "metadata": {
            "tags": [
               "SOLUTION"
            ]
         },
         "outputs": [],
         "source": []
      },
      {
         "cell_type": "markdown",
         "metadata": {},
         "source": [
            "We want have the anomaly distribution `rho` to be `rho0` where the distance `d` is smaller than `RC` \n",
            "(or `d-RC<0`) and zero otherwise. We use the `whereNegative` function which returns value `1` where its argument is negative and value `0` elsewhere:  "
         ]
      },
      {
         "cell_type": "code",
         "execution_count": 27,
         "metadata": {
            "tags": [
               "SOLUTION"
            ]
         },
         "outputs": [],
         "source": []
      },
      {
         "cell_type": "markdown",
         "metadata": {},
         "source": [
            "Would be interesting to take a quick look at the result.\n",
            "Again we first need to convert the `Data` objects into `numpy` arrays. This time we \n",
            "need the values `oz` and the location of the values - in this case the FEM nodes:"
         ]
      },
      {
         "cell_type": "code",
         "execution_count": 28,
         "metadata": {
            "tags": [
               "SOLUTION"
            ]
         },
         "outputs": [],
         "source": []
      },
      {
         "cell_type": "code",
         "execution_count": 29,
         "metadata": {},
         "outputs": [
            {
               "data": {
                  "text/plain": [
                     "<matplotlib.colorbar.Colorbar at 0x7f4fbeb5e2b0>"
                  ]
               },
               "execution_count": 29,
               "metadata": {},
               "output_type": "execute_result"
            },
            {
               "data": {
                  "image/png": "[encoded data removed]",
                  "text/plain": [
                     "<Figure size 432x288 with 2 Axes>"
                  ]
               },
               "metadata": {
                  "needs_background": "light"
               },
               "output_type": "display_data"
            }
         ],
         "source": [
            "plt.figure()\n",
            "contour=plt.tricontourf(x_np[0], x_np[1], oz_np[0], 15)\n",
            "plt.xlabel('$x_0$ [m]')\n",
            "plt.ylabel('$x_1$ [m]')\n",
            "plt.colorbar(contour)"
         ]
      },
      {
         "cell_type": "code",
         "execution_count": 30,
         "metadata": {
            "tags": [
               "SOLUTION"
            ]
         },
         "outputs": [],
         "source": []
      },
      {
         "cell_type": "markdown",
         "metadata": {},
         "source": [
            "Now we can set the right hand side `Y` of the PDE `model`:"
         ]
      },
      {
         "cell_type": "code",
         "execution_count": 31,
         "metadata": {},
         "outputs": [],
         "source": [
            "G=6.67e-11  # m^3/kg/sec^2 gravity constant"
         ]
      },
      {
         "cell_type": "code",
         "execution_count": 32,
         "metadata": {
            "tags": [
               "SOLUTION"
            ]
         },
         "outputs": [],
         "source": []
      },
      {
         "cell_type": "markdown",
         "metadata": {},
         "source": [
            "Now we need to talk about boundary conditions:\n",
            "\n",
            "We want the potential to be zero at the top of the domain, this is $x_1=L1$. This is enforced in form of \n",
            "Dirichlet-type boundary condition. \n",
            "\n",
            "To tell `LinearSinglePDE` where we want to have the solution to be set to the value `0` \n",
            "we need to set a mask `q` which marks the locations on the surface where we want the solution $u$ to be zero:\n",
            "\\begin{equation}\\label{EQQ}\n",
            "q(\\mathbf{x}) = \\begin{cases}\n",
            ">0  & \\mbox{ set } u(\\mathbf{x})=0 \\\\\n",
            "=0  & \\mbox{ otherwise } \n",
            "\\end{cases} \n",
            "\\end{equation}\n",
            "We use the `whereZero` function which works similar to the `whereNegative` function we used before \n",
            "but it returns the value \n",
            "`1` at location where the argument has the value `0` Otherwise the value `0` is used:"
         ]
      },
      {
         "cell_type": "code",
         "execution_count": 33,
         "metadata": {
            "tags": [
               "SOLUTION"
            ]
         },
         "outputs": [],
         "source": []
      },
      {
         "cell_type": "markdown",
         "metadata": {},
         "source": [
            "Worthwhile to have a quick look at `q_top` (a bit difficult to see for finer grids)"
         ]
      },
      {
         "cell_type": "code",
         "execution_count": 34,
         "metadata": {},
         "outputs": [
            {
               "data": {
                  "text/plain": [
                     "<matplotlib.colorbar.Colorbar at 0x7f4fbeaaca60>"
                  ]
               },
               "execution_count": 34,
               "metadata": {},
               "output_type": "execute_result"
            },
            {
               "data": {
                  "image/png": "[encoded data removed]",
                  "text/plain": [
                     "<Figure size 432x288 with 2 Axes>"
                  ]
               },
               "metadata": {
                  "needs_background": "light"
               },
               "output_type": "display_data"
            }
         ],
         "source": [
            "plt.figure()\n",
            "contour=plt.tricontourf(x_np[0], x_np[1], convertToNumpy(q_top)[0], 15)\n",
            "plt.xlabel('$x_0$ [m]')\n",
            "plt.ylabel('$x_1$ [m]')\n",
            "plt.colorbar(contour)"
         ]
      },
      {
         "cell_type": "markdown",
         "metadata": {},
         "source": [
            "Hand this `q_top` to the `model` to define the locations of Dirichlet-type boundary conditions.\n",
            "The value for the solution is assumed to be set to zero by default (which can be changed if required.)"
         ]
      },
      {
         "cell_type": "code",
         "execution_count": 35,
         "metadata": {
            "tags": [
               "SOLUTION"
            ]
         },
         "outputs": [],
         "source": []
      },
      {
         "cell_type": "markdown",
         "metadata": {},
         "source": [
            "Now we are are ready to get the solution of the PDE:"
         ]
      },
      {
         "cell_type": "code",
         "execution_count": 36,
         "metadata": {
            "tags": [
               "SOLUTION"
            ]
         },
         "outputs": [],
         "source": []
      },
      {
         "cell_type": "markdown",
         "metadata": {},
         "source": [
            "Let's lake a look at the solution:"
         ]
      },
      {
         "cell_type": "code",
         "execution_count": 37,
         "metadata": {},
         "outputs": [
            {
               "data": {
                  "text/plain": [
                     "(<esys.escriptcore.escriptcpp.Data at 0x7f4fbeb2e5f0>,\n",
                     " 'Summary: inf=-0.756395 sup=0 data points=1326')"
                  ]
               },
               "execution_count": 37,
               "metadata": {},
               "output_type": "execute_result"
            }
         ],
         "source": [
            "u, str(u)"
         ]
      },
      {
         "cell_type": "markdown",
         "metadata": {},
         "source": [
            "and then plotting:"
         ]
      },
      {
         "cell_type": "code",
         "execution_count": 38,
         "metadata": {},
         "outputs": [
            {
               "data": {
                  "text/plain": [
                     "<matplotlib.colorbar.Colorbar at 0x7f4fbe9f1670>"
                  ]
               },
               "execution_count": 38,
               "metadata": {},
               "output_type": "execute_result"
            },
            {
               "data": {
                  "image/png": "[encoded data removed]",
                  "text/plain": [
                     "<Figure size 432x288 with 2 Axes>"
                  ]
               },
               "metadata": {
                  "needs_background": "light"
               },
               "output_type": "display_data"
            }
         ],
         "source": [
            "plt.figure()\n",
            "contour=plt.tricontourf(x_np[0], x_np[1], convertToNumpy(u)[0], 15)\n",
            "plt.xlabel('$x_0$ [m]')\n",
            "plt.ylabel('$x_1$ [m]')\n",
            "plt.colorbar(contour)"
         ]
      },
      {
         "cell_type": "markdown",
         "metadata": {},
         "source": [
            "**Note**\n",
            "\n",
            "The `getSolution` call involves the solution of system of linear equation. The dimension \n",
            "is the number of FEM nodes. For large grids and for 3D problems this solve can take some time."
         ]
      },
      {
         "cell_type": "markdown",
         "metadata": {},
         "source": [
            "*Question*: What boundary conditions are applied on the other three faces?\n",
            "By default the so called Neumann-type boundary conditions\n",
            "\\begin{equation}\\label{eq:weakBC}\n",
            "\\mathbf{F}^T \\mathbf{n} = F_0 n_0 + F_1 n_1 = 0\n",
            "\\end{equation}\n",
            "with outer normal field $\\mathbf{n}=(n_0, n_1)$ are assumed.\n",
            "\n",
            "It is $\\mathbf{n}=(-1,0)$ on the left face\n",
            "\\begin{equation}\\label{eq:weakBC1}\n",
            "\\mathbf{F}^T \\mathbf{n} = - F_0= \\frac{\\partial u}{\\partial x_0} = -g_0 = 0\n",
            "\\end{equation}\n",
            "On the right face we have $\\mathbf{n}=(1,0)$\n",
            "\\begin{equation}\\label{eq:weakBC2}\n",
            "\\mathbf{F}^T \\mathbf{n} = F_0= -\\frac{\\partial u}{\\partial x_0} =  g_0 = 0\n",
            "\\end{equation}\n",
            "and on the bottom surface it is $\\mathbf{n}=(0,-1)$:\n",
            "\\begin{equation}\\label{eq:weakBC3}\n",
            "\\mathbf{F}^T \\mathbf{n} = - F_1= \\frac{\\partial u}{\\partial x_1} =  -g_1 = 0\n",
            "\\end{equation}\n",
            "In summary: normal gravity field component are set to zero if no Dirichlet-type boundary condition is applied."
         ]
      },
      {
         "cell_type": "markdown",
         "metadata": {},
         "source": [
            "## Gravity Field\n",
            "\n",
            "We are interested in the gravity field $\\mathbf{g}$ as negative gradient \n",
            "of the potential: \n",
            "\\begin{equation} \n",
            "\\mathbf{g} = -\n",
            "\\mathbf{\\nabla} U \n",
            "\\end{equation} \n",
            "The `grad` function returns the gradient of the argument. The negative of the gradient \n",
            "gives us the gravitational acceleration `g`:"
         ]
      },
      {
         "cell_type": "code",
         "execution_count": 39,
         "metadata": {
            "tags": [
               "SOLUTION"
            ]
         },
         "outputs": [],
         "source": []
      },
      {
         "cell_type": "markdown",
         "metadata": {},
         "source": [
            "The gravity field is a vector:"
         ]
      },
      {
         "cell_type": "code",
         "execution_count": 40,
         "metadata": {
            "tags": [
               "SOLUTION"
            ]
         },
         "outputs": [],
         "source": []
      },
      {
         "cell_type": "markdown",
         "metadata": {},
         "source": [
            "These are the values:"
         ]
      },
      {
         "cell_type": "code",
         "execution_count": 41,
         "metadata": {
            "tags": [
               "SOLUTION"
            ]
         },
         "outputs": [],
         "source": []
      },
      {
         "cell_type": "code",
         "execution_count": 42,
         "metadata": {
            "tags": [
               "SOLUTION"
            ]
         },
         "outputs": [],
         "source": []
      },
      {
         "cell_type": "markdown",
         "metadata": {},
         "source": [
            "You will realize that the number data points of `g` is different form the number data points of the solution - for instance. The reason for this that the gradient is calculate not on the FEM nodes but numerical integration points in the element (in case of rectangular element by default four numerical integration points per element are used). `escript` provides an mechanism to retrieve information for a `Data` object such as `u` or `g` \n",
            "on where the values are stored. The property is called `FunctionSpace` (sorry for the cumbersome name). \n",
            "\n",
            "We can try this for `g`, `u` and `x`:"
         ]
      },
      {
         "cell_type": "code",
         "execution_count": 43,
         "metadata": {
            "tags": [
               "SOLUTION"
            ]
         },
         "outputs": [],
         "source": []
      },
      {
         "cell_type": "code",
         "execution_count": 44,
         "metadata": {
            "tags": [
               "SOLUTION"
            ]
         },
         "outputs": [],
         "source": []
      },
      {
         "cell_type": "code",
         "execution_count": 45,
         "metadata": {
            "tags": [
               "SOLUTION"
            ]
         },
         "outputs": [],
         "source": []
      },
      {
         "cell_type": "markdown",
         "metadata": {},
         "source": [
            "This a list of  location attributes are available:\n",
            "\n",
            "- `ContinuousFunction(domain)`: FEM nodes\n",
            "- `Solution(domain)`: solution of a PDE, typically also on FEM nodes \n",
            "- `Function(domain)` : on integration points per element\n",
            "- `ReducedFunction(domain)`: on element centers\n",
            "- `DiracDeltaFunction(domain)`: point sources and sinks which we will use later"
         ]
      },
      {
         "cell_type": "markdown",
         "metadata": {},
         "source": [
            "The `FunctionSpace` attribute allows us to compare if the values of two `Data` objects are stored on the same locations:"
         ]
      },
      {
         "cell_type": "code",
         "execution_count": 46,
         "metadata": {
            "tags": [
               "SOLUTION"
            ]
         },
         "outputs": [],
         "source": []
      },
      {
         "cell_type": "code",
         "execution_count": 47,
         "metadata": {
            "tags": [
               "SOLUTION"
            ]
         },
         "outputs": [],
         "source": []
      },
      {
         "cell_type": "markdown",
         "metadata": {},
         "source": [
            "or if values of a `Data` objects are stored specific locations:"
         ]
      },
      {
         "cell_type": "code",
         "execution_count": 48,
         "metadata": {
            "tags": [
               "SOLUTION"
            ]
         },
         "outputs": [],
         "source": []
      },
      {
         "cell_type": "code",
         "execution_count": 49,
         "metadata": {
            "tags": [
               "SOLUTION"
            ]
         },
         "outputs": [],
         "source": []
      },
      {
         "cell_type": "markdown",
         "metadata": {},
         "source": [
            "We can also retrieve the locations of where values in a data object are stored: "
         ]
      },
      {
         "cell_type": "code",
         "execution_count": 50,
         "metadata": {
            "tags": [
               "SOLUTION"
            ]
         },
         "outputs": [],
         "source": []
      },
      {
         "cell_type": "code",
         "execution_count": 51,
         "metadata": {
            "tags": [
               "SOLUTION"
            ]
         },
         "outputs": [],
         "source": []
      },
      {
         "cell_type": "markdown",
         "metadata": {},
         "source": [
            "We can plot the locations used for `Solution(domain)` and `ReducedFunction(domain)`. First the values `Data` objects to a `numpy` arrays:"
         ]
      },
      {
         "cell_type": "code",
         "execution_count": 52,
         "metadata": {
            "tags": [
               "SOLUTION"
            ]
         },
         "outputs": [],
         "source": []
      },
      {
         "cell_type": "markdown",
         "metadata": {},
         "source": [
            "And then we can plot the locations as scatter plot:"
         ]
      },
      {
         "cell_type": "code",
         "execution_count": 53,
         "metadata": {},
         "outputs": [
            {
               "data": {
                  "text/plain": [
                     "<matplotlib.legend.Legend at 0x7f4fbe966310>"
                  ]
               },
               "execution_count": 53,
               "metadata": {},
               "output_type": "execute_result"
            },
            {
               "data": {
                  "image/png": "[encoded data removed]",
                  "text/plain": [
                     "<Figure size 432x288 with 1 Axes>"
                  ]
               },
               "metadata": {
                  "needs_background": "light"
               },
               "output_type": "display_data"
            }
         ],
         "source": [
            "plt.figure()\n",
            "plt.scatter(X_np[0,:], X_np[1,:], s=1, label=\"Reduced\")\n",
            "plt.scatter(x_np[0,:], x_np[1,:], s=1, label=\"Solution\")\n",
            "plt.xlabel('$x_0$ [m]')\n",
            "plt.ylabel('$x_1$ [m]')\n",
            "plt.legend()"
         ]
      },
      {
         "cell_type": "markdown",
         "metadata": {},
         "source": [
            "We can also enforce to use specific locations = `FunctionSpace` for storing values. \n",
            "For instance we can evaluate the gradient at the element centers = `ReducedFunction(domain)`:"
         ]
      },
      {
         "cell_type": "code",
         "execution_count": 54,
         "metadata": {
            "tags": [
               "SOLUTION"
            ]
         },
         "outputs": [],
         "source": []
      },
      {
         "cell_type": "markdown",
         "metadata": {},
         "source": [
            "We can easily plot this gravity field:"
         ]
      },
      {
         "cell_type": "code",
         "execution_count": 55,
         "metadata": {
            "tags": [
               "SOLUTION"
            ]
         },
         "outputs": [],
         "source": []
      },
      {
         "cell_type": "code",
         "execution_count": 56,
         "metadata": {},
         "outputs": [
            {
               "data": {
                  "text/plain": [
                     "<matplotlib.quiver.Quiver at 0x7f4fbe8e1c40>"
                  ]
               },
               "execution_count": 56,
               "metadata": {},
               "output_type": "execute_result"
            },
            {
               "data": {
                  "image/png": "[encoded data removed]",
                  "text/plain": [
                     "<Figure size 432x288 with 1 Axes>"
                  ]
               },
               "metadata": {
                  "needs_background": "light"
               },
               "output_type": "display_data"
            }
         ],
         "source": [
            "plt.figure()\n",
            "plt.xlabel('$x_0$ [m]')\n",
            "plt.ylabel('$x_1$ [m]')\n",
            "plt.quiver(X_np[0,::3], X_np[1,::3], g_np[0, ::3], g_np[1,::3])"
         ]
      },
      {
         "cell_type": "markdown",
         "metadata": {},
         "source": [
            "**Note**:\n",
            "For larger meshes with millions of element and also for 3D domains `matplotlib` is not really suitbale. \n",
            "Firstly its is just too slow but it also does not provide appropriate functionalities to deal with these kind of data. Alternative packages are \n",
            "- [mayavi](https://docs.enthought.com/mayavi/mayavi/)\n",
            "- [paraview](https://www.paraview.org/)\n",
            "- [visit](https://wci.llnl.gov/simulation/computer-codes/visit/)\n",
            "\n",
            "Although these packages can also be used from python it is more appropriate to use them separately trough their respective GUIs. To hand data to them `Data` objects are written to external files preferable in the `VTK` format. \n",
            "This can be done using the `saveVTK` function from the `esys.weipa` module, see the users guide for details."
         ]
      },
      {
         "cell_type": "markdown",
         "metadata": {},
         "source": [
            "## Value Picking\n",
            "\n",
            "Visualization of the distribution is often not sufficient for instance if one wants to apply a more quantitative \n",
            "analysis of the result; for instance comparison with a observations. There is a mechanism to pick values of `Data` objects at specific locations. "
         ]
      },
      {
         "cell_type": "markdown",
         "metadata": {},
         "source": [
            "##### Single Value\n",
            "Here we want to obtain the vertical gravity at a point at a height $h=500$ m above the center of the circular anomaly located at $c$. The location of this point $\\mathbf{p}$ is then\n",
            "\\begin{equation}\\label{eq:P}\n",
            "\\mathbf{p}=(c_0, c_1+300)\n",
            "\\end{equation}\n",
            "We define a so-called `Locator` that provides a mechanism to extract the value at this point $\\mathbf{p}$."
         ]
      },
      {
         "cell_type": "code",
         "execution_count": 57,
         "metadata": {},
         "outputs": [],
         "source": [
            "from esys.escript.pdetools import Locator\n",
            "p=[c[0], c[1]+300]"
         ]
      },
      {
         "cell_type": "markdown",
         "metadata": {},
         "source": [
            "The `Locator` is build for the use at all `Data` objects with a specific `FunctionSpace` attribute; in our case\n",
            "that should be the same as for `gz` = `g[1]`:"
         ]
      },
      {
         "cell_type": "code",
         "execution_count": 58,
         "metadata": {
            "tags": [
               "SOLUTION"
            ]
         },
         "outputs": [],
         "source": []
      },
      {
         "cell_type": "markdown",
         "metadata": {},
         "source": [
            "Now we can easily get the value of `gz` at `p`:"
         ]
      },
      {
         "cell_type": "code",
         "execution_count": 59,
         "metadata": {
            "tags": [
               "SOLUTION"
            ]
         },
         "outputs": [],
         "source": []
      },
      {
         "cell_type": "code",
         "execution_count": 60,
         "metadata": {
            "tags": [
               "SOLUTION"
            ]
         },
         "outputs": [],
         "source": []
      },
      {
         "cell_type": "markdown",
         "metadata": {},
         "source": [
            "Better to express this in mGal:"
         ]
      },
      {
         "cell_type": "code",
         "execution_count": 61,
         "metadata": {},
         "outputs": [],
         "source": [
            "mGal=100000"
         ]
      },
      {
         "cell_type": "code",
         "execution_count": 62,
         "metadata": {
            "tags": [
               "SOLUTION"
            ]
         },
         "outputs": [],
         "source": []
      },
      {
         "cell_type": "markdown",
         "metadata": {},
         "source": [
            "The `Locator` actually is not always using the specified point but picks the location \n",
            "of the `FunctionSpace.getX()` nearest to the requested location. We can check `p` and the \n",
            "location actually being used using the `getX` method:"
         ]
      },
      {
         "cell_type": "code",
         "execution_count": 63,
         "metadata": {
            "tags": [
               "SOLUTION"
            ]
         },
         "outputs": [],
         "source": []
      },
      {
         "cell_type": "markdown",
         "metadata": {},
         "source": [
            "The `point_locator` can be reused to pick values from other `Data` objects as long as they can interpolated\n",
            "to `ReducedFunction`:"
         ]
      },
      {
         "cell_type": "code",
         "execution_count": 64,
         "metadata": {
            "tags": [
               "SOLUTION"
            ]
         },
         "outputs": [],
         "source": []
      },
      {
         "cell_type": "code",
         "execution_count": 65,
         "metadata": {
            "tags": [
               "SOLUTION"
            ]
         },
         "outputs": [],
         "source": []
      },
      {
         "cell_type": "markdown",
         "metadata": {},
         "source": [
            "### Along a line of points (transect)\n",
            "One can also use the `Locator` to pick data for a set of points for instance along a horizontal transect.\n",
            "First we define the $x_0$-coordinates of the points we would like to use to be aligned with element centers:"
         ]
      },
      {
         "cell_type": "code",
         "execution_count": 66,
         "metadata": {
            "tags": [
               "SOLUTION"
            ]
         },
         "outputs": [],
         "source": []
      },
      {
         "cell_type": "markdown",
         "metadata": {},
         "source": [
            "We then add the $x_1$ coordinate as $0.75 \\cdot L1 $ to define the locations in the transect in the 2D domain:"
         ]
      },
      {
         "cell_type": "code",
         "execution_count": 67,
         "metadata": {},
         "outputs": [],
         "source": [
            "H_transect=L1*0.75"
         ]
      },
      {
         "cell_type": "code",
         "execution_count": 68,
         "metadata": {
            "tags": [
               "SOLUTION"
            ]
         },
         "outputs": [],
         "source": []
      },
      {
         "cell_type": "markdown",
         "metadata": {},
         "source": [
            "Now we can create new `Locator` named `transect_locator` using the points `x_transect`:"
         ]
      },
      {
         "cell_type": "code",
         "execution_count": 69,
         "metadata": {
            "tags": [
               "SOLUTION"
            ]
         },
         "outputs": [],
         "source": []
      },
      {
         "cell_type": "markdown",
         "metadata": {},
         "source": [
            "Then the vertical gravity across the transect can be picked from `gz`. "
         ]
      },
      {
         "cell_type": "code",
         "execution_count": 70,
         "metadata": {
            "tags": [
               "SOLUTION"
            ]
         },
         "outputs": [],
         "source": []
      },
      {
         "cell_type": "markdown",
         "metadata": {},
         "source": [
            "We also get the true $x_0$ coordinates \n",
            "of the points in the transect:"
         ]
      },
      {
         "cell_type": "code",
         "execution_count": 71,
         "metadata": {
            "tags": [
               "SOLUTION"
            ]
         },
         "outputs": [],
         "source": []
      },
      {
         "cell_type": "code",
         "execution_count": 72,
         "metadata": {
            "tags": [
               "SOLUTION"
            ]
         },
         "outputs": [],
         "source": []
      },
      {
         "cell_type": "markdown",
         "metadata": {},
         "source": [
            "And finally we can plot the vertical gravity over the transect:"
         ]
      },
      {
         "cell_type": "code",
         "execution_count": 73,
         "metadata": {},
         "outputs": [
            {
               "data": {
                  "text/plain": [
                     "Text(0.5, 1.0, 'gravity anomaly over transect @ height 3750 m')"
                  ]
               },
               "execution_count": 73,
               "metadata": {},
               "output_type": "execute_result"
            },
            {
               "data": {
                  "image/png": "[encoded data removed]",
                  "text/plain": [
                     "<Figure size 432x288 with 1 Axes>"
                  ]
               },
               "metadata": {
                  "needs_background": "light"
               },
               "output_type": "display_data"
            }
         ],
         "source": [
            "plt.figure()\n",
            "plt.plot(x0_transect, gz_transect)\n",
            "plt.xlabel('offset [m]')\n",
            "plt.ylabel('$g_z$ [mGal]')\n",
            "plt.title(\"gravity anomaly over transect @ height %g m\"%(transect_locator.getX()[0][1]))\n"
         ]
      },
      {
         "cell_type": "code",
         "execution_count": null,
         "metadata": {},
         "outputs": [],
         "source": []
      }
   ],
   "metadata": {
      "celltoolbar": "Tags",
      "kernelspec": {
         "display_name": "Python 3",
         "language": "python",
         "name": "python3"
      },
      "language_info": {
         "codemirror_mode": {
            "name": "ipython",
            "version": 3
         },
         "file_extension": ".py",
         "mimetype": "text/x-python",
         "name": "python",
         "nbconvert_exporter": "python",
         "pygments_lexer": "ipython3",
         "version": "3.8.10"
      },
      "latex_envs": {
         "LaTeX_envs_menu_present": true,
         "autoclose": false,
         "autocomplete": false,
         "bibliofile": "biblio.bib",
         "cite_by": "apalike",
         "current_citInitial": 1,
         "eqLabelWithNumbers": true,
         "eqNumInitial": 1,
         "hotkeys": {
            "equation": "Ctrl-E",
            "itemize": "Ctrl-I"
         },
         "labels_anchors": false,
         "latex_user_defs": false,
         "report_style_numbering": false,
         "user_envs_cfg": false
      },
      "toc": {
         "base_numbering": 1,
         "nav_menu": {},
         "number_sections": true,
         "sideBar": false,
         "skip_h1_title": false,
         "title_cell": "Table of Contents",
         "title_sidebar": "Contents",
         "toc_cell": true,
         "toc_position": {},
         "toc_section_display": false,
         "toc_window_display": false
      },
      "varInspector": {
         "cols": {
            "lenName": 16,
            "lenType": 16,
            "lenVar": 40
         },
         "kernels_config": {
            "python": {
               "delete_cmd_postfix": "",
               "delete_cmd_prefix": "del ",
               "library": "var_list.py",
               "varRefreshCmd": "print(var_dic_list())"
            },
            "r": {
               "delete_cmd_postfix": ") ",
               "delete_cmd_prefix": "rm(",
               "library": "var_list.r",
               "varRefreshCmd": "cat(var_dic_list()) "
            }
         },
         "position": {
            "height": "752.85px",
            "left": "1550px",
            "right": "20px",
            "top": "120px",
            "width": "350px"
         },
         "types_to_exclude": [
            "module",
            "function",
            "builtin_function_or_method",
            "instance",
            "_Feature"
         ],
         "window_display": false
      }
   },
   "nbformat": 4,
   "nbformat_minor": 2
}