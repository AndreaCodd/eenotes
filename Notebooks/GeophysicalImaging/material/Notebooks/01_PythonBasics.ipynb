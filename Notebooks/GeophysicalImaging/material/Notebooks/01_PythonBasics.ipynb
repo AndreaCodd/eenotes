{
   "cells": [
      {
         "cell_type": "markdown",
         "metadata": {
            "toc": true
         },
         "source": [
            "<h1>Python Basics<span class=\"tocSkip\"></span></h1>\n",
            "<div class=\"toc\"><ul class=\"toc-item\"><li><span><a href=\"#Useful-Links\" data-toc-modified-id=\"Useful-Links-1\"><span class=\"toc-item-num\">1&nbsp;&nbsp;</span>Useful Links</a></span></li><li><span><a href=\"#Data-Structures\" data-toc-modified-id=\"Data-Structures-2\"><span class=\"toc-item-num\">2&nbsp;&nbsp;</span>Data Structures</a></span><ul class=\"toc-item\"><li><span><a href=\"#Python-as-a-Calculator\" data-toc-modified-id=\"Python-as-a-Calculator-2.1\"><span class=\"toc-item-num\">2.1&nbsp;&nbsp;</span>Python as a Calculator</a></span></li><li><span><a href=\"#Strings\" data-toc-modified-id=\"Strings-2.2\"><span class=\"toc-item-num\">2.2&nbsp;&nbsp;</span>Strings</a></span></li><li><span><a href=\"#Boolean\" data-toc-modified-id=\"Boolean-2.3\"><span class=\"toc-item-num\">2.3&nbsp;&nbsp;</span>Boolean</a></span></li><li><span><a href=\"#Lists\" data-toc-modified-id=\"Lists-2.4\"><span class=\"toc-item-num\">2.4&nbsp;&nbsp;</span>Lists</a></span></li><li><span><a href=\"#Tuples\" data-toc-modified-id=\"Tuples-2.5\"><span class=\"toc-item-num\">2.5&nbsp;&nbsp;</span>Tuples</a></span></li><li><span><a href=\"#Dictionaries\" data-toc-modified-id=\"Dictionaries-2.6\"><span class=\"toc-item-num\">2.6&nbsp;&nbsp;</span>Dictionaries</a></span></li></ul></li><li><span><a href=\"#Flow-Control\" data-toc-modified-id=\"Flow-Control-3\"><span class=\"toc-item-num\">3&nbsp;&nbsp;</span>Flow Control</a></span><ul class=\"toc-item\"><li><span><a href=\"#For-loops\" data-toc-modified-id=\"For-loops-3.1\"><span class=\"toc-item-num\">3.1&nbsp;&nbsp;</span>For loops</a></span></li><li><span><a href=\"#While-loops\" data-toc-modified-id=\"While-loops-3.2\"><span class=\"toc-item-num\">3.2&nbsp;&nbsp;</span>While loops</a></span></li><li><span><a href=\"#Functions\" data-toc-modified-id=\"Functions-3.3\"><span class=\"toc-item-num\">3.3&nbsp;&nbsp;</span>Functions</a></span></li><li><span><a href=\"#Branching\" data-toc-modified-id=\"Branching-3.4\"><span class=\"toc-item-num\">3.4&nbsp;&nbsp;</span>Branching</a></span></li></ul></li><li><span><a href=\"#More-on-printing\" data-toc-modified-id=\"More-on-printing-4\"><span class=\"toc-item-num\">4&nbsp;&nbsp;</span>More on printing</a></span></li><li><span><a href=\"#Modules\" data-toc-modified-id=\"Modules-5\"><span class=\"toc-item-num\">5&nbsp;&nbsp;</span>Modules</a></span></li><li><span><a href=\"#Classes\" data-toc-modified-id=\"Classes-6\"><span class=\"toc-item-num\">6&nbsp;&nbsp;</span>Classes</a></span></li></ul></div>"
         ]
      },
      {
         "cell_type": "markdown",
         "metadata": {},
         "source": [
            "by Lutz Gross, The University of Queensland, Australia\n",
            "<a href=\"mailto:l.gross@uq.edu.au\">l.gross@uq.edu.au</a>\n",
            "<a rel=\"license\" href=\"http://creativecommons.org/licenses/by-sa/4.0/\"><img alt=\"Creative Commons License\" style=\"border-width:0\" src=\"https://i.creativecommons.org/l/by-sa/4.0/88x31.png\" /></a><br />This work is licensed under a <a rel=\"license\" href=\"http://creativecommons.org/licenses/by-sa/4.0/\">Creative Commons Attribution-ShareAlike 4.0 International License</a>."
         ]
      },
      {
         "cell_type": "markdown",
         "metadata": {},
         "source": [
            "# Useful Links\n",
            "\n",
            "- [python home page](https://docs.python.org)\n",
            "- [python tutorial](https://docs.python.org/3/tutorial)\n",
            "- [Jupyter notebook documentation](https://www.dataquest.io/blog/jupyter-notebook-tutorial/)\n",
            "- [Formatting text Cells](https://www.datacamp.com/community/tutorials/markdown-in-jupyter-notebook)"
         ]
      },
      {
         "cell_type": "markdown",
         "metadata": {},
         "source": [
            "# Data Structures\n",
            "\n",
            "\n",
            "## Python as a Calculator\n",
            "\n",
            "\n",
            "Adding two values:"
         ]
      },
      {
         "cell_type": "code",
         "execution_count": null,
         "metadata": {
            "tags": [
               "SOLUTION"
            ]
         },
         "outputs": [],
         "source": []
      },
      {
         "cell_type": "markdown",
         "metadata": {},
         "source": [
            "This can be more complicated - of course:"
         ]
      },
      {
         "cell_type": "code",
         "execution_count": null,
         "metadata": {
            "tags": [
               "SOLUTION"
            ]
         },
         "outputs": [],
         "source": []
      },
      {
         "cell_type": "markdown",
         "metadata": {},
         "source": [
            "Assign values to a variable and print its value:"
         ]
      },
      {
         "cell_type": "code",
         "execution_count": null,
         "metadata": {
            "tags": [
               "SOLUTION"
            ]
         },
         "outputs": [],
         "source": []
      },
      {
         "cell_type": "markdown",
         "metadata": {},
         "source": [
            "Maybe a bit more information would be good:"
         ]
      },
      {
         "cell_type": "code",
         "execution_count": null,
         "metadata": {
            "tags": [
               "SOLUTION"
            ]
         },
         "outputs": [],
         "source": []
      },
      {
         "cell_type": "markdown",
         "metadata": {},
         "source": [
            "The leading `f` indicates a formating string - more on strings later. In the segment `{a}` the symbol `a` is replaced by the value of the viable `a`. Checkout [Output Formatting](https://docs.python.org/3/tutorial/inputoutput.html) for more on formatted printing."
         ]
      },
      {
         "cell_type": "markdown",
         "metadata": {},
         "source": [
            "Get the type of the variable:"
         ]
      },
      {
         "cell_type": "code",
         "execution_count": null,
         "metadata": {
            "tags": [
               "SOLUTION"
            ]
         },
         "outputs": [],
         "source": []
      },
      {
         "cell_type": "markdown",
         "metadata": {},
         "source": [
            "python has also real numbers:"
         ]
      },
      {
         "cell_type": "code",
         "execution_count": 1,
         "metadata": {
            "tags": [
               "SOLUTION"
            ]
         },
         "outputs": [],
         "source": []
      },
      {
         "cell_type": "code",
         "execution_count": null,
         "metadata": {
            "tags": [
               "SOLUTION"
            ]
         },
         "outputs": [],
         "source": []
      },
      {
         "cell_type": "markdown",
         "metadata": {},
         "source": [
            "Use variables in expressions:"
         ]
      },
      {
         "cell_type": "code",
         "execution_count": null,
         "metadata": {
            "tags": [
               "SOLUTION"
            ]
         },
         "outputs": [],
         "source": []
      },
      {
         "cell_type": "markdown",
         "metadata": {},
         "source": [
            "python makes guesses on the result type. Here the result is float:"
         ]
      },
      {
         "cell_type": "code",
         "execution_count": null,
         "metadata": {
            "tags": [
               "SOLUTION"
            ]
         },
         "outputs": [],
         "source": []
      },
      {
         "cell_type": "markdown",
         "metadata": {},
         "source": [
            "**Warning** '/' returns a float but '//' returns an integer"
         ]
      },
      {
         "cell_type": "code",
         "execution_count": 2,
         "metadata": {
            "tags": [
               "SOLUTION"
            ]
         },
         "outputs": [],
         "source": []
      },
      {
         "cell_type": "code",
         "execution_count": 3,
         "metadata": {
            "tags": [
               "SOLUTION"
            ]
         },
         "outputs": [],
         "source": []
      },
      {
         "cell_type": "markdown",
         "metadata": {},
         "source": [
            "\n",
            "There are also complex numbers"
         ]
      },
      {
         "cell_type": "code",
         "execution_count": null,
         "metadata": {
            "tags": [
               "SOLUTION"
            ]
         },
         "outputs": [],
         "source": []
      },
      {
         "cell_type": "markdown",
         "metadata": {},
         "source": [
            "Complex numbers can be used like floats:"
         ]
      },
      {
         "cell_type": "code",
         "execution_count": null,
         "metadata": {
            "tags": [
               "SOLUTION"
            ]
         },
         "outputs": [],
         "source": []
      },
      {
         "cell_type": "markdown",
         "metadata": {},
         "source": [
            "Get real and imaginary part of z:"
         ]
      },
      {
         "cell_type": "code",
         "execution_count": null,
         "metadata": {
            "tags": [
               "SOLUTION"
            ]
         },
         "outputs": [],
         "source": []
      },
      {
         "cell_type": "markdown",
         "metadata": {},
         "source": [
            "and the magnitude and the conjugate"
         ]
      },
      {
         "cell_type": "code",
         "execution_count": null,
         "metadata": {
            "tags": [
               "SOLUTION"
            ]
         },
         "outputs": [],
         "source": []
      },
      {
         "cell_type": "markdown",
         "metadata": {},
         "source": [
            "Use the `**` operator to calculate powers"
         ]
      },
      {
         "cell_type": "code",
         "execution_count": null,
         "metadata": {
            "tags": [
               "SOLUTION"
            ]
         },
         "outputs": [],
         "source": []
      },
      {
         "cell_type": "markdown",
         "metadata": {},
         "source": [
            "If a variable is not defined, trying to use it will give you an error:"
         ]
      },
      {
         "cell_type": "code",
         "execution_count": null,
         "metadata": {
            "tags": [
               "SOLUTION"
            ]
         },
         "outputs": [],
         "source": []
      },
      {
         "cell_type": "markdown",
         "metadata": {},
         "source": [
            "## Strings\n",
            "A string is a sequence of characters and can be expressed using double quotes"
         ]
      },
      {
         "cell_type": "code",
         "execution_count": null,
         "metadata": {
            "tags": [
               "SOLUTION"
            ]
         },
         "outputs": [],
         "source": []
      },
      {
         "cell_type": "markdown",
         "metadata": {},
         "source": [
            "or single quotes"
         ]
      },
      {
         "cell_type": "code",
         "execution_count": null,
         "metadata": {
            "tags": [
               "SOLUTION"
            ]
         },
         "outputs": [],
         "source": []
      },
      {
         "cell_type": "markdown",
         "metadata": {},
         "source": [
            "Strings can be concatenated:"
         ]
      },
      {
         "cell_type": "code",
         "execution_count": null,
         "metadata": {
            "tags": [
               "SOLUTION"
            ]
         },
         "outputs": [],
         "source": []
      },
      {
         "cell_type": "markdown",
         "metadata": {},
         "source": [
            "and repeated"
         ]
      },
      {
         "cell_type": "code",
         "execution_count": null,
         "metadata": {
            "tags": [
               "SOLUTION"
            ]
         },
         "outputs": [],
         "source": []
      },
      {
         "cell_type": "markdown",
         "metadata": {},
         "source": [
            "A string has a length which is the number of its characters:"
         ]
      },
      {
         "cell_type": "code",
         "execution_count": null,
         "metadata": {
            "tags": [
               "SOLUTION"
            ]
         },
         "outputs": [],
         "source": []
      },
      {
         "cell_type": "markdown",
         "metadata": {},
         "source": [
            "One can obtain characters at a specific position. Position 0 is the first character."
         ]
      },
      {
         "cell_type": "code",
         "execution_count": null,
         "metadata": {
            "tags": [
               "SOLUTION"
            ]
         },
         "outputs": [],
         "source": []
      },
      {
         "cell_type": "markdown",
         "metadata": {},
         "source": [
            "Slicing is used to get substring:"
         ]
      },
      {
         "cell_type": "code",
         "execution_count": null,
         "metadata": {
            "tags": [
               "SOLUTION"
            ]
         },
         "outputs": [],
         "source": []
      },
      {
         "cell_type": "markdown",
         "metadata": {},
         "source": [
            "**Keep in mind** The start is always included, and the end always excluded."
         ]
      },
      {
         "cell_type": "markdown",
         "metadata": {},
         "source": [
            "Slice indices have useful defaults.\n",
            "An omitted first index defaults to zero and\n",
            "an omitted second index defaults to the size of the string being sliced."
         ]
      },
      {
         "cell_type": "code",
         "execution_count": null,
         "metadata": {
            "tags": [
               "SOLUTION"
            ]
         },
         "outputs": [],
         "source": []
      },
      {
         "cell_type": "markdown",
         "metadata": {},
         "source": [
            "The find() method returns the index of first occurrence of the substring (if found).  "
         ]
      },
      {
         "cell_type": "code",
         "execution_count": null,
         "metadata": {
            "tags": [
               "SOLUTION"
            ]
         },
         "outputs": [],
         "source": []
      },
      {
         "cell_type": "markdown",
         "metadata": {},
         "source": [
            "If not found, it returns -1:"
         ]
      },
      {
         "cell_type": "code",
         "execution_count": null,
         "metadata": {
            "tags": [
               "SOLUTION"
            ]
         },
         "outputs": [],
         "source": []
      },
      {
         "cell_type": "markdown",
         "metadata": {},
         "source": [
            "The replace() method returns a copy of the string where all occurrences of a substring is replaced with another substring. "
         ]
      },
      {
         "cell_type": "code",
         "execution_count": null,
         "metadata": {
            "tags": [
               "SOLUTION"
            ]
         },
         "outputs": [],
         "source": []
      },
      {
         "cell_type": "markdown",
         "metadata": {},
         "source": [
            "See [python string documentation](https://docs.python.org/3/library/stdtypes.html#text-sequence-type-str) for more."
         ]
      },
      {
         "cell_type": "markdown",
         "metadata": {},
         "source": [
            "## Boolean\n",
            "Boolean variables can have only two values `True` or `False`"
         ]
      },
      {
         "cell_type": "code",
         "execution_count": null,
         "metadata": {
            "tags": [
               "SOLUTION"
            ]
         },
         "outputs": [],
         "source": []
      },
      {
         "cell_type": "code",
         "execution_count": null,
         "metadata": {
            "tags": [
               "SOLUTION"
            ]
         },
         "outputs": [],
         "source": []
      },
      {
         "cell_type": "code",
         "execution_count": null,
         "metadata": {},
         "outputs": [],
         "source": [
            "myAnswer and s == \"hello world\""
         ]
      },
      {
         "cell_type": "markdown",
         "metadata": {},
         "source": [
            "## Lists\n",
            "\n",
            "A list is a compound data types, used to group together other values. It is  written as a list of comma-separated values (*items*) between square brackets. Lists might contain items of different types."
         ]
      },
      {
         "cell_type": "code",
         "execution_count": null,
         "metadata": {
            "tags": [
               "SOLUTION"
            ]
         },
         "outputs": [],
         "source": []
      },
      {
         "cell_type": "markdown",
         "metadata": {},
         "source": [
            "Most of the time the type of the items would be identical:"
         ]
      },
      {
         "cell_type": "code",
         "execution_count": null,
         "metadata": {},
         "outputs": [],
         "source": [
            "letters = ['a', 'b', 'c', 'd', 'e', 'f', 'g']"
         ]
      },
      {
         "cell_type": "markdown",
         "metadata": {},
         "source": [
            "You can retrieve any value from the list:"
         ]
      },
      {
         "cell_type": "code",
         "execution_count": null,
         "metadata": {
            "tags": [
               "SOLUTION"
            ]
         },
         "outputs": [],
         "source": []
      },
      {
         "cell_type": "markdown",
         "metadata": {},
         "source": [
            "and its length"
         ]
      },
      {
         "cell_type": "code",
         "execution_count": null,
         "metadata": {
            "tags": [
               "SOLUTION"
            ]
         },
         "outputs": [],
         "source": []
      },
      {
         "cell_type": "markdown",
         "metadata": {},
         "source": [
            "Append a new time to the list:"
         ]
      },
      {
         "cell_type": "code",
         "execution_count": null,
         "metadata": {
            "tags": [
               "SOLUTION"
            ]
         },
         "outputs": [],
         "source": []
      },
      {
         "cell_type": "markdown",
         "metadata": {},
         "source": [
            "Lists support operations like concatenation:"
         ]
      },
      {
         "cell_type": "code",
         "execution_count": null,
         "metadata": {
            "tags": [
               "SOLUTION"
            ]
         },
         "outputs": [],
         "source": []
      },
      {
         "cell_type": "markdown",
         "metadata": {},
         "source": [
            "And you can do slicing to pick sublists:"
         ]
      },
      {
         "cell_type": "code",
         "execution_count": null,
         "metadata": {
            "tags": [
               "SOLUTION"
            ]
         },
         "outputs": [],
         "source": []
      },
      {
         "cell_type": "markdown",
         "metadata": {},
         "source": [
            "Unlike strings, which are immutable, lists are a mutable type, i.e. it is possible to change their content: single value:"
         ]
      },
      {
         "cell_type": "code",
         "execution_count": null,
         "metadata": {
            "tags": [
               "SOLUTION"
            ]
         },
         "outputs": [],
         "source": []
      },
      {
         "cell_type": "markdown",
         "metadata": {},
         "source": [
            "as well as a range:"
         ]
      },
      {
         "cell_type": "code",
         "execution_count": null,
         "metadata": {
            "tags": [
               "SOLUTION"
            ]
         },
         "outputs": [],
         "source": []
      },
      {
         "cell_type": "markdown",
         "metadata": {},
         "source": [
            "**Note**: In python terminology lists are *mutable* as items in a list can be replaced. Strings are *immutable* as they don't allow this: "
         ]
      },
      {
         "cell_type": "code",
         "execution_count": null,
         "metadata": {
            "tags": [
               "SOLUTION"
            ]
         },
         "outputs": [],
         "source": []
      },
      {
         "cell_type": "markdown",
         "metadata": {},
         "source": [
            "Does a list contain an item?"
         ]
      },
      {
         "cell_type": "code",
         "execution_count": null,
         "metadata": {
            "tags": [
               "SOLUTION"
            ]
         },
         "outputs": [],
         "source": []
      },
      {
         "cell_type": "code",
         "execution_count": null,
         "metadata": {
            "tags": [
               "SOLUTION"
            ]
         },
         "outputs": [],
         "source": []
      },
      {
         "cell_type": "markdown",
         "metadata": {},
         "source": [
            "Find the position of an item in a list:"
         ]
      },
      {
         "cell_type": "code",
         "execution_count": null,
         "metadata": {
            "tags": [
               "SOLUTION"
            ]
         },
         "outputs": [],
         "source": []
      },
      {
         "cell_type": "markdown",
         "metadata": {},
         "source": [
            "Remove an item at a specific position and return it"
         ]
      },
      {
         "cell_type": "code",
         "execution_count": null,
         "metadata": {
            "tags": [
               "SOLUTION"
            ]
         },
         "outputs": [],
         "source": []
      },
      {
         "cell_type": "code",
         "execution_count": null,
         "metadata": {
            "tags": [
               "SOLUTION"
            ]
         },
         "outputs": [],
         "source": []
      },
      {
         "cell_type": "markdown",
         "metadata": {},
         "source": [
            "Remove the last item in the list and return it"
         ]
      },
      {
         "cell_type": "code",
         "execution_count": null,
         "metadata": {
            "tags": [
               "SOLUTION"
            ]
         },
         "outputs": [],
         "source": []
      },
      {
         "cell_type": "code",
         "execution_count": null,
         "metadata": {
            "tags": [
               "SOLUTION"
            ]
         },
         "outputs": [],
         "source": []
      },
      {
         "cell_type": "code",
         "execution_count": null,
         "metadata": {},
         "outputs": [],
         "source": [
            "numbers = [ 1, 2, 3, 4, 1, 2, 3, 4]"
         ]
      },
      {
         "cell_type": "markdown",
         "metadata": {},
         "source": [
            "How many ones are in numbers?"
         ]
      },
      {
         "cell_type": "code",
         "execution_count": null,
         "metadata": {
            "tags": [
               "SOLUTION"
            ]
         },
         "outputs": [],
         "source": []
      },
      {
         "cell_type": "markdown",
         "metadata": {},
         "source": [
            "Reverse the order of the items in a list in place:"
         ]
      },
      {
         "cell_type": "code",
         "execution_count": null,
         "metadata": {
            "tags": [
               "SOLUTION"
            ]
         },
         "outputs": [],
         "source": []
      },
      {
         "cell_type": "markdown",
         "metadata": {},
         "source": [
            "and sort them by ascending order, also in place:"
         ]
      },
      {
         "cell_type": "code",
         "execution_count": null,
         "metadata": {
            "tags": [
               "SOLUTION"
            ]
         },
         "outputs": [],
         "source": []
      },
      {
         "cell_type": "markdown",
         "metadata": {},
         "source": [
            "We quickly revisit strings:\n",
            "    \n",
            "The split() method of strings breaks up a string at the specified separator and returns a list of strings. We can use this to convert a string of numbers separated by for instance commas ',' into list of number:"
         ]
      },
      {
         "cell_type": "code",
         "execution_count": null,
         "metadata": {
            "tags": [
               "SOLUTION"
            ]
         },
         "outputs": [],
         "source": []
      },
      {
         "cell_type": "code",
         "execution_count": null,
         "metadata": {
            "tags": [
               "SOLUTION"
            ]
         },
         "outputs": [],
         "source": []
      },
      {
         "cell_type": "markdown",
         "metadata": {},
         "source": [
            "To convert numbers or any other python object into a string use the 'str()' command"
         ]
      },
      {
         "cell_type": "code",
         "execution_count": null,
         "metadata": {
            "tags": [
               "SOLUTION"
            ]
         },
         "outputs": [],
         "source": []
      },
      {
         "cell_type": "code",
         "execution_count": null,
         "metadata": {
            "tags": [
               "SOLUTION"
            ]
         },
         "outputs": [],
         "source": []
      },
      {
         "cell_type": "markdown",
         "metadata": {},
         "source": [
            "This can be stored in a variable"
         ]
      },
      {
         "cell_type": "code",
         "execution_count": null,
         "metadata": {
            "tags": [
               "SOLUTION"
            ]
         },
         "outputs": [],
         "source": []
      },
      {
         "cell_type": "markdown",
         "metadata": {},
         "source": [
            "You can also use the `repr()` command which in most cases returns the same value as `str()` but not always. In python terminology\n",
            "`str()` is an *informal* representation while `repr()` should return a *formal* representation."
         ]
      },
      {
         "cell_type": "code",
         "execution_count": null,
         "metadata": {},
         "outputs": [],
         "source": [
            "repr(1.)"
         ]
      },
      {
         "cell_type": "markdown",
         "metadata": {},
         "source": [
            "You can also use the formating string to convert an object into a str"
         ]
      },
      {
         "cell_type": "code",
         "execution_count": null,
         "metadata": {},
         "outputs": [],
         "source": [
            "f\"{line}\""
         ]
      },
      {
         "cell_type": "markdown",
         "metadata": {},
         "source": [
            "See [python list documentation](https://docs.python.org/3/library/stdtypes.html#list) for more."
         ]
      },
      {
         "cell_type": "markdown",
         "metadata": {},
         "source": [
            "## Tuples\n",
            "\n",
            "A tuple consists of a number of values separated by commas, for instance:"
         ]
      },
      {
         "cell_type": "code",
         "execution_count": null,
         "metadata": {
            "tags": [
               "SOLUTION"
            ]
         },
         "outputs": [],
         "source": []
      },
      {
         "cell_type": "markdown",
         "metadata": {},
         "source": [
            "Tuples are similar to lists but in contrast to list they are immutable (remember: that means you can not replace an entry a tuple). So this will fail:"
         ]
      },
      {
         "cell_type": "code",
         "execution_count": null,
         "metadata": {
            "tags": [
               "SOLUTION"
            ]
         },
         "outputs": [],
         "source": []
      },
      {
         "cell_type": "markdown",
         "metadata": {},
         "source": [
            "Tuples of a length (like strings and list):"
         ]
      },
      {
         "cell_type": "code",
         "execution_count": null,
         "metadata": {
            "tags": [
               "SOLUTION"
            ]
         },
         "outputs": [],
         "source": []
      },
      {
         "cell_type": "markdown",
         "metadata": {},
         "source": [
            "Tuples support indexing and slicing:"
         ]
      },
      {
         "cell_type": "code",
         "execution_count": null,
         "metadata": {
            "tags": [
               "SOLUTION"
            ]
         },
         "outputs": [],
         "source": []
      },
      {
         "cell_type": "code",
         "execution_count": null,
         "metadata": {
            "tags": [
               "SOLUTION"
            ]
         },
         "outputs": [],
         "source": []
      },
      {
         "cell_type": "markdown",
         "metadata": {},
         "source": [
            "Assign multiple values from a tuple:"
         ]
      },
      {
         "cell_type": "code",
         "execution_count": null,
         "metadata": {
            "tags": [
               "SOLUTION"
            ]
         },
         "outputs": [],
         "source": []
      },
      {
         "cell_type": "markdown",
         "metadata": {},
         "source": [
            "This is often used to define several variables in a single line:"
         ]
      },
      {
         "cell_type": "code",
         "execution_count": null,
         "metadata": {
            "tags": [
               "SOLUTION"
            ]
         },
         "outputs": [],
         "source": []
      },
      {
         "cell_type": "markdown",
         "metadata": {},
         "source": [
            "## Dictionaries\n",
            "\n",
            "Another useful data type built into Python is the dictionary. In contrast to a `list` which is \n",
            "indexed by a range of numbers, a dictionary is indexed by keys which can be strings and numbers (and others) You can\u2019t use lists as keys, since lists can be modified in place using index assignments, slice assignments, or methods like append() and extend().\n",
            "\n",
            "It is best to think of a dictionary as a set of items in the form of `key`: `value` pairs, with the requirement that the keys are unique within one dictionary. Placing a comma-separated list of key:value pairs within the braces adds initial key:value pairs to the dictionary. Here we create a dictionary of names and corresponding age:"
         ]
      },
      {
         "cell_type": "code",
         "execution_count": null,
         "metadata": {
            "tags": [
               "SOLUTION"
            ]
         },
         "outputs": [],
         "source": []
      },
      {
         "cell_type": "markdown",
         "metadata": {},
         "source": [
            "Use a key word - here `'Alice'` to access on entry:"
         ]
      },
      {
         "cell_type": "code",
         "execution_count": null,
         "metadata": {
            "tags": [
               "SOLUTION"
            ]
         },
         "outputs": [],
         "source": []
      },
      {
         "cell_type": "markdown",
         "metadata": {},
         "source": [
            "A new entry can be add with a new keyword - here `'Tim'`"
         ]
      },
      {
         "cell_type": "code",
         "execution_count": null,
         "metadata": {
            "tags": [
               "SOLUTION"
            ]
         },
         "outputs": [],
         "source": []
      },
      {
         "cell_type": "code",
         "execution_count": null,
         "metadata": {
            "tags": [
               "SOLUTION"
            ]
         },
         "outputs": [],
         "source": []
      },
      {
         "cell_type": "markdown",
         "metadata": {},
         "source": [
            "Check if a dictionary has a certain key: `'Tim'` is a valid key. `'Jane'` is not."
         ]
      },
      {
         "cell_type": "code",
         "execution_count": null,
         "metadata": {
            "tags": [
               "SOLUTION"
            ]
         },
         "outputs": [],
         "source": []
      },
      {
         "cell_type": "code",
         "execution_count": null,
         "metadata": {
            "tags": [
               "SOLUTION"
            ]
         },
         "outputs": [],
         "source": []
      },
      {
         "cell_type": "markdown",
         "metadata": {},
         "source": [
            "Check if the dictionary has a certain value: We know that there is a value `19` with key `'Tim'` but no `20`:"
         ]
      },
      {
         "cell_type": "code",
         "execution_count": null,
         "metadata": {
            "tags": [
               "SOLUTION"
            ]
         },
         "outputs": [],
         "source": []
      },
      {
         "cell_type": "code",
         "execution_count": null,
         "metadata": {
            "tags": [
               "SOLUTION"
            ]
         },
         "outputs": [],
         "source": []
      },
      {
         "cell_type": "markdown",
         "metadata": {},
         "source": [
            "You can also check if dictionary contains a certain item in form of (key, value). We have `('Tim', 19)` but no `('Tim', 20)` now:"
         ]
      },
      {
         "cell_type": "code",
         "execution_count": null,
         "metadata": {
            "tags": [
               "SOLUTION"
            ]
         },
         "outputs": [],
         "source": []
      },
      {
         "cell_type": "code",
         "execution_count": null,
         "metadata": {
            "tags": [
               "SOLUTION"
            ]
         },
         "outputs": [],
         "source": []
      },
      {
         "cell_type": "markdown",
         "metadata": {},
         "source": [
            "**Note**: A pair of braces {} creates an empty dictionary . A pair of brakes {} creates an empty tuple.\n",
            "A pair of square brakes [] creates an empty tuple."
         ]
      },
      {
         "cell_type": "code",
         "execution_count": null,
         "metadata": {
            "tags": [
               "SOLUTION"
            ]
         },
         "outputs": [],
         "source": []
      },
      {
         "cell_type": "code",
         "execution_count": null,
         "metadata": {
            "tags": [
               "SOLUTION"
            ]
         },
         "outputs": [],
         "source": []
      },
      {
         "cell_type": "markdown",
         "metadata": {},
         "source": [
            "# Flow Control\n",
            "\n",
            "This section gives an introduction to some basic programming concepts in python. \n",
            "It is far from being complete and the interested reader is referred to advanced tutorials that \n",
            "cover the programming in python. "
         ]
      },
      {
         "cell_type": "markdown",
         "metadata": {},
         "source": [
            "## For loops"
         ]
      },
      {
         "cell_type": "markdown",
         "metadata": {},
         "source": [
            "The `for`  statement is used for repeated execution\n",
            "over the items of a list, in the order that the items appear in the sequence. \n"
         ]
      },
      {
         "cell_type": "code",
         "execution_count": null,
         "metadata": {},
         "outputs": [],
         "source": [
            "animals = ['cat', 'doggy', 'bear', 'cow', 'hen', 'possum']"
         ]
      },
      {
         "cell_type": "code",
         "execution_count": null,
         "metadata": {
            "tags": [
               "SOLUTION"
            ]
         },
         "outputs": [],
         "source": []
      },
      {
         "cell_type": "markdown",
         "metadata": {},
         "source": [
            "The block of repeated statement can have several lines which need to be all \n",
            "intended by the same number of spaces. Here an example where we accumulate the \n",
            "animal names in the `animals`l list into a single string:"
         ]
      },
      {
         "cell_type": "code",
         "execution_count": null,
         "metadata": {
            "tags": [
               "SOLUTION"
            ]
         },
         "outputs": [],
         "source": []
      },
      {
         "cell_type": "markdown",
         "metadata": {},
         "source": [
            "Remember the split method of strings?"
         ]
      },
      {
         "cell_type": "code",
         "execution_count": null,
         "metadata": {
            "tags": [
               "SOLUTION"
            ]
         },
         "outputs": [],
         "source": []
      },
      {
         "cell_type": "markdown",
         "metadata": {},
         "source": [
            "We can use list comprehensions to turn the list of strings into a list of floats:"
         ]
      },
      {
         "cell_type": "code",
         "execution_count": null,
         "metadata": {
            "tags": [
               "SOLUTION"
            ]
         },
         "outputs": [],
         "source": []
      },
      {
         "cell_type": "markdown",
         "metadata": {},
         "source": [
            "If you do need to iterate over a sequence of numbers, the function range() comes in handy. It generates arithmetic progressions:"
         ]
      },
      {
         "cell_type": "code",
         "execution_count": null,
         "metadata": {
            "tags": [
               "SOLUTION"
            ]
         },
         "outputs": [],
         "source": []
      },
      {
         "cell_type": "markdown",
         "metadata": {},
         "source": [
            "Use the statement `range(Nstart,Nend,Inc)` loop over the numbers `k` that have a value less than `Nend` starting from `Nstart` and incrementing by `Inc`:"
         ]
      },
      {
         "cell_type": "code",
         "execution_count": null,
         "metadata": {
            "tags": [
               "SOLUTION"
            ]
         },
         "outputs": [],
         "source": []
      },
      {
         "cell_type": "markdown",
         "metadata": {},
         "source": [
            "To iterate over the indices of a list, one can combine range() and len() as follows:"
         ]
      },
      {
         "cell_type": "code",
         "execution_count": null,
         "metadata": {
            "tags": [
               "SOLUTION"
            ]
         },
         "outputs": [],
         "source": []
      },
      {
         "cell_type": "markdown",
         "metadata": {},
         "source": [
            "You can also loop over a dictionary. There are in fact various option how to to this.\n",
            "Firstly, and this is the most common way, you loop over the keys in the dictionary:"
         ]
      },
      {
         "cell_type": "code",
         "execution_count": null,
         "metadata": {},
         "outputs": [],
         "source": [
            "age = {'Jack':15,'Bob':22,'Alice':12,'Kevin':17}"
         ]
      },
      {
         "cell_type": "code",
         "execution_count": null,
         "metadata": {
            "tags": [
               "SOLUTION"
            ]
         },
         "outputs": [],
         "source": []
      },
      {
         "cell_type": "markdown",
         "metadata": {},
         "source": [
            "You can also loop over the items:"
         ]
      },
      {
         "cell_type": "code",
         "execution_count": null,
         "metadata": {
            "tags": [
               "SOLUTION"
            ]
         },
         "outputs": [],
         "source": []
      },
      {
         "cell_type": "markdown",
         "metadata": {},
         "source": [
            "## While loops\n",
            "\n",
            "With the while loop we can execute a set of statements as long as a condition is true.\n",
            "Here we repeat the loop block as long as val is less than 7: "
         ]
      },
      {
         "cell_type": "code",
         "execution_count": null,
         "metadata": {
            "tags": [
               "SOLUTION"
            ]
         },
         "outputs": [],
         "source": []
      },
      {
         "cell_type": "markdown",
         "metadata": {},
         "source": [
            "A slightly more complex application: Fine the number `val` such that the sum of all the values up to `val` is less than 30:"
         ]
      },
      {
         "cell_type": "code",
         "execution_count": null,
         "metadata": {
            "tags": [
               "SOLUTION"
            ]
         },
         "outputs": [],
         "source": []
      },
      {
         "cell_type": "markdown",
         "metadata": {},
         "source": [
            "## Functions\n",
            "\n",
            "A function is a block of code which only runs when it is called. You can pass data, known as *arguments*, into a function. A function can return data as a result. Functions are used to capture a block that\n",
            "is repeated used with different inputs. They can also be used to make program code more readable.\n",
            "\n",
            "Here comes a simple `diff` function that calculates the difference of two values\n",
            "of the two arguments `a` and `b` and returns the result. This is how the function is defined:"
         ]
      },
      {
         "cell_type": "code",
         "execution_count": null,
         "metadata": {
            "tags": [
               "SOLUTION"
            ]
         },
         "outputs": [],
         "source": []
      },
      {
         "cell_type": "markdown",
         "metadata": {},
         "source": [
            "And this is used using keyword arguments:"
         ]
      },
      {
         "cell_type": "code",
         "execution_count": null,
         "metadata": {
            "tags": [
               "SOLUTION"
            ]
         },
         "outputs": [],
         "source": []
      },
      {
         "cell_type": "markdown",
         "metadata": {},
         "source": [
            "Notice that the order in which the arguments are given is arbitrary.\n",
            "\n",
            "Sometimes it can be a bit annoying to repeat the argument names (here `a` and `b`) when you call a function.\n",
            "You also given the values in the order in which the arguments are given in the function definition with referencing to the name. Obvious the order of the values in the calling statement is critical:\n"
         ]
      },
      {
         "cell_type": "code",
         "execution_count": null,
         "metadata": {
            "tags": [
               "SOLUTION"
            ]
         },
         "outputs": [],
         "source": []
      },
      {
         "cell_type": "code",
         "execution_count": null,
         "metadata": {
            "tags": [
               "SOLUTION"
            ]
         },
         "outputs": [],
         "source": []
      },
      {
         "cell_type": "markdown",
         "metadata": {},
         "source": [
            "The function definition can also specify default value for all or just some arguments. \n",
            "Here we extend the `diff` function by an keyword argument `f` with default value `1':"
         ]
      },
      {
         "cell_type": "code",
         "execution_count": null,
         "metadata": {
            "tags": [
               "SOLUTION"
            ]
         },
         "outputs": [],
         "source": []
      },
      {
         "cell_type": "markdown",
         "metadata": {},
         "source": [
            "**Important** In the argument list come the positional arguments with no default value first then the keyword arguments with default values:\n",
            "\n",
            "There is no difference when calling `diff` now as by default `f` has the value 1:"
         ]
      },
      {
         "cell_type": "code",
         "execution_count": null,
         "metadata": {
            "tags": [
               "SOLUTION"
            ]
         },
         "outputs": [],
         "source": []
      },
      {
         "cell_type": "markdown",
         "metadata": {},
         "source": [
            "The default can be overwritten by following the order if which the arguments are defined in the function `def`:"
         ]
      },
      {
         "cell_type": "code",
         "execution_count": null,
         "metadata": {
            "tags": [
               "SOLUTION"
            ]
         },
         "outputs": [],
         "source": []
      },
      {
         "cell_type": "markdown",
         "metadata": {},
         "source": [
            "or by using keywords:"
         ]
      },
      {
         "cell_type": "code",
         "execution_count": null,
         "metadata": {
            "tags": [
               "SOLUTION"
            ]
         },
         "outputs": [],
         "source": []
      },
      {
         "cell_type": "markdown",
         "metadata": {},
         "source": [
            "One can also use a combination of positional and keyword arguments. Notice again that the \n",
            "positional arguments (arguments without default value) need to be specified first:"
         ]
      },
      {
         "cell_type": "code",
         "execution_count": null,
         "metadata": {
            "tags": [
               "SOLUTION"
            ]
         },
         "outputs": [],
         "source": []
      },
      {
         "cell_type": "markdown",
         "metadata": {},
         "source": [
            "In same cases you may want to return just not one value. This can be implemented by returning a tuple. \n",
            "In the example we return the sum and the product of two numbers `a` and `b`:"
         ]
      },
      {
         "cell_type": "code",
         "execution_count": null,
         "metadata": {
            "tags": [
               "SOLUTION"
            ]
         },
         "outputs": [],
         "source": []
      },
      {
         "cell_type": "code",
         "execution_count": null,
         "metadata": {
            "tags": [
               "SOLUTION"
            ]
         },
         "outputs": [],
         "source": []
      },
      {
         "cell_type": "markdown",
         "metadata": {},
         "source": [
            "**Important** variables used in function are valid locally in the function only:"
         ]
      },
      {
         "cell_type": "code",
         "execution_count": null,
         "metadata": {
            "tags": [
               "SOLUTION"
            ]
         },
         "outputs": [],
         "source": []
      },
      {
         "cell_type": "markdown",
         "metadata": {},
         "source": [
            "## Branching\n",
            "\n",
            "The `if` statement allows you to execute a program statements only if a certain condition (or conditions) ae fulfilled. In this simple example the value of the variable `myname` is printed if its value is `Hans`. Otherwise no statement is executed"
         ]
      },
      {
         "cell_type": "code",
         "execution_count": null,
         "metadata": {
            "tags": [
               "SOLUTION"
            ]
         },
         "outputs": [],
         "source": []
      },
      {
         "cell_type": "markdown",
         "metadata": {},
         "source": [
            "The block of code to be executed is to be intended: "
         ]
      },
      {
         "cell_type": "code",
         "execution_count": null,
         "metadata": {
            "tags": [
               "SOLUTION"
            ]
         },
         "outputs": [],
         "source": []
      },
      {
         "cell_type": "markdown",
         "metadata": {},
         "source": [
            "We can check for several conditions in a single line:"
         ]
      },
      {
         "cell_type": "code",
         "execution_count": null,
         "metadata": {
            "tags": [
               "SOLUTION"
            ]
         },
         "outputs": [],
         "source": []
      },
      {
         "cell_type": "markdown",
         "metadata": {},
         "source": [
            "Be careful with floating point numbers. Here we calculate the square root of 2 and check for the result. "
         ]
      },
      {
         "cell_type": "code",
         "execution_count": null,
         "metadata": {
            "tags": [
               "SOLUTION"
            ]
         },
         "outputs": [],
         "source": []
      },
      {
         "cell_type": "markdown",
         "metadata": {},
         "source": [
            "Why is nothing been printed? "
         ]
      },
      {
         "cell_type": "markdown",
         "metadata": {},
         "source": [
            "A more general form of the `if`-statement allows executing the following block of statements of the `if` condition is fulfilled and if not to perform an alternative block of statements.\n",
            "\n",
            "To illustrate this we want to write a function getPosDiff which returns the positive difference of to numbers a and b. This is the value a-b if this difference is positive otherwise the value is zero:"
         ]
      },
      {
         "cell_type": "code",
         "execution_count": null,
         "metadata": {
            "tags": [
               "SOLUTION"
            ]
         },
         "outputs": [],
         "source": []
      },
      {
         "cell_type": "markdown",
         "metadata": {},
         "source": [
            "We test this:"
         ]
      },
      {
         "cell_type": "code",
         "execution_count": null,
         "metadata": {
            "tags": [
               "SOLUTION"
            ]
         },
         "outputs": [],
         "source": []
      },
      {
         "cell_type": "code",
         "execution_count": null,
         "metadata": {
            "tags": [
               "SOLUTION"
            ]
         },
         "outputs": [],
         "source": []
      },
      {
         "cell_type": "markdown",
         "metadata": {},
         "source": [
            "# More on printing\n",
            "\n",
            "Python provides a powerful way of formatting output using formatted string.\n",
            "Basicly the ideas is that in a formatted string marked by a leading 'f' variable\n",
            "names are replaced by the corresponding variable values. Here comes an example:"
         ]
      },
      {
         "cell_type": "code",
         "execution_count": null,
         "metadata": {},
         "outputs": [],
         "source": [
            "x, y = 2.124, 3"
         ]
      },
      {
         "cell_type": "code",
         "execution_count": null,
         "metadata": {
            "tags": [
               "SOLUTION"
            ]
         },
         "outputs": [],
         "source": []
      },
      {
         "cell_type": "markdown",
         "metadata": {},
         "source": [
            "python makes guesses on how to format the value of the variable but you can also be specific if values should be shown in a specific way. here we want to show `x` as a floating point numbers with a scientific number representation indicated by `e` and `y` to be shown as an integer indicated by `d`: "
         ]
      },
      {
         "cell_type": "code",
         "execution_count": null,
         "metadata": {
            "tags": [
               "SOLUTION"
            ]
         },
         "outputs": [],
         "source": []
      },
      {
         "cell_type": "markdown",
         "metadata": {},
         "source": [
            "An alternative way of formatting is the `format` method of a string. You can use the \n",
            "positional arguments:"
         ]
      },
      {
         "cell_type": "code",
         "execution_count": null,
         "metadata": {
            "tags": [
               "SOLUTION"
            ]
         },
         "outputs": [],
         "source": []
      },
      {
         "cell_type": "markdown",
         "metadata": {},
         "source": [
            "Or keyword arguments:"
         ]
      },
      {
         "cell_type": "code",
         "execution_count": null,
         "metadata": {
            "tags": [
               "SOLUTION"
            ]
         },
         "outputs": [],
         "source": []
      },
      {
         "cell_type": "markdown",
         "metadata": {},
         "source": [
            "More details in particular for formating numbers are found in [Output Formatting](https://docs.python.org/3/tutorial/inputoutput.html)."
         ]
      },
      {
         "cell_type": "markdown",
         "metadata": {},
         "source": [
            "# Modules\n",
            "\n",
            "Python has a way to put definitions in a file so they can easily be reused. \n",
            "Such files are called a modules. You can define your own module (for instance see [here](https://docs.python.org/3/tutorial/modules.html)) how to do this but in this course we will only discuss how to use\n",
            "existing modules as they come with python as the [python standard library](https://docs.python.org/3.9/tutorial/stdlib.html?highlight=library) or as third party libraries as they for instance are distributed \n",
            "through [anaconda](https://www.anaconda.com/) or your Linux distribution or you can install trough `pip` or from source. \n",
            "\n",
            "Definitions from a module can be imported into your jupyter notebook, your python script, and into other modules.\n",
            "The module is imported using the import statement. Here we import the mathematics library from the python standard library:"
         ]
      },
      {
         "cell_type": "code",
         "execution_count": null,
         "metadata": {
            "tags": [
               "SOLUTION"
            ]
         },
         "outputs": [],
         "source": []
      },
      {
         "cell_type": "markdown",
         "metadata": {},
         "source": [
            "You can find a list of the available functions, variables and classes using the `dir` function:\n"
         ]
      },
      {
         "cell_type": "code",
         "execution_count": null,
         "metadata": {
            "tags": [
               "SOLUTION"
            ]
         },
         "outputs": [],
         "source": []
      },
      {
         "cell_type": "markdown",
         "metadata": {},
         "source": [
            "A particular function (or class or constant) can be called in the form `<module name>.<function name>`:"
         ]
      },
      {
         "cell_type": "code",
         "execution_count": null,
         "metadata": {
            "tags": [
               "SOLUTION"
            ]
         },
         "outputs": [],
         "source": []
      },
      {
         "cell_type": "markdown",
         "metadata": {},
         "source": [
            "Documentation of a function (or class or constant) can be obtained using the `help` function (if the developer has written it): "
         ]
      },
      {
         "cell_type": "code",
         "execution_count": null,
         "metadata": {
            "tags": [
               "SOLUTION"
            ]
         },
         "outputs": [],
         "source": []
      },
      {
         "cell_type": "markdown",
         "metadata": {},
         "source": [
            "You can also import a specific function (or a set of functions) so you can directly use them without a prefix:\n"
         ]
      },
      {
         "cell_type": "markdown",
         "metadata": {},
         "source": [
            "In python terminology that means that  - in this case - the `exp` function  is imported into the main *name space*.\n",
            "This needs to be applied with care as existing functions (or class definition) with identical names are overwritten.\n",
            "For instance the `math` and the `cmath` module have a function `exp`. Importing both will create a problem \n",
            "in the main name space. "
         ]
      },
      {
         "cell_type": "code",
         "execution_count": null,
         "metadata": {
            "tags": [
               "SOLUTION"
            ]
         },
         "outputs": [],
         "source": []
      },
      {
         "cell_type": "markdown",
         "metadata": {},
         "source": [
            "In these cases it can be useful to use an alias to make the code easier to read:"
         ]
      },
      {
         "cell_type": "code",
         "execution_count": null,
         "metadata": {
            "tags": [
               "SOLUTION"
            ]
         },
         "outputs": [],
         "source": []
      },
      {
         "cell_type": "markdown",
         "metadata": {},
         "source": [
            "Modules can contain submodules. The functions are then \n",
            "accessed `<module name>.<sub-module name>.<function name>`:"
         ]
      },
      {
         "cell_type": "code",
         "execution_count": null,
         "metadata": {
            "tags": [
               "SOLUTION"
            ]
         },
         "outputs": [],
         "source": []
      },
      {
         "cell_type": "code",
         "execution_count": null,
         "metadata": {
            "tags": [
               "SOLUTION"
            ]
         },
         "outputs": [],
         "source": []
      },
      {
         "cell_type": "markdown",
         "metadata": {},
         "source": [
            "We use the module `urllib` to retrieve on-line data from `https://pubs.usgs.gov/of/2008/1003/of2008-1003_gravity_data.csv`. The `urlopen` is in essence a remote file open and allows for iterating over the lines marked by end of line `\"\\n\"` (call `strip` method to remove leading and trailing spaces and `\"\\n\"`): "
         ]
      },
      {
         "cell_type": "code",
         "execution_count": null,
         "metadata": {
            "tags": [
               "SOLUTION"
            ]
         },
         "outputs": [],
         "source": []
      },
      {
         "cell_type": "markdown",
         "metadata": {},
         "source": [
            "# Classes\n",
            "\n",
            "Python is an object oriented programming language and in python (almost) everything is an object.\n",
            "As this is such a key concept in python you need to have basic understand what on object is\n",
            "although you will not actual program a class in this course.\n",
            "\n",
            "Key idea of an object is that it is not defined by a single value\n",
            "but by so called `properties` (which are in essence a set of values) and `methods`\n",
            "which allow to do things with object. \n",
            "\n",
            "A `class` is a \"blueprint\" if an objects. Here we define a class that define \n",
            "a `Person` by name and home town. These data define the properties. In this example the properties\n",
            "are set at the initialization of any object of class `Person` when python calls the `__init__` method.\n",
            "We add an additonal method `getNameBadge` which builds and returns a name badge."
         ]
      },
      {
         "cell_type": "code",
         "execution_count": null,
         "metadata": {
            "tags": [
               "SOLUTION"
            ]
         },
         "outputs": [],
         "source": []
      },
      {
         "cell_type": "markdown",
         "metadata": {},
         "source": [
            "**Note**: All methods including '\\_\\_init\\_\\_' have the argument `self` as first argument. It refers to the specific object that has been instantiate as a `Person` class object. \n"
         ]
      },
      {
         "cell_type": "markdown",
         "metadata": {},
         "source": [
            "Now we can create an instance of the `Person` class as the object `me` for a person named \"Lutz Gross\" from QLD (=Queensland):"
         ]
      },
      {
         "cell_type": "code",
         "execution_count": null,
         "metadata": {
            "tags": [
               "SOLUTION"
            ]
         },
         "outputs": [],
         "source": []
      },
      {
         "cell_type": "markdown",
         "metadata": {},
         "source": [
            "We can retrieve the class of object `me` using the `type` function: "
         ]
      },
      {
         "cell_type": "code",
         "execution_count": null,
         "metadata": {
            "tags": [
               "SOLUTION"
            ]
         },
         "outputs": [],
         "source": []
      },
      {
         "cell_type": "markdown",
         "metadata": {},
         "source": [
            "The property `name` of object `me` is accessed as:"
         ]
      },
      {
         "cell_type": "code",
         "execution_count": null,
         "metadata": {
            "tags": [
               "SOLUTION"
            ]
         },
         "outputs": [],
         "source": []
      },
      {
         "cell_type": "markdown",
         "metadata": {},
         "source": [
            "And we can also call the method `getNameBadge`:"
         ]
      },
      {
         "cell_type": "code",
         "execution_count": null,
         "metadata": {
            "tags": [
               "SOLUTION"
            ]
         },
         "outputs": [],
         "source": []
      },
      {
         "cell_type": "code",
         "execution_count": null,
         "metadata": {
            "tags": [
               "SOLUTION"
            ]
         },
         "outputs": [],
         "source": []
      },
      {
         "cell_type": "markdown",
         "metadata": {},
         "source": [
            "One can create a list of participants as a list of `Person` objects:"
         ]
      },
      {
         "cell_type": "code",
         "execution_count": null,
         "metadata": {
            "tags": [
               "SOLUTION"
            ]
         },
         "outputs": [],
         "source": []
      },
      {
         "cell_type": "markdown",
         "metadata": {},
         "source": [
            "get a list of name badges:"
         ]
      },
      {
         "cell_type": "code",
         "execution_count": null,
         "metadata": {
            "tags": [
               "SOLUTION"
            ]
         },
         "outputs": [],
         "source": []
      },
      {
         "cell_type": "markdown",
         "metadata": {},
         "source": [
            "Subclasses keep ('inherite') all methods from the mother class but one can add more:"
         ]
      },
      {
         "cell_type": "code",
         "execution_count": null,
         "metadata": {
            "tags": [
               "SOLUTION"
            ]
         },
         "outputs": [],
         "source": []
      },
      {
         "cell_type": "markdown",
         "metadata": {},
         "source": [
            "Create object `p` as an instance of class `Speaker`:"
         ]
      },
      {
         "cell_type": "code",
         "execution_count": null,
         "metadata": {
            "tags": [
               "SOLUTION"
            ]
         },
         "outputs": [],
         "source": []
      },
      {
         "cell_type": "markdown",
         "metadata": {},
         "source": [
            " Let's test the additional method:"
         ]
      },
      {
         "cell_type": "code",
         "execution_count": null,
         "metadata": {
            "tags": [
               "SOLUTION"
            ]
         },
         "outputs": [],
         "source": []
      },
      {
         "cell_type": "markdown",
         "metadata": {},
         "source": [
            "But the methods of the mother class `Person` also works:"
         ]
      },
      {
         "cell_type": "code",
         "execution_count": null,
         "metadata": {
            "tags": [
               "SOLUTION"
            ]
         },
         "outputs": [],
         "source": []
      },
      {
         "cell_type": "markdown",
         "metadata": {},
         "source": [
            "Object `p` is an instance of class `Person` as well as `Speaker`:"
         ]
      },
      {
         "cell_type": "code",
         "execution_count": null,
         "metadata": {
            "tags": [
               "SOLUTION"
            ]
         },
         "outputs": [],
         "source": []
      },
      {
         "cell_type": "markdown",
         "metadata": {},
         "source": [
            "Object `me` is an instance of class `Person` but not of `Speaker`:"
         ]
      },
      {
         "cell_type": "code",
         "execution_count": null,
         "metadata": {
            "tags": [
               "SOLUTION"
            ]
         },
         "outputs": [],
         "source": []
      }
   ],
   "metadata": {
      "celltoolbar": "Tags",
      "kernelspec": {
         "display_name": "Python 3",
         "language": "python",
         "name": "python3"
      },
      "language_info": {
         "codemirror_mode": {
            "name": "ipython",
            "version": 3
         },
         "file_extension": ".py",
         "mimetype": "text/x-python",
         "name": "python",
         "nbconvert_exporter": "python",
         "pygments_lexer": "ipython3",
         "version": "3.8.10"
      },
      "latex_envs": {
         "LaTeX_envs_menu_present": true,
         "autoclose": false,
         "autocomplete": true,
         "bibliofile": "biblio.bib",
         "cite_by": "apalike",
         "current_citInitial": 1,
         "eqLabelWithNumbers": true,
         "eqNumInitial": 1,
         "hotkeys": {
            "equation": "Ctrl-E",
            "itemize": "Ctrl-I"
         },
         "labels_anchors": false,
         "latex_user_defs": false,
         "report_style_numbering": false,
         "user_envs_cfg": false
      },
      "toc": {
         "base_numbering": 1,
         "nav_menu": {},
         "number_sections": true,
         "sideBar": true,
         "skip_h1_title": false,
         "title_cell": "Python Basics",
         "title_sidebar": "Contents",
         "toc_cell": true,
         "toc_position": {
            "height": "calc(100% - 180px)",
            "left": "10px",
            "top": "150px",
            "width": "384px"
         },
         "toc_section_display": true,
         "toc_window_display": false
      },
      "varInspector": {
         "cols": {
            "lenName": 16,
            "lenType": 16,
            "lenVar": 40
         },
         "kernels_config": {
            "python": {
               "delete_cmd_postfix": "",
               "delete_cmd_prefix": "del ",
               "library": "var_list.py",
               "varRefreshCmd": "print(var_dic_list())"
            },
            "r": {
               "delete_cmd_postfix": ") ",
               "delete_cmd_prefix": "rm(",
               "library": "var_list.r",
               "varRefreshCmd": "cat(var_dic_list()) "
            }
         },
         "types_to_exclude": [
            "module",
            "function",
            "builtin_function_or_method",
            "instance",
            "_Feature"
         ],
         "window_display": false
      }
   },
   "nbformat": 4,
   "nbformat_minor": 2
}