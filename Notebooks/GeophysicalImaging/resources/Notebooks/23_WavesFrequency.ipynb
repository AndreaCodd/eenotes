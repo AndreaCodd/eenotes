{
 "cells": [
  {
   "cell_type": "markdown",
   "metadata": {
    "toc": true
   },
   "source": [
    "<h1>Table of Contents<span class=\"tocSkip\"></span></h1>\n",
    "<div class=\"toc\"><ul class=\"toc-item\"><li><span><a href=\"#Wave-propagation-in-Frequency-Domain\" data-toc-modified-id=\"Wave-propagation-in-Frequency-Domain-1\"><span class=\"toc-item-num\">1&nbsp;&nbsp;</span>Wave propagation in Frequency Domain</a></span><ul class=\"toc-item\"><li><span><a href=\"#The-PDE-in-esys.escript\" data-toc-modified-id=\"The-PDE-in-esys.escript-1.1\"><span class=\"toc-item-num\">1.1&nbsp;&nbsp;</span>The PDE in <code>esys.escript</code></a></span></li><li><span><a href=\"#Domain-set-up\" data-toc-modified-id=\"Domain-set-up-1.2\"><span class=\"toc-item-num\">1.2&nbsp;&nbsp;</span>Domain set up</a></span></li><li><span><a href=\"#PML\" data-toc-modified-id=\"PML-1.3\"><span class=\"toc-item-num\">1.3&nbsp;&nbsp;</span>PML</a></span></li><li><span><a href=\"#Definition-of-the-PDE\" data-toc-modified-id=\"Definition-of-the-PDE-1.4\"><span class=\"toc-item-num\">1.4&nbsp;&nbsp;</span>Definition of the PDE</a></span></li><li><span><a href=\"#Setting--up-geophones:\" data-toc-modified-id=\"Setting--up-geophones:-1.5\"><span class=\"toc-item-num\">1.5&nbsp;&nbsp;</span>Setting  up geophones:</a></span></li></ul></li></ul></div>"
   ]
  },
  {
   "cell_type": "markdown",
   "metadata": {},
   "source": [
    "by Lutz Gross, The University of Queensland, Australia\n",
    "<a href=\"mailto:l.gross@uq.edu.au\">l.gross@uq.edu.au</a>\n",
    "<a rel=\"license\" href=\"http://creativecommons.org/licenses/by-sa/4.0/\"><img alt=\"Creative Commons License\" style=\"border-width:0\" src=\"https://i.creativecommons.org/l/by-sa/4.0/88x31.png\" /></a><br />This work is licensed under a <a rel=\"license\" href=\"http://creativecommons.org/licenses/by-sa/4.0/\">Creative Commons Attribution-ShareAlike 4.0 International License</a>."
   ]
  },
  {
   "cell_type": "markdown",
   "metadata": {},
   "source": [
    "# Wave propagation in Frequency Domain\n",
    "\n",
    "The wave equation in frequency domain is given as  \n",
    "\n",
    "\\begin{equation}\\label{EQ20WAVEF}\n",
    "-\\nabla^T \\nabla u - k^2 u = f_{\\omega} \\delta_{\\mathbf{x}_s} \n",
    "\\end{equation}\n",
    "where $u$ is the unknown wave field, $\\mathbf{x}_s$ is the location of the source, $f_{\\omega}$ is the\n",
    "source strength at angular frequency $\\omega$ and $k$ is the wave number defined as \n",
    "$$\n",
    "k = \\frac{\\omega}{c} \n",
    "$$\n",
    "with wave propagation speed $c$.\n",
    "\n",
    "A PML layer of thickness $L_{pml}$ is introduced to remove reflections from the boundary.\n",
    "For this we set \n",
    "\\begin{equation}\\label{eqPMLGamma}\n",
    "\\gamma_i = 1 -\\mathbf{j} \\frac{S_{pml}}{k} Q_i\n",
    "\\end{equation}\n",
    "where $S_{pml}$ is absorption strength parameter and $Q_i$ are the absorbing functions.\n",
    "Horizontal absorption is applied near the left ($x_0=0$) and right boundary ($x_0=L0$):\n",
    "\\begin{equation}\\label{EQQ0}\n",
    "Q_0(\\mathbf{x}) = \\begin{cases}\n",
    "= \\left( \\frac{L_{pml}-x_0}{L_{pml}} \\right)^{M_{pml}} & \\mbox{ if } 0 \\le x_0 \\le L_{pml}\\\\\n",
    "= \\left( \\frac{x_0-L_0+L_{pml}}{L_{pml}} \\right)^{M_{pml}} & \\mbox{ if } L_0-L_{pml} \\le x_0 \\le L_0 \\\\\n",
    "=0  & \\mbox{ otherwise  }\n",
    "\\end{cases} \n",
    "\\end{equation}\n",
    "while vertical absorption is applied near the bottom ($x_1=0$) only: \n",
    "\\begin{equation}\\label{EQQ1}\n",
    "Q_1(\\mathbf{x}) = \\begin{cases}\n",
    "= \\left( \\frac{L_{pml}-x_1}{L_{pml}} \\right)^{M_{pml}} & \\mbox{ if } 0 \\le x_1 \\le L_{pml}\\\\\n",
    "=0  & \\mbox{ otherwise  }\n",
    "\\end{cases} \n",
    "\\end{equation}\n",
    "With the variable transformation $x_i \\rightarrow \\gamma_i x_i$ equations\n",
    "\\eqref{EQ20WAVEF}is  transfered to \n",
    "\\end{equation}\n",
    "\\begin{equation}\\label{eqWAVEF2PML}\n",
    "-\\frac{1}{\\gamma_0}\\frac{\\partial }{\\partial x_0 } \\frac{1}{\\gamma_0}\\frac{\\partial u }{\\partial x_0 } +\n",
    "-\\frac{1}{\\gamma_1} \\frac{\\partial }{\\partial x_1 } \\frac{1}{\\gamma_1} \\frac{\\partial u}{\\partial x_1 }  - k^2 u = f_{\\omega} \\delta_{\\mathbf{x}_s}\n",
    "\\end{equation}\n",
    "Mutiplication with $\\gamma_0\\gamma_1$ leads to\n",
    "\\begin{equation}\\label{eqWAVEF2PML1}\n",
    "-\\frac{\\partial }{\\partial x_0} \\frac{\\gamma_1}{\\gamma_0}\\frac{\\partial u }{\\partial x_0 } +\n",
    "-\\frac{\\partial }{\\partial x_1} \\frac{\\gamma_0}{\\gamma_1} \\frac{\\partial u}{\\partial x_1 }  - \\gamma_0 \\gamma_1 k^2 u =f_{\\omega}  \\delta_{\\mathbf{x}_s}\n",
    "\\end{equation}\n",
    "We use the fact that $\\gamma_0$ is not depending on $x_1$ \n",
    "and  $\\gamma_1$ is not depending on $x_0$. We also assume that the source location is not located in the absorption zone and hence\n",
    "$\\delta_{\\mathbf{x}_s} \\gamma_0 \\gamma_1 =\\delta_{\\mathbf{x}_s}$."
   ]
  },
  {
   "cell_type": "markdown",
   "metadata": {},
   "source": [
    "## The PDE in `esys.escript`\n",
    "\n",
    "The conservation equation in `esys.escript` is\n",
    "\\begin{equation}\\label{eqEE1}\n",
    "\\frac{\\partial F_0}{\\partial x_0 }+\n",
    " \\frac{\\partial F_1}{\\partial x_1 } + D u = Y + y_{dirac}\n",
    "\\end{equation}\n",
    "with pseudo flux $\\mathbf{F}$  in the form \n",
    "\\begin{equation} \\label{EQFLUX}\n",
    "\\mathbf{F} = - \\mathbf{A} \\mathbf{\\nabla} u +\\mathbf{X}\n",
    "\\end{equation} \n",
    "To match PDE \\eqref{eqWAVEF2PML1} one sets \n",
    "\\begin{equation}\\label{EQFLUX2}\n",
    "\\mathbf{F} = \n",
    "\\begin{bmatrix}\n",
    " F_0 \\\\\n",
    " F_1\n",
    "\\end{bmatrix}\n",
    "=\n",
    "\\begin{bmatrix}\n",
    " \\frac{  \\gamma_1}{\\gamma_0}\\frac{\\partial u}{\\partial x_0 }\\\\\n",
    " \\frac{  \\gamma_0}{\\gamma_1}\\frac{\\partial u}{\\partial x_1 }\n",
    "\\end{bmatrix}\n",
    "\\end{equation}\n",
    "which means $\\mathbf{X}=0$ and\n",
    "\\begin{equation}\\label{eqAF}\n",
    "\\begin{bmatrix}\n",
    "A_{00} & A_{01} \\\\\n",
    "A_{10}  & A_{11} \n",
    "\\end{bmatrix}= \n",
    "\\begin{bmatrix}\n",
    " \\frac{  \\gamma_1}{\\gamma_0}\\ & 0  \\\\\n",
    "0  &  \\frac{  \\gamma_0}{\\gamma_1}\n",
    "\\end{bmatrix}\n",
    "\\end{equation}\n",
    "In equation \\eqref{eqEE1} we need to set $Y=0$,  $y_{dirac}=\\delta_{\\mathbf{x}_s}$ (we assume $f_{\\omega}=1$), $D=- k^2 \\gamma_0 \\gamma_1$.\n"
   ]
  },
  {
   "cell_type": "markdown",
   "metadata": {},
   "source": [
    "## Domain set up\n",
    "\n",
    "The domain has a vertical extend `Width` and depth `Depth`.  \n",
    "We consider a single reflector set up. The reflector is located at a depth of `D`\n",
    "where the top layer has propagation speed of `c_top` \n",
    "and the bottom layer has propagation speed of `c_bottom`.\n",
    "The source is located at the surface at an offset of `offset_source` from the  center vertical axis of the domain.\n",
    "\n",
    " <img src=\"Data/SonicImage1.png\" alt=\"Sonic domain\" width=\"800\"> "
   ]
  },
  {
   "cell_type": "code",
   "execution_count": 1,
   "metadata": {},
   "outputs": [],
   "source": [
    "Width=3000.      # width of the domain [m]\n",
    "NE0=1200          # number of cells along the horizontal direction  \n",
    "Depth=1000.      # depth of the domain [m]\n",
    "NE1=400          # number of cells along the vertical direction  \n",
    "\n",
    "d0=300.           # depth of the reflector interface  \n",
    "c_top=1800.      # propagationm speed above interface [m/s] \n",
    "c_bottom=3000.   # propagationm speed below interface [m/s] \n",
    "\n",
    "f = 15.            # frequence [Hz]\n",
    "\n",
    "offset_source = 100. # offset of source from source [m]\n"
   ]
  },
  {
   "cell_type": "markdown",
   "metadata": {},
   "source": [
    "Import of urgently needed modules:"
   ]
  },
  {
   "cell_type": "code",
   "execution_count": 2,
   "metadata": {},
   "outputs": [],
   "source": [
    "import numpy as np\n",
    "from esys.escript import *\n",
    "\n",
    "#%matplotlib notebook  # uncommend for more fency plotting\n",
    "import matplotlib.pyplot as plt"
   ]
  },
  {
   "cell_type": "markdown",
   "metadata": {},
   "source": [
    "As usual we start the model set up with defining the domain. In this application\n",
    "we also want to use point source. The locations of potential source need to be defined when the domain is \n",
    "defined and are attached to FEM nodes.\n",
    "\n",
    "Here we use a single source named \"source66\" located at the surface as an offset `offset_source` from the center point of the top edge. If several sources are used  \n",
    "a list of source locations and name can be defined. As we will see later the names allow to\n",
    "switch on sources individually.\n",
    "\n",
    "The list `sources` specifies the list of locations as tuple and  `source_names` gives the list of respective names which can be freely choosen. "
   ]
  },
  {
   "cell_type": "code",
   "execution_count": 3,
   "metadata": {
    "tags": [
     "SOLUTION"
    ]
   },
   "outputs": [],
   "source": [
    "sources=  [ (Width/2+offset_source, Depth) ]\n",
    "source_names = [ 'source66' ]"
   ]
  },
  {
   "cell_type": "markdown",
   "metadata": {},
   "source": [
    "We set up the domain including the location and names of potential source locations."
   ]
  },
  {
   "cell_type": "code",
   "execution_count": 4,
   "metadata": {
    "tags": [
     "SOLUTION"
    ]
   },
   "outputs": [],
   "source": [
    "from esys.finley import Rectangle\n",
    "domain=Rectangle(NE0, NE1, l0=Width,l1=Depth, diracPoints=sources,  diracTags=source_names)"
   ]
  },
  {
   "cell_type": "markdown",
   "metadata": {},
   "source": [
    "To define the propagation speed `c` the mask `m` is introduced distinguishing between the top layer (value `1`)\n",
    "and the bottom layer (value `0`): "
   ]
  },
  {
   "cell_type": "code",
   "execution_count": 5,
   "metadata": {
    "tags": [
     "SOLUTION"
    ]
   },
   "outputs": [],
   "source": [
    "X=ReducedFunction(domain).getX()\n",
    "m=wherePositive(X[1]-(Depth-D))"
   ]
  },
  {
   "cell_type": "markdown",
   "metadata": {},
   "source": [
    "New we can set the velocity field `c` and wave number `k` as $k=\\frac{\\omega}{c}$:"
   ]
  },
  {
   "cell_type": "code",
   "execution_count": 6,
   "metadata": {
    "tags": [
     "SOLUTION"
    ]
   },
   "outputs": [],
   "source": [
    "c=c_top*m+c_bottom*(1-m)"
   ]
  },
  {
   "cell_type": "code",
   "execution_count": 7,
   "metadata": {
    "tags": [
     "SOLUTION"
    ]
   },
   "outputs": [],
   "source": [
    "Omega=2*np.pi*f\n",
    "k=Omega/c"
   ]
  },
  {
   "cell_type": "code",
   "execution_count": 8,
   "metadata": {},
   "outputs": [],
   "source": [
    "c_np=convertToNumpy(c)\n",
    "x_np=convertToNumpy(c.getX())"
   ]
  },
  {
   "cell_type": "code",
   "execution_count": 9,
   "metadata": {},
   "outputs": [
    {
     "data": {
      "text/plain": [
       "<matplotlib.colorbar.Colorbar at 0x7f35d4a3f220>"
      ]
     },
     "execution_count": 9,
     "metadata": {},
     "output_type": "execute_result"
    },
    {
     "data": {
      "image/png": "[encoded data removed]",
      "text/plain": [
       "<Figure size 432x288 with 2 Axes>"
      ]
     },
     "metadata": {
      "needs_background": "light"
     },
     "output_type": "display_data"
    }
   ],
   "source": [
    "plt.figure()\n",
    "plt.tricontourf(x_np[0], x_np[1], c_np[0], 15)\n",
    "plt.xlabel('x [m]')\n",
    "plt.ylabel('y [m]')\n",
    "plt.colorbar()"
   ]
  },
  {
   "cell_type": "markdown",
   "metadata": {},
   "source": [
    "## PML \n",
    "\n",
    "To minimize reflection from the boundary we introduce the PML conditions.\n",
    "The key step is to introduce the absorbing functions $Q_i$. \n",
    "We start with the vertical  absorbing functions $Q_1$ which is defined by  \\eqref{EQQ1}.\n",
    "$Q_1$ is defined at the numerical integration points."
   ]
  },
  {
   "cell_type": "code",
   "execution_count": 10,
   "metadata": {},
   "outputs": [],
   "source": [
    "Lpml=200 # thickness of the absorbtion layer [m] \n",
    "Mpml=3   # decay exponent\n",
    "Spml=0.5   # absorbtion strength"
   ]
  },
  {
   "cell_type": "markdown",
   "metadata": {},
   "source": [
    "`Q1` is build as a product of the monomial part $\\left( \\frac{L_{pml}-x_1}{L_{pml}} \\right)^{M_{pml}}$\n",
    "and a mask that makes sure that the monomial part is applied in the layer of thickness $L_{pml}$ near the bottom \n",
    "boundary only:"
   ]
  },
  {
   "cell_type": "code",
   "execution_count": 11,
   "metadata": {
    "tags": [
     "SOLUTION"
    ]
   },
   "outputs": [],
   "source": [
    "X=Function(domain).getX()\n",
    "Q1=wherePositive(Lpml-X[1])*((Lpml-X[1])/Lpml)**Mpml "
   ]
  },
  {
   "cell_type": "markdown",
   "metadata": {},
   "source": [
    "Similarly in the horizontal direction:"
   ]
  },
  {
   "cell_type": "code",
   "execution_count": 12,
   "metadata": {
    "tags": [
     "SOLUTION"
    ]
   },
   "outputs": [],
   "source": [
    "Q0_l=wherePositive(Lpml-X[0])*((Lpml-X[0])/Lpml)**Mpml\n",
    "Q0_r=wherePositive(X[0]-(Width-Lpml))*((X[0]-(Width-Lpml))/Lpml)**Mpml"
   ]
  },
  {
   "cell_type": "markdown",
   "metadata": {},
   "source": [
    "Let's make sure the Q's are set up correctly and take a look at the distribution. To reduce rendering time\n",
    "we interpolate to element centers first."
   ]
  },
  {
   "cell_type": "code",
   "execution_count": 13,
   "metadata": {},
   "outputs": [
    {
     "data": {
      "text/plain": [
       "<matplotlib.colorbar.Colorbar at 0x7f35d49320a0>"
      ]
     },
     "execution_count": 13,
     "metadata": {},
     "output_type": "execute_result"
    },
    {
     "data": {
      "image/png": "[encoded data removed]",
      "text/plain": [
       "<Figure size 648x216 with 2 Axes>"
      ]
     },
     "metadata": {
      "needs_background": "light"
     },
     "output_type": "display_data"
    }
   ],
   "source": [
    "Q=interpolate(Q1+Q0_l+Q0_r, ReducedFunction(domain))\n",
    "Q_np=convertToNumpy(Q)\n",
    "x_np=convertToNumpy(Q.getX())\n",
    "\n",
    "\n",
    "plt.figure(figsize=(9,3))\n",
    "plt.tricontourf(x_np[0], x_np[1], Q_np[0], 15)\n",
    "plt.xlabel('x0 [m]')\n",
    "plt.ylabel('x1 [m]')\n",
    "plt.title(\"Absorbing Function Q\")\n",
    "plt.colorbar()"
   ]
  },
  {
   "cell_type": "markdown",
   "metadata": {},
   "source": [
    "Now we can set the scaling factors $\\gamma_i = 1 -\\mathbf{j} \\frac{S_{pml}}{k} Q_i$:"
   ]
  },
  {
   "cell_type": "code",
   "execution_count": 14,
   "metadata": {},
   "outputs": [],
   "source": [
    "gamma0=1-1j*Spml/k*(Q0_l+Q0_r) \n",
    "gamma1=1-1j*Spml/k*Q1"
   ]
  },
  {
   "cell_type": "markdown",
   "metadata": {},
   "source": [
    "## Definition of the PDE\n",
    "\n",
    "Now we are ready to set-up the PDE. As the PML coefficient has complex values we need to set up the PDE\n",
    "as a complex PDE. Also we use the direct solver which is the better choice for this PDE."
   ]
  },
  {
   "cell_type": "code",
   "execution_count": 15,
   "metadata": {
    "tags": [
     "SOLUTION"
    ]
   },
   "outputs": [],
   "source": [
    "from esys.escript.linearPDEs import LinearSinglePDE\n",
    "pde=LinearSinglePDE(domain, isComplex=True)"
   ]
  },
  {
   "cell_type": "markdown",
   "metadata": {},
   "source": [
    "Again we need to use the direct solver:"
   ]
  },
  {
   "cell_type": "code",
   "execution_count": 16,
   "metadata": {},
   "outputs": [],
   "source": [
    "from esys.escript.linearPDEs import SolverOptions\n",
    "pde.getSolverOptions().setSolverMethod(SolverOptions.DIRECT)"
   ]
  },
  {
   "cell_type": "markdown",
   "metadata": {},
   "source": [
    "We setting the coefficient `A` following \\eqref{eqAF}. We use the \n",
    "`Tensor` function to create $2 \\times 2$ matrix for each integration point. It is initialized with zero (first argument) and we then modify the main diagonal entries according to the PML absorption."
   ]
  },
  {
   "cell_type": "code",
   "execution_count": 17,
   "metadata": {
    "tags": [
     "SOLUTION"
    ]
   },
   "outputs": [],
   "source": [
    "myA=Tensor(0.,Function(domain))\n",
    "myA[0,0]=gamma1/gamma0\n",
    "myA[1,1]=gamma0/gamma1"
   ]
  },
  {
   "cell_type": "markdown",
   "metadata": {},
   "source": [
    "And now we set `A` and `D`. Don't forget the factor `gamma1*gamma0` in `D` according to PML. "
   ]
  },
  {
   "cell_type": "code",
   "execution_count": 23,
   "metadata": {
    "tags": [
     "SOLUTION"
    ]
   },
   "outputs": [],
   "source": [
    "pde.setValue(A=myA, D=-gamma1*gamma0*k**2)"
   ]
  },
  {
   "cell_type": "markdown",
   "metadata": {},
   "source": [
    "The missing bit is the point source. This is set using a `Data` object with \n",
    "the `DiracDeltaFunctions(domain)` attribute. `Data` object with this attribute using the Dirac point \n",
    "`diracPoints` and corresponding tags `diracTags` introduced into the `domain` when it was defined. \n",
    "The source term - let's call it `src` - is set up in two steps: \n",
    "First a `Scalar` `Data` object is created which is linked with the Dirac point is initialized with zero."
   ]
  },
  {
   "cell_type": "code",
   "execution_count": 24,
   "metadata": {
    "tags": [
     "SOLUTION"
    ]
   },
   "outputs": [],
   "source": [
    "src=Scalar(0., DiracDeltaFunctions(domain) )"
   ]
  },
  {
   "cell_type": "markdown",
   "metadata": {},
   "source": [
    "Then the specific Dirac point labeled \"source66\" get assigned the value one. Notice that \n",
    "other Dirac point are not effected. Here we assign the value `1`:"
   ]
  },
  {
   "cell_type": "code",
   "execution_count": 25,
   "metadata": {
    "tags": [
     "SOLUTION"
    ]
   },
   "outputs": [],
   "source": [
    "src.setTaggedValue('source66' , 1.) "
   ]
  },
  {
   "cell_type": "markdown",
   "metadata": {},
   "source": [
    "This `src` is now assigned to the `y_dirac` coefficient of the PDE:"
   ]
  },
  {
   "cell_type": "code",
   "execution_count": 28,
   "metadata": {
    "tags": [
     "SOLUTION"
    ]
   },
   "outputs": [],
   "source": [
    "pde.setValue(y_dirac=src)"
   ]
  },
  {
   "cell_type": "markdown",
   "metadata": {},
   "source": [
    "We are ready to get the solution:"
   ]
  },
  {
   "cell_type": "code",
   "execution_count": 29,
   "metadata": {
    "tags": [
     "SOLUTION"
    ]
   },
   "outputs": [],
   "source": [
    "u=pde.getSolution()"
   ]
  },
  {
   "cell_type": "markdown",
   "metadata": {},
   "source": [
    "Let's see how it looks like:"
   ]
  },
  {
   "cell_type": "code",
   "execution_count": 30,
   "metadata": {},
   "outputs": [
    {
     "data": {
      "text/plain": [
       "<matplotlib.colorbar.Colorbar at 0x7f35d47fb910>"
      ]
     },
     "execution_count": 30,
     "metadata": {},
     "output_type": "execute_result"
    },
    {
     "data": {
      "image/png": "[encoded data removed]",
      "text/plain": [
       "<Figure size 648x216 with 2 Axes>"
      ]
     },
     "metadata": {
      "needs_background": "light"
     },
     "output_type": "display_data"
    }
   ],
   "source": [
    "#u_np=convertToNumpy(u.real())\n",
    "u_np=convertToNumpy(abs(u))\n",
    "x_np=convertToNumpy(u.getFunctionSpace().getX())\n",
    "\n",
    "plt.figure(figsize=(9,3))\n",
    "plt.tricontourf(x_np[0], x_np[1], u_np[0], 15, cmap='RdBu_r')\n",
    "plt.xlabel('y [m]')\n",
    "plt.ylabel('z [m]')\n",
    "plt.title(\"Magnitude of Solution\")\n",
    "plt.colorbar()"
   ]
  },
  {
   "cell_type": "markdown",
   "metadata": {},
   "source": [
    "## Setting  up geophones:\n",
    "\n",
    "To create a synthetic CDP gather or even run FWI we pick value from $u$ at specific location\n",
    "simulating a line of geophones. Here we assume that `NGeophone` geophones are located at \n",
    "surface stating at offset `Offset` from the left side of the domain. The geophones are assumed to be equally spaced \n",
    "with distance `GeophoneSpacing`:"
   ]
  },
  {
   "cell_type": "code",
   "execution_count": 31,
   "metadata": {},
   "outputs": [],
   "source": [
    "GeophoneSpacing=Width/NE1\n",
    "NGeophone=201\n",
    "OffsetGeophones=500"
   ]
  },
  {
   "cell_type": "markdown",
   "metadata": {},
   "source": [
    "Let's check is the last geophone is still located in the domain:"
   ]
  },
  {
   "cell_type": "code",
   "execution_count": 32,
   "metadata": {
    "tags": [
     "SOLUTION"
    ]
   },
   "outputs": [],
   "source": [
    "assert OffsetGeophones+GeophoneSpacing * (NGeophone-1) < Width"
   ]
  },
  {
   "cell_type": "markdown",
   "metadata": {},
   "source": [
    "Set the actual locations of the geophones in the domain:"
   ]
  },
  {
   "cell_type": "code",
   "execution_count": 34,
   "metadata": {
    "tags": [
     "SOLUTION"
    ]
   },
   "outputs": [],
   "source": [
    "geophone_locations = [ (OffsetGeophones+GeophoneSpacing * j, Depth) for j in range(NGeophone) ] "
   ]
  },
  {
   "cell_type": "markdown",
   "metadata": {},
   "source": [
    "We use the `Locator` to pick values from the solution `u`:"
   ]
  },
  {
   "cell_type": "code",
   "execution_count": 35,
   "metadata": {
    "tags": [
     "SOLUTION"
    ]
   },
   "outputs": [],
   "source": [
    "from esys.escript.pdetools import Locator\n",
    "geophones=Locator(u.getFunctionSpace(), geophone_locations)"
   ]
  },
  {
   "cell_type": "markdown",
   "metadata": {},
   "source": [
    "Now we can pick the amplitudes at the geophones:"
   ]
  },
  {
   "cell_type": "code",
   "execution_count": 36,
   "metadata": {},
   "outputs": [],
   "source": [
    "u_at_geophone=geophones.getValue(abs(u))"
   ]
  },
  {
   "cell_type": "markdown",
   "metadata": {},
   "source": [
    "We get the true offsets of the geophones - just in case ..."
   ]
  },
  {
   "cell_type": "code",
   "execution_count": 37,
   "metadata": {
    "tags": [
     "SOLUTION"
    ]
   },
   "outputs": [],
   "source": [
    "geophone_offsets=[ x[0] for x in geophones.getX() ]"
   ]
  },
  {
   "cell_type": "markdown",
   "metadata": {},
   "source": [
    "And now we can plot the amplitude of `u` along the line of geophones:"
   ]
  },
  {
   "cell_type": "code",
   "execution_count": 38,
   "metadata": {},
   "outputs": [
    {
     "data": {
      "image/png": "[encoded data removed]",
      "text/plain": [
       "<Figure size 432x288 with 1 Axes>"
      ]
     },
     "metadata": {
      "needs_background": "light"
     },
     "output_type": "display_data"
    }
   ],
   "source": [
    "plt.figure()\n",
    "plt.plot(geophone_offsets, u_at_geophone)\n",
    "plt.scatter(geophone_offsets, u_at_geophone, s=3)\n",
    "plt.xlabel('x0 [m]')\n",
    "plt.ylabel('amplitude [m]')\n",
    "plt.title(\"Amplitude vs Offset\")\n",
    "plt.savefig(\"wave.png\")"
   ]
  },
  {
   "cell_type": "code",
   "execution_count": null,
   "metadata": {},
   "outputs": [],
   "source": []
  }
 ],
 "metadata": {
  "celltoolbar": "Tags",
  "kernelspec": {
   "display_name": "Python 3",
   "language": "python",
   "name": "python3"
  },
  "language_info": {
   "codemirror_mode": {
    "name": "ipython",
    "version": 3
   },
   "file_extension": ".py",
   "mimetype": "text/x-python",
   "name": "python",
   "nbconvert_exporter": "python",
   "pygments_lexer": "ipython3",
   "version": "3.8.10"
  },
  "latex_envs": {
   "LaTeX_envs_menu_present": true,
   "autoclose": false,
   "autocomplete": true,
   "bibliofile": "biblio.bib",
   "cite_by": "apalike",
   "current_citInitial": 1,
   "eqLabelWithNumbers": true,
   "eqNumInitial": 1,
   "hotkeys": {
    "equation": "Ctrl-E",
    "itemize": "Ctrl-I"
   },
   "labels_anchors": false,
   "latex_user_defs": false,
   "report_style_numbering": false,
   "user_envs_cfg": false
  },
  "toc": {
   "base_numbering": 1,
   "nav_menu": {},
   "number_sections": true,
   "sideBar": false,
   "skip_h1_title": false,
   "title_cell": "Table of Contents",
   "title_sidebar": "Contents",
   "toc_cell": true,
   "toc_position": {
    "height": "calc(100% - 180px)",
    "left": "10px",
    "top": "150px",
    "width": "384px"
   },
   "toc_section_display": false,
   "toc_window_display": false
  },
  "varInspector": {
   "cols": {
    "lenName": 16,
    "lenType": 16,
    "lenVar": 40
   },
   "kernels_config": {
    "python": {
     "delete_cmd_postfix": "",
     "delete_cmd_prefix": "del ",
     "library": "var_list.py",
     "varRefreshCmd": "print(var_dic_list())"
    },
    "r": {
     "delete_cmd_postfix": ") ",
     "delete_cmd_prefix": "rm(",
     "library": "var_list.r",
     "varRefreshCmd": "cat(var_dic_list()) "
    }
   },
   "position": {
    "height": "752.85px",
    "left": "1550px",
    "right": "20px",
    "top": "120px",
    "width": "350px"
   },
   "types_to_exclude": [
    "module",
    "function",
    "builtin_function_or_method",
    "instance",
    "_Feature"
   ],
   "window_display": false
  }
 },
 "nbformat": 4,
 "nbformat_minor": 2
}
