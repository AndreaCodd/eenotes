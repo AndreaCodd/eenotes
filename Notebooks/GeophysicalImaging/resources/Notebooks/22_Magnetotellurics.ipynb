{
 "cells": [
  {
   "cell_type": "markdown",
   "metadata": {
    "toc": true
   },
   "source": [
    "<h1>Table of Contents<span class=\"tocSkip\"></span></h1>\n",
    "<div class=\"toc\"><ul class=\"toc-item\"><li><span><a href=\"#Magnetotellurics\" data-toc-modified-id=\"Magnetotellurics-1\"><span class=\"toc-item-num\">1&nbsp;&nbsp;</span>Magnetotellurics</a></span><ul class=\"toc-item\"><li><span><a href=\"#References\" data-toc-modified-id=\"References-1.1\"><span class=\"toc-item-num\">1.1&nbsp;&nbsp;</span>References</a></span></li><li><span><a href=\"#Maxwell's-Equations-in-2D\" data-toc-modified-id=\"Maxwell's-Equations-in-2D-1.2\"><span class=\"toc-item-num\">1.2&nbsp;&nbsp;</span>Maxwell's Equations in 2D</a></span></li><li><span><a href=\"#Impedance\" data-toc-modified-id=\"Impedance-1.3\"><span class=\"toc-item-num\">1.3&nbsp;&nbsp;</span>Impedance</a></span></li><li><span><a href=\"#TM-mode-in-esys-escript\" data-toc-modified-id=\"TM-mode-in-esys-escript-1.4\"><span class=\"toc-item-num\">1.4&nbsp;&nbsp;</span>TM-mode in <code>esys-escript</code></a></span></li><li><span><a href=\"#Example-Problem\" data-toc-modified-id=\"Example-Problem-1.5\"><span class=\"toc-item-num\">1.5&nbsp;&nbsp;</span>Example Problem</a></span></li><li><span><a href=\"#PDE-Solution\" data-toc-modified-id=\"PDE-Solution-1.6\"><span class=\"toc-item-num\">1.6&nbsp;&nbsp;</span>PDE Solution</a></span></li><li><span><a href=\"#Impedance\" data-toc-modified-id=\"Impedance-1.7\"><span class=\"toc-item-num\">1.7&nbsp;&nbsp;</span>Impedance</a></span></li><li><span><a href=\"#Transect\" data-toc-modified-id=\"Transect-1.8\"><span class=\"toc-item-num\">1.8&nbsp;&nbsp;</span>Transect</a></span></li><li><span><a href=\"#More-Work:\" data-toc-modified-id=\"More-Work:-1.9\"><span class=\"toc-item-num\">1.9&nbsp;&nbsp;</span>More Work:</a></span></li></ul></li></ul></div>"
   ]
  },
  {
   "cell_type": "markdown",
   "metadata": {},
   "source": [
    "by Lutz Gross, The University of Queensland, Australia\n",
    "<a href=\"mailto:l.gross@uq.edu.au\">l.gross@uq.edu.au</a>\n",
    "<a rel=\"license\" href=\"http://creativecommons.org/licenses/by-sa/4.0/\"><img alt=\"Creative Commons License\" style=\"border-width:0\" src=\"https://i.creativecommons.org/l/by-sa/4.0/88x31.png\" /></a><br />This work is licensed under a <a rel=\"license\" href=\"http://creativecommons.org/licenses/by-sa/4.0/\">Creative Commons Attribution-ShareAlike 4.0 International License</a>."
   ]
  },
  {
   "cell_type": "markdown",
   "metadata": {},
   "source": [
    "# Magnetotellurics\n",
    "\n",
    "In this section we discuss how to solve the PDE for 2D magnetotellurics (MT) due to a variation of\n",
    "the electric conductivity $\\sigma$ in the subsurface using `esys.escript`. It is assumed that you have \n",
    "worked through the [introduction section on `esys.escript`](escriptBasics.ipynb). \n",
    "First we will provide the basic theory:\n",
    "\n",
    "## References\n",
    "\n",
    "\n",
    "- [Chave, A. D., & Jones, A. G. (Eds.) (2012). The magnetotelluric method: Theory and practice. New York: Cambridge University Press. ](https://doi.org/10.1017/CBO9781139020138)\n",
    "- [R. Schaa, L. Gross, J. du Plessis: “PDE-based geophysical modelling using Finite Elements: examples from 3-D resistivity and 2-D magnetotellurics”, 2016, Journal of Geophysics and Engineering, 13, S59-73](https://doi.org/10.1088/1742-2132/13/2/S59)\n",
    "- [Niwas, S., Gupta, P.K. & Gaur, V.K. J Earth Syst Sci (2005) 114: 523. https://doi.org/10.1007/BF02702028](https://doi.org/10.1007/BF02702028)"
   ]
  },
  {
   "cell_type": "markdown",
   "metadata": {},
   "source": [
    "\n",
    "## Maxwell's Equations in 2D\n",
    "\n",
    "In this prac we are investigating the magnetotellurics (MT) method. The MT\n",
    "is targeting to recover the distribution of the electric conductivity $\\sigma$ (in [S/m]) in the subsurface.\n",
    "It is an electro-magnetic method (EM) using natural sources of electro-magnetic fields a very low \n",
    "frequency which allows to target very deep targets ($>50km$) but at low resolution. \n",
    "Here we will focus on the case of $H$−polarisation (also known as TM mode). \n",
    "In this case it is assumed that the incoming magnetic field is polarized in direction $x$ perpendicular to the \n",
    "$yz$ plane of investigation. There is also the case of $E$ polarization (also known as TE mode) \n",
    "where the electric field polarized in the direction $x$.   \n",
    "\n",
    "For the TM mode the modeling equations are given as the a 2D simplification of the Maxwell's equations.\n",
    "For the given transversal magnetic field $H_x$ the vertical and \n",
    "horizontal components $E_z$ and $E_y$ of the electric field are given as \n",
    "\\begin{equation}\\label{eqTMEz}\n",
    "E_z= - \\rho \\frac{\\partial H_x}{\\partial y }\n",
    "\\end{equation} \n",
    "\\begin{equation}\\label{eqTMEy}\n",
    "E_y = \\rho \\frac{\\partial H_x}{\\partial z }\n",
    "\\end{equation} \n",
    "with resistivity $\\rho = \\frac{1}{\\sigma}$.\n",
    "The horizontal components then need to fulfill the equation:\n",
    "\\begin{equation}\\label{eqMaxwell}\n",
    "\\frac{\\partial E_z}{\\partial y }  - \\frac{\\partial E_y}{ \\partial z } = - \\mathbf{j} \\omega \\mu_0 H_x\n",
    "\\end{equation}\n",
    "where $\\mathbf{j}$ is the complex unity, $\\omega$ is the angular frequency ([Hz]) \n",
    "and $\\mu_0= 4 \\pi \\cdot 10^{-7} \\frac{N}{A^2}$ is the magnetic constant.\n",
    "Inserting \\eqref{eqTMEz} and \\eqref{eqTMEy} into \\eqref{eqMaxwell} is resulting in\n",
    "\\begin{equation}\\label{eqMaxwella}\n",
    "- \\frac{\\partial }{\\partial y } \\rho \\frac{\\partial H_x}{\\partial y }  \n",
    "- \\frac{\\partial }{\\partial z } \\rho \\frac{\\partial H_x}{\\partial z } \n",
    "+ \\mathbf{j} \\omega \\mu_0 H_x = 0\n",
    "\\end{equation}\n",
    "which is second order PDE. \n"
   ]
  },
  {
   "cell_type": "markdown",
   "metadata": {},
   "source": [
    "## Impedance\n",
    "\n",
    "Field observations will deliver impedance as function of \n",
    "angular frequency $\\omega$. In the TM mode the impedance is given as \n",
    "\\begin{equation}\\label{eqImp}\n",
    "Z_{yx}(\\omega)=\\frac{E_y}{H_x}\n",
    "\\end{equation}\n",
    "This is a complex number. For interpretation an alternative representation\n",
    "based on apparent resistivity $\\rho_a$ and phase $\\phi$ is commonly used. \n",
    "These quantities are derived from the impedance $Z_{yx}$ as\n",
    "\\begin{equation}\\label{eqRhoa}\n",
    "\\rho_a(\\omega) =\\frac{1}{\\omega \\mu_0} |Z_{yx}(\\omega)|^2\n",
    "\\end{equation}\n",
    "and \n",
    "\\begin{equation}\\label{eqPhase}\n",
    "\\phi(\\omega)= \\arctan( \\frac{Z_{yx}(\\omega).imag}{Z_{yx}(\\omega).real})\n",
    "\\end{equation}\n",
    "For constant conductivity $\\sigma$. \n",
    "the apparent resistivity and the phase are frequency independent \n",
    "and calculate as \n",
    "\\begin{equation}\\label{eqRhoaHH}\n",
    "\\rho_a(\\omega) =\\frac{1}{\\sigma}\n",
    "\\end{equation}\n",
    "and \n",
    "\\begin{equation}\\label{eqPhaseHH}\n",
    "\\phi(\\omega)= 45^o\n",
    "\\end{equation}"
   ]
  },
  {
   "cell_type": "markdown",
   "metadata": {},
   "source": [
    "##  TM-mode in `esys-escript`\n",
    "\n",
    "Now we need to define the PDE using the  `LinearSinglePDE` PDE template PDE. We work in the $x_0=y$\n",
    "and $x_1=z$ coordinate system. \n",
    "\n",
    "Here we restate the template: When $u$ is the unknown\n",
    "we define the pseudo-flux vector $\\mathbf{F}$ which is in essence the negative gradient of the solution \n",
    "times some matrix $\\mathbf{A}$:\n",
    "\\begin{equation} \\label{EQESYSFLUX}\n",
    "\\mathbf{F} = - \\mathbf{A} \\mathbf{\\nabla} u + \\mathbf{X}\n",
    "\\end{equation} \n",
    "with matrix $\\mathbf{A}$ and vector  $\\mathbf{X}$.\n",
    "The pseudo-flux vector $\\mathbf{F}$ needs to fulfill the conservation equation : \n",
    "\\begin{equation}\\label{EQESYSCONSERVATION}\n",
    "\\mathbf{\\nabla}^t \\; \\mathbf{F} + D \\; u = Y \n",
    "\\end{equation}\n",
    "where $D$ is a scalar and $Y$ is the right hand side. \n",
    "\n",
    "\n",
    "\n",
    "The Maxwell equation \\eqref{eqMaxwell} in the $x_0,x_1$-coordinates reads as\n",
    "\\begin{equation}\\label{eqMaxwell2}\n",
    "\\frac{\\partial E_z}{\\partial x_0}  - \\frac{\\partial E_y}{ \\partial x_1 } + \\mathbf{j} \\omega \\mu_0 H_x =0\n",
    "\\end{equation}\n",
    "from which we can identify the $D=\\mathbf{j} \\omega \\mu_0$, $Y=0$\n",
    "and the pseudo-flux\n",
    "\\begin{equation}\\label{EQFLUX1}\n",
    "\\mathbf{F} = \n",
    "\\begin{bmatrix}\n",
    " F_0 \\\\\n",
    " F_1\n",
    "\\end{bmatrix}\n",
    "= \\begin{bmatrix}\n",
    " E_z \\\\\n",
    " -E_y\n",
    "\\end{bmatrix}\n",
    "\\end{equation}\n",
    "The unknown of the problem becomes $u=H_x$ and \n",
    "using \\eqref{eqTMEz} and \\eqref{eqTMEy}\n",
    "hence the flux is given as \n",
    "\\begin{equation}\\label{EQFLUX2}\n",
    "\\mathbf{F} = \n",
    "\\begin{bmatrix}\n",
    " - \\rho \\frac{\\partial H_x}{\\partial x_0 } \\\\\n",
    " - \\rho \\frac{\\partial H_x}{\\partial x_1 } \n",
    "\\end{bmatrix}\n",
    "= - \n",
    "\\begin{bmatrix}\n",
    "\\rho \\frac{d u}{d x_0} & + & 0 \\frac{d u}{d x_1}\\\\\n",
    "0 \\frac{d u}{d x_0} & + & \\rho \\frac{d u}{d x_1}\n",
    "\\end{bmatrix}\n",
    "=- \\mathbf{A} \\nabla u\n",
    "\\end{equation} \n",
    "This gives the matrix $\\mathbf{A}$\n",
    "\\begin{equation}\n",
    "\\begin{bmatrix}\n",
    "A_{00} & A_{01} \\\\\n",
    "A_{10}  & A_{11} \n",
    "\\end{bmatrix} \n",
    "= \n",
    "\\begin{bmatrix}\n",
    "\\rho & 0  \\\\\n",
    "0  & \\rho \n",
    "\\end{bmatrix}\n",
    "\\end{equation}\n",
    "and  $\\mathbf{X}=0$."
   ]
  },
  {
   "cell_type": "markdown",
   "metadata": {},
   "source": [
    "## Example Problem \n",
    "\n",
    "We consider a step of a conductive anomaly ($\\rho_a=0.5$) within a resistive media ($rho_b=100.$)\n",
    "and want to calculate the distribution of the impedance $Z_{yx}$ along/near the surface. \n",
    "The anomaly is located at a depth of $D$ below the surface and has a width $W$. The vertical extend of the anomaly is given as $H$.\n",
    "The domain has horizontal extend of $L0=40km$ and depth of $L1=80km$ subdived into $NE0 \\times NE1$ \n",
    "elements. We want to plot the profile of the apparent resistivity and the phase for frequencies $f=1 Hz$.\n",
    "\n",
    " <img src=\"./Data/MTImage1.png\" alt=\"MT domain\" width=\"500\"> "
   ]
  },
  {
   "cell_type": "code",
   "execution_count": 1,
   "metadata": {},
   "outputs": [],
   "source": [
    "L0=80000   # horizontal extend [m]\n",
    "L1=40000   # depth [m] \n",
    "NE0=800    # number of element in horizontal direction\n",
    "NE1=400    # number of element in vertical direction\n",
    "\n",
    "rho_b=100  # background resistivity [Ohm m]\n",
    "rho_a=0.5  # resistivity in the anomaly [Ohm m]\n",
    "D=250.     # depth of the top edge of the anomaly [m]\n",
    "W=1000.    # width of the anomaly [m]\n",
    "H=2000.    # vertical extend of the anomaly [m]\n",
    "OFFSET=1000 # offset of the central vertical axis of the anomaly from the domain (<0 move to the left, 0> move to the right) \n",
    "\n",
    "import numpy as np\n",
    "Mu0=4*np.pi*1e-7\n",
    "\n"
   ]
  },
  {
   "cell_type": "code",
   "execution_count": 2,
   "metadata": {
    "tags": [
     "SOLUTION"
    ]
   },
   "outputs": [
    {
     "data": {
      "text/plain": [
       "(100.0, 100.0)"
      ]
     },
     "execution_count": 2,
     "metadata": {},
     "output_type": "execute_result"
    }
   ],
   "source": [
    "h0, h1=L0/NE0, L1/NE1\n",
    "h0, h1"
   ]
  },
  {
   "cell_type": "markdown",
   "metadata": {},
   "source": [
    "First step is to set up the domain:"
   ]
  },
  {
   "cell_type": "code",
   "execution_count": 3,
   "metadata": {
    "tags": [
     "SOLUTION"
    ]
   },
   "outputs": [],
   "source": [
    "from esys.escript import *\n",
    "from esys.finley import Rectangle\n",
    "\n",
    "domain=Rectangle(n0=NE0, n1=NE1, l0=L0, l1=L1)"
   ]
  },
  {
   "cell_type": "markdown",
   "metadata": {},
   "source": [
    "## PDE Solution\n",
    "\n",
    "Then we initiate the PDE we need to solve for $u=H_x$. We need to tell the `LinearSinglePDE` that the \n",
    "PDE has coefficients with complex values:"
   ]
  },
  {
   "cell_type": "code",
   "execution_count": 4,
   "metadata": {
    "tags": [
     "SOLUTION"
    ]
   },
   "outputs": [],
   "source": [
    "from esys.escript.linearPDEs import LinearSinglePDE\n",
    "pde=LinearSinglePDE(domain, isComplex=True)"
   ]
  },
  {
   "cell_type": "markdown",
   "metadata": {},
   "source": [
    "In general `esys.escript` tries to use iterative solvers for the discrete version of the PDE as this\n",
    "less memory demanding and in many cases very fast.\n",
    "In this particular application case we want make sure that a direct solver is used as due to the complex $D$ the\n",
    "PDE is not necessarily suitable for an iterative solver:  "
   ]
  },
  {
   "cell_type": "code",
   "execution_count": 5,
   "metadata": {
    "tags": [
     "SOLUTION"
    ]
   },
   "outputs": [],
   "source": [
    "from esys.escript.linearPDEs import SolverOptions\n",
    "pde.getSolverOptions().setSolverMethod(SolverOptions.DIRECT)"
   ]
  },
  {
   "cell_type": "markdown",
   "metadata": {},
   "source": [
    "The PDE coefficient `D` is obvious from \\eqref{eqMaxwell2}. We pick a frequency of $f=1Hz$."
   ]
  },
  {
   "cell_type": "code",
   "execution_count": 6,
   "metadata": {
    "tags": [
     "SOLUTION"
    ]
   },
   "outputs": [],
   "source": [
    "f=1.0# Hz\n",
    "pde.setValue(D=1j*2*np.pi*f*Mu0)"
   ]
  },
  {
   "cell_type": "markdown",
   "metadata": {},
   "source": [
    "Setting the conductivity distribution needs a bit of thinking. We introduce four masks (with values values `0` and `1`) which are then combined the to define the region of the anomaly (we assume that :\n",
    "\n",
    "- `m1` = has values `1` for elements below the top edge of the anomaly: $x_1 \\le L1-D$\n",
    "- `m2` = has values `1` for elements above the bottom edge of the anomaly: $x_1 \\ge L1-D-H$\n",
    "- `m3` = has values `1` for elements to the right of left edge of the anomaly: $x_0 \\ge L0/2+OFFSET-W/2$\n",
    "- `m4` = has values `1` for elements to the left of right edge of the anomaly: $x_0 \\le L0/2+OFFSET+W/2$\n"
   ]
  },
  {
   "cell_type": "code",
   "execution_count": 7,
   "metadata": {
    "tags": [
     "SOLUTION"
    ]
   },
   "outputs": [],
   "source": [
    "X=ReducedFunction(domain).getX()\n",
    "m1=whereNonPositive(X[1]-(L1-D))\n",
    "m2=whereNonNegative(X[1]-(L1-D-H))\n",
    "m3=whereNonNegative(X[0]-(L0/2+OFFSET-W/2))\n",
    "m4=whereNonPositive(X[0]-(L0/2+OFFSET+W/2))"
   ]
  },
  {
   "cell_type": "markdown",
   "metadata": {},
   "source": [
    "The product `m1*m2*m3*m4` of the four masks has value `1` where all four masks have value `1` and this is hopefully the anomaly:"
   ]
  },
  {
   "cell_type": "code",
   "execution_count": 8,
   "metadata": {
    "tags": [
     "SOLUTION"
    ]
   },
   "outputs": [],
   "source": [
    "m=m1*m2*m3*m4"
   ]
  },
  {
   "cell_type": "markdown",
   "metadata": {},
   "source": [
    "To make sure that the masks are set correctly we make a plot: "
   ]
  },
  {
   "cell_type": "code",
   "execution_count": 9,
   "metadata": {},
   "outputs": [],
   "source": [
    "#%matplotlib notebook\n",
    "import matplotlib.pyplot as plt"
   ]
  },
  {
   "cell_type": "markdown",
   "metadata": {},
   "source": [
    "As usual we first need to convert the `Data` object `m` into `numpy` array and also need to get the locations where values are hold:"
   ]
  },
  {
   "cell_type": "code",
   "execution_count": 10,
   "metadata": {
    "tags": [
     "SOLUTION"
    ]
   },
   "outputs": [],
   "source": [
    "m_np=convertToNumpy(m)\n",
    "x_np=convertToNumpy(m.getX())"
   ]
  },
  {
   "cell_type": "code",
   "execution_count": 11,
   "metadata": {},
   "outputs": [
    {
     "data": {
      "text/plain": [
       "<matplotlib.colorbar.Colorbar at 0x7f4f9cbc4820>"
      ]
     },
     "execution_count": 11,
     "metadata": {},
     "output_type": "execute_result"
    },
    {
     "data": {
      "image/png": "[encoded data removed]",
      "text/plain": [
       "<Figure size 432x288 with 2 Axes>"
      ]
     },
     "metadata": {
      "needs_background": "light"
     },
     "output_type": "display_data"
    }
   ],
   "source": [
    "plt.figure()\n",
    "plt.tricontourf(x_np[0], x_np[1], m_np[0], 15)\n",
    "plt.xlabel('x [m]')\n",
    "plt.ylabel('y [m]')\n",
    "plt.colorbar()"
   ]
  },
  {
   "cell_type": "markdown",
   "metadata": {},
   "source": [
    "Now we have a mask `m` which is has value `1` for the anomaly and `0`. This allows us to set the \n",
    "resistivity `rho`:"
   ]
  },
  {
   "cell_type": "code",
   "execution_count": 12,
   "metadata": {
    "tags": [
     "SOLUTION"
    ]
   },
   "outputs": [],
   "source": [
    "rho=rho_b*(1-m)+rho_a*m"
   ]
  },
  {
   "cell_type": "markdown",
   "metadata": {},
   "source": [
    "Now we are ready to set the `A` coefficient. Keep in mind that the coefficient `A` expects values at numerical integration points so `rho` - with values held at element centers - need to made available at numerical integration points via interpolation to `Function(domain)`."
   ]
  },
  {
   "cell_type": "code",
   "execution_count": 13,
   "metadata": {
    "tags": [
     "SOLUTION"
    ]
   },
   "outputs": [],
   "source": [
    "rho=interpolate(rho, Function(domain))\n",
    "pde.setValue(A=rho*np.eye(2)) "
   ]
  },
  {
   "cell_type": "markdown",
   "metadata": {},
   "source": [
    "The magnetic field is set to one at the top of the domain $x_1=L1$. To do this we need create a mask with values `1` for then FEM nodes located at the top of the domain."
   ]
  },
  {
   "cell_type": "code",
   "execution_count": 14,
   "metadata": {
    "tags": [
     "SOLUTION"
    ]
   },
   "outputs": [],
   "source": [
    "x=domain.getX()\n",
    "mD=whereZero(x[1]-L1)\n",
    "pde.setValue(q=mD, r=1)"
   ]
  },
  {
   "cell_type": "markdown",
   "metadata": {},
   "source": [
    "The argument `r=1` sets the values for the solution to the value `1` where ever `q` has the value `1`. So only the values of `r` are only relevant where Dirichlet-type boundary conditions apply. "
   ]
  },
  {
   "cell_type": "markdown",
   "metadata": {},
   "source": [
    "Now we can get the solution $u=H_x$:"
   ]
  },
  {
   "cell_type": "code",
   "execution_count": 15,
   "metadata": {
    "tags": [
     "SOLUTION"
    ]
   },
   "outputs": [],
   "source": [
    "Hx=pde.getSolution()"
   ]
  },
  {
   "cell_type": "markdown",
   "metadata": {},
   "source": [
    "## Impedance\n",
    "\n",
    "Impedance is obtained from the definition. We look at the values at element centers. \n",
    "First we need to get the $y$-component of the electric field which is given as $E_y=\\rho \\frac{\\partial H_x}{\\partial x_1}$: "
   ]
  },
  {
   "cell_type": "code",
   "execution_count": 16,
   "metadata": {
    "tags": [
     "SOLUTION"
    ]
   },
   "outputs": [],
   "source": [
    "Ey=rho*grad(Hx, ReducedFunction(domain))[1]"
   ]
  },
  {
   "cell_type": "markdown",
   "metadata": {},
   "source": [
    "Then the TM impedence $Zyx=\\frac{E_y}{H_x}$ is calculated:"
   ]
  },
  {
   "cell_type": "code",
   "execution_count": 17,
   "metadata": {
    "tags": [
     "SOLUTION"
    ]
   },
   "outputs": [],
   "source": [
    "Zyx=Ey/Hx"
   ]
  },
  {
   "cell_type": "markdown",
   "metadata": {},
   "source": [
    "The impedance is a complex number:"
   ]
  },
  {
   "cell_type": "code",
   "execution_count": 18,
   "metadata": {
    "tags": [
     "SOLUTION"
    ]
   },
   "outputs": [
    {
     "data": {
      "text/plain": [
       "True"
      ]
     },
     "execution_count": 18,
     "metadata": {},
     "output_type": "execute_result"
    }
   ],
   "source": [
    "Zyx.isComplex()"
   ]
  },
  {
   "cell_type": "markdown",
   "metadata": {},
   "source": [
    "As complex numbers  `Zyx` cannot be plotted as as a contour. A meaningful way to plot `Zyx` is to look at the apparent resistivity $\\rho_a =\\frac{1}{\\omega \\mu_0} |Z_{yx}(\\omega)|^2$ and the apparent phase:"
   ]
  },
  {
   "cell_type": "code",
   "execution_count": 19,
   "metadata": {
    "tags": [
     "SOLUTION"
    ]
   },
   "outputs": [],
   "source": [
    "rho_a=1./(2*np.pi*f*Mu0)*abs(Zyx)**2\n",
    "phi=phase(Zyx)"
   ]
  },
  {
   "cell_type": "markdown",
   "metadata": {},
   "source": [
    "Let's plot the distribution of the apparent resistivity `rho_a`:"
   ]
  },
  {
   "cell_type": "code",
   "execution_count": 20,
   "metadata": {},
   "outputs": [
    {
     "data": {
      "text/plain": [
       "<matplotlib.colorbar.Colorbar at 0x7f4f9cad8bb0>"
      ]
     },
     "execution_count": 20,
     "metadata": {},
     "output_type": "execute_result"
    },
    {
     "data": {
      "image/png": "[encoded data removed]",
      "text/plain": [
       "<Figure size 432x288 with 2 Axes>"
      ]
     },
     "metadata": {
      "needs_background": "light"
     },
     "output_type": "display_data"
    }
   ],
   "source": [
    "rho_a_np=convertToNumpy(rho_a)\n",
    "x_np=convertToNumpy(rho_a.getFunctionSpace().getX())\n",
    "\n",
    "plt.figure()\n",
    "plt.tricontourf(x_np[0], x_np[1], log(rho_a_np[0]), 15)\n",
    "plt.xlabel('y [m]')\n",
    "plt.ylabel('z [m]')\n",
    "plt.title(f\"log of apparent resitivity  (f={f} Hz)\")\n",
    "plt.colorbar()"
   ]
  },
  {
   "cell_type": "markdown",
   "metadata": {},
   "source": [
    "For convenience we convert the phases from rad to degree before plotting:"
   ]
  },
  {
   "cell_type": "code",
   "execution_count": 21,
   "metadata": {},
   "outputs": [
    {
     "data": {
      "text/plain": [
       "<matplotlib.colorbar.Colorbar at 0x7f4f9ca19ac0>"
      ]
     },
     "execution_count": 21,
     "metadata": {},
     "output_type": "execute_result"
    },
    {
     "data": {
      "image/png": "[encoded data removed]",
      "text/plain": [
       "<Figure size 432x288 with 2 Axes>"
      ]
     },
     "metadata": {
      "needs_background": "light"
     },
     "output_type": "display_data"
    }
   ],
   "source": [
    "phi_np=np.rad2deg(convertToNumpy(phi))\n",
    "\n",
    "plt.figure()\n",
    "plt.tricontourf(x_np[0], x_np[1], phi_np[0], 15)\n",
    "plt.xlabel('y [m]')\n",
    "plt.ylabel('z [m]')\n",
    "plt.title(f\"apparent phase  (f={f} Hz)\")\n",
    "plt.colorbar()"
   ]
  },
  {
   "cell_type": "markdown",
   "metadata": {},
   "source": [
    "## Transect\n",
    "\n",
    "In the field TM data are collected along transects at the surface. \n",
    "Lets plot the apparent resistivity and phase along the surface. \n",
    "\n",
    "First the points at/near the surface that define the transect need to be set. We use every second element center for the elements near the surface:"
   ]
  },
  {
   "cell_type": "code",
   "execution_count": 22,
   "metadata": {
    "tags": [
     "SOLUTION"
    ]
   },
   "outputs": [],
   "source": [
    "locations_in_transect=[ (h0*k+h0/2. , L1 ) for k in range(0,NE0,2) ]"
   ]
  },
  {
   "cell_type": "markdown",
   "metadata": {},
   "source": [
    "Then we define a `Locator` to pick values at/near these points:"
   ]
  },
  {
   "cell_type": "code",
   "execution_count": 23,
   "metadata": {},
   "outputs": [],
   "source": [
    "from esys.escript.pdetools import Locator\n",
    "locator_transect=Locator(where=ReducedFunction(domain), x=locations_in_transect)"
   ]
  },
  {
   "cell_type": "markdown",
   "metadata": {},
   "source": [
    "The transect is actually not located at the surface but half and element size below it:"
   ]
  },
  {
   "cell_type": "code",
   "execution_count": 24,
   "metadata": {
    "tags": [
     "SOLUTION"
    ]
   },
   "outputs": [
    {
     "data": {
      "text/plain": [
       "(array([   50., 39950.]), array([ 1250., 39950.]))"
      ]
     },
     "execution_count": 24,
     "metadata": {},
     "output_type": "execute_result"
    }
   ],
   "source": [
    "locator_transect.getX()[0], locator_transect.getX()[6]"
   ]
  },
  {
   "cell_type": "markdown",
   "metadata": {},
   "source": [
    "So we get the true horizontal locations along the transect:"
   ]
  },
  {
   "cell_type": "code",
   "execution_count": 25,
   "metadata": {
    "tags": [
     "SOLUTION"
    ]
   },
   "outputs": [],
   "source": [
    "transect_x=[ x[0] for x in locator_transect.getX()]"
   ]
  },
  {
   "cell_type": "markdown",
   "metadata": {},
   "source": [
    "Grab the values for apparent resistivity and phase and then plot"
   ]
  },
  {
   "cell_type": "code",
   "execution_count": 26,
   "metadata": {
    "tags": [
     "SOLUTION"
    ]
   },
   "outputs": [],
   "source": [
    "rho_a_x=locator_transect(rho_a)\n",
    "phi_x=np.rad2deg(locator_transect(phi))"
   ]
  },
  {
   "cell_type": "markdown",
   "metadata": {},
   "source": [
    "Plot the apparent resistivity along the transect:"
   ]
  },
  {
   "cell_type": "code",
   "execution_count": 27,
   "metadata": {},
   "outputs": [
    {
     "data": {
      "text/plain": [
       "Text(0.5, 1.0, 'Resistivity vs offset  (f=1.0 Hz)')"
      ]
     },
     "execution_count": 27,
     "metadata": {},
     "output_type": "execute_result"
    },
    {
     "data": {
      "image/png": "[encoded data removed]",
      "text/plain": [
       "<Figure size 432x288 with 1 Axes>"
      ]
     },
     "metadata": {
      "needs_background": "light"
     },
     "output_type": "display_data"
    }
   ],
   "source": [
    "plt.figure()\n",
    "plt.plot(transect_x,rho_a_x)\n",
    "plt.xlabel('x [m]')\n",
    "plt.ylabel('resistivity [m]')\n",
    "plt.title(f\"Resistivity vs offset  (f={f} Hz)\")"
   ]
  },
  {
   "cell_type": "markdown",
   "metadata": {},
   "source": [
    "And the same for the phase:"
   ]
  },
  {
   "cell_type": "code",
   "execution_count": 28,
   "metadata": {},
   "outputs": [
    {
     "data": {
      "text/plain": [
       "Text(0.5, 1.0, 'phase vs offset (f=1.0 Hz)')"
      ]
     },
     "execution_count": 28,
     "metadata": {},
     "output_type": "execute_result"
    },
    {
     "data": {
      "image/png": "[encoded data removed]",
      "text/plain": [
       "<Figure size 432x288 with 1 Axes>"
      ]
     },
     "metadata": {
      "needs_background": "light"
     },
     "output_type": "display_data"
    }
   ],
   "source": [
    "plt.figure()\n",
    "plt.plot(transect_x,phi_x)\n",
    "plt.xlabel('x [m]')\n",
    "plt.ylabel('phase [deg]')\n",
    "plt.title(f\"phase vs offset (f={f} Hz)\")"
   ]
  },
  {
   "cell_type": "markdown",
   "metadata": {},
   "source": [
    "## More Work:\n",
    "\n",
    "- use the analytic solution for homogeneous half space with constant resistivity $\\rho_b$ to set Dirichlet-type boundary conditions for all faces\n",
    "- implementation of the TE case. This follows the TM implementation but requires to add an air layer where conductivity is zero. "
   ]
  },
  {
   "cell_type": "code",
   "execution_count": null,
   "metadata": {},
   "outputs": [],
   "source": []
  }
 ],
 "metadata": {
  "celltoolbar": "Tags",
  "kernelspec": {
   "display_name": "Python 3",
   "language": "python",
   "name": "python3"
  },
  "language_info": {
   "codemirror_mode": {
    "name": "ipython",
    "version": 3
   },
   "file_extension": ".py",
   "mimetype": "text/x-python",
   "name": "python",
   "nbconvert_exporter": "python",
   "pygments_lexer": "ipython3",
   "version": "3.8.10"
  },
  "latex_envs": {
   "LaTeX_envs_menu_present": true,
   "autoclose": false,
   "autocomplete": true,
   "bibliofile": "biblio.bib",
   "cite_by": "apalike",
   "current_citInitial": 1,
   "eqLabelWithNumbers": true,
   "eqNumInitial": 1,
   "hotkeys": {
    "equation": "Ctrl-E",
    "itemize": "Ctrl-I"
   },
   "labels_anchors": false,
   "latex_user_defs": false,
   "report_style_numbering": false,
   "user_envs_cfg": false
  },
  "toc": {
   "base_numbering": 1,
   "nav_menu": {},
   "number_sections": true,
   "sideBar": false,
   "skip_h1_title": false,
   "title_cell": "Table of Contents",
   "title_sidebar": "Contents",
   "toc_cell": true,
   "toc_position": {
    "height": "calc(100% - 180px)",
    "left": "10px",
    "top": "150px",
    "width": "384px"
   },
   "toc_section_display": false,
   "toc_window_display": false
  },
  "varInspector": {
   "cols": {
    "lenName": 16,
    "lenType": 16,
    "lenVar": 40
   },
   "kernels_config": {
    "python": {
     "delete_cmd_postfix": "",
     "delete_cmd_prefix": "del ",
     "library": "var_list.py",
     "varRefreshCmd": "print(var_dic_list())"
    },
    "r": {
     "delete_cmd_postfix": ") ",
     "delete_cmd_prefix": "rm(",
     "library": "var_list.r",
     "varRefreshCmd": "cat(var_dic_list()) "
    }
   },
   "position": {
    "height": "752.85px",
    "left": "1550px",
    "right": "20px",
    "top": "120px",
    "width": "350px"
   },
   "types_to_exclude": [
    "module",
    "function",
    "builtin_function_or_method",
    "instance",
    "_Feature"
   ],
   "window_display": true
  }
 },
 "nbformat": 4,
 "nbformat_minor": 2
}
