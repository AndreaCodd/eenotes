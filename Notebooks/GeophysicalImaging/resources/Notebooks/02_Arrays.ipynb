{
 "cells": [
  {
   "cell_type": "markdown",
   "metadata": {
    "toc": true
   },
   "source": [
    "<h1>Table of Contents<span class=\"tocSkip\"></span></h1>\n",
    "<div class=\"toc\"><ul class=\"toc-item\"><li><span><a href=\"#Useful-links:\" data-toc-modified-id=\"Useful-links:-1\"><span class=\"toc-item-num\">1&nbsp;&nbsp;</span>Useful links:</a></span></li><li><span><a href=\"#Files\" data-toc-modified-id=\"Files-2\"><span class=\"toc-item-num\">2&nbsp;&nbsp;</span>Files</a></span><ul class=\"toc-item\"><li><span><a href=\"#Writing-to-files\" data-toc-modified-id=\"Writing-to-files-2.1\"><span class=\"toc-item-num\">2.1&nbsp;&nbsp;</span>Writing to files</a></span></li><li><span><a href=\"#Reading-from-files\" data-toc-modified-id=\"Reading-from-files-2.2\"><span class=\"toc-item-num\">2.2&nbsp;&nbsp;</span>Reading from files</a></span></li></ul></li><li><span><a href=\"#Plotting-and-Visualization\" data-toc-modified-id=\"Plotting-and-Visualization-3\"><span class=\"toc-item-num\">3&nbsp;&nbsp;</span>Plotting and Visualization</a></span></li><li><span><a href=\"#Arrays\" data-toc-modified-id=\"Arrays-4\"><span class=\"toc-item-num\">4&nbsp;&nbsp;</span>Arrays</a></span><ul class=\"toc-item\"><li><span><a href=\"#Creating-arrays\" data-toc-modified-id=\"Creating-arrays-4.1\"><span class=\"toc-item-num\">4.1&nbsp;&nbsp;</span>Creating arrays</a></span></li><li><span><a href=\"#Indexing-and-slicing\" data-toc-modified-id=\"Indexing-and-slicing-4.2\"><span class=\"toc-item-num\">4.2&nbsp;&nbsp;</span>Indexing and slicing</a></span></li><li><span><a href=\"#Array-reshaping\" data-toc-modified-id=\"Array-reshaping-4.3\"><span class=\"toc-item-num\">4.3&nbsp;&nbsp;</span>Array reshaping</a></span></li></ul></li><li><span><a href=\"#Array-Datatypes\" data-toc-modified-id=\"Array-Datatypes-5\"><span class=\"toc-item-num\">5&nbsp;&nbsp;</span>Array Datatypes</a></span></li><li><span><a href=\"#Array-Arithmetic\" data-toc-modified-id=\"Array-Arithmetic-6\"><span class=\"toc-item-num\">6&nbsp;&nbsp;</span>Array Arithmetic</a></span><ul class=\"toc-item\"><li><span><a href=\"#Element-by-Element\" data-toc-modified-id=\"Element-by-Element-6.1\"><span class=\"toc-item-num\">6.1&nbsp;&nbsp;</span>Element-by-Element</a></span></li><li><span><a href=\"#Matrix-multiplication\" data-toc-modified-id=\"Matrix-multiplication-6.2\"><span class=\"toc-item-num\">6.2&nbsp;&nbsp;</span>Matrix multiplication</a></span></li></ul></li><li><span><a href=\"#An-Example\" data-toc-modified-id=\"An-Example-7\"><span class=\"toc-item-num\">7&nbsp;&nbsp;</span>An Example</a></span></li><li><span><a href=\"#More-on-File-reading-and-writing:\" data-toc-modified-id=\"More-on-File-reading-and-writing:-8\"><span class=\"toc-item-num\">8&nbsp;&nbsp;</span>More on File reading and writing:</a></span><ul class=\"toc-item\"><li><span><a href=\"#Saving-&amp;-Loading-numpy-arrays\" data-toc-modified-id=\"Saving-&amp;-Loading-numpy-arrays-8.1\"><span class=\"toc-item-num\">8.1&nbsp;&nbsp;</span>Saving &amp; Loading numpy arrays</a></span></li><li><span><a href=\"#Reading-Binary-files\" data-toc-modified-id=\"Reading-Binary-files-8.2\"><span class=\"toc-item-num\">8.2&nbsp;&nbsp;</span>Reading Binary files</a></span></li></ul></li></ul></div>"
   ]
  },
  {
   "cell_type": "markdown",
   "metadata": {},
   "source": [
    "by Lutz Gross, The University of Queensland, Australia\n",
    "<a href=\"mailto:l.gross@uq.edu.au\">l.gross@uq.edu.au</a>\n",
    "<a rel=\"license\" href=\"http://creativecommons.org/licenses/by-sa/4.0/\"><img alt=\"Creative Commons License\" style=\"border-width:0\" src=\"https://i.creativecommons.org/l/by-sa/4.0/88x31.png\" /></a><br />This work is licensed under a <a rel=\"license\" href=\"http://creativecommons.org/licenses/by-sa/4.0/\">Creative Commons Attribution-ShareAlike 4.0 International License</a>."
   ]
  },
  {
   "cell_type": "markdown",
   "metadata": {},
   "source": [
    "# Useful links:\n",
    "\n",
    "- [numpy documentation](https://numpy.org)\n",
    "- [matplotlib documentation](https://matplotlib.org)\n",
    "- [scipy documentation](https://scipy.org)\n"
   ]
  },
  {
   "cell_type": "markdown",
   "metadata": {},
   "source": [
    "# Files\n",
    "\n",
    "Here comes a quick intro how write and read to files.\n",
    "\n",
    "## Writing to files\n",
    "\n",
    "To open a file for reading or writing use the `open` function. `open()`\n",
    "returns a file object, and is most commonly used with two arguments: open(filename, mode)."
   ]
  },
  {
   "cell_type": "code",
   "execution_count": 3,
   "metadata": {
    "tags": [
     "SOLUTION"
    ]
   },
   "outputs": [],
   "source": [
    "outfile=open(\"myRicker.csv\", 'wt')"
   ]
  },
  {
   "cell_type": "markdown",
   "metadata": {},
   "source": [
    "It is commonly used with two arguments: `open(filename, mode)` where the `mode` takes the values:\n",
    "- `w` open for writing. An existing file with the same name will be erased.\n",
    "- `a` opens the file for appending; any data written to the file is automatically added to the end. \n",
    "- `r` opens the file for both reading only.\n",
    "By default text mode `t` is used that means, you read and write strings from and to the file, which are encoded in a specific encoding. `b` appended to the mode opens the file in binary mode: now the data is read and written in the form of bytes objects. "
   ]
  },
  {
   "cell_type": "markdown",
   "metadata": {},
   "source": [
    "It is good practice to close a file immediately  if it is not used "
   ]
  },
  {
   "cell_type": "code",
   "execution_count": 4,
   "metadata": {
    "tags": [
     "SOLUTION"
    ]
   },
   "outputs": [],
   "source": [
    "outfile.close()"
   ]
  },
  {
   "cell_type": "markdown",
   "metadata": {},
   "source": [
    "We want to write some code that writes the *Ricker* wavelet of a period of\n",
    "`length` and given frequency `f` to the files `myRicker.csv` in the comma-separated-value (CSV) format. The time is incremented by `dt`.  "
   ]
  },
  {
   "cell_type": "code",
   "execution_count": 5,
   "metadata": {},
   "outputs": [],
   "source": [
    "length=0.128\n",
    "f=25\n",
    "dt=0.001"
   ]
  },
  {
   "cell_type": "code",
   "execution_count": 6,
   "metadata": {},
   "outputs": [],
   "source": [
    "import math\n",
    "def getRicker(t, f=25):\n",
    "    \"\"\"\n",
    "    return the value of the Ricker wavelet at time t for peak frequency f\n",
    "    \"\"\"\n",
    "    r = (1.0 - 2.0*(math.pi**2)*(f**2)*(t**2)) * math.exp(-(math.pi**2)*(f**2)*(t**2))\n",
    "    return r"
   ]
  },
  {
   "cell_type": "code",
   "execution_count": 7,
   "metadata": {
    "tags": [
     "SOLUTION"
    ]
   },
   "outputs": [
    {
     "name": "stdout",
     "output_type": "stream",
     "text": [
      "128 records writen to myRicker.csv.\n"
     ]
    }
   ],
   "source": [
    "t=-length/2\n",
    "n=0\n",
    "outfile=open(\"myRicker.csv\", 'wt')\n",
    "while t < length/2:\n",
    "    outfile.write(\"{0}, {1}\\n\".format(t, getRicker(t, f)))\n",
    "    t+=dt\n",
    "    n+=1\n",
    "outfile.close()\n",
    "print(\"{0} records writen to {1}.\".format(n, outfile.name))"
   ]
  },
  {
   "cell_type": "markdown",
   "metadata": {},
   "source": [
    "You can download/open the file ['myRicker.csv'](myRicker.csv).\n",
    "**Notice**: There is an extra new line character `\\n` at the of string in the `write` statement. This makes sure that separate rows can be identified in the file."
   ]
  },
  {
   "cell_type": "markdown",
   "metadata": {},
   "source": [
    "## Reading from files\n",
    "\n",
    "Now we want to read this back. First we need to open the file for reading:"
   ]
  },
  {
   "cell_type": "code",
   "execution_count": 8,
   "metadata": {
    "tags": [
     "SOLUTION"
    ]
   },
   "outputs": [],
   "source": [
    "infile=open(\"myRicker.csv\", 'r')"
   ]
  },
  {
   "cell_type": "markdown",
   "metadata": {},
   "source": [
    "We then can read the entire file as a string:"
   ]
  },
  {
   "cell_type": "code",
   "execution_count": 9,
   "metadata": {
    "tags": [
     "SOLUTION"
    ]
   },
   "outputs": [
    {
     "data": {
      "text/plain": [
       "'-0.064, -5.27136925728684e-10\\n-0.063, -1.1173524267190238e-09\\n-0.062, -2.3381171400259564e-09\\n-0.061'"
      ]
     },
     "execution_count": 9,
     "metadata": {},
     "output_type": "execute_result"
    }
   ],
   "source": [
    "content=infile.read()\n",
    "content[0:100]"
   ]
  },
  {
   "cell_type": "markdown",
   "metadata": {},
   "source": [
    "Don't forget to close the file:"
   ]
  },
  {
   "cell_type": "code",
   "execution_count": 10,
   "metadata": {
    "tags": [
     "SOLUTION"
    ]
   },
   "outputs": [],
   "source": [
    "infile.close()"
   ]
  },
  {
   "cell_type": "markdown",
   "metadata": {},
   "source": [
    "Or more brutally:"
   ]
  },
  {
   "cell_type": "code",
   "execution_count": 11,
   "metadata": {},
   "outputs": [],
   "source": [
    "infile=open(\"myRicker.csv\", 'r')\n",
    "del infile"
   ]
  },
  {
   "cell_type": "markdown",
   "metadata": {},
   "source": [
    "Sometimes it is easier to read the file line by line, where a line is marked by `'\\n'` (on Linux). `n` counts the number of lines read."
   ]
  },
  {
   "cell_type": "code",
   "execution_count": 12,
   "metadata": {
    "tags": [
     "SOLUTION"
    ]
   },
   "outputs": [
    {
     "name": "stdout",
     "output_type": "stream",
     "text": [
      "-0.064, -5.27136925728684e-10\n",
      "\n",
      "-0.063, -1.1173524267190238e-09\n",
      "\n",
      "-0.062, -2.3381171400259564e-09\n",
      "\n",
      "-0.061, -4.829961330118064e-09\n",
      "\n",
      "-0.06, -9.849492519747993e-09\n",
      "\n",
      "-0.059, -1.9827498101588072e-08\n",
      "\n",
      "-0.057999999999999996, -3.9400015079778947e-08\n",
      "\n",
      "-0.056999999999999995, -7.728394379303434e-08\n",
      "\n",
      "-0.055999999999999994, -1.4963597118176504e-07\n",
      "\n",
      "-0.05499999999999999, -2.859732275429077e-07\n",
      "\n",
      "-0.05399999999999999, -5.394429261629258e-07\n",
      "\n",
      "-0.05299999999999999, -1.0043469397615302e-06\n",
      "\n",
      "-0.05199999999999999, -1.8455538703657271e-06\n",
      "\n",
      "-0.05099999999999999, -3.347033830018695e-06\n",
      "\n",
      "-0.04999999999999999, -5.990576756873976e-06\n",
      "\n",
      "-0.04899999999999999, -1.0581227239614576e-05\n",
      "\n",
      "-0.04799999999999999, -1.8443565585705677e-05\n",
      "\n",
      "-0.046999999999999986, -3.1723163222511795e-05\n",
      "\n",
      "-0.045999999999999985, -5.3840711229035125e-05\n",
      "\n",
      "-0.044999999999999984, -9.016255634689051e-05\n",
      "\n",
      "-0.043999999999999984, -0.00014897023964985473\n",
      "\n",
      "-0.04299999999999998, -0.00024283180637907622\n",
      "\n",
      "-0.04199999999999998, -0.00039049653924134266\n",
      "\n",
      "-0.04099999999999998, -0.0006194480216732522\n",
      "\n",
      "-0.03999999999999998, -0.0009692515861872182\n",
      "\n",
      "-0.03899999999999998, -0.0014958124208339038\n",
      "\n",
      "-0.03799999999999998, -0.0022766088773385888\n",
      "\n",
      "-0.03699999999999998, -0.0034168693925991315\n",
      "\n",
      "-0.035999999999999976, -0.005056508588769938\n",
      "\n",
      "-0.034999999999999976, -0.007377418977227461\n",
      "\n",
      "-0.033999999999999975, -0.010610426062497407\n",
      "\n",
      "-0.032999999999999974, -0.015040864239488961\n",
      "\n",
      "-0.03199999999999997, -0.021011342228416236\n",
      "\n",
      "-0.030999999999999972, -0.028919883605746776\n",
      "\n",
      "-0.02999999999999997, -0.03921131670489565\n",
      "\n",
      "-0.02899999999999997, -0.05235963709262475\n",
      "\n",
      "-0.02799999999999997, -0.0688391793011618\n",
      "\n",
      "-0.02699999999999997, -0.08908292069852705\n",
      "\n",
      "-0.025999999999999968, -0.11342719251158365\n",
      "\n",
      "-0.024999999999999967, -0.1420435446967529\n",
      "\n",
      "-0.023999999999999966, -0.17486048900511056\n",
      "\n",
      "-0.022999999999999965, -0.21148022146703208\n",
      "\n",
      "-0.021999999999999964, -0.25109798367589914\n",
      "\n",
      "-0.020999999999999963, -0.29243412950233366\n",
      "\n",
      "-0.019999999999999962, -0.33369079229647103\n",
      "\n",
      "-0.01899999999999996, -0.372545817652968\n",
      "\n",
      "-0.01799999999999996, -0.4061958767183472\n",
      "\n",
      "-0.01699999999999996, -0.43145805010717325\n",
      "\n",
      "-0.01599999999999996, -0.44493452160017083\n",
      "\n",
      "-0.014999999999999958, -0.44323848266852894\n",
      "\n",
      "-0.013999999999999957, -0.42327140769123434\n",
      "\n",
      "-0.012999999999999956, -0.382533350046471\n",
      "\n",
      "-0.011999999999999955, -0.31943995607775877\n",
      "\n",
      "-0.010999999999999954, -0.23361378423365295\n",
      "\n",
      "-0.009999999999999953, -0.12611451211156322\n",
      "\n",
      "-0.008999999999999952, 0.0004262704902818931\n",
      "\n",
      "-0.007999999999999952, 0.14179420010825836\n",
      "\n",
      "-0.006999999999999952, 0.29232336399760483\n",
      "\n",
      "-0.0059999999999999516, 0.44517363660584314\n",
      "\n",
      "-0.0049999999999999515, 0.5927417682474709\n",
      "\n",
      "-0.0039999999999999515, 0.7271772599713135\n",
      "\n",
      "-0.0029999999999999515, 0.8409595270411337\n",
      "\n",
      "-0.0019999999999999515, 0.9274825968732889\n",
      "\n",
      "-0.0009999999999999514, 0.9815893445223576\n",
      "\n",
      "4.85722573273506e-17, 1.0\n",
      "\n",
      "0.0010000000000000486, 0.981589344522354\n",
      "\n",
      "0.0020000000000000486, 0.927482596873282\n",
      "\n",
      "0.0030000000000000486, 0.8409595270411239\n",
      "\n",
      "0.004000000000000049, 0.7271772599713013\n",
      "\n",
      "0.005000000000000049, 0.5927417682474571\n",
      "\n",
      "0.006000000000000049, 0.44517363660582837\n",
      "\n",
      "0.007000000000000049, 0.29232336399759\n",
      "\n",
      "0.008000000000000049, 0.14179420010824406\n",
      "\n",
      "0.00900000000000005, 0.0004262704902687529\n",
      "\n",
      "0.01000000000000005, -0.12611451211157462\n",
      "\n",
      "0.011000000000000051, -0.2336137842336623\n",
      "\n",
      "0.012000000000000052, -0.319439956077766\n",
      "\n",
      "0.013000000000000053, -0.38253335004647604\n",
      "\n",
      "0.014000000000000054, -0.4232714076912373\n",
      "\n",
      "0.015000000000000055, -0.44323848266853\n",
      "\n",
      "0.016000000000000056, -0.44493452160017016\n",
      "\n",
      "0.017000000000000057, -0.4314580501071713\n",
      "\n",
      "0.018000000000000058, -0.40619587671834423\n",
      "\n",
      "0.01900000000000006, -0.37254581765296446\n",
      "\n",
      "0.02000000000000006, -0.33369079229646714\n",
      "\n",
      "0.02100000000000006, -0.2924341295023296\n",
      "\n",
      "0.02200000000000006, -0.2510979836758952\n",
      "\n",
      "0.023000000000000062, -0.21148022146702836\n",
      "\n",
      "0.024000000000000063, -0.17486048900510717\n",
      "\n",
      "0.025000000000000064, -0.14204354469674998\n",
      "\n",
      "0.026000000000000065, -0.11342719251158108\n",
      "\n",
      "0.027000000000000066, -0.0890829206985249\n",
      "\n",
      "0.028000000000000067, -0.06883917930116\n",
      "\n",
      "0.029000000000000067, -0.05235963709262328\n",
      "\n",
      "0.03000000000000007, -0.03921131670489451\n",
      "\n",
      "0.03100000000000007, -0.028919883605745916\n",
      "\n",
      "0.03200000000000007, -0.021011342228415573\n",
      "\n",
      "0.03300000000000007, -0.015040864239488456\n",
      "\n",
      "0.03400000000000007, -0.010610426062497031\n",
      "\n",
      "0.03500000000000007, -0.007377418977227192\n",
      "\n",
      "0.036000000000000074, -0.005056508588769747\n",
      "\n",
      "0.037000000000000074, -0.003416869392598999\n",
      "\n",
      "0.038000000000000075, -0.002276608877338496\n",
      "\n",
      "0.039000000000000076, -0.0014958124208338424\n",
      "\n",
      "0.04000000000000008, -0.0009692515861871766\n",
      "\n",
      "0.04100000000000008, -0.0006194480216732243\n",
      "\n",
      "0.04200000000000008, -0.0003904965392413245\n",
      "\n",
      "0.04300000000000008, -0.00024283180637906486\n",
      "\n",
      "0.04400000000000008, -0.00014897023964984747\n",
      "\n",
      "0.04500000000000008, -9.01625563468861e-05\n",
      "\n",
      "0.04600000000000008, -5.3840711229032306e-05\n",
      "\n",
      "0.04700000000000008, -3.1723163222510134e-05\n",
      "\n",
      "0.048000000000000084, -1.8443565585704677e-05\n",
      "\n",
      "0.049000000000000085, -1.0581227239613998e-05\n",
      "\n",
      "0.050000000000000086, -5.990576756873629e-06\n",
      "\n",
      "0.05100000000000009, -3.347033830018505e-06\n",
      "\n",
      "0.05200000000000009, -1.8455538703656164e-06\n",
      "\n",
      "0.05300000000000009, -1.0043469397614699e-06\n",
      "\n",
      "0.05400000000000009, -5.394429261628933e-07\n",
      "\n",
      "0.05500000000000009, -2.859732275428904e-07\n",
      "\n",
      "0.05600000000000009, -1.496359711817555e-07\n",
      "\n",
      "0.05700000000000009, -7.728394379302915e-08\n",
      "\n",
      "0.05800000000000009, -3.9400015079776286e-08\n",
      "\n",
      "0.059000000000000094, -1.982749810158673e-08\n",
      "\n",
      "0.060000000000000095, -9.849492519747327e-09\n",
      "\n",
      "0.061000000000000096, -4.8299613301177356e-09\n",
      "\n",
      "0.0620000000000001, -2.3381171400257897e-09\n",
      "\n",
      "0.0630000000000001, -1.117352426718944e-09\n",
      "\n",
      "128 records read from myRicker.csv.\n"
     ]
    }
   ],
   "source": [
    "infile=open(\"myRicker.csv\", 'r')\n",
    "n=0\n",
    "for line in infile:\n",
    "    print(line)\n",
    "    n+=1\n",
    "infile.close()\n",
    "print(\"{0} records read from {1}.\".format(n, infile.name))"
   ]
  },
  {
   "cell_type": "markdown",
   "metadata": {},
   "source": [
    "Now we want split each line to get the time and corresponding wavelet value. The numbers are \n",
    "collected as floats in two lists `times` and `ricker`:"
   ]
  },
  {
   "cell_type": "code",
   "execution_count": 13,
   "metadata": {
    "tags": [
     "SOLUTION"
    ]
   },
   "outputs": [
    {
     "name": "stdout",
     "output_type": "stream",
     "text": [
      "128 records read from myRicker.csv.\n"
     ]
    }
   ],
   "source": [
    "infile=open(\"myRicker.csv\", 'r')\n",
    "\n",
    "times=[]\n",
    "ricker=[]\n",
    "for line in infile:\n",
    "    a, b=line.split(',')\n",
    "    times.append(float(a))\n",
    "    ricker.append(float(b))\n",
    "infile.close()\n",
    "print(\"{0} records read from {1}.\".format(len(times), infile.name))"
   ]
  },
  {
   "cell_type": "markdown",
   "metadata": {},
   "source": [
    "Notice that the end of file is reached when the read line is empty (len(line)=0). Then the loop is exited."
   ]
  },
  {
   "cell_type": "code",
   "execution_count": 14,
   "metadata": {
    "scrolled": true,
    "tags": [
     "SOLUTION"
    ]
   },
   "outputs": [
    {
     "data": {
      "text/plain": [
       "[-0.064,\n",
       " -0.063,\n",
       " -0.062,\n",
       " -0.061,\n",
       " -0.06,\n",
       " -0.059,\n",
       " -0.057999999999999996,\n",
       " -0.056999999999999995,\n",
       " -0.055999999999999994,\n",
       " -0.05499999999999999]"
      ]
     },
     "execution_count": 14,
     "metadata": {},
     "output_type": "execute_result"
    }
   ],
   "source": [
    "times[:10]"
   ]
  },
  {
   "cell_type": "markdown",
   "metadata": {},
   "source": [
    "# Plotting and Visualization\n",
    "\n",
    "We would like to plot the Ricker wavelet. \n",
    "The `matplotlib` library provides a convenient, flexible and powerful tool for visualization at least for 2D data sets. Here we can give only a very brief introduction with more functionality being presented as the course evolves. \n",
    "For a comprehensive documentation and list of examples we refer to the [matplotlib web page](https://matplotlib.org).\n",
    "\n",
    "Here we use the `matplotlib.pyplot` library which is a collection of command style functions but there \n",
    "is also a more general API which gives a reacher functionality:"
   ]
  },
  {
   "cell_type": "code",
   "execution_count": 93,
   "metadata": {
    "tags": [
     "SOLUTION"
    ]
   },
   "outputs": [],
   "source": [
    "%matplotlib notebook\n",
    "import matplotlib.pyplot as plt"
   ]
  },
  {
   "cell_type": "markdown",
   "metadata": {},
   "source": [
    "It is very easy to plot data point we have read:"
   ]
  },
  {
   "cell_type": "code",
   "execution_count": 96,
   "metadata": {
    "tags": [
     "SOLUTION"
    ]
   },
   "outputs": [
    {
     "data": {
      "application/javascript": [
       "/* Put everything inside the global mpl namespace */\n",
       "window.mpl = {};\n",
       "\n",
       "\n",
       "mpl.get_websocket_type = function() {\n",
       "    if (typeof(WebSocket) !== 'undefined') {\n",
       "        return WebSocket;\n",
       "    } else if (typeof(MozWebSocket) !== 'undefined') {\n",
       "        return MozWebSocket;\n",
       "    } else {\n",
       "        alert('Your browser does not have WebSocket support. ' +\n",
       "              'Please try Chrome, Safari or Firefox ≥ 6. ' +\n",
       "              'Firefox 4 and 5 are also supported but you ' +\n",
       "              'have to enable WebSockets in about:config.');\n",
       "    };\n",
       "}\n",
       "\n",
       "mpl.figure = function(figure_id, websocket, ondownload, parent_element) {\n",
       "    this.id = figure_id;\n",
       "\n",
       "    this.ws = websocket;\n",
       "\n",
       "    this.supports_binary = (this.ws.binaryType != undefined);\n",
       "\n",
       "    if (!this.supports_binary) {\n",
       "        var warnings = document.getElementById(\"mpl-warnings\");\n",
       "        if (warnings) {\n",
       "            warnings.style.display = 'block';\n",
       "            warnings.textContent = (\n",
       "                \"This browser does not support binary websocket messages. \" +\n",
       "                    \"Performance may be slow.\");\n",
       "        }\n",
       "    }\n",
       "\n",
       "    this.imageObj = new Image();\n",
       "\n",
       "    this.context = undefined;\n",
       "    this.message = undefined;\n",
       "    this.canvas = undefined;\n",
       "    this.rubberband_canvas = undefined;\n",
       "    this.rubberband_context = undefined;\n",
       "    this.format_dropdown = undefined;\n",
       "\n",
       "    this.image_mode = 'full';\n",
       "\n",
       "    this.root = $('<div/>');\n",
       "    this._root_extra_style(this.root)\n",
       "    this.root.attr('style', 'display: inline-block');\n",
       "\n",
       "    $(parent_element).append(this.root);\n",
       "\n",
       "    this._init_header(this);\n",
       "    this._init_canvas(this);\n",
       "    this._init_toolbar(this);\n",
       "\n",
       "    var fig = this;\n",
       "\n",
       "    this.waiting = false;\n",
       "\n",
       "    this.ws.onopen =  function () {\n",
       "            fig.send_message(\"supports_binary\", {value: fig.supports_binary});\n",
       "            fig.send_message(\"send_image_mode\", {});\n",
       "            if (mpl.ratio != 1) {\n",
       "                fig.send_message(\"set_dpi_ratio\", {'dpi_ratio': mpl.ratio});\n",
       "            }\n",
       "            fig.send_message(\"refresh\", {});\n",
       "        }\n",
       "\n",
       "    this.imageObj.onload = function() {\n",
       "            if (fig.image_mode == 'full') {\n",
       "                // Full images could contain transparency (where diff images\n",
       "                // almost always do), so we need to clear the canvas so that\n",
       "                // there is no ghosting.\n",
       "                fig.context.clearRect(0, 0, fig.canvas.width, fig.canvas.height);\n",
       "            }\n",
       "            fig.context.drawImage(fig.imageObj, 0, 0);\n",
       "        };\n",
       "\n",
       "    this.imageObj.onunload = function() {\n",
       "        fig.ws.close();\n",
       "    }\n",
       "\n",
       "    this.ws.onmessage = this._make_on_message_function(this);\n",
       "\n",
       "    this.ondownload = ondownload;\n",
       "}\n",
       "\n",
       "mpl.figure.prototype._init_header = function() {\n",
       "    var titlebar = $(\n",
       "        '<div class=\"ui-dialog-titlebar ui-widget-header ui-corner-all ' +\n",
       "        'ui-helper-clearfix\"/>');\n",
       "    var titletext = $(\n",
       "        '<div class=\"ui-dialog-title\" style=\"width: 100%; ' +\n",
       "        'text-align: center; padding: 3px;\"/>');\n",
       "    titlebar.append(titletext)\n",
       "    this.root.append(titlebar);\n",
       "    this.header = titletext[0];\n",
       "}\n",
       "\n",
       "\n",
       "\n",
       "mpl.figure.prototype._canvas_extra_style = function(canvas_div) {\n",
       "\n",
       "}\n",
       "\n",
       "\n",
       "mpl.figure.prototype._root_extra_style = function(canvas_div) {\n",
       "\n",
       "}\n",
       "\n",
       "mpl.figure.prototype._init_canvas = function() {\n",
       "    var fig = this;\n",
       "\n",
       "    var canvas_div = $('<div/>');\n",
       "\n",
       "    canvas_div.attr('style', 'position: relative; clear: both; outline: 0');\n",
       "\n",
       "    function canvas_keyboard_event(event) {\n",
       "        return fig.key_event(event, event['data']);\n",
       "    }\n",
       "\n",
       "    canvas_div.keydown('key_press', canvas_keyboard_event);\n",
       "    canvas_div.keyup('key_release', canvas_keyboard_event);\n",
       "    this.canvas_div = canvas_div\n",
       "    this._canvas_extra_style(canvas_div)\n",
       "    this.root.append(canvas_div);\n",
       "\n",
       "    var canvas = $('<canvas/>');\n",
       "    canvas.addClass('mpl-canvas');\n",
       "    canvas.attr('style', \"left: 0; top: 0; z-index: 0; outline: 0\")\n",
       "\n",
       "    this.canvas = canvas[0];\n",
       "    this.context = canvas[0].getContext(\"2d\");\n",
       "\n",
       "    var backingStore = this.context.backingStorePixelRatio ||\n",
       "\tthis.context.webkitBackingStorePixelRatio ||\n",
       "\tthis.context.mozBackingStorePixelRatio ||\n",
       "\tthis.context.msBackingStorePixelRatio ||\n",
       "\tthis.context.oBackingStorePixelRatio ||\n",
       "\tthis.context.backingStorePixelRatio || 1;\n",
       "\n",
       "    mpl.ratio = (window.devicePixelRatio || 1) / backingStore;\n",
       "\n",
       "    var rubberband = $('<canvas/>');\n",
       "    rubberband.attr('style', \"position: absolute; left: 0; top: 0; z-index: 1;\")\n",
       "\n",
       "    var pass_mouse_events = true;\n",
       "\n",
       "    canvas_div.resizable({\n",
       "        start: function(event, ui) {\n",
       "            pass_mouse_events = false;\n",
       "        },\n",
       "        resize: function(event, ui) {\n",
       "            fig.request_resize(ui.size.width, ui.size.height);\n",
       "        },\n",
       "        stop: function(event, ui) {\n",
       "            pass_mouse_events = true;\n",
       "            fig.request_resize(ui.size.width, ui.size.height);\n",
       "        },\n",
       "    });\n",
       "\n",
       "    function mouse_event_fn(event) {\n",
       "        if (pass_mouse_events)\n",
       "            return fig.mouse_event(event, event['data']);\n",
       "    }\n",
       "\n",
       "    rubberband.mousedown('button_press', mouse_event_fn);\n",
       "    rubberband.mouseup('button_release', mouse_event_fn);\n",
       "    // Throttle sequential mouse events to 1 every 20ms.\n",
       "    rubberband.mousemove('motion_notify', mouse_event_fn);\n",
       "\n",
       "    rubberband.mouseenter('figure_enter', mouse_event_fn);\n",
       "    rubberband.mouseleave('figure_leave', mouse_event_fn);\n",
       "\n",
       "    canvas_div.on(\"wheel\", function (event) {\n",
       "        event = event.originalEvent;\n",
       "        event['data'] = 'scroll'\n",
       "        if (event.deltaY < 0) {\n",
       "            event.step = 1;\n",
       "        } else {\n",
       "            event.step = -1;\n",
       "        }\n",
       "        mouse_event_fn(event);\n",
       "    });\n",
       "\n",
       "    canvas_div.append(canvas);\n",
       "    canvas_div.append(rubberband);\n",
       "\n",
       "    this.rubberband = rubberband;\n",
       "    this.rubberband_canvas = rubberband[0];\n",
       "    this.rubberband_context = rubberband[0].getContext(\"2d\");\n",
       "    this.rubberband_context.strokeStyle = \"#000000\";\n",
       "\n",
       "    this._resize_canvas = function(width, height) {\n",
       "        // Keep the size of the canvas, canvas container, and rubber band\n",
       "        // canvas in synch.\n",
       "        canvas_div.css('width', width)\n",
       "        canvas_div.css('height', height)\n",
       "\n",
       "        canvas.attr('width', width * mpl.ratio);\n",
       "        canvas.attr('height', height * mpl.ratio);\n",
       "        canvas.attr('style', 'width: ' + width + 'px; height: ' + height + 'px;');\n",
       "\n",
       "        rubberband.attr('width', width);\n",
       "        rubberband.attr('height', height);\n",
       "    }\n",
       "\n",
       "    // Set the figure to an initial 600x600px, this will subsequently be updated\n",
       "    // upon first draw.\n",
       "    this._resize_canvas(600, 600);\n",
       "\n",
       "    // Disable right mouse context menu.\n",
       "    $(this.rubberband_canvas).bind(\"contextmenu\",function(e){\n",
       "        return false;\n",
       "    });\n",
       "\n",
       "    function set_focus () {\n",
       "        canvas.focus();\n",
       "        canvas_div.focus();\n",
       "    }\n",
       "\n",
       "    window.setTimeout(set_focus, 100);\n",
       "}\n",
       "\n",
       "mpl.figure.prototype._init_toolbar = function() {\n",
       "    var fig = this;\n",
       "\n",
       "    var nav_element = $('<div/>');\n",
       "    nav_element.attr('style', 'width: 100%');\n",
       "    this.root.append(nav_element);\n",
       "\n",
       "    // Define a callback function for later on.\n",
       "    function toolbar_event(event) {\n",
       "        return fig.toolbar_button_onclick(event['data']);\n",
       "    }\n",
       "    function toolbar_mouse_event(event) {\n",
       "        return fig.toolbar_button_onmouseover(event['data']);\n",
       "    }\n",
       "\n",
       "    for(var toolbar_ind in mpl.toolbar_items) {\n",
       "        var name = mpl.toolbar_items[toolbar_ind][0];\n",
       "        var tooltip = mpl.toolbar_items[toolbar_ind][1];\n",
       "        var image = mpl.toolbar_items[toolbar_ind][2];\n",
       "        var method_name = mpl.toolbar_items[toolbar_ind][3];\n",
       "\n",
       "        if (!name) {\n",
       "            // put a spacer in here.\n",
       "            continue;\n",
       "        }\n",
       "        var button = $('<button/>');\n",
       "        button.addClass('ui-button ui-widget ui-state-default ui-corner-all ' +\n",
       "                        'ui-button-icon-only');\n",
       "        button.attr('role', 'button');\n",
       "        button.attr('aria-disabled', 'false');\n",
       "        button.click(method_name, toolbar_event);\n",
       "        button.mouseover(tooltip, toolbar_mouse_event);\n",
       "\n",
       "        var icon_img = $('<span/>');\n",
       "        icon_img.addClass('ui-button-icon-primary ui-icon');\n",
       "        icon_img.addClass(image);\n",
       "        icon_img.addClass('ui-corner-all');\n",
       "\n",
       "        var tooltip_span = $('<span/>');\n",
       "        tooltip_span.addClass('ui-button-text');\n",
       "        tooltip_span.html(tooltip);\n",
       "\n",
       "        button.append(icon_img);\n",
       "        button.append(tooltip_span);\n",
       "\n",
       "        nav_element.append(button);\n",
       "    }\n",
       "\n",
       "    var fmt_picker_span = $('<span/>');\n",
       "\n",
       "    var fmt_picker = $('<select/>');\n",
       "    fmt_picker.addClass('mpl-toolbar-option ui-widget ui-widget-content');\n",
       "    fmt_picker_span.append(fmt_picker);\n",
       "    nav_element.append(fmt_picker_span);\n",
       "    this.format_dropdown = fmt_picker[0];\n",
       "\n",
       "    for (var ind in mpl.extensions) {\n",
       "        var fmt = mpl.extensions[ind];\n",
       "        var option = $(\n",
       "            '<option/>', {selected: fmt === mpl.default_extension}).html(fmt);\n",
       "        fmt_picker.append(option);\n",
       "    }\n",
       "\n",
       "    // Add hover states to the ui-buttons\n",
       "    $( \".ui-button\" ).hover(\n",
       "        function() { $(this).addClass(\"ui-state-hover\");},\n",
       "        function() { $(this).removeClass(\"ui-state-hover\");}\n",
       "    );\n",
       "\n",
       "    var status_bar = $('<span class=\"mpl-message\"/>');\n",
       "    nav_element.append(status_bar);\n",
       "    this.message = status_bar[0];\n",
       "}\n",
       "\n",
       "mpl.figure.prototype.request_resize = function(x_pixels, y_pixels) {\n",
       "    // Request matplotlib to resize the figure. Matplotlib will then trigger a resize in the client,\n",
       "    // which will in turn request a refresh of the image.\n",
       "    this.send_message('resize', {'width': x_pixels, 'height': y_pixels});\n",
       "}\n",
       "\n",
       "mpl.figure.prototype.send_message = function(type, properties) {\n",
       "    properties['type'] = type;\n",
       "    properties['figure_id'] = this.id;\n",
       "    this.ws.send(JSON.stringify(properties));\n",
       "}\n",
       "\n",
       "mpl.figure.prototype.send_draw_message = function() {\n",
       "    if (!this.waiting) {\n",
       "        this.waiting = true;\n",
       "        this.ws.send(JSON.stringify({type: \"draw\", figure_id: this.id}));\n",
       "    }\n",
       "}\n",
       "\n",
       "\n",
       "mpl.figure.prototype.handle_save = function(fig, msg) {\n",
       "    var format_dropdown = fig.format_dropdown;\n",
       "    var format = format_dropdown.options[format_dropdown.selectedIndex].value;\n",
       "    fig.ondownload(fig, format);\n",
       "}\n",
       "\n",
       "\n",
       "mpl.figure.prototype.handle_resize = function(fig, msg) {\n",
       "    var size = msg['size'];\n",
       "    if (size[0] != fig.canvas.width || size[1] != fig.canvas.height) {\n",
       "        fig._resize_canvas(size[0], size[1]);\n",
       "        fig.send_message(\"refresh\", {});\n",
       "    };\n",
       "}\n",
       "\n",
       "mpl.figure.prototype.handle_rubberband = function(fig, msg) {\n",
       "    var x0 = msg['x0'] / mpl.ratio;\n",
       "    var y0 = (fig.canvas.height - msg['y0']) / mpl.ratio;\n",
       "    var x1 = msg['x1'] / mpl.ratio;\n",
       "    var y1 = (fig.canvas.height - msg['y1']) / mpl.ratio;\n",
       "    x0 = Math.floor(x0) + 0.5;\n",
       "    y0 = Math.floor(y0) + 0.5;\n",
       "    x1 = Math.floor(x1) + 0.5;\n",
       "    y1 = Math.floor(y1) + 0.5;\n",
       "    var min_x = Math.min(x0, x1);\n",
       "    var min_y = Math.min(y0, y1);\n",
       "    var width = Math.abs(x1 - x0);\n",
       "    var height = Math.abs(y1 - y0);\n",
       "\n",
       "    fig.rubberband_context.clearRect(\n",
       "        0, 0, fig.canvas.width / mpl.ratio, fig.canvas.height / mpl.ratio);\n",
       "\n",
       "    fig.rubberband_context.strokeRect(min_x, min_y, width, height);\n",
       "}\n",
       "\n",
       "mpl.figure.prototype.handle_figure_label = function(fig, msg) {\n",
       "    // Updates the figure title.\n",
       "    fig.header.textContent = msg['label'];\n",
       "}\n",
       "\n",
       "mpl.figure.prototype.handle_cursor = function(fig, msg) {\n",
       "    var cursor = msg['cursor'];\n",
       "    switch(cursor)\n",
       "    {\n",
       "    case 0:\n",
       "        cursor = 'pointer';\n",
       "        break;\n",
       "    case 1:\n",
       "        cursor = 'default';\n",
       "        break;\n",
       "    case 2:\n",
       "        cursor = 'crosshair';\n",
       "        break;\n",
       "    case 3:\n",
       "        cursor = 'move';\n",
       "        break;\n",
       "    }\n",
       "    fig.rubberband_canvas.style.cursor = cursor;\n",
       "}\n",
       "\n",
       "mpl.figure.prototype.handle_message = function(fig, msg) {\n",
       "    fig.message.textContent = msg['message'];\n",
       "}\n",
       "\n",
       "mpl.figure.prototype.handle_draw = function(fig, msg) {\n",
       "    // Request the server to send over a new figure.\n",
       "    fig.send_draw_message();\n",
       "}\n",
       "\n",
       "mpl.figure.prototype.handle_image_mode = function(fig, msg) {\n",
       "    fig.image_mode = msg['mode'];\n",
       "}\n",
       "\n",
       "mpl.figure.prototype.updated_canvas_event = function() {\n",
       "    // Called whenever the canvas gets updated.\n",
       "    this.send_message(\"ack\", {});\n",
       "}\n",
       "\n",
       "// A function to construct a web socket function for onmessage handling.\n",
       "// Called in the figure constructor.\n",
       "mpl.figure.prototype._make_on_message_function = function(fig) {\n",
       "    return function socket_on_message(evt) {\n",
       "        if (evt.data instanceof Blob) {\n",
       "            /* FIXME: We get \"Resource interpreted as Image but\n",
       "             * transferred with MIME type text/plain:\" errors on\n",
       "             * Chrome.  But how to set the MIME type?  It doesn't seem\n",
       "             * to be part of the websocket stream */\n",
       "            evt.data.type = \"image/png\";\n",
       "\n",
       "            /* Free the memory for the previous frames */\n",
       "            if (fig.imageObj.src) {\n",
       "                (window.URL || window.webkitURL).revokeObjectURL(\n",
       "                    fig.imageObj.src);\n",
       "            }\n",
       "\n",
       "            fig.imageObj.src = (window.URL || window.webkitURL).createObjectURL(\n",
       "                evt.data);\n",
       "            fig.updated_canvas_event();\n",
       "            fig.waiting = false;\n",
       "            return;\n",
       "        }\n",
       "        else if (typeof evt.data === 'string' && evt.data.slice(0, 21) == \"data:image/png;base64\") {\n",
       "            fig.imageObj.src = evt.data;\n",
       "            fig.updated_canvas_event();\n",
       "            fig.waiting = false;\n",
       "            return;\n",
       "        }\n",
       "\n",
       "        var msg = JSON.parse(evt.data);\n",
       "        var msg_type = msg['type'];\n",
       "\n",
       "        // Call the  \"handle_{type}\" callback, which takes\n",
       "        // the figure and JSON message as its only arguments.\n",
       "        try {\n",
       "            var callback = fig[\"handle_\" + msg_type];\n",
       "        } catch (e) {\n",
       "            console.log(\"No handler for the '\" + msg_type + \"' message type: \", msg);\n",
       "            return;\n",
       "        }\n",
       "\n",
       "        if (callback) {\n",
       "            try {\n",
       "                // console.log(\"Handling '\" + msg_type + \"' message: \", msg);\n",
       "                callback(fig, msg);\n",
       "            } catch (e) {\n",
       "                console.log(\"Exception inside the 'handler_\" + msg_type + \"' callback:\", e, e.stack, msg);\n",
       "            }\n",
       "        }\n",
       "    };\n",
       "}\n",
       "\n",
       "// from http://stackoverflow.com/questions/1114465/getting-mouse-location-in-canvas\n",
       "mpl.findpos = function(e) {\n",
       "    //this section is from http://www.quirksmode.org/js/events_properties.html\n",
       "    var targ;\n",
       "    if (!e)\n",
       "        e = window.event;\n",
       "    if (e.target)\n",
       "        targ = e.target;\n",
       "    else if (e.srcElement)\n",
       "        targ = e.srcElement;\n",
       "    if (targ.nodeType == 3) // defeat Safari bug\n",
       "        targ = targ.parentNode;\n",
       "\n",
       "    // jQuery normalizes the pageX and pageY\n",
       "    // pageX,Y are the mouse positions relative to the document\n",
       "    // offset() returns the position of the element relative to the document\n",
       "    var x = e.pageX - $(targ).offset().left;\n",
       "    var y = e.pageY - $(targ).offset().top;\n",
       "\n",
       "    return {\"x\": x, \"y\": y};\n",
       "};\n",
       "\n",
       "/*\n",
       " * return a copy of an object with only non-object keys\n",
       " * we need this to avoid circular references\n",
       " * http://stackoverflow.com/a/24161582/3208463\n",
       " */\n",
       "function simpleKeys (original) {\n",
       "  return Object.keys(original).reduce(function (obj, key) {\n",
       "    if (typeof original[key] !== 'object')\n",
       "        obj[key] = original[key]\n",
       "    return obj;\n",
       "  }, {});\n",
       "}\n",
       "\n",
       "mpl.figure.prototype.mouse_event = function(event, name) {\n",
       "    var canvas_pos = mpl.findpos(event)\n",
       "\n",
       "    if (name === 'button_press')\n",
       "    {\n",
       "        this.canvas.focus();\n",
       "        this.canvas_div.focus();\n",
       "    }\n",
       "\n",
       "    var x = canvas_pos.x * mpl.ratio;\n",
       "    var y = canvas_pos.y * mpl.ratio;\n",
       "\n",
       "    this.send_message(name, {x: x, y: y, button: event.button,\n",
       "                             step: event.step,\n",
       "                             guiEvent: simpleKeys(event)});\n",
       "\n",
       "    /* This prevents the web browser from automatically changing to\n",
       "     * the text insertion cursor when the button is pressed.  We want\n",
       "     * to control all of the cursor setting manually through the\n",
       "     * 'cursor' event from matplotlib */\n",
       "    event.preventDefault();\n",
       "    return false;\n",
       "}\n",
       "\n",
       "mpl.figure.prototype._key_event_extra = function(event, name) {\n",
       "    // Handle any extra behaviour associated with a key event\n",
       "}\n",
       "\n",
       "mpl.figure.prototype.key_event = function(event, name) {\n",
       "\n",
       "    // Prevent repeat events\n",
       "    if (name == 'key_press')\n",
       "    {\n",
       "        if (event.which === this._key)\n",
       "            return;\n",
       "        else\n",
       "            this._key = event.which;\n",
       "    }\n",
       "    if (name == 'key_release')\n",
       "        this._key = null;\n",
       "\n",
       "    var value = '';\n",
       "    if (event.ctrlKey && event.which != 17)\n",
       "        value += \"ctrl+\";\n",
       "    if (event.altKey && event.which != 18)\n",
       "        value += \"alt+\";\n",
       "    if (event.shiftKey && event.which != 16)\n",
       "        value += \"shift+\";\n",
       "\n",
       "    value += 'k';\n",
       "    value += event.which.toString();\n",
       "\n",
       "    this._key_event_extra(event, name);\n",
       "\n",
       "    this.send_message(name, {key: value,\n",
       "                             guiEvent: simpleKeys(event)});\n",
       "    return false;\n",
       "}\n",
       "\n",
       "mpl.figure.prototype.toolbar_button_onclick = function(name) {\n",
       "    if (name == 'download') {\n",
       "        this.handle_save(this, null);\n",
       "    } else {\n",
       "        this.send_message(\"toolbar_button\", {name: name});\n",
       "    }\n",
       "};\n",
       "\n",
       "mpl.figure.prototype.toolbar_button_onmouseover = function(tooltip) {\n",
       "    this.message.textContent = tooltip;\n",
       "};\n",
       "mpl.toolbar_items = [[\"Home\", \"Reset original view\", \"fa fa-home icon-home\", \"home\"], [\"Back\", \"Back to previous view\", \"fa fa-arrow-left icon-arrow-left\", \"back\"], [\"Forward\", \"Forward to next view\", \"fa fa-arrow-right icon-arrow-right\", \"forward\"], [\"\", \"\", \"\", \"\"], [\"Pan\", \"Pan axes with left mouse, zoom with right\", \"fa fa-arrows icon-move\", \"pan\"], [\"Zoom\", \"Zoom to rectangle\", \"fa fa-square-o icon-check-empty\", \"zoom\"], [\"\", \"\", \"\", \"\"], [\"Download\", \"Download plot\", \"fa fa-floppy-o icon-save\", \"download\"]];\n",
       "\n",
       "mpl.extensions = [\"eps\", \"pdf\", \"png\", \"ps\", \"raw\", \"svg\"];\n",
       "\n",
       "mpl.default_extension = \"png\";var comm_websocket_adapter = function(comm) {\n",
       "    // Create a \"websocket\"-like object which calls the given IPython comm\n",
       "    // object with the appropriate methods. Currently this is a non binary\n",
       "    // socket, so there is still some room for performance tuning.\n",
       "    var ws = {};\n",
       "\n",
       "    ws.close = function() {\n",
       "        comm.close()\n",
       "    };\n",
       "    ws.send = function(m) {\n",
       "        //console.log('sending', m);\n",
       "        comm.send(m);\n",
       "    };\n",
       "    // Register the callback with on_msg.\n",
       "    comm.on_msg(function(msg) {\n",
       "        //console.log('receiving', msg['content']['data'], msg);\n",
       "        // Pass the mpl event to the overridden (by mpl) onmessage function.\n",
       "        ws.onmessage(msg['content']['data'])\n",
       "    });\n",
       "    return ws;\n",
       "}\n",
       "\n",
       "mpl.mpl_figure_comm = function(comm, msg) {\n",
       "    // This is the function which gets called when the mpl process\n",
       "    // starts-up an IPython Comm through the \"matplotlib\" channel.\n",
       "\n",
       "    var id = msg.content.data.id;\n",
       "    // Get hold of the div created by the display call when the Comm\n",
       "    // socket was opened in Python.\n",
       "    var element = $(\"#\" + id);\n",
       "    var ws_proxy = comm_websocket_adapter(comm)\n",
       "\n",
       "    function ondownload(figure, format) {\n",
       "        window.open(figure.imageObj.src);\n",
       "    }\n",
       "\n",
       "    var fig = new mpl.figure(id, ws_proxy,\n",
       "                           ondownload,\n",
       "                           element.get(0));\n",
       "\n",
       "    // Call onopen now - mpl needs it, as it is assuming we've passed it a real\n",
       "    // web socket which is closed, not our websocket->open comm proxy.\n",
       "    ws_proxy.onopen();\n",
       "\n",
       "    fig.parent_element = element.get(0);\n",
       "    fig.cell_info = mpl.find_output_cell(\"<div id='\" + id + \"'></div>\");\n",
       "    if (!fig.cell_info) {\n",
       "        console.error(\"Failed to find cell for figure\", id, fig);\n",
       "        return;\n",
       "    }\n",
       "\n",
       "    var output_index = fig.cell_info[2]\n",
       "    var cell = fig.cell_info[0];\n",
       "\n",
       "};\n",
       "\n",
       "mpl.figure.prototype.handle_close = function(fig, msg) {\n",
       "    var width = fig.canvas.width/mpl.ratio\n",
       "    fig.root.unbind('remove')\n",
       "\n",
       "    // Update the output cell to use the data from the current canvas.\n",
       "    fig.push_to_output();\n",
       "    var dataURL = fig.canvas.toDataURL();\n",
       "    // Re-enable the keyboard manager in IPython - without this line, in FF,\n",
       "    // the notebook keyboard shortcuts fail.\n",
       "    IPython.keyboard_manager.enable()\n",
       "    $(fig.parent_element).html('<img src=\"' + dataURL + '\" width=\"' + width + '\">');\n",
       "    fig.close_ws(fig, msg);\n",
       "}\n",
       "\n",
       "mpl.figure.prototype.close_ws = function(fig, msg){\n",
       "    fig.send_message('closing', msg);\n",
       "    // fig.ws.close()\n",
       "}\n",
       "\n",
       "mpl.figure.prototype.push_to_output = function(remove_interactive) {\n",
       "    // Turn the data on the canvas into data in the output cell.\n",
       "    var width = this.canvas.width/mpl.ratio\n",
       "    var dataURL = this.canvas.toDataURL();\n",
       "    this.cell_info[1]['text/html'] = '<img src=\"' + dataURL + '\" width=\"' + width + '\">';\n",
       "}\n",
       "\n",
       "mpl.figure.prototype.updated_canvas_event = function() {\n",
       "    // Tell IPython that the notebook contents must change.\n",
       "    IPython.notebook.set_dirty(true);\n",
       "    this.send_message(\"ack\", {});\n",
       "    var fig = this;\n",
       "    // Wait a second, then push the new image to the DOM so\n",
       "    // that it is saved nicely (might be nice to debounce this).\n",
       "    setTimeout(function () { fig.push_to_output() }, 1000);\n",
       "}\n",
       "\n",
       "mpl.figure.prototype._init_toolbar = function() {\n",
       "    var fig = this;\n",
       "\n",
       "    var nav_element = $('<div/>');\n",
       "    nav_element.attr('style', 'width: 100%');\n",
       "    this.root.append(nav_element);\n",
       "\n",
       "    // Define a callback function for later on.\n",
       "    function toolbar_event(event) {\n",
       "        return fig.toolbar_button_onclick(event['data']);\n",
       "    }\n",
       "    function toolbar_mouse_event(event) {\n",
       "        return fig.toolbar_button_onmouseover(event['data']);\n",
       "    }\n",
       "\n",
       "    for(var toolbar_ind in mpl.toolbar_items){\n",
       "        var name = mpl.toolbar_items[toolbar_ind][0];\n",
       "        var tooltip = mpl.toolbar_items[toolbar_ind][1];\n",
       "        var image = mpl.toolbar_items[toolbar_ind][2];\n",
       "        var method_name = mpl.toolbar_items[toolbar_ind][3];\n",
       "\n",
       "        if (!name) { continue; };\n",
       "\n",
       "        var button = $('<button class=\"btn btn-default\" href=\"#\" title=\"' + name + '\"><i class=\"fa ' + image + ' fa-lg\"></i></button>');\n",
       "        button.click(method_name, toolbar_event);\n",
       "        button.mouseover(tooltip, toolbar_mouse_event);\n",
       "        nav_element.append(button);\n",
       "    }\n",
       "\n",
       "    // Add the status bar.\n",
       "    var status_bar = $('<span class=\"mpl-message\" style=\"text-align:right; float: right;\"/>');\n",
       "    nav_element.append(status_bar);\n",
       "    this.message = status_bar[0];\n",
       "\n",
       "    // Add the close button to the window.\n",
       "    var buttongrp = $('<div class=\"btn-group inline pull-right\"></div>');\n",
       "    var button = $('<button class=\"btn btn-mini btn-primary\" href=\"#\" title=\"Stop Interaction\"><i class=\"fa fa-power-off icon-remove icon-large\"></i></button>');\n",
       "    button.click(function (evt) { fig.handle_close(fig, {}); } );\n",
       "    button.mouseover('Stop Interaction', toolbar_mouse_event);\n",
       "    buttongrp.append(button);\n",
       "    var titlebar = this.root.find($('.ui-dialog-titlebar'));\n",
       "    titlebar.prepend(buttongrp);\n",
       "}\n",
       "\n",
       "mpl.figure.prototype._root_extra_style = function(el){\n",
       "    var fig = this\n",
       "    el.on(\"remove\", function(){\n",
       "\tfig.close_ws(fig, {});\n",
       "    });\n",
       "}\n",
       "\n",
       "mpl.figure.prototype._canvas_extra_style = function(el){\n",
       "    // this is important to make the div 'focusable\n",
       "    el.attr('tabindex', 0)\n",
       "    // reach out to IPython and tell the keyboard manager to turn it's self\n",
       "    // off when our div gets focus\n",
       "\n",
       "    // location in version 3\n",
       "    if (IPython.notebook.keyboard_manager) {\n",
       "        IPython.notebook.keyboard_manager.register_events(el);\n",
       "    }\n",
       "    else {\n",
       "        // location in version 2\n",
       "        IPython.keyboard_manager.register_events(el);\n",
       "    }\n",
       "\n",
       "}\n",
       "\n",
       "mpl.figure.prototype._key_event_extra = function(event, name) {\n",
       "    var manager = IPython.notebook.keyboard_manager;\n",
       "    if (!manager)\n",
       "        manager = IPython.keyboard_manager;\n",
       "\n",
       "    // Check for shift+enter\n",
       "    if (event.shiftKey && event.which == 13) {\n",
       "        this.canvas_div.blur();\n",
       "        // select the cell after this one\n",
       "        var index = IPython.notebook.find_cell_index(this.cell_info[0]);\n",
       "        IPython.notebook.select(index + 1);\n",
       "    }\n",
       "}\n",
       "\n",
       "mpl.figure.prototype.handle_save = function(fig, msg) {\n",
       "    fig.ondownload(fig, null);\n",
       "}\n",
       "\n",
       "\n",
       "mpl.find_output_cell = function(html_output) {\n",
       "    // Return the cell and output element which can be found *uniquely* in the notebook.\n",
       "    // Note - this is a bit hacky, but it is done because the \"notebook_saving.Notebook\"\n",
       "    // IPython event is triggered only after the cells have been serialised, which for\n",
       "    // our purposes (turning an active figure into a static one), is too late.\n",
       "    var cells = IPython.notebook.get_cells();\n",
       "    var ncells = cells.length;\n",
       "    for (var i=0; i<ncells; i++) {\n",
       "        var cell = cells[i];\n",
       "        if (cell.cell_type === 'code'){\n",
       "            for (var j=0; j<cell.output_area.outputs.length; j++) {\n",
       "                var data = cell.output_area.outputs[j];\n",
       "                if (data.data) {\n",
       "                    // IPython >= 3 moved mimebundle to data attribute of output\n",
       "                    data = data.data;\n",
       "                }\n",
       "                if (data['text/html'] == html_output) {\n",
       "                    return [cell, data, j];\n",
       "                }\n",
       "            }\n",
       "        }\n",
       "    }\n",
       "}\n",
       "\n",
       "// Register the function which deals with the matplotlib target/channel.\n",
       "// The kernel may be null if the page has been refreshed.\n",
       "if (IPython.notebook.kernel != null) {\n",
       "    IPython.notebook.kernel.comm_manager.register_target('matplotlib', mpl.mpl_figure_comm);\n",
       "}\n"
      ],
      "text/plain": [
       "<IPython.core.display.Javascript object>"
      ]
     },
     "metadata": {},
     "output_type": "display_data"
    },
    {
     "data": {
      "text/html": [
       "<img src=\"data:image/png;base64,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\" width=\"799.5\">"
      ],
      "text/plain": [
       "<IPython.core.display.HTML object>"
      ]
     },
     "metadata": {},
     "output_type": "display_data"
    },
    {
     "data": {
      "text/plain": [
       "<matplotlib.collections.PathCollection at 0x7f1b4b7eb850>"
      ]
     },
     "execution_count": 96,
     "metadata": {},
     "output_type": "execute_result"
    }
   ],
   "source": [
    "plt.figure(figsize=(8,5))\n",
    "plt.scatter(times, ricker)"
   ]
  },
  {
   "cell_type": "markdown",
   "metadata": {},
   "source": [
    "We can also plot this as a function rather than just data point:"
   ]
  },
  {
   "cell_type": "code",
   "execution_count": 97,
   "metadata": {
    "tags": [
     "SOLUTION"
    ]
   },
   "outputs": [
    {
     "data": {
      "text/plain": [
       "[<matplotlib.lines.Line2D at 0x7f1b4b23b8b0>]"
      ]
     },
     "execution_count": 97,
     "metadata": {},
     "output_type": "execute_result"
    }
   ],
   "source": [
    "plt.clf()\n",
    "plt.plot(times, ricker)"
   ]
  },
  {
   "cell_type": "markdown",
   "metadata": {},
   "source": [
    "Let's do this properly with a lenged, axis labels and title:"
   ]
  },
  {
   "cell_type": "code",
   "execution_count": 18,
   "metadata": {
    "tags": [
     "SOLUTION"
    ]
   },
   "outputs": [],
   "source": [
    "f=15.\n",
    "plt.clf()\n",
    "plt.plot(times, ricker, 'r:', label=\"function\")\n",
    "plt.scatter(times, ricker, c='b', s=10, label=\"data\")\n",
    "plt.xlabel('time [sec]')\n",
    "plt.ylabel('amplitude')\n",
    "plt.title(f'Ricker wavelet for frequency f = {f} hz')\n",
    "plt.legend()\n",
    "plt.grid(True)"
   ]
  },
  {
   "cell_type": "markdown",
   "metadata": {},
   "source": [
    "As now we want to save the plot to the  file `\"ricker.png\"`:"
   ]
  },
  {
   "cell_type": "code",
   "execution_count": 19,
   "metadata": {
    "tags": [
     "SOLUTION"
    ]
   },
   "outputs": [],
   "source": [
    "plt.savefig(\"ricker.png\")"
   ]
  },
  {
   "cell_type": "markdown",
   "metadata": {
    "solution": "shown"
   },
   "source": [
    "Notice that the file extension defined the file format. \n",
    "Click [here](ricker.png) to see ricker.png for the file."
   ]
  },
  {
   "cell_type": "markdown",
   "metadata": {},
   "source": [
    "Let's take a quick look at an image:"
   ]
  },
  {
   "cell_type": "code",
   "execution_count": 20,
   "metadata": {
    "tags": [
     "SOLUTION"
    ]
   },
   "outputs": [
    {
     "data": {
      "application/javascript": [
       "/* Put everything inside the global mpl namespace */\n",
       "window.mpl = {};\n",
       "\n",
       "\n",
       "mpl.get_websocket_type = function() {\n",
       "    if (typeof(WebSocket) !== 'undefined') {\n",
       "        return WebSocket;\n",
       "    } else if (typeof(MozWebSocket) !== 'undefined') {\n",
       "        return MozWebSocket;\n",
       "    } else {\n",
       "        alert('Your browser does not have WebSocket support. ' +\n",
       "              'Please try Chrome, Safari or Firefox ≥ 6. ' +\n",
       "              'Firefox 4 and 5 are also supported but you ' +\n",
       "              'have to enable WebSockets in about:config.');\n",
       "    };\n",
       "}\n",
       "\n",
       "mpl.figure = function(figure_id, websocket, ondownload, parent_element) {\n",
       "    this.id = figure_id;\n",
       "\n",
       "    this.ws = websocket;\n",
       "\n",
       "    this.supports_binary = (this.ws.binaryType != undefined);\n",
       "\n",
       "    if (!this.supports_binary) {\n",
       "        var warnings = document.getElementById(\"mpl-warnings\");\n",
       "        if (warnings) {\n",
       "            warnings.style.display = 'block';\n",
       "            warnings.textContent = (\n",
       "                \"This browser does not support binary websocket messages. \" +\n",
       "                    \"Performance may be slow.\");\n",
       "        }\n",
       "    }\n",
       "\n",
       "    this.imageObj = new Image();\n",
       "\n",
       "    this.context = undefined;\n",
       "    this.message = undefined;\n",
       "    this.canvas = undefined;\n",
       "    this.rubberband_canvas = undefined;\n",
       "    this.rubberband_context = undefined;\n",
       "    this.format_dropdown = undefined;\n",
       "\n",
       "    this.image_mode = 'full';\n",
       "\n",
       "    this.root = $('<div/>');\n",
       "    this._root_extra_style(this.root)\n",
       "    this.root.attr('style', 'display: inline-block');\n",
       "\n",
       "    $(parent_element).append(this.root);\n",
       "\n",
       "    this._init_header(this);\n",
       "    this._init_canvas(this);\n",
       "    this._init_toolbar(this);\n",
       "\n",
       "    var fig = this;\n",
       "\n",
       "    this.waiting = false;\n",
       "\n",
       "    this.ws.onopen =  function () {\n",
       "            fig.send_message(\"supports_binary\", {value: fig.supports_binary});\n",
       "            fig.send_message(\"send_image_mode\", {});\n",
       "            if (mpl.ratio != 1) {\n",
       "                fig.send_message(\"set_dpi_ratio\", {'dpi_ratio': mpl.ratio});\n",
       "            }\n",
       "            fig.send_message(\"refresh\", {});\n",
       "        }\n",
       "\n",
       "    this.imageObj.onload = function() {\n",
       "            if (fig.image_mode == 'full') {\n",
       "                // Full images could contain transparency (where diff images\n",
       "                // almost always do), so we need to clear the canvas so that\n",
       "                // there is no ghosting.\n",
       "                fig.context.clearRect(0, 0, fig.canvas.width, fig.canvas.height);\n",
       "            }\n",
       "            fig.context.drawImage(fig.imageObj, 0, 0);\n",
       "        };\n",
       "\n",
       "    this.imageObj.onunload = function() {\n",
       "        fig.ws.close();\n",
       "    }\n",
       "\n",
       "    this.ws.onmessage = this._make_on_message_function(this);\n",
       "\n",
       "    this.ondownload = ondownload;\n",
       "}\n",
       "\n",
       "mpl.figure.prototype._init_header = function() {\n",
       "    var titlebar = $(\n",
       "        '<div class=\"ui-dialog-titlebar ui-widget-header ui-corner-all ' +\n",
       "        'ui-helper-clearfix\"/>');\n",
       "    var titletext = $(\n",
       "        '<div class=\"ui-dialog-title\" style=\"width: 100%; ' +\n",
       "        'text-align: center; padding: 3px;\"/>');\n",
       "    titlebar.append(titletext)\n",
       "    this.root.append(titlebar);\n",
       "    this.header = titletext[0];\n",
       "}\n",
       "\n",
       "\n",
       "\n",
       "mpl.figure.prototype._canvas_extra_style = function(canvas_div) {\n",
       "\n",
       "}\n",
       "\n",
       "\n",
       "mpl.figure.prototype._root_extra_style = function(canvas_div) {\n",
       "\n",
       "}\n",
       "\n",
       "mpl.figure.prototype._init_canvas = function() {\n",
       "    var fig = this;\n",
       "\n",
       "    var canvas_div = $('<div/>');\n",
       "\n",
       "    canvas_div.attr('style', 'position: relative; clear: both; outline: 0');\n",
       "\n",
       "    function canvas_keyboard_event(event) {\n",
       "        return fig.key_event(event, event['data']);\n",
       "    }\n",
       "\n",
       "    canvas_div.keydown('key_press', canvas_keyboard_event);\n",
       "    canvas_div.keyup('key_release', canvas_keyboard_event);\n",
       "    this.canvas_div = canvas_div\n",
       "    this._canvas_extra_style(canvas_div)\n",
       "    this.root.append(canvas_div);\n",
       "\n",
       "    var canvas = $('<canvas/>');\n",
       "    canvas.addClass('mpl-canvas');\n",
       "    canvas.attr('style', \"left: 0; top: 0; z-index: 0; outline: 0\")\n",
       "\n",
       "    this.canvas = canvas[0];\n",
       "    this.context = canvas[0].getContext(\"2d\");\n",
       "\n",
       "    var backingStore = this.context.backingStorePixelRatio ||\n",
       "\tthis.context.webkitBackingStorePixelRatio ||\n",
       "\tthis.context.mozBackingStorePixelRatio ||\n",
       "\tthis.context.msBackingStorePixelRatio ||\n",
       "\tthis.context.oBackingStorePixelRatio ||\n",
       "\tthis.context.backingStorePixelRatio || 1;\n",
       "\n",
       "    mpl.ratio = (window.devicePixelRatio || 1) / backingStore;\n",
       "\n",
       "    var rubberband = $('<canvas/>');\n",
       "    rubberband.attr('style', \"position: absolute; left: 0; top: 0; z-index: 1;\")\n",
       "\n",
       "    var pass_mouse_events = true;\n",
       "\n",
       "    canvas_div.resizable({\n",
       "        start: function(event, ui) {\n",
       "            pass_mouse_events = false;\n",
       "        },\n",
       "        resize: function(event, ui) {\n",
       "            fig.request_resize(ui.size.width, ui.size.height);\n",
       "        },\n",
       "        stop: function(event, ui) {\n",
       "            pass_mouse_events = true;\n",
       "            fig.request_resize(ui.size.width, ui.size.height);\n",
       "        },\n",
       "    });\n",
       "\n",
       "    function mouse_event_fn(event) {\n",
       "        if (pass_mouse_events)\n",
       "            return fig.mouse_event(event, event['data']);\n",
       "    }\n",
       "\n",
       "    rubberband.mousedown('button_press', mouse_event_fn);\n",
       "    rubberband.mouseup('button_release', mouse_event_fn);\n",
       "    // Throttle sequential mouse events to 1 every 20ms.\n",
       "    rubberband.mousemove('motion_notify', mouse_event_fn);\n",
       "\n",
       "    rubberband.mouseenter('figure_enter', mouse_event_fn);\n",
       "    rubberband.mouseleave('figure_leave', mouse_event_fn);\n",
       "\n",
       "    canvas_div.on(\"wheel\", function (event) {\n",
       "        event = event.originalEvent;\n",
       "        event['data'] = 'scroll'\n",
       "        if (event.deltaY < 0) {\n",
       "            event.step = 1;\n",
       "        } else {\n",
       "            event.step = -1;\n",
       "        }\n",
       "        mouse_event_fn(event);\n",
       "    });\n",
       "\n",
       "    canvas_div.append(canvas);\n",
       "    canvas_div.append(rubberband);\n",
       "\n",
       "    this.rubberband = rubberband;\n",
       "    this.rubberband_canvas = rubberband[0];\n",
       "    this.rubberband_context = rubberband[0].getContext(\"2d\");\n",
       "    this.rubberband_context.strokeStyle = \"#000000\";\n",
       "\n",
       "    this._resize_canvas = function(width, height) {\n",
       "        // Keep the size of the canvas, canvas container, and rubber band\n",
       "        // canvas in synch.\n",
       "        canvas_div.css('width', width)\n",
       "        canvas_div.css('height', height)\n",
       "\n",
       "        canvas.attr('width', width * mpl.ratio);\n",
       "        canvas.attr('height', height * mpl.ratio);\n",
       "        canvas.attr('style', 'width: ' + width + 'px; height: ' + height + 'px;');\n",
       "\n",
       "        rubberband.attr('width', width);\n",
       "        rubberband.attr('height', height);\n",
       "    }\n",
       "\n",
       "    // Set the figure to an initial 600x600px, this will subsequently be updated\n",
       "    // upon first draw.\n",
       "    this._resize_canvas(600, 600);\n",
       "\n",
       "    // Disable right mouse context menu.\n",
       "    $(this.rubberband_canvas).bind(\"contextmenu\",function(e){\n",
       "        return false;\n",
       "    });\n",
       "\n",
       "    function set_focus () {\n",
       "        canvas.focus();\n",
       "        canvas_div.focus();\n",
       "    }\n",
       "\n",
       "    window.setTimeout(set_focus, 100);\n",
       "}\n",
       "\n",
       "mpl.figure.prototype._init_toolbar = function() {\n",
       "    var fig = this;\n",
       "\n",
       "    var nav_element = $('<div/>');\n",
       "    nav_element.attr('style', 'width: 100%');\n",
       "    this.root.append(nav_element);\n",
       "\n",
       "    // Define a callback function for later on.\n",
       "    function toolbar_event(event) {\n",
       "        return fig.toolbar_button_onclick(event['data']);\n",
       "    }\n",
       "    function toolbar_mouse_event(event) {\n",
       "        return fig.toolbar_button_onmouseover(event['data']);\n",
       "    }\n",
       "\n",
       "    for(var toolbar_ind in mpl.toolbar_items) {\n",
       "        var name = mpl.toolbar_items[toolbar_ind][0];\n",
       "        var tooltip = mpl.toolbar_items[toolbar_ind][1];\n",
       "        var image = mpl.toolbar_items[toolbar_ind][2];\n",
       "        var method_name = mpl.toolbar_items[toolbar_ind][3];\n",
       "\n",
       "        if (!name) {\n",
       "            // put a spacer in here.\n",
       "            continue;\n",
       "        }\n",
       "        var button = $('<button/>');\n",
       "        button.addClass('ui-button ui-widget ui-state-default ui-corner-all ' +\n",
       "                        'ui-button-icon-only');\n",
       "        button.attr('role', 'button');\n",
       "        button.attr('aria-disabled', 'false');\n",
       "        button.click(method_name, toolbar_event);\n",
       "        button.mouseover(tooltip, toolbar_mouse_event);\n",
       "\n",
       "        var icon_img = $('<span/>');\n",
       "        icon_img.addClass('ui-button-icon-primary ui-icon');\n",
       "        icon_img.addClass(image);\n",
       "        icon_img.addClass('ui-corner-all');\n",
       "\n",
       "        var tooltip_span = $('<span/>');\n",
       "        tooltip_span.addClass('ui-button-text');\n",
       "        tooltip_span.html(tooltip);\n",
       "\n",
       "        button.append(icon_img);\n",
       "        button.append(tooltip_span);\n",
       "\n",
       "        nav_element.append(button);\n",
       "    }\n",
       "\n",
       "    var fmt_picker_span = $('<span/>');\n",
       "\n",
       "    var fmt_picker = $('<select/>');\n",
       "    fmt_picker.addClass('mpl-toolbar-option ui-widget ui-widget-content');\n",
       "    fmt_picker_span.append(fmt_picker);\n",
       "    nav_element.append(fmt_picker_span);\n",
       "    this.format_dropdown = fmt_picker[0];\n",
       "\n",
       "    for (var ind in mpl.extensions) {\n",
       "        var fmt = mpl.extensions[ind];\n",
       "        var option = $(\n",
       "            '<option/>', {selected: fmt === mpl.default_extension}).html(fmt);\n",
       "        fmt_picker.append(option);\n",
       "    }\n",
       "\n",
       "    // Add hover states to the ui-buttons\n",
       "    $( \".ui-button\" ).hover(\n",
       "        function() { $(this).addClass(\"ui-state-hover\");},\n",
       "        function() { $(this).removeClass(\"ui-state-hover\");}\n",
       "    );\n",
       "\n",
       "    var status_bar = $('<span class=\"mpl-message\"/>');\n",
       "    nav_element.append(status_bar);\n",
       "    this.message = status_bar[0];\n",
       "}\n",
       "\n",
       "mpl.figure.prototype.request_resize = function(x_pixels, y_pixels) {\n",
       "    // Request matplotlib to resize the figure. Matplotlib will then trigger a resize in the client,\n",
       "    // which will in turn request a refresh of the image.\n",
       "    this.send_message('resize', {'width': x_pixels, 'height': y_pixels});\n",
       "}\n",
       "\n",
       "mpl.figure.prototype.send_message = function(type, properties) {\n",
       "    properties['type'] = type;\n",
       "    properties['figure_id'] = this.id;\n",
       "    this.ws.send(JSON.stringify(properties));\n",
       "}\n",
       "\n",
       "mpl.figure.prototype.send_draw_message = function() {\n",
       "    if (!this.waiting) {\n",
       "        this.waiting = true;\n",
       "        this.ws.send(JSON.stringify({type: \"draw\", figure_id: this.id}));\n",
       "    }\n",
       "}\n",
       "\n",
       "\n",
       "mpl.figure.prototype.handle_save = function(fig, msg) {\n",
       "    var format_dropdown = fig.format_dropdown;\n",
       "    var format = format_dropdown.options[format_dropdown.selectedIndex].value;\n",
       "    fig.ondownload(fig, format);\n",
       "}\n",
       "\n",
       "\n",
       "mpl.figure.prototype.handle_resize = function(fig, msg) {\n",
       "    var size = msg['size'];\n",
       "    if (size[0] != fig.canvas.width || size[1] != fig.canvas.height) {\n",
       "        fig._resize_canvas(size[0], size[1]);\n",
       "        fig.send_message(\"refresh\", {});\n",
       "    };\n",
       "}\n",
       "\n",
       "mpl.figure.prototype.handle_rubberband = function(fig, msg) {\n",
       "    var x0 = msg['x0'] / mpl.ratio;\n",
       "    var y0 = (fig.canvas.height - msg['y0']) / mpl.ratio;\n",
       "    var x1 = msg['x1'] / mpl.ratio;\n",
       "    var y1 = (fig.canvas.height - msg['y1']) / mpl.ratio;\n",
       "    x0 = Math.floor(x0) + 0.5;\n",
       "    y0 = Math.floor(y0) + 0.5;\n",
       "    x1 = Math.floor(x1) + 0.5;\n",
       "    y1 = Math.floor(y1) + 0.5;\n",
       "    var min_x = Math.min(x0, x1);\n",
       "    var min_y = Math.min(y0, y1);\n",
       "    var width = Math.abs(x1 - x0);\n",
       "    var height = Math.abs(y1 - y0);\n",
       "\n",
       "    fig.rubberband_context.clearRect(\n",
       "        0, 0, fig.canvas.width / mpl.ratio, fig.canvas.height / mpl.ratio);\n",
       "\n",
       "    fig.rubberband_context.strokeRect(min_x, min_y, width, height);\n",
       "}\n",
       "\n",
       "mpl.figure.prototype.handle_figure_label = function(fig, msg) {\n",
       "    // Updates the figure title.\n",
       "    fig.header.textContent = msg['label'];\n",
       "}\n",
       "\n",
       "mpl.figure.prototype.handle_cursor = function(fig, msg) {\n",
       "    var cursor = msg['cursor'];\n",
       "    switch(cursor)\n",
       "    {\n",
       "    case 0:\n",
       "        cursor = 'pointer';\n",
       "        break;\n",
       "    case 1:\n",
       "        cursor = 'default';\n",
       "        break;\n",
       "    case 2:\n",
       "        cursor = 'crosshair';\n",
       "        break;\n",
       "    case 3:\n",
       "        cursor = 'move';\n",
       "        break;\n",
       "    }\n",
       "    fig.rubberband_canvas.style.cursor = cursor;\n",
       "}\n",
       "\n",
       "mpl.figure.prototype.handle_message = function(fig, msg) {\n",
       "    fig.message.textContent = msg['message'];\n",
       "}\n",
       "\n",
       "mpl.figure.prototype.handle_draw = function(fig, msg) {\n",
       "    // Request the server to send over a new figure.\n",
       "    fig.send_draw_message();\n",
       "}\n",
       "\n",
       "mpl.figure.prototype.handle_image_mode = function(fig, msg) {\n",
       "    fig.image_mode = msg['mode'];\n",
       "}\n",
       "\n",
       "mpl.figure.prototype.updated_canvas_event = function() {\n",
       "    // Called whenever the canvas gets updated.\n",
       "    this.send_message(\"ack\", {});\n",
       "}\n",
       "\n",
       "// A function to construct a web socket function for onmessage handling.\n",
       "// Called in the figure constructor.\n",
       "mpl.figure.prototype._make_on_message_function = function(fig) {\n",
       "    return function socket_on_message(evt) {\n",
       "        if (evt.data instanceof Blob) {\n",
       "            /* FIXME: We get \"Resource interpreted as Image but\n",
       "             * transferred with MIME type text/plain:\" errors on\n",
       "             * Chrome.  But how to set the MIME type?  It doesn't seem\n",
       "             * to be part of the websocket stream */\n",
       "            evt.data.type = \"image/png\";\n",
       "\n",
       "            /* Free the memory for the previous frames */\n",
       "            if (fig.imageObj.src) {\n",
       "                (window.URL || window.webkitURL).revokeObjectURL(\n",
       "                    fig.imageObj.src);\n",
       "            }\n",
       "\n",
       "            fig.imageObj.src = (window.URL || window.webkitURL).createObjectURL(\n",
       "                evt.data);\n",
       "            fig.updated_canvas_event();\n",
       "            fig.waiting = false;\n",
       "            return;\n",
       "        }\n",
       "        else if (typeof evt.data === 'string' && evt.data.slice(0, 21) == \"data:image/png;base64\") {\n",
       "            fig.imageObj.src = evt.data;\n",
       "            fig.updated_canvas_event();\n",
       "            fig.waiting = false;\n",
       "            return;\n",
       "        }\n",
       "\n",
       "        var msg = JSON.parse(evt.data);\n",
       "        var msg_type = msg['type'];\n",
       "\n",
       "        // Call the  \"handle_{type}\" callback, which takes\n",
       "        // the figure and JSON message as its only arguments.\n",
       "        try {\n",
       "            var callback = fig[\"handle_\" + msg_type];\n",
       "        } catch (e) {\n",
       "            console.log(\"No handler for the '\" + msg_type + \"' message type: \", msg);\n",
       "            return;\n",
       "        }\n",
       "\n",
       "        if (callback) {\n",
       "            try {\n",
       "                // console.log(\"Handling '\" + msg_type + \"' message: \", msg);\n",
       "                callback(fig, msg);\n",
       "            } catch (e) {\n",
       "                console.log(\"Exception inside the 'handler_\" + msg_type + \"' callback:\", e, e.stack, msg);\n",
       "            }\n",
       "        }\n",
       "    };\n",
       "}\n",
       "\n",
       "// from http://stackoverflow.com/questions/1114465/getting-mouse-location-in-canvas\n",
       "mpl.findpos = function(e) {\n",
       "    //this section is from http://www.quirksmode.org/js/events_properties.html\n",
       "    var targ;\n",
       "    if (!e)\n",
       "        e = window.event;\n",
       "    if (e.target)\n",
       "        targ = e.target;\n",
       "    else if (e.srcElement)\n",
       "        targ = e.srcElement;\n",
       "    if (targ.nodeType == 3) // defeat Safari bug\n",
       "        targ = targ.parentNode;\n",
       "\n",
       "    // jQuery normalizes the pageX and pageY\n",
       "    // pageX,Y are the mouse positions relative to the document\n",
       "    // offset() returns the position of the element relative to the document\n",
       "    var x = e.pageX - $(targ).offset().left;\n",
       "    var y = e.pageY - $(targ).offset().top;\n",
       "\n",
       "    return {\"x\": x, \"y\": y};\n",
       "};\n",
       "\n",
       "/*\n",
       " * return a copy of an object with only non-object keys\n",
       " * we need this to avoid circular references\n",
       " * http://stackoverflow.com/a/24161582/3208463\n",
       " */\n",
       "function simpleKeys (original) {\n",
       "  return Object.keys(original).reduce(function (obj, key) {\n",
       "    if (typeof original[key] !== 'object')\n",
       "        obj[key] = original[key]\n",
       "    return obj;\n",
       "  }, {});\n",
       "}\n",
       "\n",
       "mpl.figure.prototype.mouse_event = function(event, name) {\n",
       "    var canvas_pos = mpl.findpos(event)\n",
       "\n",
       "    if (name === 'button_press')\n",
       "    {\n",
       "        this.canvas.focus();\n",
       "        this.canvas_div.focus();\n",
       "    }\n",
       "\n",
       "    var x = canvas_pos.x * mpl.ratio;\n",
       "    var y = canvas_pos.y * mpl.ratio;\n",
       "\n",
       "    this.send_message(name, {x: x, y: y, button: event.button,\n",
       "                             step: event.step,\n",
       "                             guiEvent: simpleKeys(event)});\n",
       "\n",
       "    /* This prevents the web browser from automatically changing to\n",
       "     * the text insertion cursor when the button is pressed.  We want\n",
       "     * to control all of the cursor setting manually through the\n",
       "     * 'cursor' event from matplotlib */\n",
       "    event.preventDefault();\n",
       "    return false;\n",
       "}\n",
       "\n",
       "mpl.figure.prototype._key_event_extra = function(event, name) {\n",
       "    // Handle any extra behaviour associated with a key event\n",
       "}\n",
       "\n",
       "mpl.figure.prototype.key_event = function(event, name) {\n",
       "\n",
       "    // Prevent repeat events\n",
       "    if (name == 'key_press')\n",
       "    {\n",
       "        if (event.which === this._key)\n",
       "            return;\n",
       "        else\n",
       "            this._key = event.which;\n",
       "    }\n",
       "    if (name == 'key_release')\n",
       "        this._key = null;\n",
       "\n",
       "    var value = '';\n",
       "    if (event.ctrlKey && event.which != 17)\n",
       "        value += \"ctrl+\";\n",
       "    if (event.altKey && event.which != 18)\n",
       "        value += \"alt+\";\n",
       "    if (event.shiftKey && event.which != 16)\n",
       "        value += \"shift+\";\n",
       "\n",
       "    value += 'k';\n",
       "    value += event.which.toString();\n",
       "\n",
       "    this._key_event_extra(event, name);\n",
       "\n",
       "    this.send_message(name, {key: value,\n",
       "                             guiEvent: simpleKeys(event)});\n",
       "    return false;\n",
       "}\n",
       "\n",
       "mpl.figure.prototype.toolbar_button_onclick = function(name) {\n",
       "    if (name == 'download') {\n",
       "        this.handle_save(this, null);\n",
       "    } else {\n",
       "        this.send_message(\"toolbar_button\", {name: name});\n",
       "    }\n",
       "};\n",
       "\n",
       "mpl.figure.prototype.toolbar_button_onmouseover = function(tooltip) {\n",
       "    this.message.textContent = tooltip;\n",
       "};\n",
       "mpl.toolbar_items = [[\"Home\", \"Reset original view\", \"fa fa-home icon-home\", \"home\"], [\"Back\", \"Back to previous view\", \"fa fa-arrow-left icon-arrow-left\", \"back\"], [\"Forward\", \"Forward to next view\", \"fa fa-arrow-right icon-arrow-right\", \"forward\"], [\"\", \"\", \"\", \"\"], [\"Pan\", \"Pan axes with left mouse, zoom with right\", \"fa fa-arrows icon-move\", \"pan\"], [\"Zoom\", \"Zoom to rectangle\", \"fa fa-square-o icon-check-empty\", \"zoom\"], [\"\", \"\", \"\", \"\"], [\"Download\", \"Download plot\", \"fa fa-floppy-o icon-save\", \"download\"]];\n",
       "\n",
       "mpl.extensions = [\"eps\", \"pdf\", \"png\", \"ps\", \"raw\", \"svg\"];\n",
       "\n",
       "mpl.default_extension = \"png\";var comm_websocket_adapter = function(comm) {\n",
       "    // Create a \"websocket\"-like object which calls the given IPython comm\n",
       "    // object with the appropriate methods. Currently this is a non binary\n",
       "    // socket, so there is still some room for performance tuning.\n",
       "    var ws = {};\n",
       "\n",
       "    ws.close = function() {\n",
       "        comm.close()\n",
       "    };\n",
       "    ws.send = function(m) {\n",
       "        //console.log('sending', m);\n",
       "        comm.send(m);\n",
       "    };\n",
       "    // Register the callback with on_msg.\n",
       "    comm.on_msg(function(msg) {\n",
       "        //console.log('receiving', msg['content']['data'], msg);\n",
       "        // Pass the mpl event to the overridden (by mpl) onmessage function.\n",
       "        ws.onmessage(msg['content']['data'])\n",
       "    });\n",
       "    return ws;\n",
       "}\n",
       "\n",
       "mpl.mpl_figure_comm = function(comm, msg) {\n",
       "    // This is the function which gets called when the mpl process\n",
       "    // starts-up an IPython Comm through the \"matplotlib\" channel.\n",
       "\n",
       "    var id = msg.content.data.id;\n",
       "    // Get hold of the div created by the display call when the Comm\n",
       "    // socket was opened in Python.\n",
       "    var element = $(\"#\" + id);\n",
       "    var ws_proxy = comm_websocket_adapter(comm)\n",
       "\n",
       "    function ondownload(figure, format) {\n",
       "        window.open(figure.imageObj.src);\n",
       "    }\n",
       "\n",
       "    var fig = new mpl.figure(id, ws_proxy,\n",
       "                           ondownload,\n",
       "                           element.get(0));\n",
       "\n",
       "    // Call onopen now - mpl needs it, as it is assuming we've passed it a real\n",
       "    // web socket which is closed, not our websocket->open comm proxy.\n",
       "    ws_proxy.onopen();\n",
       "\n",
       "    fig.parent_element = element.get(0);\n",
       "    fig.cell_info = mpl.find_output_cell(\"<div id='\" + id + \"'></div>\");\n",
       "    if (!fig.cell_info) {\n",
       "        console.error(\"Failed to find cell for figure\", id, fig);\n",
       "        return;\n",
       "    }\n",
       "\n",
       "    var output_index = fig.cell_info[2]\n",
       "    var cell = fig.cell_info[0];\n",
       "\n",
       "};\n",
       "\n",
       "mpl.figure.prototype.handle_close = function(fig, msg) {\n",
       "    var width = fig.canvas.width/mpl.ratio\n",
       "    fig.root.unbind('remove')\n",
       "\n",
       "    // Update the output cell to use the data from the current canvas.\n",
       "    fig.push_to_output();\n",
       "    var dataURL = fig.canvas.toDataURL();\n",
       "    // Re-enable the keyboard manager in IPython - without this line, in FF,\n",
       "    // the notebook keyboard shortcuts fail.\n",
       "    IPython.keyboard_manager.enable()\n",
       "    $(fig.parent_element).html('<img src=\"' + dataURL + '\" width=\"' + width + '\">');\n",
       "    fig.close_ws(fig, msg);\n",
       "}\n",
       "\n",
       "mpl.figure.prototype.close_ws = function(fig, msg){\n",
       "    fig.send_message('closing', msg);\n",
       "    // fig.ws.close()\n",
       "}\n",
       "\n",
       "mpl.figure.prototype.push_to_output = function(remove_interactive) {\n",
       "    // Turn the data on the canvas into data in the output cell.\n",
       "    var width = this.canvas.width/mpl.ratio\n",
       "    var dataURL = this.canvas.toDataURL();\n",
       "    this.cell_info[1]['text/html'] = '<img src=\"' + dataURL + '\" width=\"' + width + '\">';\n",
       "}\n",
       "\n",
       "mpl.figure.prototype.updated_canvas_event = function() {\n",
       "    // Tell IPython that the notebook contents must change.\n",
       "    IPython.notebook.set_dirty(true);\n",
       "    this.send_message(\"ack\", {});\n",
       "    var fig = this;\n",
       "    // Wait a second, then push the new image to the DOM so\n",
       "    // that it is saved nicely (might be nice to debounce this).\n",
       "    setTimeout(function () { fig.push_to_output() }, 1000);\n",
       "}\n",
       "\n",
       "mpl.figure.prototype._init_toolbar = function() {\n",
       "    var fig = this;\n",
       "\n",
       "    var nav_element = $('<div/>');\n",
       "    nav_element.attr('style', 'width: 100%');\n",
       "    this.root.append(nav_element);\n",
       "\n",
       "    // Define a callback function for later on.\n",
       "    function toolbar_event(event) {\n",
       "        return fig.toolbar_button_onclick(event['data']);\n",
       "    }\n",
       "    function toolbar_mouse_event(event) {\n",
       "        return fig.toolbar_button_onmouseover(event['data']);\n",
       "    }\n",
       "\n",
       "    for(var toolbar_ind in mpl.toolbar_items){\n",
       "        var name = mpl.toolbar_items[toolbar_ind][0];\n",
       "        var tooltip = mpl.toolbar_items[toolbar_ind][1];\n",
       "        var image = mpl.toolbar_items[toolbar_ind][2];\n",
       "        var method_name = mpl.toolbar_items[toolbar_ind][3];\n",
       "\n",
       "        if (!name) { continue; };\n",
       "\n",
       "        var button = $('<button class=\"btn btn-default\" href=\"#\" title=\"' + name + '\"><i class=\"fa ' + image + ' fa-lg\"></i></button>');\n",
       "        button.click(method_name, toolbar_event);\n",
       "        button.mouseover(tooltip, toolbar_mouse_event);\n",
       "        nav_element.append(button);\n",
       "    }\n",
       "\n",
       "    // Add the status bar.\n",
       "    var status_bar = $('<span class=\"mpl-message\" style=\"text-align:right; float: right;\"/>');\n",
       "    nav_element.append(status_bar);\n",
       "    this.message = status_bar[0];\n",
       "\n",
       "    // Add the close button to the window.\n",
       "    var buttongrp = $('<div class=\"btn-group inline pull-right\"></div>');\n",
       "    var button = $('<button class=\"btn btn-mini btn-primary\" href=\"#\" title=\"Stop Interaction\"><i class=\"fa fa-power-off icon-remove icon-large\"></i></button>');\n",
       "    button.click(function (evt) { fig.handle_close(fig, {}); } );\n",
       "    button.mouseover('Stop Interaction', toolbar_mouse_event);\n",
       "    buttongrp.append(button);\n",
       "    var titlebar = this.root.find($('.ui-dialog-titlebar'));\n",
       "    titlebar.prepend(buttongrp);\n",
       "}\n",
       "\n",
       "mpl.figure.prototype._root_extra_style = function(el){\n",
       "    var fig = this\n",
       "    el.on(\"remove\", function(){\n",
       "\tfig.close_ws(fig, {});\n",
       "    });\n",
       "}\n",
       "\n",
       "mpl.figure.prototype._canvas_extra_style = function(el){\n",
       "    // this is important to make the div 'focusable\n",
       "    el.attr('tabindex', 0)\n",
       "    // reach out to IPython and tell the keyboard manager to turn it's self\n",
       "    // off when our div gets focus\n",
       "\n",
       "    // location in version 3\n",
       "    if (IPython.notebook.keyboard_manager) {\n",
       "        IPython.notebook.keyboard_manager.register_events(el);\n",
       "    }\n",
       "    else {\n",
       "        // location in version 2\n",
       "        IPython.keyboard_manager.register_events(el);\n",
       "    }\n",
       "\n",
       "}\n",
       "\n",
       "mpl.figure.prototype._key_event_extra = function(event, name) {\n",
       "    var manager = IPython.notebook.keyboard_manager;\n",
       "    if (!manager)\n",
       "        manager = IPython.keyboard_manager;\n",
       "\n",
       "    // Check for shift+enter\n",
       "    if (event.shiftKey && event.which == 13) {\n",
       "        this.canvas_div.blur();\n",
       "        // select the cell after this one\n",
       "        var index = IPython.notebook.find_cell_index(this.cell_info[0]);\n",
       "        IPython.notebook.select(index + 1);\n",
       "    }\n",
       "}\n",
       "\n",
       "mpl.figure.prototype.handle_save = function(fig, msg) {\n",
       "    fig.ondownload(fig, null);\n",
       "}\n",
       "\n",
       "\n",
       "mpl.find_output_cell = function(html_output) {\n",
       "    // Return the cell and output element which can be found *uniquely* in the notebook.\n",
       "    // Note - this is a bit hacky, but it is done because the \"notebook_saving.Notebook\"\n",
       "    // IPython event is triggered only after the cells have been serialised, which for\n",
       "    // our purposes (turning an active figure into a static one), is too late.\n",
       "    var cells = IPython.notebook.get_cells();\n",
       "    var ncells = cells.length;\n",
       "    for (var i=0; i<ncells; i++) {\n",
       "        var cell = cells[i];\n",
       "        if (cell.cell_type === 'code'){\n",
       "            for (var j=0; j<cell.output_area.outputs.length; j++) {\n",
       "                var data = cell.output_area.outputs[j];\n",
       "                if (data.data) {\n",
       "                    // IPython >= 3 moved mimebundle to data attribute of output\n",
       "                    data = data.data;\n",
       "                }\n",
       "                if (data['text/html'] == html_output) {\n",
       "                    return [cell, data, j];\n",
       "                }\n",
       "            }\n",
       "        }\n",
       "    }\n",
       "}\n",
       "\n",
       "// Register the function which deals with the matplotlib target/channel.\n",
       "// The kernel may be null if the page has been refreshed.\n",
       "if (IPython.notebook.kernel != null) {\n",
       "    IPython.notebook.kernel.comm_manager.register_target('matplotlib', mpl.mpl_figure_comm);\n",
       "}\n"
      ],
      "text/plain": [
       "<IPython.core.display.Javascript object>"
      ]
     },
     "metadata": {},
     "output_type": "display_data"
    },
    {
     "data": {
      "text/html": [
       "<img src=\"data:image/png;base64,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\" width=\"639.75\">"
      ],
      "text/plain": [
       "<IPython.core.display.HTML object>"
      ]
     },
     "metadata": {},
     "output_type": "display_data"
    },
    {
     "data": {
      "text/plain": [
       "Text(0.5, 1.0, 'My Ricker')"
      ]
     },
     "execution_count": 20,
     "metadata": {},
     "output_type": "execute_result"
    }
   ],
   "source": [
    "plt.figure()\n",
    "image = plt.imread(\"ricker.png\")\n",
    "plt.imshow(image)\n",
    "plt.axis('off')\n",
    "plt.title('My Ricker')"
   ]
  },
  {
   "cell_type": "markdown",
   "metadata": {},
   "source": [
    "# Arrays\n",
    "\n",
    "Dealing with  multidimensional array is a key functionality in scientific computing. \n",
    "The `numpy` module is the core library for this. It provides a rich set of tools to create and manipulate\n",
    "arrays including tools signal processing and linear algebra. \n",
    "`numpy` works seamlessly with the `scipy` module providing further numerical capabilities \n",
    "and with `matplotlib` as introduced before. \n",
    "\n",
    "In this section we give an introduction into `numpy` and also in some more `matplotlib` capabilities."
   ]
  },
  {
   "cell_type": "markdown",
   "metadata": {},
   "source": [
    "## Creating arrays\n",
    "\n",
    "We can initialize `numpy` arrays from python lists:"
   ]
  },
  {
   "cell_type": "code",
   "execution_count": 21,
   "metadata": {
    "tags": [
     "SOLUTION"
    ]
   },
   "outputs": [],
   "source": [
    "import numpy as np\n",
    "a = np.array([-1., -2., -3.]) "
   ]
  },
  {
   "cell_type": "markdown",
   "metadata": {},
   "source": [
    "The type of `a` is `numpy.ndarray`"
   ]
  },
  {
   "cell_type": "code",
   "execution_count": 22,
   "metadata": {
    "tags": [
     "SOLUTION"
    ]
   },
   "outputs": [
    {
     "data": {
      "text/plain": [
       "numpy.ndarray"
      ]
     },
     "execution_count": 22,
     "metadata": {},
     "output_type": "execute_result"
    }
   ],
   "source": [
    "type(a)"
   ]
  },
  {
   "cell_type": "markdown",
   "metadata": {},
   "source": [
    "numpy arrays have a shape:"
   ]
  },
  {
   "cell_type": "code",
   "execution_count": 23,
   "metadata": {
    "tags": [
     "SOLUTION"
    ]
   },
   "outputs": [
    {
     "data": {
      "text/plain": [
       "(3,)"
      ]
     },
     "execution_count": 23,
     "metadata": {},
     "output_type": "execute_result"
    }
   ],
   "source": [
    "a.shape"
   ]
  },
  {
   "cell_type": "markdown",
   "metadata": {},
   "source": [
    "We can print entries (also called elements) of the array analogously to lists:"
   ]
  },
  {
   "cell_type": "code",
   "execution_count": 24,
   "metadata": {
    "tags": [
     "SOLUTION"
    ]
   },
   "outputs": [
    {
     "data": {
      "text/plain": [
       "(-1.0, -2.0, -3.0)"
      ]
     },
     "execution_count": 24,
     "metadata": {},
     "output_type": "execute_result"
    }
   ],
   "source": [
    "a[0], a[1], a[2]"
   ]
  },
  {
   "cell_type": "markdown",
   "metadata": {},
   "source": [
    "Arrays can have a higher rank:"
   ]
  },
  {
   "cell_type": "code",
   "execution_count": 25,
   "metadata": {
    "tags": [
     "SOLUTION"
    ]
   },
   "outputs": [
    {
     "data": {
      "text/plain": [
       "array([[1, 2, 3],\n",
       "       [4, 5, 6]])"
      ]
     },
     "execution_count": 25,
     "metadata": {},
     "output_type": "execute_result"
    }
   ],
   "source": [
    "b = np.array([[1,2,3],[4,5,6]]) \n",
    "b"
   ]
  },
  {
   "cell_type": "code",
   "execution_count": 26,
   "metadata": {
    "tags": [
     "SOLUTION"
    ]
   },
   "outputs": [
    {
     "data": {
      "text/plain": [
       "(2, 3)"
      ]
     },
     "execution_count": 26,
     "metadata": {},
     "output_type": "execute_result"
    }
   ],
   "source": [
    "b.shape"
   ]
  },
  {
   "cell_type": "markdown",
   "metadata": {},
   "source": [
    "So `b` be read having has two rows and three columns. \n",
    "Elements are accessed by a double index:"
   ]
  },
  {
   "cell_type": "code",
   "execution_count": 27,
   "metadata": {
    "tags": [
     "SOLUTION"
    ]
   },
   "outputs": [
    {
     "data": {
      "text/plain": [
       "(1, 2, 4)"
      ]
     },
     "execution_count": 27,
     "metadata": {},
     "output_type": "execute_result"
    }
   ],
   "source": [
    "b[0, 0], b[0, 1], b[1, 0]"
   ]
  },
  {
   "cell_type": "markdown",
   "metadata": {},
   "source": [
    "`Numpy` also provides several functions to create arrays for instance:\n",
    "\n",
    "Create an array of zeros - here of shape `(2,2)`:"
   ]
  },
  {
   "cell_type": "code",
   "execution_count": 28,
   "metadata": {
    "tags": [
     "SOLUTION"
    ]
   },
   "outputs": [
    {
     "data": {
      "text/plain": [
       "array([[0., 0.],\n",
       "       [0., 0.]])"
      ]
     },
     "execution_count": 28,
     "metadata": {},
     "output_type": "execute_result"
    }
   ],
   "source": [
    "np.zeros((2,2)) "
   ]
  },
  {
   "cell_type": "markdown",
   "metadata": {},
   "source": [
    "Or an array array of ones - try shape `(3,2)`:"
   ]
  },
  {
   "cell_type": "code",
   "execution_count": 29,
   "metadata": {
    "tags": [
     "SOLUTION"
    ]
   },
   "outputs": [
    {
     "data": {
      "text/plain": [
       "array([[1., 1.],\n",
       "       [1., 1.],\n",
       "       [1., 1.]])"
      ]
     },
     "execution_count": 29,
     "metadata": {},
     "output_type": "execute_result"
    }
   ],
   "source": [
    "np.ones((3,2)) "
   ]
  },
  {
   "cell_type": "markdown",
   "metadata": {},
   "source": [
    "There is an easy way to create a 3x3 identity matrix:"
   ]
  },
  {
   "cell_type": "code",
   "execution_count": 30,
   "metadata": {
    "tags": [
     "SOLUTION"
    ]
   },
   "outputs": [
    {
     "data": {
      "text/plain": [
       "array([[1., 0., 0.],\n",
       "       [0., 1., 0.],\n",
       "       [0., 0., 1.]])"
      ]
     },
     "execution_count": 30,
     "metadata": {},
     "output_type": "execute_result"
    }
   ],
   "source": [
    "np.eye(3)"
   ]
  },
  {
   "cell_type": "markdown",
   "metadata": {},
   "source": [
    "How about a 2x2 random matrix:"
   ]
  },
  {
   "cell_type": "code",
   "execution_count": 31,
   "metadata": {
    "tags": [
     "SOLUTION"
    ]
   },
   "outputs": [
    {
     "data": {
      "text/plain": [
       "array([[0.88544042, 0.33562516],\n",
       "       [0.63344899, 0.71578625]])"
      ]
     },
     "execution_count": 31,
     "metadata": {},
     "output_type": "execute_result"
    }
   ],
   "source": [
    "np.random.random((2,2))"
   ]
  },
  {
   "cell_type": "markdown",
   "metadata": {},
   "source": [
    "## Indexing and slicing\n",
    "\n",
    "One would expect a convenient way to access elements in an array. In deed arrays support slicing:"
   ]
  },
  {
   "cell_type": "code",
   "execution_count": 32,
   "metadata": {},
   "outputs": [],
   "source": [
    "c = np.array([[1,2,3,4], [5,6,7,8], [9,10,11,12]])"
   ]
  },
  {
   "cell_type": "code",
   "execution_count": 33,
   "metadata": {
    "tags": [
     "SOLUTION"
    ]
   },
   "outputs": [
    {
     "data": {
      "text/plain": [
       "array([[ 1,  2,  3,  4],\n",
       "       [ 5,  6,  7,  8],\n",
       "       [ 9, 10, 11, 12]])"
      ]
     },
     "execution_count": 33,
     "metadata": {},
     "output_type": "execute_result"
    }
   ],
   "source": [
    "c"
   ]
  },
  {
   "cell_type": "markdown",
   "metadata": {},
   "source": [
    "Get the second row of `c`. Again counting rows starts with zero:"
   ]
  },
  {
   "cell_type": "code",
   "execution_count": 34,
   "metadata": {
    "tags": [
     "SOLUTION"
    ]
   },
   "outputs": [
    {
     "data": {
      "text/plain": [
       "array([5, 6, 7, 8])"
      ]
     },
     "execution_count": 34,
     "metadata": {},
     "output_type": "execute_result"
    }
   ],
   "source": [
    "c[1, :]"
   ]
  },
  {
   "cell_type": "markdown",
   "metadata": {},
   "source": [
    "You can get rows 1 and 2 in one go:"
   ]
  },
  {
   "cell_type": "code",
   "execution_count": 35,
   "metadata": {
    "tags": [
     "SOLUTION"
    ]
   },
   "outputs": [
    {
     "data": {
      "text/plain": [
       "array([[ 5,  6,  7,  8],\n",
       "       [ 9, 10, 11, 12]])"
      ]
     },
     "execution_count": 35,
     "metadata": {},
     "output_type": "execute_result"
    }
   ],
   "source": [
    "c[1:3, :]"
   ]
  },
  {
   "cell_type": "markdown",
   "metadata": {},
   "source": [
    "The same works for column. Lets try the second column:"
   ]
  },
  {
   "cell_type": "code",
   "execution_count": 36,
   "metadata": {
    "tags": [
     "SOLUTION"
    ]
   },
   "outputs": [
    {
     "data": {
      "text/plain": [
       "array([ 2,  6, 10])"
      ]
     },
     "execution_count": 36,
     "metadata": {},
     "output_type": "execute_result"
    }
   ],
   "source": [
    "c[:, 1]"
   ]
  },
  {
   "cell_type": "markdown",
   "metadata": {},
   "source": [
    "and the second and third column together:  "
   ]
  },
  {
   "cell_type": "code",
   "execution_count": 37,
   "metadata": {
    "tags": [
     "SOLUTION"
    ]
   },
   "outputs": [
    {
     "data": {
      "text/plain": [
       "array([[ 2,  3],\n",
       "       [ 6,  7],\n",
       "       [10, 11]])"
      ]
     },
     "execution_count": 37,
     "metadata": {},
     "output_type": "execute_result"
    }
   ],
   "source": [
    "c[:, 1:3]"
   ]
  },
  {
   "cell_type": "markdown",
   "metadata": {},
   "source": [
    "Slicing as well as indexing can be used to modify specific entries in an array. \n",
    "For instance multiplying the second row of `c` by -1:"
   ]
  },
  {
   "cell_type": "code",
   "execution_count": 38,
   "metadata": {
    "tags": [
     "SOLUTION"
    ]
   },
   "outputs": [
    {
     "data": {
      "text/plain": [
       "array([[ 1,  2,  3,  4],\n",
       "       [-5, -6, -7, -8],\n",
       "       [ 9, 10, 11, 12]])"
      ]
     },
     "execution_count": 38,
     "metadata": {},
     "output_type": "execute_result"
    }
   ],
   "source": [
    "c[1, :]*=-1\n",
    "c"
   ]
  },
  {
   "cell_type": "markdown",
   "metadata": {},
   "source": [
    "or setting the columns 1 and 3 to 101:"
   ]
  },
  {
   "cell_type": "code",
   "execution_count": 39,
   "metadata": {
    "tags": [
     "SOLUTION"
    ]
   },
   "outputs": [
    {
     "data": {
      "text/plain": [
       "array([[  1, 101,   3, 101],\n",
       "       [ -5, 101,  -7, 101],\n",
       "       [  9, 101,  11, 101]])"
      ]
     },
     "execution_count": 39,
     "metadata": {},
     "output_type": "execute_result"
    }
   ],
   "source": [
    "c[:, [1,3]]=101\n",
    "c"
   ]
  },
  {
   "cell_type": "markdown",
   "metadata": {},
   "source": [
    "Boolean array indexing allows picking arbitrary elements of an array based on a mask for instance to \n",
    "get the elements out of an array that satisfy some conditions: "
   ]
  },
  {
   "cell_type": "code",
   "execution_count": 40,
   "metadata": {},
   "outputs": [],
   "source": [
    "d = np.array([[1,2], [3, 4], [5, 6]])"
   ]
  },
  {
   "cell_type": "code",
   "execution_count": 41,
   "metadata": {
    "tags": [
     "SOLUTION"
    ]
   },
   "outputs": [
    {
     "data": {
      "text/plain": [
       "array([[1, 2],\n",
       "       [3, 4],\n",
       "       [5, 6]])"
      ]
     },
     "execution_count": 41,
     "metadata": {},
     "output_type": "execute_result"
    }
   ],
   "source": [
    "d"
   ]
  },
  {
   "cell_type": "markdown",
   "metadata": {},
   "source": [
    "Here we create a mask of those values in `c` that have a value larger than 3:"
   ]
  },
  {
   "cell_type": "code",
   "execution_count": 42,
   "metadata": {
    "tags": [
     "SOLUTION"
    ]
   },
   "outputs": [
    {
     "data": {
      "text/plain": [
       "array([[False, False],\n",
       "       [False,  True],\n",
       "       [ True,  True]])"
      ]
     },
     "execution_count": 42,
     "metadata": {},
     "output_type": "execute_result"
    }
   ],
   "source": [
    "mask = d > 3\n",
    "mask"
   ]
  },
  {
   "cell_type": "markdown",
   "metadata": {},
   "source": [
    "This mask can be used to gather all entries where the mask is True:"
   ]
  },
  {
   "cell_type": "code",
   "execution_count": 43,
   "metadata": {
    "tags": [
     "SOLUTION"
    ]
   },
   "outputs": [
    {
     "data": {
      "text/plain": [
       "array([4, 5, 6])"
      ]
     },
     "execution_count": 43,
     "metadata": {},
     "output_type": "execute_result"
    }
   ],
   "source": [
    "d[mask]"
   ]
  },
  {
   "cell_type": "markdown",
   "metadata": {},
   "source": [
    "Notice that the array returned is one-dimensional (shape `(3,)`).\n",
    "This can be done in one line without the extra `mask`:"
   ]
  },
  {
   "cell_type": "code",
   "execution_count": 44,
   "metadata": {
    "tags": [
     "SOLUTION"
    ]
   },
   "outputs": [
    {
     "data": {
      "text/plain": [
       "array([4, 5, 6])"
      ]
     },
     "execution_count": 44,
     "metadata": {},
     "output_type": "execute_result"
    }
   ],
   "source": [
    "d[d>3]"
   ]
  },
  {
   "cell_type": "markdown",
   "metadata": {},
   "source": [
    "Masks can also be used to assign new values to entries that meet a condition. For instance to set \n",
    "all values less or equal to three to zero:"
   ]
  },
  {
   "cell_type": "code",
   "execution_count": 45,
   "metadata": {
    "tags": [
     "SOLUTION"
    ]
   },
   "outputs": [
    {
     "data": {
      "text/plain": [
       "array([[0, 0],\n",
       "       [0, 4],\n",
       "       [5, 6]])"
      ]
     },
     "execution_count": 45,
     "metadata": {},
     "output_type": "execute_result"
    }
   ],
   "source": [
    "d[d<=3]=0\n",
    "d"
   ]
  },
  {
   "cell_type": "markdown",
   "metadata": {},
   "source": [
    "## Array reshaping"
   ]
  },
  {
   "cell_type": "markdown",
   "metadata": {},
   "source": [
    "Transposing an array is done by using the T attribute of an array object:"
   ]
  },
  {
   "cell_type": "code",
   "execution_count": 46,
   "metadata": {},
   "outputs": [],
   "source": [
    "d = np.array([[1,2], [3, 4], [5, 6]])"
   ]
  },
  {
   "cell_type": "code",
   "execution_count": 47,
   "metadata": {
    "tags": [
     "SOLUTION"
    ]
   },
   "outputs": [
    {
     "data": {
      "text/plain": [
       "array([[1, 2],\n",
       "       [3, 4],\n",
       "       [5, 6]])"
      ]
     },
     "execution_count": 47,
     "metadata": {},
     "output_type": "execute_result"
    }
   ],
   "source": [
    "d"
   ]
  },
  {
   "cell_type": "code",
   "execution_count": 48,
   "metadata": {
    "tags": [
     "SOLUTION"
    ]
   },
   "outputs": [
    {
     "data": {
      "text/plain": [
       "array([[1, 3, 5],\n",
       "       [2, 4, 6]])"
      ]
     },
     "execution_count": 48,
     "metadata": {},
     "output_type": "execute_result"
    }
   ],
   "source": [
    "d.T"
   ]
  },
  {
   "cell_type": "code",
   "execution_count": 49,
   "metadata": {
    "tags": [
     "SOLUTION"
    ]
   },
   "outputs": [
    {
     "data": {
      "text/plain": [
       "((3, 2), (2, 3))"
      ]
     },
     "execution_count": 49,
     "metadata": {},
     "output_type": "execute_result"
    }
   ],
   "source": [
    "d.shape, d.T.shape"
   ]
  },
  {
   "cell_type": "markdown",
   "metadata": {},
   "source": [
    "Push array into a new shape:"
   ]
  },
  {
   "cell_type": "code",
   "execution_count": 50,
   "metadata": {
    "tags": [
     "SOLUTION"
    ]
   },
   "outputs": [
    {
     "data": {
      "text/plain": [
       "array([1, 2, 3, 4, 5, 6])"
      ]
     },
     "execution_count": 50,
     "metadata": {},
     "output_type": "execute_result"
    }
   ],
   "source": [
    "np.reshape(d, (6,))"
   ]
  },
  {
   "cell_type": "code",
   "execution_count": 51,
   "metadata": {
    "tags": [
     "SOLUTION"
    ]
   },
   "outputs": [
    {
     "data": {
      "text/plain": [
       "array([[1, 2, 3],\n",
       "       [4, 5, 6]])"
      ]
     },
     "execution_count": 51,
     "metadata": {},
     "output_type": "execute_result"
    }
   ],
   "source": [
    "np.reshape(d, (2, 3))"
   ]
  },
  {
   "cell_type": "markdown",
   "metadata": {},
   "source": [
    "**Warning** reshaping does not create a copy just a different view!\n",
    "Let's test this. `s` is a reshaped version of `d` with shape `(6,)`: "
   ]
  },
  {
   "cell_type": "code",
   "execution_count": 52,
   "metadata": {
    "tags": [
     "SOLUTION"
    ]
   },
   "outputs": [],
   "source": [
    "s=np.reshape(d, (6, ))"
   ]
  },
  {
   "cell_type": "markdown",
   "metadata": {},
   "source": [
    "`s[1]` and `d[0,1]` have the same value:"
   ]
  },
  {
   "cell_type": "code",
   "execution_count": 53,
   "metadata": {},
   "outputs": [
    {
     "data": {
      "text/plain": [
       "(2, 2)"
      ]
     },
     "execution_count": 53,
     "metadata": {},
     "output_type": "execute_result"
    }
   ],
   "source": [
    "s[1], d[0,1]"
   ]
  },
  {
   "cell_type": "markdown",
   "metadata": {},
   "source": [
    "Now we change the second entry of `s` to -1:"
   ]
  },
  {
   "cell_type": "code",
   "execution_count": 54,
   "metadata": {
    "tags": [
     "SOLUTION"
    ]
   },
   "outputs": [],
   "source": [
    "s[1]=-1"
   ]
  },
  {
   "cell_type": "markdown",
   "metadata": {},
   "source": [
    "and `d[0,1]` has also changed:"
   ]
  },
  {
   "cell_type": "code",
   "execution_count": 55,
   "metadata": {
    "tags": [
     "SOLUTION"
    ]
   },
   "outputs": [
    {
     "data": {
      "text/plain": [
       "True"
      ]
     },
     "execution_count": 55,
     "metadata": {},
     "output_type": "execute_result"
    }
   ],
   "source": [
    "s[1] == d[0,1]"
   ]
  },
  {
   "cell_type": "markdown",
   "metadata": {},
   "source": [
    "# Array Datatypes\n",
    "\n",
    "Every numpy array has elements of the same type. Numpy makes assumption or tries to guess a data type when you create an array. In general all functions creating arrays have an optional parameter to explicitly specify the data type the user wants. More on types can be found [here](https://docs.scipy.org/doc/numpy/reference/arrays.dtypes.html)\n",
    "\n",
    "Here all entries in the list of the np.array are integers so the resulting array is integer:"
   ]
  },
  {
   "cell_type": "code",
   "execution_count": 56,
   "metadata": {
    "tags": [
     "SOLUTION"
    ]
   },
   "outputs": [
    {
     "data": {
      "text/plain": [
       "dtype('int64')"
      ]
     },
     "execution_count": 56,
     "metadata": {},
     "output_type": "execute_result"
    }
   ],
   "source": [
    "x=np.array([1, 2]) \n",
    "x.dtype"
   ]
  },
  {
   "cell_type": "markdown",
   "metadata": {},
   "source": [
    "but it is sufficient to change one of the list entries to a float type to make the created array of type float:"
   ]
  },
  {
   "cell_type": "code",
   "execution_count": 57,
   "metadata": {
    "tags": [
     "SOLUTION"
    ]
   },
   "outputs": [
    {
     "data": {
      "text/plain": [
       "dtype('float64')"
      ]
     },
     "execution_count": 57,
     "metadata": {},
     "output_type": "execute_result"
    }
   ],
   "source": [
    "x=np.array([1, 2.]) \n",
    "x.dtype"
   ]
  },
  {
   "cell_type": "markdown",
   "metadata": {},
   "source": [
    "You can also enforce the result to be of a specific type regardless of the list entries using the `dtype` argument:"
   ]
  },
  {
   "cell_type": "code",
   "execution_count": 58,
   "metadata": {
    "tags": [
     "SOLUTION"
    ]
   },
   "outputs": [
    {
     "data": {
      "text/plain": [
       "dtype('float64')"
      ]
     },
     "execution_count": 58,
     "metadata": {},
     "output_type": "execute_result"
    }
   ],
   "source": [
    "x=np.array([1, 2], dtype=np.float) \n",
    "x.dtype"
   ]
  },
  {
   "cell_type": "markdown",
   "metadata": {},
   "source": [
    "`dtype` can be any standart python type: `np.int`, `np.float`, `np.complex` and also given in string form `'i'`, `'f'` and `'c'`. But there are more types available and you can also construct your own, see [dtype](https://numpy.org/doc/stable/reference/arrays.dtypes.html)."
   ]
  },
  {
   "cell_type": "markdown",
   "metadata": {},
   "source": [
    "# Array Arithmetic\n",
    "\n",
    "## Element-by-Element\n",
    "\n",
    "As basic mathematical functions operate element-wise on arrays there is no need to loop over the entries. This is computationally more efficient and allows for clearer code.\n",
    "\n",
    "Here some examples:"
   ]
  },
  {
   "cell_type": "code",
   "execution_count": 59,
   "metadata": {},
   "outputs": [],
   "source": [
    "x = np.array([[1,2],[3,4]], dtype=np.float)\n",
    "y = np.array([[5,6],[7,8]], dtype=np.float\n",
    "            )"
   ]
  },
  {
   "cell_type": "markdown",
   "metadata": {},
   "source": [
    "This is element-by-element sum:"
   ]
  },
  {
   "cell_type": "code",
   "execution_count": 60,
   "metadata": {
    "tags": [
     "SOLUTION"
    ]
   },
   "outputs": [
    {
     "data": {
      "text/plain": [
       "array([[ 6.,  8.],\n",
       "       [10., 12.]])"
      ]
     },
     "execution_count": 60,
     "metadata": {},
     "output_type": "execute_result"
    }
   ],
   "source": [
    "x + y"
   ]
  },
  {
   "cell_type": "markdown",
   "metadata": {},
   "source": [
    "This is element-by-element sum:"
   ]
  },
  {
   "cell_type": "code",
   "execution_count": 61,
   "metadata": {
    "tags": [
     "SOLUTION"
    ]
   },
   "outputs": [
    {
     "data": {
      "text/plain": [
       "array([[-4., -4.],\n",
       "       [-4., -4.]])"
      ]
     },
     "execution_count": 61,
     "metadata": {},
     "output_type": "execute_result"
    }
   ],
   "source": [
    "x - y"
   ]
  },
  {
   "cell_type": "markdown",
   "metadata": {},
   "source": [
    "Just flip the sign:"
   ]
  },
  {
   "cell_type": "code",
   "execution_count": 62,
   "metadata": {
    "tags": [
     "SOLUTION"
    ]
   },
   "outputs": [
    {
     "data": {
      "text/plain": [
       "array([[-1., -2.],\n",
       "       [-3., -4.]])"
      ]
     },
     "execution_count": 62,
     "metadata": {},
     "output_type": "execute_result"
    }
   ],
   "source": [
    "-x"
   ]
  },
  {
   "cell_type": "markdown",
   "metadata": {},
   "source": [
    "Of course there is also element-by-element multiplication and division:"
   ]
  },
  {
   "cell_type": "code",
   "execution_count": 63,
   "metadata": {
    "tags": [
     "SOLUTION"
    ]
   },
   "outputs": [
    {
     "data": {
      "text/plain": [
       "(array([[ 5., 12.],\n",
       "        [21., 32.]]),\n",
       " array([[0.2       , 0.33333333],\n",
       "        [0.42857143, 0.5       ]]))"
      ]
     },
     "execution_count": 63,
     "metadata": {},
     "output_type": "execute_result"
    }
   ],
   "source": [
    "x*y, x / y"
   ]
  },
  {
   "cell_type": "markdown",
   "metadata": {},
   "source": [
    "This can also be done in place to save memory and compute time but `x` is changing now:"
   ]
  },
  {
   "cell_type": "code",
   "execution_count": 64,
   "metadata": {
    "tags": [
     "SOLUTION"
    ]
   },
   "outputs": [
    {
     "data": {
      "text/plain": [
       "array([[ 5., 12.],\n",
       "       [21., 32.]])"
      ]
     },
     "execution_count": 64,
     "metadata": {},
     "output_type": "execute_result"
    }
   ],
   "source": [
    "x*=y\n",
    "x"
   ]
  },
  {
   "cell_type": "markdown",
   "metadata": {},
   "source": [
    "Element-by-element square root (and other unitary operations) requires `numpy` function:"
   ]
  },
  {
   "cell_type": "code",
   "execution_count": 65,
   "metadata": {
    "tags": [
     "SOLUTION"
    ]
   },
   "outputs": [
    {
     "data": {
      "text/plain": [
       "array([[2.23606798, 3.46410162],\n",
       "       [4.58257569, 5.65685425]])"
      ]
     },
     "execution_count": 65,
     "metadata": {},
     "output_type": "execute_result"
    }
   ],
   "source": [
    "np.sqrt(x)"
   ]
  },
  {
   "cell_type": "markdown",
   "metadata": {},
   "source": [
    "## Matrix multiplication\n",
    "\n",
    "The dot function is used to compute inner products of vectors, to multiply a vector by a matrix, and to multiply matrices. Here some examples: "
   ]
  },
  {
   "cell_type": "code",
   "execution_count": 66,
   "metadata": {},
   "outputs": [],
   "source": [
    "X = np.array([[1,2],[3,4]])\n",
    "Y = np.array([[5,6],[7,8]])\n",
    "\n",
    "v = np.array([9,10])\n",
    "w = np.array([11, 12])"
   ]
  },
  {
   "cell_type": "markdown",
   "metadata": {},
   "source": [
    "Dot product of two vectors returning a floating point number:"
   ]
  },
  {
   "cell_type": "code",
   "execution_count": 67,
   "metadata": {
    "tags": [
     "SOLUTION"
    ]
   },
   "outputs": [
    {
     "data": {
      "text/plain": [
       "219"
      ]
     },
     "execution_count": 67,
     "metadata": {},
     "output_type": "execute_result"
    }
   ],
   "source": [
    "np.dot(v,w)"
   ]
  },
  {
   "cell_type": "markdown",
   "metadata": {},
   "source": [
    "Matrix vector product of matrix `X` and vector `v`: "
   ]
  },
  {
   "cell_type": "code",
   "execution_count": 68,
   "metadata": {
    "tags": [
     "SOLUTION"
    ]
   },
   "outputs": [
    {
     "data": {
      "text/plain": [
       "array([29, 67])"
      ]
     },
     "execution_count": 68,
     "metadata": {},
     "output_type": "execute_result"
    }
   ],
   "source": [
    "np.dot(X,v)"
   ]
  },
  {
   "cell_type": "markdown",
   "metadata": {},
   "source": [
    "This is the same like applying the inner product between the rows 0 and 1 of `X` with vector `v`"
   ]
  },
  {
   "cell_type": "code",
   "execution_count": 69,
   "metadata": {
    "tags": [
     "SOLUTION"
    ]
   },
   "outputs": [
    {
     "data": {
      "text/plain": [
       "array([29, 67])"
      ]
     },
     "execution_count": 69,
     "metadata": {},
     "output_type": "execute_result"
    }
   ],
   "source": [
    "np.array([np.dot(X[0,:],v), np.dot(X[1,:],v)])"
   ]
  },
  {
   "cell_type": "markdown",
   "metadata": {},
   "source": [
    "There is also a matrix-matrix product:"
   ]
  },
  {
   "cell_type": "code",
   "execution_count": 70,
   "metadata": {
    "tags": [
     "SOLUTION"
    ]
   },
   "outputs": [
    {
     "data": {
      "text/plain": [
       "array([[19, 22],\n",
       "       [43, 50]])"
      ]
     },
     "execution_count": 70,
     "metadata": {},
     "output_type": "execute_result"
    }
   ],
   "source": [
    "np.dot(X,Y)"
   ]
  },
  {
   "cell_type": "markdown",
   "metadata": {},
   "source": [
    "# An Example\n",
    "\n",
    "To illustrate how to work with `numpy` in a practical application we would like to interpolate some\n",
    "scattered gravity Bouguer anomaly data to a rectangular grid. The data are given in a CSV file so we need to \n",
    "first read the CSV file, define a grid and then interpolate the scattered data to the grid. As the range covered \n",
    "by the data is not rectangular we need to remove improper data before writing the interpolated data back to a CSV file. Of course we also want to plot the interpolated data.  \n",
    "\n",
    "Let's get started:"
   ]
  },
  {
   "cell_type": "markdown",
   "metadata": {},
   "source": [
    "`numpy` is providing a variety of functions to directly load data files into arrays. \n",
    "The `loadtxt` function is commonly used to load CSV files. Where we are loading the\n",
    "CSV file [gravity_tasmania.csv](./Data/gravity_tasmania.csv) into the \n",
    "array `gdata`. The data set is a the measurement of vertical gravity anomalies at various stations\n",
    "across Tasmania. It has three columns namely the easting and northing of the station \n",
    "and the measured and corrected gravity in mGal. The columns are separated by commas \n",
    "and contains commend marked by `#`:"
   ]
  },
  {
   "cell_type": "code",
   "execution_count": 71,
   "metadata": {
    "tags": [
     "SOLUTION"
    ]
   },
   "outputs": [
    {
     "name": "stdout",
     "output_type": "stream",
     "text": [
      "number of records = 151\n"
     ]
    }
   ],
   "source": [
    "x, y , grav =np.loadtxt(\"./Data/gravity_tasmania.csv\", delimiter=',', comments=\"#\", unpack=True)\n",
    "print(\"number of records =\",len(x))"
   ]
  },
  {
   "cell_type": "markdown",
   "metadata": {},
   "source": [
    "The argument `unpack=True` has the effect that the columns are returned as a tuple with three 1D arrays.  \n",
    "Let's get some info from `x`:"
   ]
  },
  {
   "cell_type": "code",
   "execution_count": 72,
   "metadata": {
    "tags": [
     "SOLUTION"
    ]
   },
   "outputs": [
    {
     "data": {
      "text/plain": [
       "((151,), 540170.0, 513940.0, 531560.0662251656)"
      ]
     },
     "execution_count": 72,
     "metadata": {},
     "output_type": "execute_result"
    }
   ],
   "source": [
    "x.shape, x.max(), x.min(), x.mean()"
   ]
  },
  {
   "cell_type": "markdown",
   "metadata": {},
   "source": [
    "We plot the position of the stations as a scatter plot:"
   ]
  },
  {
   "cell_type": "code",
   "execution_count": 73,
   "metadata": {
    "tags": [
     "SOLUTION"
    ]
   },
   "outputs": [
    {
     "data": {
      "application/javascript": [
       "/* Put everything inside the global mpl namespace */\n",
       "window.mpl = {};\n",
       "\n",
       "\n",
       "mpl.get_websocket_type = function() {\n",
       "    if (typeof(WebSocket) !== 'undefined') {\n",
       "        return WebSocket;\n",
       "    } else if (typeof(MozWebSocket) !== 'undefined') {\n",
       "        return MozWebSocket;\n",
       "    } else {\n",
       "        alert('Your browser does not have WebSocket support. ' +\n",
       "              'Please try Chrome, Safari or Firefox ≥ 6. ' +\n",
       "              'Firefox 4 and 5 are also supported but you ' +\n",
       "              'have to enable WebSockets in about:config.');\n",
       "    };\n",
       "}\n",
       "\n",
       "mpl.figure = function(figure_id, websocket, ondownload, parent_element) {\n",
       "    this.id = figure_id;\n",
       "\n",
       "    this.ws = websocket;\n",
       "\n",
       "    this.supports_binary = (this.ws.binaryType != undefined);\n",
       "\n",
       "    if (!this.supports_binary) {\n",
       "        var warnings = document.getElementById(\"mpl-warnings\");\n",
       "        if (warnings) {\n",
       "            warnings.style.display = 'block';\n",
       "            warnings.textContent = (\n",
       "                \"This browser does not support binary websocket messages. \" +\n",
       "                    \"Performance may be slow.\");\n",
       "        }\n",
       "    }\n",
       "\n",
       "    this.imageObj = new Image();\n",
       "\n",
       "    this.context = undefined;\n",
       "    this.message = undefined;\n",
       "    this.canvas = undefined;\n",
       "    this.rubberband_canvas = undefined;\n",
       "    this.rubberband_context = undefined;\n",
       "    this.format_dropdown = undefined;\n",
       "\n",
       "    this.image_mode = 'full';\n",
       "\n",
       "    this.root = $('<div/>');\n",
       "    this._root_extra_style(this.root)\n",
       "    this.root.attr('style', 'display: inline-block');\n",
       "\n",
       "    $(parent_element).append(this.root);\n",
       "\n",
       "    this._init_header(this);\n",
       "    this._init_canvas(this);\n",
       "    this._init_toolbar(this);\n",
       "\n",
       "    var fig = this;\n",
       "\n",
       "    this.waiting = false;\n",
       "\n",
       "    this.ws.onopen =  function () {\n",
       "            fig.send_message(\"supports_binary\", {value: fig.supports_binary});\n",
       "            fig.send_message(\"send_image_mode\", {});\n",
       "            if (mpl.ratio != 1) {\n",
       "                fig.send_message(\"set_dpi_ratio\", {'dpi_ratio': mpl.ratio});\n",
       "            }\n",
       "            fig.send_message(\"refresh\", {});\n",
       "        }\n",
       "\n",
       "    this.imageObj.onload = function() {\n",
       "            if (fig.image_mode == 'full') {\n",
       "                // Full images could contain transparency (where diff images\n",
       "                // almost always do), so we need to clear the canvas so that\n",
       "                // there is no ghosting.\n",
       "                fig.context.clearRect(0, 0, fig.canvas.width, fig.canvas.height);\n",
       "            }\n",
       "            fig.context.drawImage(fig.imageObj, 0, 0);\n",
       "        };\n",
       "\n",
       "    this.imageObj.onunload = function() {\n",
       "        fig.ws.close();\n",
       "    }\n",
       "\n",
       "    this.ws.onmessage = this._make_on_message_function(this);\n",
       "\n",
       "    this.ondownload = ondownload;\n",
       "}\n",
       "\n",
       "mpl.figure.prototype._init_header = function() {\n",
       "    var titlebar = $(\n",
       "        '<div class=\"ui-dialog-titlebar ui-widget-header ui-corner-all ' +\n",
       "        'ui-helper-clearfix\"/>');\n",
       "    var titletext = $(\n",
       "        '<div class=\"ui-dialog-title\" style=\"width: 100%; ' +\n",
       "        'text-align: center; padding: 3px;\"/>');\n",
       "    titlebar.append(titletext)\n",
       "    this.root.append(titlebar);\n",
       "    this.header = titletext[0];\n",
       "}\n",
       "\n",
       "\n",
       "\n",
       "mpl.figure.prototype._canvas_extra_style = function(canvas_div) {\n",
       "\n",
       "}\n",
       "\n",
       "\n",
       "mpl.figure.prototype._root_extra_style = function(canvas_div) {\n",
       "\n",
       "}\n",
       "\n",
       "mpl.figure.prototype._init_canvas = function() {\n",
       "    var fig = this;\n",
       "\n",
       "    var canvas_div = $('<div/>');\n",
       "\n",
       "    canvas_div.attr('style', 'position: relative; clear: both; outline: 0');\n",
       "\n",
       "    function canvas_keyboard_event(event) {\n",
       "        return fig.key_event(event, event['data']);\n",
       "    }\n",
       "\n",
       "    canvas_div.keydown('key_press', canvas_keyboard_event);\n",
       "    canvas_div.keyup('key_release', canvas_keyboard_event);\n",
       "    this.canvas_div = canvas_div\n",
       "    this._canvas_extra_style(canvas_div)\n",
       "    this.root.append(canvas_div);\n",
       "\n",
       "    var canvas = $('<canvas/>');\n",
       "    canvas.addClass('mpl-canvas');\n",
       "    canvas.attr('style', \"left: 0; top: 0; z-index: 0; outline: 0\")\n",
       "\n",
       "    this.canvas = canvas[0];\n",
       "    this.context = canvas[0].getContext(\"2d\");\n",
       "\n",
       "    var backingStore = this.context.backingStorePixelRatio ||\n",
       "\tthis.context.webkitBackingStorePixelRatio ||\n",
       "\tthis.context.mozBackingStorePixelRatio ||\n",
       "\tthis.context.msBackingStorePixelRatio ||\n",
       "\tthis.context.oBackingStorePixelRatio ||\n",
       "\tthis.context.backingStorePixelRatio || 1;\n",
       "\n",
       "    mpl.ratio = (window.devicePixelRatio || 1) / backingStore;\n",
       "\n",
       "    var rubberband = $('<canvas/>');\n",
       "    rubberband.attr('style', \"position: absolute; left: 0; top: 0; z-index: 1;\")\n",
       "\n",
       "    var pass_mouse_events = true;\n",
       "\n",
       "    canvas_div.resizable({\n",
       "        start: function(event, ui) {\n",
       "            pass_mouse_events = false;\n",
       "        },\n",
       "        resize: function(event, ui) {\n",
       "            fig.request_resize(ui.size.width, ui.size.height);\n",
       "        },\n",
       "        stop: function(event, ui) {\n",
       "            pass_mouse_events = true;\n",
       "            fig.request_resize(ui.size.width, ui.size.height);\n",
       "        },\n",
       "    });\n",
       "\n",
       "    function mouse_event_fn(event) {\n",
       "        if (pass_mouse_events)\n",
       "            return fig.mouse_event(event, event['data']);\n",
       "    }\n",
       "\n",
       "    rubberband.mousedown('button_press', mouse_event_fn);\n",
       "    rubberband.mouseup('button_release', mouse_event_fn);\n",
       "    // Throttle sequential mouse events to 1 every 20ms.\n",
       "    rubberband.mousemove('motion_notify', mouse_event_fn);\n",
       "\n",
       "    rubberband.mouseenter('figure_enter', mouse_event_fn);\n",
       "    rubberband.mouseleave('figure_leave', mouse_event_fn);\n",
       "\n",
       "    canvas_div.on(\"wheel\", function (event) {\n",
       "        event = event.originalEvent;\n",
       "        event['data'] = 'scroll'\n",
       "        if (event.deltaY < 0) {\n",
       "            event.step = 1;\n",
       "        } else {\n",
       "            event.step = -1;\n",
       "        }\n",
       "        mouse_event_fn(event);\n",
       "    });\n",
       "\n",
       "    canvas_div.append(canvas);\n",
       "    canvas_div.append(rubberband);\n",
       "\n",
       "    this.rubberband = rubberband;\n",
       "    this.rubberband_canvas = rubberband[0];\n",
       "    this.rubberband_context = rubberband[0].getContext(\"2d\");\n",
       "    this.rubberband_context.strokeStyle = \"#000000\";\n",
       "\n",
       "    this._resize_canvas = function(width, height) {\n",
       "        // Keep the size of the canvas, canvas container, and rubber band\n",
       "        // canvas in synch.\n",
       "        canvas_div.css('width', width)\n",
       "        canvas_div.css('height', height)\n",
       "\n",
       "        canvas.attr('width', width * mpl.ratio);\n",
       "        canvas.attr('height', height * mpl.ratio);\n",
       "        canvas.attr('style', 'width: ' + width + 'px; height: ' + height + 'px;');\n",
       "\n",
       "        rubberband.attr('width', width);\n",
       "        rubberband.attr('height', height);\n",
       "    }\n",
       "\n",
       "    // Set the figure to an initial 600x600px, this will subsequently be updated\n",
       "    // upon first draw.\n",
       "    this._resize_canvas(600, 600);\n",
       "\n",
       "    // Disable right mouse context menu.\n",
       "    $(this.rubberband_canvas).bind(\"contextmenu\",function(e){\n",
       "        return false;\n",
       "    });\n",
       "\n",
       "    function set_focus () {\n",
       "        canvas.focus();\n",
       "        canvas_div.focus();\n",
       "    }\n",
       "\n",
       "    window.setTimeout(set_focus, 100);\n",
       "}\n",
       "\n",
       "mpl.figure.prototype._init_toolbar = function() {\n",
       "    var fig = this;\n",
       "\n",
       "    var nav_element = $('<div/>');\n",
       "    nav_element.attr('style', 'width: 100%');\n",
       "    this.root.append(nav_element);\n",
       "\n",
       "    // Define a callback function for later on.\n",
       "    function toolbar_event(event) {\n",
       "        return fig.toolbar_button_onclick(event['data']);\n",
       "    }\n",
       "    function toolbar_mouse_event(event) {\n",
       "        return fig.toolbar_button_onmouseover(event['data']);\n",
       "    }\n",
       "\n",
       "    for(var toolbar_ind in mpl.toolbar_items) {\n",
       "        var name = mpl.toolbar_items[toolbar_ind][0];\n",
       "        var tooltip = mpl.toolbar_items[toolbar_ind][1];\n",
       "        var image = mpl.toolbar_items[toolbar_ind][2];\n",
       "        var method_name = mpl.toolbar_items[toolbar_ind][3];\n",
       "\n",
       "        if (!name) {\n",
       "            // put a spacer in here.\n",
       "            continue;\n",
       "        }\n",
       "        var button = $('<button/>');\n",
       "        button.addClass('ui-button ui-widget ui-state-default ui-corner-all ' +\n",
       "                        'ui-button-icon-only');\n",
       "        button.attr('role', 'button');\n",
       "        button.attr('aria-disabled', 'false');\n",
       "        button.click(method_name, toolbar_event);\n",
       "        button.mouseover(tooltip, toolbar_mouse_event);\n",
       "\n",
       "        var icon_img = $('<span/>');\n",
       "        icon_img.addClass('ui-button-icon-primary ui-icon');\n",
       "        icon_img.addClass(image);\n",
       "        icon_img.addClass('ui-corner-all');\n",
       "\n",
       "        var tooltip_span = $('<span/>');\n",
       "        tooltip_span.addClass('ui-button-text');\n",
       "        tooltip_span.html(tooltip);\n",
       "\n",
       "        button.append(icon_img);\n",
       "        button.append(tooltip_span);\n",
       "\n",
       "        nav_element.append(button);\n",
       "    }\n",
       "\n",
       "    var fmt_picker_span = $('<span/>');\n",
       "\n",
       "    var fmt_picker = $('<select/>');\n",
       "    fmt_picker.addClass('mpl-toolbar-option ui-widget ui-widget-content');\n",
       "    fmt_picker_span.append(fmt_picker);\n",
       "    nav_element.append(fmt_picker_span);\n",
       "    this.format_dropdown = fmt_picker[0];\n",
       "\n",
       "    for (var ind in mpl.extensions) {\n",
       "        var fmt = mpl.extensions[ind];\n",
       "        var option = $(\n",
       "            '<option/>', {selected: fmt === mpl.default_extension}).html(fmt);\n",
       "        fmt_picker.append(option);\n",
       "    }\n",
       "\n",
       "    // Add hover states to the ui-buttons\n",
       "    $( \".ui-button\" ).hover(\n",
       "        function() { $(this).addClass(\"ui-state-hover\");},\n",
       "        function() { $(this).removeClass(\"ui-state-hover\");}\n",
       "    );\n",
       "\n",
       "    var status_bar = $('<span class=\"mpl-message\"/>');\n",
       "    nav_element.append(status_bar);\n",
       "    this.message = status_bar[0];\n",
       "}\n",
       "\n",
       "mpl.figure.prototype.request_resize = function(x_pixels, y_pixels) {\n",
       "    // Request matplotlib to resize the figure. Matplotlib will then trigger a resize in the client,\n",
       "    // which will in turn request a refresh of the image.\n",
       "    this.send_message('resize', {'width': x_pixels, 'height': y_pixels});\n",
       "}\n",
       "\n",
       "mpl.figure.prototype.send_message = function(type, properties) {\n",
       "    properties['type'] = type;\n",
       "    properties['figure_id'] = this.id;\n",
       "    this.ws.send(JSON.stringify(properties));\n",
       "}\n",
       "\n",
       "mpl.figure.prototype.send_draw_message = function() {\n",
       "    if (!this.waiting) {\n",
       "        this.waiting = true;\n",
       "        this.ws.send(JSON.stringify({type: \"draw\", figure_id: this.id}));\n",
       "    }\n",
       "}\n",
       "\n",
       "\n",
       "mpl.figure.prototype.handle_save = function(fig, msg) {\n",
       "    var format_dropdown = fig.format_dropdown;\n",
       "    var format = format_dropdown.options[format_dropdown.selectedIndex].value;\n",
       "    fig.ondownload(fig, format);\n",
       "}\n",
       "\n",
       "\n",
       "mpl.figure.prototype.handle_resize = function(fig, msg) {\n",
       "    var size = msg['size'];\n",
       "    if (size[0] != fig.canvas.width || size[1] != fig.canvas.height) {\n",
       "        fig._resize_canvas(size[0], size[1]);\n",
       "        fig.send_message(\"refresh\", {});\n",
       "    };\n",
       "}\n",
       "\n",
       "mpl.figure.prototype.handle_rubberband = function(fig, msg) {\n",
       "    var x0 = msg['x0'] / mpl.ratio;\n",
       "    var y0 = (fig.canvas.height - msg['y0']) / mpl.ratio;\n",
       "    var x1 = msg['x1'] / mpl.ratio;\n",
       "    var y1 = (fig.canvas.height - msg['y1']) / mpl.ratio;\n",
       "    x0 = Math.floor(x0) + 0.5;\n",
       "    y0 = Math.floor(y0) + 0.5;\n",
       "    x1 = Math.floor(x1) + 0.5;\n",
       "    y1 = Math.floor(y1) + 0.5;\n",
       "    var min_x = Math.min(x0, x1);\n",
       "    var min_y = Math.min(y0, y1);\n",
       "    var width = Math.abs(x1 - x0);\n",
       "    var height = Math.abs(y1 - y0);\n",
       "\n",
       "    fig.rubberband_context.clearRect(\n",
       "        0, 0, fig.canvas.width / mpl.ratio, fig.canvas.height / mpl.ratio);\n",
       "\n",
       "    fig.rubberband_context.strokeRect(min_x, min_y, width, height);\n",
       "}\n",
       "\n",
       "mpl.figure.prototype.handle_figure_label = function(fig, msg) {\n",
       "    // Updates the figure title.\n",
       "    fig.header.textContent = msg['label'];\n",
       "}\n",
       "\n",
       "mpl.figure.prototype.handle_cursor = function(fig, msg) {\n",
       "    var cursor = msg['cursor'];\n",
       "    switch(cursor)\n",
       "    {\n",
       "    case 0:\n",
       "        cursor = 'pointer';\n",
       "        break;\n",
       "    case 1:\n",
       "        cursor = 'default';\n",
       "        break;\n",
       "    case 2:\n",
       "        cursor = 'crosshair';\n",
       "        break;\n",
       "    case 3:\n",
       "        cursor = 'move';\n",
       "        break;\n",
       "    }\n",
       "    fig.rubberband_canvas.style.cursor = cursor;\n",
       "}\n",
       "\n",
       "mpl.figure.prototype.handle_message = function(fig, msg) {\n",
       "    fig.message.textContent = msg['message'];\n",
       "}\n",
       "\n",
       "mpl.figure.prototype.handle_draw = function(fig, msg) {\n",
       "    // Request the server to send over a new figure.\n",
       "    fig.send_draw_message();\n",
       "}\n",
       "\n",
       "mpl.figure.prototype.handle_image_mode = function(fig, msg) {\n",
       "    fig.image_mode = msg['mode'];\n",
       "}\n",
       "\n",
       "mpl.figure.prototype.updated_canvas_event = function() {\n",
       "    // Called whenever the canvas gets updated.\n",
       "    this.send_message(\"ack\", {});\n",
       "}\n",
       "\n",
       "// A function to construct a web socket function for onmessage handling.\n",
       "// Called in the figure constructor.\n",
       "mpl.figure.prototype._make_on_message_function = function(fig) {\n",
       "    return function socket_on_message(evt) {\n",
       "        if (evt.data instanceof Blob) {\n",
       "            /* FIXME: We get \"Resource interpreted as Image but\n",
       "             * transferred with MIME type text/plain:\" errors on\n",
       "             * Chrome.  But how to set the MIME type?  It doesn't seem\n",
       "             * to be part of the websocket stream */\n",
       "            evt.data.type = \"image/png\";\n",
       "\n",
       "            /* Free the memory for the previous frames */\n",
       "            if (fig.imageObj.src) {\n",
       "                (window.URL || window.webkitURL).revokeObjectURL(\n",
       "                    fig.imageObj.src);\n",
       "            }\n",
       "\n",
       "            fig.imageObj.src = (window.URL || window.webkitURL).createObjectURL(\n",
       "                evt.data);\n",
       "            fig.updated_canvas_event();\n",
       "            fig.waiting = false;\n",
       "            return;\n",
       "        }\n",
       "        else if (typeof evt.data === 'string' && evt.data.slice(0, 21) == \"data:image/png;base64\") {\n",
       "            fig.imageObj.src = evt.data;\n",
       "            fig.updated_canvas_event();\n",
       "            fig.waiting = false;\n",
       "            return;\n",
       "        }\n",
       "\n",
       "        var msg = JSON.parse(evt.data);\n",
       "        var msg_type = msg['type'];\n",
       "\n",
       "        // Call the  \"handle_{type}\" callback, which takes\n",
       "        // the figure and JSON message as its only arguments.\n",
       "        try {\n",
       "            var callback = fig[\"handle_\" + msg_type];\n",
       "        } catch (e) {\n",
       "            console.log(\"No handler for the '\" + msg_type + \"' message type: \", msg);\n",
       "            return;\n",
       "        }\n",
       "\n",
       "        if (callback) {\n",
       "            try {\n",
       "                // console.log(\"Handling '\" + msg_type + \"' message: \", msg);\n",
       "                callback(fig, msg);\n",
       "            } catch (e) {\n",
       "                console.log(\"Exception inside the 'handler_\" + msg_type + \"' callback:\", e, e.stack, msg);\n",
       "            }\n",
       "        }\n",
       "    };\n",
       "}\n",
       "\n",
       "// from http://stackoverflow.com/questions/1114465/getting-mouse-location-in-canvas\n",
       "mpl.findpos = function(e) {\n",
       "    //this section is from http://www.quirksmode.org/js/events_properties.html\n",
       "    var targ;\n",
       "    if (!e)\n",
       "        e = window.event;\n",
       "    if (e.target)\n",
       "        targ = e.target;\n",
       "    else if (e.srcElement)\n",
       "        targ = e.srcElement;\n",
       "    if (targ.nodeType == 3) // defeat Safari bug\n",
       "        targ = targ.parentNode;\n",
       "\n",
       "    // jQuery normalizes the pageX and pageY\n",
       "    // pageX,Y are the mouse positions relative to the document\n",
       "    // offset() returns the position of the element relative to the document\n",
       "    var x = e.pageX - $(targ).offset().left;\n",
       "    var y = e.pageY - $(targ).offset().top;\n",
       "\n",
       "    return {\"x\": x, \"y\": y};\n",
       "};\n",
       "\n",
       "/*\n",
       " * return a copy of an object with only non-object keys\n",
       " * we need this to avoid circular references\n",
       " * http://stackoverflow.com/a/24161582/3208463\n",
       " */\n",
       "function simpleKeys (original) {\n",
       "  return Object.keys(original).reduce(function (obj, key) {\n",
       "    if (typeof original[key] !== 'object')\n",
       "        obj[key] = original[key]\n",
       "    return obj;\n",
       "  }, {});\n",
       "}\n",
       "\n",
       "mpl.figure.prototype.mouse_event = function(event, name) {\n",
       "    var canvas_pos = mpl.findpos(event)\n",
       "\n",
       "    if (name === 'button_press')\n",
       "    {\n",
       "        this.canvas.focus();\n",
       "        this.canvas_div.focus();\n",
       "    }\n",
       "\n",
       "    var x = canvas_pos.x * mpl.ratio;\n",
       "    var y = canvas_pos.y * mpl.ratio;\n",
       "\n",
       "    this.send_message(name, {x: x, y: y, button: event.button,\n",
       "                             step: event.step,\n",
       "                             guiEvent: simpleKeys(event)});\n",
       "\n",
       "    /* This prevents the web browser from automatically changing to\n",
       "     * the text insertion cursor when the button is pressed.  We want\n",
       "     * to control all of the cursor setting manually through the\n",
       "     * 'cursor' event from matplotlib */\n",
       "    event.preventDefault();\n",
       "    return false;\n",
       "}\n",
       "\n",
       "mpl.figure.prototype._key_event_extra = function(event, name) {\n",
       "    // Handle any extra behaviour associated with a key event\n",
       "}\n",
       "\n",
       "mpl.figure.prototype.key_event = function(event, name) {\n",
       "\n",
       "    // Prevent repeat events\n",
       "    if (name == 'key_press')\n",
       "    {\n",
       "        if (event.which === this._key)\n",
       "            return;\n",
       "        else\n",
       "            this._key = event.which;\n",
       "    }\n",
       "    if (name == 'key_release')\n",
       "        this._key = null;\n",
       "\n",
       "    var value = '';\n",
       "    if (event.ctrlKey && event.which != 17)\n",
       "        value += \"ctrl+\";\n",
       "    if (event.altKey && event.which != 18)\n",
       "        value += \"alt+\";\n",
       "    if (event.shiftKey && event.which != 16)\n",
       "        value += \"shift+\";\n",
       "\n",
       "    value += 'k';\n",
       "    value += event.which.toString();\n",
       "\n",
       "    this._key_event_extra(event, name);\n",
       "\n",
       "    this.send_message(name, {key: value,\n",
       "                             guiEvent: simpleKeys(event)});\n",
       "    return false;\n",
       "}\n",
       "\n",
       "mpl.figure.prototype.toolbar_button_onclick = function(name) {\n",
       "    if (name == 'download') {\n",
       "        this.handle_save(this, null);\n",
       "    } else {\n",
       "        this.send_message(\"toolbar_button\", {name: name});\n",
       "    }\n",
       "};\n",
       "\n",
       "mpl.figure.prototype.toolbar_button_onmouseover = function(tooltip) {\n",
       "    this.message.textContent = tooltip;\n",
       "};\n",
       "mpl.toolbar_items = [[\"Home\", \"Reset original view\", \"fa fa-home icon-home\", \"home\"], [\"Back\", \"Back to previous view\", \"fa fa-arrow-left icon-arrow-left\", \"back\"], [\"Forward\", \"Forward to next view\", \"fa fa-arrow-right icon-arrow-right\", \"forward\"], [\"\", \"\", \"\", \"\"], [\"Pan\", \"Pan axes with left mouse, zoom with right\", \"fa fa-arrows icon-move\", \"pan\"], [\"Zoom\", \"Zoom to rectangle\", \"fa fa-square-o icon-check-empty\", \"zoom\"], [\"\", \"\", \"\", \"\"], [\"Download\", \"Download plot\", \"fa fa-floppy-o icon-save\", \"download\"]];\n",
       "\n",
       "mpl.extensions = [\"eps\", \"pdf\", \"png\", \"ps\", \"raw\", \"svg\"];\n",
       "\n",
       "mpl.default_extension = \"png\";var comm_websocket_adapter = function(comm) {\n",
       "    // Create a \"websocket\"-like object which calls the given IPython comm\n",
       "    // object with the appropriate methods. Currently this is a non binary\n",
       "    // socket, so there is still some room for performance tuning.\n",
       "    var ws = {};\n",
       "\n",
       "    ws.close = function() {\n",
       "        comm.close()\n",
       "    };\n",
       "    ws.send = function(m) {\n",
       "        //console.log('sending', m);\n",
       "        comm.send(m);\n",
       "    };\n",
       "    // Register the callback with on_msg.\n",
       "    comm.on_msg(function(msg) {\n",
       "        //console.log('receiving', msg['content']['data'], msg);\n",
       "        // Pass the mpl event to the overridden (by mpl) onmessage function.\n",
       "        ws.onmessage(msg['content']['data'])\n",
       "    });\n",
       "    return ws;\n",
       "}\n",
       "\n",
       "mpl.mpl_figure_comm = function(comm, msg) {\n",
       "    // This is the function which gets called when the mpl process\n",
       "    // starts-up an IPython Comm through the \"matplotlib\" channel.\n",
       "\n",
       "    var id = msg.content.data.id;\n",
       "    // Get hold of the div created by the display call when the Comm\n",
       "    // socket was opened in Python.\n",
       "    var element = $(\"#\" + id);\n",
       "    var ws_proxy = comm_websocket_adapter(comm)\n",
       "\n",
       "    function ondownload(figure, format) {\n",
       "        window.open(figure.imageObj.src);\n",
       "    }\n",
       "\n",
       "    var fig = new mpl.figure(id, ws_proxy,\n",
       "                           ondownload,\n",
       "                           element.get(0));\n",
       "\n",
       "    // Call onopen now - mpl needs it, as it is assuming we've passed it a real\n",
       "    // web socket which is closed, not our websocket->open comm proxy.\n",
       "    ws_proxy.onopen();\n",
       "\n",
       "    fig.parent_element = element.get(0);\n",
       "    fig.cell_info = mpl.find_output_cell(\"<div id='\" + id + \"'></div>\");\n",
       "    if (!fig.cell_info) {\n",
       "        console.error(\"Failed to find cell for figure\", id, fig);\n",
       "        return;\n",
       "    }\n",
       "\n",
       "    var output_index = fig.cell_info[2]\n",
       "    var cell = fig.cell_info[0];\n",
       "\n",
       "};\n",
       "\n",
       "mpl.figure.prototype.handle_close = function(fig, msg) {\n",
       "    var width = fig.canvas.width/mpl.ratio\n",
       "    fig.root.unbind('remove')\n",
       "\n",
       "    // Update the output cell to use the data from the current canvas.\n",
       "    fig.push_to_output();\n",
       "    var dataURL = fig.canvas.toDataURL();\n",
       "    // Re-enable the keyboard manager in IPython - without this line, in FF,\n",
       "    // the notebook keyboard shortcuts fail.\n",
       "    IPython.keyboard_manager.enable()\n",
       "    $(fig.parent_element).html('<img src=\"' + dataURL + '\" width=\"' + width + '\">');\n",
       "    fig.close_ws(fig, msg);\n",
       "}\n",
       "\n",
       "mpl.figure.prototype.close_ws = function(fig, msg){\n",
       "    fig.send_message('closing', msg);\n",
       "    // fig.ws.close()\n",
       "}\n",
       "\n",
       "mpl.figure.prototype.push_to_output = function(remove_interactive) {\n",
       "    // Turn the data on the canvas into data in the output cell.\n",
       "    var width = this.canvas.width/mpl.ratio\n",
       "    var dataURL = this.canvas.toDataURL();\n",
       "    this.cell_info[1]['text/html'] = '<img src=\"' + dataURL + '\" width=\"' + width + '\">';\n",
       "}\n",
       "\n",
       "mpl.figure.prototype.updated_canvas_event = function() {\n",
       "    // Tell IPython that the notebook contents must change.\n",
       "    IPython.notebook.set_dirty(true);\n",
       "    this.send_message(\"ack\", {});\n",
       "    var fig = this;\n",
       "    // Wait a second, then push the new image to the DOM so\n",
       "    // that it is saved nicely (might be nice to debounce this).\n",
       "    setTimeout(function () { fig.push_to_output() }, 1000);\n",
       "}\n",
       "\n",
       "mpl.figure.prototype._init_toolbar = function() {\n",
       "    var fig = this;\n",
       "\n",
       "    var nav_element = $('<div/>');\n",
       "    nav_element.attr('style', 'width: 100%');\n",
       "    this.root.append(nav_element);\n",
       "\n",
       "    // Define a callback function for later on.\n",
       "    function toolbar_event(event) {\n",
       "        return fig.toolbar_button_onclick(event['data']);\n",
       "    }\n",
       "    function toolbar_mouse_event(event) {\n",
       "        return fig.toolbar_button_onmouseover(event['data']);\n",
       "    }\n",
       "\n",
       "    for(var toolbar_ind in mpl.toolbar_items){\n",
       "        var name = mpl.toolbar_items[toolbar_ind][0];\n",
       "        var tooltip = mpl.toolbar_items[toolbar_ind][1];\n",
       "        var image = mpl.toolbar_items[toolbar_ind][2];\n",
       "        var method_name = mpl.toolbar_items[toolbar_ind][3];\n",
       "\n",
       "        if (!name) { continue; };\n",
       "\n",
       "        var button = $('<button class=\"btn btn-default\" href=\"#\" title=\"' + name + '\"><i class=\"fa ' + image + ' fa-lg\"></i></button>');\n",
       "        button.click(method_name, toolbar_event);\n",
       "        button.mouseover(tooltip, toolbar_mouse_event);\n",
       "        nav_element.append(button);\n",
       "    }\n",
       "\n",
       "    // Add the status bar.\n",
       "    var status_bar = $('<span class=\"mpl-message\" style=\"text-align:right; float: right;\"/>');\n",
       "    nav_element.append(status_bar);\n",
       "    this.message = status_bar[0];\n",
       "\n",
       "    // Add the close button to the window.\n",
       "    var buttongrp = $('<div class=\"btn-group inline pull-right\"></div>');\n",
       "    var button = $('<button class=\"btn btn-mini btn-primary\" href=\"#\" title=\"Stop Interaction\"><i class=\"fa fa-power-off icon-remove icon-large\"></i></button>');\n",
       "    button.click(function (evt) { fig.handle_close(fig, {}); } );\n",
       "    button.mouseover('Stop Interaction', toolbar_mouse_event);\n",
       "    buttongrp.append(button);\n",
       "    var titlebar = this.root.find($('.ui-dialog-titlebar'));\n",
       "    titlebar.prepend(buttongrp);\n",
       "}\n",
       "\n",
       "mpl.figure.prototype._root_extra_style = function(el){\n",
       "    var fig = this\n",
       "    el.on(\"remove\", function(){\n",
       "\tfig.close_ws(fig, {});\n",
       "    });\n",
       "}\n",
       "\n",
       "mpl.figure.prototype._canvas_extra_style = function(el){\n",
       "    // this is important to make the div 'focusable\n",
       "    el.attr('tabindex', 0)\n",
       "    // reach out to IPython and tell the keyboard manager to turn it's self\n",
       "    // off when our div gets focus\n",
       "\n",
       "    // location in version 3\n",
       "    if (IPython.notebook.keyboard_manager) {\n",
       "        IPython.notebook.keyboard_manager.register_events(el);\n",
       "    }\n",
       "    else {\n",
       "        // location in version 2\n",
       "        IPython.keyboard_manager.register_events(el);\n",
       "    }\n",
       "\n",
       "}\n",
       "\n",
       "mpl.figure.prototype._key_event_extra = function(event, name) {\n",
       "    var manager = IPython.notebook.keyboard_manager;\n",
       "    if (!manager)\n",
       "        manager = IPython.keyboard_manager;\n",
       "\n",
       "    // Check for shift+enter\n",
       "    if (event.shiftKey && event.which == 13) {\n",
       "        this.canvas_div.blur();\n",
       "        // select the cell after this one\n",
       "        var index = IPython.notebook.find_cell_index(this.cell_info[0]);\n",
       "        IPython.notebook.select(index + 1);\n",
       "    }\n",
       "}\n",
       "\n",
       "mpl.figure.prototype.handle_save = function(fig, msg) {\n",
       "    fig.ondownload(fig, null);\n",
       "}\n",
       "\n",
       "\n",
       "mpl.find_output_cell = function(html_output) {\n",
       "    // Return the cell and output element which can be found *uniquely* in the notebook.\n",
       "    // Note - this is a bit hacky, but it is done because the \"notebook_saving.Notebook\"\n",
       "    // IPython event is triggered only after the cells have been serialised, which for\n",
       "    // our purposes (turning an active figure into a static one), is too late.\n",
       "    var cells = IPython.notebook.get_cells();\n",
       "    var ncells = cells.length;\n",
       "    for (var i=0; i<ncells; i++) {\n",
       "        var cell = cells[i];\n",
       "        if (cell.cell_type === 'code'){\n",
       "            for (var j=0; j<cell.output_area.outputs.length; j++) {\n",
       "                var data = cell.output_area.outputs[j];\n",
       "                if (data.data) {\n",
       "                    // IPython >= 3 moved mimebundle to data attribute of output\n",
       "                    data = data.data;\n",
       "                }\n",
       "                if (data['text/html'] == html_output) {\n",
       "                    return [cell, data, j];\n",
       "                }\n",
       "            }\n",
       "        }\n",
       "    }\n",
       "}\n",
       "\n",
       "// Register the function which deals with the matplotlib target/channel.\n",
       "// The kernel may be null if the page has been refreshed.\n",
       "if (IPython.notebook.kernel != null) {\n",
       "    IPython.notebook.kernel.comm_manager.register_target('matplotlib', mpl.mpl_figure_comm);\n",
       "}\n"
      ],
      "text/plain": [
       "<IPython.core.display.Javascript object>"
      ]
     },
     "metadata": {},
     "output_type": "display_data"
    },
    {
     "data": {
      "text/html": [
       "<img src=\"data:image/png;base64,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\" width=\"852.75\">"
      ],
      "text/plain": [
       "<IPython.core.display.HTML object>"
      ]
     },
     "metadata": {},
     "output_type": "display_data"
    },
    {
     "data": {
      "text/plain": [
       "Text(0.5, 1.0, 'gravity station position')"
      ]
     },
     "execution_count": 73,
     "metadata": {},
     "output_type": "execute_result"
    }
   ],
   "source": [
    "%matplotlib notebook\n",
    "import matplotlib.pyplot as plt\n",
    "\n",
    "plt.figure()\n",
    "plt.scatter(x*1e-3, y*1e-3, s=4)\n",
    "plt.xlabel('easting [km]')\n",
    "plt.ylabel('northing [km]')\n",
    "plt.grid(True)\n",
    "plt.title(\"gravity station position\")"
   ]
  },
  {
   "cell_type": "markdown",
   "metadata": {},
   "source": [
    "We would like to plot the gravity distribution as recorder at the stations. For this\n",
    "we interpolate the data from the point observations to a regular grid. First \n",
    "we create the grid lines `xi` and `yi` along the x and y axis using `linspace` which\n",
    "return evenly spaced numbers over a specified interval:"
   ]
  },
  {
   "cell_type": "code",
   "execution_count": 74,
   "metadata": {
    "tags": [
     "SOLUTION"
    ]
   },
   "outputs": [],
   "source": [
    "xline=np.linspace(x.min(),x.max(),50)\n",
    "yline=np.linspace(y.min(),y.max(),50)"
   ]
  },
  {
   "cell_type": "markdown",
   "metadata": {},
   "source": [
    "Then these grid line positions are combined to actual grid node positions using `meshgrid`:"
   ]
  },
  {
   "cell_type": "code",
   "execution_count": 75,
   "metadata": {
    "tags": [
     "SOLUTION"
    ]
   },
   "outputs": [],
   "source": [
    "xi,yi = np.meshgrid(xline,yline)"
   ]
  },
  {
   "cell_type": "code",
   "execution_count": 76,
   "metadata": {
    "tags": [
     "SOLUTION"
    ]
   },
   "outputs": [
    {
     "data": {
      "text/plain": [
       "(50, 50)"
      ]
     },
     "execution_count": 76,
     "metadata": {},
     "output_type": "execute_result"
    }
   ],
   "source": [
    "xi.shape"
   ]
  },
  {
   "cell_type": "code",
   "execution_count": 77,
   "metadata": {},
   "outputs": [
    {
     "data": {
      "application/javascript": [
       "/* Put everything inside the global mpl namespace */\n",
       "window.mpl = {};\n",
       "\n",
       "\n",
       "mpl.get_websocket_type = function() {\n",
       "    if (typeof(WebSocket) !== 'undefined') {\n",
       "        return WebSocket;\n",
       "    } else if (typeof(MozWebSocket) !== 'undefined') {\n",
       "        return MozWebSocket;\n",
       "    } else {\n",
       "        alert('Your browser does not have WebSocket support. ' +\n",
       "              'Please try Chrome, Safari or Firefox ≥ 6. ' +\n",
       "              'Firefox 4 and 5 are also supported but you ' +\n",
       "              'have to enable WebSockets in about:config.');\n",
       "    };\n",
       "}\n",
       "\n",
       "mpl.figure = function(figure_id, websocket, ondownload, parent_element) {\n",
       "    this.id = figure_id;\n",
       "\n",
       "    this.ws = websocket;\n",
       "\n",
       "    this.supports_binary = (this.ws.binaryType != undefined);\n",
       "\n",
       "    if (!this.supports_binary) {\n",
       "        var warnings = document.getElementById(\"mpl-warnings\");\n",
       "        if (warnings) {\n",
       "            warnings.style.display = 'block';\n",
       "            warnings.textContent = (\n",
       "                \"This browser does not support binary websocket messages. \" +\n",
       "                    \"Performance may be slow.\");\n",
       "        }\n",
       "    }\n",
       "\n",
       "    this.imageObj = new Image();\n",
       "\n",
       "    this.context = undefined;\n",
       "    this.message = undefined;\n",
       "    this.canvas = undefined;\n",
       "    this.rubberband_canvas = undefined;\n",
       "    this.rubberband_context = undefined;\n",
       "    this.format_dropdown = undefined;\n",
       "\n",
       "    this.image_mode = 'full';\n",
       "\n",
       "    this.root = $('<div/>');\n",
       "    this._root_extra_style(this.root)\n",
       "    this.root.attr('style', 'display: inline-block');\n",
       "\n",
       "    $(parent_element).append(this.root);\n",
       "\n",
       "    this._init_header(this);\n",
       "    this._init_canvas(this);\n",
       "    this._init_toolbar(this);\n",
       "\n",
       "    var fig = this;\n",
       "\n",
       "    this.waiting = false;\n",
       "\n",
       "    this.ws.onopen =  function () {\n",
       "            fig.send_message(\"supports_binary\", {value: fig.supports_binary});\n",
       "            fig.send_message(\"send_image_mode\", {});\n",
       "            if (mpl.ratio != 1) {\n",
       "                fig.send_message(\"set_dpi_ratio\", {'dpi_ratio': mpl.ratio});\n",
       "            }\n",
       "            fig.send_message(\"refresh\", {});\n",
       "        }\n",
       "\n",
       "    this.imageObj.onload = function() {\n",
       "            if (fig.image_mode == 'full') {\n",
       "                // Full images could contain transparency (where diff images\n",
       "                // almost always do), so we need to clear the canvas so that\n",
       "                // there is no ghosting.\n",
       "                fig.context.clearRect(0, 0, fig.canvas.width, fig.canvas.height);\n",
       "            }\n",
       "            fig.context.drawImage(fig.imageObj, 0, 0);\n",
       "        };\n",
       "\n",
       "    this.imageObj.onunload = function() {\n",
       "        fig.ws.close();\n",
       "    }\n",
       "\n",
       "    this.ws.onmessage = this._make_on_message_function(this);\n",
       "\n",
       "    this.ondownload = ondownload;\n",
       "}\n",
       "\n",
       "mpl.figure.prototype._init_header = function() {\n",
       "    var titlebar = $(\n",
       "        '<div class=\"ui-dialog-titlebar ui-widget-header ui-corner-all ' +\n",
       "        'ui-helper-clearfix\"/>');\n",
       "    var titletext = $(\n",
       "        '<div class=\"ui-dialog-title\" style=\"width: 100%; ' +\n",
       "        'text-align: center; padding: 3px;\"/>');\n",
       "    titlebar.append(titletext)\n",
       "    this.root.append(titlebar);\n",
       "    this.header = titletext[0];\n",
       "}\n",
       "\n",
       "\n",
       "\n",
       "mpl.figure.prototype._canvas_extra_style = function(canvas_div) {\n",
       "\n",
       "}\n",
       "\n",
       "\n",
       "mpl.figure.prototype._root_extra_style = function(canvas_div) {\n",
       "\n",
       "}\n",
       "\n",
       "mpl.figure.prototype._init_canvas = function() {\n",
       "    var fig = this;\n",
       "\n",
       "    var canvas_div = $('<div/>');\n",
       "\n",
       "    canvas_div.attr('style', 'position: relative; clear: both; outline: 0');\n",
       "\n",
       "    function canvas_keyboard_event(event) {\n",
       "        return fig.key_event(event, event['data']);\n",
       "    }\n",
       "\n",
       "    canvas_div.keydown('key_press', canvas_keyboard_event);\n",
       "    canvas_div.keyup('key_release', canvas_keyboard_event);\n",
       "    this.canvas_div = canvas_div\n",
       "    this._canvas_extra_style(canvas_div)\n",
       "    this.root.append(canvas_div);\n",
       "\n",
       "    var canvas = $('<canvas/>');\n",
       "    canvas.addClass('mpl-canvas');\n",
       "    canvas.attr('style', \"left: 0; top: 0; z-index: 0; outline: 0\")\n",
       "\n",
       "    this.canvas = canvas[0];\n",
       "    this.context = canvas[0].getContext(\"2d\");\n",
       "\n",
       "    var backingStore = this.context.backingStorePixelRatio ||\n",
       "\tthis.context.webkitBackingStorePixelRatio ||\n",
       "\tthis.context.mozBackingStorePixelRatio ||\n",
       "\tthis.context.msBackingStorePixelRatio ||\n",
       "\tthis.context.oBackingStorePixelRatio ||\n",
       "\tthis.context.backingStorePixelRatio || 1;\n",
       "\n",
       "    mpl.ratio = (window.devicePixelRatio || 1) / backingStore;\n",
       "\n",
       "    var rubberband = $('<canvas/>');\n",
       "    rubberband.attr('style', \"position: absolute; left: 0; top: 0; z-index: 1;\")\n",
       "\n",
       "    var pass_mouse_events = true;\n",
       "\n",
       "    canvas_div.resizable({\n",
       "        start: function(event, ui) {\n",
       "            pass_mouse_events = false;\n",
       "        },\n",
       "        resize: function(event, ui) {\n",
       "            fig.request_resize(ui.size.width, ui.size.height);\n",
       "        },\n",
       "        stop: function(event, ui) {\n",
       "            pass_mouse_events = true;\n",
       "            fig.request_resize(ui.size.width, ui.size.height);\n",
       "        },\n",
       "    });\n",
       "\n",
       "    function mouse_event_fn(event) {\n",
       "        if (pass_mouse_events)\n",
       "            return fig.mouse_event(event, event['data']);\n",
       "    }\n",
       "\n",
       "    rubberband.mousedown('button_press', mouse_event_fn);\n",
       "    rubberband.mouseup('button_release', mouse_event_fn);\n",
       "    // Throttle sequential mouse events to 1 every 20ms.\n",
       "    rubberband.mousemove('motion_notify', mouse_event_fn);\n",
       "\n",
       "    rubberband.mouseenter('figure_enter', mouse_event_fn);\n",
       "    rubberband.mouseleave('figure_leave', mouse_event_fn);\n",
       "\n",
       "    canvas_div.on(\"wheel\", function (event) {\n",
       "        event = event.originalEvent;\n",
       "        event['data'] = 'scroll'\n",
       "        if (event.deltaY < 0) {\n",
       "            event.step = 1;\n",
       "        } else {\n",
       "            event.step = -1;\n",
       "        }\n",
       "        mouse_event_fn(event);\n",
       "    });\n",
       "\n",
       "    canvas_div.append(canvas);\n",
       "    canvas_div.append(rubberband);\n",
       "\n",
       "    this.rubberband = rubberband;\n",
       "    this.rubberband_canvas = rubberband[0];\n",
       "    this.rubberband_context = rubberband[0].getContext(\"2d\");\n",
       "    this.rubberband_context.strokeStyle = \"#000000\";\n",
       "\n",
       "    this._resize_canvas = function(width, height) {\n",
       "        // Keep the size of the canvas, canvas container, and rubber band\n",
       "        // canvas in synch.\n",
       "        canvas_div.css('width', width)\n",
       "        canvas_div.css('height', height)\n",
       "\n",
       "        canvas.attr('width', width * mpl.ratio);\n",
       "        canvas.attr('height', height * mpl.ratio);\n",
       "        canvas.attr('style', 'width: ' + width + 'px; height: ' + height + 'px;');\n",
       "\n",
       "        rubberband.attr('width', width);\n",
       "        rubberband.attr('height', height);\n",
       "    }\n",
       "\n",
       "    // Set the figure to an initial 600x600px, this will subsequently be updated\n",
       "    // upon first draw.\n",
       "    this._resize_canvas(600, 600);\n",
       "\n",
       "    // Disable right mouse context menu.\n",
       "    $(this.rubberband_canvas).bind(\"contextmenu\",function(e){\n",
       "        return false;\n",
       "    });\n",
       "\n",
       "    function set_focus () {\n",
       "        canvas.focus();\n",
       "        canvas_div.focus();\n",
       "    }\n",
       "\n",
       "    window.setTimeout(set_focus, 100);\n",
       "}\n",
       "\n",
       "mpl.figure.prototype._init_toolbar = function() {\n",
       "    var fig = this;\n",
       "\n",
       "    var nav_element = $('<div/>');\n",
       "    nav_element.attr('style', 'width: 100%');\n",
       "    this.root.append(nav_element);\n",
       "\n",
       "    // Define a callback function for later on.\n",
       "    function toolbar_event(event) {\n",
       "        return fig.toolbar_button_onclick(event['data']);\n",
       "    }\n",
       "    function toolbar_mouse_event(event) {\n",
       "        return fig.toolbar_button_onmouseover(event['data']);\n",
       "    }\n",
       "\n",
       "    for(var toolbar_ind in mpl.toolbar_items) {\n",
       "        var name = mpl.toolbar_items[toolbar_ind][0];\n",
       "        var tooltip = mpl.toolbar_items[toolbar_ind][1];\n",
       "        var image = mpl.toolbar_items[toolbar_ind][2];\n",
       "        var method_name = mpl.toolbar_items[toolbar_ind][3];\n",
       "\n",
       "        if (!name) {\n",
       "            // put a spacer in here.\n",
       "            continue;\n",
       "        }\n",
       "        var button = $('<button/>');\n",
       "        button.addClass('ui-button ui-widget ui-state-default ui-corner-all ' +\n",
       "                        'ui-button-icon-only');\n",
       "        button.attr('role', 'button');\n",
       "        button.attr('aria-disabled', 'false');\n",
       "        button.click(method_name, toolbar_event);\n",
       "        button.mouseover(tooltip, toolbar_mouse_event);\n",
       "\n",
       "        var icon_img = $('<span/>');\n",
       "        icon_img.addClass('ui-button-icon-primary ui-icon');\n",
       "        icon_img.addClass(image);\n",
       "        icon_img.addClass('ui-corner-all');\n",
       "\n",
       "        var tooltip_span = $('<span/>');\n",
       "        tooltip_span.addClass('ui-button-text');\n",
       "        tooltip_span.html(tooltip);\n",
       "\n",
       "        button.append(icon_img);\n",
       "        button.append(tooltip_span);\n",
       "\n",
       "        nav_element.append(button);\n",
       "    }\n",
       "\n",
       "    var fmt_picker_span = $('<span/>');\n",
       "\n",
       "    var fmt_picker = $('<select/>');\n",
       "    fmt_picker.addClass('mpl-toolbar-option ui-widget ui-widget-content');\n",
       "    fmt_picker_span.append(fmt_picker);\n",
       "    nav_element.append(fmt_picker_span);\n",
       "    this.format_dropdown = fmt_picker[0];\n",
       "\n",
       "    for (var ind in mpl.extensions) {\n",
       "        var fmt = mpl.extensions[ind];\n",
       "        var option = $(\n",
       "            '<option/>', {selected: fmt === mpl.default_extension}).html(fmt);\n",
       "        fmt_picker.append(option);\n",
       "    }\n",
       "\n",
       "    // Add hover states to the ui-buttons\n",
       "    $( \".ui-button\" ).hover(\n",
       "        function() { $(this).addClass(\"ui-state-hover\");},\n",
       "        function() { $(this).removeClass(\"ui-state-hover\");}\n",
       "    );\n",
       "\n",
       "    var status_bar = $('<span class=\"mpl-message\"/>');\n",
       "    nav_element.append(status_bar);\n",
       "    this.message = status_bar[0];\n",
       "}\n",
       "\n",
       "mpl.figure.prototype.request_resize = function(x_pixels, y_pixels) {\n",
       "    // Request matplotlib to resize the figure. Matplotlib will then trigger a resize in the client,\n",
       "    // which will in turn request a refresh of the image.\n",
       "    this.send_message('resize', {'width': x_pixels, 'height': y_pixels});\n",
       "}\n",
       "\n",
       "mpl.figure.prototype.send_message = function(type, properties) {\n",
       "    properties['type'] = type;\n",
       "    properties['figure_id'] = this.id;\n",
       "    this.ws.send(JSON.stringify(properties));\n",
       "}\n",
       "\n",
       "mpl.figure.prototype.send_draw_message = function() {\n",
       "    if (!this.waiting) {\n",
       "        this.waiting = true;\n",
       "        this.ws.send(JSON.stringify({type: \"draw\", figure_id: this.id}));\n",
       "    }\n",
       "}\n",
       "\n",
       "\n",
       "mpl.figure.prototype.handle_save = function(fig, msg) {\n",
       "    var format_dropdown = fig.format_dropdown;\n",
       "    var format = format_dropdown.options[format_dropdown.selectedIndex].value;\n",
       "    fig.ondownload(fig, format);\n",
       "}\n",
       "\n",
       "\n",
       "mpl.figure.prototype.handle_resize = function(fig, msg) {\n",
       "    var size = msg['size'];\n",
       "    if (size[0] != fig.canvas.width || size[1] != fig.canvas.height) {\n",
       "        fig._resize_canvas(size[0], size[1]);\n",
       "        fig.send_message(\"refresh\", {});\n",
       "    };\n",
       "}\n",
       "\n",
       "mpl.figure.prototype.handle_rubberband = function(fig, msg) {\n",
       "    var x0 = msg['x0'] / mpl.ratio;\n",
       "    var y0 = (fig.canvas.height - msg['y0']) / mpl.ratio;\n",
       "    var x1 = msg['x1'] / mpl.ratio;\n",
       "    var y1 = (fig.canvas.height - msg['y1']) / mpl.ratio;\n",
       "    x0 = Math.floor(x0) + 0.5;\n",
       "    y0 = Math.floor(y0) + 0.5;\n",
       "    x1 = Math.floor(x1) + 0.5;\n",
       "    y1 = Math.floor(y1) + 0.5;\n",
       "    var min_x = Math.min(x0, x1);\n",
       "    var min_y = Math.min(y0, y1);\n",
       "    var width = Math.abs(x1 - x0);\n",
       "    var height = Math.abs(y1 - y0);\n",
       "\n",
       "    fig.rubberband_context.clearRect(\n",
       "        0, 0, fig.canvas.width / mpl.ratio, fig.canvas.height / mpl.ratio);\n",
       "\n",
       "    fig.rubberband_context.strokeRect(min_x, min_y, width, height);\n",
       "}\n",
       "\n",
       "mpl.figure.prototype.handle_figure_label = function(fig, msg) {\n",
       "    // Updates the figure title.\n",
       "    fig.header.textContent = msg['label'];\n",
       "}\n",
       "\n",
       "mpl.figure.prototype.handle_cursor = function(fig, msg) {\n",
       "    var cursor = msg['cursor'];\n",
       "    switch(cursor)\n",
       "    {\n",
       "    case 0:\n",
       "        cursor = 'pointer';\n",
       "        break;\n",
       "    case 1:\n",
       "        cursor = 'default';\n",
       "        break;\n",
       "    case 2:\n",
       "        cursor = 'crosshair';\n",
       "        break;\n",
       "    case 3:\n",
       "        cursor = 'move';\n",
       "        break;\n",
       "    }\n",
       "    fig.rubberband_canvas.style.cursor = cursor;\n",
       "}\n",
       "\n",
       "mpl.figure.prototype.handle_message = function(fig, msg) {\n",
       "    fig.message.textContent = msg['message'];\n",
       "}\n",
       "\n",
       "mpl.figure.prototype.handle_draw = function(fig, msg) {\n",
       "    // Request the server to send over a new figure.\n",
       "    fig.send_draw_message();\n",
       "}\n",
       "\n",
       "mpl.figure.prototype.handle_image_mode = function(fig, msg) {\n",
       "    fig.image_mode = msg['mode'];\n",
       "}\n",
       "\n",
       "mpl.figure.prototype.updated_canvas_event = function() {\n",
       "    // Called whenever the canvas gets updated.\n",
       "    this.send_message(\"ack\", {});\n",
       "}\n",
       "\n",
       "// A function to construct a web socket function for onmessage handling.\n",
       "// Called in the figure constructor.\n",
       "mpl.figure.prototype._make_on_message_function = function(fig) {\n",
       "    return function socket_on_message(evt) {\n",
       "        if (evt.data instanceof Blob) {\n",
       "            /* FIXME: We get \"Resource interpreted as Image but\n",
       "             * transferred with MIME type text/plain:\" errors on\n",
       "             * Chrome.  But how to set the MIME type?  It doesn't seem\n",
       "             * to be part of the websocket stream */\n",
       "            evt.data.type = \"image/png\";\n",
       "\n",
       "            /* Free the memory for the previous frames */\n",
       "            if (fig.imageObj.src) {\n",
       "                (window.URL || window.webkitURL).revokeObjectURL(\n",
       "                    fig.imageObj.src);\n",
       "            }\n",
       "\n",
       "            fig.imageObj.src = (window.URL || window.webkitURL).createObjectURL(\n",
       "                evt.data);\n",
       "            fig.updated_canvas_event();\n",
       "            fig.waiting = false;\n",
       "            return;\n",
       "        }\n",
       "        else if (typeof evt.data === 'string' && evt.data.slice(0, 21) == \"data:image/png;base64\") {\n",
       "            fig.imageObj.src = evt.data;\n",
       "            fig.updated_canvas_event();\n",
       "            fig.waiting = false;\n",
       "            return;\n",
       "        }\n",
       "\n",
       "        var msg = JSON.parse(evt.data);\n",
       "        var msg_type = msg['type'];\n",
       "\n",
       "        // Call the  \"handle_{type}\" callback, which takes\n",
       "        // the figure and JSON message as its only arguments.\n",
       "        try {\n",
       "            var callback = fig[\"handle_\" + msg_type];\n",
       "        } catch (e) {\n",
       "            console.log(\"No handler for the '\" + msg_type + \"' message type: \", msg);\n",
       "            return;\n",
       "        }\n",
       "\n",
       "        if (callback) {\n",
       "            try {\n",
       "                // console.log(\"Handling '\" + msg_type + \"' message: \", msg);\n",
       "                callback(fig, msg);\n",
       "            } catch (e) {\n",
       "                console.log(\"Exception inside the 'handler_\" + msg_type + \"' callback:\", e, e.stack, msg);\n",
       "            }\n",
       "        }\n",
       "    };\n",
       "}\n",
       "\n",
       "// from http://stackoverflow.com/questions/1114465/getting-mouse-location-in-canvas\n",
       "mpl.findpos = function(e) {\n",
       "    //this section is from http://www.quirksmode.org/js/events_properties.html\n",
       "    var targ;\n",
       "    if (!e)\n",
       "        e = window.event;\n",
       "    if (e.target)\n",
       "        targ = e.target;\n",
       "    else if (e.srcElement)\n",
       "        targ = e.srcElement;\n",
       "    if (targ.nodeType == 3) // defeat Safari bug\n",
       "        targ = targ.parentNode;\n",
       "\n",
       "    // jQuery normalizes the pageX and pageY\n",
       "    // pageX,Y are the mouse positions relative to the document\n",
       "    // offset() returns the position of the element relative to the document\n",
       "    var x = e.pageX - $(targ).offset().left;\n",
       "    var y = e.pageY - $(targ).offset().top;\n",
       "\n",
       "    return {\"x\": x, \"y\": y};\n",
       "};\n",
       "\n",
       "/*\n",
       " * return a copy of an object with only non-object keys\n",
       " * we need this to avoid circular references\n",
       " * http://stackoverflow.com/a/24161582/3208463\n",
       " */\n",
       "function simpleKeys (original) {\n",
       "  return Object.keys(original).reduce(function (obj, key) {\n",
       "    if (typeof original[key] !== 'object')\n",
       "        obj[key] = original[key]\n",
       "    return obj;\n",
       "  }, {});\n",
       "}\n",
       "\n",
       "mpl.figure.prototype.mouse_event = function(event, name) {\n",
       "    var canvas_pos = mpl.findpos(event)\n",
       "\n",
       "    if (name === 'button_press')\n",
       "    {\n",
       "        this.canvas.focus();\n",
       "        this.canvas_div.focus();\n",
       "    }\n",
       "\n",
       "    var x = canvas_pos.x * mpl.ratio;\n",
       "    var y = canvas_pos.y * mpl.ratio;\n",
       "\n",
       "    this.send_message(name, {x: x, y: y, button: event.button,\n",
       "                             step: event.step,\n",
       "                             guiEvent: simpleKeys(event)});\n",
       "\n",
       "    /* This prevents the web browser from automatically changing to\n",
       "     * the text insertion cursor when the button is pressed.  We want\n",
       "     * to control all of the cursor setting manually through the\n",
       "     * 'cursor' event from matplotlib */\n",
       "    event.preventDefault();\n",
       "    return false;\n",
       "}\n",
       "\n",
       "mpl.figure.prototype._key_event_extra = function(event, name) {\n",
       "    // Handle any extra behaviour associated with a key event\n",
       "}\n",
       "\n",
       "mpl.figure.prototype.key_event = function(event, name) {\n",
       "\n",
       "    // Prevent repeat events\n",
       "    if (name == 'key_press')\n",
       "    {\n",
       "        if (event.which === this._key)\n",
       "            return;\n",
       "        else\n",
       "            this._key = event.which;\n",
       "    }\n",
       "    if (name == 'key_release')\n",
       "        this._key = null;\n",
       "\n",
       "    var value = '';\n",
       "    if (event.ctrlKey && event.which != 17)\n",
       "        value += \"ctrl+\";\n",
       "    if (event.altKey && event.which != 18)\n",
       "        value += \"alt+\";\n",
       "    if (event.shiftKey && event.which != 16)\n",
       "        value += \"shift+\";\n",
       "\n",
       "    value += 'k';\n",
       "    value += event.which.toString();\n",
       "\n",
       "    this._key_event_extra(event, name);\n",
       "\n",
       "    this.send_message(name, {key: value,\n",
       "                             guiEvent: simpleKeys(event)});\n",
       "    return false;\n",
       "}\n",
       "\n",
       "mpl.figure.prototype.toolbar_button_onclick = function(name) {\n",
       "    if (name == 'download') {\n",
       "        this.handle_save(this, null);\n",
       "    } else {\n",
       "        this.send_message(\"toolbar_button\", {name: name});\n",
       "    }\n",
       "};\n",
       "\n",
       "mpl.figure.prototype.toolbar_button_onmouseover = function(tooltip) {\n",
       "    this.message.textContent = tooltip;\n",
       "};\n",
       "mpl.toolbar_items = [[\"Home\", \"Reset original view\", \"fa fa-home icon-home\", \"home\"], [\"Back\", \"Back to previous view\", \"fa fa-arrow-left icon-arrow-left\", \"back\"], [\"Forward\", \"Forward to next view\", \"fa fa-arrow-right icon-arrow-right\", \"forward\"], [\"\", \"\", \"\", \"\"], [\"Pan\", \"Pan axes with left mouse, zoom with right\", \"fa fa-arrows icon-move\", \"pan\"], [\"Zoom\", \"Zoom to rectangle\", \"fa fa-square-o icon-check-empty\", \"zoom\"], [\"\", \"\", \"\", \"\"], [\"Download\", \"Download plot\", \"fa fa-floppy-o icon-save\", \"download\"]];\n",
       "\n",
       "mpl.extensions = [\"eps\", \"pdf\", \"png\", \"ps\", \"raw\", \"svg\"];\n",
       "\n",
       "mpl.default_extension = \"png\";var comm_websocket_adapter = function(comm) {\n",
       "    // Create a \"websocket\"-like object which calls the given IPython comm\n",
       "    // object with the appropriate methods. Currently this is a non binary\n",
       "    // socket, so there is still some room for performance tuning.\n",
       "    var ws = {};\n",
       "\n",
       "    ws.close = function() {\n",
       "        comm.close()\n",
       "    };\n",
       "    ws.send = function(m) {\n",
       "        //console.log('sending', m);\n",
       "        comm.send(m);\n",
       "    };\n",
       "    // Register the callback with on_msg.\n",
       "    comm.on_msg(function(msg) {\n",
       "        //console.log('receiving', msg['content']['data'], msg);\n",
       "        // Pass the mpl event to the overridden (by mpl) onmessage function.\n",
       "        ws.onmessage(msg['content']['data'])\n",
       "    });\n",
       "    return ws;\n",
       "}\n",
       "\n",
       "mpl.mpl_figure_comm = function(comm, msg) {\n",
       "    // This is the function which gets called when the mpl process\n",
       "    // starts-up an IPython Comm through the \"matplotlib\" channel.\n",
       "\n",
       "    var id = msg.content.data.id;\n",
       "    // Get hold of the div created by the display call when the Comm\n",
       "    // socket was opened in Python.\n",
       "    var element = $(\"#\" + id);\n",
       "    var ws_proxy = comm_websocket_adapter(comm)\n",
       "\n",
       "    function ondownload(figure, format) {\n",
       "        window.open(figure.imageObj.src);\n",
       "    }\n",
       "\n",
       "    var fig = new mpl.figure(id, ws_proxy,\n",
       "                           ondownload,\n",
       "                           element.get(0));\n",
       "\n",
       "    // Call onopen now - mpl needs it, as it is assuming we've passed it a real\n",
       "    // web socket which is closed, not our websocket->open comm proxy.\n",
       "    ws_proxy.onopen();\n",
       "\n",
       "    fig.parent_element = element.get(0);\n",
       "    fig.cell_info = mpl.find_output_cell(\"<div id='\" + id + \"'></div>\");\n",
       "    if (!fig.cell_info) {\n",
       "        console.error(\"Failed to find cell for figure\", id, fig);\n",
       "        return;\n",
       "    }\n",
       "\n",
       "    var output_index = fig.cell_info[2]\n",
       "    var cell = fig.cell_info[0];\n",
       "\n",
       "};\n",
       "\n",
       "mpl.figure.prototype.handle_close = function(fig, msg) {\n",
       "    var width = fig.canvas.width/mpl.ratio\n",
       "    fig.root.unbind('remove')\n",
       "\n",
       "    // Update the output cell to use the data from the current canvas.\n",
       "    fig.push_to_output();\n",
       "    var dataURL = fig.canvas.toDataURL();\n",
       "    // Re-enable the keyboard manager in IPython - without this line, in FF,\n",
       "    // the notebook keyboard shortcuts fail.\n",
       "    IPython.keyboard_manager.enable()\n",
       "    $(fig.parent_element).html('<img src=\"' + dataURL + '\" width=\"' + width + '\">');\n",
       "    fig.close_ws(fig, msg);\n",
       "}\n",
       "\n",
       "mpl.figure.prototype.close_ws = function(fig, msg){\n",
       "    fig.send_message('closing', msg);\n",
       "    // fig.ws.close()\n",
       "}\n",
       "\n",
       "mpl.figure.prototype.push_to_output = function(remove_interactive) {\n",
       "    // Turn the data on the canvas into data in the output cell.\n",
       "    var width = this.canvas.width/mpl.ratio\n",
       "    var dataURL = this.canvas.toDataURL();\n",
       "    this.cell_info[1]['text/html'] = '<img src=\"' + dataURL + '\" width=\"' + width + '\">';\n",
       "}\n",
       "\n",
       "mpl.figure.prototype.updated_canvas_event = function() {\n",
       "    // Tell IPython that the notebook contents must change.\n",
       "    IPython.notebook.set_dirty(true);\n",
       "    this.send_message(\"ack\", {});\n",
       "    var fig = this;\n",
       "    // Wait a second, then push the new image to the DOM so\n",
       "    // that it is saved nicely (might be nice to debounce this).\n",
       "    setTimeout(function () { fig.push_to_output() }, 1000);\n",
       "}\n",
       "\n",
       "mpl.figure.prototype._init_toolbar = function() {\n",
       "    var fig = this;\n",
       "\n",
       "    var nav_element = $('<div/>');\n",
       "    nav_element.attr('style', 'width: 100%');\n",
       "    this.root.append(nav_element);\n",
       "\n",
       "    // Define a callback function for later on.\n",
       "    function toolbar_event(event) {\n",
       "        return fig.toolbar_button_onclick(event['data']);\n",
       "    }\n",
       "    function toolbar_mouse_event(event) {\n",
       "        return fig.toolbar_button_onmouseover(event['data']);\n",
       "    }\n",
       "\n",
       "    for(var toolbar_ind in mpl.toolbar_items){\n",
       "        var name = mpl.toolbar_items[toolbar_ind][0];\n",
       "        var tooltip = mpl.toolbar_items[toolbar_ind][1];\n",
       "        var image = mpl.toolbar_items[toolbar_ind][2];\n",
       "        var method_name = mpl.toolbar_items[toolbar_ind][3];\n",
       "\n",
       "        if (!name) { continue; };\n",
       "\n",
       "        var button = $('<button class=\"btn btn-default\" href=\"#\" title=\"' + name + '\"><i class=\"fa ' + image + ' fa-lg\"></i></button>');\n",
       "        button.click(method_name, toolbar_event);\n",
       "        button.mouseover(tooltip, toolbar_mouse_event);\n",
       "        nav_element.append(button);\n",
       "    }\n",
       "\n",
       "    // Add the status bar.\n",
       "    var status_bar = $('<span class=\"mpl-message\" style=\"text-align:right; float: right;\"/>');\n",
       "    nav_element.append(status_bar);\n",
       "    this.message = status_bar[0];\n",
       "\n",
       "    // Add the close button to the window.\n",
       "    var buttongrp = $('<div class=\"btn-group inline pull-right\"></div>');\n",
       "    var button = $('<button class=\"btn btn-mini btn-primary\" href=\"#\" title=\"Stop Interaction\"><i class=\"fa fa-power-off icon-remove icon-large\"></i></button>');\n",
       "    button.click(function (evt) { fig.handle_close(fig, {}); } );\n",
       "    button.mouseover('Stop Interaction', toolbar_mouse_event);\n",
       "    buttongrp.append(button);\n",
       "    var titlebar = this.root.find($('.ui-dialog-titlebar'));\n",
       "    titlebar.prepend(buttongrp);\n",
       "}\n",
       "\n",
       "mpl.figure.prototype._root_extra_style = function(el){\n",
       "    var fig = this\n",
       "    el.on(\"remove\", function(){\n",
       "\tfig.close_ws(fig, {});\n",
       "    });\n",
       "}\n",
       "\n",
       "mpl.figure.prototype._canvas_extra_style = function(el){\n",
       "    // this is important to make the div 'focusable\n",
       "    el.attr('tabindex', 0)\n",
       "    // reach out to IPython and tell the keyboard manager to turn it's self\n",
       "    // off when our div gets focus\n",
       "\n",
       "    // location in version 3\n",
       "    if (IPython.notebook.keyboard_manager) {\n",
       "        IPython.notebook.keyboard_manager.register_events(el);\n",
       "    }\n",
       "    else {\n",
       "        // location in version 2\n",
       "        IPython.keyboard_manager.register_events(el);\n",
       "    }\n",
       "\n",
       "}\n",
       "\n",
       "mpl.figure.prototype._key_event_extra = function(event, name) {\n",
       "    var manager = IPython.notebook.keyboard_manager;\n",
       "    if (!manager)\n",
       "        manager = IPython.keyboard_manager;\n",
       "\n",
       "    // Check for shift+enter\n",
       "    if (event.shiftKey && event.which == 13) {\n",
       "        this.canvas_div.blur();\n",
       "        // select the cell after this one\n",
       "        var index = IPython.notebook.find_cell_index(this.cell_info[0]);\n",
       "        IPython.notebook.select(index + 1);\n",
       "    }\n",
       "}\n",
       "\n",
       "mpl.figure.prototype.handle_save = function(fig, msg) {\n",
       "    fig.ondownload(fig, null);\n",
       "}\n",
       "\n",
       "\n",
       "mpl.find_output_cell = function(html_output) {\n",
       "    // Return the cell and output element which can be found *uniquely* in the notebook.\n",
       "    // Note - this is a bit hacky, but it is done because the \"notebook_saving.Notebook\"\n",
       "    // IPython event is triggered only after the cells have been serialised, which for\n",
       "    // our purposes (turning an active figure into a static one), is too late.\n",
       "    var cells = IPython.notebook.get_cells();\n",
       "    var ncells = cells.length;\n",
       "    for (var i=0; i<ncells; i++) {\n",
       "        var cell = cells[i];\n",
       "        if (cell.cell_type === 'code'){\n",
       "            for (var j=0; j<cell.output_area.outputs.length; j++) {\n",
       "                var data = cell.output_area.outputs[j];\n",
       "                if (data.data) {\n",
       "                    // IPython >= 3 moved mimebundle to data attribute of output\n",
       "                    data = data.data;\n",
       "                }\n",
       "                if (data['text/html'] == html_output) {\n",
       "                    return [cell, data, j];\n",
       "                }\n",
       "            }\n",
       "        }\n",
       "    }\n",
       "}\n",
       "\n",
       "// Register the function which deals with the matplotlib target/channel.\n",
       "// The kernel may be null if the page has been refreshed.\n",
       "if (IPython.notebook.kernel != null) {\n",
       "    IPython.notebook.kernel.comm_manager.register_target('matplotlib', mpl.mpl_figure_comm);\n",
       "}\n"
      ],
      "text/plain": [
       "<IPython.core.display.Javascript object>"
      ]
     },
     "metadata": {},
     "output_type": "display_data"
    },
    {
     "data": {
      "text/html": [
       "<img src=\"data:image/png;base64,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\" width=\"852.75\">"
      ],
      "text/plain": [
       "<IPython.core.display.HTML object>"
      ]
     },
     "metadata": {},
     "output_type": "display_data"
    },
    {
     "data": {
      "text/plain": [
       "Text(0.5, 1.0, 'Grid Points for Interpolation')"
      ]
     },
     "execution_count": 77,
     "metadata": {},
     "output_type": "execute_result"
    }
   ],
   "source": [
    "plt.figure()\n",
    "plt.scatter(xi*1e-3, yi*1e-3, s=4)\n",
    "plt.xlabel('easting [km]')\n",
    "plt.ylabel('northing [km]')\n",
    "plt.grid(True)\n",
    "plt.title(\"Grid Points for Interpolation\")"
   ]
  },
  {
   "cell_type": "markdown",
   "metadata": {},
   "source": [
    "Now we use the `griddata` function of the `scipy` to interpolate the scattered data `grav` at `(x,y)` to the \n",
    "grid nodes `(xi, yi)`:"
   ]
  },
  {
   "cell_type": "code",
   "execution_count": 78,
   "metadata": {
    "tags": [
     "SOLUTION"
    ]
   },
   "outputs": [],
   "source": [
    "from scipy.interpolate import griddata\n",
    "gravi = griddata((x,y),grav,(xi,yi),method='linear')"
   ]
  },
  {
   "cell_type": "markdown",
   "metadata": {},
   "source": [
    "Now we can plot the interpolated data `gravi` using contours:"
   ]
  },
  {
   "cell_type": "code",
   "execution_count": 79,
   "metadata": {
    "tags": [
     "SOLUTION"
    ]
   },
   "outputs": [
    {
     "data": {
      "application/javascript": [
       "/* Put everything inside the global mpl namespace */\n",
       "window.mpl = {};\n",
       "\n",
       "\n",
       "mpl.get_websocket_type = function() {\n",
       "    if (typeof(WebSocket) !== 'undefined') {\n",
       "        return WebSocket;\n",
       "    } else if (typeof(MozWebSocket) !== 'undefined') {\n",
       "        return MozWebSocket;\n",
       "    } else {\n",
       "        alert('Your browser does not have WebSocket support. ' +\n",
       "              'Please try Chrome, Safari or Firefox ≥ 6. ' +\n",
       "              'Firefox 4 and 5 are also supported but you ' +\n",
       "              'have to enable WebSockets in about:config.');\n",
       "    };\n",
       "}\n",
       "\n",
       "mpl.figure = function(figure_id, websocket, ondownload, parent_element) {\n",
       "    this.id = figure_id;\n",
       "\n",
       "    this.ws = websocket;\n",
       "\n",
       "    this.supports_binary = (this.ws.binaryType != undefined);\n",
       "\n",
       "    if (!this.supports_binary) {\n",
       "        var warnings = document.getElementById(\"mpl-warnings\");\n",
       "        if (warnings) {\n",
       "            warnings.style.display = 'block';\n",
       "            warnings.textContent = (\n",
       "                \"This browser does not support binary websocket messages. \" +\n",
       "                    \"Performance may be slow.\");\n",
       "        }\n",
       "    }\n",
       "\n",
       "    this.imageObj = new Image();\n",
       "\n",
       "    this.context = undefined;\n",
       "    this.message = undefined;\n",
       "    this.canvas = undefined;\n",
       "    this.rubberband_canvas = undefined;\n",
       "    this.rubberband_context = undefined;\n",
       "    this.format_dropdown = undefined;\n",
       "\n",
       "    this.image_mode = 'full';\n",
       "\n",
       "    this.root = $('<div/>');\n",
       "    this._root_extra_style(this.root)\n",
       "    this.root.attr('style', 'display: inline-block');\n",
       "\n",
       "    $(parent_element).append(this.root);\n",
       "\n",
       "    this._init_header(this);\n",
       "    this._init_canvas(this);\n",
       "    this._init_toolbar(this);\n",
       "\n",
       "    var fig = this;\n",
       "\n",
       "    this.waiting = false;\n",
       "\n",
       "    this.ws.onopen =  function () {\n",
       "            fig.send_message(\"supports_binary\", {value: fig.supports_binary});\n",
       "            fig.send_message(\"send_image_mode\", {});\n",
       "            if (mpl.ratio != 1) {\n",
       "                fig.send_message(\"set_dpi_ratio\", {'dpi_ratio': mpl.ratio});\n",
       "            }\n",
       "            fig.send_message(\"refresh\", {});\n",
       "        }\n",
       "\n",
       "    this.imageObj.onload = function() {\n",
       "            if (fig.image_mode == 'full') {\n",
       "                // Full images could contain transparency (where diff images\n",
       "                // almost always do), so we need to clear the canvas so that\n",
       "                // there is no ghosting.\n",
       "                fig.context.clearRect(0, 0, fig.canvas.width, fig.canvas.height);\n",
       "            }\n",
       "            fig.context.drawImage(fig.imageObj, 0, 0);\n",
       "        };\n",
       "\n",
       "    this.imageObj.onunload = function() {\n",
       "        fig.ws.close();\n",
       "    }\n",
       "\n",
       "    this.ws.onmessage = this._make_on_message_function(this);\n",
       "\n",
       "    this.ondownload = ondownload;\n",
       "}\n",
       "\n",
       "mpl.figure.prototype._init_header = function() {\n",
       "    var titlebar = $(\n",
       "        '<div class=\"ui-dialog-titlebar ui-widget-header ui-corner-all ' +\n",
       "        'ui-helper-clearfix\"/>');\n",
       "    var titletext = $(\n",
       "        '<div class=\"ui-dialog-title\" style=\"width: 100%; ' +\n",
       "        'text-align: center; padding: 3px;\"/>');\n",
       "    titlebar.append(titletext)\n",
       "    this.root.append(titlebar);\n",
       "    this.header = titletext[0];\n",
       "}\n",
       "\n",
       "\n",
       "\n",
       "mpl.figure.prototype._canvas_extra_style = function(canvas_div) {\n",
       "\n",
       "}\n",
       "\n",
       "\n",
       "mpl.figure.prototype._root_extra_style = function(canvas_div) {\n",
       "\n",
       "}\n",
       "\n",
       "mpl.figure.prototype._init_canvas = function() {\n",
       "    var fig = this;\n",
       "\n",
       "    var canvas_div = $('<div/>');\n",
       "\n",
       "    canvas_div.attr('style', 'position: relative; clear: both; outline: 0');\n",
       "\n",
       "    function canvas_keyboard_event(event) {\n",
       "        return fig.key_event(event, event['data']);\n",
       "    }\n",
       "\n",
       "    canvas_div.keydown('key_press', canvas_keyboard_event);\n",
       "    canvas_div.keyup('key_release', canvas_keyboard_event);\n",
       "    this.canvas_div = canvas_div\n",
       "    this._canvas_extra_style(canvas_div)\n",
       "    this.root.append(canvas_div);\n",
       "\n",
       "    var canvas = $('<canvas/>');\n",
       "    canvas.addClass('mpl-canvas');\n",
       "    canvas.attr('style', \"left: 0; top: 0; z-index: 0; outline: 0\")\n",
       "\n",
       "    this.canvas = canvas[0];\n",
       "    this.context = canvas[0].getContext(\"2d\");\n",
       "\n",
       "    var backingStore = this.context.backingStorePixelRatio ||\n",
       "\tthis.context.webkitBackingStorePixelRatio ||\n",
       "\tthis.context.mozBackingStorePixelRatio ||\n",
       "\tthis.context.msBackingStorePixelRatio ||\n",
       "\tthis.context.oBackingStorePixelRatio ||\n",
       "\tthis.context.backingStorePixelRatio || 1;\n",
       "\n",
       "    mpl.ratio = (window.devicePixelRatio || 1) / backingStore;\n",
       "\n",
       "    var rubberband = $('<canvas/>');\n",
       "    rubberband.attr('style', \"position: absolute; left: 0; top: 0; z-index: 1;\")\n",
       "\n",
       "    var pass_mouse_events = true;\n",
       "\n",
       "    canvas_div.resizable({\n",
       "        start: function(event, ui) {\n",
       "            pass_mouse_events = false;\n",
       "        },\n",
       "        resize: function(event, ui) {\n",
       "            fig.request_resize(ui.size.width, ui.size.height);\n",
       "        },\n",
       "        stop: function(event, ui) {\n",
       "            pass_mouse_events = true;\n",
       "            fig.request_resize(ui.size.width, ui.size.height);\n",
       "        },\n",
       "    });\n",
       "\n",
       "    function mouse_event_fn(event) {\n",
       "        if (pass_mouse_events)\n",
       "            return fig.mouse_event(event, event['data']);\n",
       "    }\n",
       "\n",
       "    rubberband.mousedown('button_press', mouse_event_fn);\n",
       "    rubberband.mouseup('button_release', mouse_event_fn);\n",
       "    // Throttle sequential mouse events to 1 every 20ms.\n",
       "    rubberband.mousemove('motion_notify', mouse_event_fn);\n",
       "\n",
       "    rubberband.mouseenter('figure_enter', mouse_event_fn);\n",
       "    rubberband.mouseleave('figure_leave', mouse_event_fn);\n",
       "\n",
       "    canvas_div.on(\"wheel\", function (event) {\n",
       "        event = event.originalEvent;\n",
       "        event['data'] = 'scroll'\n",
       "        if (event.deltaY < 0) {\n",
       "            event.step = 1;\n",
       "        } else {\n",
       "            event.step = -1;\n",
       "        }\n",
       "        mouse_event_fn(event);\n",
       "    });\n",
       "\n",
       "    canvas_div.append(canvas);\n",
       "    canvas_div.append(rubberband);\n",
       "\n",
       "    this.rubberband = rubberband;\n",
       "    this.rubberband_canvas = rubberband[0];\n",
       "    this.rubberband_context = rubberband[0].getContext(\"2d\");\n",
       "    this.rubberband_context.strokeStyle = \"#000000\";\n",
       "\n",
       "    this._resize_canvas = function(width, height) {\n",
       "        // Keep the size of the canvas, canvas container, and rubber band\n",
       "        // canvas in synch.\n",
       "        canvas_div.css('width', width)\n",
       "        canvas_div.css('height', height)\n",
       "\n",
       "        canvas.attr('width', width * mpl.ratio);\n",
       "        canvas.attr('height', height * mpl.ratio);\n",
       "        canvas.attr('style', 'width: ' + width + 'px; height: ' + height + 'px;');\n",
       "\n",
       "        rubberband.attr('width', width);\n",
       "        rubberband.attr('height', height);\n",
       "    }\n",
       "\n",
       "    // Set the figure to an initial 600x600px, this will subsequently be updated\n",
       "    // upon first draw.\n",
       "    this._resize_canvas(600, 600);\n",
       "\n",
       "    // Disable right mouse context menu.\n",
       "    $(this.rubberband_canvas).bind(\"contextmenu\",function(e){\n",
       "        return false;\n",
       "    });\n",
       "\n",
       "    function set_focus () {\n",
       "        canvas.focus();\n",
       "        canvas_div.focus();\n",
       "    }\n",
       "\n",
       "    window.setTimeout(set_focus, 100);\n",
       "}\n",
       "\n",
       "mpl.figure.prototype._init_toolbar = function() {\n",
       "    var fig = this;\n",
       "\n",
       "    var nav_element = $('<div/>');\n",
       "    nav_element.attr('style', 'width: 100%');\n",
       "    this.root.append(nav_element);\n",
       "\n",
       "    // Define a callback function for later on.\n",
       "    function toolbar_event(event) {\n",
       "        return fig.toolbar_button_onclick(event['data']);\n",
       "    }\n",
       "    function toolbar_mouse_event(event) {\n",
       "        return fig.toolbar_button_onmouseover(event['data']);\n",
       "    }\n",
       "\n",
       "    for(var toolbar_ind in mpl.toolbar_items) {\n",
       "        var name = mpl.toolbar_items[toolbar_ind][0];\n",
       "        var tooltip = mpl.toolbar_items[toolbar_ind][1];\n",
       "        var image = mpl.toolbar_items[toolbar_ind][2];\n",
       "        var method_name = mpl.toolbar_items[toolbar_ind][3];\n",
       "\n",
       "        if (!name) {\n",
       "            // put a spacer in here.\n",
       "            continue;\n",
       "        }\n",
       "        var button = $('<button/>');\n",
       "        button.addClass('ui-button ui-widget ui-state-default ui-corner-all ' +\n",
       "                        'ui-button-icon-only');\n",
       "        button.attr('role', 'button');\n",
       "        button.attr('aria-disabled', 'false');\n",
       "        button.click(method_name, toolbar_event);\n",
       "        button.mouseover(tooltip, toolbar_mouse_event);\n",
       "\n",
       "        var icon_img = $('<span/>');\n",
       "        icon_img.addClass('ui-button-icon-primary ui-icon');\n",
       "        icon_img.addClass(image);\n",
       "        icon_img.addClass('ui-corner-all');\n",
       "\n",
       "        var tooltip_span = $('<span/>');\n",
       "        tooltip_span.addClass('ui-button-text');\n",
       "        tooltip_span.html(tooltip);\n",
       "\n",
       "        button.append(icon_img);\n",
       "        button.append(tooltip_span);\n",
       "\n",
       "        nav_element.append(button);\n",
       "    }\n",
       "\n",
       "    var fmt_picker_span = $('<span/>');\n",
       "\n",
       "    var fmt_picker = $('<select/>');\n",
       "    fmt_picker.addClass('mpl-toolbar-option ui-widget ui-widget-content');\n",
       "    fmt_picker_span.append(fmt_picker);\n",
       "    nav_element.append(fmt_picker_span);\n",
       "    this.format_dropdown = fmt_picker[0];\n",
       "\n",
       "    for (var ind in mpl.extensions) {\n",
       "        var fmt = mpl.extensions[ind];\n",
       "        var option = $(\n",
       "            '<option/>', {selected: fmt === mpl.default_extension}).html(fmt);\n",
       "        fmt_picker.append(option);\n",
       "    }\n",
       "\n",
       "    // Add hover states to the ui-buttons\n",
       "    $( \".ui-button\" ).hover(\n",
       "        function() { $(this).addClass(\"ui-state-hover\");},\n",
       "        function() { $(this).removeClass(\"ui-state-hover\");}\n",
       "    );\n",
       "\n",
       "    var status_bar = $('<span class=\"mpl-message\"/>');\n",
       "    nav_element.append(status_bar);\n",
       "    this.message = status_bar[0];\n",
       "}\n",
       "\n",
       "mpl.figure.prototype.request_resize = function(x_pixels, y_pixels) {\n",
       "    // Request matplotlib to resize the figure. Matplotlib will then trigger a resize in the client,\n",
       "    // which will in turn request a refresh of the image.\n",
       "    this.send_message('resize', {'width': x_pixels, 'height': y_pixels});\n",
       "}\n",
       "\n",
       "mpl.figure.prototype.send_message = function(type, properties) {\n",
       "    properties['type'] = type;\n",
       "    properties['figure_id'] = this.id;\n",
       "    this.ws.send(JSON.stringify(properties));\n",
       "}\n",
       "\n",
       "mpl.figure.prototype.send_draw_message = function() {\n",
       "    if (!this.waiting) {\n",
       "        this.waiting = true;\n",
       "        this.ws.send(JSON.stringify({type: \"draw\", figure_id: this.id}));\n",
       "    }\n",
       "}\n",
       "\n",
       "\n",
       "mpl.figure.prototype.handle_save = function(fig, msg) {\n",
       "    var format_dropdown = fig.format_dropdown;\n",
       "    var format = format_dropdown.options[format_dropdown.selectedIndex].value;\n",
       "    fig.ondownload(fig, format);\n",
       "}\n",
       "\n",
       "\n",
       "mpl.figure.prototype.handle_resize = function(fig, msg) {\n",
       "    var size = msg['size'];\n",
       "    if (size[0] != fig.canvas.width || size[1] != fig.canvas.height) {\n",
       "        fig._resize_canvas(size[0], size[1]);\n",
       "        fig.send_message(\"refresh\", {});\n",
       "    };\n",
       "}\n",
       "\n",
       "mpl.figure.prototype.handle_rubberband = function(fig, msg) {\n",
       "    var x0 = msg['x0'] / mpl.ratio;\n",
       "    var y0 = (fig.canvas.height - msg['y0']) / mpl.ratio;\n",
       "    var x1 = msg['x1'] / mpl.ratio;\n",
       "    var y1 = (fig.canvas.height - msg['y1']) / mpl.ratio;\n",
       "    x0 = Math.floor(x0) + 0.5;\n",
       "    y0 = Math.floor(y0) + 0.5;\n",
       "    x1 = Math.floor(x1) + 0.5;\n",
       "    y1 = Math.floor(y1) + 0.5;\n",
       "    var min_x = Math.min(x0, x1);\n",
       "    var min_y = Math.min(y0, y1);\n",
       "    var width = Math.abs(x1 - x0);\n",
       "    var height = Math.abs(y1 - y0);\n",
       "\n",
       "    fig.rubberband_context.clearRect(\n",
       "        0, 0, fig.canvas.width / mpl.ratio, fig.canvas.height / mpl.ratio);\n",
       "\n",
       "    fig.rubberband_context.strokeRect(min_x, min_y, width, height);\n",
       "}\n",
       "\n",
       "mpl.figure.prototype.handle_figure_label = function(fig, msg) {\n",
       "    // Updates the figure title.\n",
       "    fig.header.textContent = msg['label'];\n",
       "}\n",
       "\n",
       "mpl.figure.prototype.handle_cursor = function(fig, msg) {\n",
       "    var cursor = msg['cursor'];\n",
       "    switch(cursor)\n",
       "    {\n",
       "    case 0:\n",
       "        cursor = 'pointer';\n",
       "        break;\n",
       "    case 1:\n",
       "        cursor = 'default';\n",
       "        break;\n",
       "    case 2:\n",
       "        cursor = 'crosshair';\n",
       "        break;\n",
       "    case 3:\n",
       "        cursor = 'move';\n",
       "        break;\n",
       "    }\n",
       "    fig.rubberband_canvas.style.cursor = cursor;\n",
       "}\n",
       "\n",
       "mpl.figure.prototype.handle_message = function(fig, msg) {\n",
       "    fig.message.textContent = msg['message'];\n",
       "}\n",
       "\n",
       "mpl.figure.prototype.handle_draw = function(fig, msg) {\n",
       "    // Request the server to send over a new figure.\n",
       "    fig.send_draw_message();\n",
       "}\n",
       "\n",
       "mpl.figure.prototype.handle_image_mode = function(fig, msg) {\n",
       "    fig.image_mode = msg['mode'];\n",
       "}\n",
       "\n",
       "mpl.figure.prototype.updated_canvas_event = function() {\n",
       "    // Called whenever the canvas gets updated.\n",
       "    this.send_message(\"ack\", {});\n",
       "}\n",
       "\n",
       "// A function to construct a web socket function for onmessage handling.\n",
       "// Called in the figure constructor.\n",
       "mpl.figure.prototype._make_on_message_function = function(fig) {\n",
       "    return function socket_on_message(evt) {\n",
       "        if (evt.data instanceof Blob) {\n",
       "            /* FIXME: We get \"Resource interpreted as Image but\n",
       "             * transferred with MIME type text/plain:\" errors on\n",
       "             * Chrome.  But how to set the MIME type?  It doesn't seem\n",
       "             * to be part of the websocket stream */\n",
       "            evt.data.type = \"image/png\";\n",
       "\n",
       "            /* Free the memory for the previous frames */\n",
       "            if (fig.imageObj.src) {\n",
       "                (window.URL || window.webkitURL).revokeObjectURL(\n",
       "                    fig.imageObj.src);\n",
       "            }\n",
       "\n",
       "            fig.imageObj.src = (window.URL || window.webkitURL).createObjectURL(\n",
       "                evt.data);\n",
       "            fig.updated_canvas_event();\n",
       "            fig.waiting = false;\n",
       "            return;\n",
       "        }\n",
       "        else if (typeof evt.data === 'string' && evt.data.slice(0, 21) == \"data:image/png;base64\") {\n",
       "            fig.imageObj.src = evt.data;\n",
       "            fig.updated_canvas_event();\n",
       "            fig.waiting = false;\n",
       "            return;\n",
       "        }\n",
       "\n",
       "        var msg = JSON.parse(evt.data);\n",
       "        var msg_type = msg['type'];\n",
       "\n",
       "        // Call the  \"handle_{type}\" callback, which takes\n",
       "        // the figure and JSON message as its only arguments.\n",
       "        try {\n",
       "            var callback = fig[\"handle_\" + msg_type];\n",
       "        } catch (e) {\n",
       "            console.log(\"No handler for the '\" + msg_type + \"' message type: \", msg);\n",
       "            return;\n",
       "        }\n",
       "\n",
       "        if (callback) {\n",
       "            try {\n",
       "                // console.log(\"Handling '\" + msg_type + \"' message: \", msg);\n",
       "                callback(fig, msg);\n",
       "            } catch (e) {\n",
       "                console.log(\"Exception inside the 'handler_\" + msg_type + \"' callback:\", e, e.stack, msg);\n",
       "            }\n",
       "        }\n",
       "    };\n",
       "}\n",
       "\n",
       "// from http://stackoverflow.com/questions/1114465/getting-mouse-location-in-canvas\n",
       "mpl.findpos = function(e) {\n",
       "    //this section is from http://www.quirksmode.org/js/events_properties.html\n",
       "    var targ;\n",
       "    if (!e)\n",
       "        e = window.event;\n",
       "    if (e.target)\n",
       "        targ = e.target;\n",
       "    else if (e.srcElement)\n",
       "        targ = e.srcElement;\n",
       "    if (targ.nodeType == 3) // defeat Safari bug\n",
       "        targ = targ.parentNode;\n",
       "\n",
       "    // jQuery normalizes the pageX and pageY\n",
       "    // pageX,Y are the mouse positions relative to the document\n",
       "    // offset() returns the position of the element relative to the document\n",
       "    var x = e.pageX - $(targ).offset().left;\n",
       "    var y = e.pageY - $(targ).offset().top;\n",
       "\n",
       "    return {\"x\": x, \"y\": y};\n",
       "};\n",
       "\n",
       "/*\n",
       " * return a copy of an object with only non-object keys\n",
       " * we need this to avoid circular references\n",
       " * http://stackoverflow.com/a/24161582/3208463\n",
       " */\n",
       "function simpleKeys (original) {\n",
       "  return Object.keys(original).reduce(function (obj, key) {\n",
       "    if (typeof original[key] !== 'object')\n",
       "        obj[key] = original[key]\n",
       "    return obj;\n",
       "  }, {});\n",
       "}\n",
       "\n",
       "mpl.figure.prototype.mouse_event = function(event, name) {\n",
       "    var canvas_pos = mpl.findpos(event)\n",
       "\n",
       "    if (name === 'button_press')\n",
       "    {\n",
       "        this.canvas.focus();\n",
       "        this.canvas_div.focus();\n",
       "    }\n",
       "\n",
       "    var x = canvas_pos.x * mpl.ratio;\n",
       "    var y = canvas_pos.y * mpl.ratio;\n",
       "\n",
       "    this.send_message(name, {x: x, y: y, button: event.button,\n",
       "                             step: event.step,\n",
       "                             guiEvent: simpleKeys(event)});\n",
       "\n",
       "    /* This prevents the web browser from automatically changing to\n",
       "     * the text insertion cursor when the button is pressed.  We want\n",
       "     * to control all of the cursor setting manually through the\n",
       "     * 'cursor' event from matplotlib */\n",
       "    event.preventDefault();\n",
       "    return false;\n",
       "}\n",
       "\n",
       "mpl.figure.prototype._key_event_extra = function(event, name) {\n",
       "    // Handle any extra behaviour associated with a key event\n",
       "}\n",
       "\n",
       "mpl.figure.prototype.key_event = function(event, name) {\n",
       "\n",
       "    // Prevent repeat events\n",
       "    if (name == 'key_press')\n",
       "    {\n",
       "        if (event.which === this._key)\n",
       "            return;\n",
       "        else\n",
       "            this._key = event.which;\n",
       "    }\n",
       "    if (name == 'key_release')\n",
       "        this._key = null;\n",
       "\n",
       "    var value = '';\n",
       "    if (event.ctrlKey && event.which != 17)\n",
       "        value += \"ctrl+\";\n",
       "    if (event.altKey && event.which != 18)\n",
       "        value += \"alt+\";\n",
       "    if (event.shiftKey && event.which != 16)\n",
       "        value += \"shift+\";\n",
       "\n",
       "    value += 'k';\n",
       "    value += event.which.toString();\n",
       "\n",
       "    this._key_event_extra(event, name);\n",
       "\n",
       "    this.send_message(name, {key: value,\n",
       "                             guiEvent: simpleKeys(event)});\n",
       "    return false;\n",
       "}\n",
       "\n",
       "mpl.figure.prototype.toolbar_button_onclick = function(name) {\n",
       "    if (name == 'download') {\n",
       "        this.handle_save(this, null);\n",
       "    } else {\n",
       "        this.send_message(\"toolbar_button\", {name: name});\n",
       "    }\n",
       "};\n",
       "\n",
       "mpl.figure.prototype.toolbar_button_onmouseover = function(tooltip) {\n",
       "    this.message.textContent = tooltip;\n",
       "};\n",
       "mpl.toolbar_items = [[\"Home\", \"Reset original view\", \"fa fa-home icon-home\", \"home\"], [\"Back\", \"Back to previous view\", \"fa fa-arrow-left icon-arrow-left\", \"back\"], [\"Forward\", \"Forward to next view\", \"fa fa-arrow-right icon-arrow-right\", \"forward\"], [\"\", \"\", \"\", \"\"], [\"Pan\", \"Pan axes with left mouse, zoom with right\", \"fa fa-arrows icon-move\", \"pan\"], [\"Zoom\", \"Zoom to rectangle\", \"fa fa-square-o icon-check-empty\", \"zoom\"], [\"\", \"\", \"\", \"\"], [\"Download\", \"Download plot\", \"fa fa-floppy-o icon-save\", \"download\"]];\n",
       "\n",
       "mpl.extensions = [\"eps\", \"pdf\", \"png\", \"ps\", \"raw\", \"svg\"];\n",
       "\n",
       "mpl.default_extension = \"png\";var comm_websocket_adapter = function(comm) {\n",
       "    // Create a \"websocket\"-like object which calls the given IPython comm\n",
       "    // object with the appropriate methods. Currently this is a non binary\n",
       "    // socket, so there is still some room for performance tuning.\n",
       "    var ws = {};\n",
       "\n",
       "    ws.close = function() {\n",
       "        comm.close()\n",
       "    };\n",
       "    ws.send = function(m) {\n",
       "        //console.log('sending', m);\n",
       "        comm.send(m);\n",
       "    };\n",
       "    // Register the callback with on_msg.\n",
       "    comm.on_msg(function(msg) {\n",
       "        //console.log('receiving', msg['content']['data'], msg);\n",
       "        // Pass the mpl event to the overridden (by mpl) onmessage function.\n",
       "        ws.onmessage(msg['content']['data'])\n",
       "    });\n",
       "    return ws;\n",
       "}\n",
       "\n",
       "mpl.mpl_figure_comm = function(comm, msg) {\n",
       "    // This is the function which gets called when the mpl process\n",
       "    // starts-up an IPython Comm through the \"matplotlib\" channel.\n",
       "\n",
       "    var id = msg.content.data.id;\n",
       "    // Get hold of the div created by the display call when the Comm\n",
       "    // socket was opened in Python.\n",
       "    var element = $(\"#\" + id);\n",
       "    var ws_proxy = comm_websocket_adapter(comm)\n",
       "\n",
       "    function ondownload(figure, format) {\n",
       "        window.open(figure.imageObj.src);\n",
       "    }\n",
       "\n",
       "    var fig = new mpl.figure(id, ws_proxy,\n",
       "                           ondownload,\n",
       "                           element.get(0));\n",
       "\n",
       "    // Call onopen now - mpl needs it, as it is assuming we've passed it a real\n",
       "    // web socket which is closed, not our websocket->open comm proxy.\n",
       "    ws_proxy.onopen();\n",
       "\n",
       "    fig.parent_element = element.get(0);\n",
       "    fig.cell_info = mpl.find_output_cell(\"<div id='\" + id + \"'></div>\");\n",
       "    if (!fig.cell_info) {\n",
       "        console.error(\"Failed to find cell for figure\", id, fig);\n",
       "        return;\n",
       "    }\n",
       "\n",
       "    var output_index = fig.cell_info[2]\n",
       "    var cell = fig.cell_info[0];\n",
       "\n",
       "};\n",
       "\n",
       "mpl.figure.prototype.handle_close = function(fig, msg) {\n",
       "    var width = fig.canvas.width/mpl.ratio\n",
       "    fig.root.unbind('remove')\n",
       "\n",
       "    // Update the output cell to use the data from the current canvas.\n",
       "    fig.push_to_output();\n",
       "    var dataURL = fig.canvas.toDataURL();\n",
       "    // Re-enable the keyboard manager in IPython - without this line, in FF,\n",
       "    // the notebook keyboard shortcuts fail.\n",
       "    IPython.keyboard_manager.enable()\n",
       "    $(fig.parent_element).html('<img src=\"' + dataURL + '\" width=\"' + width + '\">');\n",
       "    fig.close_ws(fig, msg);\n",
       "}\n",
       "\n",
       "mpl.figure.prototype.close_ws = function(fig, msg){\n",
       "    fig.send_message('closing', msg);\n",
       "    // fig.ws.close()\n",
       "}\n",
       "\n",
       "mpl.figure.prototype.push_to_output = function(remove_interactive) {\n",
       "    // Turn the data on the canvas into data in the output cell.\n",
       "    var width = this.canvas.width/mpl.ratio\n",
       "    var dataURL = this.canvas.toDataURL();\n",
       "    this.cell_info[1]['text/html'] = '<img src=\"' + dataURL + '\" width=\"' + width + '\">';\n",
       "}\n",
       "\n",
       "mpl.figure.prototype.updated_canvas_event = function() {\n",
       "    // Tell IPython that the notebook contents must change.\n",
       "    IPython.notebook.set_dirty(true);\n",
       "    this.send_message(\"ack\", {});\n",
       "    var fig = this;\n",
       "    // Wait a second, then push the new image to the DOM so\n",
       "    // that it is saved nicely (might be nice to debounce this).\n",
       "    setTimeout(function () { fig.push_to_output() }, 1000);\n",
       "}\n",
       "\n",
       "mpl.figure.prototype._init_toolbar = function() {\n",
       "    var fig = this;\n",
       "\n",
       "    var nav_element = $('<div/>');\n",
       "    nav_element.attr('style', 'width: 100%');\n",
       "    this.root.append(nav_element);\n",
       "\n",
       "    // Define a callback function for later on.\n",
       "    function toolbar_event(event) {\n",
       "        return fig.toolbar_button_onclick(event['data']);\n",
       "    }\n",
       "    function toolbar_mouse_event(event) {\n",
       "        return fig.toolbar_button_onmouseover(event['data']);\n",
       "    }\n",
       "\n",
       "    for(var toolbar_ind in mpl.toolbar_items){\n",
       "        var name = mpl.toolbar_items[toolbar_ind][0];\n",
       "        var tooltip = mpl.toolbar_items[toolbar_ind][1];\n",
       "        var image = mpl.toolbar_items[toolbar_ind][2];\n",
       "        var method_name = mpl.toolbar_items[toolbar_ind][3];\n",
       "\n",
       "        if (!name) { continue; };\n",
       "\n",
       "        var button = $('<button class=\"btn btn-default\" href=\"#\" title=\"' + name + '\"><i class=\"fa ' + image + ' fa-lg\"></i></button>');\n",
       "        button.click(method_name, toolbar_event);\n",
       "        button.mouseover(tooltip, toolbar_mouse_event);\n",
       "        nav_element.append(button);\n",
       "    }\n",
       "\n",
       "    // Add the status bar.\n",
       "    var status_bar = $('<span class=\"mpl-message\" style=\"text-align:right; float: right;\"/>');\n",
       "    nav_element.append(status_bar);\n",
       "    this.message = status_bar[0];\n",
       "\n",
       "    // Add the close button to the window.\n",
       "    var buttongrp = $('<div class=\"btn-group inline pull-right\"></div>');\n",
       "    var button = $('<button class=\"btn btn-mini btn-primary\" href=\"#\" title=\"Stop Interaction\"><i class=\"fa fa-power-off icon-remove icon-large\"></i></button>');\n",
       "    button.click(function (evt) { fig.handle_close(fig, {}); } );\n",
       "    button.mouseover('Stop Interaction', toolbar_mouse_event);\n",
       "    buttongrp.append(button);\n",
       "    var titlebar = this.root.find($('.ui-dialog-titlebar'));\n",
       "    titlebar.prepend(buttongrp);\n",
       "}\n",
       "\n",
       "mpl.figure.prototype._root_extra_style = function(el){\n",
       "    var fig = this\n",
       "    el.on(\"remove\", function(){\n",
       "\tfig.close_ws(fig, {});\n",
       "    });\n",
       "}\n",
       "\n",
       "mpl.figure.prototype._canvas_extra_style = function(el){\n",
       "    // this is important to make the div 'focusable\n",
       "    el.attr('tabindex', 0)\n",
       "    // reach out to IPython and tell the keyboard manager to turn it's self\n",
       "    // off when our div gets focus\n",
       "\n",
       "    // location in version 3\n",
       "    if (IPython.notebook.keyboard_manager) {\n",
       "        IPython.notebook.keyboard_manager.register_events(el);\n",
       "    }\n",
       "    else {\n",
       "        // location in version 2\n",
       "        IPython.keyboard_manager.register_events(el);\n",
       "    }\n",
       "\n",
       "}\n",
       "\n",
       "mpl.figure.prototype._key_event_extra = function(event, name) {\n",
       "    var manager = IPython.notebook.keyboard_manager;\n",
       "    if (!manager)\n",
       "        manager = IPython.keyboard_manager;\n",
       "\n",
       "    // Check for shift+enter\n",
       "    if (event.shiftKey && event.which == 13) {\n",
       "        this.canvas_div.blur();\n",
       "        // select the cell after this one\n",
       "        var index = IPython.notebook.find_cell_index(this.cell_info[0]);\n",
       "        IPython.notebook.select(index + 1);\n",
       "    }\n",
       "}\n",
       "\n",
       "mpl.figure.prototype.handle_save = function(fig, msg) {\n",
       "    fig.ondownload(fig, null);\n",
       "}\n",
       "\n",
       "\n",
       "mpl.find_output_cell = function(html_output) {\n",
       "    // Return the cell and output element which can be found *uniquely* in the notebook.\n",
       "    // Note - this is a bit hacky, but it is done because the \"notebook_saving.Notebook\"\n",
       "    // IPython event is triggered only after the cells have been serialised, which for\n",
       "    // our purposes (turning an active figure into a static one), is too late.\n",
       "    var cells = IPython.notebook.get_cells();\n",
       "    var ncells = cells.length;\n",
       "    for (var i=0; i<ncells; i++) {\n",
       "        var cell = cells[i];\n",
       "        if (cell.cell_type === 'code'){\n",
       "            for (var j=0; j<cell.output_area.outputs.length; j++) {\n",
       "                var data = cell.output_area.outputs[j];\n",
       "                if (data.data) {\n",
       "                    // IPython >= 3 moved mimebundle to data attribute of output\n",
       "                    data = data.data;\n",
       "                }\n",
       "                if (data['text/html'] == html_output) {\n",
       "                    return [cell, data, j];\n",
       "                }\n",
       "            }\n",
       "        }\n",
       "    }\n",
       "}\n",
       "\n",
       "// Register the function which deals with the matplotlib target/channel.\n",
       "// The kernel may be null if the page has been refreshed.\n",
       "if (IPython.notebook.kernel != null) {\n",
       "    IPython.notebook.kernel.comm_manager.register_target('matplotlib', mpl.mpl_figure_comm);\n",
       "}\n"
      ],
      "text/plain": [
       "<IPython.core.display.Javascript object>"
      ]
     },
     "metadata": {},
     "output_type": "display_data"
    },
    {
     "data": {
      "text/html": [
       "<img src=\"data:image/png;base64,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\" width=\"852.75\">"
      ],
      "text/plain": [
       "<IPython.core.display.HTML object>"
      ]
     },
     "metadata": {},
     "output_type": "display_data"
    },
    {
     "data": {
      "text/plain": [
       "Text(0.5, 1.0, 'gravity across Tasmania')"
      ]
     },
     "execution_count": 79,
     "metadata": {},
     "output_type": "execute_result"
    }
   ],
   "source": [
    "plt.figure()\n",
    "plt.contourf(xi*1e-3, yi*1e-3, gravi)\n",
    "plt.colorbar()\n",
    "plt.xlabel('easting[km]')\n",
    "plt.ylabel('northing[km]')\n",
    "plt.title(\"gravity across Tasmania\")"
   ]
  },
  {
   "cell_type": "markdown",
   "metadata": {},
   "source": [
    "What happens at the uncoloured area:"
   ]
  },
  {
   "cell_type": "code",
   "execution_count": 80,
   "metadata": {
    "tags": [
     "SOLUTION"
    ]
   },
   "outputs": [
    {
     "data": {
      "text/plain": [
       "array([[        nan,         nan,         nan,         nan,         nan,\n",
       "                nan,         nan,         nan,         nan,         nan,\n",
       "                nan,         nan,         nan,         nan,         nan,\n",
       "                nan,         nan,         nan,         nan,         nan,\n",
       "                nan,         nan,         nan,         nan,         nan,\n",
       "                nan,         nan,         nan,         nan,         nan,\n",
       "                nan,         nan,         nan,         nan,         nan,\n",
       "                nan,  2.98933455,  3.59086377,  4.19239299,  3.83524284,\n",
       "         4.76225475,  5.04193688,         nan,         nan,         nan,\n",
       "                nan,         nan,         nan,         nan,         nan],\n",
       "       [        nan,         nan,         nan,         nan,         nan,\n",
       "                nan,         nan,         nan,         nan,         nan,\n",
       "                nan,         nan,         nan,         nan,         nan,\n",
       "                nan,         nan,         nan,         nan,         nan,\n",
       "                nan,         nan,         nan,         nan,         nan,\n",
       "                nan,         nan,         nan,         nan,         nan,\n",
       "                nan,         nan,         nan,  1.31819141,  1.91972064,\n",
       "         2.52124986,  3.12277908,  3.72430831,  3.33200654,  3.4373505 ,\n",
       "         4.43531662,  4.8091538 ,  5.12130867,         nan,         nan,\n",
       "                nan,         nan,         nan,         nan,         nan],\n",
       "       [        nan,         nan,         nan,         nan,         nan,\n",
       "                nan,         nan,         nan,         nan,         nan,\n",
       "                nan,         nan,         nan,         nan,         nan,\n",
       "                nan,         nan,         nan,         nan,         nan,\n",
       "                nan,         nan,         nan,         nan,         nan,\n",
       "                nan,         nan,         nan,         nan,         nan,\n",
       "        -0.31151456,  0.24857751,  0.85010673,  1.45163595,  2.05316518,\n",
       "         2.6546944 ,  3.25622362,  2.82877025,  2.2012719 ,  3.22244375,\n",
       "         4.15049085,  4.47529825,  4.85605286,  5.20068046,  5.40371356,\n",
       "                nan,         nan,         nan,         nan,         nan],\n",
       "       [        nan,         nan,         nan,         nan,         nan,\n",
       "                nan,         nan,         nan,         nan,         nan,\n",
       "                nan,         nan,         nan,         nan,         nan,\n",
       "                nan,         nan,         nan,         nan,         nan,\n",
       "                nan,         nan,         nan,         nan,         nan,\n",
       "                nan,         nan,         nan, -0.26395815, -0.16747132,\n",
       "         0.01275616,  0.29523101,  0.98355127,  1.58508049,  2.18660972,\n",
       "         2.78813894,  2.32553396,  1.69803561,  1.07053726,  3.007537  ,\n",
       "         3.86566507,  4.1414427 ,  4.5109499 ,  4.82048065,  5.114146  ,\n",
       "         5.38731497,  5.66048395,         nan,         nan,         nan]])"
      ]
     },
     "execution_count": 80,
     "metadata": {},
     "output_type": "execute_result"
    }
   ],
   "source": [
    "gravi[1:5]"
   ]
  },
  {
   "cell_type": "markdown",
   "metadata": {},
   "source": [
    "Now we want to write the interpolated data `gravi` but only those data that have been interpolated (not set to `nan`). So we first create an masked index to mark these entries:"
   ]
  },
  {
   "cell_type": "code",
   "execution_count": 81,
   "metadata": {
    "tags": [
     "SOLUTION"
    ]
   },
   "outputs": [],
   "source": [
    "idx_notnan=np.logical_not(np.isnan(gravi))"
   ]
  },
  {
   "cell_type": "markdown",
   "metadata": {},
   "source": [
    "Then we put the entries in `xi`, `yi` and `gravi` that correspond to non-nan entries in `gravi` into a new array `interpolated_data`.  `axis=-1` makes the stacking to work column-wise. "
   ]
  },
  {
   "cell_type": "code",
   "execution_count": 82,
   "metadata": {
    "tags": [
     "SOLUTION"
    ]
   },
   "outputs": [],
   "source": [
    "interpolated_data=np.stack((xi[idx_notnan],yi[idx_notnan],gravi[idx_notnan]), axis=-1)"
   ]
  },
  {
   "cell_type": "markdown",
   "metadata": {},
   "source": [
    "And then we write them to a file ['test.out'](test.out):"
   ]
  },
  {
   "cell_type": "code",
   "execution_count": 83,
   "metadata": {
    "tags": [
     "SOLUTION"
    ]
   },
   "outputs": [],
   "source": [
    "np.savetxt('test.out', interpolated_data, delimiter=',')"
   ]
  },
  {
   "cell_type": "markdown",
   "metadata": {},
   "source": [
    "# More on File reading and writing:"
   ]
  },
  {
   "cell_type": "markdown",
   "metadata": {},
   "source": [
    "## Saving & Loading numpy arrays\n",
    "\n",
    "Sometimes one want to save a `numpy` arrays for later use for instance if the computational work to \n",
    "create them was quite intense. We test this with two random arrays."
   ]
  },
  {
   "cell_type": "code",
   "execution_count": 84,
   "metadata": {
    "tags": [
     "SOLUTION"
    ]
   },
   "outputs": [],
   "source": [
    "s=np.random.random((6, 30))"
   ]
  },
  {
   "cell_type": "markdown",
   "metadata": {},
   "source": [
    "And a second array:"
   ]
  },
  {
   "cell_type": "code",
   "execution_count": 85,
   "metadata": {
    "tags": [
     "SOLUTION"
    ]
   },
   "outputs": [],
   "source": [
    "t=np.random.random((5, 3, 6))"
   ]
  },
  {
   "cell_type": "markdown",
   "metadata": {},
   "source": [
    "The [`savez`](https://numpy.org/doc/stable/reference/generated/numpy.savez.html#numpy.savez) function of `numpy` allows for fast dumping of arrays to a file (here `example`) where arrays can be labeled for easier retrieval (here `\"samples\"` and `\"table\"`):"
   ]
  },
  {
   "cell_type": "code",
   "execution_count": 86,
   "metadata": {
    "tags": [
     "SOLUTION"
    ]
   },
   "outputs": [],
   "source": [
    " np.savez('example', samples=s, table= t)"
   ]
  },
  {
   "cell_type": "markdown",
   "metadata": {},
   "source": [
    "Using [`load`](https://numpy.org/doc/stable/reference/generated/numpy.load.html) functions \n",
    "the arrays can be reloaded:"
   ]
  },
  {
   "cell_type": "code",
   "execution_count": 87,
   "metadata": {
    "tags": [
     "SOLUTION"
    ]
   },
   "outputs": [],
   "source": [
    "data=np.load('example.npz')"
   ]
  },
  {
   "cell_type": "markdown",
   "metadata": {},
   "source": [
    "The arrays can then be retrieved using keywords (here `\"samples\"` and `\"table\"`):"
   ]
  },
  {
   "cell_type": "code",
   "execution_count": 88,
   "metadata": {
    "tags": [
     "SOLUTION"
    ]
   },
   "outputs": [
    {
     "data": {
      "text/plain": [
       "(6, 30)"
      ]
     },
     "execution_count": 88,
     "metadata": {},
     "output_type": "execute_result"
    }
   ],
   "source": [
    "data['samples'].shape"
   ]
  },
  {
   "cell_type": "code",
   "execution_count": 89,
   "metadata": {
    "tags": [
     "SOLUTION"
    ]
   },
   "outputs": [
    {
     "data": {
      "text/plain": [
       "(5, 3, 6)"
      ]
     },
     "execution_count": 89,
     "metadata": {},
     "output_type": "execute_result"
    }
   ],
   "source": [
    "data['table'].shape"
   ]
  },
  {
   "cell_type": "markdown",
   "metadata": {},
   "source": [
    "## Reading Binary files\n",
    "\n",
    "`numpy` provides also a mechanism to read (and write) arrays as binary files. \n",
    "Here we reading the \"./Data/marmousi.bin\" file which gives a seismic velocity distribution unsing the `fromfile` function of `numpy`. The values are given as 32 bit floating point numbers. This needs to be specified by argument `dtype=\"f4\"`:\n"
   ]
  },
  {
   "cell_type": "code",
   "execution_count": 90,
   "metadata": {
    "tags": [
     "SOLUTION"
    ]
   },
   "outputs": [],
   "source": [
    "velocity_data = np.fromfile(\"./Data/marmousi.bin\", dtype=\"f4\")"
   ]
  },
  {
   "cell_type": "markdown",
   "metadata": {},
   "source": [
    "The veolcity data need to be reshaped as a $384 \\times 122$ array. Notice that this \n",
    "information are not obtained from the file itself:"
   ]
  },
  {
   "cell_type": "code",
   "execution_count": 91,
   "metadata": {
    "tags": [
     "SOLUTION"
    ]
   },
   "outputs": [],
   "source": [
    "velocity = velocity_data.reshape((384, 122))"
   ]
  },
  {
   "cell_type": "markdown",
   "metadata": {},
   "source": [
    "We can now plot the `velocity` data using `plt.imshow` assuming an horizontal extent of $4600m$ and a depth of $1500m$"
   ]
  },
  {
   "cell_type": "code",
   "execution_count": 92,
   "metadata": {
    "tags": [
     "SOLUTION"
    ]
   },
   "outputs": [
    {
     "data": {
      "application/javascript": [
       "/* Put everything inside the global mpl namespace */\n",
       "window.mpl = {};\n",
       "\n",
       "\n",
       "mpl.get_websocket_type = function() {\n",
       "    if (typeof(WebSocket) !== 'undefined') {\n",
       "        return WebSocket;\n",
       "    } else if (typeof(MozWebSocket) !== 'undefined') {\n",
       "        return MozWebSocket;\n",
       "    } else {\n",
       "        alert('Your browser does not have WebSocket support. ' +\n",
       "              'Please try Chrome, Safari or Firefox ≥ 6. ' +\n",
       "              'Firefox 4 and 5 are also supported but you ' +\n",
       "              'have to enable WebSockets in about:config.');\n",
       "    };\n",
       "}\n",
       "\n",
       "mpl.figure = function(figure_id, websocket, ondownload, parent_element) {\n",
       "    this.id = figure_id;\n",
       "\n",
       "    this.ws = websocket;\n",
       "\n",
       "    this.supports_binary = (this.ws.binaryType != undefined);\n",
       "\n",
       "    if (!this.supports_binary) {\n",
       "        var warnings = document.getElementById(\"mpl-warnings\");\n",
       "        if (warnings) {\n",
       "            warnings.style.display = 'block';\n",
       "            warnings.textContent = (\n",
       "                \"This browser does not support binary websocket messages. \" +\n",
       "                    \"Performance may be slow.\");\n",
       "        }\n",
       "    }\n",
       "\n",
       "    this.imageObj = new Image();\n",
       "\n",
       "    this.context = undefined;\n",
       "    this.message = undefined;\n",
       "    this.canvas = undefined;\n",
       "    this.rubberband_canvas = undefined;\n",
       "    this.rubberband_context = undefined;\n",
       "    this.format_dropdown = undefined;\n",
       "\n",
       "    this.image_mode = 'full';\n",
       "\n",
       "    this.root = $('<div/>');\n",
       "    this._root_extra_style(this.root)\n",
       "    this.root.attr('style', 'display: inline-block');\n",
       "\n",
       "    $(parent_element).append(this.root);\n",
       "\n",
       "    this._init_header(this);\n",
       "    this._init_canvas(this);\n",
       "    this._init_toolbar(this);\n",
       "\n",
       "    var fig = this;\n",
       "\n",
       "    this.waiting = false;\n",
       "\n",
       "    this.ws.onopen =  function () {\n",
       "            fig.send_message(\"supports_binary\", {value: fig.supports_binary});\n",
       "            fig.send_message(\"send_image_mode\", {});\n",
       "            if (mpl.ratio != 1) {\n",
       "                fig.send_message(\"set_dpi_ratio\", {'dpi_ratio': mpl.ratio});\n",
       "            }\n",
       "            fig.send_message(\"refresh\", {});\n",
       "        }\n",
       "\n",
       "    this.imageObj.onload = function() {\n",
       "            if (fig.image_mode == 'full') {\n",
       "                // Full images could contain transparency (where diff images\n",
       "                // almost always do), so we need to clear the canvas so that\n",
       "                // there is no ghosting.\n",
       "                fig.context.clearRect(0, 0, fig.canvas.width, fig.canvas.height);\n",
       "            }\n",
       "            fig.context.drawImage(fig.imageObj, 0, 0);\n",
       "        };\n",
       "\n",
       "    this.imageObj.onunload = function() {\n",
       "        fig.ws.close();\n",
       "    }\n",
       "\n",
       "    this.ws.onmessage = this._make_on_message_function(this);\n",
       "\n",
       "    this.ondownload = ondownload;\n",
       "}\n",
       "\n",
       "mpl.figure.prototype._init_header = function() {\n",
       "    var titlebar = $(\n",
       "        '<div class=\"ui-dialog-titlebar ui-widget-header ui-corner-all ' +\n",
       "        'ui-helper-clearfix\"/>');\n",
       "    var titletext = $(\n",
       "        '<div class=\"ui-dialog-title\" style=\"width: 100%; ' +\n",
       "        'text-align: center; padding: 3px;\"/>');\n",
       "    titlebar.append(titletext)\n",
       "    this.root.append(titlebar);\n",
       "    this.header = titletext[0];\n",
       "}\n",
       "\n",
       "\n",
       "\n",
       "mpl.figure.prototype._canvas_extra_style = function(canvas_div) {\n",
       "\n",
       "}\n",
       "\n",
       "\n",
       "mpl.figure.prototype._root_extra_style = function(canvas_div) {\n",
       "\n",
       "}\n",
       "\n",
       "mpl.figure.prototype._init_canvas = function() {\n",
       "    var fig = this;\n",
       "\n",
       "    var canvas_div = $('<div/>');\n",
       "\n",
       "    canvas_div.attr('style', 'position: relative; clear: both; outline: 0');\n",
       "\n",
       "    function canvas_keyboard_event(event) {\n",
       "        return fig.key_event(event, event['data']);\n",
       "    }\n",
       "\n",
       "    canvas_div.keydown('key_press', canvas_keyboard_event);\n",
       "    canvas_div.keyup('key_release', canvas_keyboard_event);\n",
       "    this.canvas_div = canvas_div\n",
       "    this._canvas_extra_style(canvas_div)\n",
       "    this.root.append(canvas_div);\n",
       "\n",
       "    var canvas = $('<canvas/>');\n",
       "    canvas.addClass('mpl-canvas');\n",
       "    canvas.attr('style', \"left: 0; top: 0; z-index: 0; outline: 0\")\n",
       "\n",
       "    this.canvas = canvas[0];\n",
       "    this.context = canvas[0].getContext(\"2d\");\n",
       "\n",
       "    var backingStore = this.context.backingStorePixelRatio ||\n",
       "\tthis.context.webkitBackingStorePixelRatio ||\n",
       "\tthis.context.mozBackingStorePixelRatio ||\n",
       "\tthis.context.msBackingStorePixelRatio ||\n",
       "\tthis.context.oBackingStorePixelRatio ||\n",
       "\tthis.context.backingStorePixelRatio || 1;\n",
       "\n",
       "    mpl.ratio = (window.devicePixelRatio || 1) / backingStore;\n",
       "\n",
       "    var rubberband = $('<canvas/>');\n",
       "    rubberband.attr('style', \"position: absolute; left: 0; top: 0; z-index: 1;\")\n",
       "\n",
       "    var pass_mouse_events = true;\n",
       "\n",
       "    canvas_div.resizable({\n",
       "        start: function(event, ui) {\n",
       "            pass_mouse_events = false;\n",
       "        },\n",
       "        resize: function(event, ui) {\n",
       "            fig.request_resize(ui.size.width, ui.size.height);\n",
       "        },\n",
       "        stop: function(event, ui) {\n",
       "            pass_mouse_events = true;\n",
       "            fig.request_resize(ui.size.width, ui.size.height);\n",
       "        },\n",
       "    });\n",
       "\n",
       "    function mouse_event_fn(event) {\n",
       "        if (pass_mouse_events)\n",
       "            return fig.mouse_event(event, event['data']);\n",
       "    }\n",
       "\n",
       "    rubberband.mousedown('button_press', mouse_event_fn);\n",
       "    rubberband.mouseup('button_release', mouse_event_fn);\n",
       "    // Throttle sequential mouse events to 1 every 20ms.\n",
       "    rubberband.mousemove('motion_notify', mouse_event_fn);\n",
       "\n",
       "    rubberband.mouseenter('figure_enter', mouse_event_fn);\n",
       "    rubberband.mouseleave('figure_leave', mouse_event_fn);\n",
       "\n",
       "    canvas_div.on(\"wheel\", function (event) {\n",
       "        event = event.originalEvent;\n",
       "        event['data'] = 'scroll'\n",
       "        if (event.deltaY < 0) {\n",
       "            event.step = 1;\n",
       "        } else {\n",
       "            event.step = -1;\n",
       "        }\n",
       "        mouse_event_fn(event);\n",
       "    });\n",
       "\n",
       "    canvas_div.append(canvas);\n",
       "    canvas_div.append(rubberband);\n",
       "\n",
       "    this.rubberband = rubberband;\n",
       "    this.rubberband_canvas = rubberband[0];\n",
       "    this.rubberband_context = rubberband[0].getContext(\"2d\");\n",
       "    this.rubberband_context.strokeStyle = \"#000000\";\n",
       "\n",
       "    this._resize_canvas = function(width, height) {\n",
       "        // Keep the size of the canvas, canvas container, and rubber band\n",
       "        // canvas in synch.\n",
       "        canvas_div.css('width', width)\n",
       "        canvas_div.css('height', height)\n",
       "\n",
       "        canvas.attr('width', width * mpl.ratio);\n",
       "        canvas.attr('height', height * mpl.ratio);\n",
       "        canvas.attr('style', 'width: ' + width + 'px; height: ' + height + 'px;');\n",
       "\n",
       "        rubberband.attr('width', width);\n",
       "        rubberband.attr('height', height);\n",
       "    }\n",
       "\n",
       "    // Set the figure to an initial 600x600px, this will subsequently be updated\n",
       "    // upon first draw.\n",
       "    this._resize_canvas(600, 600);\n",
       "\n",
       "    // Disable right mouse context menu.\n",
       "    $(this.rubberband_canvas).bind(\"contextmenu\",function(e){\n",
       "        return false;\n",
       "    });\n",
       "\n",
       "    function set_focus () {\n",
       "        canvas.focus();\n",
       "        canvas_div.focus();\n",
       "    }\n",
       "\n",
       "    window.setTimeout(set_focus, 100);\n",
       "}\n",
       "\n",
       "mpl.figure.prototype._init_toolbar = function() {\n",
       "    var fig = this;\n",
       "\n",
       "    var nav_element = $('<div/>');\n",
       "    nav_element.attr('style', 'width: 100%');\n",
       "    this.root.append(nav_element);\n",
       "\n",
       "    // Define a callback function for later on.\n",
       "    function toolbar_event(event) {\n",
       "        return fig.toolbar_button_onclick(event['data']);\n",
       "    }\n",
       "    function toolbar_mouse_event(event) {\n",
       "        return fig.toolbar_button_onmouseover(event['data']);\n",
       "    }\n",
       "\n",
       "    for(var toolbar_ind in mpl.toolbar_items) {\n",
       "        var name = mpl.toolbar_items[toolbar_ind][0];\n",
       "        var tooltip = mpl.toolbar_items[toolbar_ind][1];\n",
       "        var image = mpl.toolbar_items[toolbar_ind][2];\n",
       "        var method_name = mpl.toolbar_items[toolbar_ind][3];\n",
       "\n",
       "        if (!name) {\n",
       "            // put a spacer in here.\n",
       "            continue;\n",
       "        }\n",
       "        var button = $('<button/>');\n",
       "        button.addClass('ui-button ui-widget ui-state-default ui-corner-all ' +\n",
       "                        'ui-button-icon-only');\n",
       "        button.attr('role', 'button');\n",
       "        button.attr('aria-disabled', 'false');\n",
       "        button.click(method_name, toolbar_event);\n",
       "        button.mouseover(tooltip, toolbar_mouse_event);\n",
       "\n",
       "        var icon_img = $('<span/>');\n",
       "        icon_img.addClass('ui-button-icon-primary ui-icon');\n",
       "        icon_img.addClass(image);\n",
       "        icon_img.addClass('ui-corner-all');\n",
       "\n",
       "        var tooltip_span = $('<span/>');\n",
       "        tooltip_span.addClass('ui-button-text');\n",
       "        tooltip_span.html(tooltip);\n",
       "\n",
       "        button.append(icon_img);\n",
       "        button.append(tooltip_span);\n",
       "\n",
       "        nav_element.append(button);\n",
       "    }\n",
       "\n",
       "    var fmt_picker_span = $('<span/>');\n",
       "\n",
       "    var fmt_picker = $('<select/>');\n",
       "    fmt_picker.addClass('mpl-toolbar-option ui-widget ui-widget-content');\n",
       "    fmt_picker_span.append(fmt_picker);\n",
       "    nav_element.append(fmt_picker_span);\n",
       "    this.format_dropdown = fmt_picker[0];\n",
       "\n",
       "    for (var ind in mpl.extensions) {\n",
       "        var fmt = mpl.extensions[ind];\n",
       "        var option = $(\n",
       "            '<option/>', {selected: fmt === mpl.default_extension}).html(fmt);\n",
       "        fmt_picker.append(option);\n",
       "    }\n",
       "\n",
       "    // Add hover states to the ui-buttons\n",
       "    $( \".ui-button\" ).hover(\n",
       "        function() { $(this).addClass(\"ui-state-hover\");},\n",
       "        function() { $(this).removeClass(\"ui-state-hover\");}\n",
       "    );\n",
       "\n",
       "    var status_bar = $('<span class=\"mpl-message\"/>');\n",
       "    nav_element.append(status_bar);\n",
       "    this.message = status_bar[0];\n",
       "}\n",
       "\n",
       "mpl.figure.prototype.request_resize = function(x_pixels, y_pixels) {\n",
       "    // Request matplotlib to resize the figure. Matplotlib will then trigger a resize in the client,\n",
       "    // which will in turn request a refresh of the image.\n",
       "    this.send_message('resize', {'width': x_pixels, 'height': y_pixels});\n",
       "}\n",
       "\n",
       "mpl.figure.prototype.send_message = function(type, properties) {\n",
       "    properties['type'] = type;\n",
       "    properties['figure_id'] = this.id;\n",
       "    this.ws.send(JSON.stringify(properties));\n",
       "}\n",
       "\n",
       "mpl.figure.prototype.send_draw_message = function() {\n",
       "    if (!this.waiting) {\n",
       "        this.waiting = true;\n",
       "        this.ws.send(JSON.stringify({type: \"draw\", figure_id: this.id}));\n",
       "    }\n",
       "}\n",
       "\n",
       "\n",
       "mpl.figure.prototype.handle_save = function(fig, msg) {\n",
       "    var format_dropdown = fig.format_dropdown;\n",
       "    var format = format_dropdown.options[format_dropdown.selectedIndex].value;\n",
       "    fig.ondownload(fig, format);\n",
       "}\n",
       "\n",
       "\n",
       "mpl.figure.prototype.handle_resize = function(fig, msg) {\n",
       "    var size = msg['size'];\n",
       "    if (size[0] != fig.canvas.width || size[1] != fig.canvas.height) {\n",
       "        fig._resize_canvas(size[0], size[1]);\n",
       "        fig.send_message(\"refresh\", {});\n",
       "    };\n",
       "}\n",
       "\n",
       "mpl.figure.prototype.handle_rubberband = function(fig, msg) {\n",
       "    var x0 = msg['x0'] / mpl.ratio;\n",
       "    var y0 = (fig.canvas.height - msg['y0']) / mpl.ratio;\n",
       "    var x1 = msg['x1'] / mpl.ratio;\n",
       "    var y1 = (fig.canvas.height - msg['y1']) / mpl.ratio;\n",
       "    x0 = Math.floor(x0) + 0.5;\n",
       "    y0 = Math.floor(y0) + 0.5;\n",
       "    x1 = Math.floor(x1) + 0.5;\n",
       "    y1 = Math.floor(y1) + 0.5;\n",
       "    var min_x = Math.min(x0, x1);\n",
       "    var min_y = Math.min(y0, y1);\n",
       "    var width = Math.abs(x1 - x0);\n",
       "    var height = Math.abs(y1 - y0);\n",
       "\n",
       "    fig.rubberband_context.clearRect(\n",
       "        0, 0, fig.canvas.width / mpl.ratio, fig.canvas.height / mpl.ratio);\n",
       "\n",
       "    fig.rubberband_context.strokeRect(min_x, min_y, width, height);\n",
       "}\n",
       "\n",
       "mpl.figure.prototype.handle_figure_label = function(fig, msg) {\n",
       "    // Updates the figure title.\n",
       "    fig.header.textContent = msg['label'];\n",
       "}\n",
       "\n",
       "mpl.figure.prototype.handle_cursor = function(fig, msg) {\n",
       "    var cursor = msg['cursor'];\n",
       "    switch(cursor)\n",
       "    {\n",
       "    case 0:\n",
       "        cursor = 'pointer';\n",
       "        break;\n",
       "    case 1:\n",
       "        cursor = 'default';\n",
       "        break;\n",
       "    case 2:\n",
       "        cursor = 'crosshair';\n",
       "        break;\n",
       "    case 3:\n",
       "        cursor = 'move';\n",
       "        break;\n",
       "    }\n",
       "    fig.rubberband_canvas.style.cursor = cursor;\n",
       "}\n",
       "\n",
       "mpl.figure.prototype.handle_message = function(fig, msg) {\n",
       "    fig.message.textContent = msg['message'];\n",
       "}\n",
       "\n",
       "mpl.figure.prototype.handle_draw = function(fig, msg) {\n",
       "    // Request the server to send over a new figure.\n",
       "    fig.send_draw_message();\n",
       "}\n",
       "\n",
       "mpl.figure.prototype.handle_image_mode = function(fig, msg) {\n",
       "    fig.image_mode = msg['mode'];\n",
       "}\n",
       "\n",
       "mpl.figure.prototype.updated_canvas_event = function() {\n",
       "    // Called whenever the canvas gets updated.\n",
       "    this.send_message(\"ack\", {});\n",
       "}\n",
       "\n",
       "// A function to construct a web socket function for onmessage handling.\n",
       "// Called in the figure constructor.\n",
       "mpl.figure.prototype._make_on_message_function = function(fig) {\n",
       "    return function socket_on_message(evt) {\n",
       "        if (evt.data instanceof Blob) {\n",
       "            /* FIXME: We get \"Resource interpreted as Image but\n",
       "             * transferred with MIME type text/plain:\" errors on\n",
       "             * Chrome.  But how to set the MIME type?  It doesn't seem\n",
       "             * to be part of the websocket stream */\n",
       "            evt.data.type = \"image/png\";\n",
       "\n",
       "            /* Free the memory for the previous frames */\n",
       "            if (fig.imageObj.src) {\n",
       "                (window.URL || window.webkitURL).revokeObjectURL(\n",
       "                    fig.imageObj.src);\n",
       "            }\n",
       "\n",
       "            fig.imageObj.src = (window.URL || window.webkitURL).createObjectURL(\n",
       "                evt.data);\n",
       "            fig.updated_canvas_event();\n",
       "            fig.waiting = false;\n",
       "            return;\n",
       "        }\n",
       "        else if (typeof evt.data === 'string' && evt.data.slice(0, 21) == \"data:image/png;base64\") {\n",
       "            fig.imageObj.src = evt.data;\n",
       "            fig.updated_canvas_event();\n",
       "            fig.waiting = false;\n",
       "            return;\n",
       "        }\n",
       "\n",
       "        var msg = JSON.parse(evt.data);\n",
       "        var msg_type = msg['type'];\n",
       "\n",
       "        // Call the  \"handle_{type}\" callback, which takes\n",
       "        // the figure and JSON message as its only arguments.\n",
       "        try {\n",
       "            var callback = fig[\"handle_\" + msg_type];\n",
       "        } catch (e) {\n",
       "            console.log(\"No handler for the '\" + msg_type + \"' message type: \", msg);\n",
       "            return;\n",
       "        }\n",
       "\n",
       "        if (callback) {\n",
       "            try {\n",
       "                // console.log(\"Handling '\" + msg_type + \"' message: \", msg);\n",
       "                callback(fig, msg);\n",
       "            } catch (e) {\n",
       "                console.log(\"Exception inside the 'handler_\" + msg_type + \"' callback:\", e, e.stack, msg);\n",
       "            }\n",
       "        }\n",
       "    };\n",
       "}\n",
       "\n",
       "// from http://stackoverflow.com/questions/1114465/getting-mouse-location-in-canvas\n",
       "mpl.findpos = function(e) {\n",
       "    //this section is from http://www.quirksmode.org/js/events_properties.html\n",
       "    var targ;\n",
       "    if (!e)\n",
       "        e = window.event;\n",
       "    if (e.target)\n",
       "        targ = e.target;\n",
       "    else if (e.srcElement)\n",
       "        targ = e.srcElement;\n",
       "    if (targ.nodeType == 3) // defeat Safari bug\n",
       "        targ = targ.parentNode;\n",
       "\n",
       "    // jQuery normalizes the pageX and pageY\n",
       "    // pageX,Y are the mouse positions relative to the document\n",
       "    // offset() returns the position of the element relative to the document\n",
       "    var x = e.pageX - $(targ).offset().left;\n",
       "    var y = e.pageY - $(targ).offset().top;\n",
       "\n",
       "    return {\"x\": x, \"y\": y};\n",
       "};\n",
       "\n",
       "/*\n",
       " * return a copy of an object with only non-object keys\n",
       " * we need this to avoid circular references\n",
       " * http://stackoverflow.com/a/24161582/3208463\n",
       " */\n",
       "function simpleKeys (original) {\n",
       "  return Object.keys(original).reduce(function (obj, key) {\n",
       "    if (typeof original[key] !== 'object')\n",
       "        obj[key] = original[key]\n",
       "    return obj;\n",
       "  }, {});\n",
       "}\n",
       "\n",
       "mpl.figure.prototype.mouse_event = function(event, name) {\n",
       "    var canvas_pos = mpl.findpos(event)\n",
       "\n",
       "    if (name === 'button_press')\n",
       "    {\n",
       "        this.canvas.focus();\n",
       "        this.canvas_div.focus();\n",
       "    }\n",
       "\n",
       "    var x = canvas_pos.x * mpl.ratio;\n",
       "    var y = canvas_pos.y * mpl.ratio;\n",
       "\n",
       "    this.send_message(name, {x: x, y: y, button: event.button,\n",
       "                             step: event.step,\n",
       "                             guiEvent: simpleKeys(event)});\n",
       "\n",
       "    /* This prevents the web browser from automatically changing to\n",
       "     * the text insertion cursor when the button is pressed.  We want\n",
       "     * to control all of the cursor setting manually through the\n",
       "     * 'cursor' event from matplotlib */\n",
       "    event.preventDefault();\n",
       "    return false;\n",
       "}\n",
       "\n",
       "mpl.figure.prototype._key_event_extra = function(event, name) {\n",
       "    // Handle any extra behaviour associated with a key event\n",
       "}\n",
       "\n",
       "mpl.figure.prototype.key_event = function(event, name) {\n",
       "\n",
       "    // Prevent repeat events\n",
       "    if (name == 'key_press')\n",
       "    {\n",
       "        if (event.which === this._key)\n",
       "            return;\n",
       "        else\n",
       "            this._key = event.which;\n",
       "    }\n",
       "    if (name == 'key_release')\n",
       "        this._key = null;\n",
       "\n",
       "    var value = '';\n",
       "    if (event.ctrlKey && event.which != 17)\n",
       "        value += \"ctrl+\";\n",
       "    if (event.altKey && event.which != 18)\n",
       "        value += \"alt+\";\n",
       "    if (event.shiftKey && event.which != 16)\n",
       "        value += \"shift+\";\n",
       "\n",
       "    value += 'k';\n",
       "    value += event.which.toString();\n",
       "\n",
       "    this._key_event_extra(event, name);\n",
       "\n",
       "    this.send_message(name, {key: value,\n",
       "                             guiEvent: simpleKeys(event)});\n",
       "    return false;\n",
       "}\n",
       "\n",
       "mpl.figure.prototype.toolbar_button_onclick = function(name) {\n",
       "    if (name == 'download') {\n",
       "        this.handle_save(this, null);\n",
       "    } else {\n",
       "        this.send_message(\"toolbar_button\", {name: name});\n",
       "    }\n",
       "};\n",
       "\n",
       "mpl.figure.prototype.toolbar_button_onmouseover = function(tooltip) {\n",
       "    this.message.textContent = tooltip;\n",
       "};\n",
       "mpl.toolbar_items = [[\"Home\", \"Reset original view\", \"fa fa-home icon-home\", \"home\"], [\"Back\", \"Back to previous view\", \"fa fa-arrow-left icon-arrow-left\", \"back\"], [\"Forward\", \"Forward to next view\", \"fa fa-arrow-right icon-arrow-right\", \"forward\"], [\"\", \"\", \"\", \"\"], [\"Pan\", \"Pan axes with left mouse, zoom with right\", \"fa fa-arrows icon-move\", \"pan\"], [\"Zoom\", \"Zoom to rectangle\", \"fa fa-square-o icon-check-empty\", \"zoom\"], [\"\", \"\", \"\", \"\"], [\"Download\", \"Download plot\", \"fa fa-floppy-o icon-save\", \"download\"]];\n",
       "\n",
       "mpl.extensions = [\"eps\", \"pdf\", \"png\", \"ps\", \"raw\", \"svg\"];\n",
       "\n",
       "mpl.default_extension = \"png\";var comm_websocket_adapter = function(comm) {\n",
       "    // Create a \"websocket\"-like object which calls the given IPython comm\n",
       "    // object with the appropriate methods. Currently this is a non binary\n",
       "    // socket, so there is still some room for performance tuning.\n",
       "    var ws = {};\n",
       "\n",
       "    ws.close = function() {\n",
       "        comm.close()\n",
       "    };\n",
       "    ws.send = function(m) {\n",
       "        //console.log('sending', m);\n",
       "        comm.send(m);\n",
       "    };\n",
       "    // Register the callback with on_msg.\n",
       "    comm.on_msg(function(msg) {\n",
       "        //console.log('receiving', msg['content']['data'], msg);\n",
       "        // Pass the mpl event to the overridden (by mpl) onmessage function.\n",
       "        ws.onmessage(msg['content']['data'])\n",
       "    });\n",
       "    return ws;\n",
       "}\n",
       "\n",
       "mpl.mpl_figure_comm = function(comm, msg) {\n",
       "    // This is the function which gets called when the mpl process\n",
       "    // starts-up an IPython Comm through the \"matplotlib\" channel.\n",
       "\n",
       "    var id = msg.content.data.id;\n",
       "    // Get hold of the div created by the display call when the Comm\n",
       "    // socket was opened in Python.\n",
       "    var element = $(\"#\" + id);\n",
       "    var ws_proxy = comm_websocket_adapter(comm)\n",
       "\n",
       "    function ondownload(figure, format) {\n",
       "        window.open(figure.imageObj.src);\n",
       "    }\n",
       "\n",
       "    var fig = new mpl.figure(id, ws_proxy,\n",
       "                           ondownload,\n",
       "                           element.get(0));\n",
       "\n",
       "    // Call onopen now - mpl needs it, as it is assuming we've passed it a real\n",
       "    // web socket which is closed, not our websocket->open comm proxy.\n",
       "    ws_proxy.onopen();\n",
       "\n",
       "    fig.parent_element = element.get(0);\n",
       "    fig.cell_info = mpl.find_output_cell(\"<div id='\" + id + \"'></div>\");\n",
       "    if (!fig.cell_info) {\n",
       "        console.error(\"Failed to find cell for figure\", id, fig);\n",
       "        return;\n",
       "    }\n",
       "\n",
       "    var output_index = fig.cell_info[2]\n",
       "    var cell = fig.cell_info[0];\n",
       "\n",
       "};\n",
       "\n",
       "mpl.figure.prototype.handle_close = function(fig, msg) {\n",
       "    var width = fig.canvas.width/mpl.ratio\n",
       "    fig.root.unbind('remove')\n",
       "\n",
       "    // Update the output cell to use the data from the current canvas.\n",
       "    fig.push_to_output();\n",
       "    var dataURL = fig.canvas.toDataURL();\n",
       "    // Re-enable the keyboard manager in IPython - without this line, in FF,\n",
       "    // the notebook keyboard shortcuts fail.\n",
       "    IPython.keyboard_manager.enable()\n",
       "    $(fig.parent_element).html('<img src=\"' + dataURL + '\" width=\"' + width + '\">');\n",
       "    fig.close_ws(fig, msg);\n",
       "}\n",
       "\n",
       "mpl.figure.prototype.close_ws = function(fig, msg){\n",
       "    fig.send_message('closing', msg);\n",
       "    // fig.ws.close()\n",
       "}\n",
       "\n",
       "mpl.figure.prototype.push_to_output = function(remove_interactive) {\n",
       "    // Turn the data on the canvas into data in the output cell.\n",
       "    var width = this.canvas.width/mpl.ratio\n",
       "    var dataURL = this.canvas.toDataURL();\n",
       "    this.cell_info[1]['text/html'] = '<img src=\"' + dataURL + '\" width=\"' + width + '\">';\n",
       "}\n",
       "\n",
       "mpl.figure.prototype.updated_canvas_event = function() {\n",
       "    // Tell IPython that the notebook contents must change.\n",
       "    IPython.notebook.set_dirty(true);\n",
       "    this.send_message(\"ack\", {});\n",
       "    var fig = this;\n",
       "    // Wait a second, then push the new image to the DOM so\n",
       "    // that it is saved nicely (might be nice to debounce this).\n",
       "    setTimeout(function () { fig.push_to_output() }, 1000);\n",
       "}\n",
       "\n",
       "mpl.figure.prototype._init_toolbar = function() {\n",
       "    var fig = this;\n",
       "\n",
       "    var nav_element = $('<div/>');\n",
       "    nav_element.attr('style', 'width: 100%');\n",
       "    this.root.append(nav_element);\n",
       "\n",
       "    // Define a callback function for later on.\n",
       "    function toolbar_event(event) {\n",
       "        return fig.toolbar_button_onclick(event['data']);\n",
       "    }\n",
       "    function toolbar_mouse_event(event) {\n",
       "        return fig.toolbar_button_onmouseover(event['data']);\n",
       "    }\n",
       "\n",
       "    for(var toolbar_ind in mpl.toolbar_items){\n",
       "        var name = mpl.toolbar_items[toolbar_ind][0];\n",
       "        var tooltip = mpl.toolbar_items[toolbar_ind][1];\n",
       "        var image = mpl.toolbar_items[toolbar_ind][2];\n",
       "        var method_name = mpl.toolbar_items[toolbar_ind][3];\n",
       "\n",
       "        if (!name) { continue; };\n",
       "\n",
       "        var button = $('<button class=\"btn btn-default\" href=\"#\" title=\"' + name + '\"><i class=\"fa ' + image + ' fa-lg\"></i></button>');\n",
       "        button.click(method_name, toolbar_event);\n",
       "        button.mouseover(tooltip, toolbar_mouse_event);\n",
       "        nav_element.append(button);\n",
       "    }\n",
       "\n",
       "    // Add the status bar.\n",
       "    var status_bar = $('<span class=\"mpl-message\" style=\"text-align:right; float: right;\"/>');\n",
       "    nav_element.append(status_bar);\n",
       "    this.message = status_bar[0];\n",
       "\n",
       "    // Add the close button to the window.\n",
       "    var buttongrp = $('<div class=\"btn-group inline pull-right\"></div>');\n",
       "    var button = $('<button class=\"btn btn-mini btn-primary\" href=\"#\" title=\"Stop Interaction\"><i class=\"fa fa-power-off icon-remove icon-large\"></i></button>');\n",
       "    button.click(function (evt) { fig.handle_close(fig, {}); } );\n",
       "    button.mouseover('Stop Interaction', toolbar_mouse_event);\n",
       "    buttongrp.append(button);\n",
       "    var titlebar = this.root.find($('.ui-dialog-titlebar'));\n",
       "    titlebar.prepend(buttongrp);\n",
       "}\n",
       "\n",
       "mpl.figure.prototype._root_extra_style = function(el){\n",
       "    var fig = this\n",
       "    el.on(\"remove\", function(){\n",
       "\tfig.close_ws(fig, {});\n",
       "    });\n",
       "}\n",
       "\n",
       "mpl.figure.prototype._canvas_extra_style = function(el){\n",
       "    // this is important to make the div 'focusable\n",
       "    el.attr('tabindex', 0)\n",
       "    // reach out to IPython and tell the keyboard manager to turn it's self\n",
       "    // off when our div gets focus\n",
       "\n",
       "    // location in version 3\n",
       "    if (IPython.notebook.keyboard_manager) {\n",
       "        IPython.notebook.keyboard_manager.register_events(el);\n",
       "    }\n",
       "    else {\n",
       "        // location in version 2\n",
       "        IPython.keyboard_manager.register_events(el);\n",
       "    }\n",
       "\n",
       "}\n",
       "\n",
       "mpl.figure.prototype._key_event_extra = function(event, name) {\n",
       "    var manager = IPython.notebook.keyboard_manager;\n",
       "    if (!manager)\n",
       "        manager = IPython.keyboard_manager;\n",
       "\n",
       "    // Check for shift+enter\n",
       "    if (event.shiftKey && event.which == 13) {\n",
       "        this.canvas_div.blur();\n",
       "        // select the cell after this one\n",
       "        var index = IPython.notebook.find_cell_index(this.cell_info[0]);\n",
       "        IPython.notebook.select(index + 1);\n",
       "    }\n",
       "}\n",
       "\n",
       "mpl.figure.prototype.handle_save = function(fig, msg) {\n",
       "    fig.ondownload(fig, null);\n",
       "}\n",
       "\n",
       "\n",
       "mpl.find_output_cell = function(html_output) {\n",
       "    // Return the cell and output element which can be found *uniquely* in the notebook.\n",
       "    // Note - this is a bit hacky, but it is done because the \"notebook_saving.Notebook\"\n",
       "    // IPython event is triggered only after the cells have been serialised, which for\n",
       "    // our purposes (turning an active figure into a static one), is too late.\n",
       "    var cells = IPython.notebook.get_cells();\n",
       "    var ncells = cells.length;\n",
       "    for (var i=0; i<ncells; i++) {\n",
       "        var cell = cells[i];\n",
       "        if (cell.cell_type === 'code'){\n",
       "            for (var j=0; j<cell.output_area.outputs.length; j++) {\n",
       "                var data = cell.output_area.outputs[j];\n",
       "                if (data.data) {\n",
       "                    // IPython >= 3 moved mimebundle to data attribute of output\n",
       "                    data = data.data;\n",
       "                }\n",
       "                if (data['text/html'] == html_output) {\n",
       "                    return [cell, data, j];\n",
       "                }\n",
       "            }\n",
       "        }\n",
       "    }\n",
       "}\n",
       "\n",
       "// Register the function which deals with the matplotlib target/channel.\n",
       "// The kernel may be null if the page has been refreshed.\n",
       "if (IPython.notebook.kernel != null) {\n",
       "    IPython.notebook.kernel.comm_manager.register_target('matplotlib', mpl.mpl_figure_comm);\n",
       "}\n"
      ],
      "text/plain": [
       "<IPython.core.display.Javascript object>"
      ]
     },
     "metadata": {},
     "output_type": "display_data"
    },
    {
     "data": {
      "text/html": [
       "<img src=\"data:image/png;base64,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\" width=\"852.75\">"
      ],
      "text/plain": [
       "<IPython.core.display.HTML object>"
      ]
     },
     "metadata": {},
     "output_type": "display_data"
    },
    {
     "data": {
      "text/plain": [
       "<matplotlib.colorbar.Colorbar at 0x7f1b4ca1a100>"
      ]
     },
     "execution_count": 92,
     "metadata": {},
     "output_type": "execute_result"
    }
   ],
   "source": [
    "plt.figure()\n",
    "plt.imshow(velocity.T, extent=(0, 4600., -1500,0))\n",
    "plt.colorbar()"
   ]
  }
 ],
 "metadata": {
  "celltoolbar": "Tags",
  "kernelspec": {
   "display_name": "Python 3",
   "language": "python",
   "name": "python3"
  },
  "language_info": {
   "codemirror_mode": {
    "name": "ipython",
    "version": 3
   },
   "file_extension": ".py",
   "mimetype": "text/x-python",
   "name": "python",
   "nbconvert_exporter": "python",
   "pygments_lexer": "ipython3",
   "version": "3.8.10"
  },
  "latex_envs": {
   "LaTeX_envs_menu_present": true,
   "autoclose": false,
   "autocomplete": true,
   "bibliofile": "biblio.bib",
   "cite_by": "apalike",
   "current_citInitial": 1,
   "eqLabelWithNumbers": true,
   "eqNumInitial": 1,
   "hotkeys": {
    "equation": "Ctrl-E",
    "itemize": "Ctrl-I"
   },
   "labels_anchors": false,
   "latex_user_defs": false,
   "report_style_numbering": false,
   "user_envs_cfg": false
  },
  "toc": {
   "base_numbering": 1,
   "nav_menu": {},
   "number_sections": true,
   "sideBar": false,
   "skip_h1_title": false,
   "title_cell": "Table of Contents",
   "title_sidebar": "Contents",
   "toc_cell": true,
   "toc_position": {},
   "toc_section_display": false,
   "toc_window_display": false
  },
  "varInspector": {
   "cols": {
    "lenName": 16,
    "lenType": 16,
    "lenVar": 40
   },
   "kernels_config": {
    "python": {
     "delete_cmd_postfix": "",
     "delete_cmd_prefix": "del ",
     "library": "var_list.py",
     "varRefreshCmd": "print(var_dic_list())"
    },
    "r": {
     "delete_cmd_postfix": ") ",
     "delete_cmd_prefix": "rm(",
     "library": "var_list.r",
     "varRefreshCmd": "cat(var_dic_list()) "
    }
   },
   "types_to_exclude": [
    "module",
    "function",
    "builtin_function_or_method",
    "instance",
    "_Feature"
   ],
   "window_display": false
  }
 },
 "nbformat": 4,
 "nbformat_minor": 2
}
