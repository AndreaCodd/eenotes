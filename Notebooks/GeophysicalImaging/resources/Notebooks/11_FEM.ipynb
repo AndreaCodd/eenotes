{
 "cells": [
  {
   "cell_type": "markdown",
   "metadata": {},
   "source": [
    "# Gravity Field Calculation\n",
    "\n",
    "This is about the implementation of a simple FEM solver in Python. First we look at the calculation of the \n",
    "gravity potential $u$ for a given density $\\rho$. As introduced in class the PDE to be solved is given as\n",
    "$$\n",
    "     -\\nabla^T \\nabla u = - 4\\pi G \\rho \\; .\n",
    "$$\n",
    "with the universal gravitational constant $G = 6.67430 \\cdot 10^{−11}\\frac{Nm^2}{kg^2}$. The gravity field $\\mathbf{g}$ is given as the negative gradient of the gravity potential\n",
    "$$\n",
    "      \\mathbf{g} = - \\nabla u\n",
    "$$\n"
   ]
  },
  {
   "cell_type": "markdown",
   "metadata": {},
   "source": [
    "## Set up Grid and Domain\n",
    "\n",
    "First step is to define the grid: \n",
    "\n",
    "- `N0` - number of element in the horizontal direction\n",
    "- `N1` - number of element in the vertical direction\n",
    "\n",
    "Initially we start with small grid:"
   ]
  },
  {
   "cell_type": "code",
   "execution_count": 22,
   "metadata": {
    "tags": [
     "SOLUTION"
    ]
   },
   "outputs": [],
   "source": [
    "N0, N1 = 5, 10"
   ]
  },
  {
   "cell_type": "markdown",
   "metadata": {},
   "source": [
    "Total number of element `NE`?"
   ]
  },
  {
   "cell_type": "code",
   "execution_count": 23,
   "metadata": {
    "tags": [
     "SOLUTION"
    ]
   },
   "outputs": [
    {
     "data": {
      "text/plain": [
       "50"
      ]
     },
     "execution_count": 23,
     "metadata": {},
     "output_type": "execute_result"
    }
   ],
   "source": [
    "NE=N0*N1\n",
    "NE"
   ]
  },
  {
   "cell_type": "markdown",
   "metadata": {},
   "source": [
    "Number of nodes:\n",
    "\n",
    "- `NN0` - in horizontal direction\n",
    "- `NN1` - in vertical direction"
   ]
  },
  {
   "cell_type": "code",
   "execution_count": 24,
   "metadata": {
    "tags": [
     "SOLUTION"
    ]
   },
   "outputs": [],
   "source": [
    "NN0, NN1 = N0+1, N1+1"
   ]
  },
  {
   "cell_type": "markdown",
   "metadata": {},
   "source": [
    "Total number of nodes `N`"
   ]
  },
  {
   "cell_type": "code",
   "execution_count": 25,
   "metadata": {
    "tags": [
     "SOLUTION"
    ]
   },
   "outputs": [
    {
     "data": {
      "text/plain": [
       "66"
      ]
     },
     "execution_count": 25,
     "metadata": {},
     "output_type": "execute_result"
    }
   ],
   "source": [
    "N=NN0 * NN1\n",
    "N"
   ]
  },
  {
   "cell_type": "markdown",
   "metadata": {},
   "source": [
    "We need a grid spacing `H` assuming the same spacing vertical and horizontal direction."
   ]
  },
  {
   "cell_type": "code",
   "execution_count": 26,
   "metadata": {
    "tags": [
     "SOLUTION"
    ]
   },
   "outputs": [],
   "source": [
    "H=1000"
   ]
  },
  {
   "cell_type": "markdown",
   "metadata": {},
   "source": [
    "What is the extend of the domain?\n",
    "\n",
    "- `L0` - horizontal direction\n",
    "- `L1` - vertical direction"
   ]
  },
  {
   "cell_type": "code",
   "execution_count": 27,
   "metadata": {
    "tags": [
     "SOLUTION"
    ]
   },
   "outputs": [],
   "source": [
    "L0, L1 = H*NE0, H*NE1"
   ]
  },
  {
   "cell_type": "markdown",
   "metadata": {},
   "source": [
    "What exactly is the set up of domain and grid now?"
   ]
  },
  {
   "cell_type": "code",
   "execution_count": 21,
   "metadata": {
    "tags": [
     "SOLUTION"
    ]
   },
   "outputs": [
    {
     "name": "stdout",
     "output_type": "stream",
     "text": [
      "Extend of domain : 5000 x 10000\n",
      "total number of elements: 50\n",
      "total number of unknown: 66\n"
     ]
    }
   ],
   "source": [
    "print(f\"Extend of domain : {L0} x {L1}\")\n",
    "print(f\"total number of elements: {NE}\")\n",
    "print(f\"total number of unknown: {N}\")\n"
   ]
  },
  {
   "cell_type": "markdown",
   "metadata": {},
   "source": [
    "## Stiffness matrix\n",
    "\n",
    "Next step is to assemble the stiffness matrix `Sh`. Recall that the stiffness matrix is sparse. To make use of this we use this we use the sparse matrix based on **Dictionary Of Keys** (DOK) where the key is a tuple that defines the row and column of a non-zero entry and the value the corresponding matrix entry.\n",
    "This is an efficient structure for constructing sparse matrices incrementally which is what we are going to do while we running through all elements. \n",
    "\n",
    "We are going to use `dok_matrix` from `scipy.sparse` which provides an implementation of a DOK based sparse matrix. The full documentation for `dok_matrix` is available at [here](https://docs.scipy.org/doc/scipy/reference/generated/scipy.sparse.dok_matrix.html) \n",
    "\n",
    "To set-up the `dok_matrix` matrix we need to know its dimension."
   ]
  },
  {
   "cell_type": "code",
   "execution_count": 30,
   "metadata": {
    "tags": [
     "SOLUTION"
    ]
   },
   "outputs": [
    {
     "data": {
      "text/plain": [
       "<66x66 sparse matrix of type '<class 'numpy.float64'>'\n",
       "\twith 0 stored elements in Dictionary Of Keys format>"
      ]
     },
     "execution_count": 30,
     "metadata": {},
     "output_type": "execute_result"
    }
   ],
   "source": [
    "from scipy.sparse import dok_matrix\n",
    "Sh=dok_matrix((N,N))\n",
    "Sh"
   ]
  },
  {
   "cell_type": "markdown",
   "metadata": {},
   "source": [
    "To fill the stiffness matrix we need to run over all elements $(i_0, i_1)$, calculate the local element matrix $\\mathbf{S}^E$ and add the element matrix to the appropriate rows and columns. \n",
    "\n",
    "Recall that for the gravity case the local element matrix is given as\n",
    "$$\n",
    "\\mathbf{S}^E = \\hat{\\mathbf{S}} \n",
    "$$\n",
    "where\n",
    "$$\n",
    "    \\hat{\\mathbf{S}} = \n",
    "    \\left[\n",
    "    \\begin{array}{rrrr}\n",
    "    \\frac{2}{3} & -\\frac{1}{6} & -\\frac{1}{6} & -\\frac{1}{3}  \\\\\n",
    "     -\\frac{1}{6} & \\frac{2}{3} & -\\frac{1}{3}  &  -\\frac{1}{6}  \\\\\n",
    "     -\\frac{1}{6} & -\\frac{1}{3}  & \\frac{2}{3} &  -\\frac{1}{6}  \\\\\n",
    "     -\\frac{1}{3}  &  -\\frac{1}{6} &  -\\frac{1}{6}  & \\frac{2}{3}\n",
    "    \\end{array}\n",
    "    \\right]\n",
    "$$\n",
    "\n",
    "Let's look at element $(i_0, i_1)=(1,0)$ first. This element is in the first row and second column."
   ]
  },
  {
   "cell_type": "code",
   "execution_count": 43,
   "metadata": {
    "tags": [
     "SOLUTION"
    ]
   },
   "outputs": [],
   "source": [
    "i0, i1= 1,0"
   ]
  },
  {
   "cell_type": "markdown",
   "metadata": {
    "run_control": {
     "marked": true
    }
   },
   "source": [
    "The element size independent element matrix $\\hat{\\mathbf{S}}$ is stored as `numpy` array:"
   ]
  },
  {
   "cell_type": "code",
   "execution_count": 44,
   "metadata": {},
   "outputs": [],
   "source": [
    "import numpy as np\n",
    "hatS=np.array([[2./3, -1./6, -1./6, -1./3], [-1./6, 2./3, -1./3, -1./6], [-1./6, -1./3, 2./3, -1./6], [-1./3, -1./6, -1./6, 2./3]])"
   ]
  },
  {
   "cell_type": "code",
   "execution_count": 45,
   "metadata": {
    "tags": [
     "SOLUTION"
    ]
   },
   "outputs": [
    {
     "data": {
      "text/plain": [
       "array([[ 0.66666667, -0.16666667, -0.16666667, -0.33333333],\n",
       "       [-0.16666667,  0.66666667, -0.33333333, -0.16666667],\n",
       "       [-0.16666667, -0.33333333,  0.66666667, -0.16666667],\n",
       "       [-0.33333333, -0.16666667, -0.16666667,  0.66666667]])"
      ]
     },
     "execution_count": 45,
     "metadata": {},
     "output_type": "execute_result"
    }
   ],
   "source": [
    "hatS"
   ]
  },
  {
   "cell_type": "code",
   "execution_count": 46,
   "metadata": {
    "tags": [
     "SOLUTION"
    ]
   },
   "outputs": [],
   "source": [
    "SE=hatS"
   ]
  },
  {
   "cell_type": "code",
   "execution_count": 47,
   "metadata": {},
   "outputs": [
    {
     "data": {
      "text/plain": [
       "(4, 4)"
      ]
     },
     "execution_count": 47,
     "metadata": {},
     "output_type": "execute_result"
    }
   ],
   "source": [
    "SE.shape"
   ]
  },
  {
   "cell_type": "markdown",
   "metadata": {},
   "source": [
    "The rows and columns of `Sh` into which the element matrix is added are defined by the FEM node identification numbers of the vertices `Vids` that form the element. We copy this from the lecture:\n",
    "$$\n",
    "\\mathtt{Vids}=[i_1 \\cdot (N_0+1)+i_0, i_1  \\cdot (N_0+1)+i_0+1, (i_1+1)  \\cdot (N_0+1)+i_0, (i_1+1)  \\cdot  (N_0+1)+i_0+1]\n",
    "$$"
   ]
  },
  {
   "cell_type": "code",
   "execution_count": 48,
   "metadata": {},
   "outputs": [],
   "source": [
    "Vids=[i1*NN0+i0, i1*NN0+i0+1, (i1+1)*NN0+i0, (i1+1)*NN0+i0+1]"
   ]
  },
  {
   "cell_type": "markdown",
   "metadata": {},
   "source": [
    "Let see what this is for element $E=(i_0, i_1)=1,0$:"
   ]
  },
  {
   "cell_type": "code",
   "execution_count": 53,
   "metadata": {
    "tags": [
     "SOLUTION"
    ]
   },
   "outputs": [
    {
     "data": {
      "text/plain": [
       "[1, 2, 7, 8]"
      ]
     },
     "execution_count": 53,
     "metadata": {},
     "output_type": "execute_result"
    }
   ],
   "source": [
    "Vids"
   ]
  },
  {
   "cell_type": "markdown",
   "metadata": {},
   "source": [
    "iterative over the rows and columns of the element matrix and add to corresponding rows and columns in the stiffness matrix via the `Vids` list:"
   ]
  },
  {
   "cell_type": "code",
   "execution_count": 57,
   "metadata": {
    "tags": [
     "SOLUTION"
    ]
   },
   "outputs": [],
   "source": [
    "Sh.clear()\n",
    "for ir in range(4):\n",
    "    for ic in range(4): \n",
    "        Sh[Vids[ir], Vids[ic]]+=SE[ir, ic]"
   ]
  },
  {
   "cell_type": "markdown",
   "metadata": {},
   "source": [
    "There should be at least $4 \\times 4 =16$ entries in the stiffness matrix `Sh`:"
   ]
  },
  {
   "cell_type": "code",
   "execution_count": 55,
   "metadata": {
    "tags": [
     "SOLUTION"
    ]
   },
   "outputs": [
    {
     "data": {
      "text/plain": [
       "<66x66 sparse matrix of type '<class 'numpy.float64'>'\n",
       "\twith 16 stored elements in Dictionary Of Keys format>"
      ]
     },
     "execution_count": 55,
     "metadata": {},
     "output_type": "execute_result"
    }
   ],
   "source": [
    "Sh"
   ]
  },
  {
   "cell_type": "markdown",
   "metadata": {},
   "source": [
    "Where are the non-zero entries in the matrix? check the `keys`:"
   ]
  },
  {
   "cell_type": "code",
   "execution_count": 70,
   "metadata": {
    "tags": [
     "SOLUTION"
    ]
   },
   "outputs": [
    {
     "data": {
      "text/plain": [
       "dict_keys([(1, 1), (1, 2), (1, 7), (1, 8), (2, 1), (2, 2), (2, 7), (2, 8), (7, 1), (7, 2), (7, 7), (7, 8), (8, 1), (8, 2), (8, 7), (8, 8)])"
      ]
     },
     "execution_count": 70,
     "metadata": {},
     "output_type": "execute_result"
    }
   ],
   "source": [
    "Sh.keys()"
   ]
  },
  {
   "cell_type": "markdown",
   "metadata": {},
   "source": [
    "Now we are ready to assamble the entire stiffness matrix by iterating over all columns of elements `i0` and all rows of elements `i1` (note: `Sh` is cleared to remove the entries from the initial test): "
   ]
  },
  {
   "cell_type": "code",
   "execution_count": 71,
   "metadata": {
    "tags": [
     "SOLUTION"
    ]
   },
   "outputs": [],
   "source": [
    "Sh.clear()\n",
    "for i1 in range(NE1):\n",
    "    for i0 in range(NE0):\n",
    "        Vids=[i1*NN0+i0, i1*NN0+i0+1, (i1+1)*NN0+i0, (i1+1)*NN0+i0+1]\n",
    "        for ir in range(4):\n",
    "            for ic in range(4): \n",
    "                Sh[Vids[ir], Vids[ic]]+=SE[ir, ic]"
   ]
  },
  {
   "cell_type": "markdown",
   "metadata": {},
   "source": [
    "Check the stiffness matrix:"
   ]
  },
  {
   "cell_type": "code",
   "execution_count": 74,
   "metadata": {},
   "outputs": [
    {
     "data": {
      "text/plain": [
       "<66x66 sparse matrix of type '<class 'numpy.float64'>'\n",
       "\twith 496 stored elements in Dictionary Of Keys format>"
      ]
     },
     "execution_count": 74,
     "metadata": {},
     "output_type": "execute_result"
    }
   ],
   "source": [
    "Sh"
   ]
  },
  {
   "cell_type": "markdown",
   "metadata": {},
   "source": [
    "What are the maximum and minimum values in the matrix?"
   ]
  },
  {
   "cell_type": "code",
   "execution_count": 91,
   "metadata": {},
   "outputs": [
    {
     "data": {
      "text/plain": [
       "(2.6666666666666665, -0.3333333333333333)"
      ]
     },
     "execution_count": 91,
     "metadata": {},
     "output_type": "execute_result"
    }
   ],
   "source": [
    "max(Sh.values()), min(Sh.values())"
   ]
  },
  {
   "cell_type": "markdown",
   "metadata": {},
   "source": [
    "The `matplotlib` provides a function `matshow` of a dense matrix so we need to convert the sparse matrix `Sh` into a dense matrix which can easily   "
   ]
  },
  {
   "cell_type": "code",
   "execution_count": 85,
   "metadata": {},
   "outputs": [
    {
     "data": {
      "application/javascript": [
       "/* Put everything inside the global mpl namespace */\n",
       "window.mpl = {};\n",
       "\n",
       "\n",
       "mpl.get_websocket_type = function() {\n",
       "    if (typeof(WebSocket) !== 'undefined') {\n",
       "        return WebSocket;\n",
       "    } else if (typeof(MozWebSocket) !== 'undefined') {\n",
       "        return MozWebSocket;\n",
       "    } else {\n",
       "        alert('Your browser does not have WebSocket support. ' +\n",
       "              'Please try Chrome, Safari or Firefox ≥ 6. ' +\n",
       "              'Firefox 4 and 5 are also supported but you ' +\n",
       "              'have to enable WebSockets in about:config.');\n",
       "    };\n",
       "}\n",
       "\n",
       "mpl.figure = function(figure_id, websocket, ondownload, parent_element) {\n",
       "    this.id = figure_id;\n",
       "\n",
       "    this.ws = websocket;\n",
       "\n",
       "    this.supports_binary = (this.ws.binaryType != undefined);\n",
       "\n",
       "    if (!this.supports_binary) {\n",
       "        var warnings = document.getElementById(\"mpl-warnings\");\n",
       "        if (warnings) {\n",
       "            warnings.style.display = 'block';\n",
       "            warnings.textContent = (\n",
       "                \"This browser does not support binary websocket messages. \" +\n",
       "                    \"Performance may be slow.\");\n",
       "        }\n",
       "    }\n",
       "\n",
       "    this.imageObj = new Image();\n",
       "\n",
       "    this.context = undefined;\n",
       "    this.message = undefined;\n",
       "    this.canvas = undefined;\n",
       "    this.rubberband_canvas = undefined;\n",
       "    this.rubberband_context = undefined;\n",
       "    this.format_dropdown = undefined;\n",
       "\n",
       "    this.image_mode = 'full';\n",
       "\n",
       "    this.root = $('<div/>');\n",
       "    this._root_extra_style(this.root)\n",
       "    this.root.attr('style', 'display: inline-block');\n",
       "\n",
       "    $(parent_element).append(this.root);\n",
       "\n",
       "    this._init_header(this);\n",
       "    this._init_canvas(this);\n",
       "    this._init_toolbar(this);\n",
       "\n",
       "    var fig = this;\n",
       "\n",
       "    this.waiting = false;\n",
       "\n",
       "    this.ws.onopen =  function () {\n",
       "            fig.send_message(\"supports_binary\", {value: fig.supports_binary});\n",
       "            fig.send_message(\"send_image_mode\", {});\n",
       "            if (mpl.ratio != 1) {\n",
       "                fig.send_message(\"set_dpi_ratio\", {'dpi_ratio': mpl.ratio});\n",
       "            }\n",
       "            fig.send_message(\"refresh\", {});\n",
       "        }\n",
       "\n",
       "    this.imageObj.onload = function() {\n",
       "            if (fig.image_mode == 'full') {\n",
       "                // Full images could contain transparency (where diff images\n",
       "                // almost always do), so we need to clear the canvas so that\n",
       "                // there is no ghosting.\n",
       "                fig.context.clearRect(0, 0, fig.canvas.width, fig.canvas.height);\n",
       "            }\n",
       "            fig.context.drawImage(fig.imageObj, 0, 0);\n",
       "        };\n",
       "\n",
       "    this.imageObj.onunload = function() {\n",
       "        fig.ws.close();\n",
       "    }\n",
       "\n",
       "    this.ws.onmessage = this._make_on_message_function(this);\n",
       "\n",
       "    this.ondownload = ondownload;\n",
       "}\n",
       "\n",
       "mpl.figure.prototype._init_header = function() {\n",
       "    var titlebar = $(\n",
       "        '<div class=\"ui-dialog-titlebar ui-widget-header ui-corner-all ' +\n",
       "        'ui-helper-clearfix\"/>');\n",
       "    var titletext = $(\n",
       "        '<div class=\"ui-dialog-title\" style=\"width: 100%; ' +\n",
       "        'text-align: center; padding: 3px;\"/>');\n",
       "    titlebar.append(titletext)\n",
       "    this.root.append(titlebar);\n",
       "    this.header = titletext[0];\n",
       "}\n",
       "\n",
       "\n",
       "\n",
       "mpl.figure.prototype._canvas_extra_style = function(canvas_div) {\n",
       "\n",
       "}\n",
       "\n",
       "\n",
       "mpl.figure.prototype._root_extra_style = function(canvas_div) {\n",
       "\n",
       "}\n",
       "\n",
       "mpl.figure.prototype._init_canvas = function() {\n",
       "    var fig = this;\n",
       "\n",
       "    var canvas_div = $('<div/>');\n",
       "\n",
       "    canvas_div.attr('style', 'position: relative; clear: both; outline: 0');\n",
       "\n",
       "    function canvas_keyboard_event(event) {\n",
       "        return fig.key_event(event, event['data']);\n",
       "    }\n",
       "\n",
       "    canvas_div.keydown('key_press', canvas_keyboard_event);\n",
       "    canvas_div.keyup('key_release', canvas_keyboard_event);\n",
       "    this.canvas_div = canvas_div\n",
       "    this._canvas_extra_style(canvas_div)\n",
       "    this.root.append(canvas_div);\n",
       "\n",
       "    var canvas = $('<canvas/>');\n",
       "    canvas.addClass('mpl-canvas');\n",
       "    canvas.attr('style', \"left: 0; top: 0; z-index: 0; outline: 0\")\n",
       "\n",
       "    this.canvas = canvas[0];\n",
       "    this.context = canvas[0].getContext(\"2d\");\n",
       "\n",
       "    var backingStore = this.context.backingStorePixelRatio ||\n",
       "\tthis.context.webkitBackingStorePixelRatio ||\n",
       "\tthis.context.mozBackingStorePixelRatio ||\n",
       "\tthis.context.msBackingStorePixelRatio ||\n",
       "\tthis.context.oBackingStorePixelRatio ||\n",
       "\tthis.context.backingStorePixelRatio || 1;\n",
       "\n",
       "    mpl.ratio = (window.devicePixelRatio || 1) / backingStore;\n",
       "\n",
       "    var rubberband = $('<canvas/>');\n",
       "    rubberband.attr('style', \"position: absolute; left: 0; top: 0; z-index: 1;\")\n",
       "\n",
       "    var pass_mouse_events = true;\n",
       "\n",
       "    canvas_div.resizable({\n",
       "        start: function(event, ui) {\n",
       "            pass_mouse_events = false;\n",
       "        },\n",
       "        resize: function(event, ui) {\n",
       "            fig.request_resize(ui.size.width, ui.size.height);\n",
       "        },\n",
       "        stop: function(event, ui) {\n",
       "            pass_mouse_events = true;\n",
       "            fig.request_resize(ui.size.width, ui.size.height);\n",
       "        },\n",
       "    });\n",
       "\n",
       "    function mouse_event_fn(event) {\n",
       "        if (pass_mouse_events)\n",
       "            return fig.mouse_event(event, event['data']);\n",
       "    }\n",
       "\n",
       "    rubberband.mousedown('button_press', mouse_event_fn);\n",
       "    rubberband.mouseup('button_release', mouse_event_fn);\n",
       "    // Throttle sequential mouse events to 1 every 20ms.\n",
       "    rubberband.mousemove('motion_notify', mouse_event_fn);\n",
       "\n",
       "    rubberband.mouseenter('figure_enter', mouse_event_fn);\n",
       "    rubberband.mouseleave('figure_leave', mouse_event_fn);\n",
       "\n",
       "    canvas_div.on(\"wheel\", function (event) {\n",
       "        event = event.originalEvent;\n",
       "        event['data'] = 'scroll'\n",
       "        if (event.deltaY < 0) {\n",
       "            event.step = 1;\n",
       "        } else {\n",
       "            event.step = -1;\n",
       "        }\n",
       "        mouse_event_fn(event);\n",
       "    });\n",
       "\n",
       "    canvas_div.append(canvas);\n",
       "    canvas_div.append(rubberband);\n",
       "\n",
       "    this.rubberband = rubberband;\n",
       "    this.rubberband_canvas = rubberband[0];\n",
       "    this.rubberband_context = rubberband[0].getContext(\"2d\");\n",
       "    this.rubberband_context.strokeStyle = \"#000000\";\n",
       "\n",
       "    this._resize_canvas = function(width, height) {\n",
       "        // Keep the size of the canvas, canvas container, and rubber band\n",
       "        // canvas in synch.\n",
       "        canvas_div.css('width', width)\n",
       "        canvas_div.css('height', height)\n",
       "\n",
       "        canvas.attr('width', width * mpl.ratio);\n",
       "        canvas.attr('height', height * mpl.ratio);\n",
       "        canvas.attr('style', 'width: ' + width + 'px; height: ' + height + 'px;');\n",
       "\n",
       "        rubberband.attr('width', width);\n",
       "        rubberband.attr('height', height);\n",
       "    }\n",
       "\n",
       "    // Set the figure to an initial 600x600px, this will subsequently be updated\n",
       "    // upon first draw.\n",
       "    this._resize_canvas(600, 600);\n",
       "\n",
       "    // Disable right mouse context menu.\n",
       "    $(this.rubberband_canvas).bind(\"contextmenu\",function(e){\n",
       "        return false;\n",
       "    });\n",
       "\n",
       "    function set_focus () {\n",
       "        canvas.focus();\n",
       "        canvas_div.focus();\n",
       "    }\n",
       "\n",
       "    window.setTimeout(set_focus, 100);\n",
       "}\n",
       "\n",
       "mpl.figure.prototype._init_toolbar = function() {\n",
       "    var fig = this;\n",
       "\n",
       "    var nav_element = $('<div/>');\n",
       "    nav_element.attr('style', 'width: 100%');\n",
       "    this.root.append(nav_element);\n",
       "\n",
       "    // Define a callback function for later on.\n",
       "    function toolbar_event(event) {\n",
       "        return fig.toolbar_button_onclick(event['data']);\n",
       "    }\n",
       "    function toolbar_mouse_event(event) {\n",
       "        return fig.toolbar_button_onmouseover(event['data']);\n",
       "    }\n",
       "\n",
       "    for(var toolbar_ind in mpl.toolbar_items) {\n",
       "        var name = mpl.toolbar_items[toolbar_ind][0];\n",
       "        var tooltip = mpl.toolbar_items[toolbar_ind][1];\n",
       "        var image = mpl.toolbar_items[toolbar_ind][2];\n",
       "        var method_name = mpl.toolbar_items[toolbar_ind][3];\n",
       "\n",
       "        if (!name) {\n",
       "            // put a spacer in here.\n",
       "            continue;\n",
       "        }\n",
       "        var button = $('<button/>');\n",
       "        button.addClass('ui-button ui-widget ui-state-default ui-corner-all ' +\n",
       "                        'ui-button-icon-only');\n",
       "        button.attr('role', 'button');\n",
       "        button.attr('aria-disabled', 'false');\n",
       "        button.click(method_name, toolbar_event);\n",
       "        button.mouseover(tooltip, toolbar_mouse_event);\n",
       "\n",
       "        var icon_img = $('<span/>');\n",
       "        icon_img.addClass('ui-button-icon-primary ui-icon');\n",
       "        icon_img.addClass(image);\n",
       "        icon_img.addClass('ui-corner-all');\n",
       "\n",
       "        var tooltip_span = $('<span/>');\n",
       "        tooltip_span.addClass('ui-button-text');\n",
       "        tooltip_span.html(tooltip);\n",
       "\n",
       "        button.append(icon_img);\n",
       "        button.append(tooltip_span);\n",
       "\n",
       "        nav_element.append(button);\n",
       "    }\n",
       "\n",
       "    var fmt_picker_span = $('<span/>');\n",
       "\n",
       "    var fmt_picker = $('<select/>');\n",
       "    fmt_picker.addClass('mpl-toolbar-option ui-widget ui-widget-content');\n",
       "    fmt_picker_span.append(fmt_picker);\n",
       "    nav_element.append(fmt_picker_span);\n",
       "    this.format_dropdown = fmt_picker[0];\n",
       "\n",
       "    for (var ind in mpl.extensions) {\n",
       "        var fmt = mpl.extensions[ind];\n",
       "        var option = $(\n",
       "            '<option/>', {selected: fmt === mpl.default_extension}).html(fmt);\n",
       "        fmt_picker.append(option);\n",
       "    }\n",
       "\n",
       "    // Add hover states to the ui-buttons\n",
       "    $( \".ui-button\" ).hover(\n",
       "        function() { $(this).addClass(\"ui-state-hover\");},\n",
       "        function() { $(this).removeClass(\"ui-state-hover\");}\n",
       "    );\n",
       "\n",
       "    var status_bar = $('<span class=\"mpl-message\"/>');\n",
       "    nav_element.append(status_bar);\n",
       "    this.message = status_bar[0];\n",
       "}\n",
       "\n",
       "mpl.figure.prototype.request_resize = function(x_pixels, y_pixels) {\n",
       "    // Request matplotlib to resize the figure. Matplotlib will then trigger a resize in the client,\n",
       "    // which will in turn request a refresh of the image.\n",
       "    this.send_message('resize', {'width': x_pixels, 'height': y_pixels});\n",
       "}\n",
       "\n",
       "mpl.figure.prototype.send_message = function(type, properties) {\n",
       "    properties['type'] = type;\n",
       "    properties['figure_id'] = this.id;\n",
       "    this.ws.send(JSON.stringify(properties));\n",
       "}\n",
       "\n",
       "mpl.figure.prototype.send_draw_message = function() {\n",
       "    if (!this.waiting) {\n",
       "        this.waiting = true;\n",
       "        this.ws.send(JSON.stringify({type: \"draw\", figure_id: this.id}));\n",
       "    }\n",
       "}\n",
       "\n",
       "\n",
       "mpl.figure.prototype.handle_save = function(fig, msg) {\n",
       "    var format_dropdown = fig.format_dropdown;\n",
       "    var format = format_dropdown.options[format_dropdown.selectedIndex].value;\n",
       "    fig.ondownload(fig, format);\n",
       "}\n",
       "\n",
       "\n",
       "mpl.figure.prototype.handle_resize = function(fig, msg) {\n",
       "    var size = msg['size'];\n",
       "    if (size[0] != fig.canvas.width || size[1] != fig.canvas.height) {\n",
       "        fig._resize_canvas(size[0], size[1]);\n",
       "        fig.send_message(\"refresh\", {});\n",
       "    };\n",
       "}\n",
       "\n",
       "mpl.figure.prototype.handle_rubberband = function(fig, msg) {\n",
       "    var x0 = msg['x0'] / mpl.ratio;\n",
       "    var y0 = (fig.canvas.height - msg['y0']) / mpl.ratio;\n",
       "    var x1 = msg['x1'] / mpl.ratio;\n",
       "    var y1 = (fig.canvas.height - msg['y1']) / mpl.ratio;\n",
       "    x0 = Math.floor(x0) + 0.5;\n",
       "    y0 = Math.floor(y0) + 0.5;\n",
       "    x1 = Math.floor(x1) + 0.5;\n",
       "    y1 = Math.floor(y1) + 0.5;\n",
       "    var min_x = Math.min(x0, x1);\n",
       "    var min_y = Math.min(y0, y1);\n",
       "    var width = Math.abs(x1 - x0);\n",
       "    var height = Math.abs(y1 - y0);\n",
       "\n",
       "    fig.rubberband_context.clearRect(\n",
       "        0, 0, fig.canvas.width / mpl.ratio, fig.canvas.height / mpl.ratio);\n",
       "\n",
       "    fig.rubberband_context.strokeRect(min_x, min_y, width, height);\n",
       "}\n",
       "\n",
       "mpl.figure.prototype.handle_figure_label = function(fig, msg) {\n",
       "    // Updates the figure title.\n",
       "    fig.header.textContent = msg['label'];\n",
       "}\n",
       "\n",
       "mpl.figure.prototype.handle_cursor = function(fig, msg) {\n",
       "    var cursor = msg['cursor'];\n",
       "    switch(cursor)\n",
       "    {\n",
       "    case 0:\n",
       "        cursor = 'pointer';\n",
       "        break;\n",
       "    case 1:\n",
       "        cursor = 'default';\n",
       "        break;\n",
       "    case 2:\n",
       "        cursor = 'crosshair';\n",
       "        break;\n",
       "    case 3:\n",
       "        cursor = 'move';\n",
       "        break;\n",
       "    }\n",
       "    fig.rubberband_canvas.style.cursor = cursor;\n",
       "}\n",
       "\n",
       "mpl.figure.prototype.handle_message = function(fig, msg) {\n",
       "    fig.message.textContent = msg['message'];\n",
       "}\n",
       "\n",
       "mpl.figure.prototype.handle_draw = function(fig, msg) {\n",
       "    // Request the server to send over a new figure.\n",
       "    fig.send_draw_message();\n",
       "}\n",
       "\n",
       "mpl.figure.prototype.handle_image_mode = function(fig, msg) {\n",
       "    fig.image_mode = msg['mode'];\n",
       "}\n",
       "\n",
       "mpl.figure.prototype.updated_canvas_event = function() {\n",
       "    // Called whenever the canvas gets updated.\n",
       "    this.send_message(\"ack\", {});\n",
       "}\n",
       "\n",
       "// A function to construct a web socket function for onmessage handling.\n",
       "// Called in the figure constructor.\n",
       "mpl.figure.prototype._make_on_message_function = function(fig) {\n",
       "    return function socket_on_message(evt) {\n",
       "        if (evt.data instanceof Blob) {\n",
       "            /* FIXME: We get \"Resource interpreted as Image but\n",
       "             * transferred with MIME type text/plain:\" errors on\n",
       "             * Chrome.  But how to set the MIME type?  It doesn't seem\n",
       "             * to be part of the websocket stream */\n",
       "            evt.data.type = \"image/png\";\n",
       "\n",
       "            /* Free the memory for the previous frames */\n",
       "            if (fig.imageObj.src) {\n",
       "                (window.URL || window.webkitURL).revokeObjectURL(\n",
       "                    fig.imageObj.src);\n",
       "            }\n",
       "\n",
       "            fig.imageObj.src = (window.URL || window.webkitURL).createObjectURL(\n",
       "                evt.data);\n",
       "            fig.updated_canvas_event();\n",
       "            fig.waiting = false;\n",
       "            return;\n",
       "        }\n",
       "        else if (typeof evt.data === 'string' && evt.data.slice(0, 21) == \"data:image/png;base64\") {\n",
       "            fig.imageObj.src = evt.data;\n",
       "            fig.updated_canvas_event();\n",
       "            fig.waiting = false;\n",
       "            return;\n",
       "        }\n",
       "\n",
       "        var msg = JSON.parse(evt.data);\n",
       "        var msg_type = msg['type'];\n",
       "\n",
       "        // Call the  \"handle_{type}\" callback, which takes\n",
       "        // the figure and JSON message as its only arguments.\n",
       "        try {\n",
       "            var callback = fig[\"handle_\" + msg_type];\n",
       "        } catch (e) {\n",
       "            console.log(\"No handler for the '\" + msg_type + \"' message type: \", msg);\n",
       "            return;\n",
       "        }\n",
       "\n",
       "        if (callback) {\n",
       "            try {\n",
       "                // console.log(\"Handling '\" + msg_type + \"' message: \", msg);\n",
       "                callback(fig, msg);\n",
       "            } catch (e) {\n",
       "                console.log(\"Exception inside the 'handler_\" + msg_type + \"' callback:\", e, e.stack, msg);\n",
       "            }\n",
       "        }\n",
       "    };\n",
       "}\n",
       "\n",
       "// from http://stackoverflow.com/questions/1114465/getting-mouse-location-in-canvas\n",
       "mpl.findpos = function(e) {\n",
       "    //this section is from http://www.quirksmode.org/js/events_properties.html\n",
       "    var targ;\n",
       "    if (!e)\n",
       "        e = window.event;\n",
       "    if (e.target)\n",
       "        targ = e.target;\n",
       "    else if (e.srcElement)\n",
       "        targ = e.srcElement;\n",
       "    if (targ.nodeType == 3) // defeat Safari bug\n",
       "        targ = targ.parentNode;\n",
       "\n",
       "    // jQuery normalizes the pageX and pageY\n",
       "    // pageX,Y are the mouse positions relative to the document\n",
       "    // offset() returns the position of the element relative to the document\n",
       "    var x = e.pageX - $(targ).offset().left;\n",
       "    var y = e.pageY - $(targ).offset().top;\n",
       "\n",
       "    return {\"x\": x, \"y\": y};\n",
       "};\n",
       "\n",
       "/*\n",
       " * return a copy of an object with only non-object keys\n",
       " * we need this to avoid circular references\n",
       " * http://stackoverflow.com/a/24161582/3208463\n",
       " */\n",
       "function simpleKeys (original) {\n",
       "  return Object.keys(original).reduce(function (obj, key) {\n",
       "    if (typeof original[key] !== 'object')\n",
       "        obj[key] = original[key]\n",
       "    return obj;\n",
       "  }, {});\n",
       "}\n",
       "\n",
       "mpl.figure.prototype.mouse_event = function(event, name) {\n",
       "    var canvas_pos = mpl.findpos(event)\n",
       "\n",
       "    if (name === 'button_press')\n",
       "    {\n",
       "        this.canvas.focus();\n",
       "        this.canvas_div.focus();\n",
       "    }\n",
       "\n",
       "    var x = canvas_pos.x * mpl.ratio;\n",
       "    var y = canvas_pos.y * mpl.ratio;\n",
       "\n",
       "    this.send_message(name, {x: x, y: y, button: event.button,\n",
       "                             step: event.step,\n",
       "                             guiEvent: simpleKeys(event)});\n",
       "\n",
       "    /* This prevents the web browser from automatically changing to\n",
       "     * the text insertion cursor when the button is pressed.  We want\n",
       "     * to control all of the cursor setting manually through the\n",
       "     * 'cursor' event from matplotlib */\n",
       "    event.preventDefault();\n",
       "    return false;\n",
       "}\n",
       "\n",
       "mpl.figure.prototype._key_event_extra = function(event, name) {\n",
       "    // Handle any extra behaviour associated with a key event\n",
       "}\n",
       "\n",
       "mpl.figure.prototype.key_event = function(event, name) {\n",
       "\n",
       "    // Prevent repeat events\n",
       "    if (name == 'key_press')\n",
       "    {\n",
       "        if (event.which === this._key)\n",
       "            return;\n",
       "        else\n",
       "            this._key = event.which;\n",
       "    }\n",
       "    if (name == 'key_release')\n",
       "        this._key = null;\n",
       "\n",
       "    var value = '';\n",
       "    if (event.ctrlKey && event.which != 17)\n",
       "        value += \"ctrl+\";\n",
       "    if (event.altKey && event.which != 18)\n",
       "        value += \"alt+\";\n",
       "    if (event.shiftKey && event.which != 16)\n",
       "        value += \"shift+\";\n",
       "\n",
       "    value += 'k';\n",
       "    value += event.which.toString();\n",
       "\n",
       "    this._key_event_extra(event, name);\n",
       "\n",
       "    this.send_message(name, {key: value,\n",
       "                             guiEvent: simpleKeys(event)});\n",
       "    return false;\n",
       "}\n",
       "\n",
       "mpl.figure.prototype.toolbar_button_onclick = function(name) {\n",
       "    if (name == 'download') {\n",
       "        this.handle_save(this, null);\n",
       "    } else {\n",
       "        this.send_message(\"toolbar_button\", {name: name});\n",
       "    }\n",
       "};\n",
       "\n",
       "mpl.figure.prototype.toolbar_button_onmouseover = function(tooltip) {\n",
       "    this.message.textContent = tooltip;\n",
       "};\n",
       "mpl.toolbar_items = [[\"Home\", \"Reset original view\", \"fa fa-home icon-home\", \"home\"], [\"Back\", \"Back to previous view\", \"fa fa-arrow-left icon-arrow-left\", \"back\"], [\"Forward\", \"Forward to next view\", \"fa fa-arrow-right icon-arrow-right\", \"forward\"], [\"\", \"\", \"\", \"\"], [\"Pan\", \"Pan axes with left mouse, zoom with right\", \"fa fa-arrows icon-move\", \"pan\"], [\"Zoom\", \"Zoom to rectangle\", \"fa fa-square-o icon-check-empty\", \"zoom\"], [\"\", \"\", \"\", \"\"], [\"Download\", \"Download plot\", \"fa fa-floppy-o icon-save\", \"download\"]];\n",
       "\n",
       "mpl.extensions = [\"eps\", \"pdf\", \"png\", \"ps\", \"raw\", \"svg\"];\n",
       "\n",
       "mpl.default_extension = \"png\";var comm_websocket_adapter = function(comm) {\n",
       "    // Create a \"websocket\"-like object which calls the given IPython comm\n",
       "    // object with the appropriate methods. Currently this is a non binary\n",
       "    // socket, so there is still some room for performance tuning.\n",
       "    var ws = {};\n",
       "\n",
       "    ws.close = function() {\n",
       "        comm.close()\n",
       "    };\n",
       "    ws.send = function(m) {\n",
       "        //console.log('sending', m);\n",
       "        comm.send(m);\n",
       "    };\n",
       "    // Register the callback with on_msg.\n",
       "    comm.on_msg(function(msg) {\n",
       "        //console.log('receiving', msg['content']['data'], msg);\n",
       "        // Pass the mpl event to the overridden (by mpl) onmessage function.\n",
       "        ws.onmessage(msg['content']['data'])\n",
       "    });\n",
       "    return ws;\n",
       "}\n",
       "\n",
       "mpl.mpl_figure_comm = function(comm, msg) {\n",
       "    // This is the function which gets called when the mpl process\n",
       "    // starts-up an IPython Comm through the \"matplotlib\" channel.\n",
       "\n",
       "    var id = msg.content.data.id;\n",
       "    // Get hold of the div created by the display call when the Comm\n",
       "    // socket was opened in Python.\n",
       "    var element = $(\"#\" + id);\n",
       "    var ws_proxy = comm_websocket_adapter(comm)\n",
       "\n",
       "    function ondownload(figure, format) {\n",
       "        window.open(figure.imageObj.src);\n",
       "    }\n",
       "\n",
       "    var fig = new mpl.figure(id, ws_proxy,\n",
       "                           ondownload,\n",
       "                           element.get(0));\n",
       "\n",
       "    // Call onopen now - mpl needs it, as it is assuming we've passed it a real\n",
       "    // web socket which is closed, not our websocket->open comm proxy.\n",
       "    ws_proxy.onopen();\n",
       "\n",
       "    fig.parent_element = element.get(0);\n",
       "    fig.cell_info = mpl.find_output_cell(\"<div id='\" + id + \"'></div>\");\n",
       "    if (!fig.cell_info) {\n",
       "        console.error(\"Failed to find cell for figure\", id, fig);\n",
       "        return;\n",
       "    }\n",
       "\n",
       "    var output_index = fig.cell_info[2]\n",
       "    var cell = fig.cell_info[0];\n",
       "\n",
       "};\n",
       "\n",
       "mpl.figure.prototype.handle_close = function(fig, msg) {\n",
       "    var width = fig.canvas.width/mpl.ratio\n",
       "    fig.root.unbind('remove')\n",
       "\n",
       "    // Update the output cell to use the data from the current canvas.\n",
       "    fig.push_to_output();\n",
       "    var dataURL = fig.canvas.toDataURL();\n",
       "    // Re-enable the keyboard manager in IPython - without this line, in FF,\n",
       "    // the notebook keyboard shortcuts fail.\n",
       "    IPython.keyboard_manager.enable()\n",
       "    $(fig.parent_element).html('<img src=\"' + dataURL + '\" width=\"' + width + '\">');\n",
       "    fig.close_ws(fig, msg);\n",
       "}\n",
       "\n",
       "mpl.figure.prototype.close_ws = function(fig, msg){\n",
       "    fig.send_message('closing', msg);\n",
       "    // fig.ws.close()\n",
       "}\n",
       "\n",
       "mpl.figure.prototype.push_to_output = function(remove_interactive) {\n",
       "    // Turn the data on the canvas into data in the output cell.\n",
       "    var width = this.canvas.width/mpl.ratio\n",
       "    var dataURL = this.canvas.toDataURL();\n",
       "    this.cell_info[1]['text/html'] = '<img src=\"' + dataURL + '\" width=\"' + width + '\">';\n",
       "}\n",
       "\n",
       "mpl.figure.prototype.updated_canvas_event = function() {\n",
       "    // Tell IPython that the notebook contents must change.\n",
       "    IPython.notebook.set_dirty(true);\n",
       "    this.send_message(\"ack\", {});\n",
       "    var fig = this;\n",
       "    // Wait a second, then push the new image to the DOM so\n",
       "    // that it is saved nicely (might be nice to debounce this).\n",
       "    setTimeout(function () { fig.push_to_output() }, 1000);\n",
       "}\n",
       "\n",
       "mpl.figure.prototype._init_toolbar = function() {\n",
       "    var fig = this;\n",
       "\n",
       "    var nav_element = $('<div/>');\n",
       "    nav_element.attr('style', 'width: 100%');\n",
       "    this.root.append(nav_element);\n",
       "\n",
       "    // Define a callback function for later on.\n",
       "    function toolbar_event(event) {\n",
       "        return fig.toolbar_button_onclick(event['data']);\n",
       "    }\n",
       "    function toolbar_mouse_event(event) {\n",
       "        return fig.toolbar_button_onmouseover(event['data']);\n",
       "    }\n",
       "\n",
       "    for(var toolbar_ind in mpl.toolbar_items){\n",
       "        var name = mpl.toolbar_items[toolbar_ind][0];\n",
       "        var tooltip = mpl.toolbar_items[toolbar_ind][1];\n",
       "        var image = mpl.toolbar_items[toolbar_ind][2];\n",
       "        var method_name = mpl.toolbar_items[toolbar_ind][3];\n",
       "\n",
       "        if (!name) { continue; };\n",
       "\n",
       "        var button = $('<button class=\"btn btn-default\" href=\"#\" title=\"' + name + '\"><i class=\"fa ' + image + ' fa-lg\"></i></button>');\n",
       "        button.click(method_name, toolbar_event);\n",
       "        button.mouseover(tooltip, toolbar_mouse_event);\n",
       "        nav_element.append(button);\n",
       "    }\n",
       "\n",
       "    // Add the status bar.\n",
       "    var status_bar = $('<span class=\"mpl-message\" style=\"text-align:right; float: right;\"/>');\n",
       "    nav_element.append(status_bar);\n",
       "    this.message = status_bar[0];\n",
       "\n",
       "    // Add the close button to the window.\n",
       "    var buttongrp = $('<div class=\"btn-group inline pull-right\"></div>');\n",
       "    var button = $('<button class=\"btn btn-mini btn-primary\" href=\"#\" title=\"Stop Interaction\"><i class=\"fa fa-power-off icon-remove icon-large\"></i></button>');\n",
       "    button.click(function (evt) { fig.handle_close(fig, {}); } );\n",
       "    button.mouseover('Stop Interaction', toolbar_mouse_event);\n",
       "    buttongrp.append(button);\n",
       "    var titlebar = this.root.find($('.ui-dialog-titlebar'));\n",
       "    titlebar.prepend(buttongrp);\n",
       "}\n",
       "\n",
       "mpl.figure.prototype._root_extra_style = function(el){\n",
       "    var fig = this\n",
       "    el.on(\"remove\", function(){\n",
       "\tfig.close_ws(fig, {});\n",
       "    });\n",
       "}\n",
       "\n",
       "mpl.figure.prototype._canvas_extra_style = function(el){\n",
       "    // this is important to make the div 'focusable\n",
       "    el.attr('tabindex', 0)\n",
       "    // reach out to IPython and tell the keyboard manager to turn it's self\n",
       "    // off when our div gets focus\n",
       "\n",
       "    // location in version 3\n",
       "    if (IPython.notebook.keyboard_manager) {\n",
       "        IPython.notebook.keyboard_manager.register_events(el);\n",
       "    }\n",
       "    else {\n",
       "        // location in version 2\n",
       "        IPython.keyboard_manager.register_events(el);\n",
       "    }\n",
       "\n",
       "}\n",
       "\n",
       "mpl.figure.prototype._key_event_extra = function(event, name) {\n",
       "    var manager = IPython.notebook.keyboard_manager;\n",
       "    if (!manager)\n",
       "        manager = IPython.keyboard_manager;\n",
       "\n",
       "    // Check for shift+enter\n",
       "    if (event.shiftKey && event.which == 13) {\n",
       "        this.canvas_div.blur();\n",
       "        // select the cell after this one\n",
       "        var index = IPython.notebook.find_cell_index(this.cell_info[0]);\n",
       "        IPython.notebook.select(index + 1);\n",
       "    }\n",
       "}\n",
       "\n",
       "mpl.figure.prototype.handle_save = function(fig, msg) {\n",
       "    fig.ondownload(fig, null);\n",
       "}\n",
       "\n",
       "\n",
       "mpl.find_output_cell = function(html_output) {\n",
       "    // Return the cell and output element which can be found *uniquely* in the notebook.\n",
       "    // Note - this is a bit hacky, but it is done because the \"notebook_saving.Notebook\"\n",
       "    // IPython event is triggered only after the cells have been serialised, which for\n",
       "    // our purposes (turning an active figure into a static one), is too late.\n",
       "    var cells = IPython.notebook.get_cells();\n",
       "    var ncells = cells.length;\n",
       "    for (var i=0; i<ncells; i++) {\n",
       "        var cell = cells[i];\n",
       "        if (cell.cell_type === 'code'){\n",
       "            for (var j=0; j<cell.output_area.outputs.length; j++) {\n",
       "                var data = cell.output_area.outputs[j];\n",
       "                if (data.data) {\n",
       "                    // IPython >= 3 moved mimebundle to data attribute of output\n",
       "                    data = data.data;\n",
       "                }\n",
       "                if (data['text/html'] == html_output) {\n",
       "                    return [cell, data, j];\n",
       "                }\n",
       "            }\n",
       "        }\n",
       "    }\n",
       "}\n",
       "\n",
       "// Register the function which deals with the matplotlib target/channel.\n",
       "// The kernel may be null if the page has been refreshed.\n",
       "if (IPython.notebook.kernel != null) {\n",
       "    IPython.notebook.kernel.comm_manager.register_target('matplotlib', mpl.mpl_figure_comm);\n",
       "}\n"
      ],
      "text/plain": [
       "<IPython.core.display.Javascript object>"
      ]
     },
     "metadata": {},
     "output_type": "display_data"
    },
    {
     "data": {
      "text/html": [
       "<img src=\"data:image/png;base64,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\" width=\"639.8333333333334\">"
      ],
      "text/plain": [
       "<IPython.core.display.HTML object>"
      ]
     },
     "metadata": {},
     "output_type": "display_data"
    }
   ],
   "source": [
    " %matplotlib notebook\n",
    "import matplotlib.pyplot as plt\n",
    "plt.clf()\n",
    "plt.matshow(Sh.todense(), fignum=0, vmin=-2.7, vmax=2.7, cmap='seismic')\n",
    "plt.colorbar()\n",
    "plt.show()\n"
   ]
  },
  {
   "cell_type": "code",
   "execution_count": null,
   "metadata": {},
   "outputs": [],
   "source": []
  }
 ],
 "metadata": {
  "celltoolbar": "Tags",
  "kernelspec": {
   "display_name": "Python 3",
   "language": "python",
   "name": "python3"
  },
  "language_info": {
   "codemirror_mode": {
    "name": "ipython",
    "version": 3
   },
   "file_extension": ".py",
   "mimetype": "text/x-python",
   "name": "python",
   "nbconvert_exporter": "python",
   "pygments_lexer": "ipython3",
   "version": "3.8.10"
  },
  "latex_envs": {
   "LaTeX_envs_menu_present": true,
   "autoclose": true,
   "autocomplete": true,
   "bibliofile": "biblio.bib",
   "cite_by": "apalike",
   "current_citInitial": 1,
   "eqLabelWithNumbers": true,
   "eqNumInitial": 1,
   "hotkeys": {
    "equation": "Ctrl-E",
    "itemize": "Ctrl-I"
   },
   "labels_anchors": false,
   "latex_user_defs": false,
   "report_style_numbering": true,
   "user_envs_cfg": false
  },
  "toc": {
   "base_numbering": 1,
   "nav_menu": {},
   "number_sections": true,
   "sideBar": true,
   "skip_h1_title": false,
   "title_cell": "Table of Contents",
   "title_sidebar": "Contents",
   "toc_cell": false,
   "toc_position": {},
   "toc_section_display": true,
   "toc_window_display": false
  },
  "varInspector": {
   "cols": {
    "lenName": 16,
    "lenType": 16,
    "lenVar": 40
   },
   "kernels_config": {
    "python": {
     "delete_cmd_postfix": "",
     "delete_cmd_prefix": "del ",
     "library": "var_list.py",
     "varRefreshCmd": "print(var_dic_list())"
    },
    "r": {
     "delete_cmd_postfix": ") ",
     "delete_cmd_prefix": "rm(",
     "library": "var_list.r",
     "varRefreshCmd": "cat(var_dic_list()) "
    }
   },
   "oldHeight": 512.016666,
   "position": {
    "height": "40px",
    "left": "1490px",
    "right": "20px",
    "top": "120px",
    "width": "250px"
   },
   "types_to_exclude": [
    "module",
    "function",
    "builtin_function_or_method",
    "instance",
    "_Feature"
   ],
   "varInspector_section_display": "none",
   "window_display": true
  }
 },
 "nbformat": 4,
 "nbformat_minor": 4
}
