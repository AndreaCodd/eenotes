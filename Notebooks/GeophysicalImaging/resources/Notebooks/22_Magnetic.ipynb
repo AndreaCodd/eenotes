{
 "cells": [
  {
   "cell_type": "markdown",
   "metadata": {
    "toc": true
   },
   "source": [
    "<h1>Modeling Magnetic Anomalies<span class=\"tocSkip\"></span></h1>\n",
    "<div class=\"toc\"><ul class=\"toc-item\"><li><span><a href=\"#Modeling-Magnetic-Anomalies\" data-toc-modified-id=\"Modeling-Magnetic-Anomalies-1\"><span class=\"toc-item-num\">1&nbsp;&nbsp;</span>Modeling Magnetic Anomalies</a></span><ul class=\"toc-item\"><li><span><a href=\"#Theoretical-Background\" data-toc-modified-id=\"Theoretical-Background-1.1\"><span class=\"toc-item-num\">1.1&nbsp;&nbsp;</span>Theoretical Background</a></span></li><li><span><a href=\"#In-the-esys.escript-form\" data-toc-modified-id=\"In-the-esys.escript-form-1.2\"><span class=\"toc-item-num\">1.2&nbsp;&nbsp;</span>In the <code>esys.escript</code> form</a></span></li><li><span><a href=\"#Domain\" data-toc-modified-id=\"Domain-1.3\"><span class=\"toc-item-num\">1.3&nbsp;&nbsp;</span>Domain</a></span></li><li><span><a href=\"#Solution-of-PDE\" data-toc-modified-id=\"Solution-of-PDE-1.4\"><span class=\"toc-item-num\">1.4&nbsp;&nbsp;</span>Solution of PDE</a></span></li><li><span><a href=\"#Magenetic-Anomaly\" data-toc-modified-id=\"Magenetic-Anomaly-1.5\"><span class=\"toc-item-num\">1.5&nbsp;&nbsp;</span>Magenetic Anomaly</a></span></li><li><span><a href=\"#Transect\" data-toc-modified-id=\"Transect-1.6\"><span class=\"toc-item-num\">1.6&nbsp;&nbsp;</span>Transect</a></span></li><li><span><a href=\"#Total-Magnetic-Anomaly-at-Different-Locations\" data-toc-modified-id=\"Total-Magnetic-Anomaly-at-Different-Locations-1.7\"><span class=\"toc-item-num\">1.7&nbsp;&nbsp;</span>Total Magnetic Anomaly at Different Locations</a></span></li></ul></li></ul></div>"
   ]
  },
  {
   "cell_type": "markdown",
   "metadata": {},
   "source": [
    "by Lutz Gross, The University of Queensland, Australia\n",
    "<a href=\"mailto:l.gross@uq.edu.au\">l.gross@uq.edu.au</a>\n",
    "<a rel=\"license\" href=\"http://creativecommons.org/licenses/by-sa/4.0/\"><img alt=\"Creative Commons License\" style=\"border-width:0\" src=\"https://i.creativecommons.org/l/by-sa/4.0/88x31.png\" /></a><br />This work is licensed under a <a rel=\"license\" href=\"http://creativecommons.org/licenses/by-sa/4.0/\">Creative Commons Attribution-ShareAlike 4.0 International License</a>."
   ]
  },
  {
   "cell_type": "markdown",
   "metadata": {},
   "source": [
    "# Modeling Magnetic Anomalies\n",
    "\n",
    "In this section we discuss how to solve PDE for magnetic field anomalies due to a variation of\n",
    "the magnetic susceptibility in the subsurface using `esys.escript`. It is assumed that you have \n",
    "worked through the [introduction section on `esys.escript`](escriptBasics.ipynb). \n",
    "First we will provide the basic theory:"
   ]
  },
  {
   "cell_type": "markdown",
   "metadata": {},
   "source": [
    "## Theoretical Background\n",
    "The observed magnetic field results $\\mathbf{B}_t$ from the interaction\n",
    "between the Earth's background field $\\mathbf{B}_b$ and the magnetisation $\\mathbf{M}$. \n",
    "Under the assumption of a small magnetisation the  \n",
    "magnetisation is given as \n",
    "\\begin{equation} \n",
    "\\mathbf{M} = k \\mathbf{B}_b\n",
    "\\end{equation}\n",
    "where $k \\ge 0$ is the magnetic susceptibility. \n",
    "The magnetisation induces a total magnetic field $\\mathbf{B}_t$ which can be decomposed in the background field $\\mathbf{B}_b$ and \n",
    "the magnetic anomaly field $\\mathbf{B}_a$:\n",
    "\\begin{align} \n",
    "\\mathbf{B}_t & = \\mathbf{B}_b + \\mathbf{B}_a\n",
    "\\end{align}\n",
    "In the SI system $\\mathbf{B}$ has the units is in Tesla $T$. The Earth's background field $\\mathbf{B}_b$ varies between $25,000$ and $65,000 nT$ ($nT = 10^{-9} T $ refers to *nano Tesla*) \n",
    "\n",
    "The total magnetic field anomaly $b_a$ is the difference of the intensity of the \n",
    "total magnetic field $\\mathbf{B}$ and of the background field $\\mathbf{B}_H$: \n",
    "\\begin{equation} \n",
    "b_a=|\\mathbf{B}_t|-|\\mathbf{B}_b| \n",
    "\\end{equation}\n",
    "where in 2D with $x_0$ parallel to Earth surface (e.g. North-South) and $x_1$ upwards.\n",
    "\\begin{equation} \n",
    "|\\mathbf{B}| = \\sqrt{B_x^2 + B_z^2} \\mbox{ if }  \\mathbf{B}=[B_0, B_1]^T\n",
    "\\end{equation}\n",
    "For a small anomaly field the following approximation\n",
    "\\begin{equation} \n",
    "b_a=\\frac{\\mathbf{B}_b^T}{|\\mathbf{B}_b|} \\mathbf{B}_a\n",
    "\\end{equation}\n",
    "can be used.\n",
    "The total magnetic field anomaly $b_a$ is what is measured in the field.\n",
    "\n",
    "The Gauss's law for magnetism states that the magnetic flux $\\mathbf{B}_f=\\mathbf{B}_t+\\mathbf{M}$\n",
    "is divergence free:\n",
    "\\begin{equation} \n",
    "\\nabla^t \\mathbf{B}_f = 0\n",
    "\\end{equation}\n",
    "Assuming that $\\nabla^t \\mathbf{B}_b=0$ this simplifies to  \n",
    "\\begin{equation} \\label{EQGAUSS}\n",
    "\\nabla^t  (\\mathbf{B}_a + k \\mathbf{B}_b )  = 0\n",
    "\\end{equation}\n",
    "Analogously to gravity one can introduce a scalar potential $U$ with \n",
    "\\begin{equation} \\label{EQPOTENTIAL}\n",
    "\\mathbf{B}_a = - \\nabla U = (-\\frac{\\partial U}{\\partial x}, -\\frac{\\partial U}{\\partial z})\n",
    "\\end{equation}\n",
    "in the 2D case. Equations \\eqref{EQGAUSS} and \\eqref{EQPOTENTIAL} form a PDE for the scalar potential $U$."
   ]
  },
  {
   "cell_type": "markdown",
   "metadata": {},
   "source": [
    "## In the `esys.escript` form\n",
    "\n",
    "We use a local Cartesian coordinate system with $x_0$ being the south-north (SN) direction and $x_1$ upwards.\n",
    "\n",
    "Recall the `esys.escript` PDE template: When $u$ is the unknown\n",
    "the `flux` vector $\\mathbf{F}$ is defined as \n",
    "\\begin{equation} \\label{EQFLUX}\n",
    "\\mathbf{F} = - \\mathbf{A} \\mathbf{\\nabla} u +\\mathbf{X}\n",
    "\\end{equation} \n",
    "with some matrix $\\mathbf{A}$ and some vector $\\mathbf{X}$. Then the flux vector $\\mathbf{F}$ needs to fulfill the conservation equation : \n",
    "\\begin{equation}\\label{EQCONSERVATION}\n",
    "\\mathbf{\\nabla}^t \\; \\mathbf{F} + D \\; u = Y \n",
    "\\end{equation}\n",
    "where $D$ is a scalar and $Y$ is the right hand side. \n",
    "\n",
    "We identify the flux $\\mathbf{F}$ from \\eqref{EQGAUSS} as $\\mathbf{B}_a + k \\mathbf{B}_b$ which gives \n",
    "with \\eqref{EQPOTENTIAL}\n",
    "\\begin{equation} \\label{EQFLUX2}\n",
    "\\mathbf{F} = -  \\mathbf{\\nabla} U +k \\mathbf{B}_b\n",
    "\\end{equation} \n",
    "from which we see that we need to choose \n",
    "$\\mathbf{A}$ as the identity matrix and $\\mathbf{X}=k \\mathbf{B}_b$ (that is the magnetization). \n",
    "In this case it is $D=0$ and $Y=0$."
   ]
  },
  {
   "cell_type": "markdown",
   "metadata": {},
   "source": [
    "## Domain\n",
    "\n",
    "For a domain of $20 \\times 20 km$ we want to model the total magnetic field anomaly $b_a$ over a horizontal \n",
    "transect. The transect is located at a height of $H_0=12000m$ above the bottom edge of the domain and\n",
    "is assumed to define the surface of the Earth. \n",
    "The magnetic anomaly is produced by a vertical dyke of width $w=60m$ where the top end \n",
    "of the dyke is located at a depth $D=1000m$ below the surface along the vertical center line of the domain\n",
    "(at $x_0=5000m$). It is assumed that a 2D model is sufficient.\n",
    "Of particular interest is the question how the total magnetic field response of the dyke \n",
    "would eb different at the North Pole, the South Pole and the equator.\n",
    "\n",
    "<img src=\"./Data/IMAGE_Dyke.jpg\">\n",
    "\n"
   ]
  },
  {
   "cell_type": "code",
   "execution_count": 3,
   "metadata": {},
   "outputs": [],
   "source": [
    "L0=20000       # horizonal length of domain [m]\n",
    "L1=20000       # vertical length of domain [m]\n",
    "\n",
    "NE0=250        # number of element in horizontal x0 direction\n",
    "NE1=250        # number of element in vertical x1 direction\n",
    "\n",
    "\n",
    "\n",
    "b_b=45000.0    # =length(B_b) = intensity of the background magnetic field in nT\n",
    "\n",
    "k_dyke=0.05    # susceptibility in the dyke\n",
    "H_dyke=12000   # height [m] of the top of the dyke from the bottom of the domain\n",
    "w_dyke_NE=5    # width of the dyke expressed in number of elements\n",
    "\n",
    "D=500          # distance [m] of transect above top of dyke"
   ]
  },
  {
   "cell_type": "markdown",
   "metadata": {},
   "source": [
    "Before we can do any modeling we need to set up the domain. This analogously to the gravity case."
   ]
  },
  {
   "cell_type": "code",
   "execution_count": 1,
   "metadata": {},
   "outputs": [],
   "source": [
    "import numpy as np\n",
    "from esys.escript import *\n",
    "from esys.finley import Rectangle"
   ]
  },
  {
   "cell_type": "markdown",
   "metadata": {},
   "source": [
    "Set up the domain:"
   ]
  },
  {
   "cell_type": "code",
   "execution_count": 4,
   "metadata": {
    "tags": [
     "SOLUTION"
    ]
   },
   "outputs": [],
   "source": [
    "domain=Rectangle(n0=NE0, n1=NE1, l0=L0, l1=L1)"
   ]
  },
  {
   "cell_type": "markdown",
   "metadata": {},
   "source": [
    "We recover the element edge length in horizontal direction `h0` and in vertical direction `h1`: "
   ]
  },
  {
   "cell_type": "code",
   "execution_count": 5,
   "metadata": {
    "tags": [
     "SOLUTION"
    ]
   },
   "outputs": [],
   "source": [
    "h0, h1= L0/NE0, L1/NE1"
   ]
  },
  {
   "cell_type": "code",
   "execution_count": 6,
   "metadata": {
    "tags": [
     "SOLUTION"
    ]
   },
   "outputs": [
    {
     "data": {
      "text/plain": [
       "80.0"
      ]
     },
     "execution_count": 6,
     "metadata": {},
     "output_type": "execute_result"
    }
   ],
   "source": [
    "h0"
   ]
  },
  {
   "cell_type": "markdown",
   "metadata": {},
   "source": [
    "## Solution of PDE\n",
    "\n",
    "Now we are ready to set up the PDE we need to solve to obtain the scalar potential $U$ for the \n",
    "magnetic field anomaly $\\mathbf{B}_a$:"
   ]
  },
  {
   "cell_type": "code",
   "execution_count": 7,
   "metadata": {
    "tags": [
     "SOLUTION"
    ]
   },
   "outputs": [],
   "source": [
    "from esys.escript.linearPDEs import LinearSinglePDE\n",
    "\n",
    "model=LinearSinglePDE(domain)"
   ]
  },
  {
   "cell_type": "markdown",
   "metadata": {},
   "source": [
    "The easy bit is to `A`. It is the same as in the gravity case: \n",
    "\\begin{equation}\n",
    "\\begin{bmatrix}\n",
    "A_{00} & A_{01} \\\\\n",
    "A_{10}  & A_{11} \n",
    "\\end{bmatrix}= \n",
    "\\begin{bmatrix}\n",
    "1 & 0  \\\\\n",
    "0  & 1 \n",
    "\\end{bmatrix}\n",
    "\\end{equation}"
   ]
  },
  {
   "cell_type": "code",
   "execution_count": 8,
   "metadata": {
    "tags": [
     "SOLUTION"
    ]
   },
   "outputs": [],
   "source": [
    "model.setValue(A=np.eye(domain.getDim()))"
   ]
  },
  {
   "cell_type": "markdown",
   "metadata": {},
   "source": [
    "Again we fix the potential to zero at the top and the bottom of the domain:"
   ]
  },
  {
   "cell_type": "code",
   "execution_count": null,
   "metadata": {
    "tags": [
     "SOLUTION"
    ]
   },
   "outputs": [],
   "source": [
    "x=domain.getX()\n",
    "q_bottom=whereZero(x[1])     # 1 for face x_1=0\n",
    "q_top=whereZero(x[1]-L1)  # 1 for face x_1=Lz\n",
    "\n",
    "model.setValue(q=q_bottom+q_top)"
   ]
  },
  {
   "cell_type": "markdown",
   "metadata": {},
   "source": [
    "The magnetization $\\mathbf{M}$ is defined as product of the \n",
    "background magnetic field $\\mathbf{B}_b$ \n",
    "and the susceptibility $k$. As shown earlier this becomes the value for $\\mathbf{X}$\n",
    "in the PDE template.\n",
    "\n",
    "We start with defintition of the susceptibility $k$. We want this to have the value\n",
    "`k_dyke` at locations in the dyke and zero elsewhere.\n",
    "The location of the dyke is defined for locations $(x_0, x_1)$ for which\n",
    "the vertical coordinate $x_1$ is below $H_0$ and which horizontal \n",
    "coordinate $x_0$ has a distance from the central vertical axis at $x_0=\\frac{L0}{2}$ lower then\n",
    "half of the dyke width $w$ which is `w=w_NE * h0`. \n",
    "\n",
    "This time we define the susceptibility at the center of elements:"
   ]
  },
  {
   "cell_type": "code",
   "execution_count": 9,
   "metadata": {
    "tags": [
     "SOLUTION"
    ]
   },
   "outputs": [],
   "source": [
    "X=ReducedFunction(domain).getX()"
   ]
  },
  {
   "cell_type": "markdown",
   "metadata": {},
   "source": [
    "First we mark all elements with a center below `H_dyke` the level of the transect."
   ]
  },
  {
   "cell_type": "code",
   "execution_count": 10,
   "metadata": {
    "tags": [
     "SOLUTION"
    ]
   },
   "outputs": [],
   "source": [
    "m1=whereNegative(X[1]-H_dyke) # 1 IF X_1<TOP OF DYKE"
   ]
  },
  {
   "cell_type": "markdown",
   "metadata": {},
   "source": [
    "As second condition we want to have a positive susceptibility $k$ only for those location that are \n",
    "less then $\\frac{w}{2}$ away from the central vertical line at $x_0=\\frac{L0}{2}$ that means \n",
    "that \n",
    "\\begin{equation}\n",
    "| x_0 -  \\frac{L0}{2} | < \\frac{w}{2}\n",
    "\\end{equation}\n",
    "which is implemented using the `whereNegative` once again: "
   ]
  },
  {
   "cell_type": "code",
   "execution_count": 11,
   "metadata": {
    "tags": [
     "SOLUTION"
    ]
   },
   "outputs": [],
   "source": [
    "w=w_dyke_NE * h0\n",
    "m2=whereNegative(abs(X[0]-L0/2)-w/2) # 1 for L0/2-w/2 < x[0] < L0/2+w/2"
   ]
  },
  {
   "cell_type": "markdown",
   "metadata": {},
   "source": [
    "Now the product The susceptibility $k$ is then set to:"
   ]
  },
  {
   "cell_type": "code",
   "execution_count": 12,
   "metadata": {
    "tags": [
     "SOLUTION"
    ]
   },
   "outputs": [],
   "source": [
    "k=k_dyke*m1*m2"
   ]
  },
  {
   "cell_type": "markdown",
   "metadata": {},
   "source": [
    "Let's quickly check if we have done the right thing and plot the distribution of `k` with\n",
    "`matplotlib`:"
   ]
  },
  {
   "cell_type": "code",
   "execution_count": 13,
   "metadata": {},
   "outputs": [],
   "source": [
    "#%matplotlib notebook # activate for interactive plots\n",
    "import matplotlib.pyplot as plt"
   ]
  },
  {
   "cell_type": "markdown",
   "metadata": {},
   "source": [
    "Again we first need to convert `k` and the locations where values are stored into `numpy` arrays: "
   ]
  },
  {
   "cell_type": "code",
   "execution_count": 14,
   "metadata": {
    "tags": [
     "SOLUTION"
    ]
   },
   "outputs": [],
   "source": [
    "k_np=convertToNumpy(k)\n",
    "x_np=convertToNumpy(k.getX())"
   ]
  },
  {
   "cell_type": "markdown",
   "metadata": {},
   "source": [
    "And then we can create a contour plot:"
   ]
  },
  {
   "cell_type": "code",
   "execution_count": 15,
   "metadata": {},
   "outputs": [
    {
     "data": {
      "text/plain": [
       "Text(0.5, 1.0, 'susceptibility distribution')"
      ]
     },
     "execution_count": 15,
     "metadata": {},
     "output_type": "execute_result"
    },
    {
     "data": {
      "image/png": "[encoded data removed]",
      "text/plain": [
       "<Figure size 432x288 with 2 Axes>"
      ]
     },
     "metadata": {
      "needs_background": "light"
     },
     "output_type": "display_data"
    }
   ],
   "source": [
    "plt.figure()\n",
    "plt.tricontourf(x_np[0], x_np[1], k_np[0], 15)\n",
    "plt.xlabel('x [m]')\n",
    "plt.ylabel('y [m]')\n",
    "plt.colorbar()\n",
    "plt.title(\"susceptibility distribution\")"
   ]
  },
  {
   "cell_type": "markdown",
   "metadata": {},
   "source": [
    "The background magnetic field $\\mathbf{B}_b$ in the $x_0x_1$-plane (which is the plane we are using here) is given\n",
    "\\begin{equation} \n",
    "\\mathbf{B}_g = b_b \\begin{bmatrix}\n",
    "-cos(\\Theta)\\\\\n",
    "sin(\\Theta)\n",
    "\\end{bmatrix}\n",
    "\\end{equation} \n",
    "where $b_b$ is the background magnetic field intensity and $\\Theta$ is the inclination angle. \n",
    "Notice \n",
    " - $\\Theta=0^o$ refers to equator (SN - magnetic field)\n",
    " - $\\Theta=90^o$ refers to North Pole (upwards vertical - magnetic field)\n",
    " - $\\Theta=-90^o$ refers to South Pole (downwards vertical - magnetic field),\n",
    "\n",
    "With $x=x_0$ has horizontal direction and $y=x_1$ downwards direction\n",
    "<img src=\"./Data/IMAGE_CS1.png\">"
   ]
  },
  {
   "cell_type": "code",
   "execution_count": 16,
   "metadata": {},
   "outputs": [],
   "source": [
    "THETA_BNE = 57. # background mag. field inclination angle Brisbane in deg\n",
    "THETA=THETA_BNE"
   ]
  },
  {
   "cell_type": "markdown",
   "metadata": {},
   "source": [
    "The vector of orientation of the background magnetic field is  is given as \n",
    "$$ \\mathbf{N}= \\begin{bmatrix}\n",
    "-cos(\\Theta)\\\\\n",
    "sin(\\Theta)\n",
    "\\end{bmatrix}\n",
    "$$"
   ]
  },
  {
   "cell_type": "code",
   "execution_count": 17,
   "metadata": {
    "tags": [
     "SOLUTION"
    ]
   },
   "outputs": [
    {
     "data": {
      "text/plain": [
       "[-0.5446390350150271, 0.838670567945424]"
      ]
     },
     "execution_count": 17,
     "metadata": {},
     "output_type": "execute_result"
    }
   ],
   "source": [
    "THETA_RAD=np.deg2rad(THETA)\n",
    "N=[-np.cos(THETA_RAD), np.sin(THETA_RAD) ]\n",
    "N"
   ]
  },
  {
   "cell_type": "markdown",
   "metadata": {},
   "source": [
    "The magnetisation  $\\mathbf{M} = k \\mathbf{B}_b$ sets the coefficient `X`. \n",
    "We need to set this on integration points enforced by using `Function(domain)` as `FunctionSpace` attribute:  "
   ]
  },
  {
   "cell_type": "code",
   "execution_count": 18,
   "metadata": {
    "tags": [
     "SOLUTION"
    ]
   },
   "outputs": [],
   "source": [
    "B_b=b_b*Vector(N, Function(domain))\n",
    "model.setValue(X=k*B_b)"
   ]
  },
  {
   "cell_type": "markdown",
   "metadata": {},
   "source": [
    "Notice that in the product `k*B_b` the `FunctionSpace` attributes do not match. Behind the scene an interpolation is applied in the sense that the value of `k` at the element centers are copied to the numerical integration points assuming that the value of susceptibility is constant within each element.   "
   ]
  },
  {
   "cell_type": "markdown",
   "metadata": {},
   "source": [
    "Finally we need to set Dirichlet-type boundary conditions. In this case the potential is set to zero \n",
    "at the top and bottom of the domain. This applies to the FEM nodes with $x_1=0$ or $x_1=L1$. Again we use masks \n",
    "to do this:"
   ]
  },
  {
   "cell_type": "code",
   "execution_count": 19,
   "metadata": {
    "run_control": {
     "marked": false
    },
    "tags": [
     "SOLUTION"
    ]
   },
   "outputs": [],
   "source": [
    "x=domain.getX()\n",
    "q_bottom=whereZero(x[1])     # 1 for face x_1=0\n",
    "q_top=whereZero(x[1]-L1)  # 1 for face x_1=L1"
   ]
  },
  {
   "cell_type": "markdown",
   "metadata": {},
   "source": [
    "The mask to mark  Dirichlet-type boundary conditions is then the sum of `q_bottom` and `q_top`:"
   ]
  },
  {
   "cell_type": "code",
   "execution_count": 20,
   "metadata": {
    "tags": [
     "SOLUTION"
    ]
   },
   "outputs": [],
   "source": [
    "model.setValue(q=q_bottom+q_top)"
   ]
  },
  {
   "cell_type": "markdown",
   "metadata": {},
   "source": [
    "Now we solve the PDE to get the magnetic potential $u$:"
   ]
  },
  {
   "cell_type": "code",
   "execution_count": 21,
   "metadata": {
    "tags": [
     "SOLUTION"
    ]
   },
   "outputs": [],
   "source": [
    "u=model.getSolution()"
   ]
  },
  {
   "cell_type": "markdown",
   "metadata": {},
   "source": [
    "## Magenetic Anomaly\n",
    "Now we can get magenetic anomaly field $\\mathbf{B}_a$ as the gradient of the scalar potential. Here we calculate\n",
    "the gradient at the center of elements:"
   ]
  },
  {
   "cell_type": "code",
   "execution_count": 22,
   "metadata": {
    "tags": [
     "SOLUTION"
    ]
   },
   "outputs": [],
   "source": [
    "B_a=-grad(u, where=ReducedFunction(domain))"
   ]
  },
  {
   "cell_type": "code",
   "execution_count": 23,
   "metadata": {},
   "outputs": [
    {
     "data": {
      "text/plain": [
       "<matplotlib.quiver.Quiver at 0x7fb5e91517f0>"
      ]
     },
     "execution_count": 23,
     "metadata": {},
     "output_type": "execute_result"
    },
    {
     "data": {
      "image/png": "[encoded data removed]",
      "text/plain": [
       "<Figure size 432x288 with 1 Axes>"
      ]
     },
     "metadata": {
      "needs_background": "light"
     },
     "output_type": "display_data"
    }
   ],
   "source": [
    "B_a_np=convertToNumpy(B_a)\n",
    "X_np=convertToNumpy(B_a.getX())\n",
    "\n",
    "plt.figure()\n",
    "plt.xlabel('$x_0$ [m]')\n",
    "plt.ylabel('$x_1$ [m]')\n",
    "plt.quiver(X_np[0,::10], X_np[1,::10], B_a_np[0, ::10], B_a_np[1,::10])"
   ]
  },
  {
   "cell_type": "markdown",
   "metadata": {},
   "source": [
    "We want to get the total magnetic field anomaly $b_a$ which we can calculate as $b_a=\\mathbf{N}^T \\mathbf{B}_a$ \n",
    "as $\\mathbf{N} = \\frac{\\mathbf{B}_b}{|\\mathbf{B}_b|} $ is the orienation of the background magnetic field. "
   ]
  },
  {
   "cell_type": "code",
   "execution_count": 24,
   "metadata": {},
   "outputs": [],
   "source": [
    "b_a=inner(B_a, Vector(N, B_a.getFunctionSpace()))"
   ]
  },
  {
   "cell_type": "code",
   "execution_count": 25,
   "metadata": {},
   "outputs": [
    {
     "data": {
      "text/plain": [
       "<matplotlib.colorbar.Colorbar at 0x7fb5e907d040>"
      ]
     },
     "execution_count": 25,
     "metadata": {},
     "output_type": "execute_result"
    },
    {
     "data": {
      "image/png": "[encoded data removed]",
      "text/plain": [
       "<Figure size 432x288 with 2 Axes>"
      ]
     },
     "metadata": {
      "needs_background": "light"
     },
     "output_type": "display_data"
    }
   ],
   "source": [
    "plt.figure()\n",
    "contour=plt.tricontourf(X_np[0], X_np[1], convertToNumpy(b_a)[0], 15)\n",
    "plt.xlabel('$x_0$ [m]')\n",
    "plt.ylabel('$x_1$ [m]')\n",
    "plt.colorbar(contour)"
   ]
  },
  {
   "cell_type": "markdown",
   "metadata": {},
   "source": [
    "## Transect \n",
    "\n",
    "The total magnetic field anomaly $b_a$ is calculated and its values are picked along the transect.\n",
    "We need to define points of the transect and we try to pick the element centers at a height `D` above the top of the dyke. \n",
    "First we create the $x_0$ coordinates starting from $h0/2$ which is the $x_0$ of the \n",
    "first element center:"
   ]
  },
  {
   "cell_type": "code",
   "execution_count": 26,
   "metadata": {},
   "outputs": [],
   "source": [
    "x0_transect=np.linspace(h0/2, L0-h0/2, NE0)"
   ]
  },
  {
   "cell_type": "markdown",
   "metadata": {},
   "source": [
    "Here we also define the `Locator` to pick the values for the total magnetic field anomaly `b_a`  from a \n",
    "`Data` object. Again we first create the offsets along the transect."
   ]
  },
  {
   "cell_type": "code",
   "execution_count": 28,
   "metadata": {
    "tags": [
     "SOLUTION"
    ]
   },
   "outputs": [],
   "source": [
    "from esys.escript.pdetools import Locator\n",
    "point_locator=Locator(where=b_a.getFunctionSpace(), x=x0_transect)"
   ]
  },
  {
   "cell_type": "markdown",
   "metadata": {},
   "source": [
    "We then add the appropriate $x_1$ coordinate (=`H_dyke+D`) to build up the 2D coordinates in the domain: "
   ]
  },
  {
   "cell_type": "code",
   "execution_count": 29,
   "metadata": {
    "tags": [
     "SOLUTION"
    ]
   },
   "outputs": [],
   "source": [
    "x_transect=[ (x0, H_dyke+D) for x0 in x0_transect]"
   ]
  },
  {
   "cell_type": "markdown",
   "metadata": {},
   "source": [
    "Now we are ready to create the `Locator` named `transect_locator` which we use to fetch the values \n",
    "of the total magnetic field anomaly $b_a$ along the transect:"
   ]
  },
  {
   "cell_type": "code",
   "execution_count": 30,
   "metadata": {
    "tags": [
     "SOLUTION"
    ]
   },
   "outputs": [],
   "source": [
    "from esys.escript.pdetools import Locator\n",
    "transect_locator=Locator(where=b_a.getFunctionSpace(), x=x_transect )"
   ]
  },
  {
   "cell_type": "markdown",
   "metadata": {},
   "source": [
    "And then we can pick the values of `b_a` along the transect:"
   ]
  },
  {
   "cell_type": "code",
   "execution_count": 31,
   "metadata": {},
   "outputs": [],
   "source": [
    "b_a_transect=transect_locator.getValue(b_a)"
   ]
  },
  {
   "cell_type": "markdown",
   "metadata": {},
   "source": [
    "The `transect_locator` could have moved the requested point `x_transect` locations toward \n",
    "element centers so we get the true $x_0$-coordinates (=offset within the transect) which we use for plotting:"
   ]
  },
  {
   "cell_type": "code",
   "execution_count": 32,
   "metadata": {
    "tags": [
     "SOLUTION"
    ]
   },
   "outputs": [],
   "source": [
    "x0_transect=[ x[0] for x in transect_locator.getX()]"
   ]
  },
  {
   "cell_type": "markdown",
   "metadata": {},
   "source": [
    "Now we can plot the total magnetic field anomaly along the transect: "
   ]
  },
  {
   "cell_type": "code",
   "execution_count": 33,
   "metadata": {
    "tags": [
     "SOLUTION"
    ]
   },
   "outputs": [
    {
     "data": {
      "text/plain": [
       "Text(0.5, 1.0, 'total magnetic field anomaly for dyke at Brisbane')"
      ]
     },
     "execution_count": 33,
     "metadata": {},
     "output_type": "execute_result"
    },
    {
     "data": {
      "image/png": "[encoded data removed]",
      "text/plain": [
       "<Figure size 432x288 with 1 Axes>"
      ]
     },
     "metadata": {
      "needs_background": "light"
     },
     "output_type": "display_data"
    }
   ],
   "source": [
    "plt.figure()\n",
    "plt.plot(x0_transect, b_a_transect)\n",
    "plt.xlabel('offset [m]')\n",
    "plt.ylabel('total anomaly  [nT]')\n",
    "plt.title(\"total magnetic field anomaly for dyke at Brisbane\")"
   ]
  },
  {
   "cell_type": "markdown",
   "metadata": {},
   "source": [
    "## Total Magnetic Anomaly at Different Locations\n",
    "\n",
    "We want compare the total magnetic field anomaly transect $b_a$ we have just calculated \n",
    "at different locations on the Earth. For this we need the inclination of the background magnetic field\n",
    "at these locations. \n",
    "\n",
    "To simplify the coding we write a function `getTotalMagneticFieldAnomaly` that takes a\n",
    "inclination angle (and background magnetic field anomaly `b_0=b_b`) and returns the total magnetic field anomaly along the transect."
   ]
  },
  {
   "cell_type": "code",
   "execution_count": 34,
   "metadata": {
    "tags": [
     "SOLUTION"
    ]
   },
   "outputs": [],
   "source": [
    "def getTotalMagneticFieldAnomaly(THETA, b_0=b_b):\n",
    "    THETA_RAD=np.deg2rad(THETA)\n",
    "    N=[-np.cos(THETA_RAD), np.sin(THETA_RAD) ]\n",
    "    B_b=b_0*Vector(N, Function(domain))\n",
    "    model.setValue(X=k*B_b)\n",
    "    u=model.getSolution()\n",
    "    B_a=-grad(u, where=ReducedFunction(domain))\n",
    "    b_a=inner(B_a, Vector(N, B_a.getFunctionSpace()))\n",
    "    b_a_transect=transect_locator.getValue(b_a)\n",
    "    return b_a_transect"
   ]
  },
  {
   "cell_type": "code",
   "execution_count": 35,
   "metadata": {
    "tags": [
     "SOLUTION"
    ]
   },
   "outputs": [
    {
     "data": {
      "text/plain": [
       "<matplotlib.legend.Legend at 0x7fb5e90250d0>"
      ]
     },
     "execution_count": 35,
     "metadata": {},
     "output_type": "execute_result"
    },
    {
     "data": {
      "image/png": "[encoded data removed]",
      "text/plain": [
       "<Figure size 432x288 with 1 Axes>"
      ]
     },
     "metadata": {
      "needs_background": "light"
     },
     "output_type": "display_data"
    }
   ],
   "source": [
    "plt.figure()\n",
    "plt.plot(x0_transect, getTotalMagneticFieldAnomaly(THETA=-90), label=\"north pole\")\n",
    "plt.plot(x0_transect, getTotalMagneticFieldAnomaly(THETA=-54), label=\"Beijing\")\n",
    "plt.plot(x0_transect, getTotalMagneticFieldAnomaly(THETA=0), label=\"equator\")\n",
    "plt.plot(x0_transect, getTotalMagneticFieldAnomaly(THETA=57.), label=\"Brisbane\")\n",
    "plt.xlabel('offset [m]')\n",
    "plt.ylabel('total anomaly  [nT]')\n",
    "plt.title(\"total magnetic field anomaly for dyke\")\n",
    "plt.legend()"
   ]
  },
  {
   "cell_type": "code",
   "execution_count": null,
   "metadata": {},
   "outputs": [],
   "source": []
  }
 ],
 "metadata": {
  "celltoolbar": "Tags",
  "kernelspec": {
   "display_name": "Python 3",
   "language": "python",
   "name": "python3"
  },
  "language_info": {
   "codemirror_mode": {
    "name": "ipython",
    "version": 3
   },
   "file_extension": ".py",
   "mimetype": "text/x-python",
   "name": "python",
   "nbconvert_exporter": "python",
   "pygments_lexer": "ipython3",
   "version": "3.8.10"
  },
  "latex_envs": {
   "LaTeX_envs_menu_present": true,
   "autoclose": false,
   "autocomplete": true,
   "bibliofile": "biblio.bib",
   "cite_by": "apalike",
   "current_citInitial": 1,
   "eqLabelWithNumbers": true,
   "eqNumInitial": 1,
   "hotkeys": {
    "equation": "Ctrl-E",
    "itemize": "Ctrl-I"
   },
   "labels_anchors": false,
   "latex_user_defs": false,
   "report_style_numbering": false,
   "user_envs_cfg": false
  },
  "toc": {
   "base_numbering": 1,
   "nav_menu": {},
   "number_sections": true,
   "sideBar": false,
   "skip_h1_title": false,
   "title_cell": "Modeling Magnetic Anomalies",
   "title_sidebar": "Contents",
   "toc_cell": true,
   "toc_position": {},
   "toc_section_display": false,
   "toc_window_display": false
  },
  "varInspector": {
   "cols": {
    "lenName": 16,
    "lenType": 16,
    "lenVar": 40
   },
   "kernels_config": {
    "python": {
     "delete_cmd_postfix": "",
     "delete_cmd_prefix": "del ",
     "library": "var_list.py",
     "varRefreshCmd": "print(var_dic_list())"
    },
    "r": {
     "delete_cmd_postfix": ") ",
     "delete_cmd_prefix": "rm(",
     "library": "var_list.r",
     "varRefreshCmd": "cat(var_dic_list()) "
    }
   },
   "position": {
    "height": "752.85px",
    "left": "1496px",
    "right": "20px",
    "top": "132px",
    "width": "350px"
   },
   "types_to_exclude": [
    "module",
    "function",
    "builtin_function_or_method",
    "instance",
    "_Feature"
   ],
   "window_display": false
  }
 },
 "nbformat": 4,
 "nbformat_minor": 2
}
