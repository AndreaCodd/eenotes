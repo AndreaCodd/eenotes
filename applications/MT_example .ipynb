{
 "cells": [
  {
   "cell_type": "markdown",
   "id": "31e54191-88eb-46db-a4be-a7df9e48632d",
   "metadata": {},
   "source": [
    "<figure>\n",
    "  <img src=\"pictures/MT_domain.png\">\n",
    "  <figcaption>\n",
    "    <center>\n",
    "      Figure 2.1: Example 1: MT domain,\n",
    "    </center>\n",
    "  </figcaption>\n",
    " </figure>"
   ]
  },
  {
   "cell_type": "markdown",
   "id": "3b3ace81-3714-4ead-bd06-46d327abae45",
   "metadata": {},
   "source": [
    "Frequency domain Maxwell equations\n",
    "\n",
    "\\begin{eqnarray}\n",
    "    \\nabla\\times \\mathbf{E} +i\\omega \\mu \\mathbf{H} &=& \\mathbf{0}\\label{eq:curlE}\\\\\n",
    "    \\nabla \\times \\mathbf{H} -\\boldsymbol{\\sigma}\\mathbf{E} &=& \\mathbf{0}\\label{eq:curlH}\\\\\n",
    "    \\nabla\\cdot \\mathbf{E} &=& 0\\\\\n",
    "    \\nabla\\cdot\\mathbf{H} &=& 0\n",
    "\\end{eqnarray}"
   ]
  },
  {
   "cell_type": "markdown",
   "id": "08ce970e-7c1c-43d1-98a7-87d917e2bca3",
   "metadata": {},
   "source": [
    "\\begin{equation}\\label{EQ:E_2PDE}\n",
    "    \\nabla\\cdot(\\nabla E_2) - i\\omega\\mu\\sigma E_2 = 0.\n",
    "\\end{equation}"
   ]
  },
  {
   "cell_type": "code",
   "execution_count": null,
   "id": "990c10bb-9bee-4f82-abf8-995d004fe75f",
   "metadata": {},
   "outputs": [],
   "source": []
  }
 ],
 "metadata": {
  "kernelspec": {
   "display_name": "Python 3",
   "language": "python",
   "name": "python3"
  },
  "language_info": {
   "codemirror_mode": {
    "name": "ipython",
    "version": 3
   },
   "file_extension": ".py",
   "mimetype": "text/x-python",
   "name": "python",
   "nbconvert_exporter": "python",
   "pygments_lexer": "ipython3",
   "version": "3.9.2"
  }
 },
 "nbformat": 4,
 "nbformat_minor": 5
}
